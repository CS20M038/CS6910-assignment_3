{
  "nbformat": 4,
  "nbformat_minor": 0,
  "metadata": {
    "colab": {
      "name": "Assignment3_version2_withencoding.ipynb",
      "provenance": [],
      "collapsed_sections": [],
      "include_colab_link": true
    },
    "kernelspec": {
      "name": "python3",
      "display_name": "Python 3"
    },
    "language_info": {
      "name": "python"
    },
    "accelerator": "GPU"
  },
  "cells": [
    {
      "cell_type": "markdown",
      "metadata": {
        "id": "view-in-github",
        "colab_type": "text"
      },
      "source": [
        "<a href=\"https://colab.research.google.com/github/CS20M038/CS6910-assignment_3/blob/main/Assignment3_version2_withencoding.ipynb\" target=\"_parent\"><img src=\"https://colab.research.google.com/assets/colab-badge.svg\" alt=\"Open In Colab\"/></a>"
      ]
    },
    {
      "cell_type": "code",
      "metadata": {
        "id": "r9FRhJZG4Tlj"
      },
      "source": [
        "#@title Import Libraries\n",
        "from random import randint\n",
        "from numpy import array\n",
        "from numpy import argmax\n",
        "import keras.backend as K\n",
        "from tensorflow.keras import models\n",
        "from numpy import array_equal\n",
        "import numpy as np\n",
        "from tensorflow.keras.models import Sequential, Model\n",
        "from tensorflow.keras.layers import LSTM, Bidirectional\n",
        "from tensorflow.keras.layers import Dense, Flatten\n",
        "from tensorflow.keras import Input\n",
        "from tensorflow.keras.layers import TimeDistributed\n",
        "from tensorflow.keras.layers import RepeatVector\n",
        "from tensorflow.keras.callbacks import EarlyStopping\n",
        "from tensorflow.keras.utils import plot_model\n",
        "from tensorflow.keras.models import load_model\n",
        "import matplotlib.pyplot as plt\n",
        "\n",
        "from tensorflow.keras.layers import Lambda\n",
        "from tensorflow.keras import backend as K\n",
        "\n",
        "from scipy.ndimage.interpolation import shift\n",
        "import csv\n",
        "import random\n",
        "from numpy import array\n",
        "from keras.preprocessing.text import one_hot\n",
        "from keras.preprocessing.sequence import pad_sequences\n",
        "from keras.models import Sequential\n",
        "from keras.layers import Dense\n",
        "from keras.layers import Flatten\n",
        "from keras.layers.embeddings import Embedding"
      ],
      "execution_count": 2,
      "outputs": []
    },
    {
      "cell_type": "code",
      "metadata": {
        "colab": {
          "base_uri": "https://localhost:8080/"
        },
        "id": "EIaBBs1MQ3t_",
        "outputId": "d424a324-4092-4aaf-ce5c-a0402d7aef6f"
      },
      "source": [
        "#@title Check GPU\n",
        "%tensorflow_version 2.x\n",
        "import tensorflow as tf\n",
        "device_name = tf.test.gpu_device_name()\n",
        "if device_name != '/device:GPU:0':\n",
        "  print('GPU device not found')\n",
        "else:\n",
        "  print('Found GPU at: {}'.format(device_name))"
      ],
      "execution_count": 3,
      "outputs": [
        {
          "output_type": "stream",
          "text": [
            "Found GPU at: /device:GPU:0\n"
          ],
          "name": "stdout"
        }
      ]
    },
    {
      "cell_type": "code",
      "metadata": {
        "id": "mVCJoGo1x1kQ"
      },
      "source": [
        "input_characters =[' ']\n",
        "target_characters = [' ']"
      ],
      "execution_count": 4,
      "outputs": []
    },
    {
      "cell_type": "code",
      "metadata": {
        "colab": {
          "base_uri": "https://localhost:8080/"
        },
        "id": "Gy16qpTY4Wgr",
        "outputId": "2be77375-f76a-41f1-e1a1-1cc7342f562d"
      },
      "source": [
        "input_dict=['-PAD-']\n",
        "target_dict=['-PAD-']\n",
        "eng_alphabets = 'abcdefghijklmnopqrstuvwxyz'\n",
        "pad_char = '-PAD-'\n",
        "\n",
        "eng_alpha2index = {pad_char: 0}\n",
        "for index, alpha in enumerate(eng_alphabets):\n",
        "    eng_alpha2index[alpha] = index+1\n",
        "    input_dict.append(alpha)\n",
        "\n",
        "print(eng_alpha2index)\n",
        "print(input_dict)\n",
        "# Hindi Unicode Hex Range is 2304:2432. Source: https://en.wikipedia.org/wiki/Devanagari_(Unicode_block)\n",
        "\n",
        "hindi_alphabets = [chr(alpha) for alpha in range(2304, 2432)]\n",
        "hindi_alphabet_size = len(hindi_alphabets)\n",
        "\n",
        "hindi_alpha2index = {pad_char: 0}\n",
        "for index, alpha in enumerate(hindi_alphabets):\n",
        "    hindi_alpha2index[alpha] = index+1\n",
        "    target_dict.append(alpha)\n",
        "    #print(alpha)\n",
        "\n",
        "print(hindi_alpha2index)\n",
        "print(target_dict)\n",
        "\n",
        "\n",
        "# Hindi Unicode Hex Range is 2304:2432. Source: https://en.wikipedia.org/wiki/Devanagari_(Unicode_block)\n",
        "\n",
        "hindi_alphabets = [chr(alpha) for alpha in range(2304, 2432)]\n",
        "hindi_alphabet_size = len(hindi_alphabets)\n",
        "\n",
        "hindi_index2alpha = {0: pad_char}\n",
        "for index, alpha in enumerate(hindi_alphabets):\n",
        "    hindi_index2alpha[index+1] = alpha\n",
        "   # target_dict.append(alpha)\n",
        "    #print(alpha)\n",
        "\n",
        "print(hindi_index2alpha)\n",
        "\n",
        "eng_alphabets = 'abcdefghijklmnopqrstuvwxyz'\n",
        "eng_index2alpha = {0: pad_char}\n",
        "for index, alpha in enumerate(eng_alphabets):\n",
        "    eng_index2alpha[index+1] = alpha\n",
        "   # target_dict.append(alpha)\n",
        "    #print(alpha)\n",
        "\n",
        "print(eng_index2alpha)"
      ],
      "execution_count": 5,
      "outputs": [
        {
          "output_type": "stream",
          "text": [
            "{'-PAD-': 0, 'a': 1, 'b': 2, 'c': 3, 'd': 4, 'e': 5, 'f': 6, 'g': 7, 'h': 8, 'i': 9, 'j': 10, 'k': 11, 'l': 12, 'm': 13, 'n': 14, 'o': 15, 'p': 16, 'q': 17, 'r': 18, 's': 19, 't': 20, 'u': 21, 'v': 22, 'w': 23, 'x': 24, 'y': 25, 'z': 26}\n",
            "['-PAD-', 'a', 'b', 'c', 'd', 'e', 'f', 'g', 'h', 'i', 'j', 'k', 'l', 'm', 'n', 'o', 'p', 'q', 'r', 's', 't', 'u', 'v', 'w', 'x', 'y', 'z']\n",
            "{'-PAD-': 0, 'ऀ': 1, 'ँ': 2, 'ं': 3, 'ः': 4, 'ऄ': 5, 'अ': 6, 'आ': 7, 'इ': 8, 'ई': 9, 'उ': 10, 'ऊ': 11, 'ऋ': 12, 'ऌ': 13, 'ऍ': 14, 'ऎ': 15, 'ए': 16, 'ऐ': 17, 'ऑ': 18, 'ऒ': 19, 'ओ': 20, 'औ': 21, 'क': 22, 'ख': 23, 'ग': 24, 'घ': 25, 'ङ': 26, 'च': 27, 'छ': 28, 'ज': 29, 'झ': 30, 'ञ': 31, 'ट': 32, 'ठ': 33, 'ड': 34, 'ढ': 35, 'ण': 36, 'त': 37, 'थ': 38, 'द': 39, 'ध': 40, 'न': 41, 'ऩ': 42, 'प': 43, 'फ': 44, 'ब': 45, 'भ': 46, 'म': 47, 'य': 48, 'र': 49, 'ऱ': 50, 'ल': 51, 'ळ': 52, 'ऴ': 53, 'व': 54, 'श': 55, 'ष': 56, 'स': 57, 'ह': 58, 'ऺ': 59, 'ऻ': 60, '़': 61, 'ऽ': 62, 'ा': 63, 'ि': 64, 'ी': 65, 'ु': 66, 'ू': 67, 'ृ': 68, 'ॄ': 69, 'ॅ': 70, 'ॆ': 71, 'े': 72, 'ै': 73, 'ॉ': 74, 'ॊ': 75, 'ो': 76, 'ौ': 77, '्': 78, 'ॎ': 79, 'ॏ': 80, 'ॐ': 81, '॑': 82, '॒': 83, '॓': 84, '॔': 85, 'ॕ': 86, 'ॖ': 87, 'ॗ': 88, 'क़': 89, 'ख़': 90, 'ग़': 91, 'ज़': 92, 'ड़': 93, 'ढ़': 94, 'फ़': 95, 'य़': 96, 'ॠ': 97, 'ॡ': 98, 'ॢ': 99, 'ॣ': 100, '।': 101, '॥': 102, '०': 103, '१': 104, '२': 105, '३': 106, '४': 107, '५': 108, '६': 109, '७': 110, '८': 111, '९': 112, '॰': 113, 'ॱ': 114, 'ॲ': 115, 'ॳ': 116, 'ॴ': 117, 'ॵ': 118, 'ॶ': 119, 'ॷ': 120, 'ॸ': 121, 'ॹ': 122, 'ॺ': 123, 'ॻ': 124, 'ॼ': 125, 'ॽ': 126, 'ॾ': 127, 'ॿ': 128}\n",
            "['-PAD-', 'ऀ', 'ँ', 'ं', 'ः', 'ऄ', 'अ', 'आ', 'इ', 'ई', 'उ', 'ऊ', 'ऋ', 'ऌ', 'ऍ', 'ऎ', 'ए', 'ऐ', 'ऑ', 'ऒ', 'ओ', 'औ', 'क', 'ख', 'ग', 'घ', 'ङ', 'च', 'छ', 'ज', 'झ', 'ञ', 'ट', 'ठ', 'ड', 'ढ', 'ण', 'त', 'थ', 'द', 'ध', 'न', 'ऩ', 'प', 'फ', 'ब', 'भ', 'म', 'य', 'र', 'ऱ', 'ल', 'ळ', 'ऴ', 'व', 'श', 'ष', 'स', 'ह', 'ऺ', 'ऻ', '़', 'ऽ', 'ा', 'ि', 'ी', 'ु', 'ू', 'ृ', 'ॄ', 'ॅ', 'ॆ', 'े', 'ै', 'ॉ', 'ॊ', 'ो', 'ौ', '्', 'ॎ', 'ॏ', 'ॐ', '॑', '॒', '॓', '॔', 'ॕ', 'ॖ', 'ॗ', 'क़', 'ख़', 'ग़', 'ज़', 'ड़', 'ढ़', 'फ़', 'य़', 'ॠ', 'ॡ', 'ॢ', 'ॣ', '।', '॥', '०', '१', '२', '३', '४', '५', '६', '७', '८', '९', '॰', 'ॱ', 'ॲ', 'ॳ', 'ॴ', 'ॵ', 'ॶ', 'ॷ', 'ॸ', 'ॹ', 'ॺ', 'ॻ', 'ॼ', 'ॽ', 'ॾ', 'ॿ']\n",
            "{0: '-PAD-', 1: 'ऀ', 2: 'ँ', 3: 'ं', 4: 'ः', 5: 'ऄ', 6: 'अ', 7: 'आ', 8: 'इ', 9: 'ई', 10: 'उ', 11: 'ऊ', 12: 'ऋ', 13: 'ऌ', 14: 'ऍ', 15: 'ऎ', 16: 'ए', 17: 'ऐ', 18: 'ऑ', 19: 'ऒ', 20: 'ओ', 21: 'औ', 22: 'क', 23: 'ख', 24: 'ग', 25: 'घ', 26: 'ङ', 27: 'च', 28: 'छ', 29: 'ज', 30: 'झ', 31: 'ञ', 32: 'ट', 33: 'ठ', 34: 'ड', 35: 'ढ', 36: 'ण', 37: 'त', 38: 'थ', 39: 'द', 40: 'ध', 41: 'न', 42: 'ऩ', 43: 'प', 44: 'फ', 45: 'ब', 46: 'भ', 47: 'म', 48: 'य', 49: 'र', 50: 'ऱ', 51: 'ल', 52: 'ळ', 53: 'ऴ', 54: 'व', 55: 'श', 56: 'ष', 57: 'स', 58: 'ह', 59: 'ऺ', 60: 'ऻ', 61: '़', 62: 'ऽ', 63: 'ा', 64: 'ि', 65: 'ी', 66: 'ु', 67: 'ू', 68: 'ृ', 69: 'ॄ', 70: 'ॅ', 71: 'ॆ', 72: 'े', 73: 'ै', 74: 'ॉ', 75: 'ॊ', 76: 'ो', 77: 'ौ', 78: '्', 79: 'ॎ', 80: 'ॏ', 81: 'ॐ', 82: '॑', 83: '॒', 84: '॓', 85: '॔', 86: 'ॕ', 87: 'ॖ', 88: 'ॗ', 89: 'क़', 90: 'ख़', 91: 'ग़', 92: 'ज़', 93: 'ड़', 94: 'ढ़', 95: 'फ़', 96: 'य़', 97: 'ॠ', 98: 'ॡ', 99: 'ॢ', 100: 'ॣ', 101: '।', 102: '॥', 103: '०', 104: '१', 105: '२', 106: '३', 107: '४', 108: '५', 109: '६', 110: '७', 111: '८', 112: '९', 113: '॰', 114: 'ॱ', 115: 'ॲ', 116: 'ॳ', 117: 'ॴ', 118: 'ॵ', 119: 'ॶ', 120: 'ॷ', 121: 'ॸ', 122: 'ॹ', 123: 'ॺ', 124: 'ॻ', 125: 'ॼ', 126: 'ॽ', 127: 'ॾ', 128: 'ॿ'}\n",
            "{0: '-PAD-', 1: 'a', 2: 'b', 3: 'c', 4: 'd', 5: 'e', 6: 'f', 7: 'g', 8: 'h', 9: 'i', 10: 'j', 11: 'k', 12: 'l', 13: 'm', 14: 'n', 15: 'o', 16: 'p', 17: 'q', 18: 'r', 19: 's', 20: 't', 21: 'u', 22: 'v', 23: 'w', 24: 'x', 25: 'y', 26: 'z'}\n"
          ],
          "name": "stdout"
        }
      ]
    },
    {
      "cell_type": "code",
      "metadata": {
        "id": "i9NIsLE6j_3h"
      },
      "source": [
        "def printTargetWord(seq):\n",
        "    word = \"\"\n",
        "    for chr in seq:\n",
        "        #print(chr)\n",
        "        if chr == 0:\n",
        "            break\n",
        "        word=word+hindi_index2alpha[int(chr)]\n",
        "    return word\n",
        "def printInputWord(seq):\n",
        "    word = \"\"\n",
        "    for chr in seq:\n",
        "        if chr==0:\n",
        "            break\n",
        "        word=word+eng_index2alpha[int(chr)]\n",
        "    return word"
      ],
      "execution_count": 6,
      "outputs": []
    },
    {
      "cell_type": "code",
      "metadata": {
        "colab": {
          "base_uri": "https://localhost:8080/",
          "height": 35
        },
        "id": "9XSP4jmWiWij",
        "outputId": "6e152b26-47df-48ee-ba2e-53ee5cdf17e8"
      },
      "source": [
        "printInputWord([1, 14, 11, 0, 0, 0, 0, 0, 0, 0, 0, 0, 0, 0, 0, 0, 0, 0, 0, 0, 0])"
      ],
      "execution_count": 7,
      "outputs": [
        {
          "output_type": "execute_result",
          "data": {
            "application/vnd.google.colaboratory.intrinsic+json": {
              "type": "string"
            },
            "text/plain": [
              "'ank'"
            ]
          },
          "metadata": {
            "tags": []
          },
          "execution_count": 7
        }
      ]
    },
    {
      "cell_type": "code",
      "metadata": {
        "id": "QQ0aXzuU5ifS"
      },
      "source": [
        "def readXmlDataset(filename):\n",
        "        tsv_file = open(filename)\n",
        "        read_tsv = csv.reader(tsv_file, delimiter=\"\\t\")\n",
        "        lang1_words = []\n",
        "        lang2_words = []\n",
        "\n",
        "        for row in read_tsv:\n",
        "            lang2_words.append(row[0])\n",
        "            lang1_words.append(row[1])\n",
        "            #print(row[0])\n",
        "\n",
        "        return lang1_words, lang2_words\n",
        "train_input_texts, train_target_texts = readXmlDataset('hi.translit.sampled.train.tsv')\n",
        "test_input_texts, test_target_texts = readXmlDataset('hi.translit.sampled.test.tsv')"
      ],
      "execution_count": 8,
      "outputs": []
    },
    {
      "cell_type": "markdown",
      "metadata": {
        "id": "A69k7rDuWr0g"
      },
      "source": [
        "#Embedding the input texts"
      ]
    },
    {
      "cell_type": "code",
      "metadata": {
        "colab": {
          "base_uri": "https://localhost:8080/"
        },
        "id": "Ck5H9-yvlCtg",
        "outputId": "4f5f4bbb-9440-4116-8518-f02eae7d7e45"
      },
      "source": [
        "max_length=25\n",
        "def gt_integer_code(word, letter2index, device = 'cpu'):\n",
        "    gt_rep = []\n",
        "    #print(gt_rep)\n",
        "    for letter_index, letter in enumerate(word):\n",
        "        pos = letter2index[letter]\n",
        "        gt_rep.append(pos)\n",
        "    length = len(gt_rep)\n",
        "    pad = [0]*(max_length-length)\n",
        "    gt_rep = gt_rep+pad\n",
        "   # gt_rep.append(letter2index[pad_char])\n",
        "    return gt_rep\n",
        "#print(word_rep('abc',eng_alpha2index))\n",
        "gt_integer_code('abc',eng_alpha2index)"
      ],
      "execution_count": 9,
      "outputs": [
        {
          "output_type": "execute_result",
          "data": {
            "text/plain": [
              "[1, 2, 3, 0, 0, 0, 0, 0, 0, 0, 0, 0, 0, 0, 0, 0, 0, 0, 0, 0, 0, 0, 0, 0, 0]"
            ]
          },
          "metadata": {
            "tags": []
          },
          "execution_count": 9
        }
      ]
    },
    {
      "cell_type": "code",
      "metadata": {
        "id": "s-9mL3FnlqNh",
        "colab": {
          "base_uri": "https://localhost:8080/",
          "height": 52
        },
        "outputId": "a43d0ebd-60dc-4301-9201-da098cc5ad2b"
      },
      "source": [
        "def doc_integer_code(doc,letter2index):\n",
        "    doc_integer_coded=[]\n",
        "    for i, data in enumerate(doc):\n",
        "        doc_integer_coded.append(gt_integer_code(data,letter2index))\n",
        "    return doc_integer_coded\n",
        "print((doc_integer_code(train_input_texts[0:3],eng_alpha2index)[2]))\n",
        "train_input_texts[2]"
      ],
      "execution_count": 10,
      "outputs": [
        {
          "output_type": "stream",
          "text": [
            "[21, 14, 3, 12, 5, 0, 0, 0, 0, 0, 0, 0, 0, 0, 0, 0, 0, 0, 0, 0, 0, 0, 0, 0, 0]\n"
          ],
          "name": "stdout"
        },
        {
          "output_type": "execute_result",
          "data": {
            "application/vnd.google.colaboratory.intrinsic+json": {
              "type": "string"
            },
            "text/plain": [
              "'uncle'"
            ]
          },
          "metadata": {
            "tags": []
          },
          "execution_count": 10
        }
      ]
    },
    {
      "cell_type": "code",
      "metadata": {
        "colab": {
          "base_uri": "https://localhost:8080/"
        },
        "id": "nZYqsmsY8VWP",
        "outputId": "69cc0af6-ed3b-4abf-8c83-b22ac35b600b"
      },
      "source": [
        "def gt_integer_code2(word, letter2index, device = 'cpu'):\n",
        "    gt_rep = []\n",
        "    #print(gt_rep)\n",
        "    for letter_index, letter in enumerate(word):\n",
        "        pos = letter2index[letter]\n",
        "        gt_rep.append(pos)\n",
        "    #length = len(gt_rep)\n",
        "    #pad = [0]*(max_length-length)\n",
        "    #gt_rep = gt_rep+pad\n",
        "    gt_rep.append(letter2index[pad_char])\n",
        "    return gt_rep\n",
        "#print(word_rep('abc',eng_alpha2index))\n",
        "(gt_integer_code2('abc',eng_alpha2index))"
      ],
      "execution_count": 11,
      "outputs": [
        {
          "output_type": "execute_result",
          "data": {
            "text/plain": [
              "[1, 2, 3, 0]"
            ]
          },
          "metadata": {
            "tags": []
          },
          "execution_count": 11
        }
      ]
    },
    {
      "cell_type": "code",
      "metadata": {
        "colab": {
          "base_uri": "https://localhost:8080/"
        },
        "id": "W2BXhLWk8VWR",
        "outputId": "fcb5d508-0959-4b85-ab47-e00ca25c3ddf"
      },
      "source": [
        "def doc_integer_code2(doc,letter2index):\n",
        "    doc_integer_coded=[]\n",
        "    for i, data in enumerate(doc):\n",
        "        doc_integer_coded.append(gt_integer_code2(data,letter2index))\n",
        "    return doc_integer_coded\n",
        "print((doc_integer_code2(train_input_texts[0:3],eng_alpha2index)[2]))\n",
        "train_input_texts[2]\n",
        "doc_integer_code2(train_input_texts,eng_alpha2index)[2]"
      ],
      "execution_count": 12,
      "outputs": [
        {
          "output_type": "stream",
          "text": [
            "[21, 14, 3, 12, 5, 0]\n"
          ],
          "name": "stdout"
        },
        {
          "output_type": "execute_result",
          "data": {
            "text/plain": [
              "[21, 14, 3, 12, 5, 0]"
            ]
          },
          "metadata": {
            "tags": []
          },
          "execution_count": 12
        }
      ]
    },
    {
      "cell_type": "code",
      "metadata": {
        "id": "P-7LtKQHEw8L"
      },
      "source": [
        "def get_embedding2(dataset,letter2index):\n",
        "    encoded_docs=doc_integer_code2(dataset,letter2index)\n",
        "    padded_docs = pad_sequences(encoded_docs, maxlen=max_length, padding='post')\n",
        "    padded_docs =encoded_docs\n",
        "    return model_embed.predict(padded_docs)"
      ],
      "execution_count": 13,
      "outputs": []
    },
    {
      "cell_type": "code",
      "metadata": {
        "colab": {
          "base_uri": "https://localhost:8080/"
        },
        "id": "F4k68uJGWWfX",
        "outputId": "2a536e79-6057-41da-f4dc-fda22a440158"
      },
      "source": [
        "#encoded_docs=doc_integer_code(train_input_texts,eng_alpha2index)\n",
        "max_length = 25\n",
        "vocab_size = 50\n",
        "#padded_docs = pad_sequences(encoded_docs, maxlen=max_length, padding='post')\n",
        "# define the model\n",
        "model_embed = Sequential()\n",
        "model_embed.add(Embedding(vocab_size, 27, input_length=max_length))\n",
        "model_embed.compile(optimizer='adam', loss='binary_crossentropy', metrics=['accuracy'])\n",
        "# summarize the model\n",
        "print(model_embed.summary())\n",
        "def get_embedding(dataset,letter2index):\n",
        "    encoded_docs=doc_integer_code(dataset,letter2index)\n",
        "    #padded_docs = pad_sequences(encoded_docs, maxlen=max_length, padding='post')\n",
        "    padded_docs =encoded_docs\n",
        "    return model_embed.predict(padded_docs)\n",
        "\n",
        "\n",
        "#X_train_padded = model_embed.predict(padded_docs)\n",
        "#print(X_train_padded.shape)\n",
        "#print(type(X_train_padded))"
      ],
      "execution_count": 14,
      "outputs": [
        {
          "output_type": "stream",
          "text": [
            "Model: \"sequential\"\n",
            "_________________________________________________________________\n",
            "Layer (type)                 Output Shape              Param #   \n",
            "=================================================================\n",
            "embedding (Embedding)        (None, 25, 27)            1350      \n",
            "=================================================================\n",
            "Total params: 1,350\n",
            "Trainable params: 1,350\n",
            "Non-trainable params: 0\n",
            "_________________________________________________________________\n",
            "None\n"
          ],
          "name": "stdout"
        }
      ]
    },
    {
      "cell_type": "code",
      "metadata": {
        "colab": {
          "base_uri": "https://localhost:8080/"
        },
        "id": "sPGZBk5oWWh2",
        "outputId": "99c19559-de35-49a9-9e15-c79a0db29251"
      },
      "source": [
        "X_train_padded = get_embedding(train_input_texts,eng_alpha2index)\n",
        "print(X_train_padded.shape)\n",
        "print(type(X_train_padded))\n",
        "X_test_padded = get_embedding(test_input_texts,eng_alpha2index)\n",
        "print(X_test_padded.shape)\n",
        "print(type(X_test_padded))"
      ],
      "execution_count": 15,
      "outputs": [
        {
          "output_type": "stream",
          "text": [
            "(44204, 25, 27)\n",
            "<class 'numpy.ndarray'>\n",
            "(4502, 25, 27)\n",
            "<class 'numpy.ndarray'>\n"
          ],
          "name": "stdout"
        }
      ]
    },
    {
      "cell_type": "code",
      "metadata": {
        "colab": {
          "base_uri": "https://localhost:8080/"
        },
        "id": "N7KgGK1B0naW",
        "outputId": "47431492-6338-48d5-e2d1-90c1c3ca158e"
      },
      "source": [
        "X_test_padded[0]"
      ],
      "execution_count": 16,
      "outputs": [
        {
          "output_type": "execute_result",
          "data": {
            "text/plain": [
              "array([[-0.01684539, -0.00093144, -0.04498884, -0.04306152,  0.02897603,\n",
              "        -0.03122258, -0.02423501,  0.03054381, -0.03044633,  0.01676998,\n",
              "         0.04350395, -0.01103575, -0.03694405,  0.03062954, -0.03943662,\n",
              "         0.0298497 ,  0.04982454,  0.01783581,  0.01092928,  0.03546324,\n",
              "         0.02698047,  0.02002725,  0.01653074, -0.01364923,  0.04226304,\n",
              "        -0.01117956,  0.02142515],\n",
              "       [ 0.01880706,  0.03529947, -0.00088391,  0.01730463,  0.04263068,\n",
              "         0.00407629,  0.01282469, -0.01745466,  0.03131231, -0.01111545,\n",
              "        -0.0347657 , -0.01415227, -0.03063948,  0.04215157,  0.0073138 ,\n",
              "        -0.02608013, -0.04337315,  0.01175234, -0.01635293, -0.02176874,\n",
              "         0.04273966,  0.00959348, -0.03308815, -0.04395678,  0.00965023,\n",
              "        -0.02025654, -0.01939796],\n",
              "       [-0.04646669, -0.00328764, -0.00467537,  0.03524372,  0.0002665 ,\n",
              "        -0.0218753 , -0.00284155, -0.02671268, -0.02458905,  0.04952306,\n",
              "         0.00598993,  0.03029763,  0.01954191, -0.02962618,  0.04078374,\n",
              "        -0.02930672, -0.03535038, -0.00412706,  0.00447928,  0.02497096,\n",
              "        -0.03812001, -0.04783204,  0.02202156, -0.03737867, -0.03251223,\n",
              "         0.04134801,  0.01932469],\n",
              "       [-0.00685227,  0.00674342,  0.03028386,  0.03013343,  0.01301408,\n",
              "        -0.03117148, -0.02308895,  0.04534156,  0.02091298, -0.04153057,\n",
              "        -0.00136561, -0.03594103, -0.03602888, -0.00980337,  0.02215544,\n",
              "        -0.00640585, -0.04942539,  0.02809354,  0.01764813, -0.00211262,\n",
              "         0.01757998,  0.00955441,  0.03127492, -0.0327894 ,  0.01650511,\n",
              "         0.03567178,  0.03702195],\n",
              "       [-0.00685227,  0.00674342,  0.03028386,  0.03013343,  0.01301408,\n",
              "        -0.03117148, -0.02308895,  0.04534156,  0.02091298, -0.04153057,\n",
              "        -0.00136561, -0.03594103, -0.03602888, -0.00980337,  0.02215544,\n",
              "        -0.00640585, -0.04942539,  0.02809354,  0.01764813, -0.00211262,\n",
              "         0.01757998,  0.00955441,  0.03127492, -0.0327894 ,  0.01650511,\n",
              "         0.03567178,  0.03702195],\n",
              "       [-0.00685227,  0.00674342,  0.03028386,  0.03013343,  0.01301408,\n",
              "        -0.03117148, -0.02308895,  0.04534156,  0.02091298, -0.04153057,\n",
              "        -0.00136561, -0.03594103, -0.03602888, -0.00980337,  0.02215544,\n",
              "        -0.00640585, -0.04942539,  0.02809354,  0.01764813, -0.00211262,\n",
              "         0.01757998,  0.00955441,  0.03127492, -0.0327894 ,  0.01650511,\n",
              "         0.03567178,  0.03702195],\n",
              "       [-0.00685227,  0.00674342,  0.03028386,  0.03013343,  0.01301408,\n",
              "        -0.03117148, -0.02308895,  0.04534156,  0.02091298, -0.04153057,\n",
              "        -0.00136561, -0.03594103, -0.03602888, -0.00980337,  0.02215544,\n",
              "        -0.00640585, -0.04942539,  0.02809354,  0.01764813, -0.00211262,\n",
              "         0.01757998,  0.00955441,  0.03127492, -0.0327894 ,  0.01650511,\n",
              "         0.03567178,  0.03702195],\n",
              "       [-0.00685227,  0.00674342,  0.03028386,  0.03013343,  0.01301408,\n",
              "        -0.03117148, -0.02308895,  0.04534156,  0.02091298, -0.04153057,\n",
              "        -0.00136561, -0.03594103, -0.03602888, -0.00980337,  0.02215544,\n",
              "        -0.00640585, -0.04942539,  0.02809354,  0.01764813, -0.00211262,\n",
              "         0.01757998,  0.00955441,  0.03127492, -0.0327894 ,  0.01650511,\n",
              "         0.03567178,  0.03702195],\n",
              "       [-0.00685227,  0.00674342,  0.03028386,  0.03013343,  0.01301408,\n",
              "        -0.03117148, -0.02308895,  0.04534156,  0.02091298, -0.04153057,\n",
              "        -0.00136561, -0.03594103, -0.03602888, -0.00980337,  0.02215544,\n",
              "        -0.00640585, -0.04942539,  0.02809354,  0.01764813, -0.00211262,\n",
              "         0.01757998,  0.00955441,  0.03127492, -0.0327894 ,  0.01650511,\n",
              "         0.03567178,  0.03702195],\n",
              "       [-0.00685227,  0.00674342,  0.03028386,  0.03013343,  0.01301408,\n",
              "        -0.03117148, -0.02308895,  0.04534156,  0.02091298, -0.04153057,\n",
              "        -0.00136561, -0.03594103, -0.03602888, -0.00980337,  0.02215544,\n",
              "        -0.00640585, -0.04942539,  0.02809354,  0.01764813, -0.00211262,\n",
              "         0.01757998,  0.00955441,  0.03127492, -0.0327894 ,  0.01650511,\n",
              "         0.03567178,  0.03702195],\n",
              "       [-0.00685227,  0.00674342,  0.03028386,  0.03013343,  0.01301408,\n",
              "        -0.03117148, -0.02308895,  0.04534156,  0.02091298, -0.04153057,\n",
              "        -0.00136561, -0.03594103, -0.03602888, -0.00980337,  0.02215544,\n",
              "        -0.00640585, -0.04942539,  0.02809354,  0.01764813, -0.00211262,\n",
              "         0.01757998,  0.00955441,  0.03127492, -0.0327894 ,  0.01650511,\n",
              "         0.03567178,  0.03702195],\n",
              "       [-0.00685227,  0.00674342,  0.03028386,  0.03013343,  0.01301408,\n",
              "        -0.03117148, -0.02308895,  0.04534156,  0.02091298, -0.04153057,\n",
              "        -0.00136561, -0.03594103, -0.03602888, -0.00980337,  0.02215544,\n",
              "        -0.00640585, -0.04942539,  0.02809354,  0.01764813, -0.00211262,\n",
              "         0.01757998,  0.00955441,  0.03127492, -0.0327894 ,  0.01650511,\n",
              "         0.03567178,  0.03702195],\n",
              "       [-0.00685227,  0.00674342,  0.03028386,  0.03013343,  0.01301408,\n",
              "        -0.03117148, -0.02308895,  0.04534156,  0.02091298, -0.04153057,\n",
              "        -0.00136561, -0.03594103, -0.03602888, -0.00980337,  0.02215544,\n",
              "        -0.00640585, -0.04942539,  0.02809354,  0.01764813, -0.00211262,\n",
              "         0.01757998,  0.00955441,  0.03127492, -0.0327894 ,  0.01650511,\n",
              "         0.03567178,  0.03702195],\n",
              "       [-0.00685227,  0.00674342,  0.03028386,  0.03013343,  0.01301408,\n",
              "        -0.03117148, -0.02308895,  0.04534156,  0.02091298, -0.04153057,\n",
              "        -0.00136561, -0.03594103, -0.03602888, -0.00980337,  0.02215544,\n",
              "        -0.00640585, -0.04942539,  0.02809354,  0.01764813, -0.00211262,\n",
              "         0.01757998,  0.00955441,  0.03127492, -0.0327894 ,  0.01650511,\n",
              "         0.03567178,  0.03702195],\n",
              "       [-0.00685227,  0.00674342,  0.03028386,  0.03013343,  0.01301408,\n",
              "        -0.03117148, -0.02308895,  0.04534156,  0.02091298, -0.04153057,\n",
              "        -0.00136561, -0.03594103, -0.03602888, -0.00980337,  0.02215544,\n",
              "        -0.00640585, -0.04942539,  0.02809354,  0.01764813, -0.00211262,\n",
              "         0.01757998,  0.00955441,  0.03127492, -0.0327894 ,  0.01650511,\n",
              "         0.03567178,  0.03702195],\n",
              "       [-0.00685227,  0.00674342,  0.03028386,  0.03013343,  0.01301408,\n",
              "        -0.03117148, -0.02308895,  0.04534156,  0.02091298, -0.04153057,\n",
              "        -0.00136561, -0.03594103, -0.03602888, -0.00980337,  0.02215544,\n",
              "        -0.00640585, -0.04942539,  0.02809354,  0.01764813, -0.00211262,\n",
              "         0.01757998,  0.00955441,  0.03127492, -0.0327894 ,  0.01650511,\n",
              "         0.03567178,  0.03702195],\n",
              "       [-0.00685227,  0.00674342,  0.03028386,  0.03013343,  0.01301408,\n",
              "        -0.03117148, -0.02308895,  0.04534156,  0.02091298, -0.04153057,\n",
              "        -0.00136561, -0.03594103, -0.03602888, -0.00980337,  0.02215544,\n",
              "        -0.00640585, -0.04942539,  0.02809354,  0.01764813, -0.00211262,\n",
              "         0.01757998,  0.00955441,  0.03127492, -0.0327894 ,  0.01650511,\n",
              "         0.03567178,  0.03702195],\n",
              "       [-0.00685227,  0.00674342,  0.03028386,  0.03013343,  0.01301408,\n",
              "        -0.03117148, -0.02308895,  0.04534156,  0.02091298, -0.04153057,\n",
              "        -0.00136561, -0.03594103, -0.03602888, -0.00980337,  0.02215544,\n",
              "        -0.00640585, -0.04942539,  0.02809354,  0.01764813, -0.00211262,\n",
              "         0.01757998,  0.00955441,  0.03127492, -0.0327894 ,  0.01650511,\n",
              "         0.03567178,  0.03702195],\n",
              "       [-0.00685227,  0.00674342,  0.03028386,  0.03013343,  0.01301408,\n",
              "        -0.03117148, -0.02308895,  0.04534156,  0.02091298, -0.04153057,\n",
              "        -0.00136561, -0.03594103, -0.03602888, -0.00980337,  0.02215544,\n",
              "        -0.00640585, -0.04942539,  0.02809354,  0.01764813, -0.00211262,\n",
              "         0.01757998,  0.00955441,  0.03127492, -0.0327894 ,  0.01650511,\n",
              "         0.03567178,  0.03702195],\n",
              "       [-0.00685227,  0.00674342,  0.03028386,  0.03013343,  0.01301408,\n",
              "        -0.03117148, -0.02308895,  0.04534156,  0.02091298, -0.04153057,\n",
              "        -0.00136561, -0.03594103, -0.03602888, -0.00980337,  0.02215544,\n",
              "        -0.00640585, -0.04942539,  0.02809354,  0.01764813, -0.00211262,\n",
              "         0.01757998,  0.00955441,  0.03127492, -0.0327894 ,  0.01650511,\n",
              "         0.03567178,  0.03702195],\n",
              "       [-0.00685227,  0.00674342,  0.03028386,  0.03013343,  0.01301408,\n",
              "        -0.03117148, -0.02308895,  0.04534156,  0.02091298, -0.04153057,\n",
              "        -0.00136561, -0.03594103, -0.03602888, -0.00980337,  0.02215544,\n",
              "        -0.00640585, -0.04942539,  0.02809354,  0.01764813, -0.00211262,\n",
              "         0.01757998,  0.00955441,  0.03127492, -0.0327894 ,  0.01650511,\n",
              "         0.03567178,  0.03702195],\n",
              "       [-0.00685227,  0.00674342,  0.03028386,  0.03013343,  0.01301408,\n",
              "        -0.03117148, -0.02308895,  0.04534156,  0.02091298, -0.04153057,\n",
              "        -0.00136561, -0.03594103, -0.03602888, -0.00980337,  0.02215544,\n",
              "        -0.00640585, -0.04942539,  0.02809354,  0.01764813, -0.00211262,\n",
              "         0.01757998,  0.00955441,  0.03127492, -0.0327894 ,  0.01650511,\n",
              "         0.03567178,  0.03702195],\n",
              "       [-0.00685227,  0.00674342,  0.03028386,  0.03013343,  0.01301408,\n",
              "        -0.03117148, -0.02308895,  0.04534156,  0.02091298, -0.04153057,\n",
              "        -0.00136561, -0.03594103, -0.03602888, -0.00980337,  0.02215544,\n",
              "        -0.00640585, -0.04942539,  0.02809354,  0.01764813, -0.00211262,\n",
              "         0.01757998,  0.00955441,  0.03127492, -0.0327894 ,  0.01650511,\n",
              "         0.03567178,  0.03702195],\n",
              "       [-0.00685227,  0.00674342,  0.03028386,  0.03013343,  0.01301408,\n",
              "        -0.03117148, -0.02308895,  0.04534156,  0.02091298, -0.04153057,\n",
              "        -0.00136561, -0.03594103, -0.03602888, -0.00980337,  0.02215544,\n",
              "        -0.00640585, -0.04942539,  0.02809354,  0.01764813, -0.00211262,\n",
              "         0.01757998,  0.00955441,  0.03127492, -0.0327894 ,  0.01650511,\n",
              "         0.03567178,  0.03702195],\n",
              "       [-0.00685227,  0.00674342,  0.03028386,  0.03013343,  0.01301408,\n",
              "        -0.03117148, -0.02308895,  0.04534156,  0.02091298, -0.04153057,\n",
              "        -0.00136561, -0.03594103, -0.03602888, -0.00980337,  0.02215544,\n",
              "        -0.00640585, -0.04942539,  0.02809354,  0.01764813, -0.00211262,\n",
              "         0.01757998,  0.00955441,  0.03127492, -0.0327894 ,  0.01650511,\n",
              "         0.03567178,  0.03702195]], dtype=float32)"
            ]
          },
          "metadata": {
            "tags": []
          },
          "execution_count": 16
        }
      ]
    },
    {
      "cell_type": "code",
      "metadata": {
        "colab": {
          "base_uri": "https://localhost:8080/"
        },
        "id": "01v6J22tf4U5",
        "outputId": "1d310982-05fb-426e-839c-0125b0f0e410"
      },
      "source": [
        "len(X_test_padded)"
      ],
      "execution_count": 17,
      "outputs": [
        {
          "output_type": "execute_result",
          "data": {
            "text/plain": [
              "4502"
            ]
          },
          "metadata": {
            "tags": []
          },
          "execution_count": 17
        }
      ]
    },
    {
      "cell_type": "code",
      "metadata": {
        "colab": {
          "base_uri": "https://localhost:8080/"
        },
        "id": "O6tGcj9KFmaj",
        "outputId": "d6127ef1-ea00-4714-db39-97869fda377d"
      },
      "source": [
        "X_test=[]\n",
        "lengthV=doc_integer_code2(test_input_texts,eng_alpha2index)\n",
        "for i in range(len(X_test_padded)):\n",
        " # print(i)\n",
        "  X_test.append(X_test_padded[i][0:len(lengthV[i]),])\n",
        "X_test= np.array(X_test)\n",
        "\n",
        "X_train=[]\n",
        "lengthV=doc_integer_code2(train_input_texts,eng_alpha2index)\n",
        "for i in range(len(X_train_padded)):\n",
        "  #print(i)\n",
        "  X_train.append(X_train_padded[i][0:len(lengthV[i]),])\n",
        "X_train= np.array(X_train)"
      ],
      "execution_count": 18,
      "outputs": [
        {
          "output_type": "stream",
          "text": [
            "/usr/local/lib/python3.7/dist-packages/ipykernel_launcher.py:6: VisibleDeprecationWarning: Creating an ndarray from ragged nested sequences (which is a list-or-tuple of lists-or-tuples-or ndarrays with different lengths or shapes) is deprecated. If you meant to do this, you must specify 'dtype=object' when creating the ndarray\n",
            "  \n",
            "/usr/local/lib/python3.7/dist-packages/ipykernel_launcher.py:13: VisibleDeprecationWarning: Creating an ndarray from ragged nested sequences (which is a list-or-tuple of lists-or-tuples-or ndarrays with different lengths or shapes) is deprecated. If you meant to do this, you must specify 'dtype=object' when creating the ndarray\n",
            "  del sys.path[0]\n"
          ],
          "name": "stderr"
        }
      ]
    },
    {
      "cell_type": "code",
      "metadata": {
        "colab": {
          "base_uri": "https://localhost:8080/"
        },
        "id": "3o5lkno7HKAy",
        "outputId": "d118025a-6c45-475b-c86e-bd62199ed5cd"
      },
      "source": [
        "X_test[0].shape"
      ],
      "execution_count": 19,
      "outputs": [
        {
          "output_type": "execute_result",
          "data": {
            "text/plain": [
              "(4, 27)"
            ]
          },
          "metadata": {
            "tags": []
          },
          "execution_count": 19
        }
      ]
    },
    {
      "cell_type": "markdown",
      "metadata": {
        "id": "H4llxCGFX3m2"
      },
      "source": [
        "#Encoding target texts"
      ]
    },
    {
      "cell_type": "code",
      "metadata": {
        "id": "HYtIFIHz634J"
      },
      "source": [
        "def word_rep(word, letter2index, device = 'cpu'):\n",
        "    rep = np.zeros((len(word)+1,  129))\n",
        "    for letter_index, letter in enumerate(word):\n",
        "        pos = letter2index[letter]\n",
        "        rep[letter_index][pos] = 1\n",
        "    pad_pos = letter2index[pad_char]\n",
        "    rep[letter_index+1][pad_pos] = 1\n",
        "    return rep\n",
        "\n",
        "def gt_rep(word, letter2index, device = 'cpu'):\n",
        "    gt_rep = np.zeros([len(word)+1, 1], dtype=np.long)\n",
        "    for letter_index, letter in enumerate(word):\n",
        "        pos = letter2index[letter]\n",
        "        gt_rep[letter_index][0] = pos\n",
        "    gt_rep[letter_index+1][0] = letter2index[pad_char]\n",
        "    return gt_rep\n",
        "    word_rep('abc',eng_alpha2index).shape\n",
        "    x=gt_rep('abc',eng_alpha2index)"
      ],
      "execution_count": 20,
      "outputs": []
    },
    {
      "cell_type": "code",
      "metadata": {
        "id": "BpXZ36j_5K3Y"
      },
      "source": [
        "def createDataset(dataset,letter2index):\n",
        "    X_train=[]\n",
        "    for i,data in enumerate(dataset):\n",
        "        #print(data)\n",
        "        X_train.append(word_rep(data,letter2index))\n",
        "    X_train = np.array(X_train)\n",
        "    return X_train"
      ],
      "execution_count": 21,
      "outputs": []
    },
    {
      "cell_type": "code",
      "metadata": {
        "colab": {
          "base_uri": "https://localhost:8080/"
        },
        "id": "HvYUB4gv6BTu",
        "outputId": "7c028385-5a07-4757-adc5-f23209b66613"
      },
      "source": [
        "X_train_orig = createDataset(train_input_texts,eng_alpha2index)\n",
        "y_train = createDataset(train_target_texts,hindi_alpha2index)\n",
        "X_test_orig = createDataset(test_input_texts,eng_alpha2index)\n",
        "y_test = createDataset(test_target_texts,hindi_alpha2index)"
      ],
      "execution_count": 22,
      "outputs": [
        {
          "output_type": "stream",
          "text": [
            "/usr/local/lib/python3.7/dist-packages/ipykernel_launcher.py:6: VisibleDeprecationWarning: Creating an ndarray from ragged nested sequences (which is a list-or-tuple of lists-or-tuples-or ndarrays with different lengths or shapes) is deprecated. If you meant to do this, you must specify 'dtype=object' when creating the ndarray\n",
            "  \n"
          ],
          "name": "stderr"
        }
      ]
    },
    {
      "cell_type": "code",
      "metadata": {
        "id": "r3hKQHIr0ZDQ"
      },
      "source": [
        ""
      ],
      "execution_count": 22,
      "outputs": []
    },
    {
      "cell_type": "code",
      "metadata": {
        "colab": {
          "base_uri": "https://localhost:8080/"
        },
        "id": "vW1ewK688Cfg",
        "outputId": "c95fa751-405e-4a52-b360-1f03def7c335"
      },
      "source": [
        "print(len(eng_alpha2index))\n",
        "#a=[0]*(len(eng_alpha2index)-1)\n",
        "a=[0]*128\n",
        "eng_pad=[1]\n",
        "eng_pad=eng_pad+a\n",
        "print(eng_pad)\n",
        "print(len(hindi_alpha2index))\n",
        "a=[0]*128\n",
        "hindi_pad=[1]\n",
        "hindi_pad=hindi_pad+a\n",
        "print(hindi_pad)"
      ],
      "execution_count": 23,
      "outputs": [
        {
          "output_type": "stream",
          "text": [
            "27\n",
            "[1, 0, 0, 0, 0, 0, 0, 0, 0, 0, 0, 0, 0, 0, 0, 0, 0, 0, 0, 0, 0, 0, 0, 0, 0, 0, 0, 0, 0, 0, 0, 0, 0, 0, 0, 0, 0, 0, 0, 0, 0, 0, 0, 0, 0, 0, 0, 0, 0, 0, 0, 0, 0, 0, 0, 0, 0, 0, 0, 0, 0, 0, 0, 0, 0, 0, 0, 0, 0, 0, 0, 0, 0, 0, 0, 0, 0, 0, 0, 0, 0, 0, 0, 0, 0, 0, 0, 0, 0, 0, 0, 0, 0, 0, 0, 0, 0, 0, 0, 0, 0, 0, 0, 0, 0, 0, 0, 0, 0, 0, 0, 0, 0, 0, 0, 0, 0, 0, 0, 0, 0, 0, 0, 0, 0, 0, 0, 0, 0]\n",
            "129\n",
            "[1, 0, 0, 0, 0, 0, 0, 0, 0, 0, 0, 0, 0, 0, 0, 0, 0, 0, 0, 0, 0, 0, 0, 0, 0, 0, 0, 0, 0, 0, 0, 0, 0, 0, 0, 0, 0, 0, 0, 0, 0, 0, 0, 0, 0, 0, 0, 0, 0, 0, 0, 0, 0, 0, 0, 0, 0, 0, 0, 0, 0, 0, 0, 0, 0, 0, 0, 0, 0, 0, 0, 0, 0, 0, 0, 0, 0, 0, 0, 0, 0, 0, 0, 0, 0, 0, 0, 0, 0, 0, 0, 0, 0, 0, 0, 0, 0, 0, 0, 0, 0, 0, 0, 0, 0, 0, 0, 0, 0, 0, 0, 0, 0, 0, 0, 0, 0, 0, 0, 0, 0, 0, 0, 0, 0, 0, 0, 0, 0]\n"
          ],
          "name": "stdout"
        }
      ]
    },
    {
      "cell_type": "code",
      "metadata": {
        "id": "nczkBT69KdWd"
      },
      "source": [
        "def one_hot_encode(sequence, n_unique):\n",
        "\tencoding = list()\n",
        "\tfor value in sequence:\n",
        "\t\tvector = [0 for _ in range(n_unique)]\n",
        "\t\tvector[value] = 1\n",
        "\t\tencoding.append(vector)\n",
        "\treturn array(encoding)"
      ],
      "execution_count": 24,
      "outputs": []
    },
    {
      "cell_type": "code",
      "metadata": {
        "colab": {
          "base_uri": "https://localhost:8080/"
        },
        "id": "PH7o-dfEKxHf",
        "outputId": "3037589d-8b8b-471e-b8c0-3328531e55e9"
      },
      "source": [
        "one_hot_encode([1,2,3],10)"
      ],
      "execution_count": 25,
      "outputs": [
        {
          "output_type": "execute_result",
          "data": {
            "text/plain": [
              "array([[0, 1, 0, 0, 0, 0, 0, 0, 0, 0],\n",
              "       [0, 0, 1, 0, 0, 0, 0, 0, 0, 0],\n",
              "       [0, 0, 0, 1, 0, 0, 0, 0, 0, 0]])"
            ]
          },
          "metadata": {
            "tags": []
          },
          "execution_count": 25
        }
      ]
    },
    {
      "cell_type": "code",
      "metadata": {
        "colab": {
          "base_uri": "https://localhost:8080/",
          "height": 52
        },
        "id": "ABSEIPIcGLnX",
        "outputId": "4390061a-574f-4958-aab9-0901bf2b12b3"
      },
      "source": [
        "def one_hot_decode(encoded_seq):\n",
        "\treturn [argmax(vector) for vector in encoded_seq]\n",
        "'''d=one_hot_decode(y_train_padded[5])\n",
        "c=hindi_index2alpha[6]+hindi_index2alpha[3]+hindi_index2alpha[22]+hindi_index2alpha[66]+hindi_index2alpha[49]+hindi_index2alpha[64]+hindi_index2alpha[37]+hindi_index2alpha[0]\n",
        "c'''"
      ],
      "execution_count": 26,
      "outputs": [
        {
          "output_type": "execute_result",
          "data": {
            "application/vnd.google.colaboratory.intrinsic+json": {
              "type": "string"
            },
            "text/plain": [
              "'d=one_hot_decode(y_train_padded[5])\\nc=hindi_index2alpha[6]+hindi_index2alpha[3]+hindi_index2alpha[22]+hindi_index2alpha[66]+hindi_index2alpha[49]+hindi_index2alpha[64]+hindi_index2alpha[37]+hindi_index2alpha[0]\\nc'"
            ]
          },
          "metadata": {
            "tags": []
          },
          "execution_count": 26
        }
      ]
    },
    {
      "cell_type": "code",
      "metadata": {
        "colab": {
          "base_uri": "https://localhost:8080/"
        },
        "id": "mSce-sL4HWTr",
        "outputId": "aab84e0d-3ec2-4214-fb30-1624a4dde9d3"
      },
      "source": [
        "max_input_sequence= 25\n",
        "#max(len(seq) for seq in X_train)\n",
        "max_output_sequence= 25\n",
        "#max(len(seq) for seq in y_train)\n",
        "\n",
        "print('max_input_sequence: ', max_input_sequence)\n",
        "print('max_output_sequence: ', max_output_sequence)"
      ],
      "execution_count": 27,
      "outputs": [
        {
          "output_type": "stream",
          "text": [
            "max_input_sequence:  25\n",
            "max_output_sequence:  25\n"
          ],
          "name": "stdout"
        }
      ]
    },
    {
      "cell_type": "code",
      "metadata": {
        "colab": {
          "base_uri": "https://localhost:8080/"
        },
        "id": "2abm43MfHWWG",
        "outputId": "94f8ab17-ab36-4af6-b40b-49c9bd8cd87b"
      },
      "source": [
        "from keras.preprocessing.sequence import pad_sequences\n",
        "#X_train_padded = pad_sequences(X_train, maxlen= max_input_sequence, padding='post', value=eng_pad)\n",
        "y_train_padded = pad_sequences(y_train, maxlen= max_output_sequence, padding='post', value=hindi_pad)\n",
        "#print(\"X_train shape: \",X_train.shape)\n",
        "print(\"X_train_padded shape: \",X_train_padded.shape)\n",
        "print(\"y_train shape: \",y_train.shape)\n",
        "print(\"y_train_padded shape: \",y_train_padded.shape)\n",
        "print(type(X_train_padded))\n",
        "#print(\"X_test shape: \",X_test.shape)\n",
        "#print(\"X_test_padded shape: \",X_test_padded.shape)\n",
        "#print(\"y_test shape: \",y_test.shape)\n",
        "#print(\"y_test_padded shape: \",y_test_padded.shape)\n",
        "#print(type(X_test_padded))"
      ],
      "execution_count": 28,
      "outputs": [
        {
          "output_type": "stream",
          "text": [
            "X_train_padded shape:  (44204, 25, 27)\n",
            "y_train shape:  (44204,)\n",
            "y_train_padded shape:  (44204, 25, 129)\n",
            "<class 'numpy.ndarray'>\n"
          ],
          "name": "stdout"
        }
      ]
    },
    {
      "cell_type": "code",
      "metadata": {
        "colab": {
          "base_uri": "https://localhost:8080/"
        },
        "id": "BN97C-THHWbb",
        "outputId": "b7f43109-8d0d-4938-c775-d2bf74f8a23a"
      },
      "source": [
        "#X_test_padded = pad_sequences(X_test, maxlen= max_input_sequence, padding='post', value=eng_pad)\n",
        "\n",
        "y_test_padded = pad_sequences(y_test, maxlen= max_output_sequence, padding='post', \n",
        "                              value=hindi_pad)\n",
        "#print(\"X_test shape: \",X_test.shape)\n",
        "print(\"X_test_padded shape: \",X_test_padded.shape)\n",
        "print(\"y_test shape: \",y_test.shape)\n",
        "print(\"y_test_padded shape: \",y_test_padded.shape)"
      ],
      "execution_count": 29,
      "outputs": [
        {
          "output_type": "stream",
          "text": [
            "X_test_padded shape:  (4502, 25, 27)\n",
            "y_test shape:  (4502,)\n",
            "y_test_padded shape:  (4502, 25, 129)\n"
          ],
          "name": "stdout"
        }
      ]
    },
    {
      "cell_type": "markdown",
      "metadata": {
        "id": "9L5-lVXpbuTg"
      },
      "source": [
        "#print sample sequence"
      ]
    },
    {
      "cell_type": "code",
      "metadata": {
        "id": "V5nSQeWv8U54"
      },
      "source": [
        ""
      ],
      "execution_count": 29,
      "outputs": []
    },
    {
      "cell_type": "code",
      "metadata": {
        "colab": {
          "base_uri": "https://localhost:8080/"
        },
        "id": "Wvw10trdHWY8",
        "outputId": "701b536a-6346-4029-df1b-eeabe97422cb"
      },
      "source": [
        "i=0\n",
        "print(\"____Sample Input (Raw Format)____\")\n",
        "print(\"Original:\\n\", doc_integer_code2(train_input_texts,eng_alpha2index)[i])\n",
        "print(\"Padded:\\n\",doc_integer_code(train_input_texts,eng_alpha2index)[i])\n",
        "print(\"____Corresponding Output (Raw Format)____\")\n",
        "print(\"Original:\\n\", one_hot_decode(y_train[i]))\n",
        "print(\"Padded:\\n\",one_hot_decode(y_train_padded[i]))"
      ],
      "execution_count": 30,
      "outputs": [
        {
          "output_type": "stream",
          "text": [
            "____Sample Input (Raw Format)____\n",
            "Original:\n",
            " [1, 14, 0]\n",
            "Padded:\n",
            " [1, 14, 0, 0, 0, 0, 0, 0, 0, 0, 0, 0, 0, 0, 0, 0, 0, 0, 0, 0, 0, 0, 0, 0, 0]\n",
            "____Corresponding Output (Raw Format)____\n",
            "Original:\n",
            " [6, 3, 0]\n",
            "Padded:\n",
            " [6, 3, 0, 0, 0, 0, 0, 0, 0, 0, 0, 0, 0, 0, 0, 0, 0, 0, 0, 0, 0, 0, 0, 0, 0]\n"
          ],
          "name": "stdout"
        }
      ]
    },
    {
      "cell_type": "code",
      "metadata": {
        "colab": {
          "base_uri": "https://localhost:8080/"
        },
        "id": "dWoyVxRZHWeH",
        "outputId": "43f83ac6-8273-4adf-8c30-75fef8999229"
      },
      "source": [
        "#Prepare TRAIN data set\n",
        "input_dimension = 27  \n",
        "output_dimension = 129\n",
        "encoder_input_data = X_train_padded.copy()\n",
        "decoder_target_data = y_train_padded.copy()\n",
        "decoder_input_data = decoder_target_data.copy()\n",
        "for i, samples in enumerate(decoder_target_data):\n",
        "  seq = one_hot_decode(samples)\n",
        "  shifted= shift(seq, 1, cval=0)\n",
        "  decoder_input_data[i]=one_hot_encode(shifted,output_dimension)\n",
        "print(\"Data for Train\")\n",
        "'''print('encoder_input_data (X): ', one_hot_decode(encoder_input_data[1]))\n",
        "print('decoder_input_data (teacher forcing): ',one_hot_decode(decoder_input_data[1]))\n",
        "print('decoder_target_data (y):',one_hot_decode(decoder_target_data[1]))'''\n",
        "print(\"encoder_input_shape\",encoder_input_data.shape)\n",
        "print(\"decoder_input_shape\",decoder_input_data.shape)\n",
        "\n",
        "#Prepare TEST data set\n",
        "encoder_input_test = X_test_padded.copy()\n",
        "decoder_target_test = y_test_padded.copy()\n",
        "decoder_input_test= decoder_target_test.copy()\n",
        "for i, samples in enumerate(decoder_target_test):\n",
        "  seq = one_hot_decode(samples)\n",
        "  shifted= shift(seq, 1, cval=0)\n",
        "  decoder_input_test[i]=one_hot_encode(shifted,output_dimension)"
      ],
      "execution_count": 31,
      "outputs": [
        {
          "output_type": "stream",
          "text": [
            "Data for Train\n",
            "encoder_input_shape (44204, 25, 27)\n",
            "decoder_input_shape (44204, 25, 129)\n"
          ],
          "name": "stdout"
        }
      ]
    },
    {
      "cell_type": "code",
      "metadata": {
        "id": "hqowG_YaRNUX"
      },
      "source": [
        "#title LSTMoutputDimension\n",
        "LSTMoutputDimension = 256"
      ],
      "execution_count": 32,
      "outputs": []
    },
    {
      "cell_type": "code",
      "metadata": {
        "id": "BtlvelkFHWgz"
      },
      "source": [
        "# Define an input sequence and process it.\n",
        "encoder_inputs= Input(shape=(max_input_sequence, input_dimension), name='encoder_inputs')\n",
        "\n",
        "masking = tf.keras.layers.Masking(mask_value= [1]+[0]*(input_dimension-1))\n",
        "encoder_inputs_masked = masking(encoder_inputs)\n",
        "\n",
        "#encoder_inputs_masked=encoder_inputs\n",
        "encoder_lstm=LSTM(LSTMoutputDimension, return_state=True, name='encoder_lstm')\n",
        "LSTM_outputs, state_h, state_c = encoder_lstm(encoder_inputs_masked)\n",
        "\n",
        "\n",
        "# We discard `LSTM_outputs` and only keep the other states.\n",
        "encoder_states = [state_h, state_c]\n",
        "\n",
        "\n",
        "\n",
        "decoder_inputs = Input(shape=(None, output_dimension), name='decoder_inputs')\n",
        "decoder_lstm = LSTM(LSTMoutputDimension, return_sequences=True, return_state=True, name='decoder_lstm')\n",
        "\n",
        "# Set up the decoder, using `context vector` as initial state.\n",
        "decoder_outputs, _, _ = decoder_lstm(decoder_inputs,\n",
        "                                     initial_state=encoder_states)\n",
        "\n",
        "#complete the decoder model by adding a Dense layer with Softmax activation function \n",
        "#for prediction of the next output\n",
        "#Dense layer will output one-hot encoded representation as we did for input\n",
        "#Therefore, we will use input_dimension number of neurons\n",
        "decoder_dense = Dense(output_dimension, activation='softmax', name='decoder_dense')\n",
        "decoder_outputs = decoder_dense(decoder_outputs)\n",
        "\n",
        "# put together\n",
        "model_encoder_training = Model([encoder_inputs, decoder_inputs], decoder_outputs, name='model_encoder_training')"
      ],
      "execution_count": 33,
      "outputs": []
    },
    {
      "cell_type": "code",
      "metadata": {
        "colab": {
          "base_uri": "https://localhost:8080/",
          "height": 902
        },
        "id": "j0eCYltpHWkW",
        "outputId": "acd6ba1b-46e8-4891-8eb2-1ac500a8266d"
      },
      "source": [
        "model_encoder_training.compile(optimizer='adam', loss='categorical_crossentropy', metrics=['accuracy'])\n",
        "model_encoder_training.summary()\n",
        "plot_model(model_encoder_training, show_shapes=True)"
      ],
      "execution_count": 34,
      "outputs": [
        {
          "output_type": "stream",
          "text": [
            "Model: \"model_encoder_training\"\n",
            "__________________________________________________________________________________________________\n",
            "Layer (type)                    Output Shape         Param #     Connected to                     \n",
            "==================================================================================================\n",
            "encoder_inputs (InputLayer)     [(None, 25, 27)]     0                                            \n",
            "__________________________________________________________________________________________________\n",
            "masking (Masking)               (None, 25, 27)       0           encoder_inputs[0][0]             \n",
            "__________________________________________________________________________________________________\n",
            "decoder_inputs (InputLayer)     [(None, None, 129)]  0                                            \n",
            "__________________________________________________________________________________________________\n",
            "encoder_lstm (LSTM)             [(None, 256), (None, 290816      masking[0][0]                    \n",
            "__________________________________________________________________________________________________\n",
            "decoder_lstm (LSTM)             [(None, None, 256),  395264      decoder_inputs[0][0]             \n",
            "                                                                 encoder_lstm[0][1]               \n",
            "                                                                 encoder_lstm[0][2]               \n",
            "__________________________________________________________________________________________________\n",
            "decoder_dense (Dense)           (None, None, 129)    33153       decoder_lstm[0][0]               \n",
            "==================================================================================================\n",
            "Total params: 719,233\n",
            "Trainable params: 719,233\n",
            "Non-trainable params: 0\n",
            "__________________________________________________________________________________________________\n"
          ],
          "name": "stdout"
        },
        {
          "output_type": "execute_result",
          "data": {
            "image/png": "[encoded data removed]",
            "text/plain": [
              "<IPython.core.display.Image object>"
            ]
          },
          "metadata": {
            "tags": []
          },
          "execution_count": 34
        }
      ]
    },
    {
      "cell_type": "code",
      "metadata": {
        "colab": {
          "base_uri": "https://localhost:8080/"
        },
        "id": "PnYEE-WfRdzg",
        "outputId": "4ec5b486-5e54-448a-e746-162fa7d0efae"
      },
      "source": [
        "model_encoder_training.fit([encoder_input_data, decoder_input_data], decoder_target_data,\n",
        "          batch_size=64,\n",
        "          epochs=100,\n",
        "          validation_split=0.2)"
      ],
      "execution_count": null,
      "outputs": [
        {
          "output_type": "stream",
          "text": [
            "Epoch 1/100\n",
            "553/553 [==============================] - 44s 16ms/step - loss: 1.2356 - accuracy: 0.7555 - val_loss: 0.9976 - val_accuracy: 0.7622\n",
            "Epoch 2/100\n",
            "553/553 [==============================] - 7s 13ms/step - loss: 0.8032 - accuracy: 0.7839 - val_loss: 1.0016 - val_accuracy: 0.7709\n",
            "Epoch 3/100\n",
            "553/553 [==============================] - 7s 13ms/step - loss: 0.7698 - accuracy: 0.7886 - val_loss: 0.9622 - val_accuracy: 0.7771\n",
            "Epoch 4/100\n",
            "553/553 [==============================] - 7s 13ms/step - loss: 0.7141 - accuracy: 0.8005 - val_loss: 0.9267 - val_accuracy: 0.7888\n",
            "Epoch 5/100\n",
            "553/553 [==============================] - 7s 12ms/step - loss: 0.6556 - accuracy: 0.8139 - val_loss: 0.9275 - val_accuracy: 0.7959\n",
            "Epoch 6/100\n",
            "553/553 [==============================] - 7s 12ms/step - loss: 0.5949 - accuracy: 0.8300 - val_loss: 0.9161 - val_accuracy: 0.8005\n",
            "Epoch 7/100\n",
            "553/553 [==============================] - 7s 13ms/step - loss: 0.5187 - accuracy: 0.8499 - val_loss: 0.9370 - val_accuracy: 0.8093\n",
            "Epoch 8/100\n",
            "553/553 [==============================] - 7s 13ms/step - loss: 0.4373 - accuracy: 0.8714 - val_loss: 0.9185 - val_accuracy: 0.8122\n",
            "Epoch 9/100\n",
            "553/553 [==============================] - 7s 12ms/step - loss: 0.3869 - accuracy: 0.8848 - val_loss: 0.9030 - val_accuracy: 0.8159\n",
            "Epoch 10/100\n",
            "553/553 [==============================] - 7s 13ms/step - loss: 0.3382 - accuracy: 0.8981 - val_loss: 0.8802 - val_accuracy: 0.8254\n",
            "Epoch 11/100\n",
            "553/553 [==============================] - 7s 13ms/step - loss: 0.2965 - accuracy: 0.9096 - val_loss: 0.8662 - val_accuracy: 0.8315\n",
            "Epoch 12/100\n",
            "553/553 [==============================] - 7s 12ms/step - loss: 0.2640 - accuracy: 0.9194 - val_loss: 0.8420 - val_accuracy: 0.8326\n",
            "Epoch 13/100\n",
            "553/553 [==============================] - 7s 12ms/step - loss: 0.2366 - accuracy: 0.9268 - val_loss: 0.8270 - val_accuracy: 0.8366\n",
            "Epoch 14/100\n",
            "553/553 [==============================] - 7s 13ms/step - loss: 0.2186 - accuracy: 0.9330 - val_loss: 0.8195 - val_accuracy: 0.8392\n",
            "Epoch 15/100\n",
            "553/553 [==============================] - 7s 13ms/step - loss: 0.1960 - accuracy: 0.9393 - val_loss: 0.8335 - val_accuracy: 0.8420\n",
            "Epoch 16/100\n",
            "553/553 [==============================] - 7s 13ms/step - loss: 0.1808 - accuracy: 0.9436 - val_loss: 0.8287 - val_accuracy: 0.8398\n",
            "Epoch 17/100\n",
            "553/553 [==============================] - 7s 12ms/step - loss: 0.1648 - accuracy: 0.9487 - val_loss: 0.8191 - val_accuracy: 0.8451\n",
            "Epoch 18/100\n",
            "553/553 [==============================] - 7s 13ms/step - loss: 0.1520 - accuracy: 0.9528 - val_loss: 0.8367 - val_accuracy: 0.8458\n",
            "Epoch 19/100\n",
            "553/553 [==============================] - 7s 12ms/step - loss: 0.1393 - accuracy: 0.9564 - val_loss: 0.8330 - val_accuracy: 0.8478\n",
            "Epoch 20/100\n",
            "553/553 [==============================] - 7s 13ms/step - loss: 0.1301 - accuracy: 0.9595 - val_loss: 0.8280 - val_accuracy: 0.8448\n",
            "Epoch 21/100\n",
            "553/553 [==============================] - 7s 12ms/step - loss: 0.1203 - accuracy: 0.9626 - val_loss: 0.8329 - val_accuracy: 0.8508\n",
            "Epoch 22/100\n",
            "553/553 [==============================] - 7s 13ms/step - loss: 0.1118 - accuracy: 0.9651 - val_loss: 0.8337 - val_accuracy: 0.8499\n",
            "Epoch 23/100\n",
            "553/553 [==============================] - 7s 12ms/step - loss: 0.1056 - accuracy: 0.9670 - val_loss: 0.8470 - val_accuracy: 0.8464\n",
            "Epoch 24/100\n",
            "553/553 [==============================] - 7s 12ms/step - loss: 0.0976 - accuracy: 0.9695 - val_loss: 0.8650 - val_accuracy: 0.8475\n",
            "Epoch 25/100\n",
            "553/553 [==============================] - 7s 13ms/step - loss: 0.0912 - accuracy: 0.9716 - val_loss: 0.8692 - val_accuracy: 0.8499\n",
            "Epoch 26/100\n",
            "553/553 [==============================] - 7s 12ms/step - loss: 0.0846 - accuracy: 0.9737 - val_loss: 0.8898 - val_accuracy: 0.8496\n",
            "Epoch 27/100\n",
            "553/553 [==============================] - 7s 12ms/step - loss: 0.0817 - accuracy: 0.9743 - val_loss: 0.9037 - val_accuracy: 0.8475\n",
            "Epoch 28/100\n",
            "553/553 [==============================] - 7s 12ms/step - loss: 0.0756 - accuracy: 0.9766 - val_loss: 0.9011 - val_accuracy: 0.8530\n",
            "Epoch 29/100\n",
            "553/553 [==============================] - 7s 13ms/step - loss: 0.0701 - accuracy: 0.9781 - val_loss: 0.9318 - val_accuracy: 0.8460\n",
            "Epoch 30/100\n",
            "553/553 [==============================] - 7s 12ms/step - loss: 0.0670 - accuracy: 0.9791 - val_loss: 0.9251 - val_accuracy: 0.8498\n",
            "Epoch 31/100\n",
            "553/553 [==============================] - 7s 13ms/step - loss: 0.0623 - accuracy: 0.9805 - val_loss: 0.9569 - val_accuracy: 0.8474\n",
            "Epoch 32/100\n",
            "553/553 [==============================] - 7s 12ms/step - loss: 0.0591 - accuracy: 0.9817 - val_loss: 0.9458 - val_accuracy: 0.8485\n",
            "Epoch 33/100\n",
            "553/553 [==============================] - 7s 12ms/step - loss: 0.0559 - accuracy: 0.9826 - val_loss: 0.9640 - val_accuracy: 0.8508\n",
            "Epoch 34/100\n",
            "553/553 [==============================] - 7s 12ms/step - loss: 0.0529 - accuracy: 0.9835 - val_loss: 0.9851 - val_accuracy: 0.8483\n",
            "Epoch 35/100\n",
            "553/553 [==============================] - 7s 12ms/step - loss: 0.0510 - accuracy: 0.9842 - val_loss: 0.9888 - val_accuracy: 0.8489\n",
            "Epoch 36/100\n",
            "553/553 [==============================] - 7s 12ms/step - loss: 0.0481 - accuracy: 0.9850 - val_loss: 0.9919 - val_accuracy: 0.8518\n",
            "Epoch 37/100\n",
            "553/553 [==============================] - 7s 12ms/step - loss: 0.0466 - accuracy: 0.9854 - val_loss: 0.9879 - val_accuracy: 0.8490\n",
            "Epoch 38/100\n",
            "553/553 [==============================] - 7s 12ms/step - loss: 0.0437 - accuracy: 0.9864 - val_loss: 0.9963 - val_accuracy: 0.8503\n",
            "Epoch 39/100\n",
            "553/553 [==============================] - 7s 12ms/step - loss: 0.0419 - accuracy: 0.9868 - val_loss: 1.0323 - val_accuracy: 0.8471\n",
            "Epoch 40/100\n",
            "553/553 [==============================] - 7s 12ms/step - loss: 0.0404 - accuracy: 0.9874 - val_loss: 1.0339 - val_accuracy: 0.8488\n",
            "Epoch 41/100\n",
            "553/553 [==============================] - 7s 12ms/step - loss: 0.0389 - accuracy: 0.9878 - val_loss: 1.0343 - val_accuracy: 0.8489\n",
            "Epoch 42/100\n",
            "553/553 [==============================] - 7s 12ms/step - loss: 0.0360 - accuracy: 0.9887 - val_loss: 1.0574 - val_accuracy: 0.8478\n",
            "Epoch 43/100\n",
            "553/553 [==============================] - 7s 12ms/step - loss: 0.0354 - accuracy: 0.9890 - val_loss: 1.0376 - val_accuracy: 0.8502\n",
            "Epoch 44/100\n",
            "553/553 [==============================] - 7s 12ms/step - loss: 0.0339 - accuracy: 0.9893 - val_loss: 1.0699 - val_accuracy: 0.8493\n",
            "Epoch 45/100\n",
            "553/553 [==============================] - 7s 12ms/step - loss: 0.0337 - accuracy: 0.9894 - val_loss: 1.0679 - val_accuracy: 0.8504\n",
            "Epoch 46/100\n",
            "553/553 [==============================] - 7s 12ms/step - loss: 0.0307 - accuracy: 0.9904 - val_loss: 1.0972 - val_accuracy: 0.8470\n",
            "Epoch 47/100\n",
            "553/553 [==============================] - 7s 12ms/step - loss: 0.0312 - accuracy: 0.9901 - val_loss: 1.0851 - val_accuracy: 0.8473\n",
            "Epoch 48/100\n",
            "553/553 [==============================] - 7s 12ms/step - loss: 0.0330 - accuracy: 0.9893 - val_loss: 1.0737 - val_accuracy: 0.8477\n",
            "Epoch 49/100\n",
            "553/553 [==============================] - 7s 12ms/step - loss: 0.0290 - accuracy: 0.9909 - val_loss: 1.1193 - val_accuracy: 0.8494\n",
            "Epoch 50/100\n",
            "553/553 [==============================] - 7s 12ms/step - loss: 0.0284 - accuracy: 0.9911 - val_loss: 1.1098 - val_accuracy: 0.8483\n",
            "Epoch 51/100\n",
            "553/553 [==============================] - 7s 12ms/step - loss: 0.0270 - accuracy: 0.9915 - val_loss: 1.1160 - val_accuracy: 0.8476\n",
            "Epoch 52/100\n",
            "553/553 [==============================] - 7s 13ms/step - loss: 0.0269 - accuracy: 0.9914 - val_loss: 1.1037 - val_accuracy: 0.8502\n",
            "Epoch 53/100\n",
            "553/553 [==============================] - 7s 12ms/step - loss: 0.0263 - accuracy: 0.9917 - val_loss: 1.1269 - val_accuracy: 0.8507\n",
            "Epoch 54/100\n",
            "553/553 [==============================] - 7s 12ms/step - loss: 0.0256 - accuracy: 0.9919 - val_loss: 1.1212 - val_accuracy: 0.8513\n",
            "Epoch 55/100\n",
            "553/553 [==============================] - 7s 13ms/step - loss: 0.0241 - accuracy: 0.9925 - val_loss: 1.1312 - val_accuracy: 0.8517\n",
            "Epoch 56/100\n",
            "553/553 [==============================] - 7s 13ms/step - loss: 0.0254 - accuracy: 0.9919 - val_loss: 1.1223 - val_accuracy: 0.8494\n",
            "Epoch 57/100\n",
            "553/553 [==============================] - 7s 12ms/step - loss: 0.0229 - accuracy: 0.9927 - val_loss: 1.1498 - val_accuracy: 0.8493\n",
            "Epoch 58/100\n",
            "553/553 [==============================] - 7s 12ms/step - loss: 0.0233 - accuracy: 0.9926 - val_loss: 1.1626 - val_accuracy: 0.8503\n",
            "Epoch 59/100\n",
            "553/553 [==============================] - 7s 12ms/step - loss: 0.0223 - accuracy: 0.9930 - val_loss: 1.1579 - val_accuracy: 0.8470\n",
            "Epoch 60/100\n",
            "553/553 [==============================] - 7s 13ms/step - loss: 0.0221 - accuracy: 0.9929 - val_loss: 1.1687 - val_accuracy: 0.8496\n",
            "Epoch 61/100\n",
            "553/553 [==============================] - 7s 13ms/step - loss: 0.0219 - accuracy: 0.9931 - val_loss: 1.1373 - val_accuracy: 0.8506\n",
            "Epoch 62/100\n",
            "553/553 [==============================] - 7s 12ms/step - loss: 0.0219 - accuracy: 0.9931 - val_loss: 1.1910 - val_accuracy: 0.8484\n"
          ],
          "name": "stdout"
        }
      ]
    },
    {
      "cell_type": "code",
      "metadata": {
        "id": "m2Uhhi5OV5zK"
      },
      "source": [
        "#title Function to Train & Test  given model (Early Stopping monitor 'val_loss')\n",
        "def train_test(model, X_train, y_train , X_test, \ty_test, epochs=500, batch_size=32, patience=5,verbose=0):\n",
        "\t# patient early stopping\n",
        "\t#es = EarlyStopping(monitor='val_accuracy', mode='max', min_delta=1, patience=20)\n",
        "\tes = EarlyStopping(monitor='val_loss', mode='min', verbose=1, patience=patience)\n",
        "\t# train model\n",
        "\tprint('training for ',epochs,' epochs begins with EarlyStopping(monitor= val_loss, patience=',patience,')....')\n",
        "\thistory=model.fit(X_train, y_train, validation_split= 0.1, epochs=epochs,batch_size=batch_size, verbose=verbose, callbacks=[es])\n",
        "\tprint(epochs,' epoch training finished...')\n",
        "\n",
        "\t# report training\n",
        "\t# list all data in history\n",
        "\t#print(history.history.keys())\n",
        "\t# evaluate the model\n",
        "\t_, train_acc = model.evaluate(X_train, y_train, batch_size=batch_size, verbose=0)\n",
        "\t_, test_acc = model.evaluate(X_test, \ty_test, batch_size=batch_size, verbose=0)\n",
        "\tprint('\\nPREDICTION ACCURACY (%):')\n",
        "\tprint('Train: %.3f, Test: %.3f' % (train_acc*100, test_acc*100))\n",
        "\t# summarize history for accuracy\n",
        "\tplt.plot(history.history['accuracy'])\n",
        "\tplt.plot(history.history['val_accuracy'])\n",
        "\tplt.title(model.name+' accuracy')\n",
        "\tplt.ylabel('accuracy')\n",
        "\tplt.xlabel('epoch')\n",
        "\tplt.legend(['train', 'val'], loc='upper left')\n",
        "\tplt.show()\n",
        "\t# summarize history for loss\n",
        "\tplt.plot(history.history['loss'])\n",
        "\tplt.plot(history.history['val_loss'])\n",
        "\tplt.title(model.name+' loss')\n",
        "\tplt.ylabel('loss')\n",
        "\tplt.xlabel('epoch')\n",
        "\tplt.legend(['train', 'val'], loc='upper left')\n",
        "\tplt.show()\n",
        "\n",
        "\n",
        "\n",
        "\n",
        "  \n",
        "\t# spot check some examples\n",
        "\tspace = 3*len(one_hot_decode(y_test[0]))\n",
        "\tprint('10 examples from test data...')\n",
        "\tprint('Input',' '*(space-4) ,'Expected',' '*(space-7) ,\n",
        "\t      'Predicted',' '*(space-5) ,'T/F')\n",
        "\tcorrect =0 \n",
        "\tsampleNo =  100\n",
        "  #model = model_encoder_training\n",
        "\n",
        "\tpredicted= model.predict(X_test[:sampleNo], batch_size=batch_size)\n",
        "\tfor sample in range(0,sampleNo):\n",
        "\t\tif (one_hot_decode(y_test[sample])== one_hot_decode(predicted[sample])):\n",
        "\t\t\tcorrect+=1\n",
        "\t\tprint(test_input_texts[sample], ' ', \n",
        "\t\t\t\t\tprintTargetWord(one_hot_decode(y_test[sample])),' ', printTargetWord(one_hot_decode(predicted[sample])),\n",
        "\t\t\t\t\t' ',one_hot_decode(y_test[sample])== one_hot_decode(predicted[sample]))\n",
        "\tprint('Accuracy: ', correct/sampleNo)"
      ],
      "execution_count": null,
      "outputs": []
    },
    {
      "cell_type": "code",
      "metadata": {
        "id": "KFieHpX8IuCn"
      },
      "source": [
        "model = model_encoder_training\n",
        "[print(i.shape, i.dtype) for i in model.inputs]\n",
        "[print(o.shape, o.dtype) for o in model.outputs]\n",
        "[print(l.name, l.input_shape, l.dtype) for l in model.layers]\n",
        "X_test[:1].shape"
      ],
      "execution_count": null,
      "outputs": []
    },
    {
      "cell_type": "code",
      "metadata": {
        "id": "I46w57yWTHJw"
      },
      "source": [
        "train_test(model_encoder_training, [encoder_input_data, decoder_input_data], decoder_target_data ,\n",
        "           [encoder_input_test, decoder_input_test], \n",
        "           decoder_target_test, epochs=50, batch_size=64, patience=3,verbose=2)\n"
      ],
      "execution_count": null,
      "outputs": []
    },
    {
      "cell_type": "code",
      "metadata": {
        "id": "E2sAjDTSTT2F"
      },
      "source": [
        "encoder_model = Model(encoder_inputs, encoder_states)"
      ],
      "execution_count": null,
      "outputs": []
    },
    {
      "cell_type": "code",
      "metadata": {
        "id": "J_C54WtATeQ9"
      },
      "source": [
        "decoder_state_input_h = Input(shape=(LSTMoutputDimension,))\n",
        "decoder_state_input_c = Input(shape=(LSTMoutputDimension,))\n",
        "decoder_states_inputs = [decoder_state_input_h, decoder_state_input_c]\n",
        "\n",
        "decoder_outputs, state_h, state_c = decoder_lstm(\n",
        "    decoder_inputs, initial_state=decoder_states_inputs)\n",
        "decoder_states = [state_h, state_c]\n",
        "decoder_outputs = decoder_dense(decoder_outputs)\n",
        "decoder_model = Model(\n",
        "    [decoder_inputs] + decoder_states_inputs,\n",
        "    [decoder_outputs] + decoder_states)"
      ],
      "execution_count": null,
      "outputs": []
    },
    {
      "cell_type": "code",
      "metadata": {
        "id": "h1eEuWStTfx0"
      },
      "source": [
        "def decode_sequence(input_seq):\n",
        "    # Encode the input as state vectors.\n",
        "    states_value = encoder_model.predict(input_seq)\n",
        "\n",
        "    # Generate empty target sequence of length 1.\n",
        "    target_seq = np.zeros((1, 1, output_dimension))\n",
        "    # Populate the first character of target sequence with the start character.\n",
        "    target_seq[0, 0, 0] = 1 \n",
        "    # START (0 zero) in one-hot-encoding --> [1, 0, 0, 0, 0, 0, 0, 0, 0, 0]\n",
        "\n",
        "    # Sampling loop for a batch of sequences\n",
        "    # (to simplify, here we assume a batch of size 1).\n",
        "    stop_condition = False\n",
        "    decoded_seq = list()\n",
        "    while not stop_condition:\n",
        "\n",
        "        # in a loop\n",
        "        # decode the input to a token/output prediction + required states for context vector\n",
        "        output_tokens, h, c = decoder_model.predict(\n",
        "            [target_seq] + states_value)\n",
        "\n",
        "        # convert the token/output prediction to a token/output\n",
        "        sampled_token_index = np.argmax(output_tokens[0, -1, :])\n",
        "        sampled_char = sampled_token_index\n",
        "        # add the predicted token/output to output sequence\n",
        "        decoded_seq.append(sampled_char)\n",
        "        \n",
        "\n",
        "        # Exit condition: either hit max length\n",
        "        # or find stop character.\n",
        "        if (sampled_char == 0 or\n",
        "           len(decoded_seq) == max_output_sequence):\n",
        "            stop_condition = True\n",
        "\n",
        "        # Update the input target sequence (of length 1) \n",
        "        # with the predicted token/output \n",
        "        target_seq = np.zeros((1, 1, output_dimension))\n",
        "        target_seq[0, 0, sampled_token_index] = 1.\n",
        "\n",
        "        # Update input states (context vector) \n",
        "        # with the ouputed states\n",
        "        states_value = [h, c]\n",
        "\n",
        "        # loop back.....\n",
        "        \n",
        "    # when loop exists return the output sequence\n",
        "    return decoded_seq"
      ],
      "execution_count": null,
      "outputs": []
    },
    {
      "cell_type": "code",
      "metadata": {
        "id": "9z-fkz2Ojrd2"
      },
      "source": [
        " y=one_hot_decode(decoder_target_data[2])\n",
        " len(y)\n",
        "train_input_texts[2]"
      ],
      "execution_count": null,
      "outputs": []
    },
    {
      "cell_type": "code",
      "metadata": {
        "id": "tSMbJ6HHj7Ts"
      },
      "source": [
        "predicted=decode_sequence(encoder_input_data[2].reshape(1,max_input_sequence,input_dimension))\n",
        "x=predicted+ [0] * (max_output_sequence- len(predicted))\n",
        "len(x)\n",
        "x==y"
      ],
      "execution_count": null,
      "outputs": []
    },
    {
      "cell_type": "code",
      "metadata": {
        "id": "n7m2a-EOTlNa"
      },
      "source": [
        "print('Input \\t\\t\\t\\t\\t  Expected  \\t\\t\\t   Predicted \\t\\t\\t\\t\\t\\t\\t T/F')\n",
        "correct =0 \n",
        "sampleNo =  100\n",
        "for sample in range(0,sampleNo):\n",
        "  predicted= decode_sequence(encoder_input_data[sample].reshape(1,max_input_sequence,input_dimension))\n",
        "  if (one_hot_decode(decoder_target_data[sample])== predicted+ [0] * (max_output_sequence- len(predicted))):\n",
        "    correct+=1\n",
        "  print( train_input_texts[sample], '\\t\\t', \n",
        "        printTargetWord( one_hot_decode(decoder_target_data[sample])),'\\t', printTargetWord(predicted),\n",
        "        '\\t\\t', one_hot_decode(decoder_target_data[sample])== predicted+ [0] * (max_output_sequence- len(predicted)))\n",
        "print('Accuracy: ', correct/sampleNo)"
      ],
      "execution_count": null,
      "outputs": []
    },
    {
      "cell_type": "markdown",
      "metadata": {
        "id": "SVTejroUlSrH"
      },
      "source": [
        "#Test custom words"
      ]
    },
    {
      "cell_type": "code",
      "metadata": {
        "id": "OKfGqsyhpTKI"
      },
      "source": [
        "test_word_set = ['upnivesh','gulabon','radha','krishna','sita','ram']\n",
        "X_test_word_padded = get_embedding(test_word_set,eng_alpha2index)\n",
        "'''X_test_word=createDataset(test_word_set,eng_alpha2index)\n",
        "X_test_word_padded=pad_sequences(X_test_word, maxlen= max_input_sequence, padding='post', value=eng_pad)\n",
        "print(\"X_test_word shape: \",X_test_word.shape)\n",
        "print(\"X_test_word_padded shape: \",X_test_word_padded.shape)'''\n",
        "encoder_test_word_input_data = X_test_word_padded.copy()\n",
        "correct =0 \n",
        "sampleNo= len(test_word_set)\n",
        "for i in range(sampleNo):\n",
        "    decode_seq= decode_sequence(encoder_test_word_input_data[i].reshape(1,max_input_sequence,input_dimension))\n",
        "    print(test_word_set[i],end=\" \")\n",
        "    print(printTargetWord(decode_seq[:-1]))\n",
        "#print('Accuracy: ', correct/sampleNo)\n"
      ],
      "execution_count": null,
      "outputs": []
    },
    {
      "cell_type": "code",
      "metadata": {
        "id": "A1docxhAi3Ld"
      },
      "source": [
        "randomlist = []\n",
        "for i in range(0,10):\n",
        "    n = random.randint(100,1000)\n",
        "    randomlist.append(n)\n",
        "print(randomlist)\n",
        "for seq_index in randomlist:\n",
        "    # Take one sequence (part of the training set)\n",
        "    # for trying out decoding.\n",
        "    input_seq = encoder_input_test[seq_index : seq_index + 1]\n",
        "    decoded_sentence = decode_sequence(input_seq)\n",
        "    print(\"-\")\n",
        "    #print(\"Input sentence:\", input_texts[seq_index])\n",
        "    print(\"Input sentence:\", test_input_texts[seq_index])\n",
        "    print(\"Decoded sentence:\", printTargetWord(decoded_sentence))"
      ],
      "execution_count": null,
      "outputs": []
    }
  ]
}