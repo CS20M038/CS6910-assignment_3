{
  "nbformat": 4,
  "nbformat_minor": 0,
  "metadata": {
    "colab": {
      "name": "Attebtion_with_wandB.ipynb",
      "provenance": [],
      "include_colab_link": true
    },
    "kernelspec": {
      "name": "python3",
      "display_name": "Python 3"
    },
    "language_info": {
      "name": "python"
    },
    "accelerator": "GPU",
    "widgets": {
      "application/vnd.jupyter.widget-state+json": {
        "775ba7ee327d44caae1b38e8be7d78bd": {
          "model_module": "@jupyter-widgets/controls",
          "model_name": "VBoxModel",
          "state": {
            "_view_name": "VBoxView",
            "_dom_classes": [],
            "_model_name": "VBoxModel",
            "_view_module": "@jupyter-widgets/controls",
            "_model_module_version": "1.5.0",
            "_view_count": null,
            "_view_module_version": "1.5.0",
            "box_style": "",
            "layout": "IPY_MODEL_c03893e651004873a4b1b0563351445f",
            "_model_module": "@jupyter-widgets/controls",
            "children": [
              "IPY_MODEL_49f5b591dd904db4b6b0a0b4d12fa6f0",
              "IPY_MODEL_eae361abba9a472e907f32128dc59b7c"
            ]
          }
        },
        "c03893e651004873a4b1b0563351445f": {
          "model_module": "@jupyter-widgets/base",
          "model_name": "LayoutModel",
          "state": {
            "_view_name": "LayoutView",
            "grid_template_rows": null,
            "right": null,
            "justify_content": null,
            "_view_module": "@jupyter-widgets/base",
            "overflow": null,
            "_model_module_version": "1.2.0",
            "_view_count": null,
            "flex_flow": null,
            "width": null,
            "min_width": null,
            "border": null,
            "align_items": null,
            "bottom": null,
            "_model_module": "@jupyter-widgets/base",
            "top": null,
            "grid_column": null,
            "overflow_y": null,
            "overflow_x": null,
            "grid_auto_flow": null,
            "grid_area": null,
            "grid_template_columns": null,
            "flex": null,
            "_model_name": "LayoutModel",
            "justify_items": null,
            "grid_row": null,
            "max_height": null,
            "align_content": null,
            "visibility": null,
            "align_self": null,
            "height": null,
            "min_height": null,
            "padding": null,
            "grid_auto_rows": null,
            "grid_gap": null,
            "max_width": null,
            "order": null,
            "_view_module_version": "1.2.0",
            "grid_template_areas": null,
            "object_position": null,
            "object_fit": null,
            "grid_auto_columns": null,
            "margin": null,
            "display": null,
            "left": null
          }
        },
        "49f5b591dd904db4b6b0a0b4d12fa6f0": {
          "model_module": "@jupyter-widgets/controls",
          "model_name": "LabelModel",
          "state": {
            "_view_name": "LabelView",
            "style": "IPY_MODEL_50d5601d5c1440f8b481ca8a2121747c",
            "_dom_classes": [],
            "description": "",
            "_model_name": "LabelModel",
            "placeholder": "​",
            "_view_module": "@jupyter-widgets/controls",
            "_model_module_version": "1.5.0",
            "value": " 0.01MB of 0.01MB uploaded (0.00MB deduped)\r",
            "_view_count": null,
            "_view_module_version": "1.5.0",
            "description_tooltip": null,
            "_model_module": "@jupyter-widgets/controls",
            "layout": "IPY_MODEL_c58834e5904f49048e2609de6fa11d2c"
          }
        },
        "eae361abba9a472e907f32128dc59b7c": {
          "model_module": "@jupyter-widgets/controls",
          "model_name": "FloatProgressModel",
          "state": {
            "_view_name": "ProgressView",
            "style": "IPY_MODEL_ba24fce45609443f9b4d4ac7c8e58a4d",
            "_dom_classes": [],
            "description": "",
            "_model_name": "FloatProgressModel",
            "bar_style": "",
            "max": 1,
            "_view_module": "@jupyter-widgets/controls",
            "_model_module_version": "1.5.0",
            "value": 1,
            "_view_count": null,
            "_view_module_version": "1.5.0",
            "orientation": "horizontal",
            "min": 0,
            "description_tooltip": null,
            "_model_module": "@jupyter-widgets/controls",
            "layout": "IPY_MODEL_877bc447e7fe4c7a826169078edf0e51"
          }
        },
        "50d5601d5c1440f8b481ca8a2121747c": {
          "model_module": "@jupyter-widgets/controls",
          "model_name": "DescriptionStyleModel",
          "state": {
            "_view_name": "StyleView",
            "_model_name": "DescriptionStyleModel",
            "description_width": "",
            "_view_module": "@jupyter-widgets/base",
            "_model_module_version": "1.5.0",
            "_view_count": null,
            "_view_module_version": "1.2.0",
            "_model_module": "@jupyter-widgets/controls"
          }
        },
        "c58834e5904f49048e2609de6fa11d2c": {
          "model_module": "@jupyter-widgets/base",
          "model_name": "LayoutModel",
          "state": {
            "_view_name": "LayoutView",
            "grid_template_rows": null,
            "right": null,
            "justify_content": null,
            "_view_module": "@jupyter-widgets/base",
            "overflow": null,
            "_model_module_version": "1.2.0",
            "_view_count": null,
            "flex_flow": null,
            "width": null,
            "min_width": null,
            "border": null,
            "align_items": null,
            "bottom": null,
            "_model_module": "@jupyter-widgets/base",
            "top": null,
            "grid_column": null,
            "overflow_y": null,
            "overflow_x": null,
            "grid_auto_flow": null,
            "grid_area": null,
            "grid_template_columns": null,
            "flex": null,
            "_model_name": "LayoutModel",
            "justify_items": null,
            "grid_row": null,
            "max_height": null,
            "align_content": null,
            "visibility": null,
            "align_self": null,
            "height": null,
            "min_height": null,
            "padding": null,
            "grid_auto_rows": null,
            "grid_gap": null,
            "max_width": null,
            "order": null,
            "_view_module_version": "1.2.0",
            "grid_template_areas": null,
            "object_position": null,
            "object_fit": null,
            "grid_auto_columns": null,
            "margin": null,
            "display": null,
            "left": null
          }
        },
        "ba24fce45609443f9b4d4ac7c8e58a4d": {
          "model_module": "@jupyter-widgets/controls",
          "model_name": "ProgressStyleModel",
          "state": {
            "_view_name": "StyleView",
            "_model_name": "ProgressStyleModel",
            "description_width": "",
            "_view_module": "@jupyter-widgets/base",
            "_model_module_version": "1.5.0",
            "_view_count": null,
            "_view_module_version": "1.2.0",
            "bar_color": null,
            "_model_module": "@jupyter-widgets/controls"
          }
        },
        "877bc447e7fe4c7a826169078edf0e51": {
          "model_module": "@jupyter-widgets/base",
          "model_name": "LayoutModel",
          "state": {
            "_view_name": "LayoutView",
            "grid_template_rows": null,
            "right": null,
            "justify_content": null,
            "_view_module": "@jupyter-widgets/base",
            "overflow": null,
            "_model_module_version": "1.2.0",
            "_view_count": null,
            "flex_flow": null,
            "width": null,
            "min_width": null,
            "border": null,
            "align_items": null,
            "bottom": null,
            "_model_module": "@jupyter-widgets/base",
            "top": null,
            "grid_column": null,
            "overflow_y": null,
            "overflow_x": null,
            "grid_auto_flow": null,
            "grid_area": null,
            "grid_template_columns": null,
            "flex": null,
            "_model_name": "LayoutModel",
            "justify_items": null,
            "grid_row": null,
            "max_height": null,
            "align_content": null,
            "visibility": null,
            "align_self": null,
            "height": null,
            "min_height": null,
            "padding": null,
            "grid_auto_rows": null,
            "grid_gap": null,
            "max_width": null,
            "order": null,
            "_view_module_version": "1.2.0",
            "grid_template_areas": null,
            "object_position": null,
            "object_fit": null,
            "grid_auto_columns": null,
            "margin": null,
            "display": null,
            "left": null
          }
        },
        "e3d821e34afb48b795304f7af91d45b7": {
          "model_module": "@jupyter-widgets/controls",
          "model_name": "VBoxModel",
          "state": {
            "_view_name": "VBoxView",
            "_dom_classes": [],
            "_model_name": "VBoxModel",
            "_view_module": "@jupyter-widgets/controls",
            "_model_module_version": "1.5.0",
            "_view_count": null,
            "_view_module_version": "1.5.0",
            "box_style": "",
            "layout": "IPY_MODEL_766314879ff147eb89209d0f8c2451b7",
            "_model_module": "@jupyter-widgets/controls",
            "children": [
              "IPY_MODEL_4682b5e8f99d404ab76d134aa829a5e4",
              "IPY_MODEL_ea243ce0707e4dda8ceabea03730aa08"
            ]
          }
        },
        "766314879ff147eb89209d0f8c2451b7": {
          "model_module": "@jupyter-widgets/base",
          "model_name": "LayoutModel",
          "state": {
            "_view_name": "LayoutView",
            "grid_template_rows": null,
            "right": null,
            "justify_content": null,
            "_view_module": "@jupyter-widgets/base",
            "overflow": null,
            "_model_module_version": "1.2.0",
            "_view_count": null,
            "flex_flow": null,
            "width": null,
            "min_width": null,
            "border": null,
            "align_items": null,
            "bottom": null,
            "_model_module": "@jupyter-widgets/base",
            "top": null,
            "grid_column": null,
            "overflow_y": null,
            "overflow_x": null,
            "grid_auto_flow": null,
            "grid_area": null,
            "grid_template_columns": null,
            "flex": null,
            "_model_name": "LayoutModel",
            "justify_items": null,
            "grid_row": null,
            "max_height": null,
            "align_content": null,
            "visibility": null,
            "align_self": null,
            "height": null,
            "min_height": null,
            "padding": null,
            "grid_auto_rows": null,
            "grid_gap": null,
            "max_width": null,
            "order": null,
            "_view_module_version": "1.2.0",
            "grid_template_areas": null,
            "object_position": null,
            "object_fit": null,
            "grid_auto_columns": null,
            "margin": null,
            "display": null,
            "left": null
          }
        },
        "4682b5e8f99d404ab76d134aa829a5e4": {
          "model_module": "@jupyter-widgets/controls",
          "model_name": "LabelModel",
          "state": {
            "_view_name": "LabelView",
            "style": "IPY_MODEL_1ac9baf346384ce6aa295cd2140d1c75",
            "_dom_classes": [],
            "description": "",
            "_model_name": "LabelModel",
            "placeholder": "​",
            "_view_module": "@jupyter-widgets/controls",
            "_model_module_version": "1.5.0",
            "value": " 0.01MB of 0.01MB uploaded (0.00MB deduped)\r",
            "_view_count": null,
            "_view_module_version": "1.5.0",
            "description_tooltip": null,
            "_model_module": "@jupyter-widgets/controls",
            "layout": "IPY_MODEL_0bb885f978df46fe8d8bfcc39c578b95"
          }
        },
        "ea243ce0707e4dda8ceabea03730aa08": {
          "model_module": "@jupyter-widgets/controls",
          "model_name": "FloatProgressModel",
          "state": {
            "_view_name": "ProgressView",
            "style": "IPY_MODEL_84134d7d10534182ae727998dc2a56ef",
            "_dom_classes": [],
            "description": "",
            "_model_name": "FloatProgressModel",
            "bar_style": "",
            "max": 1,
            "_view_module": "@jupyter-widgets/controls",
            "_model_module_version": "1.5.0",
            "value": 1,
            "_view_count": null,
            "_view_module_version": "1.5.0",
            "orientation": "horizontal",
            "min": 0,
            "description_tooltip": null,
            "_model_module": "@jupyter-widgets/controls",
            "layout": "IPY_MODEL_965ad1f9fcb1494fab4758c99592b9a6"
          }
        },
        "1ac9baf346384ce6aa295cd2140d1c75": {
          "model_module": "@jupyter-widgets/controls",
          "model_name": "DescriptionStyleModel",
          "state": {
            "_view_name": "StyleView",
            "_model_name": "DescriptionStyleModel",
            "description_width": "",
            "_view_module": "@jupyter-widgets/base",
            "_model_module_version": "1.5.0",
            "_view_count": null,
            "_view_module_version": "1.2.0",
            "_model_module": "@jupyter-widgets/controls"
          }
        },
        "0bb885f978df46fe8d8bfcc39c578b95": {
          "model_module": "@jupyter-widgets/base",
          "model_name": "LayoutModel",
          "state": {
            "_view_name": "LayoutView",
            "grid_template_rows": null,
            "right": null,
            "justify_content": null,
            "_view_module": "@jupyter-widgets/base",
            "overflow": null,
            "_model_module_version": "1.2.0",
            "_view_count": null,
            "flex_flow": null,
            "width": null,
            "min_width": null,
            "border": null,
            "align_items": null,
            "bottom": null,
            "_model_module": "@jupyter-widgets/base",
            "top": null,
            "grid_column": null,
            "overflow_y": null,
            "overflow_x": null,
            "grid_auto_flow": null,
            "grid_area": null,
            "grid_template_columns": null,
            "flex": null,
            "_model_name": "LayoutModel",
            "justify_items": null,
            "grid_row": null,
            "max_height": null,
            "align_content": null,
            "visibility": null,
            "align_self": null,
            "height": null,
            "min_height": null,
            "padding": null,
            "grid_auto_rows": null,
            "grid_gap": null,
            "max_width": null,
            "order": null,
            "_view_module_version": "1.2.0",
            "grid_template_areas": null,
            "object_position": null,
            "object_fit": null,
            "grid_auto_columns": null,
            "margin": null,
            "display": null,
            "left": null
          }
        },
        "84134d7d10534182ae727998dc2a56ef": {
          "model_module": "@jupyter-widgets/controls",
          "model_name": "ProgressStyleModel",
          "state": {
            "_view_name": "StyleView",
            "_model_name": "ProgressStyleModel",
            "description_width": "",
            "_view_module": "@jupyter-widgets/base",
            "_model_module_version": "1.5.0",
            "_view_count": null,
            "_view_module_version": "1.2.0",
            "bar_color": null,
            "_model_module": "@jupyter-widgets/controls"
          }
        },
        "965ad1f9fcb1494fab4758c99592b9a6": {
          "model_module": "@jupyter-widgets/base",
          "model_name": "LayoutModel",
          "state": {
            "_view_name": "LayoutView",
            "grid_template_rows": null,
            "right": null,
            "justify_content": null,
            "_view_module": "@jupyter-widgets/base",
            "overflow": null,
            "_model_module_version": "1.2.0",
            "_view_count": null,
            "flex_flow": null,
            "width": null,
            "min_width": null,
            "border": null,
            "align_items": null,
            "bottom": null,
            "_model_module": "@jupyter-widgets/base",
            "top": null,
            "grid_column": null,
            "overflow_y": null,
            "overflow_x": null,
            "grid_auto_flow": null,
            "grid_area": null,
            "grid_template_columns": null,
            "flex": null,
            "_model_name": "LayoutModel",
            "justify_items": null,
            "grid_row": null,
            "max_height": null,
            "align_content": null,
            "visibility": null,
            "align_self": null,
            "height": null,
            "min_height": null,
            "padding": null,
            "grid_auto_rows": null,
            "grid_gap": null,
            "max_width": null,
            "order": null,
            "_view_module_version": "1.2.0",
            "grid_template_areas": null,
            "object_position": null,
            "object_fit": null,
            "grid_auto_columns": null,
            "margin": null,
            "display": null,
            "left": null
          }
        },
        "f856624c47d342638859e0e89090157e": {
          "model_module": "@jupyter-widgets/controls",
          "model_name": "VBoxModel",
          "state": {
            "_view_name": "VBoxView",
            "_dom_classes": [],
            "_model_name": "VBoxModel",
            "_view_module": "@jupyter-widgets/controls",
            "_model_module_version": "1.5.0",
            "_view_count": null,
            "_view_module_version": "1.5.0",
            "box_style": "",
            "layout": "IPY_MODEL_43a12e047666408b9b26296a100f5345",
            "_model_module": "@jupyter-widgets/controls",
            "children": [
              "IPY_MODEL_48c2eaafb4ac4b6a9cdaa85b661fe690",
              "IPY_MODEL_8ca9ea63de374098a3357a22305ead9e"
            ]
          }
        },
        "43a12e047666408b9b26296a100f5345": {
          "model_module": "@jupyter-widgets/base",
          "model_name": "LayoutModel",
          "state": {
            "_view_name": "LayoutView",
            "grid_template_rows": null,
            "right": null,
            "justify_content": null,
            "_view_module": "@jupyter-widgets/base",
            "overflow": null,
            "_model_module_version": "1.2.0",
            "_view_count": null,
            "flex_flow": null,
            "width": null,
            "min_width": null,
            "border": null,
            "align_items": null,
            "bottom": null,
            "_model_module": "@jupyter-widgets/base",
            "top": null,
            "grid_column": null,
            "overflow_y": null,
            "overflow_x": null,
            "grid_auto_flow": null,
            "grid_area": null,
            "grid_template_columns": null,
            "flex": null,
            "_model_name": "LayoutModel",
            "justify_items": null,
            "grid_row": null,
            "max_height": null,
            "align_content": null,
            "visibility": null,
            "align_self": null,
            "height": null,
            "min_height": null,
            "padding": null,
            "grid_auto_rows": null,
            "grid_gap": null,
            "max_width": null,
            "order": null,
            "_view_module_version": "1.2.0",
            "grid_template_areas": null,
            "object_position": null,
            "object_fit": null,
            "grid_auto_columns": null,
            "margin": null,
            "display": null,
            "left": null
          }
        },
        "48c2eaafb4ac4b6a9cdaa85b661fe690": {
          "model_module": "@jupyter-widgets/controls",
          "model_name": "LabelModel",
          "state": {
            "_view_name": "LabelView",
            "style": "IPY_MODEL_138ca2a16cb5437b83db477c4b93413f",
            "_dom_classes": [],
            "description": "",
            "_model_name": "LabelModel",
            "placeholder": "​",
            "_view_module": "@jupyter-widgets/controls",
            "_model_module_version": "1.5.0",
            "value": " 0.01MB of 0.01MB uploaded (0.00MB deduped)\r",
            "_view_count": null,
            "_view_module_version": "1.5.0",
            "description_tooltip": null,
            "_model_module": "@jupyter-widgets/controls",
            "layout": "IPY_MODEL_915ef801bd8541739c393218d3c3df49"
          }
        },
        "8ca9ea63de374098a3357a22305ead9e": {
          "model_module": "@jupyter-widgets/controls",
          "model_name": "FloatProgressModel",
          "state": {
            "_view_name": "ProgressView",
            "style": "IPY_MODEL_a2df8006e5f14716b767ce9dfa184336",
            "_dom_classes": [],
            "description": "",
            "_model_name": "FloatProgressModel",
            "bar_style": "",
            "max": 1,
            "_view_module": "@jupyter-widgets/controls",
            "_model_module_version": "1.5.0",
            "value": 1,
            "_view_count": null,
            "_view_module_version": "1.5.0",
            "orientation": "horizontal",
            "min": 0,
            "description_tooltip": null,
            "_model_module": "@jupyter-widgets/controls",
            "layout": "IPY_MODEL_481f55e480f64f7cae731c96ba51edb1"
          }
        },
        "138ca2a16cb5437b83db477c4b93413f": {
          "model_module": "@jupyter-widgets/controls",
          "model_name": "DescriptionStyleModel",
          "state": {
            "_view_name": "StyleView",
            "_model_name": "DescriptionStyleModel",
            "description_width": "",
            "_view_module": "@jupyter-widgets/base",
            "_model_module_version": "1.5.0",
            "_view_count": null,
            "_view_module_version": "1.2.0",
            "_model_module": "@jupyter-widgets/controls"
          }
        },
        "915ef801bd8541739c393218d3c3df49": {
          "model_module": "@jupyter-widgets/base",
          "model_name": "LayoutModel",
          "state": {
            "_view_name": "LayoutView",
            "grid_template_rows": null,
            "right": null,
            "justify_content": null,
            "_view_module": "@jupyter-widgets/base",
            "overflow": null,
            "_model_module_version": "1.2.0",
            "_view_count": null,
            "flex_flow": null,
            "width": null,
            "min_width": null,
            "border": null,
            "align_items": null,
            "bottom": null,
            "_model_module": "@jupyter-widgets/base",
            "top": null,
            "grid_column": null,
            "overflow_y": null,
            "overflow_x": null,
            "grid_auto_flow": null,
            "grid_area": null,
            "grid_template_columns": null,
            "flex": null,
            "_model_name": "LayoutModel",
            "justify_items": null,
            "grid_row": null,
            "max_height": null,
            "align_content": null,
            "visibility": null,
            "align_self": null,
            "height": null,
            "min_height": null,
            "padding": null,
            "grid_auto_rows": null,
            "grid_gap": null,
            "max_width": null,
            "order": null,
            "_view_module_version": "1.2.0",
            "grid_template_areas": null,
            "object_position": null,
            "object_fit": null,
            "grid_auto_columns": null,
            "margin": null,
            "display": null,
            "left": null
          }
        },
        "a2df8006e5f14716b767ce9dfa184336": {
          "model_module": "@jupyter-widgets/controls",
          "model_name": "ProgressStyleModel",
          "state": {
            "_view_name": "StyleView",
            "_model_name": "ProgressStyleModel",
            "description_width": "",
            "_view_module": "@jupyter-widgets/base",
            "_model_module_version": "1.5.0",
            "_view_count": null,
            "_view_module_version": "1.2.0",
            "bar_color": null,
            "_model_module": "@jupyter-widgets/controls"
          }
        },
        "481f55e480f64f7cae731c96ba51edb1": {
          "model_module": "@jupyter-widgets/base",
          "model_name": "LayoutModel",
          "state": {
            "_view_name": "LayoutView",
            "grid_template_rows": null,
            "right": null,
            "justify_content": null,
            "_view_module": "@jupyter-widgets/base",
            "overflow": null,
            "_model_module_version": "1.2.0",
            "_view_count": null,
            "flex_flow": null,
            "width": null,
            "min_width": null,
            "border": null,
            "align_items": null,
            "bottom": null,
            "_model_module": "@jupyter-widgets/base",
            "top": null,
            "grid_column": null,
            "overflow_y": null,
            "overflow_x": null,
            "grid_auto_flow": null,
            "grid_area": null,
            "grid_template_columns": null,
            "flex": null,
            "_model_name": "LayoutModel",
            "justify_items": null,
            "grid_row": null,
            "max_height": null,
            "align_content": null,
            "visibility": null,
            "align_self": null,
            "height": null,
            "min_height": null,
            "padding": null,
            "grid_auto_rows": null,
            "grid_gap": null,
            "max_width": null,
            "order": null,
            "_view_module_version": "1.2.0",
            "grid_template_areas": null,
            "object_position": null,
            "object_fit": null,
            "grid_auto_columns": null,
            "margin": null,
            "display": null,
            "left": null
          }
        },
        "3d59207462e4453da3433c3a0af5abc8": {
          "model_module": "@jupyter-widgets/controls",
          "model_name": "VBoxModel",
          "state": {
            "_view_name": "VBoxView",
            "_dom_classes": [],
            "_model_name": "VBoxModel",
            "_view_module": "@jupyter-widgets/controls",
            "_model_module_version": "1.5.0",
            "_view_count": null,
            "_view_module_version": "1.5.0",
            "box_style": "",
            "layout": "IPY_MODEL_4e4eb10832944b1f8ad049283e0903e2",
            "_model_module": "@jupyter-widgets/controls",
            "children": [
              "IPY_MODEL_dc2089d3140d4ed593640fabc2cc4241",
              "IPY_MODEL_2c78ac01e7f443479f98c50d332a07b1"
            ]
          }
        },
        "4e4eb10832944b1f8ad049283e0903e2": {
          "model_module": "@jupyter-widgets/base",
          "model_name": "LayoutModel",
          "state": {
            "_view_name": "LayoutView",
            "grid_template_rows": null,
            "right": null,
            "justify_content": null,
            "_view_module": "@jupyter-widgets/base",
            "overflow": null,
            "_model_module_version": "1.2.0",
            "_view_count": null,
            "flex_flow": null,
            "width": null,
            "min_width": null,
            "border": null,
            "align_items": null,
            "bottom": null,
            "_model_module": "@jupyter-widgets/base",
            "top": null,
            "grid_column": null,
            "overflow_y": null,
            "overflow_x": null,
            "grid_auto_flow": null,
            "grid_area": null,
            "grid_template_columns": null,
            "flex": null,
            "_model_name": "LayoutModel",
            "justify_items": null,
            "grid_row": null,
            "max_height": null,
            "align_content": null,
            "visibility": null,
            "align_self": null,
            "height": null,
            "min_height": null,
            "padding": null,
            "grid_auto_rows": null,
            "grid_gap": null,
            "max_width": null,
            "order": null,
            "_view_module_version": "1.2.0",
            "grid_template_areas": null,
            "object_position": null,
            "object_fit": null,
            "grid_auto_columns": null,
            "margin": null,
            "display": null,
            "left": null
          }
        },
        "dc2089d3140d4ed593640fabc2cc4241": {
          "model_module": "@jupyter-widgets/controls",
          "model_name": "LabelModel",
          "state": {
            "_view_name": "LabelView",
            "style": "IPY_MODEL_37e32f10f5254e4dbd7719da4edee3e9",
            "_dom_classes": [],
            "description": "",
            "_model_name": "LabelModel",
            "placeholder": "​",
            "_view_module": "@jupyter-widgets/controls",
            "_model_module_version": "1.5.0",
            "value": "",
            "_view_count": null,
            "_view_module_version": "1.5.0",
            "description_tooltip": null,
            "_model_module": "@jupyter-widgets/controls",
            "layout": "IPY_MODEL_4daee9029e4c4419a65143894a4123ad"
          }
        },
        "2c78ac01e7f443479f98c50d332a07b1": {
          "model_module": "@jupyter-widgets/controls",
          "model_name": "FloatProgressModel",
          "state": {
            "_view_name": "ProgressView",
            "style": "IPY_MODEL_d4504c8d4ba4436f9fbf91a3b7372274",
            "_dom_classes": [],
            "description": "",
            "_model_name": "FloatProgressModel",
            "bar_style": "",
            "max": 1,
            "_view_module": "@jupyter-widgets/controls",
            "_model_module_version": "1.5.0",
            "value": 0,
            "_view_count": null,
            "_view_module_version": "1.5.0",
            "orientation": "horizontal",
            "min": 0,
            "description_tooltip": null,
            "_model_module": "@jupyter-widgets/controls",
            "layout": "IPY_MODEL_edba8e18b967488f944fb360518a3501"
          }
        },
        "37e32f10f5254e4dbd7719da4edee3e9": {
          "model_module": "@jupyter-widgets/controls",
          "model_name": "DescriptionStyleModel",
          "state": {
            "_view_name": "StyleView",
            "_model_name": "DescriptionStyleModel",
            "description_width": "",
            "_view_module": "@jupyter-widgets/base",
            "_model_module_version": "1.5.0",
            "_view_count": null,
            "_view_module_version": "1.2.0",
            "_model_module": "@jupyter-widgets/controls"
          }
        },
        "4daee9029e4c4419a65143894a4123ad": {
          "model_module": "@jupyter-widgets/base",
          "model_name": "LayoutModel",
          "state": {
            "_view_name": "LayoutView",
            "grid_template_rows": null,
            "right": null,
            "justify_content": null,
            "_view_module": "@jupyter-widgets/base",
            "overflow": null,
            "_model_module_version": "1.2.0",
            "_view_count": null,
            "flex_flow": null,
            "width": null,
            "min_width": null,
            "border": null,
            "align_items": null,
            "bottom": null,
            "_model_module": "@jupyter-widgets/base",
            "top": null,
            "grid_column": null,
            "overflow_y": null,
            "overflow_x": null,
            "grid_auto_flow": null,
            "grid_area": null,
            "grid_template_columns": null,
            "flex": null,
            "_model_name": "LayoutModel",
            "justify_items": null,
            "grid_row": null,
            "max_height": null,
            "align_content": null,
            "visibility": null,
            "align_self": null,
            "height": null,
            "min_height": null,
            "padding": null,
            "grid_auto_rows": null,
            "grid_gap": null,
            "max_width": null,
            "order": null,
            "_view_module_version": "1.2.0",
            "grid_template_areas": null,
            "object_position": null,
            "object_fit": null,
            "grid_auto_columns": null,
            "margin": null,
            "display": null,
            "left": null
          }
        },
        "d4504c8d4ba4436f9fbf91a3b7372274": {
          "model_module": "@jupyter-widgets/controls",
          "model_name": "ProgressStyleModel",
          "state": {
            "_view_name": "StyleView",
            "_model_name": "ProgressStyleModel",
            "description_width": "",
            "_view_module": "@jupyter-widgets/base",
            "_model_module_version": "1.5.0",
            "_view_count": null,
            "_view_module_version": "1.2.0",
            "bar_color": null,
            "_model_module": "@jupyter-widgets/controls"
          }
        },
        "edba8e18b967488f944fb360518a3501": {
          "model_module": "@jupyter-widgets/base",
          "model_name": "LayoutModel",
          "state": {
            "_view_name": "LayoutView",
            "grid_template_rows": null,
            "right": null,
            "justify_content": null,
            "_view_module": "@jupyter-widgets/base",
            "overflow": null,
            "_model_module_version": "1.2.0",
            "_view_count": null,
            "flex_flow": null,
            "width": null,
            "min_width": null,
            "border": null,
            "align_items": null,
            "bottom": null,
            "_model_module": "@jupyter-widgets/base",
            "top": null,
            "grid_column": null,
            "overflow_y": null,
            "overflow_x": null,
            "grid_auto_flow": null,
            "grid_area": null,
            "grid_template_columns": null,
            "flex": null,
            "_model_name": "LayoutModel",
            "justify_items": null,
            "grid_row": null,
            "max_height": null,
            "align_content": null,
            "visibility": null,
            "align_self": null,
            "height": null,
            "min_height": null,
            "padding": null,
            "grid_auto_rows": null,
            "grid_gap": null,
            "max_width": null,
            "order": null,
            "_view_module_version": "1.2.0",
            "grid_template_areas": null,
            "object_position": null,
            "object_fit": null,
            "grid_auto_columns": null,
            "margin": null,
            "display": null,
            "left": null
          }
        },
        "5ab4b0604b884a079a8ef4e2e27b09d4": {
          "model_module": "@jupyter-widgets/controls",
          "model_name": "VBoxModel",
          "state": {
            "_view_name": "VBoxView",
            "_dom_classes": [],
            "_model_name": "VBoxModel",
            "_view_module": "@jupyter-widgets/controls",
            "_model_module_version": "1.5.0",
            "_view_count": null,
            "_view_module_version": "1.5.0",
            "box_style": "",
            "layout": "IPY_MODEL_f6af781bdcd2486c9c5f0f7937ad4757",
            "_model_module": "@jupyter-widgets/controls",
            "children": [
              "IPY_MODEL_5f0e61a375ee44deb5a21f55540232ac",
              "IPY_MODEL_c622c94e4f6148c99a2dfd33b24745bb"
            ]
          }
        },
        "f6af781bdcd2486c9c5f0f7937ad4757": {
          "model_module": "@jupyter-widgets/base",
          "model_name": "LayoutModel",
          "state": {
            "_view_name": "LayoutView",
            "grid_template_rows": null,
            "right": null,
            "justify_content": null,
            "_view_module": "@jupyter-widgets/base",
            "overflow": null,
            "_model_module_version": "1.2.0",
            "_view_count": null,
            "flex_flow": null,
            "width": null,
            "min_width": null,
            "border": null,
            "align_items": null,
            "bottom": null,
            "_model_module": "@jupyter-widgets/base",
            "top": null,
            "grid_column": null,
            "overflow_y": null,
            "overflow_x": null,
            "grid_auto_flow": null,
            "grid_area": null,
            "grid_template_columns": null,
            "flex": null,
            "_model_name": "LayoutModel",
            "justify_items": null,
            "grid_row": null,
            "max_height": null,
            "align_content": null,
            "visibility": null,
            "align_self": null,
            "height": null,
            "min_height": null,
            "padding": null,
            "grid_auto_rows": null,
            "grid_gap": null,
            "max_width": null,
            "order": null,
            "_view_module_version": "1.2.0",
            "grid_template_areas": null,
            "object_position": null,
            "object_fit": null,
            "grid_auto_columns": null,
            "margin": null,
            "display": null,
            "left": null
          }
        },
        "5f0e61a375ee44deb5a21f55540232ac": {
          "model_module": "@jupyter-widgets/controls",
          "model_name": "LabelModel",
          "state": {
            "_view_name": "LabelView",
            "style": "IPY_MODEL_227f419c858f4cb998957e7a09311730",
            "_dom_classes": [],
            "description": "",
            "_model_name": "LabelModel",
            "placeholder": "​",
            "_view_module": "@jupyter-widgets/controls",
            "_model_module_version": "1.5.0",
            "value": " 0.01MB of 0.01MB uploaded (0.00MB deduped)\r",
            "_view_count": null,
            "_view_module_version": "1.5.0",
            "description_tooltip": null,
            "_model_module": "@jupyter-widgets/controls",
            "layout": "IPY_MODEL_c6b49a124a114702a78289bfcedda634"
          }
        },
        "c622c94e4f6148c99a2dfd33b24745bb": {
          "model_module": "@jupyter-widgets/controls",
          "model_name": "FloatProgressModel",
          "state": {
            "_view_name": "ProgressView",
            "style": "IPY_MODEL_9296f94425ae4be88ab3e43073b23e56",
            "_dom_classes": [],
            "description": "",
            "_model_name": "FloatProgressModel",
            "bar_style": "",
            "max": 1,
            "_view_module": "@jupyter-widgets/controls",
            "_model_module_version": "1.5.0",
            "value": 1,
            "_view_count": null,
            "_view_module_version": "1.5.0",
            "orientation": "horizontal",
            "min": 0,
            "description_tooltip": null,
            "_model_module": "@jupyter-widgets/controls",
            "layout": "IPY_MODEL_6db47c919f80411ab6a84b9256d79533"
          }
        },
        "227f419c858f4cb998957e7a09311730": {
          "model_module": "@jupyter-widgets/controls",
          "model_name": "DescriptionStyleModel",
          "state": {
            "_view_name": "StyleView",
            "_model_name": "DescriptionStyleModel",
            "description_width": "",
            "_view_module": "@jupyter-widgets/base",
            "_model_module_version": "1.5.0",
            "_view_count": null,
            "_view_module_version": "1.2.0",
            "_model_module": "@jupyter-widgets/controls"
          }
        },
        "c6b49a124a114702a78289bfcedda634": {
          "model_module": "@jupyter-widgets/base",
          "model_name": "LayoutModel",
          "state": {
            "_view_name": "LayoutView",
            "grid_template_rows": null,
            "right": null,
            "justify_content": null,
            "_view_module": "@jupyter-widgets/base",
            "overflow": null,
            "_model_module_version": "1.2.0",
            "_view_count": null,
            "flex_flow": null,
            "width": null,
            "min_width": null,
            "border": null,
            "align_items": null,
            "bottom": null,
            "_model_module": "@jupyter-widgets/base",
            "top": null,
            "grid_column": null,
            "overflow_y": null,
            "overflow_x": null,
            "grid_auto_flow": null,
            "grid_area": null,
            "grid_template_columns": null,
            "flex": null,
            "_model_name": "LayoutModel",
            "justify_items": null,
            "grid_row": null,
            "max_height": null,
            "align_content": null,
            "visibility": null,
            "align_self": null,
            "height": null,
            "min_height": null,
            "padding": null,
            "grid_auto_rows": null,
            "grid_gap": null,
            "max_width": null,
            "order": null,
            "_view_module_version": "1.2.0",
            "grid_template_areas": null,
            "object_position": null,
            "object_fit": null,
            "grid_auto_columns": null,
            "margin": null,
            "display": null,
            "left": null
          }
        },
        "9296f94425ae4be88ab3e43073b23e56": {
          "model_module": "@jupyter-widgets/controls",
          "model_name": "ProgressStyleModel",
          "state": {
            "_view_name": "StyleView",
            "_model_name": "ProgressStyleModel",
            "description_width": "",
            "_view_module": "@jupyter-widgets/base",
            "_model_module_version": "1.5.0",
            "_view_count": null,
            "_view_module_version": "1.2.0",
            "bar_color": null,
            "_model_module": "@jupyter-widgets/controls"
          }
        },
        "6db47c919f80411ab6a84b9256d79533": {
          "model_module": "@jupyter-widgets/base",
          "model_name": "LayoutModel",
          "state": {
            "_view_name": "LayoutView",
            "grid_template_rows": null,
            "right": null,
            "justify_content": null,
            "_view_module": "@jupyter-widgets/base",
            "overflow": null,
            "_model_module_version": "1.2.0",
            "_view_count": null,
            "flex_flow": null,
            "width": null,
            "min_width": null,
            "border": null,
            "align_items": null,
            "bottom": null,
            "_model_module": "@jupyter-widgets/base",
            "top": null,
            "grid_column": null,
            "overflow_y": null,
            "overflow_x": null,
            "grid_auto_flow": null,
            "grid_area": null,
            "grid_template_columns": null,
            "flex": null,
            "_model_name": "LayoutModel",
            "justify_items": null,
            "grid_row": null,
            "max_height": null,
            "align_content": null,
            "visibility": null,
            "align_self": null,
            "height": null,
            "min_height": null,
            "padding": null,
            "grid_auto_rows": null,
            "grid_gap": null,
            "max_width": null,
            "order": null,
            "_view_module_version": "1.2.0",
            "grid_template_areas": null,
            "object_position": null,
            "object_fit": null,
            "grid_auto_columns": null,
            "margin": null,
            "display": null,
            "left": null
          }
        },
        "917d0a13b9964c1eb85bed9b18dfc93d": {
          "model_module": "@jupyter-widgets/controls",
          "model_name": "VBoxModel",
          "state": {
            "_view_name": "VBoxView",
            "_dom_classes": [],
            "_model_name": "VBoxModel",
            "_view_module": "@jupyter-widgets/controls",
            "_model_module_version": "1.5.0",
            "_view_count": null,
            "_view_module_version": "1.5.0",
            "box_style": "",
            "layout": "IPY_MODEL_fce8a23dc2ad41a49379f87b01520cc2",
            "_model_module": "@jupyter-widgets/controls",
            "children": [
              "IPY_MODEL_86a1267e3ce44a3d8e666de4b4104c70",
              "IPY_MODEL_dbce2985b56b47bdb5fb8ebf37e4c898"
            ]
          }
        },
        "fce8a23dc2ad41a49379f87b01520cc2": {
          "model_module": "@jupyter-widgets/base",
          "model_name": "LayoutModel",
          "state": {
            "_view_name": "LayoutView",
            "grid_template_rows": null,
            "right": null,
            "justify_content": null,
            "_view_module": "@jupyter-widgets/base",
            "overflow": null,
            "_model_module_version": "1.2.0",
            "_view_count": null,
            "flex_flow": null,
            "width": null,
            "min_width": null,
            "border": null,
            "align_items": null,
            "bottom": null,
            "_model_module": "@jupyter-widgets/base",
            "top": null,
            "grid_column": null,
            "overflow_y": null,
            "overflow_x": null,
            "grid_auto_flow": null,
            "grid_area": null,
            "grid_template_columns": null,
            "flex": null,
            "_model_name": "LayoutModel",
            "justify_items": null,
            "grid_row": null,
            "max_height": null,
            "align_content": null,
            "visibility": null,
            "align_self": null,
            "height": null,
            "min_height": null,
            "padding": null,
            "grid_auto_rows": null,
            "grid_gap": null,
            "max_width": null,
            "order": null,
            "_view_module_version": "1.2.0",
            "grid_template_areas": null,
            "object_position": null,
            "object_fit": null,
            "grid_auto_columns": null,
            "margin": null,
            "display": null,
            "left": null
          }
        },
        "86a1267e3ce44a3d8e666de4b4104c70": {
          "model_module": "@jupyter-widgets/controls",
          "model_name": "LabelModel",
          "state": {
            "_view_name": "LabelView",
            "style": "IPY_MODEL_edf18c22833343e295d8f3788f5dbf4b",
            "_dom_classes": [],
            "description": "",
            "_model_name": "LabelModel",
            "placeholder": "​",
            "_view_module": "@jupyter-widgets/controls",
            "_model_module_version": "1.5.0",
            "value": " 0.01MB of 0.01MB uploaded (0.00MB deduped)\r",
            "_view_count": null,
            "_view_module_version": "1.5.0",
            "description_tooltip": null,
            "_model_module": "@jupyter-widgets/controls",
            "layout": "IPY_MODEL_463dd0c6f5944d8fbd0d1a885da72aa2"
          }
        },
        "dbce2985b56b47bdb5fb8ebf37e4c898": {
          "model_module": "@jupyter-widgets/controls",
          "model_name": "FloatProgressModel",
          "state": {
            "_view_name": "ProgressView",
            "style": "IPY_MODEL_f7bde5eca4324f5582610abb3444c41a",
            "_dom_classes": [],
            "description": "",
            "_model_name": "FloatProgressModel",
            "bar_style": "",
            "max": 1,
            "_view_module": "@jupyter-widgets/controls",
            "_model_module_version": "1.5.0",
            "value": 1,
            "_view_count": null,
            "_view_module_version": "1.5.0",
            "orientation": "horizontal",
            "min": 0,
            "description_tooltip": null,
            "_model_module": "@jupyter-widgets/controls",
            "layout": "IPY_MODEL_fc4f0fe4bf3d40e18c71b739c8dee68c"
          }
        },
        "edf18c22833343e295d8f3788f5dbf4b": {
          "model_module": "@jupyter-widgets/controls",
          "model_name": "DescriptionStyleModel",
          "state": {
            "_view_name": "StyleView",
            "_model_name": "DescriptionStyleModel",
            "description_width": "",
            "_view_module": "@jupyter-widgets/base",
            "_model_module_version": "1.5.0",
            "_view_count": null,
            "_view_module_version": "1.2.0",
            "_model_module": "@jupyter-widgets/controls"
          }
        },
        "463dd0c6f5944d8fbd0d1a885da72aa2": {
          "model_module": "@jupyter-widgets/base",
          "model_name": "LayoutModel",
          "state": {
            "_view_name": "LayoutView",
            "grid_template_rows": null,
            "right": null,
            "justify_content": null,
            "_view_module": "@jupyter-widgets/base",
            "overflow": null,
            "_model_module_version": "1.2.0",
            "_view_count": null,
            "flex_flow": null,
            "width": null,
            "min_width": null,
            "border": null,
            "align_items": null,
            "bottom": null,
            "_model_module": "@jupyter-widgets/base",
            "top": null,
            "grid_column": null,
            "overflow_y": null,
            "overflow_x": null,
            "grid_auto_flow": null,
            "grid_area": null,
            "grid_template_columns": null,
            "flex": null,
            "_model_name": "LayoutModel",
            "justify_items": null,
            "grid_row": null,
            "max_height": null,
            "align_content": null,
            "visibility": null,
            "align_self": null,
            "height": null,
            "min_height": null,
            "padding": null,
            "grid_auto_rows": null,
            "grid_gap": null,
            "max_width": null,
            "order": null,
            "_view_module_version": "1.2.0",
            "grid_template_areas": null,
            "object_position": null,
            "object_fit": null,
            "grid_auto_columns": null,
            "margin": null,
            "display": null,
            "left": null
          }
        },
        "f7bde5eca4324f5582610abb3444c41a": {
          "model_module": "@jupyter-widgets/controls",
          "model_name": "ProgressStyleModel",
          "state": {
            "_view_name": "StyleView",
            "_model_name": "ProgressStyleModel",
            "description_width": "",
            "_view_module": "@jupyter-widgets/base",
            "_model_module_version": "1.5.0",
            "_view_count": null,
            "_view_module_version": "1.2.0",
            "bar_color": null,
            "_model_module": "@jupyter-widgets/controls"
          }
        },
        "fc4f0fe4bf3d40e18c71b739c8dee68c": {
          "model_module": "@jupyter-widgets/base",
          "model_name": "LayoutModel",
          "state": {
            "_view_name": "LayoutView",
            "grid_template_rows": null,
            "right": null,
            "justify_content": null,
            "_view_module": "@jupyter-widgets/base",
            "overflow": null,
            "_model_module_version": "1.2.0",
            "_view_count": null,
            "flex_flow": null,
            "width": null,
            "min_width": null,
            "border": null,
            "align_items": null,
            "bottom": null,
            "_model_module": "@jupyter-widgets/base",
            "top": null,
            "grid_column": null,
            "overflow_y": null,
            "overflow_x": null,
            "grid_auto_flow": null,
            "grid_area": null,
            "grid_template_columns": null,
            "flex": null,
            "_model_name": "LayoutModel",
            "justify_items": null,
            "grid_row": null,
            "max_height": null,
            "align_content": null,
            "visibility": null,
            "align_self": null,
            "height": null,
            "min_height": null,
            "padding": null,
            "grid_auto_rows": null,
            "grid_gap": null,
            "max_width": null,
            "order": null,
            "_view_module_version": "1.2.0",
            "grid_template_areas": null,
            "object_position": null,
            "object_fit": null,
            "grid_auto_columns": null,
            "margin": null,
            "display": null,
            "left": null
          }
        },
        "28f08c25c26e43c292b53564d1c7e056": {
          "model_module": "@jupyter-widgets/controls",
          "model_name": "VBoxModel",
          "state": {
            "_view_name": "VBoxView",
            "_dom_classes": [],
            "_model_name": "VBoxModel",
            "_view_module": "@jupyter-widgets/controls",
            "_model_module_version": "1.5.0",
            "_view_count": null,
            "_view_module_version": "1.5.0",
            "box_style": "",
            "layout": "IPY_MODEL_81ba7edb385249f68a9b1680af9bb8af",
            "_model_module": "@jupyter-widgets/controls",
            "children": [
              "IPY_MODEL_29418839494b4798a00618e92a82e6d2",
              "IPY_MODEL_98e987d5e97043c5ae5435ed4cfaeb6d"
            ]
          }
        },
        "81ba7edb385249f68a9b1680af9bb8af": {
          "model_module": "@jupyter-widgets/base",
          "model_name": "LayoutModel",
          "state": {
            "_view_name": "LayoutView",
            "grid_template_rows": null,
            "right": null,
            "justify_content": null,
            "_view_module": "@jupyter-widgets/base",
            "overflow": null,
            "_model_module_version": "1.2.0",
            "_view_count": null,
            "flex_flow": null,
            "width": null,
            "min_width": null,
            "border": null,
            "align_items": null,
            "bottom": null,
            "_model_module": "@jupyter-widgets/base",
            "top": null,
            "grid_column": null,
            "overflow_y": null,
            "overflow_x": null,
            "grid_auto_flow": null,
            "grid_area": null,
            "grid_template_columns": null,
            "flex": null,
            "_model_name": "LayoutModel",
            "justify_items": null,
            "grid_row": null,
            "max_height": null,
            "align_content": null,
            "visibility": null,
            "align_self": null,
            "height": null,
            "min_height": null,
            "padding": null,
            "grid_auto_rows": null,
            "grid_gap": null,
            "max_width": null,
            "order": null,
            "_view_module_version": "1.2.0",
            "grid_template_areas": null,
            "object_position": null,
            "object_fit": null,
            "grid_auto_columns": null,
            "margin": null,
            "display": null,
            "left": null
          }
        },
        "29418839494b4798a00618e92a82e6d2": {
          "model_module": "@jupyter-widgets/controls",
          "model_name": "LabelModel",
          "state": {
            "_view_name": "LabelView",
            "style": "IPY_MODEL_8cad365abceb4bfea6eb7be8585df756",
            "_dom_classes": [],
            "description": "",
            "_model_name": "LabelModel",
            "placeholder": "​",
            "_view_module": "@jupyter-widgets/controls",
            "_model_module_version": "1.5.0",
            "value": " 0.01MB of 0.01MB uploaded (0.00MB deduped)\r",
            "_view_count": null,
            "_view_module_version": "1.5.0",
            "description_tooltip": null,
            "_model_module": "@jupyter-widgets/controls",
            "layout": "IPY_MODEL_8d39f97b27934a9f9a45c727b28882b4"
          }
        },
        "98e987d5e97043c5ae5435ed4cfaeb6d": {
          "model_module": "@jupyter-widgets/controls",
          "model_name": "FloatProgressModel",
          "state": {
            "_view_name": "ProgressView",
            "style": "IPY_MODEL_d7e27bfa0b0844b3bae97c241e226984",
            "_dom_classes": [],
            "description": "",
            "_model_name": "FloatProgressModel",
            "bar_style": "",
            "max": 1,
            "_view_module": "@jupyter-widgets/controls",
            "_model_module_version": "1.5.0",
            "value": 1,
            "_view_count": null,
            "_view_module_version": "1.5.0",
            "orientation": "horizontal",
            "min": 0,
            "description_tooltip": null,
            "_model_module": "@jupyter-widgets/controls",
            "layout": "IPY_MODEL_ff7eb53aae144243a19ca79f67b97fb8"
          }
        },
        "8cad365abceb4bfea6eb7be8585df756": {
          "model_module": "@jupyter-widgets/controls",
          "model_name": "DescriptionStyleModel",
          "state": {
            "_view_name": "StyleView",
            "_model_name": "DescriptionStyleModel",
            "description_width": "",
            "_view_module": "@jupyter-widgets/base",
            "_model_module_version": "1.5.0",
            "_view_count": null,
            "_view_module_version": "1.2.0",
            "_model_module": "@jupyter-widgets/controls"
          }
        },
        "8d39f97b27934a9f9a45c727b28882b4": {
          "model_module": "@jupyter-widgets/base",
          "model_name": "LayoutModel",
          "state": {
            "_view_name": "LayoutView",
            "grid_template_rows": null,
            "right": null,
            "justify_content": null,
            "_view_module": "@jupyter-widgets/base",
            "overflow": null,
            "_model_module_version": "1.2.0",
            "_view_count": null,
            "flex_flow": null,
            "width": null,
            "min_width": null,
            "border": null,
            "align_items": null,
            "bottom": null,
            "_model_module": "@jupyter-widgets/base",
            "top": null,
            "grid_column": null,
            "overflow_y": null,
            "overflow_x": null,
            "grid_auto_flow": null,
            "grid_area": null,
            "grid_template_columns": null,
            "flex": null,
            "_model_name": "LayoutModel",
            "justify_items": null,
            "grid_row": null,
            "max_height": null,
            "align_content": null,
            "visibility": null,
            "align_self": null,
            "height": null,
            "min_height": null,
            "padding": null,
            "grid_auto_rows": null,
            "grid_gap": null,
            "max_width": null,
            "order": null,
            "_view_module_version": "1.2.0",
            "grid_template_areas": null,
            "object_position": null,
            "object_fit": null,
            "grid_auto_columns": null,
            "margin": null,
            "display": null,
            "left": null
          }
        },
        "d7e27bfa0b0844b3bae97c241e226984": {
          "model_module": "@jupyter-widgets/controls",
          "model_name": "ProgressStyleModel",
          "state": {
            "_view_name": "StyleView",
            "_model_name": "ProgressStyleModel",
            "description_width": "",
            "_view_module": "@jupyter-widgets/base",
            "_model_module_version": "1.5.0",
            "_view_count": null,
            "_view_module_version": "1.2.0",
            "bar_color": null,
            "_model_module": "@jupyter-widgets/controls"
          }
        },
        "ff7eb53aae144243a19ca79f67b97fb8": {
          "model_module": "@jupyter-widgets/base",
          "model_name": "LayoutModel",
          "state": {
            "_view_name": "LayoutView",
            "grid_template_rows": null,
            "right": null,
            "justify_content": null,
            "_view_module": "@jupyter-widgets/base",
            "overflow": null,
            "_model_module_version": "1.2.0",
            "_view_count": null,
            "flex_flow": null,
            "width": null,
            "min_width": null,
            "border": null,
            "align_items": null,
            "bottom": null,
            "_model_module": "@jupyter-widgets/base",
            "top": null,
            "grid_column": null,
            "overflow_y": null,
            "overflow_x": null,
            "grid_auto_flow": null,
            "grid_area": null,
            "grid_template_columns": null,
            "flex": null,
            "_model_name": "LayoutModel",
            "justify_items": null,
            "grid_row": null,
            "max_height": null,
            "align_content": null,
            "visibility": null,
            "align_self": null,
            "height": null,
            "min_height": null,
            "padding": null,
            "grid_auto_rows": null,
            "grid_gap": null,
            "max_width": null,
            "order": null,
            "_view_module_version": "1.2.0",
            "grid_template_areas": null,
            "object_position": null,
            "object_fit": null,
            "grid_auto_columns": null,
            "margin": null,
            "display": null,
            "left": null
          }
        },
        "f5ad74d0315f419182693f49773d5d13": {
          "model_module": "@jupyter-widgets/controls",
          "model_name": "VBoxModel",
          "state": {
            "_view_name": "VBoxView",
            "_dom_classes": [],
            "_model_name": "VBoxModel",
            "_view_module": "@jupyter-widgets/controls",
            "_model_module_version": "1.5.0",
            "_view_count": null,
            "_view_module_version": "1.5.0",
            "box_style": "",
            "layout": "IPY_MODEL_e88b945bdd394b8294b4fdca45077f00",
            "_model_module": "@jupyter-widgets/controls",
            "children": [
              "IPY_MODEL_204f4f4444374bd485931ce1514e58ef",
              "IPY_MODEL_9d10906830a14908a292d5c25e575911"
            ]
          }
        },
        "e88b945bdd394b8294b4fdca45077f00": {
          "model_module": "@jupyter-widgets/base",
          "model_name": "LayoutModel",
          "state": {
            "_view_name": "LayoutView",
            "grid_template_rows": null,
            "right": null,
            "justify_content": null,
            "_view_module": "@jupyter-widgets/base",
            "overflow": null,
            "_model_module_version": "1.2.0",
            "_view_count": null,
            "flex_flow": null,
            "width": null,
            "min_width": null,
            "border": null,
            "align_items": null,
            "bottom": null,
            "_model_module": "@jupyter-widgets/base",
            "top": null,
            "grid_column": null,
            "overflow_y": null,
            "overflow_x": null,
            "grid_auto_flow": null,
            "grid_area": null,
            "grid_template_columns": null,
            "flex": null,
            "_model_name": "LayoutModel",
            "justify_items": null,
            "grid_row": null,
            "max_height": null,
            "align_content": null,
            "visibility": null,
            "align_self": null,
            "height": null,
            "min_height": null,
            "padding": null,
            "grid_auto_rows": null,
            "grid_gap": null,
            "max_width": null,
            "order": null,
            "_view_module_version": "1.2.0",
            "grid_template_areas": null,
            "object_position": null,
            "object_fit": null,
            "grid_auto_columns": null,
            "margin": null,
            "display": null,
            "left": null
          }
        },
        "204f4f4444374bd485931ce1514e58ef": {
          "model_module": "@jupyter-widgets/controls",
          "model_name": "LabelModel",
          "state": {
            "_view_name": "LabelView",
            "style": "IPY_MODEL_455e3c4202ef4009995c0fff13d908ea",
            "_dom_classes": [],
            "description": "",
            "_model_name": "LabelModel",
            "placeholder": "​",
            "_view_module": "@jupyter-widgets/controls",
            "_model_module_version": "1.5.0",
            "value": " 0.01MB of 0.01MB uploaded (0.00MB deduped)\r",
            "_view_count": null,
            "_view_module_version": "1.5.0",
            "description_tooltip": null,
            "_model_module": "@jupyter-widgets/controls",
            "layout": "IPY_MODEL_4c58d4ebc5054abfa041b8f3f26d067a"
          }
        },
        "9d10906830a14908a292d5c25e575911": {
          "model_module": "@jupyter-widgets/controls",
          "model_name": "FloatProgressModel",
          "state": {
            "_view_name": "ProgressView",
            "style": "IPY_MODEL_596707df383a41b883bf671c9fead799",
            "_dom_classes": [],
            "description": "",
            "_model_name": "FloatProgressModel",
            "bar_style": "",
            "max": 1,
            "_view_module": "@jupyter-widgets/controls",
            "_model_module_version": "1.5.0",
            "value": 1,
            "_view_count": null,
            "_view_module_version": "1.5.0",
            "orientation": "horizontal",
            "min": 0,
            "description_tooltip": null,
            "_model_module": "@jupyter-widgets/controls",
            "layout": "IPY_MODEL_073f9b3b214346b38d552c1aef77d91b"
          }
        },
        "455e3c4202ef4009995c0fff13d908ea": {
          "model_module": "@jupyter-widgets/controls",
          "model_name": "DescriptionStyleModel",
          "state": {
            "_view_name": "StyleView",
            "_model_name": "DescriptionStyleModel",
            "description_width": "",
            "_view_module": "@jupyter-widgets/base",
            "_model_module_version": "1.5.0",
            "_view_count": null,
            "_view_module_version": "1.2.0",
            "_model_module": "@jupyter-widgets/controls"
          }
        },
        "4c58d4ebc5054abfa041b8f3f26d067a": {
          "model_module": "@jupyter-widgets/base",
          "model_name": "LayoutModel",
          "state": {
            "_view_name": "LayoutView",
            "grid_template_rows": null,
            "right": null,
            "justify_content": null,
            "_view_module": "@jupyter-widgets/base",
            "overflow": null,
            "_model_module_version": "1.2.0",
            "_view_count": null,
            "flex_flow": null,
            "width": null,
            "min_width": null,
            "border": null,
            "align_items": null,
            "bottom": null,
            "_model_module": "@jupyter-widgets/base",
            "top": null,
            "grid_column": null,
            "overflow_y": null,
            "overflow_x": null,
            "grid_auto_flow": null,
            "grid_area": null,
            "grid_template_columns": null,
            "flex": null,
            "_model_name": "LayoutModel",
            "justify_items": null,
            "grid_row": null,
            "max_height": null,
            "align_content": null,
            "visibility": null,
            "align_self": null,
            "height": null,
            "min_height": null,
            "padding": null,
            "grid_auto_rows": null,
            "grid_gap": null,
            "max_width": null,
            "order": null,
            "_view_module_version": "1.2.0",
            "grid_template_areas": null,
            "object_position": null,
            "object_fit": null,
            "grid_auto_columns": null,
            "margin": null,
            "display": null,
            "left": null
          }
        },
        "596707df383a41b883bf671c9fead799": {
          "model_module": "@jupyter-widgets/controls",
          "model_name": "ProgressStyleModel",
          "state": {
            "_view_name": "StyleView",
            "_model_name": "ProgressStyleModel",
            "description_width": "",
            "_view_module": "@jupyter-widgets/base",
            "_model_module_version": "1.5.0",
            "_view_count": null,
            "_view_module_version": "1.2.0",
            "bar_color": null,
            "_model_module": "@jupyter-widgets/controls"
          }
        },
        "073f9b3b214346b38d552c1aef77d91b": {
          "model_module": "@jupyter-widgets/base",
          "model_name": "LayoutModel",
          "state": {
            "_view_name": "LayoutView",
            "grid_template_rows": null,
            "right": null,
            "justify_content": null,
            "_view_module": "@jupyter-widgets/base",
            "overflow": null,
            "_model_module_version": "1.2.0",
            "_view_count": null,
            "flex_flow": null,
            "width": null,
            "min_width": null,
            "border": null,
            "align_items": null,
            "bottom": null,
            "_model_module": "@jupyter-widgets/base",
            "top": null,
            "grid_column": null,
            "overflow_y": null,
            "overflow_x": null,
            "grid_auto_flow": null,
            "grid_area": null,
            "grid_template_columns": null,
            "flex": null,
            "_model_name": "LayoutModel",
            "justify_items": null,
            "grid_row": null,
            "max_height": null,
            "align_content": null,
            "visibility": null,
            "align_self": null,
            "height": null,
            "min_height": null,
            "padding": null,
            "grid_auto_rows": null,
            "grid_gap": null,
            "max_width": null,
            "order": null,
            "_view_module_version": "1.2.0",
            "grid_template_areas": null,
            "object_position": null,
            "object_fit": null,
            "grid_auto_columns": null,
            "margin": null,
            "display": null,
            "left": null
          }
        },
        "8c6b351450774323937d5cefe96a8375": {
          "model_module": "@jupyter-widgets/controls",
          "model_name": "VBoxModel",
          "state": {
            "_view_name": "VBoxView",
            "_dom_classes": [],
            "_model_name": "VBoxModel",
            "_view_module": "@jupyter-widgets/controls",
            "_model_module_version": "1.5.0",
            "_view_count": null,
            "_view_module_version": "1.5.0",
            "box_style": "",
            "layout": "IPY_MODEL_8c4e297f926b4794a7e41fcd43eed2bd",
            "_model_module": "@jupyter-widgets/controls",
            "children": [
              "IPY_MODEL_444ced8467ce455f9b2ff72250d3e02f",
              "IPY_MODEL_b0b059a8f435460b84e3e4d9b15b3bf9"
            ]
          }
        },
        "8c4e297f926b4794a7e41fcd43eed2bd": {
          "model_module": "@jupyter-widgets/base",
          "model_name": "LayoutModel",
          "state": {
            "_view_name": "LayoutView",
            "grid_template_rows": null,
            "right": null,
            "justify_content": null,
            "_view_module": "@jupyter-widgets/base",
            "overflow": null,
            "_model_module_version": "1.2.0",
            "_view_count": null,
            "flex_flow": null,
            "width": null,
            "min_width": null,
            "border": null,
            "align_items": null,
            "bottom": null,
            "_model_module": "@jupyter-widgets/base",
            "top": null,
            "grid_column": null,
            "overflow_y": null,
            "overflow_x": null,
            "grid_auto_flow": null,
            "grid_area": null,
            "grid_template_columns": null,
            "flex": null,
            "_model_name": "LayoutModel",
            "justify_items": null,
            "grid_row": null,
            "max_height": null,
            "align_content": null,
            "visibility": null,
            "align_self": null,
            "height": null,
            "min_height": null,
            "padding": null,
            "grid_auto_rows": null,
            "grid_gap": null,
            "max_width": null,
            "order": null,
            "_view_module_version": "1.2.0",
            "grid_template_areas": null,
            "object_position": null,
            "object_fit": null,
            "grid_auto_columns": null,
            "margin": null,
            "display": null,
            "left": null
          }
        },
        "444ced8467ce455f9b2ff72250d3e02f": {
          "model_module": "@jupyter-widgets/controls",
          "model_name": "LabelModel",
          "state": {
            "_view_name": "LabelView",
            "style": "IPY_MODEL_1edc5a2ed317498194832d21422fd536",
            "_dom_classes": [],
            "description": "",
            "_model_name": "LabelModel",
            "placeholder": "​",
            "_view_module": "@jupyter-widgets/controls",
            "_model_module_version": "1.5.0",
            "value": " 0.01MB of 0.01MB uploaded (0.00MB deduped)\r",
            "_view_count": null,
            "_view_module_version": "1.5.0",
            "description_tooltip": null,
            "_model_module": "@jupyter-widgets/controls",
            "layout": "IPY_MODEL_0832a3f63d254edbae733e2e289bf557"
          }
        },
        "b0b059a8f435460b84e3e4d9b15b3bf9": {
          "model_module": "@jupyter-widgets/controls",
          "model_name": "FloatProgressModel",
          "state": {
            "_view_name": "ProgressView",
            "style": "IPY_MODEL_ceca82fa75704d94ae943dcbd923e086",
            "_dom_classes": [],
            "description": "",
            "_model_name": "FloatProgressModel",
            "bar_style": "",
            "max": 1,
            "_view_module": "@jupyter-widgets/controls",
            "_model_module_version": "1.5.0",
            "value": 1,
            "_view_count": null,
            "_view_module_version": "1.5.0",
            "orientation": "horizontal",
            "min": 0,
            "description_tooltip": null,
            "_model_module": "@jupyter-widgets/controls",
            "layout": "IPY_MODEL_5e41d729ce3741e788dbef7f081b195a"
          }
        },
        "1edc5a2ed317498194832d21422fd536": {
          "model_module": "@jupyter-widgets/controls",
          "model_name": "DescriptionStyleModel",
          "state": {
            "_view_name": "StyleView",
            "_model_name": "DescriptionStyleModel",
            "description_width": "",
            "_view_module": "@jupyter-widgets/base",
            "_model_module_version": "1.5.0",
            "_view_count": null,
            "_view_module_version": "1.2.0",
            "_model_module": "@jupyter-widgets/controls"
          }
        },
        "0832a3f63d254edbae733e2e289bf557": {
          "model_module": "@jupyter-widgets/base",
          "model_name": "LayoutModel",
          "state": {
            "_view_name": "LayoutView",
            "grid_template_rows": null,
            "right": null,
            "justify_content": null,
            "_view_module": "@jupyter-widgets/base",
            "overflow": null,
            "_model_module_version": "1.2.0",
            "_view_count": null,
            "flex_flow": null,
            "width": null,
            "min_width": null,
            "border": null,
            "align_items": null,
            "bottom": null,
            "_model_module": "@jupyter-widgets/base",
            "top": null,
            "grid_column": null,
            "overflow_y": null,
            "overflow_x": null,
            "grid_auto_flow": null,
            "grid_area": null,
            "grid_template_columns": null,
            "flex": null,
            "_model_name": "LayoutModel",
            "justify_items": null,
            "grid_row": null,
            "max_height": null,
            "align_content": null,
            "visibility": null,
            "align_self": null,
            "height": null,
            "min_height": null,
            "padding": null,
            "grid_auto_rows": null,
            "grid_gap": null,
            "max_width": null,
            "order": null,
            "_view_module_version": "1.2.0",
            "grid_template_areas": null,
            "object_position": null,
            "object_fit": null,
            "grid_auto_columns": null,
            "margin": null,
            "display": null,
            "left": null
          }
        },
        "ceca82fa75704d94ae943dcbd923e086": {
          "model_module": "@jupyter-widgets/controls",
          "model_name": "ProgressStyleModel",
          "state": {
            "_view_name": "StyleView",
            "_model_name": "ProgressStyleModel",
            "description_width": "",
            "_view_module": "@jupyter-widgets/base",
            "_model_module_version": "1.5.0",
            "_view_count": null,
            "_view_module_version": "1.2.0",
            "bar_color": null,
            "_model_module": "@jupyter-widgets/controls"
          }
        },
        "5e41d729ce3741e788dbef7f081b195a": {
          "model_module": "@jupyter-widgets/base",
          "model_name": "LayoutModel",
          "state": {
            "_view_name": "LayoutView",
            "grid_template_rows": null,
            "right": null,
            "justify_content": null,
            "_view_module": "@jupyter-widgets/base",
            "overflow": null,
            "_model_module_version": "1.2.0",
            "_view_count": null,
            "flex_flow": null,
            "width": null,
            "min_width": null,
            "border": null,
            "align_items": null,
            "bottom": null,
            "_model_module": "@jupyter-widgets/base",
            "top": null,
            "grid_column": null,
            "overflow_y": null,
            "overflow_x": null,
            "grid_auto_flow": null,
            "grid_area": null,
            "grid_template_columns": null,
            "flex": null,
            "_model_name": "LayoutModel",
            "justify_items": null,
            "grid_row": null,
            "max_height": null,
            "align_content": null,
            "visibility": null,
            "align_self": null,
            "height": null,
            "min_height": null,
            "padding": null,
            "grid_auto_rows": null,
            "grid_gap": null,
            "max_width": null,
            "order": null,
            "_view_module_version": "1.2.0",
            "grid_template_areas": null,
            "object_position": null,
            "object_fit": null,
            "grid_auto_columns": null,
            "margin": null,
            "display": null,
            "left": null
          }
        },
        "9f749d6645a2486bacdad6764cd3fec9": {
          "model_module": "@jupyter-widgets/controls",
          "model_name": "VBoxModel",
          "state": {
            "_view_name": "VBoxView",
            "_dom_classes": [],
            "_model_name": "VBoxModel",
            "_view_module": "@jupyter-widgets/controls",
            "_model_module_version": "1.5.0",
            "_view_count": null,
            "_view_module_version": "1.5.0",
            "box_style": "",
            "layout": "IPY_MODEL_3062a98d341c49519c25f4a8ce73fe59",
            "_model_module": "@jupyter-widgets/controls",
            "children": [
              "IPY_MODEL_0b151d960ac74af8ae373ca591c36021",
              "IPY_MODEL_fa0d782245164f5fb81a75c6f77da3fa"
            ]
          }
        },
        "3062a98d341c49519c25f4a8ce73fe59": {
          "model_module": "@jupyter-widgets/base",
          "model_name": "LayoutModel",
          "state": {
            "_view_name": "LayoutView",
            "grid_template_rows": null,
            "right": null,
            "justify_content": null,
            "_view_module": "@jupyter-widgets/base",
            "overflow": null,
            "_model_module_version": "1.2.0",
            "_view_count": null,
            "flex_flow": null,
            "width": null,
            "min_width": null,
            "border": null,
            "align_items": null,
            "bottom": null,
            "_model_module": "@jupyter-widgets/base",
            "top": null,
            "grid_column": null,
            "overflow_y": null,
            "overflow_x": null,
            "grid_auto_flow": null,
            "grid_area": null,
            "grid_template_columns": null,
            "flex": null,
            "_model_name": "LayoutModel",
            "justify_items": null,
            "grid_row": null,
            "max_height": null,
            "align_content": null,
            "visibility": null,
            "align_self": null,
            "height": null,
            "min_height": null,
            "padding": null,
            "grid_auto_rows": null,
            "grid_gap": null,
            "max_width": null,
            "order": null,
            "_view_module_version": "1.2.0",
            "grid_template_areas": null,
            "object_position": null,
            "object_fit": null,
            "grid_auto_columns": null,
            "margin": null,
            "display": null,
            "left": null
          }
        },
        "0b151d960ac74af8ae373ca591c36021": {
          "model_module": "@jupyter-widgets/controls",
          "model_name": "LabelModel",
          "state": {
            "_view_name": "LabelView",
            "style": "IPY_MODEL_435e4e76cf464f01a785b65af9f5b036",
            "_dom_classes": [],
            "description": "",
            "_model_name": "LabelModel",
            "placeholder": "​",
            "_view_module": "@jupyter-widgets/controls",
            "_model_module_version": "1.5.0",
            "value": " 0.01MB of 0.01MB uploaded (0.00MB deduped)\r",
            "_view_count": null,
            "_view_module_version": "1.5.0",
            "description_tooltip": null,
            "_model_module": "@jupyter-widgets/controls",
            "layout": "IPY_MODEL_15016fe97b4042d687774a69303e5f71"
          }
        },
        "fa0d782245164f5fb81a75c6f77da3fa": {
          "model_module": "@jupyter-widgets/controls",
          "model_name": "FloatProgressModel",
          "state": {
            "_view_name": "ProgressView",
            "style": "IPY_MODEL_11fc28916e8744319cd29e78becce879",
            "_dom_classes": [],
            "description": "",
            "_model_name": "FloatProgressModel",
            "bar_style": "",
            "max": 1,
            "_view_module": "@jupyter-widgets/controls",
            "_model_module_version": "1.5.0",
            "value": 1,
            "_view_count": null,
            "_view_module_version": "1.5.0",
            "orientation": "horizontal",
            "min": 0,
            "description_tooltip": null,
            "_model_module": "@jupyter-widgets/controls",
            "layout": "IPY_MODEL_0d9c1ffe21b445568f302c6faeeae635"
          }
        },
        "435e4e76cf464f01a785b65af9f5b036": {
          "model_module": "@jupyter-widgets/controls",
          "model_name": "DescriptionStyleModel",
          "state": {
            "_view_name": "StyleView",
            "_model_name": "DescriptionStyleModel",
            "description_width": "",
            "_view_module": "@jupyter-widgets/base",
            "_model_module_version": "1.5.0",
            "_view_count": null,
            "_view_module_version": "1.2.0",
            "_model_module": "@jupyter-widgets/controls"
          }
        },
        "15016fe97b4042d687774a69303e5f71": {
          "model_module": "@jupyter-widgets/base",
          "model_name": "LayoutModel",
          "state": {
            "_view_name": "LayoutView",
            "grid_template_rows": null,
            "right": null,
            "justify_content": null,
            "_view_module": "@jupyter-widgets/base",
            "overflow": null,
            "_model_module_version": "1.2.0",
            "_view_count": null,
            "flex_flow": null,
            "width": null,
            "min_width": null,
            "border": null,
            "align_items": null,
            "bottom": null,
            "_model_module": "@jupyter-widgets/base",
            "top": null,
            "grid_column": null,
            "overflow_y": null,
            "overflow_x": null,
            "grid_auto_flow": null,
            "grid_area": null,
            "grid_template_columns": null,
            "flex": null,
            "_model_name": "LayoutModel",
            "justify_items": null,
            "grid_row": null,
            "max_height": null,
            "align_content": null,
            "visibility": null,
            "align_self": null,
            "height": null,
            "min_height": null,
            "padding": null,
            "grid_auto_rows": null,
            "grid_gap": null,
            "max_width": null,
            "order": null,
            "_view_module_version": "1.2.0",
            "grid_template_areas": null,
            "object_position": null,
            "object_fit": null,
            "grid_auto_columns": null,
            "margin": null,
            "display": null,
            "left": null
          }
        },
        "11fc28916e8744319cd29e78becce879": {
          "model_module": "@jupyter-widgets/controls",
          "model_name": "ProgressStyleModel",
          "state": {
            "_view_name": "StyleView",
            "_model_name": "ProgressStyleModel",
            "description_width": "",
            "_view_module": "@jupyter-widgets/base",
            "_model_module_version": "1.5.0",
            "_view_count": null,
            "_view_module_version": "1.2.0",
            "bar_color": null,
            "_model_module": "@jupyter-widgets/controls"
          }
        },
        "0d9c1ffe21b445568f302c6faeeae635": {
          "model_module": "@jupyter-widgets/base",
          "model_name": "LayoutModel",
          "state": {
            "_view_name": "LayoutView",
            "grid_template_rows": null,
            "right": null,
            "justify_content": null,
            "_view_module": "@jupyter-widgets/base",
            "overflow": null,
            "_model_module_version": "1.2.0",
            "_view_count": null,
            "flex_flow": null,
            "width": null,
            "min_width": null,
            "border": null,
            "align_items": null,
            "bottom": null,
            "_model_module": "@jupyter-widgets/base",
            "top": null,
            "grid_column": null,
            "overflow_y": null,
            "overflow_x": null,
            "grid_auto_flow": null,
            "grid_area": null,
            "grid_template_columns": null,
            "flex": null,
            "_model_name": "LayoutModel",
            "justify_items": null,
            "grid_row": null,
            "max_height": null,
            "align_content": null,
            "visibility": null,
            "align_self": null,
            "height": null,
            "min_height": null,
            "padding": null,
            "grid_auto_rows": null,
            "grid_gap": null,
            "max_width": null,
            "order": null,
            "_view_module_version": "1.2.0",
            "grid_template_areas": null,
            "object_position": null,
            "object_fit": null,
            "grid_auto_columns": null,
            "margin": null,
            "display": null,
            "left": null
          }
        },
        "09a090259af94684b64272c0a45b3bcd": {
          "model_module": "@jupyter-widgets/controls",
          "model_name": "VBoxModel",
          "state": {
            "_view_name": "VBoxView",
            "_dom_classes": [],
            "_model_name": "VBoxModel",
            "_view_module": "@jupyter-widgets/controls",
            "_model_module_version": "1.5.0",
            "_view_count": null,
            "_view_module_version": "1.5.0",
            "box_style": "",
            "layout": "IPY_MODEL_501f1ba38bc54f30b253a1e9a2ca65aa",
            "_model_module": "@jupyter-widgets/controls",
            "children": [
              "IPY_MODEL_1cc4089d77784a5d8924f53d01200171",
              "IPY_MODEL_93c1ecfd78fe4bcfa964757934b9f236"
            ]
          }
        },
        "501f1ba38bc54f30b253a1e9a2ca65aa": {
          "model_module": "@jupyter-widgets/base",
          "model_name": "LayoutModel",
          "state": {
            "_view_name": "LayoutView",
            "grid_template_rows": null,
            "right": null,
            "justify_content": null,
            "_view_module": "@jupyter-widgets/base",
            "overflow": null,
            "_model_module_version": "1.2.0",
            "_view_count": null,
            "flex_flow": null,
            "width": null,
            "min_width": null,
            "border": null,
            "align_items": null,
            "bottom": null,
            "_model_module": "@jupyter-widgets/base",
            "top": null,
            "grid_column": null,
            "overflow_y": null,
            "overflow_x": null,
            "grid_auto_flow": null,
            "grid_area": null,
            "grid_template_columns": null,
            "flex": null,
            "_model_name": "LayoutModel",
            "justify_items": null,
            "grid_row": null,
            "max_height": null,
            "align_content": null,
            "visibility": null,
            "align_self": null,
            "height": null,
            "min_height": null,
            "padding": null,
            "grid_auto_rows": null,
            "grid_gap": null,
            "max_width": null,
            "order": null,
            "_view_module_version": "1.2.0",
            "grid_template_areas": null,
            "object_position": null,
            "object_fit": null,
            "grid_auto_columns": null,
            "margin": null,
            "display": null,
            "left": null
          }
        },
        "1cc4089d77784a5d8924f53d01200171": {
          "model_module": "@jupyter-widgets/controls",
          "model_name": "LabelModel",
          "state": {
            "_view_name": "LabelView",
            "style": "IPY_MODEL_0045336e9c334a76bb841e68cf40d2e7",
            "_dom_classes": [],
            "description": "",
            "_model_name": "LabelModel",
            "placeholder": "​",
            "_view_module": "@jupyter-widgets/controls",
            "_model_module_version": "1.5.0",
            "value": " 0.01MB of 0.01MB uploaded (0.00MB deduped)\r",
            "_view_count": null,
            "_view_module_version": "1.5.0",
            "description_tooltip": null,
            "_model_module": "@jupyter-widgets/controls",
            "layout": "IPY_MODEL_3b645b03bfc1464c89264bc73d08b14d"
          }
        },
        "93c1ecfd78fe4bcfa964757934b9f236": {
          "model_module": "@jupyter-widgets/controls",
          "model_name": "FloatProgressModel",
          "state": {
            "_view_name": "ProgressView",
            "style": "IPY_MODEL_6e0a1f3963544bf190ad5d107100b38e",
            "_dom_classes": [],
            "description": "",
            "_model_name": "FloatProgressModel",
            "bar_style": "",
            "max": 1,
            "_view_module": "@jupyter-widgets/controls",
            "_model_module_version": "1.5.0",
            "value": 1,
            "_view_count": null,
            "_view_module_version": "1.5.0",
            "orientation": "horizontal",
            "min": 0,
            "description_tooltip": null,
            "_model_module": "@jupyter-widgets/controls",
            "layout": "IPY_MODEL_89b26a8da10a4222ae0e4c4681088387"
          }
        },
        "0045336e9c334a76bb841e68cf40d2e7": {
          "model_module": "@jupyter-widgets/controls",
          "model_name": "DescriptionStyleModel",
          "state": {
            "_view_name": "StyleView",
            "_model_name": "DescriptionStyleModel",
            "description_width": "",
            "_view_module": "@jupyter-widgets/base",
            "_model_module_version": "1.5.0",
            "_view_count": null,
            "_view_module_version": "1.2.0",
            "_model_module": "@jupyter-widgets/controls"
          }
        },
        "3b645b03bfc1464c89264bc73d08b14d": {
          "model_module": "@jupyter-widgets/base",
          "model_name": "LayoutModel",
          "state": {
            "_view_name": "LayoutView",
            "grid_template_rows": null,
            "right": null,
            "justify_content": null,
            "_view_module": "@jupyter-widgets/base",
            "overflow": null,
            "_model_module_version": "1.2.0",
            "_view_count": null,
            "flex_flow": null,
            "width": null,
            "min_width": null,
            "border": null,
            "align_items": null,
            "bottom": null,
            "_model_module": "@jupyter-widgets/base",
            "top": null,
            "grid_column": null,
            "overflow_y": null,
            "overflow_x": null,
            "grid_auto_flow": null,
            "grid_area": null,
            "grid_template_columns": null,
            "flex": null,
            "_model_name": "LayoutModel",
            "justify_items": null,
            "grid_row": null,
            "max_height": null,
            "align_content": null,
            "visibility": null,
            "align_self": null,
            "height": null,
            "min_height": null,
            "padding": null,
            "grid_auto_rows": null,
            "grid_gap": null,
            "max_width": null,
            "order": null,
            "_view_module_version": "1.2.0",
            "grid_template_areas": null,
            "object_position": null,
            "object_fit": null,
            "grid_auto_columns": null,
            "margin": null,
            "display": null,
            "left": null
          }
        },
        "6e0a1f3963544bf190ad5d107100b38e": {
          "model_module": "@jupyter-widgets/controls",
          "model_name": "ProgressStyleModel",
          "state": {
            "_view_name": "StyleView",
            "_model_name": "ProgressStyleModel",
            "description_width": "",
            "_view_module": "@jupyter-widgets/base",
            "_model_module_version": "1.5.0",
            "_view_count": null,
            "_view_module_version": "1.2.0",
            "bar_color": null,
            "_model_module": "@jupyter-widgets/controls"
          }
        },
        "89b26a8da10a4222ae0e4c4681088387": {
          "model_module": "@jupyter-widgets/base",
          "model_name": "LayoutModel",
          "state": {
            "_view_name": "LayoutView",
            "grid_template_rows": null,
            "right": null,
            "justify_content": null,
            "_view_module": "@jupyter-widgets/base",
            "overflow": null,
            "_model_module_version": "1.2.0",
            "_view_count": null,
            "flex_flow": null,
            "width": null,
            "min_width": null,
            "border": null,
            "align_items": null,
            "bottom": null,
            "_model_module": "@jupyter-widgets/base",
            "top": null,
            "grid_column": null,
            "overflow_y": null,
            "overflow_x": null,
            "grid_auto_flow": null,
            "grid_area": null,
            "grid_template_columns": null,
            "flex": null,
            "_model_name": "LayoutModel",
            "justify_items": null,
            "grid_row": null,
            "max_height": null,
            "align_content": null,
            "visibility": null,
            "align_self": null,
            "height": null,
            "min_height": null,
            "padding": null,
            "grid_auto_rows": null,
            "grid_gap": null,
            "max_width": null,
            "order": null,
            "_view_module_version": "1.2.0",
            "grid_template_areas": null,
            "object_position": null,
            "object_fit": null,
            "grid_auto_columns": null,
            "margin": null,
            "display": null,
            "left": null
          }
        },
        "b1328832757847ac8c8e5ab0916e73b1": {
          "model_module": "@jupyter-widgets/controls",
          "model_name": "VBoxModel",
          "state": {
            "_view_name": "VBoxView",
            "_dom_classes": [],
            "_model_name": "VBoxModel",
            "_view_module": "@jupyter-widgets/controls",
            "_model_module_version": "1.5.0",
            "_view_count": null,
            "_view_module_version": "1.5.0",
            "box_style": "",
            "layout": "IPY_MODEL_05eff24ade3248be87ccb4747db1d7a1",
            "_model_module": "@jupyter-widgets/controls",
            "children": [
              "IPY_MODEL_e0c79bf4c633491dbe40e2ce5cfeca23",
              "IPY_MODEL_a57843cbcb5d417482103d6c1d700767"
            ]
          }
        },
        "05eff24ade3248be87ccb4747db1d7a1": {
          "model_module": "@jupyter-widgets/base",
          "model_name": "LayoutModel",
          "state": {
            "_view_name": "LayoutView",
            "grid_template_rows": null,
            "right": null,
            "justify_content": null,
            "_view_module": "@jupyter-widgets/base",
            "overflow": null,
            "_model_module_version": "1.2.0",
            "_view_count": null,
            "flex_flow": null,
            "width": null,
            "min_width": null,
            "border": null,
            "align_items": null,
            "bottom": null,
            "_model_module": "@jupyter-widgets/base",
            "top": null,
            "grid_column": null,
            "overflow_y": null,
            "overflow_x": null,
            "grid_auto_flow": null,
            "grid_area": null,
            "grid_template_columns": null,
            "flex": null,
            "_model_name": "LayoutModel",
            "justify_items": null,
            "grid_row": null,
            "max_height": null,
            "align_content": null,
            "visibility": null,
            "align_self": null,
            "height": null,
            "min_height": null,
            "padding": null,
            "grid_auto_rows": null,
            "grid_gap": null,
            "max_width": null,
            "order": null,
            "_view_module_version": "1.2.0",
            "grid_template_areas": null,
            "object_position": null,
            "object_fit": null,
            "grid_auto_columns": null,
            "margin": null,
            "display": null,
            "left": null
          }
        },
        "e0c79bf4c633491dbe40e2ce5cfeca23": {
          "model_module": "@jupyter-widgets/controls",
          "model_name": "LabelModel",
          "state": {
            "_view_name": "LabelView",
            "style": "IPY_MODEL_1c1278c363a24da29ed941f946d3d0b5",
            "_dom_classes": [],
            "description": "",
            "_model_name": "LabelModel",
            "placeholder": "​",
            "_view_module": "@jupyter-widgets/controls",
            "_model_module_version": "1.5.0",
            "value": " 0.01MB of 0.01MB uploaded (0.00MB deduped)\r",
            "_view_count": null,
            "_view_module_version": "1.5.0",
            "description_tooltip": null,
            "_model_module": "@jupyter-widgets/controls",
            "layout": "IPY_MODEL_d2369c7b71f149b382ea72a576e7833c"
          }
        },
        "a57843cbcb5d417482103d6c1d700767": {
          "model_module": "@jupyter-widgets/controls",
          "model_name": "FloatProgressModel",
          "state": {
            "_view_name": "ProgressView",
            "style": "IPY_MODEL_a81fca1e121d49fcab5d2c3966e08d76",
            "_dom_classes": [],
            "description": "",
            "_model_name": "FloatProgressModel",
            "bar_style": "",
            "max": 1,
            "_view_module": "@jupyter-widgets/controls",
            "_model_module_version": "1.5.0",
            "value": 1,
            "_view_count": null,
            "_view_module_version": "1.5.0",
            "orientation": "horizontal",
            "min": 0,
            "description_tooltip": null,
            "_model_module": "@jupyter-widgets/controls",
            "layout": "IPY_MODEL_ca3e0057e93c49f781ce61b841bdce50"
          }
        },
        "1c1278c363a24da29ed941f946d3d0b5": {
          "model_module": "@jupyter-widgets/controls",
          "model_name": "DescriptionStyleModel",
          "state": {
            "_view_name": "StyleView",
            "_model_name": "DescriptionStyleModel",
            "description_width": "",
            "_view_module": "@jupyter-widgets/base",
            "_model_module_version": "1.5.0",
            "_view_count": null,
            "_view_module_version": "1.2.0",
            "_model_module": "@jupyter-widgets/controls"
          }
        },
        "d2369c7b71f149b382ea72a576e7833c": {
          "model_module": "@jupyter-widgets/base",
          "model_name": "LayoutModel",
          "state": {
            "_view_name": "LayoutView",
            "grid_template_rows": null,
            "right": null,
            "justify_content": null,
            "_view_module": "@jupyter-widgets/base",
            "overflow": null,
            "_model_module_version": "1.2.0",
            "_view_count": null,
            "flex_flow": null,
            "width": null,
            "min_width": null,
            "border": null,
            "align_items": null,
            "bottom": null,
            "_model_module": "@jupyter-widgets/base",
            "top": null,
            "grid_column": null,
            "overflow_y": null,
            "overflow_x": null,
            "grid_auto_flow": null,
            "grid_area": null,
            "grid_template_columns": null,
            "flex": null,
            "_model_name": "LayoutModel",
            "justify_items": null,
            "grid_row": null,
            "max_height": null,
            "align_content": null,
            "visibility": null,
            "align_self": null,
            "height": null,
            "min_height": null,
            "padding": null,
            "grid_auto_rows": null,
            "grid_gap": null,
            "max_width": null,
            "order": null,
            "_view_module_version": "1.2.0",
            "grid_template_areas": null,
            "object_position": null,
            "object_fit": null,
            "grid_auto_columns": null,
            "margin": null,
            "display": null,
            "left": null
          }
        },
        "a81fca1e121d49fcab5d2c3966e08d76": {
          "model_module": "@jupyter-widgets/controls",
          "model_name": "ProgressStyleModel",
          "state": {
            "_view_name": "StyleView",
            "_model_name": "ProgressStyleModel",
            "description_width": "",
            "_view_module": "@jupyter-widgets/base",
            "_model_module_version": "1.5.0",
            "_view_count": null,
            "_view_module_version": "1.2.0",
            "bar_color": null,
            "_model_module": "@jupyter-widgets/controls"
          }
        },
        "ca3e0057e93c49f781ce61b841bdce50": {
          "model_module": "@jupyter-widgets/base",
          "model_name": "LayoutModel",
          "state": {
            "_view_name": "LayoutView",
            "grid_template_rows": null,
            "right": null,
            "justify_content": null,
            "_view_module": "@jupyter-widgets/base",
            "overflow": null,
            "_model_module_version": "1.2.0",
            "_view_count": null,
            "flex_flow": null,
            "width": null,
            "min_width": null,
            "border": null,
            "align_items": null,
            "bottom": null,
            "_model_module": "@jupyter-widgets/base",
            "top": null,
            "grid_column": null,
            "overflow_y": null,
            "overflow_x": null,
            "grid_auto_flow": null,
            "grid_area": null,
            "grid_template_columns": null,
            "flex": null,
            "_model_name": "LayoutModel",
            "justify_items": null,
            "grid_row": null,
            "max_height": null,
            "align_content": null,
            "visibility": null,
            "align_self": null,
            "height": null,
            "min_height": null,
            "padding": null,
            "grid_auto_rows": null,
            "grid_gap": null,
            "max_width": null,
            "order": null,
            "_view_module_version": "1.2.0",
            "grid_template_areas": null,
            "object_position": null,
            "object_fit": null,
            "grid_auto_columns": null,
            "margin": null,
            "display": null,
            "left": null
          }
        },
        "7369ae9742fd49c98e9418e62159604d": {
          "model_module": "@jupyter-widgets/controls",
          "model_name": "VBoxModel",
          "state": {
            "_view_name": "VBoxView",
            "_dom_classes": [],
            "_model_name": "VBoxModel",
            "_view_module": "@jupyter-widgets/controls",
            "_model_module_version": "1.5.0",
            "_view_count": null,
            "_view_module_version": "1.5.0",
            "box_style": "",
            "layout": "IPY_MODEL_ada6381f17b14fe3bbd1ac31816c64c8",
            "_model_module": "@jupyter-widgets/controls",
            "children": [
              "IPY_MODEL_4eb48dd62d1347e793f720161e2154fc",
              "IPY_MODEL_ab2f219754124875af16d9433413a670"
            ]
          }
        },
        "ada6381f17b14fe3bbd1ac31816c64c8": {
          "model_module": "@jupyter-widgets/base",
          "model_name": "LayoutModel",
          "state": {
            "_view_name": "LayoutView",
            "grid_template_rows": null,
            "right": null,
            "justify_content": null,
            "_view_module": "@jupyter-widgets/base",
            "overflow": null,
            "_model_module_version": "1.2.0",
            "_view_count": null,
            "flex_flow": null,
            "width": null,
            "min_width": null,
            "border": null,
            "align_items": null,
            "bottom": null,
            "_model_module": "@jupyter-widgets/base",
            "top": null,
            "grid_column": null,
            "overflow_y": null,
            "overflow_x": null,
            "grid_auto_flow": null,
            "grid_area": null,
            "grid_template_columns": null,
            "flex": null,
            "_model_name": "LayoutModel",
            "justify_items": null,
            "grid_row": null,
            "max_height": null,
            "align_content": null,
            "visibility": null,
            "align_self": null,
            "height": null,
            "min_height": null,
            "padding": null,
            "grid_auto_rows": null,
            "grid_gap": null,
            "max_width": null,
            "order": null,
            "_view_module_version": "1.2.0",
            "grid_template_areas": null,
            "object_position": null,
            "object_fit": null,
            "grid_auto_columns": null,
            "margin": null,
            "display": null,
            "left": null
          }
        },
        "4eb48dd62d1347e793f720161e2154fc": {
          "model_module": "@jupyter-widgets/controls",
          "model_name": "LabelModel",
          "state": {
            "_view_name": "LabelView",
            "style": "IPY_MODEL_42338d96a4a3457e9ee4ef2fe26ca24d",
            "_dom_classes": [],
            "description": "",
            "_model_name": "LabelModel",
            "placeholder": "​",
            "_view_module": "@jupyter-widgets/controls",
            "_model_module_version": "1.5.0",
            "value": " 0.01MB of 0.01MB uploaded (0.00MB deduped)\r",
            "_view_count": null,
            "_view_module_version": "1.5.0",
            "description_tooltip": null,
            "_model_module": "@jupyter-widgets/controls",
            "layout": "IPY_MODEL_b9b6a79ed64d4acda26eb017759bd7d6"
          }
        },
        "ab2f219754124875af16d9433413a670": {
          "model_module": "@jupyter-widgets/controls",
          "model_name": "FloatProgressModel",
          "state": {
            "_view_name": "ProgressView",
            "style": "IPY_MODEL_6c7b253667bc4a3692cc25d598dc8202",
            "_dom_classes": [],
            "description": "",
            "_model_name": "FloatProgressModel",
            "bar_style": "",
            "max": 1,
            "_view_module": "@jupyter-widgets/controls",
            "_model_module_version": "1.5.0",
            "value": 1,
            "_view_count": null,
            "_view_module_version": "1.5.0",
            "orientation": "horizontal",
            "min": 0,
            "description_tooltip": null,
            "_model_module": "@jupyter-widgets/controls",
            "layout": "IPY_MODEL_8cbb4626a8204acfad0858c7412121b0"
          }
        },
        "42338d96a4a3457e9ee4ef2fe26ca24d": {
          "model_module": "@jupyter-widgets/controls",
          "model_name": "DescriptionStyleModel",
          "state": {
            "_view_name": "StyleView",
            "_model_name": "DescriptionStyleModel",
            "description_width": "",
            "_view_module": "@jupyter-widgets/base",
            "_model_module_version": "1.5.0",
            "_view_count": null,
            "_view_module_version": "1.2.0",
            "_model_module": "@jupyter-widgets/controls"
          }
        },
        "b9b6a79ed64d4acda26eb017759bd7d6": {
          "model_module": "@jupyter-widgets/base",
          "model_name": "LayoutModel",
          "state": {
            "_view_name": "LayoutView",
            "grid_template_rows": null,
            "right": null,
            "justify_content": null,
            "_view_module": "@jupyter-widgets/base",
            "overflow": null,
            "_model_module_version": "1.2.0",
            "_view_count": null,
            "flex_flow": null,
            "width": null,
            "min_width": null,
            "border": null,
            "align_items": null,
            "bottom": null,
            "_model_module": "@jupyter-widgets/base",
            "top": null,
            "grid_column": null,
            "overflow_y": null,
            "overflow_x": null,
            "grid_auto_flow": null,
            "grid_area": null,
            "grid_template_columns": null,
            "flex": null,
            "_model_name": "LayoutModel",
            "justify_items": null,
            "grid_row": null,
            "max_height": null,
            "align_content": null,
            "visibility": null,
            "align_self": null,
            "height": null,
            "min_height": null,
            "padding": null,
            "grid_auto_rows": null,
            "grid_gap": null,
            "max_width": null,
            "order": null,
            "_view_module_version": "1.2.0",
            "grid_template_areas": null,
            "object_position": null,
            "object_fit": null,
            "grid_auto_columns": null,
            "margin": null,
            "display": null,
            "left": null
          }
        },
        "6c7b253667bc4a3692cc25d598dc8202": {
          "model_module": "@jupyter-widgets/controls",
          "model_name": "ProgressStyleModel",
          "state": {
            "_view_name": "StyleView",
            "_model_name": "ProgressStyleModel",
            "description_width": "",
            "_view_module": "@jupyter-widgets/base",
            "_model_module_version": "1.5.0",
            "_view_count": null,
            "_view_module_version": "1.2.0",
            "bar_color": null,
            "_model_module": "@jupyter-widgets/controls"
          }
        },
        "8cbb4626a8204acfad0858c7412121b0": {
          "model_module": "@jupyter-widgets/base",
          "model_name": "LayoutModel",
          "state": {
            "_view_name": "LayoutView",
            "grid_template_rows": null,
            "right": null,
            "justify_content": null,
            "_view_module": "@jupyter-widgets/base",
            "overflow": null,
            "_model_module_version": "1.2.0",
            "_view_count": null,
            "flex_flow": null,
            "width": null,
            "min_width": null,
            "border": null,
            "align_items": null,
            "bottom": null,
            "_model_module": "@jupyter-widgets/base",
            "top": null,
            "grid_column": null,
            "overflow_y": null,
            "overflow_x": null,
            "grid_auto_flow": null,
            "grid_area": null,
            "grid_template_columns": null,
            "flex": null,
            "_model_name": "LayoutModel",
            "justify_items": null,
            "grid_row": null,
            "max_height": null,
            "align_content": null,
            "visibility": null,
            "align_self": null,
            "height": null,
            "min_height": null,
            "padding": null,
            "grid_auto_rows": null,
            "grid_gap": null,
            "max_width": null,
            "order": null,
            "_view_module_version": "1.2.0",
            "grid_template_areas": null,
            "object_position": null,
            "object_fit": null,
            "grid_auto_columns": null,
            "margin": null,
            "display": null,
            "left": null
          }
        },
        "ebed909c31bd4076b4293131f9d09217": {
          "model_module": "@jupyter-widgets/controls",
          "model_name": "VBoxModel",
          "state": {
            "_view_name": "VBoxView",
            "_dom_classes": [],
            "_model_name": "VBoxModel",
            "_view_module": "@jupyter-widgets/controls",
            "_model_module_version": "1.5.0",
            "_view_count": null,
            "_view_module_version": "1.5.0",
            "box_style": "",
            "layout": "IPY_MODEL_cb958a93fa9e4cb3b613ee7fd0d6caf4",
            "_model_module": "@jupyter-widgets/controls",
            "children": [
              "IPY_MODEL_bfe5cd7d063b4375b366abff057edd0f",
              "IPY_MODEL_b74056aa89a34e7eb6aacbb3045ac40a"
            ]
          }
        },
        "cb958a93fa9e4cb3b613ee7fd0d6caf4": {
          "model_module": "@jupyter-widgets/base",
          "model_name": "LayoutModel",
          "state": {
            "_view_name": "LayoutView",
            "grid_template_rows": null,
            "right": null,
            "justify_content": null,
            "_view_module": "@jupyter-widgets/base",
            "overflow": null,
            "_model_module_version": "1.2.0",
            "_view_count": null,
            "flex_flow": null,
            "width": null,
            "min_width": null,
            "border": null,
            "align_items": null,
            "bottom": null,
            "_model_module": "@jupyter-widgets/base",
            "top": null,
            "grid_column": null,
            "overflow_y": null,
            "overflow_x": null,
            "grid_auto_flow": null,
            "grid_area": null,
            "grid_template_columns": null,
            "flex": null,
            "_model_name": "LayoutModel",
            "justify_items": null,
            "grid_row": null,
            "max_height": null,
            "align_content": null,
            "visibility": null,
            "align_self": null,
            "height": null,
            "min_height": null,
            "padding": null,
            "grid_auto_rows": null,
            "grid_gap": null,
            "max_width": null,
            "order": null,
            "_view_module_version": "1.2.0",
            "grid_template_areas": null,
            "object_position": null,
            "object_fit": null,
            "grid_auto_columns": null,
            "margin": null,
            "display": null,
            "left": null
          }
        },
        "bfe5cd7d063b4375b366abff057edd0f": {
          "model_module": "@jupyter-widgets/controls",
          "model_name": "LabelModel",
          "state": {
            "_view_name": "LabelView",
            "style": "IPY_MODEL_811ace686169457281a97de02f6d3a2d",
            "_dom_classes": [],
            "description": "",
            "_model_name": "LabelModel",
            "placeholder": "​",
            "_view_module": "@jupyter-widgets/controls",
            "_model_module_version": "1.5.0",
            "value": " 0.01MB of 0.01MB uploaded (0.00MB deduped)\r",
            "_view_count": null,
            "_view_module_version": "1.5.0",
            "description_tooltip": null,
            "_model_module": "@jupyter-widgets/controls",
            "layout": "IPY_MODEL_dbcde10fdbaf4aa09425aab6379f9bda"
          }
        },
        "b74056aa89a34e7eb6aacbb3045ac40a": {
          "model_module": "@jupyter-widgets/controls",
          "model_name": "FloatProgressModel",
          "state": {
            "_view_name": "ProgressView",
            "style": "IPY_MODEL_596713ccd4f042a4b516c4850fb50570",
            "_dom_classes": [],
            "description": "",
            "_model_name": "FloatProgressModel",
            "bar_style": "",
            "max": 1,
            "_view_module": "@jupyter-widgets/controls",
            "_model_module_version": "1.5.0",
            "value": 1,
            "_view_count": null,
            "_view_module_version": "1.5.0",
            "orientation": "horizontal",
            "min": 0,
            "description_tooltip": null,
            "_model_module": "@jupyter-widgets/controls",
            "layout": "IPY_MODEL_b96a02d63d3a4525a36970fff90fffcf"
          }
        },
        "811ace686169457281a97de02f6d3a2d": {
          "model_module": "@jupyter-widgets/controls",
          "model_name": "DescriptionStyleModel",
          "state": {
            "_view_name": "StyleView",
            "_model_name": "DescriptionStyleModel",
            "description_width": "",
            "_view_module": "@jupyter-widgets/base",
            "_model_module_version": "1.5.0",
            "_view_count": null,
            "_view_module_version": "1.2.0",
            "_model_module": "@jupyter-widgets/controls"
          }
        },
        "dbcde10fdbaf4aa09425aab6379f9bda": {
          "model_module": "@jupyter-widgets/base",
          "model_name": "LayoutModel",
          "state": {
            "_view_name": "LayoutView",
            "grid_template_rows": null,
            "right": null,
            "justify_content": null,
            "_view_module": "@jupyter-widgets/base",
            "overflow": null,
            "_model_module_version": "1.2.0",
            "_view_count": null,
            "flex_flow": null,
            "width": null,
            "min_width": null,
            "border": null,
            "align_items": null,
            "bottom": null,
            "_model_module": "@jupyter-widgets/base",
            "top": null,
            "grid_column": null,
            "overflow_y": null,
            "overflow_x": null,
            "grid_auto_flow": null,
            "grid_area": null,
            "grid_template_columns": null,
            "flex": null,
            "_model_name": "LayoutModel",
            "justify_items": null,
            "grid_row": null,
            "max_height": null,
            "align_content": null,
            "visibility": null,
            "align_self": null,
            "height": null,
            "min_height": null,
            "padding": null,
            "grid_auto_rows": null,
            "grid_gap": null,
            "max_width": null,
            "order": null,
            "_view_module_version": "1.2.0",
            "grid_template_areas": null,
            "object_position": null,
            "object_fit": null,
            "grid_auto_columns": null,
            "margin": null,
            "display": null,
            "left": null
          }
        },
        "596713ccd4f042a4b516c4850fb50570": {
          "model_module": "@jupyter-widgets/controls",
          "model_name": "ProgressStyleModel",
          "state": {
            "_view_name": "StyleView",
            "_model_name": "ProgressStyleModel",
            "description_width": "",
            "_view_module": "@jupyter-widgets/base",
            "_model_module_version": "1.5.0",
            "_view_count": null,
            "_view_module_version": "1.2.0",
            "bar_color": null,
            "_model_module": "@jupyter-widgets/controls"
          }
        },
        "b96a02d63d3a4525a36970fff90fffcf": {
          "model_module": "@jupyter-widgets/base",
          "model_name": "LayoutModel",
          "state": {
            "_view_name": "LayoutView",
            "grid_template_rows": null,
            "right": null,
            "justify_content": null,
            "_view_module": "@jupyter-widgets/base",
            "overflow": null,
            "_model_module_version": "1.2.0",
            "_view_count": null,
            "flex_flow": null,
            "width": null,
            "min_width": null,
            "border": null,
            "align_items": null,
            "bottom": null,
            "_model_module": "@jupyter-widgets/base",
            "top": null,
            "grid_column": null,
            "overflow_y": null,
            "overflow_x": null,
            "grid_auto_flow": null,
            "grid_area": null,
            "grid_template_columns": null,
            "flex": null,
            "_model_name": "LayoutModel",
            "justify_items": null,
            "grid_row": null,
            "max_height": null,
            "align_content": null,
            "visibility": null,
            "align_self": null,
            "height": null,
            "min_height": null,
            "padding": null,
            "grid_auto_rows": null,
            "grid_gap": null,
            "max_width": null,
            "order": null,
            "_view_module_version": "1.2.0",
            "grid_template_areas": null,
            "object_position": null,
            "object_fit": null,
            "grid_auto_columns": null,
            "margin": null,
            "display": null,
            "left": null
          }
        }
      }
    }
  },
  "cells": [
    {
      "cell_type": "markdown",
      "metadata": {
        "id": "view-in-github",
        "colab_type": "text"
      },
      "source": [
        "<a href=\"https://colab.research.google.com/github/CS20M038/CS6910-assignment_3/blob/main/Attebtion_with_wandB.ipynb\" target=\"_parent\"><img src=\"https://colab.research.google.com/assets/colab-badge.svg\" alt=\"Open In Colab\"/></a>"
      ]
    },
    {
      "cell_type": "markdown",
      "metadata": {
        "id": "1gTF5hZaWvyR"
      },
      "source": [
        "#Start Creating the Dataset"
      ]
    },
    {
      "cell_type": "code",
      "metadata": {
        "id": "r9FRhJZG4Tlj",
        "colab": {
          "base_uri": "https://localhost:8080/"
        },
        "outputId": "95de1aaa-b54b-4a51-c2a3-0c199249b030"
      },
      "source": [
        "#@title Import Libraries\n",
        "from random import randint\n",
        "from numpy import array\n",
        "from numpy import argmax\n",
        "import keras.backend as K\n",
        "from tensorflow.keras import models\n",
        "from numpy import array_equal\n",
        "import numpy as np\n",
        "from tensorflow.keras.models import Sequential, Model\n",
        "from tensorflow.keras.layers import LSTM, Bidirectional\n",
        "from tensorflow.keras.layers import Dense, Flatten\n",
        "from tensorflow.keras import Input\n",
        "from tensorflow.keras.layers import TimeDistributed\n",
        "from tensorflow.keras.layers import RepeatVector\n",
        "from tensorflow.keras.callbacks import EarlyStopping\n",
        "from tensorflow.keras.utils import plot_model\n",
        "from tensorflow.keras.models import load_model\n",
        "import matplotlib.pyplot as plt\n",
        "\n",
        "from tensorflow.keras.layers import Lambda\n",
        "from tensorflow.keras import backend as K\n",
        "from tensorflow.compat.v1.keras.layers import CuDNNGRU\n",
        "from scipy.ndimage.interpolation import shift\n",
        "import csv\n",
        "import random\n",
        "!pip install wandb\n",
        "import wandb"
      ],
      "execution_count": 1,
      "outputs": [
        {
          "output_type": "stream",
          "text": [
            "Collecting wandb\n",
            "\u001b[?25l  Downloading https://files.pythonhosted.org/packages/98/5f/45439b4767334b868e1c8c35b1b0ba3747d8c21be77b79f09eed7aa3c72b/wandb-0.10.30-py2.py3-none-any.whl (1.8MB)\n",
            "\u001b[K     |████████████████████████████████| 1.8MB 28.4MB/s \n",
            "\u001b[?25hCollecting configparser>=3.8.1\n",
            "  Downloading https://files.pythonhosted.org/packages/fd/01/ff260a18caaf4457eb028c96eeb405c4a230ca06c8ec9c1379f813caa52e/configparser-5.0.2-py3-none-any.whl\n",
            "Requirement already satisfied: psutil>=5.0.0 in /usr/local/lib/python3.7/dist-packages (from wandb) (5.4.8)\n",
            "Collecting docker-pycreds>=0.4.0\n",
            "  Downloading https://files.pythonhosted.org/packages/f5/e8/f6bd1eee09314e7e6dee49cbe2c5e22314ccdb38db16c9fc72d2fa80d054/docker_pycreds-0.4.0-py2.py3-none-any.whl\n",
            "Requirement already satisfied: protobuf>=3.12.0 in /usr/local/lib/python3.7/dist-packages (from wandb) (3.12.4)\n",
            "Requirement already satisfied: promise<3,>=2.0 in /usr/local/lib/python3.7/dist-packages (from wandb) (2.3)\n",
            "Requirement already satisfied: six>=1.13.0 in /usr/local/lib/python3.7/dist-packages (from wandb) (1.15.0)\n",
            "Collecting subprocess32>=3.5.3\n",
            "\u001b[?25l  Downloading https://files.pythonhosted.org/packages/32/c8/564be4d12629b912ea431f1a50eb8b3b9d00f1a0b1ceff17f266be190007/subprocess32-3.5.4.tar.gz (97kB)\n",
            "\u001b[K     |████████████████████████████████| 102kB 14.8MB/s \n",
            "\u001b[?25hRequirement already satisfied: PyYAML in /usr/local/lib/python3.7/dist-packages (from wandb) (3.13)\n",
            "Collecting pathtools\n",
            "  Downloading https://files.pythonhosted.org/packages/e7/7f/470d6fcdf23f9f3518f6b0b76be9df16dcc8630ad409947f8be2eb0ed13a/pathtools-0.1.2.tar.gz\n",
            "Collecting shortuuid>=0.5.0\n",
            "  Downloading https://files.pythonhosted.org/packages/25/a6/2ecc1daa6a304e7f1b216f0896b26156b78e7c38e1211e9b798b4716c53d/shortuuid-1.0.1-py3-none-any.whl\n",
            "Requirement already satisfied: python-dateutil>=2.6.1 in /usr/local/lib/python3.7/dist-packages (from wandb) (2.8.1)\n",
            "Requirement already satisfied: Click>=7.0 in /usr/local/lib/python3.7/dist-packages (from wandb) (8.0.0)\n",
            "Requirement already satisfied: requests<3,>=2.0.0 in /usr/local/lib/python3.7/dist-packages (from wandb) (2.23.0)\n",
            "Collecting GitPython>=1.0.0\n",
            "\u001b[?25l  Downloading https://files.pythonhosted.org/packages/27/da/6f6224fdfc47dab57881fe20c0d1bc3122be290198ba0bf26a953a045d92/GitPython-3.1.17-py3-none-any.whl (166kB)\n",
            "\u001b[K     |████████████████████████████████| 174kB 53.7MB/s \n",
            "\u001b[?25hCollecting sentry-sdk>=0.4.0\n",
            "\u001b[?25l  Downloading https://files.pythonhosted.org/packages/1c/4a/a54b254f67d8f4052338d54ebe90126f200693440a93ef76d254d581e3ec/sentry_sdk-1.1.0-py2.py3-none-any.whl (131kB)\n",
            "\u001b[K     |████████████████████████████████| 133kB 57.5MB/s \n",
            "\u001b[?25hRequirement already satisfied: setuptools in /usr/local/lib/python3.7/dist-packages (from protobuf>=3.12.0->wandb) (56.1.0)\n",
            "Requirement already satisfied: urllib3!=1.25.0,!=1.25.1,<1.26,>=1.21.1 in /usr/local/lib/python3.7/dist-packages (from requests<3,>=2.0.0->wandb) (1.24.3)\n",
            "Requirement already satisfied: idna<3,>=2.5 in /usr/local/lib/python3.7/dist-packages (from requests<3,>=2.0.0->wandb) (2.10)\n",
            "Requirement already satisfied: certifi>=2017.4.17 in /usr/local/lib/python3.7/dist-packages (from requests<3,>=2.0.0->wandb) (2020.12.5)\n",
            "Requirement already satisfied: chardet<4,>=3.0.2 in /usr/local/lib/python3.7/dist-packages (from requests<3,>=2.0.0->wandb) (3.0.4)\n",
            "Collecting gitdb<5,>=4.0.1\n",
            "\u001b[?25l  Downloading https://files.pythonhosted.org/packages/ea/e8/f414d1a4f0bbc668ed441f74f44c116d9816833a48bf81d22b697090dba8/gitdb-4.0.7-py3-none-any.whl (63kB)\n",
            "\u001b[K     |████████████████████████████████| 71kB 12.3MB/s \n",
            "\u001b[?25hRequirement already satisfied: typing-extensions>=3.7.4.0; python_version < \"3.8\" in /usr/local/lib/python3.7/dist-packages (from GitPython>=1.0.0->wandb) (3.7.4.3)\n",
            "Collecting smmap<5,>=3.0.1\n",
            "  Downloading https://files.pythonhosted.org/packages/68/ee/d540eb5e5996eb81c26ceffac6ee49041d473bc5125f2aa995cf51ec1cf1/smmap-4.0.0-py2.py3-none-any.whl\n",
            "Building wheels for collected packages: subprocess32, pathtools\n",
            "  Building wheel for subprocess32 (setup.py) ... \u001b[?25l\u001b[?25hdone\n",
            "  Created wheel for subprocess32: filename=subprocess32-3.5.4-cp37-none-any.whl size=6489 sha256=be4c126307af7d47ea000fb1d8ab2037424102e082fa0f75edbc1da902169153\n",
            "  Stored in directory: /root/.cache/pip/wheels/68/39/1a/5e402bdfdf004af1786c8b853fd92f8c4a04f22aad179654d1\n",
            "  Building wheel for pathtools (setup.py) ... \u001b[?25l\u001b[?25hdone\n",
            "  Created wheel for pathtools: filename=pathtools-0.1.2-cp37-none-any.whl size=8786 sha256=2246c5ed437ba6ac28f0ebb4b9d1b383e7c15389e2984fd17ea18a94a5fe6e3a\n",
            "  Stored in directory: /root/.cache/pip/wheels/0b/04/79/c3b0c3a0266a3cb4376da31e5bfe8bba0c489246968a68e843\n",
            "Successfully built subprocess32 pathtools\n",
            "Installing collected packages: configparser, docker-pycreds, subprocess32, pathtools, shortuuid, smmap, gitdb, GitPython, sentry-sdk, wandb\n",
            "Successfully installed GitPython-3.1.17 configparser-5.0.2 docker-pycreds-0.4.0 gitdb-4.0.7 pathtools-0.1.2 sentry-sdk-1.1.0 shortuuid-1.0.1 smmap-4.0.0 subprocess32-3.5.4 wandb-0.10.30\n"
          ],
          "name": "stdout"
        }
      ]
    },
    {
      "cell_type": "code",
      "metadata": {
        "colab": {
          "base_uri": "https://localhost:8080/"
        },
        "id": "EIaBBs1MQ3t_",
        "outputId": "1873d81e-67a7-4b96-81f5-4be827c430a4"
      },
      "source": [
        "#@title Check GPU\n",
        "%tensorflow_version 2.x\n",
        "import tensorflow as tf\n",
        "device_name = tf.test.gpu_device_name()\n",
        "if device_name != '/device:GPU:0':\n",
        "  print('GPU device not found')\n",
        "else:\n",
        "  print('Found GPU at: {}'.format(device_name))"
      ],
      "execution_count": 2,
      "outputs": [
        {
          "output_type": "stream",
          "text": [
            "Found GPU at: /device:GPU:0\n"
          ],
          "name": "stdout"
        }
      ]
    },
    {
      "cell_type": "code",
      "metadata": {
        "colab": {
          "base_uri": "https://localhost:8080/"
        },
        "id": "kd9Sf21CxKd6",
        "outputId": "db2fd8a7-da11-47a2-f9e8-23acd7f97d8f"
      },
      "source": [
        "input_dict=['<start>','<end>']\n",
        "target_dict=['<start>','<end>']\n",
        "eng_alphabets = 'abcdefghijklmnopqrstuvwxyz'\n",
        "pad_char = '<end>'\n",
        "eng_alpha2index = {'<start>': 0,'<end>':1}\n",
        "for index, alpha in enumerate(eng_alphabets):\n",
        "    eng_alpha2index[alpha] = index+2\n",
        "    input_dict.append(alpha)\n",
        "\n",
        "print(eng_alpha2index)\n",
        "print(input_dict)\n",
        "# Hindi Unicode Hex Range is 2304:2432. Source: https://en.wikipedia.org/wiki/Devanagari_(Unicode_block)\n",
        "\n",
        "hindi_alphabets = [chr(alpha) for alpha in range(2304, 2432)]\n",
        "hindi_alphabet_size = len(hindi_alphabets)\n",
        "\n",
        "hindi_alpha2index = {'<start>': 0,pad_char: 1}\n",
        "#hindi_alpha2index = {'<start>': 0}\n",
        "for index, alpha in enumerate(hindi_alphabets):\n",
        "    hindi_alpha2index[alpha] = index+2\n",
        "    target_dict.append(alpha)\n",
        "    #print(alpha)\n",
        "\n",
        "print(hindi_alpha2index)\n",
        "print(target_dict)\n",
        "\n"
      ],
      "execution_count": 3,
      "outputs": [
        {
          "output_type": "stream",
          "text": [
            "{'<start>': 0, '<end>': 1, 'a': 2, 'b': 3, 'c': 4, 'd': 5, 'e': 6, 'f': 7, 'g': 8, 'h': 9, 'i': 10, 'j': 11, 'k': 12, 'l': 13, 'm': 14, 'n': 15, 'o': 16, 'p': 17, 'q': 18, 'r': 19, 's': 20, 't': 21, 'u': 22, 'v': 23, 'w': 24, 'x': 25, 'y': 26, 'z': 27}\n",
            "['<start>', '<end>', 'a', 'b', 'c', 'd', 'e', 'f', 'g', 'h', 'i', 'j', 'k', 'l', 'm', 'n', 'o', 'p', 'q', 'r', 's', 't', 'u', 'v', 'w', 'x', 'y', 'z']\n",
            "{'<start>': 0, '<end>': 1, 'ऀ': 2, 'ँ': 3, 'ं': 4, 'ः': 5, 'ऄ': 6, 'अ': 7, 'आ': 8, 'इ': 9, 'ई': 10, 'उ': 11, 'ऊ': 12, 'ऋ': 13, 'ऌ': 14, 'ऍ': 15, 'ऎ': 16, 'ए': 17, 'ऐ': 18, 'ऑ': 19, 'ऒ': 20, 'ओ': 21, 'औ': 22, 'क': 23, 'ख': 24, 'ग': 25, 'घ': 26, 'ङ': 27, 'च': 28, 'छ': 29, 'ज': 30, 'झ': 31, 'ञ': 32, 'ट': 33, 'ठ': 34, 'ड': 35, 'ढ': 36, 'ण': 37, 'त': 38, 'थ': 39, 'द': 40, 'ध': 41, 'न': 42, 'ऩ': 43, 'प': 44, 'फ': 45, 'ब': 46, 'भ': 47, 'म': 48, 'य': 49, 'र': 50, 'ऱ': 51, 'ल': 52, 'ळ': 53, 'ऴ': 54, 'व': 55, 'श': 56, 'ष': 57, 'स': 58, 'ह': 59, 'ऺ': 60, 'ऻ': 61, '़': 62, 'ऽ': 63, 'ा': 64, 'ि': 65, 'ी': 66, 'ु': 67, 'ू': 68, 'ृ': 69, 'ॄ': 70, 'ॅ': 71, 'ॆ': 72, 'े': 73, 'ै': 74, 'ॉ': 75, 'ॊ': 76, 'ो': 77, 'ौ': 78, '्': 79, 'ॎ': 80, 'ॏ': 81, 'ॐ': 82, '॑': 83, '॒': 84, '॓': 85, '॔': 86, 'ॕ': 87, 'ॖ': 88, 'ॗ': 89, 'क़': 90, 'ख़': 91, 'ग़': 92, 'ज़': 93, 'ड़': 94, 'ढ़': 95, 'फ़': 96, 'य़': 97, 'ॠ': 98, 'ॡ': 99, 'ॢ': 100, 'ॣ': 101, '।': 102, '॥': 103, '०': 104, '१': 105, '२': 106, '३': 107, '४': 108, '५': 109, '६': 110, '७': 111, '८': 112, '९': 113, '॰': 114, 'ॱ': 115, 'ॲ': 116, 'ॳ': 117, 'ॴ': 118, 'ॵ': 119, 'ॶ': 120, 'ॷ': 121, 'ॸ': 122, 'ॹ': 123, 'ॺ': 124, 'ॻ': 125, 'ॼ': 126, 'ॽ': 127, 'ॾ': 128, 'ॿ': 129}\n",
            "['<start>', '<end>', 'ऀ', 'ँ', 'ं', 'ः', 'ऄ', 'अ', 'आ', 'इ', 'ई', 'उ', 'ऊ', 'ऋ', 'ऌ', 'ऍ', 'ऎ', 'ए', 'ऐ', 'ऑ', 'ऒ', 'ओ', 'औ', 'क', 'ख', 'ग', 'घ', 'ङ', 'च', 'छ', 'ज', 'झ', 'ञ', 'ट', 'ठ', 'ड', 'ढ', 'ण', 'त', 'थ', 'द', 'ध', 'न', 'ऩ', 'प', 'फ', 'ब', 'भ', 'म', 'य', 'र', 'ऱ', 'ल', 'ळ', 'ऴ', 'व', 'श', 'ष', 'स', 'ह', 'ऺ', 'ऻ', '़', 'ऽ', 'ा', 'ि', 'ी', 'ु', 'ू', 'ृ', 'ॄ', 'ॅ', 'ॆ', 'े', 'ै', 'ॉ', 'ॊ', 'ो', 'ौ', '्', 'ॎ', 'ॏ', 'ॐ', '॑', '॒', '॓', '॔', 'ॕ', 'ॖ', 'ॗ', 'क़', 'ख़', 'ग़', 'ज़', 'ड़', 'ढ़', 'फ़', 'य़', 'ॠ', 'ॡ', 'ॢ', 'ॣ', '।', '॥', '०', '१', '२', '३', '४', '५', '६', '७', '८', '९', '॰', 'ॱ', 'ॲ', 'ॳ', 'ॴ', 'ॵ', 'ॶ', 'ॷ', 'ॸ', 'ॹ', 'ॺ', 'ॻ', 'ॼ', 'ॽ', 'ॾ', 'ॿ']\n"
          ],
          "name": "stdout"
        }
      ]
    },
    {
      "cell_type": "code",
      "metadata": {
        "colab": {
          "base_uri": "https://localhost:8080/"
        },
        "id": "4gSSbLgcxKd7",
        "outputId": "ca456583-45f6-4b56-9844-7378c796b6c0"
      },
      "source": [
        "# Hindi Unicode Hex Range is 2304:2432. Source: https://en.wikipedia.org/wiki/Devanagari_(Unicode_block)\n",
        "\n",
        "hindi_alphabets = [chr(alpha) for alpha in range(2304, 2432)]\n",
        "hindi_alphabet_size = len(hindi_alphabets)\n",
        "\n",
        "hindi_index2alpha = {0:'<start>',1: pad_char}\n",
        "for index, alpha in enumerate(hindi_alphabets):\n",
        "    hindi_index2alpha[index+2] = alpha\n",
        "   # target_dict.append(alpha)\n",
        "    #print(alpha)\n",
        "\n",
        "print(hindi_index2alpha)\n",
        "\n",
        "eng_alphabets = 'abcdefghijklmnopqrstuvwxyz'\n",
        "eng_index2alpha = {0:'<start>',1: pad_char}\n",
        "for index, alpha in enumerate(eng_alphabets):\n",
        "    eng_index2alpha[index+2] = alpha\n",
        "   # target_dict.append(alpha)\n",
        "    #print(alpha)\n",
        "\n",
        "print(eng_index2alpha)"
      ],
      "execution_count": 4,
      "outputs": [
        {
          "output_type": "stream",
          "text": [
            "{0: '<start>', 1: '<end>', 2: 'ऀ', 3: 'ँ', 4: 'ं', 5: 'ः', 6: 'ऄ', 7: 'अ', 8: 'आ', 9: 'इ', 10: 'ई', 11: 'उ', 12: 'ऊ', 13: 'ऋ', 14: 'ऌ', 15: 'ऍ', 16: 'ऎ', 17: 'ए', 18: 'ऐ', 19: 'ऑ', 20: 'ऒ', 21: 'ओ', 22: 'औ', 23: 'क', 24: 'ख', 25: 'ग', 26: 'घ', 27: 'ङ', 28: 'च', 29: 'छ', 30: 'ज', 31: 'झ', 32: 'ञ', 33: 'ट', 34: 'ठ', 35: 'ड', 36: 'ढ', 37: 'ण', 38: 'त', 39: 'थ', 40: 'द', 41: 'ध', 42: 'न', 43: 'ऩ', 44: 'प', 45: 'फ', 46: 'ब', 47: 'भ', 48: 'म', 49: 'य', 50: 'र', 51: 'ऱ', 52: 'ल', 53: 'ळ', 54: 'ऴ', 55: 'व', 56: 'श', 57: 'ष', 58: 'स', 59: 'ह', 60: 'ऺ', 61: 'ऻ', 62: '़', 63: 'ऽ', 64: 'ा', 65: 'ि', 66: 'ी', 67: 'ु', 68: 'ू', 69: 'ृ', 70: 'ॄ', 71: 'ॅ', 72: 'ॆ', 73: 'े', 74: 'ै', 75: 'ॉ', 76: 'ॊ', 77: 'ो', 78: 'ौ', 79: '्', 80: 'ॎ', 81: 'ॏ', 82: 'ॐ', 83: '॑', 84: '॒', 85: '॓', 86: '॔', 87: 'ॕ', 88: 'ॖ', 89: 'ॗ', 90: 'क़', 91: 'ख़', 92: 'ग़', 93: 'ज़', 94: 'ड़', 95: 'ढ़', 96: 'फ़', 97: 'य़', 98: 'ॠ', 99: 'ॡ', 100: 'ॢ', 101: 'ॣ', 102: '।', 103: '॥', 104: '०', 105: '१', 106: '२', 107: '३', 108: '४', 109: '५', 110: '६', 111: '७', 112: '८', 113: '९', 114: '॰', 115: 'ॱ', 116: 'ॲ', 117: 'ॳ', 118: 'ॴ', 119: 'ॵ', 120: 'ॶ', 121: 'ॷ', 122: 'ॸ', 123: 'ॹ', 124: 'ॺ', 125: 'ॻ', 126: 'ॼ', 127: 'ॽ', 128: 'ॾ', 129: 'ॿ'}\n",
            "{0: '<start>', 1: '<end>', 2: 'a', 3: 'b', 4: 'c', 5: 'd', 6: 'e', 7: 'f', 8: 'g', 9: 'h', 10: 'i', 11: 'j', 12: 'k', 13: 'l', 14: 'm', 15: 'n', 16: 'o', 17: 'p', 18: 'q', 19: 'r', 20: 's', 21: 't', 22: 'u', 23: 'v', 24: 'w', 25: 'x', 26: 'y', 27: 'z'}\n"
          ],
          "name": "stdout"
        }
      ]
    },
    {
      "cell_type": "code",
      "metadata": {
        "id": "QQ0aXzuU5ifS"
      },
      "source": [
        "def readXmlDataset(filename):\n",
        "        tsv_file = open(filename)\n",
        "        read_tsv = csv.reader(tsv_file, delimiter=\"\\t\")\n",
        "        lang1_words = []\n",
        "        lang2_words = []\n",
        "\n",
        "        for row in read_tsv:\n",
        "            lang2_words.append(row[0])\n",
        "            lang1_words.append(row[1])\n",
        "            #print(row[0])\n",
        "\n",
        "        return lang1_words, lang2_words\n",
        "train_input_texts, train_target_texts = readXmlDataset('hi.translit.sampled.train.tsv')\n",
        "test_input_texts, test_target_texts = readXmlDataset('hi.translit.sampled.test.tsv')\n",
        "val_input_texts, val_target_texts = readXmlDataset('hi.translit.sampled.dev.tsv')"
      ],
      "execution_count": 5,
      "outputs": []
    },
    {
      "cell_type": "code",
      "metadata": {
        "colab": {
          "base_uri": "https://localhost:8080/",
          "height": 35
        },
        "id": "WP3VgZ-oYKFV",
        "outputId": "3dac1db7-bbca-4e22-84ce-75b5064f4a19"
      },
      "source": [
        "train_input_texts[0]"
      ],
      "execution_count": 6,
      "outputs": [
        {
          "output_type": "execute_result",
          "data": {
            "application/vnd.google.colaboratory.intrinsic+json": {
              "type": "string"
            },
            "text/plain": [
              "'an'"
            ]
          },
          "metadata": {
            "tags": []
          },
          "execution_count": 6
        }
      ]
    },
    {
      "cell_type": "code",
      "metadata": {
        "id": "HYtIFIHz634J"
      },
      "source": [
        "def word_rep(word, letter2index, device = 'cpu'):\n",
        "    rep = np.zeros((len(word)+1,  129))\n",
        "    for letter_index, letter in enumerate(word):\n",
        "        pos = letter2index[letter]\n",
        "        rep[letter_index][pos] = 1\n",
        "    pad_pos = letter2index[pad_char]\n",
        "    rep[letter_index+1][pad_pos] = 1\n",
        "    return rep\n",
        "\n",
        "def gt_rep(word, letter2index, device = 'cpu'):\n",
        "    gt_rep = np.zeros([len(word)+2], dtype=np.long)\n",
        "    gt_rep[0]=0\n",
        "    for letter_index, letter in enumerate(word):\n",
        "        pos = letter2index[letter]\n",
        "        gt_rep[letter_index+1] = pos\n",
        "    gt_rep[letter_index+2]= letter2index[pad_char]\n",
        "    return gt_rep\n",
        "    word_rep('abc',eng_alpha2index).shape\n",
        "    x=gt_rep('abc',eng_alpha2index)"
      ],
      "execution_count": 7,
      "outputs": []
    },
    {
      "cell_type": "code",
      "metadata": {
        "colab": {
          "base_uri": "https://localhost:8080/"
        },
        "id": "NBwyPEeZXO9R",
        "outputId": "1eebabdf-9a76-4ce7-9099-8680b141e9c5"
      },
      "source": [
        "gt_rep('abc',eng_alpha2index)"
      ],
      "execution_count": 8,
      "outputs": [
        {
          "output_type": "execute_result",
          "data": {
            "text/plain": [
              "array([0, 2, 3, 4, 1])"
            ]
          },
          "metadata": {
            "tags": []
          },
          "execution_count": 8
        }
      ]
    },
    {
      "cell_type": "code",
      "metadata": {
        "id": "BpXZ36j_5K3Y"
      },
      "source": [
        "def createDataset(dataset,letter2index):\n",
        "    X_train=[]\n",
        "    for i,data in enumerate(dataset):\n",
        "        #print(data)\n",
        "        X_train.append(gt_rep(data,letter2index))\n",
        "    X_train = np.array(X_train)\n",
        "    return X_train"
      ],
      "execution_count": 9,
      "outputs": []
    },
    {
      "cell_type": "code",
      "metadata": {
        "colab": {
          "base_uri": "https://localhost:8080/"
        },
        "id": "nJ5892ABXs4Z",
        "outputId": "1b1e1c0a-7ead-4464-e27c-f9f19cf651f9"
      },
      "source": [
        "X_train = createDataset(train_input_texts,eng_alpha2index)\n",
        "y_train = createDataset(train_target_texts,hindi_alpha2index)\n",
        "X_test = createDataset(test_input_texts,eng_alpha2index)\n",
        "y_test = createDataset(test_target_texts,hindi_alpha2index)"
      ],
      "execution_count": 10,
      "outputs": [
        {
          "output_type": "stream",
          "text": [
            "/usr/local/lib/python3.7/dist-packages/ipykernel_launcher.py:6: VisibleDeprecationWarning: Creating an ndarray from ragged nested sequences (which is a list-or-tuple of lists-or-tuples-or ndarrays with different lengths or shapes) is deprecated. If you meant to do this, you must specify 'dtype=object' when creating the ndarray\n",
            "  \n"
          ],
          "name": "stderr"
        }
      ]
    },
    {
      "cell_type": "code",
      "metadata": {
        "colab": {
          "base_uri": "https://localhost:8080/"
        },
        "id": "vW1ewK688Cfg",
        "outputId": "eff40d7f-d643-4fa2-eacb-47e8475d41f2"
      },
      "source": [
        "print(len(eng_alpha2index))\n",
        "#a=[0]*(len(eng_alpha2index)-1)\n",
        "a=[0]*128\n",
        "eng_pad=[1]\n",
        "eng_pad=eng_pad+a\n",
        "print(eng_pad)\n",
        "print(len(hindi_alpha2index))\n",
        "a=[0]*128\n",
        "hindi_pad=[1]\n",
        "hindi_pad=hindi_pad+a\n",
        "print(hindi_pad)"
      ],
      "execution_count": 11,
      "outputs": [
        {
          "output_type": "stream",
          "text": [
            "28\n",
            "[1, 0, 0, 0, 0, 0, 0, 0, 0, 0, 0, 0, 0, 0, 0, 0, 0, 0, 0, 0, 0, 0, 0, 0, 0, 0, 0, 0, 0, 0, 0, 0, 0, 0, 0, 0, 0, 0, 0, 0, 0, 0, 0, 0, 0, 0, 0, 0, 0, 0, 0, 0, 0, 0, 0, 0, 0, 0, 0, 0, 0, 0, 0, 0, 0, 0, 0, 0, 0, 0, 0, 0, 0, 0, 0, 0, 0, 0, 0, 0, 0, 0, 0, 0, 0, 0, 0, 0, 0, 0, 0, 0, 0, 0, 0, 0, 0, 0, 0, 0, 0, 0, 0, 0, 0, 0, 0, 0, 0, 0, 0, 0, 0, 0, 0, 0, 0, 0, 0, 0, 0, 0, 0, 0, 0, 0, 0, 0, 0]\n",
            "130\n",
            "[1, 0, 0, 0, 0, 0, 0, 0, 0, 0, 0, 0, 0, 0, 0, 0, 0, 0, 0, 0, 0, 0, 0, 0, 0, 0, 0, 0, 0, 0, 0, 0, 0, 0, 0, 0, 0, 0, 0, 0, 0, 0, 0, 0, 0, 0, 0, 0, 0, 0, 0, 0, 0, 0, 0, 0, 0, 0, 0, 0, 0, 0, 0, 0, 0, 0, 0, 0, 0, 0, 0, 0, 0, 0, 0, 0, 0, 0, 0, 0, 0, 0, 0, 0, 0, 0, 0, 0, 0, 0, 0, 0, 0, 0, 0, 0, 0, 0, 0, 0, 0, 0, 0, 0, 0, 0, 0, 0, 0, 0, 0, 0, 0, 0, 0, 0, 0, 0, 0, 0, 0, 0, 0, 0, 0, 0, 0, 0, 0]\n"
          ],
          "name": "stdout"
        }
      ]
    },
    {
      "cell_type": "code",
      "metadata": {
        "id": "nczkBT69KdWd"
      },
      "source": [
        "def one_hot_encode(sequence, n_unique):\n",
        "\tencoding = list()\n",
        "\tfor value in sequence:\n",
        "\t\tvector = [0 for _ in range(n_unique)]\n",
        "\t\tvector[value] = 1\n",
        "\t\tencoding.append(vector)\n",
        "\treturn array(encoding)"
      ],
      "execution_count": 12,
      "outputs": []
    },
    {
      "cell_type": "code",
      "metadata": {
        "colab": {
          "base_uri": "https://localhost:8080/"
        },
        "id": "PH7o-dfEKxHf",
        "outputId": "589367d4-2c27-4d56-d89c-efa0fbc0a061"
      },
      "source": [
        "one_hot_encode([1,2,3],10)"
      ],
      "execution_count": 13,
      "outputs": [
        {
          "output_type": "execute_result",
          "data": {
            "text/plain": [
              "array([[0, 1, 0, 0, 0, 0, 0, 0, 0, 0],\n",
              "       [0, 0, 1, 0, 0, 0, 0, 0, 0, 0],\n",
              "       [0, 0, 0, 1, 0, 0, 0, 0, 0, 0]])"
            ]
          },
          "metadata": {
            "tags": []
          },
          "execution_count": 13
        }
      ]
    },
    {
      "cell_type": "code",
      "metadata": {
        "colab": {
          "base_uri": "https://localhost:8080/",
          "height": 52
        },
        "id": "ABSEIPIcGLnX",
        "outputId": "a444b66d-2c20-426e-b708-db93ac2f34bd"
      },
      "source": [
        "def one_hot_decode(encoded_seq):\n",
        "\treturn [argmax(vector) for vector in encoded_seq]\n",
        "'''d=one_hot_decode(y_train_padded[5])\n",
        "c=hindi_index2alpha[6]+hindi_index2alpha[3]+hindi_index2alpha[22]+hindi_index2alpha[66]+hindi_index2alpha[49]+hindi_index2alpha[64]+hindi_index2alpha[37]+hindi_index2alpha[0]\n",
        "c'''"
      ],
      "execution_count": 14,
      "outputs": [
        {
          "output_type": "execute_result",
          "data": {
            "application/vnd.google.colaboratory.intrinsic+json": {
              "type": "string"
            },
            "text/plain": [
              "'d=one_hot_decode(y_train_padded[5])\\nc=hindi_index2alpha[6]+hindi_index2alpha[3]+hindi_index2alpha[22]+hindi_index2alpha[66]+hindi_index2alpha[49]+hindi_index2alpha[64]+hindi_index2alpha[37]+hindi_index2alpha[0]\\nc'"
            ]
          },
          "metadata": {
            "tags": []
          },
          "execution_count": 14
        }
      ]
    },
    {
      "cell_type": "code",
      "metadata": {
        "colab": {
          "base_uri": "https://localhost:8080/"
        },
        "id": "mSce-sL4HWTr",
        "outputId": "909c0c0c-2df2-42a3-93e7-0d4f3cf87a29"
      },
      "source": [
        "max_input_sequence= max(len(seq) for seq in X_train)\n",
        "max_output_sequence= max(len(seq) for seq in y_train)\n",
        "\n",
        "print('max_input_sequence: ', max_input_sequence)\n",
        "print('max_output_sequence: ', max_output_sequence)"
      ],
      "execution_count": 15,
      "outputs": [
        {
          "output_type": "stream",
          "text": [
            "max_input_sequence:  22\n",
            "max_output_sequence:  21\n"
          ],
          "name": "stdout"
        }
      ]
    },
    {
      "cell_type": "code",
      "metadata": {
        "colab": {
          "base_uri": "https://localhost:8080/"
        },
        "id": "2abm43MfHWWG",
        "outputId": "e431a56a-a499-4b7c-b71e-0d2aad003b6c"
      },
      "source": [
        "from keras.preprocessing.sequence import pad_sequences\n",
        "X_train_padded = pad_sequences(X_train, maxlen= max_input_sequence, padding='post', value=1)\n",
        "print(\"X_train shape: \",X_train.shape)\n",
        "print(\"X_train_padded shape: \",X_train_padded.shape)\n",
        "\n",
        "y_train_padded = pad_sequences(y_train, maxlen= max_output_sequence, padding='post', value=1)\n",
        "print(\"y_train shape: \",y_train.shape)\n",
        "print(\"y_train_padded shape: \",y_train_padded.shape)"
      ],
      "execution_count": 16,
      "outputs": [
        {
          "output_type": "stream",
          "text": [
            "X_train shape:  (44204,)\n",
            "X_train_padded shape:  (44204, 22)\n",
            "y_train shape:  (44204,)\n",
            "y_train_padded shape:  (44204, 21)\n"
          ],
          "name": "stdout"
        }
      ]
    },
    {
      "cell_type": "code",
      "metadata": {
        "colab": {
          "base_uri": "https://localhost:8080/"
        },
        "id": "Wvw10trdHWY8",
        "outputId": "1e05acad-7f05-4e25-cc50-3bff290159e1"
      },
      "source": [
        "i=0\n",
        "print(\"____Sample Input (Raw Format)____\")\n",
        "print(\"Original:\\n\", one_hot_decode(X_train[i]))\n",
        "print(\"Padded:\\n\",one_hot_decode(X_train_padded[i]))\n",
        "print(\"____Corresponding Output (Raw Format)____\")\n",
        "print(\"Original:\\n\", one_hot_decode(y_train[i]))\n",
        "print(\"Padded:\\n\",one_hot_decode(y_train_padded[i]))"
      ],
      "execution_count": 17,
      "outputs": [
        {
          "output_type": "stream",
          "text": [
            "____Sample Input (Raw Format)____\n",
            "Original:\n",
            " [0, 0, 0, 0]\n",
            "Padded:\n",
            " [0, 0, 0, 0, 0, 0, 0, 0, 0, 0, 0, 0, 0, 0, 0, 0, 0, 0, 0, 0, 0, 0]\n",
            "____Corresponding Output (Raw Format)____\n",
            "Original:\n",
            " [0, 0, 0, 0]\n",
            "Padded:\n",
            " [0, 0, 0, 0, 0, 0, 0, 0, 0, 0, 0, 0, 0, 0, 0, 0, 0, 0, 0, 0, 0]\n"
          ],
          "name": "stdout"
        }
      ]
    },
    {
      "cell_type": "code",
      "metadata": {
        "colab": {
          "base_uri": "https://localhost:8080/"
        },
        "id": "BN97C-THHWbb",
        "outputId": "21faa96d-fafc-49e4-925c-2e8bf72154de"
      },
      "source": [
        "X_test_padded = pad_sequences(X_test, maxlen= max_input_sequence, padding='post', \n",
        "                              value=0)\n",
        "print(\"X_test shape: \",X_test.shape)\n",
        "print(\"X_test_padded shape: \",X_test_padded.shape)\n",
        "\n",
        "y_test_padded = pad_sequences(y_test, maxlen= max_output_sequence, padding='post', \n",
        "                              value=0)\n",
        "print(\"y_test shape: \",y_test.shape)\n",
        "print(\"y_test_padded shape: \",y_test_padded.shape)"
      ],
      "execution_count": 18,
      "outputs": [
        {
          "output_type": "stream",
          "text": [
            "X_test shape:  (4502,)\n",
            "X_test_padded shape:  (4502, 22)\n",
            "y_test shape:  (4502,)\n",
            "y_test_padded shape:  (4502, 21)\n"
          ],
          "name": "stdout"
        }
      ]
    },
    {
      "cell_type": "code",
      "metadata": {
        "colab": {
          "base_uri": "https://localhost:8080/"
        },
        "id": "dFu_u0dihpds",
        "outputId": "5898ceb7-1bdb-43b2-8897-209ced5acc0b"
      },
      "source": [
        "!pip3 install sklearn\n",
        "from sklearn.model_selection import train_test_split\n",
        "input_tensor, target_tensor = X_train_padded, y_train_padded\n",
        "input_tensor_train, input_tensor_val, target_tensor_train, target_tensor_val = train_test_split(input_tensor, target_tensor, test_size=0.05)"
      ],
      "execution_count": 19,
      "outputs": [
        {
          "output_type": "stream",
          "text": [
            "Requirement already satisfied: sklearn in /usr/local/lib/python3.7/dist-packages (0.0)\n",
            "Requirement already satisfied: scikit-learn in /usr/local/lib/python3.7/dist-packages (from sklearn) (0.22.2.post1)\n",
            "Requirement already satisfied: scipy>=0.17.0 in /usr/local/lib/python3.7/dist-packages (from scikit-learn->sklearn) (1.4.1)\n",
            "Requirement already satisfied: joblib>=0.11 in /usr/local/lib/python3.7/dist-packages (from scikit-learn->sklearn) (1.0.1)\n",
            "Requirement already satisfied: numpy>=1.11.0 in /usr/local/lib/python3.7/dist-packages (from scikit-learn->sklearn) (1.19.5)\n"
          ],
          "name": "stdout"
        }
      ]
    },
    {
      "cell_type": "code",
      "metadata": {
        "id": "tq7lBv-AomLf"
      },
      "source": [
        "# Calculate max_length of the target tensors\n",
        "max_length_targ, max_length_inp = target_tensor.shape[1], input_tensor.shape[1]"
      ],
      "execution_count": 20,
      "outputs": []
    },
    {
      "cell_type": "code",
      "metadata": {
        "colab": {
          "base_uri": "https://localhost:8080/"
        },
        "id": "gqOzSwkVopNU",
        "outputId": "5d4270d1-e64a-4a18-ad87-d799dec8d51f"
      },
      "source": [
        "max_length_targ"
      ],
      "execution_count": 21,
      "outputs": [
        {
          "output_type": "execute_result",
          "data": {
            "text/plain": [
              "21"
            ]
          },
          "metadata": {
            "tags": []
          },
          "execution_count": 21
        }
      ]
    },
    {
      "cell_type": "code",
      "metadata": {
        "colab": {
          "base_uri": "https://localhost:8080/"
        },
        "id": "X_5iG58-h8fh",
        "outputId": "18d5769b-8127-4f0a-d77d-e74276bc7bef"
      },
      "source": [
        "target_tensor_train[0]"
      ],
      "execution_count": 22,
      "outputs": [
        {
          "output_type": "execute_result",
          "data": {
            "text/plain": [
              "array([ 0, 23, 42, 79, 59, 74, 49, 64,  1,  1,  1,  1,  1,  1,  1,  1,  1,\n",
              "        1,  1,  1,  1], dtype=int32)"
            ]
          },
          "metadata": {
            "tags": []
          },
          "execution_count": 22
        }
      ]
    },
    {
      "cell_type": "code",
      "metadata": {
        "colab": {
          "base_uri": "https://localhost:8080/"
        },
        "id": "61UG3bP5htop",
        "outputId": "da7a4994-0bb3-4d2e-9b24-8cedbfb22b2c"
      },
      "source": [
        "# Show the mapping b/w word index and language tokenizer\n",
        "def convert(lang, tensor):\n",
        "  for t in tensor:\n",
        "    if t != 0 and t!=1:\n",
        "      print (\"%d ----> %s\" % (t, lang[t]))\n",
        "      \n",
        "print (\"Input Language; index to word mapping\")\n",
        "convert(eng_index2alpha, input_tensor_train[0])\n",
        "print ()\n",
        "print (\"Target Language; index to word mapping\")\n",
        "convert(hindi_index2alpha, target_tensor_train[0])"
      ],
      "execution_count": 23,
      "outputs": [
        {
          "output_type": "stream",
          "text": [
            "Input Language; index to word mapping\n",
            "12 ----> k\n",
            "2 ----> a\n",
            "15 ----> n\n",
            "9 ----> h\n",
            "2 ----> a\n",
            "10 ----> i\n",
            "26 ----> y\n",
            "2 ----> a\n",
            "\n",
            "Target Language; index to word mapping\n",
            "23 ----> क\n",
            "42 ----> न\n",
            "79 ----> ्\n",
            "59 ----> ह\n",
            "74 ----> ै\n",
            "49 ----> य\n",
            "64 ----> ा\n"
          ],
          "name": "stdout"
        }
      ]
    },
    {
      "cell_type": "code",
      "metadata": {
        "colab": {
          "base_uri": "https://localhost:8080/"
        },
        "id": "TkJs7SH4iUee",
        "outputId": "98b33088-b6e3-473d-89ed-72040bf0beb5"
      },
      "source": [
        "print(len(input_tensor_train), len(target_tensor_train), len(input_tensor_val), len(target_tensor_val))"
      ],
      "execution_count": 24,
      "outputs": [
        {
          "output_type": "stream",
          "text": [
            "41993 41993 2211 2211\n"
          ],
          "name": "stdout"
        }
      ]
    },
    {
      "cell_type": "markdown",
      "metadata": {
        "id": "e9zTfV1EhVR5"
      },
      "source": [
        "#End creating data set"
      ]
    },
    {
      "cell_type": "code",
      "metadata": {
        "id": "KlxJW-UL-jMx"
      },
      "source": [
        "\n",
        "def startTraining( batch_size=2048,embedding_dim=256,lstm_dim = 1024,attention_unit=35,EPOCHS=1,vocab_inp_size=len(eng_alpha2index) + 1,vocab_tar_size = len(hindi_alpha2index) + 1,optimizers=\"adam\",attention_type=\"Bahdanau\",lr=0.001):\n",
        "    # Essential model parameters\n",
        "    BUFFER_SIZE = len(input_tensor_train)\n",
        "    BATCH_SIZE = batch_size\n",
        "    steps_per_epoch = len(input_tensor_train)//BATCH_SIZE\n",
        "    embedding_dim = embedding_dim\n",
        "    units = lstm_dim\n",
        "    vocab_inp_size = vocab_inp_size\n",
        "    vocab_tar_size = vocab_tar_size\n",
        "    dataset = tf.data.Dataset.from_tensor_slices((input_tensor_train, target_tensor_train)).shuffle(BUFFER_SIZE)\n",
        "    dataset = dataset.batch(BATCH_SIZE, drop_remainder=True)\n",
        "\n",
        "    # Size of input and target batches\n",
        "    example_input_batch, example_target_batch = next(iter(dataset))\n",
        "    example_input_batch.shape, example_target_batch.shape\n",
        "\n",
        "    # Encoder class\n",
        "    class Encoder(tf.keras.Model):\n",
        "        def __init__(self, vocab_size, embedding_dim, enc_units, batch_sz):\n",
        "            super(Encoder, self).__init__()\n",
        "            self.batch_sz = batch_sz\n",
        "            self.enc_units = enc_units\n",
        "\n",
        "            # Embed the vocab to a dense embedding \n",
        "            self.embedding = tf.keras.layers.Embedding(vocab_size, embedding_dim)\n",
        "\n",
        "            # GRU Layer\n",
        "            # glorot_uniform: Initializer for the recurrent_kernel weights matrix, \n",
        "            # used for the linear transformation of the recurrent state\n",
        "            self.gru = CuDNNGRU(self.enc_units,\n",
        "                                        return_sequences=True,\n",
        "                                        return_state=True,\n",
        "                                        recurrent_initializer='glorot_uniform')\n",
        "\n",
        "        # Encoder network comprises an Embedding layer followed by a GRU layer\n",
        "        def call(self, x, hidden):\n",
        "            x = self.embedding(x)\n",
        "            output, state = self.gru(x, initial_state=hidden)\n",
        "            return output, state\n",
        "\n",
        "        # To initialize the hidden state\n",
        "        def initialize_hidden_state(self):\n",
        "            return tf.zeros((self.batch_sz, self.enc_units))\n",
        "\n",
        "    encoder = Encoder(vocab_inp_size, embedding_dim, units, BATCH_SIZE)\n",
        "\n",
        "    sample_hidden = encoder.initialize_hidden_state()\n",
        "    sample_output, sample_hidden = encoder(example_input_batch, sample_hidden)\n",
        "\n",
        "    print ('Encoder output shape: (batch size, sequence length, units) {}'.format(sample_output.shape))\n",
        "    print ('Encoder Hidden state shape: (batch size, units) {}'.format(sample_hidden.shape))\n",
        "\n",
        "    # Attention Mechanism\n",
        "    class BahdanauAttention(tf.keras.layers.Layer):\n",
        "        def __init__(self, units):\n",
        "            super(BahdanauAttention, self).__init__()\n",
        "            self.W1 = tf.keras.layers.Dense(units)\n",
        "            self.W2 = tf.keras.layers.Dense(units)\n",
        "            self.V = tf.keras.layers.Dense(1)\n",
        "\n",
        "        def call(self, query, values):\n",
        "            # query hidden state shape == (batch_size, hidden size)\n",
        "            # values shape == (batch_size, max_len, hidden size)\n",
        "\n",
        "            # we are doing this to broadcast addition along the time axis to calculate the score\n",
        "            # query_with_time_axis shape == (batch_size, 1, hidden size)\n",
        "            query_with_time_axis = tf.expand_dims(query, 1)\n",
        "\n",
        "            # score shape == (batch_size, max_length, 1)\n",
        "            # we get 1 at the last axis because we are applying score to self.V\n",
        "            # the shape of the tensor before applying self.V is (batch_size, max_length, units)\n",
        "            score = self.V(tf.nn.tanh(\n",
        "                self.W1(query_with_time_axis) + self.W2(values)))\n",
        "\n",
        "            # attention_weights shape == (batch_size, max_length, 1)\n",
        "            attention_weights = tf.nn.softmax(score, axis=1)\n",
        "\n",
        "            # context_vector shape after sum == (batch_size, hidden_size)\n",
        "            context_vector = attention_weights * values\n",
        "            context_vector = tf.reduce_sum(context_vector, axis=1)\n",
        "\n",
        "            return context_vector, attention_weights\n",
        "    \n",
        "\n",
        "\n",
        "    class LuongAttention(tf.keras.layers.Layer):\n",
        "        def __init__(self, units):\n",
        "            super(LuongAttention, self).__init__()\n",
        "            self.W1 = tf.keras.layers.Dense(units)\n",
        "            self.W2 = tf.keras.layers.Dense(units)\n",
        "            self.V = tf.keras.layers.Dense(1)\n",
        "\n",
        "        def call(self, query, values):\n",
        "            #print('\\n******* Luong Attention  STARTS******')\n",
        "            #print('query (decoder hidden state): (batch_size, hidden size) ', query.shape)\n",
        "            #print('values (encoder all hidden state): (batch_size, max_len, hidden size) ', values.shape)\n",
        "\n",
        "            # query hidden state shape == (batch_size, hidden size)\n",
        "            # query_with_time_axis shape == (batch_size, 1, hidden size)\n",
        "            # values shape == (batch_size, max_len, hidden size)\n",
        "            # we are doing this to broadcast addition along the time axis to calculate the score\n",
        "            query_with_time_axis = tf.expand_dims(query, 1)\n",
        "            \n",
        "            print('query_with_time_axis:(batch_size, 1, hidden size) ', query_with_time_axis.shape)\n",
        "\n",
        "\n",
        "            values_transposed = tf.transpose(values, perm=[0, 2, 1])\n",
        "            #print('values_transposed:(batch_size, hidden size, max_len) ', values_transposed.shape)\n",
        "\n",
        "            # score shape == (batch_size, max_length, 1)\n",
        "            # we get 1 at the last axis because we are applying score to self.V\n",
        "            # the shape of the tensor before applying self.V is (batch_size, max_length, units)\n",
        "            #BAHDANAU ADDITIVE:\n",
        "            #score = self.V(tf.nn.tanh(\n",
        "            #    self.W1(query_with_time_axis) + self.W2(values)))\n",
        "            \n",
        "            #LUONGH Dot-product\n",
        "            score = tf.transpose(tf.matmul(query_with_time_axis, values_transposed) , perm=[0, 2, 1])\n",
        "\n",
        "            print('score: (batch_size, max_length, 1) ',score.shape)\n",
        "            # attention_weights shape == (batch_size, max_length, 1)\n",
        "            attention_weights = tf.nn.softmax(score, axis=1)\n",
        "            #print('attention_weights: (batch_size, max_length, 1) ',attention_weights.shape)\n",
        "            # context_vector shape after sum == (batch_size, hidden_size)\n",
        "            context_vector = attention_weights * values\n",
        "            #print('context_vector before reduce_sum: (batch_size, max_length, hidden_size) ',context_vector.shape)\n",
        "            context_vector = tf.reduce_sum(context_vector, axis=1)\n",
        "            #print('context_vector after reduce_sum: (batch_size, hidden_size) ',context_vector.shape)\n",
        "\n",
        "\n",
        "            #print('\\n******* Luong Attention ENDS******')\n",
        "            return context_vector, attention_weights\n",
        "            \n",
        "    attention_layer = BahdanauAttention(attention_unit)\n",
        "    if attention_type==\"Luong\":\n",
        "        attention_layer = LuongAttention(attention_unit)\n",
        "\n",
        "    attention_result, attention_weights = attention_layer(sample_hidden, sample_output)\n",
        "\n",
        "    print(\"Attention result shape: (batch size, units) {}\".format(attention_result.shape))\n",
        "    print(\"Attention weights shape: (batch_size, sequence_length, 1) {}\".format(attention_weights.shape))\n",
        "\n",
        "    # Decoder class\n",
        "    class Decoder(tf.keras.Model):\n",
        "        def __init__(self, vocab_size, embedding_dim, dec_units, batch_sz):\n",
        "            super(Decoder, self).__init__()\n",
        "            self.batch_sz = batch_sz\n",
        "            self.dec_units = dec_units\n",
        "            self.embedding = tf.keras.layers.Embedding(vocab_size, embedding_dim)\n",
        "            self.gru = CuDNNGRU(self.dec_units,\n",
        "                                        return_sequences=True,\n",
        "                                        return_state=True,\n",
        "                                        recurrent_initializer='glorot_uniform')\n",
        "            self.fc = tf.keras.layers.Dense(vocab_size)\n",
        "\n",
        "            # Used for attention\n",
        "            self.attention = BahdanauAttention(self.dec_units)\n",
        "\n",
        "        def call(self, x, hidden, enc_output):\n",
        "            # x shape == (batch_size, 1)\n",
        "            # hidden shape == (batch_size, max_length)\n",
        "            # enc_output shape == (batch_size, max_length, hidden_size)\n",
        "\n",
        "            # context_vector shape == (batch_size, hidden_size)\n",
        "            # attention_weights shape == (batch_size, max_length, 1)\n",
        "            context_vector, attention_weights = self.attention(hidden, enc_output)\n",
        "\n",
        "            # x shape after passing through embedding == (batch_size, 1, embedding_dim)\n",
        "            x = self.embedding(x)\n",
        "\n",
        "            # x shape after concatenation == (batch_size, 1, embedding_dim + hidden_size)\n",
        "            x = tf.concat([tf.expand_dims(context_vector, 1), x], axis=-1)\n",
        "\n",
        "            # passing the concatenated vector to the GRU\n",
        "            output, state = self.gru(x)\n",
        "\n",
        "            # output shape == (batch_size * 1, hidden_size)\n",
        "            output = tf.reshape(output, (-1, output.shape[2]))\n",
        "\n",
        "            # output shape == (batch_size, vocab)\n",
        "            x = self.fc(output)\n",
        "\n",
        "            return x, state, attention_weights\n",
        "\n",
        "    decoder = Decoder(vocab_tar_size, embedding_dim, units, BATCH_SIZE)\n",
        "\n",
        "    sample_decoder_output, _, _ = decoder(tf.random.uniform((BATCH_SIZE, 1)),\n",
        "                                        sample_hidden, sample_output)\n",
        "\n",
        "    print ('Decoder output shape: (batch_size, vocab size) {}'.format(sample_decoder_output.shape))\n",
        "\n",
        "    # Initialize optimizer and loss functions\n",
        "    optimizer = tf.keras.optimizers.Adam(learning_rate=lr)\n",
        "\n",
        "    if optimizers==\"adam\":\n",
        "        optimizer = tf.keras.optimizers.Adam(learning_rate=lr)\n",
        "\n",
        "    if optimizers==\"adagrad\":\n",
        "        optimizer = tf.keras.optimizers.Adagrad(learning_rate=lr)\n",
        "\n",
        "    if optimizers==\"sgd\":\n",
        "        optimizer = tf.keras.optimizers.SGD(learning_rate=lr)\n",
        "\n",
        "    if optimizers==\"rmsprop\":\n",
        "        optimizer = tf.keras.optimizers.RMSprop(learning_rate=lr)\n",
        "    if optimizers==\"nadam\":\n",
        "        optimizer = tf.keras.optimizers.Nadam(learning_rate=lr)\n",
        "        \n",
        "\n",
        "    loss_object = tf.keras.losses.SparseCategoricalCrossentropy(\n",
        "        from_logits=True, reduction='none')\n",
        "\n",
        "    # Loss function\n",
        "    def loss_function(real, pred):\n",
        "\n",
        "        # Take care of the padding. Not all sequences are of equal length.\n",
        "        # If there's a '0' in the sequence, the loss is being nullified\n",
        "        mask = tf.math.logical_not(tf.math.equal(real, 0))\n",
        "        loss_ = loss_object(real, pred)\n",
        "\n",
        "        mask = tf.cast(mask, dtype=loss_.dtype)\n",
        "        loss_ *= mask\n",
        "\n",
        "        return tf.reduce_mean(loss_)\n",
        "\n",
        "\n",
        "    def accuracy(targ, pred):\n",
        "        #targ = K.argmax(y_train, axis=-1)\n",
        "        pred = K.argmax(pred, axis=-1)\n",
        "        #print(pred.shape)\n",
        "        pred = K.cast(pred,\"int32\")\n",
        "        #print(pred)\n",
        "        #print(\"pred\")\n",
        "        # print(targ[:1].shape)\n",
        "        #print(\"targ\")\n",
        "        #print(targ[:1])\n",
        "        #predicted_id = tf.argmax(pred[0])\n",
        "        #print(predicted_id)\n",
        "        correct = K.cast(K.equal(targ, pred), dtype='float32')\n",
        "        mask = K.cast(K.greater(targ, 0), dtype='float32') # filter out padding value 0.\n",
        "        correctCount = K.sum(mask * correct)\n",
        "        totalCount = K.sum(mask)\n",
        "        return correctCount / totalCount\n",
        "\n",
        "    import os\n",
        "\n",
        "    checkpoint_dir = './training_checkpoints'\n",
        "    checkpoint_prefix = os.path.join(checkpoint_dir, \"ckpt\")\n",
        "    checkpoint = tf.train.Checkpoint(optimizer=optimizer,\n",
        "                                    encoder=encoder,\n",
        "                                    decoder=decoder)\n",
        "\n",
        "    @tf.function\n",
        "    def train_step(inp, targ, enc_hidden):\n",
        "        loss = 0\n",
        "        acc=0\n",
        "\n",
        "        # tf.GradientTape() -- record operations for automatic differentiation\n",
        "        with tf.GradientTape() as tape:\n",
        "            enc_output, enc_hidden = encoder(inp, enc_hidden)\n",
        "\n",
        "            # dec_hidden is used by attention, hence is the same enc_hidden\n",
        "            dec_hidden = enc_hidden\n",
        "\n",
        "            # <start> token is the initial decoder input\n",
        "            dec_input = tf.expand_dims([0] * BATCH_SIZE, 1)\n",
        "\n",
        "            # Teacher forcing - feeding the target as the next input\n",
        "            for t in range(1, targ.shape[1]):\n",
        "\n",
        "                # Pass enc_output to the decoder\n",
        "                predictions, dec_hidden, _ = decoder(dec_input, dec_hidden, enc_output)\n",
        "\n",
        "                # Compute the loss\n",
        "                loss += loss_function(targ[:, t], predictions)\n",
        "                #print(predictions.shape,targ.shape)\n",
        "                acc +=accuracy(targ[:, t], predictions)\n",
        "\n",
        "                # Use teacher forcing\n",
        "                dec_input = tf.expand_dims(targ[:, t], 1)\n",
        "\n",
        "        # As this function is called per batch, compute the batch_loss\n",
        "        batch_loss = (loss / int(targ.shape[1]))\n",
        "        batch_acc = (acc / int(targ.shape[1]))\n",
        "\n",
        "        # Get the model's variables\n",
        "        variables = encoder.trainable_variables + decoder.trainable_variables\n",
        "\n",
        "        # Compute the gradients\n",
        "        gradients = tape.gradient(loss, variables)\n",
        "\n",
        "        # Update the variables of the model/network\n",
        "        optimizer.apply_gradients(zip(gradients, variables))\n",
        "\n",
        "        return batch_loss,batch_acc\n",
        "    def split(word):\n",
        "        return list(word)\n",
        "        \n",
        "    # Driver code\n",
        "   # word = 'milan'\n",
        "    #print(split(word))\n",
        "\n",
        "    import numpy as np\n",
        "\n",
        "    # Evaluate function -- similar to the training loop\n",
        "    def evaluate(sentence):\n",
        "\n",
        "        # Attention plot (to be plotted later on) -- initialized with max_lengths of both target and input\n",
        "        attention_plot = np.zeros((max_length_targ, max_length_inp))\n",
        "\n",
        "        '''# Preprocess the sentence given\n",
        "        sentence = preprocess_sentence(sentence)\n",
        "\n",
        "        # Fetch the indices concerning the words in the sentence and pad the sequence\n",
        "        inputs = [inp_lang.word_index[i] for i in sentence.split(' ')]'''\n",
        "        inputs = gt_rep(sentence,eng_alpha2index)\n",
        "\n",
        "        inputs = tf.keras.preprocessing.sequence.pad_sequences([inputs],\n",
        "                                                                maxlen=max_length_inp,\n",
        "                                                                padding='post')\n",
        "        # Convert the inputs to tensors\n",
        "        inputs = tf.convert_to_tensor(inputs)\n",
        "\n",
        "        result = ''\n",
        "\n",
        "        hidden = [tf.zeros((1, units))]\n",
        "        enc_out, enc_hidden = encoder(inputs, hidden)\n",
        "\n",
        "        dec_hidden = enc_hidden\n",
        "        dec_input = tf.expand_dims([0], 0)\n",
        "\n",
        "        # Loop until the max_length is reached for the target lang (ENGLISH)\n",
        "        for t in range(max_length_targ):\n",
        "            predictions, dec_hidden, attention_weights = decoder(dec_input,\n",
        "                                                                dec_hidden,\n",
        "                                                                enc_out)\n",
        "            #print(predictions.shape)\n",
        "\n",
        "            # Store the attention weights to plot later on\n",
        "            attention_weights = tf.reshape(attention_weights, (-1, ))\n",
        "            attention_plot[t] = attention_weights.numpy()\n",
        "\n",
        "            # Get the prediction with the maximum attention\n",
        "            predicted_id = tf.argmax(predictions[0]).numpy()\n",
        "\n",
        "            # Append the token to the result\n",
        "            if hindi_index2alpha[predicted_id]!='<end>':\n",
        "                result += hindi_index2alpha[predicted_id]\n",
        "\n",
        "            # If <end> token is reached, return the result, input, and attention plot\n",
        "            if hindi_index2alpha[predicted_id] == '<end>':\n",
        "                return result, sentence, attention_plot\n",
        "\n",
        "            # The predicted ID is fed back into the model\n",
        "            dec_input = tf.expand_dims([predicted_id], 0)\n",
        "\n",
        "        return result, sentence, attention_plot\n",
        "\n",
        "    from matplotlib.font_manager import FontProperties\n",
        "    from pathlib import Path\n",
        "    '''nirm = Path('/content/Nirmala.ttf')\n",
        "    # configure the Hindi font\n",
        "    hindi_font = FontProperties(fname=nirm)'''\n",
        "\n",
        "    import matplotlib.pyplot as plt\n",
        "    from matplotlib.pyplot import figure\n",
        "    from matplotlib.font_manager import FontProperties\n",
        "\n",
        "\n",
        "    hindi_font = FontProperties(fname='Mangal 400.TTF', size=18)\n",
        "\n",
        "\n",
        "    import matplotlib.pyplot as plt\n",
        "    import matplotlib.ticker as ticker\n",
        "\n",
        "    # Function for plotting the attention weights\n",
        "    def plot_attention(attention, sentence, predicted_sentence):\n",
        "        fig = plt.figure(figsize=(10,10))\n",
        "        ax = fig.add_subplot(1, 1, 1)\n",
        "        ax.matshow(attention, cmap='viridis')\n",
        "\n",
        "        fontdict = {'fontsize': 14}\n",
        "\n",
        "        ax.set_xticklabels([''] + sentence, fontdict=fontdict, rotation=90)\n",
        "        ax.set_yticklabels([''] + predicted_sentence, fontdict=fontdict)\n",
        "\n",
        "        ax.xaxis.set_major_locator(ticker.MultipleLocator(1))\n",
        "        ax.yaxis.set_major_locator(ticker.MultipleLocator(1))\n",
        "        for label in  ax.get_yticklabels():\n",
        "            label.set_fontproperties(hindi_font)\n",
        "            label.set_fontsize(15) \n",
        "\n",
        "        plt.show()\n",
        "\n",
        "    # Translate function (which internally calls the evaluate function)\n",
        "    def translate2(sentence):\n",
        "        result, sentence, attention_plot = evaluate(sentence)\n",
        "\n",
        "        print('Input: %s' % (sentence))\n",
        "        print('Predicted translation: {}'.format(result))\n",
        "\n",
        "        attention_plot = attention_plot[:len(result), :len(sentence)]\n",
        "        plot_attention(attention_plot, split(sentence), split(result))\n",
        "        return result\n",
        "\n",
        "    # Translate function (which internally calls the evaluate function)\n",
        "    def translate(sentence):\n",
        "        result, sentence, attention_plot = evaluate(sentence)\n",
        "\n",
        "        # print('Input: %s' % (sentence))\n",
        "        #print('Predicted translation: {}'.format(result))\n",
        "\n",
        "        #attention_plot = attention_plot[:len(result), :len(sentence)]\n",
        "        # plot_attention(attention_plot, split(sentence), split(result))\n",
        "        return result\n",
        "\n",
        "\n",
        "\n",
        "\n",
        "\n",
        "\n",
        "\n",
        "\n",
        "\n",
        "\n",
        "\n",
        "\n",
        "    def calculate_Sample_Word_accuracy(val_input,val_target,sample_size):\n",
        "        randomlist = random.sample(range(0, len(val_input)), sample_size)\n",
        "        # print(randomlist)\n",
        "        count=0\n",
        "        start = time.time()\n",
        "        for i in randomlist:\n",
        "            result = translate(val_input[i])\n",
        "            #print(\"Actual translation\",val_target[i])\n",
        "            if(result==val_target[i]):\n",
        "                count+=1\n",
        "        #print('Val Accuracy = : {}'.format(count*100.0/len(randomlist)))\n",
        "        #print('Time taken for calculating word accuracy {} sec\\n'.format(time.time() - start))\n",
        "        #print(\"\\n\")\n",
        "        #print(\"\\n\")\n",
        "        return count*100.0/len(randomlist)\n",
        "\n",
        "    import time\n",
        "\n",
        "\n",
        "\n",
        "    # Training loop\n",
        "    for epoch in range(EPOCHS):\n",
        "        start = time.time()\n",
        "\n",
        "        # Initialize the hidden state\n",
        "        enc_hidden = encoder.initialize_hidden_state()\n",
        "        total_loss = 0\n",
        "        total_acc=0\n",
        "        # Loop through the dataset\n",
        "        for (batch, (inp, targ)) in enumerate(dataset.take(steps_per_epoch)):\n",
        "\n",
        "            # Call the train method\n",
        "            batch_loss,batch_acc = train_step(inp, targ, enc_hidden)\n",
        "\n",
        "            # Compute the loss (per batch)\n",
        "            total_loss += batch_loss\n",
        "            total_acc += batch_acc\n",
        "\n",
        "            if batch % 100 == 0:\n",
        "                print('Epoch {} Batch {} Loss {:.4f} Accuracy {:.4f}'.format(epoch + 1,\n",
        "                                                            batch,\n",
        "                                                            batch_loss.numpy(),batch_acc.numpy()))\n",
        "        # Save (checkpoint) the model every 2 epochs\n",
        "        if (epoch + 1) % 2 == 0:\n",
        "            checkpoint.save(file_prefix = checkpoint_prefix)\n",
        "\n",
        "        # Output the loss observed until that epoch\n",
        "        print('Epoch {} Loss {:.4f}'.format(epoch + 1,\n",
        "                                            total_loss / steps_per_epoch))\n",
        "        wandb.log({\"Train Loss\": total_loss / steps_per_epoch})\n",
        "        # Output the loss observed until that epoch\n",
        "        print('Epoch {} Train Character_level Accuracy {:.4f}'.format(epoch + 1,\n",
        "                                            total_acc / steps_per_epoch))\n",
        "        wandb.log({\"Train Accuracy\": total_acc / steps_per_epoch})\n",
        "\n",
        "\n",
        "        train_word_accuracy = calculate_Sample_Word_accuracy(train_input_texts,train_target_texts,150)\n",
        "        val_accuracy = calculate_Sample_Word_accuracy(val_input_texts,val_target_texts,150)\n",
        "        print('Epoch {} Train_Samplw_Word Accuracy {:.4f}'.format(epoch + 1,\n",
        "                                      train_word_accuracy))\n",
        "        wandb.log({\"Train_Samplw_Word Accuracy\": train_word_accuracy})\n",
        "        print('Epoch {} Validation_Sample_Word_Accuracy {:.4f}'.format(epoch + 1,\n",
        "                                      val_accuracy))\n",
        "        wandb.log({\"Validn_Samplw_Word Accuracy\": val_accuracy})\n",
        "\n",
        "\n",
        "        \n",
        "        print('Time taken for 1 epoch {} sec\\n'.format(time.time() - start))\n",
        "\n",
        "\n",
        "   \n",
        "\n",
        "    #translate2(\"sentence\")\n",
        "\n",
        "    # Restore the latest checkpoint in checkpoint_dir\n",
        "    checkpoint.restore(tf.train.latest_checkpoint(checkpoint_dir))\n",
        "\n",
        "    #result = translate(\"krishna\")\n",
        "    #result\n",
        "\n",
        "    def calculate_wordAccuracy(input_text,target_text):\n",
        "        start = time.time()\n",
        "        count=0\n",
        "        for (i,sentence) in enumerate(input_text):\n",
        "            #print(sentence)\n",
        "            result = translate(sentence)\n",
        "            #print(\"Actual translation\",target_text[i])\n",
        "            if(result==target_text[i]):\n",
        "                count+=1\n",
        "        print('Test Sample Word Accuracy = : {}'.format(count*100.0/len(input_text)))\n",
        "        return count*100.0/len(input_text)\n",
        "\n",
        "\n",
        "    test_accuracy = calculate_wordAccuracy(test_input_texts[0:1000],test_target_texts[0:1000])\n",
        "    wandb.log({\"Test_Sample_word_accuracy\": test_accuracy})\n",
        "\n",
        "\n",
        "\n",
        "\n"
      ],
      "execution_count": 25,
      "outputs": []
    },
    {
      "cell_type": "code",
      "metadata": {
        "id": "blNe18WUWjkr"
      },
      "source": [
        ""
      ],
      "execution_count": 25,
      "outputs": []
    },
    {
      "cell_type": "code",
      "metadata": {
        "id": "MpVa_JBuLPhi"
      },
      "source": [
        "sweep_config = {\n",
        "    'name': 'Hyper_parameter_check',\n",
        "    'method': 'random', #grid, random, bayes\n",
        "    'metric': {\n",
        "      'name': 'accuracy',\n",
        "      'goal': 'maximize'   \n",
        "    },\n",
        "    'parameters':{\n",
        "        'batch_size':{\n",
        "           'values' :[128,256,512]\n",
        "        },\n",
        "        'max_epoch':{\n",
        "            'values':[10,15,20,30]\n",
        "        },\n",
        "        \n",
        "        'embedding_dim':{\n",
        "            'values':[64,256,512]\n",
        "        },\n",
        "        'enc_dim':{\n",
        "            'values': [256,512,1024]\n",
        "        },\n",
        "        'vocab_inp_size':{\n",
        "            'values': [27,50,100]\n",
        "        },\n",
        "        'vocab_tar_size':{\n",
        "            'values': [140,200,250]\n",
        "        },\n",
        "        'attention_unit':{\n",
        "            'values': [25,35,50]\n",
        "        },\n",
        "        'attention_type':{\n",
        "            'values': [\"Luong\",\"Bahdanau\"]\n",
        "        },\n",
        "        'optimizers':{\n",
        "            'values': [\"adam\",\"rmsp\"]\n",
        "        },\n",
        "        'EPOCHS':{\n",
        "            'values': [15,20]\n",
        "        },\n",
        "        'lr':{\n",
        "            'values': [0.001,0.0001,0.01]\n",
        "        }\n",
        "\n",
        "    },\n",
        "}"
      ],
      "execution_count": 26,
      "outputs": []
    },
    {
      "cell_type": "code",
      "metadata": {
        "id": "3bPQTNikMm77",
        "colab": {
          "base_uri": "https://localhost:8080/",
          "height": 252
        },
        "outputId": "60ddd91e-0e81-4a82-f1f7-c610751d5823"
      },
      "source": [
        "wandb.login()\n",
        "wandb.init(project = \"Assignment 3 Part 2\", entity = \"cs20m038\")\n",
        "sweep_id = wandb.sweep(sweep_config, project='Assignment 3 Part 2', entity='cs20m038')"
      ],
      "execution_count": 27,
      "outputs": [
        {
          "output_type": "display_data",
          "data": {
            "application/javascript": [
              "\n",
              "        window._wandbApiKey = new Promise((resolve, reject) => {\n",
              "            function loadScript(url) {\n",
              "            return new Promise(function(resolve, reject) {\n",
              "                let newScript = document.createElement(\"script\");\n",
              "                newScript.onerror = reject;\n",
              "                newScript.onload = resolve;\n",
              "                document.body.appendChild(newScript);\n",
              "                newScript.src = url;\n",
              "            });\n",
              "            }\n",
              "            loadScript(\"https://cdn.jsdelivr.net/npm/postmate/build/postmate.min.js\").then(() => {\n",
              "            const iframe = document.createElement('iframe')\n",
              "            iframe.style.cssText = \"width:0;height:0;border:none\"\n",
              "            document.body.appendChild(iframe)\n",
              "            const handshake = new Postmate({\n",
              "                container: iframe,\n",
              "                url: 'https://wandb.ai/authorize'\n",
              "            });\n",
              "            const timeout = setTimeout(() => reject(\"Couldn't auto authenticate\"), 5000)\n",
              "            handshake.then(function(child) {\n",
              "                child.on('authorize', data => {\n",
              "                    clearTimeout(timeout)\n",
              "                    resolve(data)\n",
              "                });\n",
              "            });\n",
              "            })\n",
              "        });\n",
              "    "
            ],
            "text/plain": [
              "<IPython.core.display.Javascript object>"
            ]
          },
          "metadata": {
            "tags": []
          }
        },
        {
          "output_type": "stream",
          "text": [
            "\u001b[34m\u001b[1mwandb\u001b[0m: You can find your API key in your browser here: https://wandb.ai/authorize\n"
          ],
          "name": "stderr"
        },
        {
          "output_type": "stream",
          "text": [
            "wandb: Paste an API key from your profile and hit enter: ··········\n"
          ],
          "name": "stdout"
        },
        {
          "output_type": "stream",
          "text": [
            "\u001b[34m\u001b[1mwandb\u001b[0m: Appending key for api.wandb.ai to your netrc file: /root/.netrc\n",
            "\u001b[34m\u001b[1mwandb\u001b[0m: Currently logged in as: \u001b[33mcs20m038\u001b[0m (use `wandb login --relogin` to force relogin)\n"
          ],
          "name": "stderr"
        },
        {
          "output_type": "display_data",
          "data": {
            "text/html": [
              "\n",
              "                Tracking run with wandb version 0.10.30<br/>\n",
              "                Syncing run <strong style=\"color:#cdcd00\">cerulean-flower-51</strong> to <a href=\"https://wandb.ai\" target=\"_blank\">Weights & Biases</a> <a href=\"https://docs.wandb.com/integrations/jupyter.html\" target=\"_blank\">(Documentation)</a>.<br/>\n",
              "                Project page: <a href=\"https://wandb.ai/cs20m038/Assignment%203%20Part%202\" target=\"_blank\">https://wandb.ai/cs20m038/Assignment%203%20Part%202</a><br/>\n",
              "                Run page: <a href=\"https://wandb.ai/cs20m038/Assignment%203%20Part%202/runs/omvjlj90\" target=\"_blank\">https://wandb.ai/cs20m038/Assignment%203%20Part%202/runs/omvjlj90</a><br/>\n",
              "                Run data is saved locally in <code>/content/wandb/run-20210525_045433-omvjlj90</code><br/><br/>\n",
              "            "
            ],
            "text/plain": [
              "<IPython.core.display.HTML object>"
            ]
          },
          "metadata": {
            "tags": []
          }
        },
        {
          "output_type": "stream",
          "text": [
            "\u001b[34m\u001b[1mwandb\u001b[0m: \u001b[33mWARNING\u001b[0m Calling wandb.login() after wandb.init() has no effect.\n"
          ],
          "name": "stderr"
        },
        {
          "output_type": "stream",
          "text": [
            "Create sweep with ID: 38t7i5m2\n",
            "Sweep URL: https://wandb.ai/cs20m038/Assignment%203%20Part%202/sweeps/38t7i5m2\n"
          ],
          "name": "stdout"
        }
      ]
    },
    {
      "cell_type": "code",
      "metadata": {
        "id": "OZY78IB8MwXH"
      },
      "source": [
        "def runSweep():\n",
        "    run = wandb.init()\n",
        "    configuration = run.config\n",
        "    startTraining( batch_size=configuration.batch_size,embedding_dim=configuration.embedding_dim,lstm_dim = configuration.enc_dim,attention_unit=configuration.attention_unit,EPOCHS=configuration.EPOCHS,vocab_inp_size=configuration.vocab_inp_size,vocab_tar_size = configuration.vocab_tar_size,optimizers=configuration.optimizers,attention_type=configuration.attention_type,lr=configuration.lr)\n",
        "    #startTraining(batch_size=configuration.batch_size,embedding_dim=configuration.embedding_dim,lstm_dim = configuration.enc_dim ,attention_unit=configuration.attention_unit,EPOCHS=configuration.EPOCHS,vocab_inp_size=configuration.vocab_inp_size,vocab_tar_size = configuration.vocab_tar_size,optimizers=configuration.optimizers,attention_type=configuration.attention_type,lr=configuration.lr)\n",
        "    #startTraining(model_name = configuration.model_name, num_classess = 10, batch_size = configuration.batch_size, num_epochs=configuration.max_epoch,feature_extract = False,no_layers_to_unfreeze=configuration.layers_to_train,lr=configuration.learning_rate,gamma=configuration.gamma,opt = configuration.optimizer)\n",
        "   # startTraining( batch_size=configuration.batch_size,embedding_dim=configuration.embedding_dim,lstm_units = 1024,attention_unit=35,EPOCHS=1,vocab_inp_size=len(eng_alpha2index) + 1,vocab_tar_size = len(hindi_alpha2index) + 1,optimizers=\"adam\",attention_type=\"Bahdanau\",lr=0.001)"
      ],
      "execution_count": 28,
      "outputs": []
    },
    {
      "cell_type": "code",
      "metadata": {
        "id": "V2aeX_qOM270",
        "colab": {
          "base_uri": "https://localhost:8080/",
          "height": 1000,
          "referenced_widgets": [
            "775ba7ee327d44caae1b38e8be7d78bd",
            "c03893e651004873a4b1b0563351445f",
            "49f5b591dd904db4b6b0a0b4d12fa6f0",
            "eae361abba9a472e907f32128dc59b7c",
            "50d5601d5c1440f8b481ca8a2121747c",
            "c58834e5904f49048e2609de6fa11d2c",
            "ba24fce45609443f9b4d4ac7c8e58a4d",
            "877bc447e7fe4c7a826169078edf0e51",
            "e3d821e34afb48b795304f7af91d45b7",
            "766314879ff147eb89209d0f8c2451b7",
            "4682b5e8f99d404ab76d134aa829a5e4",
            "ea243ce0707e4dda8ceabea03730aa08",
            "1ac9baf346384ce6aa295cd2140d1c75",
            "0bb885f978df46fe8d8bfcc39c578b95",
            "84134d7d10534182ae727998dc2a56ef",
            "965ad1f9fcb1494fab4758c99592b9a6",
            "f856624c47d342638859e0e89090157e",
            "43a12e047666408b9b26296a100f5345",
            "48c2eaafb4ac4b6a9cdaa85b661fe690",
            "8ca9ea63de374098a3357a22305ead9e",
            "138ca2a16cb5437b83db477c4b93413f",
            "915ef801bd8541739c393218d3c3df49",
            "a2df8006e5f14716b767ce9dfa184336",
            "481f55e480f64f7cae731c96ba51edb1",
            "3d59207462e4453da3433c3a0af5abc8",
            "4e4eb10832944b1f8ad049283e0903e2",
            "dc2089d3140d4ed593640fabc2cc4241",
            "2c78ac01e7f443479f98c50d332a07b1",
            "37e32f10f5254e4dbd7719da4edee3e9",
            "4daee9029e4c4419a65143894a4123ad",
            "d4504c8d4ba4436f9fbf91a3b7372274",
            "edba8e18b967488f944fb360518a3501",
            "ae1b416004ed449780be468f26b21555",
            "5ab4b0604b884a079a8ef4e2e27b09d4",
            "f6af781bdcd2486c9c5f0f7937ad4757",
            "5f0e61a375ee44deb5a21f55540232ac",
            "c622c94e4f6148c99a2dfd33b24745bb",
            "227f419c858f4cb998957e7a09311730",
            "c6b49a124a114702a78289bfcedda634",
            "9296f94425ae4be88ab3e43073b23e56",
            "6db47c919f80411ab6a84b9256d79533",
            "917d0a13b9964c1eb85bed9b18dfc93d",
            "fce8a23dc2ad41a49379f87b01520cc2",
            "86a1267e3ce44a3d8e666de4b4104c70",
            "dbce2985b56b47bdb5fb8ebf37e4c898",
            "edf18c22833343e295d8f3788f5dbf4b",
            "463dd0c6f5944d8fbd0d1a885da72aa2",
            "f7bde5eca4324f5582610abb3444c41a",
            "fc4f0fe4bf3d40e18c71b739c8dee68c",
            "28f08c25c26e43c292b53564d1c7e056",
            "81ba7edb385249f68a9b1680af9bb8af",
            "29418839494b4798a00618e92a82e6d2",
            "98e987d5e97043c5ae5435ed4cfaeb6d",
            "8cad365abceb4bfea6eb7be8585df756",
            "8d39f97b27934a9f9a45c727b28882b4",
            "d7e27bfa0b0844b3bae97c241e226984",
            "ff7eb53aae144243a19ca79f67b97fb8",
            "f5ad74d0315f419182693f49773d5d13",
            "e88b945bdd394b8294b4fdca45077f00",
            "204f4f4444374bd485931ce1514e58ef",
            "9d10906830a14908a292d5c25e575911",
            "455e3c4202ef4009995c0fff13d908ea",
            "4c58d4ebc5054abfa041b8f3f26d067a",
            "596707df383a41b883bf671c9fead799",
            "073f9b3b214346b38d552c1aef77d91b",
            "8c6b351450774323937d5cefe96a8375",
            "8c4e297f926b4794a7e41fcd43eed2bd",
            "444ced8467ce455f9b2ff72250d3e02f",
            "b0b059a8f435460b84e3e4d9b15b3bf9",
            "1edc5a2ed317498194832d21422fd536",
            "0832a3f63d254edbae733e2e289bf557",
            "ceca82fa75704d94ae943dcbd923e086",
            "5e41d729ce3741e788dbef7f081b195a",
            "9f749d6645a2486bacdad6764cd3fec9",
            "3062a98d341c49519c25f4a8ce73fe59",
            "0b151d960ac74af8ae373ca591c36021",
            "fa0d782245164f5fb81a75c6f77da3fa",
            "435e4e76cf464f01a785b65af9f5b036",
            "15016fe97b4042d687774a69303e5f71",
            "11fc28916e8744319cd29e78becce879",
            "0d9c1ffe21b445568f302c6faeeae635",
            "09a090259af94684b64272c0a45b3bcd",
            "501f1ba38bc54f30b253a1e9a2ca65aa",
            "1cc4089d77784a5d8924f53d01200171",
            "93c1ecfd78fe4bcfa964757934b9f236",
            "0045336e9c334a76bb841e68cf40d2e7",
            "3b645b03bfc1464c89264bc73d08b14d",
            "6e0a1f3963544bf190ad5d107100b38e",
            "89b26a8da10a4222ae0e4c4681088387",
            "b1328832757847ac8c8e5ab0916e73b1",
            "05eff24ade3248be87ccb4747db1d7a1",
            "e0c79bf4c633491dbe40e2ce5cfeca23",
            "a57843cbcb5d417482103d6c1d700767",
            "1c1278c363a24da29ed941f946d3d0b5",
            "d2369c7b71f149b382ea72a576e7833c",
            "a81fca1e121d49fcab5d2c3966e08d76",
            "ca3e0057e93c49f781ce61b841bdce50",
            "7369ae9742fd49c98e9418e62159604d",
            "ada6381f17b14fe3bbd1ac31816c64c8",
            "4eb48dd62d1347e793f720161e2154fc",
            "ab2f219754124875af16d9433413a670",
            "42338d96a4a3457e9ee4ef2fe26ca24d",
            "b9b6a79ed64d4acda26eb017759bd7d6",
            "6c7b253667bc4a3692cc25d598dc8202",
            "8cbb4626a8204acfad0858c7412121b0",
            "ebed909c31bd4076b4293131f9d09217",
            "cb958a93fa9e4cb3b613ee7fd0d6caf4",
            "bfe5cd7d063b4375b366abff057edd0f",
            "b74056aa89a34e7eb6aacbb3045ac40a",
            "811ace686169457281a97de02f6d3a2d",
            "dbcde10fdbaf4aa09425aab6379f9bda",
            "596713ccd4f042a4b516c4850fb50570",
            "b96a02d63d3a4525a36970fff90fffcf"
          ]
        },
        "outputId": "b5e55e6d-1b9a-405d-fa82-a09051cca471"
      },
      "source": [
        "wandb.agent(sweep_id=sweep_id, function=runSweep)"
      ],
      "execution_count": null,
      "outputs": [
        {
          "output_type": "stream",
          "text": [
            "\u001b[34m\u001b[1mwandb\u001b[0m: \u001b[33mWARNING\u001b[0m Calling wandb.login() after wandb.init() has no effect.\n",
            "\u001b[34m\u001b[1mwandb\u001b[0m: Agent Starting Run: ns6dcil1 with config:\n",
            "\u001b[34m\u001b[1mwandb\u001b[0m: \tEPOCHS: 20\n",
            "\u001b[34m\u001b[1mwandb\u001b[0m: \tattention_type: Luong\n",
            "\u001b[34m\u001b[1mwandb\u001b[0m: \tattention_unit: 50\n",
            "\u001b[34m\u001b[1mwandb\u001b[0m: \tbatch_size: 128\n",
            "\u001b[34m\u001b[1mwandb\u001b[0m: \tembedding_dim: 64\n",
            "\u001b[34m\u001b[1mwandb\u001b[0m: \tenc_dim: 512\n",
            "\u001b[34m\u001b[1mwandb\u001b[0m: \tlr: 0.0001\n",
            "\u001b[34m\u001b[1mwandb\u001b[0m: \tmax_epoch: 15\n",
            "\u001b[34m\u001b[1mwandb\u001b[0m: \toptimizers: rmsp\n",
            "\u001b[34m\u001b[1mwandb\u001b[0m: \tvocab_inp_size: 27\n",
            "\u001b[34m\u001b[1mwandb\u001b[0m: \tvocab_tar_size: 200\n"
          ],
          "name": "stderr"
        },
        {
          "output_type": "display_data",
          "data": {
            "text/html": [
              "\n",
              "                Tracking run with wandb version 0.10.30<br/>\n",
              "                Syncing run <strong style=\"color:#cdcd00\">copper-sweep-1</strong> to <a href=\"https://wandb.ai\" target=\"_blank\">Weights & Biases</a> <a href=\"https://docs.wandb.com/integrations/jupyter.html\" target=\"_blank\">(Documentation)</a>.<br/>\n",
              "                Project page: <a href=\"https://wandb.ai/cs20m038/Assignment%203%20Part%202\" target=\"_blank\">https://wandb.ai/cs20m038/Assignment%203%20Part%202</a><br/>\n",
              "                Sweep page: <a href=\"https://wandb.ai/cs20m038/Assignment%203%20Part%202/sweeps/38t7i5m2\" target=\"_blank\">https://wandb.ai/cs20m038/Assignment%203%20Part%202/sweeps/38t7i5m2</a><br/>\n",
              "Run page: <a href=\"https://wandb.ai/cs20m038/Assignment%203%20Part%202/runs/ns6dcil1\" target=\"_blank\">https://wandb.ai/cs20m038/Assignment%203%20Part%202/runs/ns6dcil1</a><br/>\n",
              "                Run data is saved locally in <code>/content/wandb/run-20210525_045437-ns6dcil1</code><br/><br/>\n",
              "            "
            ],
            "text/plain": [
              "<IPython.core.display.HTML object>"
            ]
          },
          "metadata": {
            "tags": []
          }
        },
        {
          "output_type": "display_data",
          "data": {
            "text/html": [
              "<br/>Waiting for W&B process to finish, PID 190<br/>Program failed with code 1.  Press ctrl-c to abort syncing."
            ],
            "text/plain": [
              "<IPython.core.display.HTML object>"
            ]
          },
          "metadata": {
            "tags": []
          }
        },
        {
          "output_type": "display_data",
          "data": {
            "application/vnd.jupyter.widget-view+json": {
              "model_id": "775ba7ee327d44caae1b38e8be7d78bd",
              "version_major": 2,
              "version_minor": 0
            },
            "text/plain": [
              "VBox(children=(Label(value=' 0.00MB of 0.00MB uploaded (0.00MB deduped)\\r'), FloatProgress(value=1.0, max=1.0)…"
            ]
          },
          "metadata": {
            "tags": []
          }
        },
        {
          "output_type": "display_data",
          "data": {
            "text/html": [
              "Find user logs for this run at: <code>/content/wandb/run-20210525_045437-ns6dcil1/logs/debug.log</code>"
            ],
            "text/plain": [
              "<IPython.core.display.HTML object>"
            ]
          },
          "metadata": {
            "tags": []
          }
        },
        {
          "output_type": "display_data",
          "data": {
            "text/html": [
              "Find internal logs for this run at: <code>/content/wandb/run-20210525_045437-ns6dcil1/logs/debug-internal.log</code>"
            ],
            "text/plain": [
              "<IPython.core.display.HTML object>"
            ]
          },
          "metadata": {
            "tags": []
          }
        },
        {
          "output_type": "display_data",
          "data": {
            "text/html": [
              "Synced 4 W&B file(s), 0 media file(s), 0 artifact file(s) and 0 other file(s)"
            ],
            "text/plain": [
              "<IPython.core.display.HTML object>"
            ]
          },
          "metadata": {
            "tags": []
          }
        },
        {
          "output_type": "display_data",
          "data": {
            "text/html": [
              "\n",
              "                    <br/>Synced <strong style=\"color:#cdcd00\">copper-sweep-1</strong>: <a href=\"https://wandb.ai/cs20m038/Assignment%203%20Part%202/runs/ns6dcil1\" target=\"_blank\">https://wandb.ai/cs20m038/Assignment%203%20Part%202/runs/ns6dcil1</a><br/>\n",
              "                "
            ],
            "text/plain": [
              "<IPython.core.display.HTML object>"
            ]
          },
          "metadata": {
            "tags": []
          }
        },
        {
          "output_type": "stream",
          "text": [
            "\u001b[34m\u001b[1mwandb\u001b[0m: \u001b[32m\u001b[41mERROR\u001b[0m Run ns6dcil1 errored: InvalidArgumentError()\n",
            "\u001b[34m\u001b[1mwandb\u001b[0m: Agent Starting Run: lioi1q0u with config:\n",
            "\u001b[34m\u001b[1mwandb\u001b[0m: \tEPOCHS: 15\n",
            "\u001b[34m\u001b[1mwandb\u001b[0m: \tattention_type: Bahdanau\n",
            "\u001b[34m\u001b[1mwandb\u001b[0m: \tattention_unit: 50\n",
            "\u001b[34m\u001b[1mwandb\u001b[0m: \tbatch_size: 512\n",
            "\u001b[34m\u001b[1mwandb\u001b[0m: \tembedding_dim: 512\n",
            "\u001b[34m\u001b[1mwandb\u001b[0m: \tenc_dim: 1024\n",
            "\u001b[34m\u001b[1mwandb\u001b[0m: \tlr: 0.01\n",
            "\u001b[34m\u001b[1mwandb\u001b[0m: \tmax_epoch: 10\n",
            "\u001b[34m\u001b[1mwandb\u001b[0m: \toptimizers: rmsp\n",
            "\u001b[34m\u001b[1mwandb\u001b[0m: \tvocab_inp_size: 27\n",
            "\u001b[34m\u001b[1mwandb\u001b[0m: \tvocab_tar_size: 250\n"
          ],
          "name": "stderr"
        },
        {
          "output_type": "display_data",
          "data": {
            "text/html": [
              "\n",
              "                Tracking run with wandb version 0.10.30<br/>\n",
              "                Syncing run <strong style=\"color:#cdcd00\">whole-sweep-2</strong> to <a href=\"https://wandb.ai\" target=\"_blank\">Weights & Biases</a> <a href=\"https://docs.wandb.com/integrations/jupyter.html\" target=\"_blank\">(Documentation)</a>.<br/>\n",
              "                Project page: <a href=\"https://wandb.ai/cs20m038/Assignment%203%20Part%202\" target=\"_blank\">https://wandb.ai/cs20m038/Assignment%203%20Part%202</a><br/>\n",
              "                Sweep page: <a href=\"https://wandb.ai/cs20m038/Assignment%203%20Part%202/sweeps/38t7i5m2\" target=\"_blank\">https://wandb.ai/cs20m038/Assignment%203%20Part%202/sweeps/38t7i5m2</a><br/>\n",
              "Run page: <a href=\"https://wandb.ai/cs20m038/Assignment%203%20Part%202/runs/lioi1q0u\" target=\"_blank\">https://wandb.ai/cs20m038/Assignment%203%20Part%202/runs/lioi1q0u</a><br/>\n",
              "                Run data is saved locally in <code>/content/wandb/run-20210525_045443-lioi1q0u</code><br/><br/>\n",
              "            "
            ],
            "text/plain": [
              "<IPython.core.display.HTML object>"
            ]
          },
          "metadata": {
            "tags": []
          }
        },
        {
          "output_type": "display_data",
          "data": {
            "text/html": [
              "<br/>Waiting for W&B process to finish, PID 229<br/>Program failed with code 1.  Press ctrl-c to abort syncing."
            ],
            "text/plain": [
              "<IPython.core.display.HTML object>"
            ]
          },
          "metadata": {
            "tags": []
          }
        },
        {
          "output_type": "display_data",
          "data": {
            "application/vnd.jupyter.widget-view+json": {
              "model_id": "e3d821e34afb48b795304f7af91d45b7",
              "version_major": 2,
              "version_minor": 0
            },
            "text/plain": [
              "VBox(children=(Label(value=' 0.00MB of 0.00MB uploaded (0.00MB deduped)\\r'), FloatProgress(value=1.0, max=1.0)…"
            ]
          },
          "metadata": {
            "tags": []
          }
        },
        {
          "output_type": "display_data",
          "data": {
            "text/html": [
              "Find user logs for this run at: <code>/content/wandb/run-20210525_045443-lioi1q0u/logs/debug.log</code>"
            ],
            "text/plain": [
              "<IPython.core.display.HTML object>"
            ]
          },
          "metadata": {
            "tags": []
          }
        },
        {
          "output_type": "display_data",
          "data": {
            "text/html": [
              "Find internal logs for this run at: <code>/content/wandb/run-20210525_045443-lioi1q0u/logs/debug-internal.log</code>"
            ],
            "text/plain": [
              "<IPython.core.display.HTML object>"
            ]
          },
          "metadata": {
            "tags": []
          }
        },
        {
          "output_type": "display_data",
          "data": {
            "text/html": [
              "Synced 4 W&B file(s), 0 media file(s), 0 artifact file(s) and 0 other file(s)"
            ],
            "text/plain": [
              "<IPython.core.display.HTML object>"
            ]
          },
          "metadata": {
            "tags": []
          }
        },
        {
          "output_type": "display_data",
          "data": {
            "text/html": [
              "\n",
              "                    <br/>Synced <strong style=\"color:#cdcd00\">whole-sweep-2</strong>: <a href=\"https://wandb.ai/cs20m038/Assignment%203%20Part%202/runs/lioi1q0u\" target=\"_blank\">https://wandb.ai/cs20m038/Assignment%203%20Part%202/runs/lioi1q0u</a><br/>\n",
              "                "
            ],
            "text/plain": [
              "<IPython.core.display.HTML object>"
            ]
          },
          "metadata": {
            "tags": []
          }
        },
        {
          "output_type": "stream",
          "text": [
            "\u001b[34m\u001b[1mwandb\u001b[0m: \u001b[32m\u001b[41mERROR\u001b[0m Run lioi1q0u errored: InvalidArgumentError()\n",
            "\u001b[34m\u001b[1mwandb\u001b[0m: Agent Starting Run: gmb13mr5 with config:\n",
            "\u001b[34m\u001b[1mwandb\u001b[0m: \tEPOCHS: 15\n",
            "\u001b[34m\u001b[1mwandb\u001b[0m: \tattention_type: Luong\n",
            "\u001b[34m\u001b[1mwandb\u001b[0m: \tattention_unit: 35\n",
            "\u001b[34m\u001b[1mwandb\u001b[0m: \tbatch_size: 128\n",
            "\u001b[34m\u001b[1mwandb\u001b[0m: \tembedding_dim: 256\n",
            "\u001b[34m\u001b[1mwandb\u001b[0m: \tenc_dim: 512\n",
            "\u001b[34m\u001b[1mwandb\u001b[0m: \tlr: 0.0001\n",
            "\u001b[34m\u001b[1mwandb\u001b[0m: \tmax_epoch: 20\n",
            "\u001b[34m\u001b[1mwandb\u001b[0m: \toptimizers: adam\n",
            "\u001b[34m\u001b[1mwandb\u001b[0m: \tvocab_inp_size: 27\n",
            "\u001b[34m\u001b[1mwandb\u001b[0m: \tvocab_tar_size: 250\n"
          ],
          "name": "stderr"
        },
        {
          "output_type": "display_data",
          "data": {
            "text/html": [
              "\n",
              "                Tracking run with wandb version 0.10.30<br/>\n",
              "                Syncing run <strong style=\"color:#cdcd00\">apricot-sweep-3</strong> to <a href=\"https://wandb.ai\" target=\"_blank\">Weights & Biases</a> <a href=\"https://docs.wandb.com/integrations/jupyter.html\" target=\"_blank\">(Documentation)</a>.<br/>\n",
              "                Project page: <a href=\"https://wandb.ai/cs20m038/Assignment%203%20Part%202\" target=\"_blank\">https://wandb.ai/cs20m038/Assignment%203%20Part%202</a><br/>\n",
              "                Sweep page: <a href=\"https://wandb.ai/cs20m038/Assignment%203%20Part%202/sweeps/38t7i5m2\" target=\"_blank\">https://wandb.ai/cs20m038/Assignment%203%20Part%202/sweeps/38t7i5m2</a><br/>\n",
              "Run page: <a href=\"https://wandb.ai/cs20m038/Assignment%203%20Part%202/runs/gmb13mr5\" target=\"_blank\">https://wandb.ai/cs20m038/Assignment%203%20Part%202/runs/gmb13mr5</a><br/>\n",
              "                Run data is saved locally in <code>/content/wandb/run-20210525_045451-gmb13mr5</code><br/><br/>\n",
              "            "
            ],
            "text/plain": [
              "<IPython.core.display.HTML object>"
            ]
          },
          "metadata": {
            "tags": []
          }
        },
        {
          "output_type": "stream",
          "text": [
            "Encoder output shape: (batch size, sequence length, units) (128, 22, 512)\n",
            "Encoder Hidden state shape: (batch size, units) (128, 512)\n",
            "query_with_time_axis:(batch_size, 1, hidden size)  (128, 1, 512)\n",
            "score: (batch_size, max_length, 1)  (128, 22, 1)\n",
            "Attention result shape: (batch size, units) (128, 512)\n",
            "Attention weights shape: (batch_size, sequence_length, 1) (128, 22, 1)\n",
            "Decoder output shape: (batch_size, vocab size) (128, 250)\n"
          ],
          "name": "stdout"
        },
        {
          "output_type": "display_data",
          "data": {
            "text/html": [
              "<br/>Waiting for W&B process to finish, PID 262<br/>Program failed with code 1.  Press ctrl-c to abort syncing."
            ],
            "text/plain": [
              "<IPython.core.display.HTML object>"
            ]
          },
          "metadata": {
            "tags": []
          }
        },
        {
          "output_type": "display_data",
          "data": {
            "application/vnd.jupyter.widget-view+json": {
              "model_id": "f856624c47d342638859e0e89090157e",
              "version_major": 2,
              "version_minor": 0
            },
            "text/plain": [
              "VBox(children=(Label(value=' 0.00MB of 0.00MB uploaded (0.00MB deduped)\\r'), FloatProgress(value=1.0, max=1.0)…"
            ]
          },
          "metadata": {
            "tags": []
          }
        },
        {
          "output_type": "display_data",
          "data": {
            "text/html": [
              "Find user logs for this run at: <code>/content/wandb/run-20210525_045451-gmb13mr5/logs/debug.log</code>"
            ],
            "text/plain": [
              "<IPython.core.display.HTML object>"
            ]
          },
          "metadata": {
            "tags": []
          }
        },
        {
          "output_type": "display_data",
          "data": {
            "text/html": [
              "Find internal logs for this run at: <code>/content/wandb/run-20210525_045451-gmb13mr5/logs/debug-internal.log</code>"
            ],
            "text/plain": [
              "<IPython.core.display.HTML object>"
            ]
          },
          "metadata": {
            "tags": []
          }
        },
        {
          "output_type": "display_data",
          "data": {
            "text/html": [
              "Synced 5 W&B file(s), 0 media file(s), 0 artifact file(s) and 0 other file(s)"
            ],
            "text/plain": [
              "<IPython.core.display.HTML object>"
            ]
          },
          "metadata": {
            "tags": []
          }
        },
        {
          "output_type": "display_data",
          "data": {
            "text/html": [
              "\n",
              "                    <br/>Synced <strong style=\"color:#cdcd00\">apricot-sweep-3</strong>: <a href=\"https://wandb.ai/cs20m038/Assignment%203%20Part%202/runs/gmb13mr5\" target=\"_blank\">https://wandb.ai/cs20m038/Assignment%203%20Part%202/runs/gmb13mr5</a><br/>\n",
              "                "
            ],
            "text/plain": [
              "<IPython.core.display.HTML object>"
            ]
          },
          "metadata": {
            "tags": []
          }
        },
        {
          "output_type": "stream",
          "text": [
            "\u001b[34m\u001b[1mwandb\u001b[0m: \u001b[32m\u001b[41mERROR\u001b[0m Run gmb13mr5 errored: InvalidArgumentError()\n",
            "\u001b[34m\u001b[1mwandb\u001b[0m: Agent Starting Run: tfrbjzm7 with config:\n",
            "\u001b[34m\u001b[1mwandb\u001b[0m: \tEPOCHS: 15\n",
            "\u001b[34m\u001b[1mwandb\u001b[0m: \tattention_type: Bahdanau\n",
            "\u001b[34m\u001b[1mwandb\u001b[0m: \tattention_unit: 50\n",
            "\u001b[34m\u001b[1mwandb\u001b[0m: \tbatch_size: 512\n",
            "\u001b[34m\u001b[1mwandb\u001b[0m: \tembedding_dim: 512\n",
            "\u001b[34m\u001b[1mwandb\u001b[0m: \tenc_dim: 512\n",
            "\u001b[34m\u001b[1mwandb\u001b[0m: \tlr: 0.0001\n",
            "\u001b[34m\u001b[1mwandb\u001b[0m: \tmax_epoch: 10\n",
            "\u001b[34m\u001b[1mwandb\u001b[0m: \toptimizers: adam\n",
            "\u001b[34m\u001b[1mwandb\u001b[0m: \tvocab_inp_size: 100\n",
            "\u001b[34m\u001b[1mwandb\u001b[0m: \tvocab_tar_size: 200\n"
          ],
          "name": "stderr"
        },
        {
          "output_type": "display_data",
          "data": {
            "text/html": [
              "\n",
              "                Tracking run with wandb version 0.10.30<br/>\n",
              "                Syncing run <strong style=\"color:#cdcd00\">clean-sweep-4</strong> to <a href=\"https://wandb.ai\" target=\"_blank\">Weights & Biases</a> <a href=\"https://docs.wandb.com/integrations/jupyter.html\" target=\"_blank\">(Documentation)</a>.<br/>\n",
              "                Project page: <a href=\"https://wandb.ai/cs20m038/Assignment%203%20Part%202\" target=\"_blank\">https://wandb.ai/cs20m038/Assignment%203%20Part%202</a><br/>\n",
              "                Sweep page: <a href=\"https://wandb.ai/cs20m038/Assignment%203%20Part%202/sweeps/38t7i5m2\" target=\"_blank\">https://wandb.ai/cs20m038/Assignment%203%20Part%202/sweeps/38t7i5m2</a><br/>\n",
              "Run page: <a href=\"https://wandb.ai/cs20m038/Assignment%203%20Part%202/runs/tfrbjzm7\" target=\"_blank\">https://wandb.ai/cs20m038/Assignment%203%20Part%202/runs/tfrbjzm7</a><br/>\n",
              "                Run data is saved locally in <code>/content/wandb/run-20210525_045542-tfrbjzm7</code><br/><br/>\n",
              "            "
            ],
            "text/plain": [
              "<IPython.core.display.HTML object>"
            ]
          },
          "metadata": {
            "tags": []
          }
        },
        {
          "output_type": "stream",
          "text": [
            "Encoder output shape: (batch size, sequence length, units) (512, 22, 512)\n",
            "Encoder Hidden state shape: (batch size, units) (512, 512)\n",
            "Attention result shape: (batch size, units) (512, 512)\n",
            "Attention weights shape: (batch_size, sequence_length, 1) (512, 22, 1)\n",
            "Decoder output shape: (batch_size, vocab size) (512, 200)\n",
            "Epoch 1 Batch 0 Loss 5.0338 Accuracy 0.0061\n",
            "Epoch 1 Loss 2.6443\n",
            "Epoch 1 Train Character_level Accuracy 0.6454\n",
            "Epoch 1 Train_Samplw_Word Accuracy 0.0000\n",
            "Epoch 1 Validation_Sample_Word_Accuracy 0.0000\n",
            "Time taken for 1 epoch 37.00361347198486 sec\n",
            "\n",
            "Epoch 2 Batch 0 Loss 1.5278 Accuracy 0.6516\n",
            "Epoch 2 Loss 1.3515\n",
            "Epoch 2 Train Character_level Accuracy 0.6538\n",
            "Epoch 2 Train_Samplw_Word Accuracy 0.0000\n",
            "Epoch 2 Validation_Sample_Word_Accuracy 0.0000\n",
            "Time taken for 1 epoch 78.66486287117004 sec\n",
            "\n",
            "Epoch 3 Batch 0 Loss 1.2152 Accuracy 0.6589\n",
            "Epoch 3 Loss 1.1814\n",
            "Epoch 3 Train Character_level Accuracy 0.6553\n",
            "Epoch 3 Train_Samplw_Word Accuracy 0.0000\n",
            "Epoch 3 Validation_Sample_Word_Accuracy 0.0000\n",
            "Time taken for 1 epoch 78.54334878921509 sec\n",
            "\n",
            "Epoch 4 Batch 0 Loss 1.1270 Accuracy 0.6655\n",
            "Epoch 4 Loss 1.1371\n",
            "Epoch 4 Train Character_level Accuracy 0.6646\n",
            "Epoch 4 Train_Samplw_Word Accuracy 0.0000\n",
            "Epoch 4 Validation_Sample_Word_Accuracy 0.0000\n",
            "Time taken for 1 epoch 79.39184808731079 sec\n",
            "\n",
            "Epoch 5 Batch 0 Loss 1.1316 Accuracy 0.6669\n",
            "Epoch 5 Loss 1.0998\n",
            "Epoch 5 Train Character_level Accuracy 0.6743\n",
            "Epoch 5 Train_Samplw_Word Accuracy 0.0000\n",
            "Epoch 5 Validation_Sample_Word_Accuracy 0.0000\n",
            "Time taken for 1 epoch 77.72188687324524 sec\n",
            "\n",
            "Epoch 6 Batch 0 Loss 1.0505 Accuracy 0.6863\n",
            "Epoch 6 Loss 1.0313\n",
            "Epoch 6 Train Character_level Accuracy 0.6867\n",
            "Epoch 6 Train_Samplw_Word Accuracy 0.0000\n",
            "Epoch 6 Validation_Sample_Word_Accuracy 0.0000\n",
            "Time taken for 1 epoch 77.91177821159363 sec\n",
            "\n",
            "Epoch 7 Batch 0 Loss 0.9974 Accuracy 0.6943\n",
            "Epoch 7 Loss 0.9876\n",
            "Epoch 7 Train Character_level Accuracy 0.6922\n",
            "Epoch 7 Train_Samplw_Word Accuracy 0.0000\n",
            "Epoch 7 Validation_Sample_Word_Accuracy 0.0000\n",
            "Time taken for 1 epoch 78.18299293518066 sec\n",
            "\n",
            "Epoch 8 Batch 0 Loss 0.9645 Accuracy 0.7001\n",
            "Epoch 8 Loss 0.9618\n",
            "Epoch 8 Train Character_level Accuracy 0.6971\n",
            "Epoch 8 Train_Samplw_Word Accuracy 0.0000\n",
            "Epoch 8 Validation_Sample_Word_Accuracy 0.0000\n",
            "Time taken for 1 epoch 78.50975441932678 sec\n",
            "\n",
            "Epoch 9 Batch 0 Loss 0.9342 Accuracy 0.7010\n",
            "Epoch 9 Loss 0.9447\n",
            "Epoch 9 Train Character_level Accuracy 0.7005\n",
            "Epoch 9 Train_Samplw_Word Accuracy 0.0000\n",
            "Epoch 9 Validation_Sample_Word_Accuracy 0.0000\n",
            "Time taken for 1 epoch 77.76497745513916 sec\n",
            "\n",
            "Epoch 10 Batch 0 Loss 0.9282 Accuracy 0.7016\n",
            "Epoch 10 Loss 0.9343\n",
            "Epoch 10 Train Character_level Accuracy 0.7024\n",
            "Epoch 10 Train_Samplw_Word Accuracy 0.0000\n",
            "Epoch 10 Validation_Sample_Word_Accuracy 0.0000\n",
            "Time taken for 1 epoch 76.74331402778625 sec\n",
            "\n",
            "Epoch 11 Batch 0 Loss 0.9283 Accuracy 0.7028\n",
            "Epoch 11 Loss 0.9270\n",
            "Epoch 11 Train Character_level Accuracy 0.7036\n",
            "Epoch 11 Train_Samplw_Word Accuracy 0.0000\n",
            "Epoch 11 Validation_Sample_Word_Accuracy 0.0000\n",
            "Time taken for 1 epoch 77.6415684223175 sec\n",
            "\n",
            "Epoch 12 Batch 0 Loss 0.9233 Accuracy 0.7035\n",
            "Epoch 12 Loss 0.9186\n",
            "Epoch 12 Train Character_level Accuracy 0.7047\n",
            "Epoch 12 Train_Samplw_Word Accuracy 0.0000\n",
            "Epoch 12 Validation_Sample_Word_Accuracy 0.0000\n",
            "Time taken for 1 epoch 75.4401466846466 sec\n",
            "\n",
            "Epoch 13 Batch 0 Loss 0.9204 Accuracy 0.7046\n",
            "Epoch 13 Loss 0.9176\n",
            "Epoch 13 Train Character_level Accuracy 0.7048\n",
            "Epoch 13 Train_Samplw_Word Accuracy 0.0000\n",
            "Epoch 13 Validation_Sample_Word_Accuracy 0.0000\n",
            "Time taken for 1 epoch 75.8722710609436 sec\n",
            "\n",
            "Epoch 14 Batch 0 Loss 0.9332 Accuracy 0.6993\n",
            "Epoch 14 Loss 0.9088\n",
            "Epoch 14 Train Character_level Accuracy 0.7060\n",
            "Epoch 14 Train_Samplw_Word Accuracy 0.0000\n",
            "Epoch 14 Validation_Sample_Word_Accuracy 0.0000\n",
            "Time taken for 1 epoch 70.27229595184326 sec\n",
            "\n",
            "Epoch 15 Batch 0 Loss 0.9190 Accuracy 0.7004\n",
            "Epoch 15 Loss 0.9057\n",
            "Epoch 15 Train Character_level Accuracy 0.7062\n",
            "Epoch 15 Train_Samplw_Word Accuracy 0.0000\n",
            "Epoch 15 Validation_Sample_Word_Accuracy 0.0000\n",
            "Time taken for 1 epoch 72.477694272995 sec\n",
            "\n",
            "Test Sample Word Accuracy = : 0.0\n"
          ],
          "name": "stdout"
        },
        {
          "output_type": "display_data",
          "data": {
            "text/html": [
              "<br/>Waiting for W&B process to finish, PID 306<br/>Program ended successfully."
            ],
            "text/plain": [
              "<IPython.core.display.HTML object>"
            ]
          },
          "metadata": {
            "tags": []
          }
        },
        {
          "output_type": "display_data",
          "data": {
            "application/vnd.jupyter.widget-view+json": {
              "model_id": "3d59207462e4453da3433c3a0af5abc8",
              "version_major": 2,
              "version_minor": 0
            },
            "text/plain": [
              "VBox(children=(Label(value=' 0.00MB of 0.00MB uploaded (0.00MB deduped)\\r'), FloatProgress(value=1.0, max=1.0)…"
            ]
          },
          "metadata": {
            "tags": []
          }
        },
        {
          "output_type": "display_data",
          "data": {
            "text/html": [
              "Find user logs for this run at: <code>/content/wandb/run-20210525_045542-tfrbjzm7/logs/debug.log</code>"
            ],
            "text/plain": [
              "<IPython.core.display.HTML object>"
            ]
          },
          "metadata": {
            "tags": []
          }
        },
        {
          "output_type": "display_data",
          "data": {
            "text/html": [
              "Find internal logs for this run at: <code>/content/wandb/run-20210525_045542-tfrbjzm7/logs/debug-internal.log</code>"
            ],
            "text/plain": [
              "<IPython.core.display.HTML object>"
            ]
          },
          "metadata": {
            "tags": []
          }
        },
        {
          "output_type": "display_data",
          "data": {
            "text/html": [
              "<h3>Run summary:</h3><br/><style>\n",
              "    table.wandb td:nth-child(1) { padding: 0 10px; text-align: right }\n",
              "    </style><table class=\"wandb\">\n",
              "<tr><td>Train Loss</td><td>0.90575</td></tr><tr><td>_runtime</td><td>1265</td></tr><tr><td>_timestamp</td><td>1621919807</td></tr><tr><td>_step</td><td>60</td></tr><tr><td>Train Accuracy</td><td>0.70623</td></tr><tr><td>Train_Samplw_Word Accuracy</td><td>0.0</td></tr><tr><td>Validn_Samplw_Word Accuracy</td><td>0.0</td></tr><tr><td>Test_Sample_word_accuracy</td><td>0.0</td></tr></table>"
            ],
            "text/plain": [
              "<IPython.core.display.HTML object>"
            ]
          },
          "metadata": {
            "tags": []
          }
        },
        {
          "output_type": "display_data",
          "data": {
            "text/html": [
              "<h3>Run history:</h3><br/><style>\n",
              "    table.wandb td:nth-child(1) { padding: 0 10px; text-align: right }\n",
              "    </style><table class=\"wandb\">\n",
              "<tr><td>Train Loss</td><td>█▃▂▂▂▂▁▁▁▁▁▁▁▁▁</td></tr><tr><td>_runtime</td><td>▁▁▁▁▁▁▂▂▂▂▂▂▃▃▃▃▃▄▄▄▄▄▄▅▅▅▅▅▅▆▆▆▆▆▆▆▇▇▇█</td></tr><tr><td>_timestamp</td><td>▁▁▁▁▁▁▂▂▂▂▂▂▃▃▃▃▃▄▄▄▄▄▄▅▅▅▅▅▅▆▆▆▆▆▆▆▇▇▇█</td></tr><tr><td>_step</td><td>▁▁▁▁▂▂▂▂▂▃▃▃▃▃▃▄▄▄▄▄▅▅▅▅▅▅▆▆▆▆▆▆▇▇▇▇▇███</td></tr><tr><td>Train Accuracy</td><td>▁▂▂▃▄▆▆▇▇██████</td></tr><tr><td>Train_Samplw_Word Accuracy</td><td>▁▁▁▁▁▁▁▁▁▁▁▁▁▁▁</td></tr><tr><td>Validn_Samplw_Word Accuracy</td><td>▁▁▁▁▁▁▁▁▁▁▁▁▁▁▁</td></tr><tr><td>Test_Sample_word_accuracy</td><td>▁</td></tr></table><br/>"
            ],
            "text/plain": [
              "<IPython.core.display.HTML object>"
            ]
          },
          "metadata": {
            "tags": []
          }
        },
        {
          "output_type": "display_data",
          "data": {
            "text/html": [
              "Synced 5 W&B file(s), 0 media file(s), 0 artifact file(s) and 0 other file(s)"
            ],
            "text/plain": [
              "<IPython.core.display.HTML object>"
            ]
          },
          "metadata": {
            "tags": []
          }
        },
        {
          "output_type": "display_data",
          "data": {
            "text/html": [
              "\n",
              "                    <br/>Synced <strong style=\"color:#cdcd00\">clean-sweep-4</strong>: <a href=\"https://wandb.ai/cs20m038/Assignment%203%20Part%202/runs/tfrbjzm7\" target=\"_blank\">https://wandb.ai/cs20m038/Assignment%203%20Part%202/runs/tfrbjzm7</a><br/>\n",
              "                "
            ],
            "text/plain": [
              "<IPython.core.display.HTML object>"
            ]
          },
          "metadata": {
            "tags": []
          }
        },
        {
          "output_type": "stream",
          "text": [
            "\u001b[34m\u001b[1mwandb\u001b[0m: Agent Starting Run: cydtsgm3 with config:\n",
            "\u001b[34m\u001b[1mwandb\u001b[0m: \tEPOCHS: 15\n",
            "\u001b[34m\u001b[1mwandb\u001b[0m: \tattention_type: Luong\n",
            "\u001b[34m\u001b[1mwandb\u001b[0m: \tattention_unit: 35\n",
            "\u001b[34m\u001b[1mwandb\u001b[0m: \tbatch_size: 512\n",
            "\u001b[34m\u001b[1mwandb\u001b[0m: \tembedding_dim: 64\n",
            "\u001b[34m\u001b[1mwandb\u001b[0m: \tenc_dim: 512\n",
            "\u001b[34m\u001b[1mwandb\u001b[0m: \tlr: 0.01\n",
            "\u001b[34m\u001b[1mwandb\u001b[0m: \tmax_epoch: 20\n",
            "\u001b[34m\u001b[1mwandb\u001b[0m: \toptimizers: adam\n",
            "\u001b[34m\u001b[1mwandb\u001b[0m: \tvocab_inp_size: 100\n",
            "\u001b[34m\u001b[1mwandb\u001b[0m: \tvocab_tar_size: 140\n"
          ],
          "name": "stderr"
        },
        {
          "output_type": "display_data",
          "data": {
            "text/html": [
              "\n",
              "                Tracking run with wandb version 0.10.30<br/>\n",
              "                Syncing run <strong style=\"color:#cdcd00\">fragrant-sweep-5</strong> to <a href=\"https://wandb.ai\" target=\"_blank\">Weights & Biases</a> <a href=\"https://docs.wandb.com/integrations/jupyter.html\" target=\"_blank\">(Documentation)</a>.<br/>\n",
              "                Project page: <a href=\"https://wandb.ai/cs20m038/Assignment%203%20Part%202\" target=\"_blank\">https://wandb.ai/cs20m038/Assignment%203%20Part%202</a><br/>\n",
              "                Sweep page: <a href=\"https://wandb.ai/cs20m038/Assignment%203%20Part%202/sweeps/38t7i5m2\" target=\"_blank\">https://wandb.ai/cs20m038/Assignment%203%20Part%202/sweeps/38t7i5m2</a><br/>\n",
              "Run page: <a href=\"https://wandb.ai/cs20m038/Assignment%203%20Part%202/runs/cydtsgm3\" target=\"_blank\">https://wandb.ai/cs20m038/Assignment%203%20Part%202/runs/cydtsgm3</a><br/>\n",
              "                Run data is saved locally in <code>/content/wandb/run-20210525_051656-cydtsgm3</code><br/><br/>\n",
              "            "
            ],
            "text/plain": [
              "<IPython.core.display.HTML object>"
            ]
          },
          "metadata": {
            "tags": []
          }
        },
        {
          "output_type": "stream",
          "text": [
            "Encoder output shape: (batch size, sequence length, units) (512, 22, 512)\n",
            "Encoder Hidden state shape: (batch size, units) (512, 512)\n",
            "query_with_time_axis:(batch_size, 1, hidden size)  (512, 1, 512)\n",
            "score: (batch_size, max_length, 1)  (512, 22, 1)\n",
            "Attention result shape: (batch size, units) (512, 512)\n",
            "Attention weights shape: (batch_size, sequence_length, 1) (512, 22, 1)\n",
            "Decoder output shape: (batch_size, vocab size) (512, 140)\n",
            "Epoch 1 Batch 0 Loss 4.7095 Accuracy 0.0018\n",
            "Epoch 1 Loss 1.3415\n",
            "Epoch 1 Train Character_level Accuracy 0.6573\n",
            "Epoch 1 Train_Samplw_Word Accuracy 0.0000\n",
            "Epoch 1 Validation_Sample_Word_Accuracy 0.0000\n",
            "Time taken for 1 epoch 43.45229506492615 sec\n",
            "\n",
            "Epoch 2 Batch 0 Loss 0.9713 Accuracy 0.6931\n",
            "Epoch 2 Loss 0.8979\n",
            "Epoch 2 Train Character_level Accuracy 0.7068\n",
            "Epoch 2 Train_Samplw_Word Accuracy 0.0000\n",
            "Epoch 2 Validation_Sample_Word_Accuracy 0.0000\n",
            "Time taken for 1 epoch 43.311882734298706 sec\n",
            "\n",
            "Epoch 3 Batch 0 Loss 0.8492 Accuracy 0.7193\n",
            "Epoch 3 Loss 0.8141\n",
            "Epoch 3 Train Character_level Accuracy 0.7278\n",
            "Epoch 3 Train_Samplw_Word Accuracy 0.0000\n",
            "Epoch 3 Validation_Sample_Word_Accuracy 0.0000\n",
            "Time taken for 1 epoch 74.75494456291199 sec\n",
            "\n",
            "Epoch 4 Batch 0 Loss 0.7900 Accuracy 0.7330\n",
            "Epoch 4 Loss 0.7840\n",
            "Epoch 4 Train Character_level Accuracy 0.7343\n",
            "Epoch 4 Train_Samplw_Word Accuracy 0.0000\n",
            "Epoch 4 Validation_Sample_Word_Accuracy 0.0000\n",
            "Time taken for 1 epoch 67.43077158927917 sec\n",
            "\n",
            "Epoch 5 Batch 0 Loss 0.7802 Accuracy 0.7362\n",
            "Epoch 5 Loss 0.7552\n",
            "Epoch 5 Train Character_level Accuracy 0.7418\n",
            "Epoch 5 Train_Samplw_Word Accuracy 0.0000\n",
            "Epoch 5 Validation_Sample_Word_Accuracy 0.0000\n",
            "Time taken for 1 epoch 74.38295030593872 sec\n",
            "\n",
            "Epoch 6 Batch 0 Loss 0.7332 Accuracy 0.7464\n",
            "Epoch 6 Loss 0.7261\n",
            "Epoch 6 Train Character_level Accuracy 0.7484\n",
            "Epoch 6 Train_Samplw_Word Accuracy 0.0000\n",
            "Epoch 6 Validation_Sample_Word_Accuracy 0.0000\n",
            "Time taken for 1 epoch 74.5293231010437 sec\n",
            "\n",
            "Epoch 7 Batch 0 Loss 0.7129 Accuracy 0.7493\n",
            "Epoch 7 Loss 0.6942\n",
            "Epoch 7 Train Character_level Accuracy 0.7547\n",
            "Epoch 7 Train_Samplw_Word Accuracy 0.0000\n",
            "Epoch 7 Validation_Sample_Word_Accuracy 0.0000\n",
            "Time taken for 1 epoch 70.73185133934021 sec\n",
            "\n",
            "Epoch 8 Batch 0 Loss 0.6832 Accuracy 0.7550\n",
            "Epoch 8 Loss 0.6013\n",
            "Epoch 8 Train Character_level Accuracy 0.7772\n",
            "Epoch 8 Train_Samplw_Word Accuracy 0.0000\n",
            "Epoch 8 Validation_Sample_Word_Accuracy 0.0000\n",
            "Time taken for 1 epoch 71.07644033432007 sec\n",
            "\n",
            "Epoch 9 Batch 0 Loss 0.5140 Accuracy 0.7960\n",
            "Epoch 9 Loss 0.4819\n",
            "Epoch 9 Train Character_level Accuracy 0.8072\n",
            "Epoch 9 Train_Samplw_Word Accuracy 0.0000\n",
            "Epoch 9 Validation_Sample_Word_Accuracy 0.0000\n",
            "Time taken for 1 epoch 76.94598579406738 sec\n",
            "\n",
            "Epoch 10 Batch 0 Loss 0.3970 Accuracy 0.8323\n",
            "Epoch 10 Loss 0.4935\n",
            "Epoch 10 Train Character_level Accuracy 0.8064\n",
            "Epoch 10 Train_Samplw_Word Accuracy 2.0000\n",
            "Epoch 10 Validation_Sample_Word_Accuracy 0.6667\n",
            "Time taken for 1 epoch 70.18519115447998 sec\n",
            "\n",
            "Epoch 11 Batch 0 Loss 0.5264 Accuracy 0.7937\n",
            "Epoch 11 Loss 0.3704\n",
            "Epoch 11 Train Character_level Accuracy 0.8366\n",
            "Epoch 11 Train_Samplw_Word Accuracy 3.3333\n",
            "Epoch 11 Validation_Sample_Word_Accuracy 1.3333\n",
            "Time taken for 1 epoch 62.5493688583374 sec\n",
            "\n",
            "Epoch 12 Batch 0 Loss 0.3022 Accuracy 0.8573\n",
            "Epoch 12 Loss 0.2541\n",
            "Epoch 12 Train Character_level Accuracy 0.8712\n",
            "Epoch 12 Train_Samplw_Word Accuracy 12.6667\n",
            "Epoch 12 Validation_Sample_Word_Accuracy 8.0000\n",
            "Time taken for 1 epoch 51.326934814453125 sec\n",
            "\n",
            "Epoch 13 Batch 0 Loss 0.1957 Accuracy 0.8898\n",
            "Epoch 13 Loss 0.2127\n",
            "Epoch 13 Train Character_level Accuracy 0.8841\n",
            "Epoch 13 Train_Samplw_Word Accuracy 16.6667\n",
            "Epoch 13 Validation_Sample_Word_Accuracy 21.3333\n",
            "Time taken for 1 epoch 44.22872805595398 sec\n",
            "\n",
            "Epoch 14 Batch 0 Loss 0.1969 Accuracy 0.8862\n",
            "Epoch 14 Loss 0.1833\n",
            "Epoch 14 Train Character_level Accuracy 0.8933\n",
            "Epoch 14 Train_Samplw_Word Accuracy 20.6667\n",
            "Epoch 14 Validation_Sample_Word_Accuracy 25.3333\n",
            "Time taken for 1 epoch 42.70867395401001 sec\n",
            "\n",
            "Epoch 15 Batch 0 Loss 0.1812 Accuracy 0.8918\n",
            "Epoch 15 Loss 0.1674\n",
            "Epoch 15 Train Character_level Accuracy 0.8982\n",
            "Epoch 15 Train_Samplw_Word Accuracy 11.3333\n",
            "Epoch 15 Validation_Sample_Word_Accuracy 20.6667\n",
            "Time taken for 1 epoch 44.82178449630737 sec\n",
            "\n",
            "Test Sample Word Accuracy = : 19.0\n"
          ],
          "name": "stdout"
        },
        {
          "output_type": "display_data",
          "data": {
            "text/html": [
              "<br/>Waiting for W&B process to finish, PID 443<br/>Program ended successfully."
            ],
            "text/plain": [
              "<IPython.core.display.HTML object>"
            ]
          },
          "metadata": {
            "tags": []
          }
        },
        {
          "output_type": "display_data",
          "data": {
            "application/vnd.jupyter.widget-view+json": {
              "model_id": "ae1b416004ed449780be468f26b21555",
              "version_major": 2,
              "version_minor": 0
            },
            "text/plain": [
              "VBox(children=(Label(value=' 0.00MB of 0.00MB uploaded (0.00MB deduped)\\r'), FloatProgress(value=1.0, max=1.0)…"
            ]
          },
          "metadata": {
            "tags": []
          }
        },
        {
          "output_type": "display_data",
          "data": {
            "text/html": [
              "Find user logs for this run at: <code>/content/wandb/run-20210525_051656-cydtsgm3/logs/debug.log</code>"
            ],
            "text/plain": [
              "<IPython.core.display.HTML object>"
            ]
          },
          "metadata": {
            "tags": []
          }
        },
        {
          "output_type": "display_data",
          "data": {
            "text/html": [
              "Find internal logs for this run at: <code>/content/wandb/run-20210525_051656-cydtsgm3/logs/debug-internal.log</code>"
            ],
            "text/plain": [
              "<IPython.core.display.HTML object>"
            ]
          },
          "metadata": {
            "tags": []
          }
        },
        {
          "output_type": "display_data",
          "data": {
            "text/html": [
              "<h3>Run summary:</h3><br/><style>\n",
              "    table.wandb td:nth-child(1) { padding: 0 10px; text-align: right }\n",
              "    </style><table class=\"wandb\">\n",
              "<tr><td>Train Loss</td><td>0.16741</td></tr><tr><td>_runtime</td><td>987</td></tr><tr><td>_timestamp</td><td>1621920803</td></tr><tr><td>_step</td><td>60</td></tr><tr><td>Train Accuracy</td><td>0.89821</td></tr><tr><td>Train_Samplw_Word Accuracy</td><td>11.33333</td></tr><tr><td>Validn_Samplw_Word Accuracy</td><td>20.66667</td></tr><tr><td>Test_Sample_word_accuracy</td><td>19.0</td></tr></table>"
            ],
            "text/plain": [
              "<IPython.core.display.HTML object>"
            ]
          },
          "metadata": {
            "tags": []
          }
        },
        {
          "output_type": "display_data",
          "data": {
            "text/html": [
              "<h3>Run history:</h3><br/><style>\n",
              "    table.wandb td:nth-child(1) { padding: 0 10px; text-align: right }\n",
              "    </style><table class=\"wandb\">\n",
              "<tr><td>Train Loss</td><td>█▅▅▅▅▄▄▄▃▃▂▂▁▁▁</td></tr><tr><td>_runtime</td><td>▁▁▁▁▁▁▂▂▂▂▂▃▃▃▃▄▄▄▄▄▅▅▅▅▅▆▆▆▆▆▇▇▇▇▇▇▇▇▇█</td></tr><tr><td>_timestamp</td><td>▁▁▁▁▁▁▂▂▂▂▂▃▃▃▃▄▄▄▄▄▅▅▅▅▅▆▆▆▆▆▇▇▇▇▇▇▇▇▇█</td></tr><tr><td>_step</td><td>▁▁▁▁▂▂▂▂▂▃▃▃▃▃▃▄▄▄▄▄▅▅▅▅▅▅▆▆▆▆▆▆▇▇▇▇▇███</td></tr><tr><td>Train Accuracy</td><td>▁▂▃▃▃▄▄▄▅▅▆▇███</td></tr><tr><td>Train_Samplw_Word Accuracy</td><td>▁▁▁▁▁▁▁▁▁▂▂▅▇█▅</td></tr><tr><td>Validn_Samplw_Word Accuracy</td><td>▁▁▁▁▁▁▁▁▁▁▁▃▇█▇</td></tr><tr><td>Test_Sample_word_accuracy</td><td>▁</td></tr></table><br/>"
            ],
            "text/plain": [
              "<IPython.core.display.HTML object>"
            ]
          },
          "metadata": {
            "tags": []
          }
        },
        {
          "output_type": "display_data",
          "data": {
            "text/html": [
              "Synced 5 W&B file(s), 0 media file(s), 0 artifact file(s) and 0 other file(s)"
            ],
            "text/plain": [
              "<IPython.core.display.HTML object>"
            ]
          },
          "metadata": {
            "tags": []
          }
        },
        {
          "output_type": "display_data",
          "data": {
            "text/html": [
              "\n",
              "                    <br/>Synced <strong style=\"color:#cdcd00\">fragrant-sweep-5</strong>: <a href=\"https://wandb.ai/cs20m038/Assignment%203%20Part%202/runs/cydtsgm3\" target=\"_blank\">https://wandb.ai/cs20m038/Assignment%203%20Part%202/runs/cydtsgm3</a><br/>\n",
              "                "
            ],
            "text/plain": [
              "<IPython.core.display.HTML object>"
            ]
          },
          "metadata": {
            "tags": []
          }
        },
        {
          "output_type": "stream",
          "text": [
            "\u001b[34m\u001b[1mwandb\u001b[0m: Agent Starting Run: 7o6ily6k with config:\n",
            "\u001b[34m\u001b[1mwandb\u001b[0m: \tEPOCHS: 15\n",
            "\u001b[34m\u001b[1mwandb\u001b[0m: \tattention_type: Bahdanau\n",
            "\u001b[34m\u001b[1mwandb\u001b[0m: \tattention_unit: 50\n",
            "\u001b[34m\u001b[1mwandb\u001b[0m: \tbatch_size: 128\n",
            "\u001b[34m\u001b[1mwandb\u001b[0m: \tembedding_dim: 64\n",
            "\u001b[34m\u001b[1mwandb\u001b[0m: \tenc_dim: 1024\n",
            "\u001b[34m\u001b[1mwandb\u001b[0m: \tlr: 0.0001\n",
            "\u001b[34m\u001b[1mwandb\u001b[0m: \tmax_epoch: 15\n",
            "\u001b[34m\u001b[1mwandb\u001b[0m: \toptimizers: rmsp\n",
            "\u001b[34m\u001b[1mwandb\u001b[0m: \tvocab_inp_size: 100\n",
            "\u001b[34m\u001b[1mwandb\u001b[0m: \tvocab_tar_size: 140\n"
          ],
          "name": "stderr"
        },
        {
          "output_type": "display_data",
          "data": {
            "text/html": [
              "\n",
              "                Tracking run with wandb version 0.10.30<br/>\n",
              "                Syncing run <strong style=\"color:#cdcd00\">fanciful-sweep-6</strong> to <a href=\"https://wandb.ai\" target=\"_blank\">Weights & Biases</a> <a href=\"https://docs.wandb.com/integrations/jupyter.html\" target=\"_blank\">(Documentation)</a>.<br/>\n",
              "                Project page: <a href=\"https://wandb.ai/cs20m038/Assignment%203%20Part%202\" target=\"_blank\">https://wandb.ai/cs20m038/Assignment%203%20Part%202</a><br/>\n",
              "                Sweep page: <a href=\"https://wandb.ai/cs20m038/Assignment%203%20Part%202/sweeps/38t7i5m2\" target=\"_blank\">https://wandb.ai/cs20m038/Assignment%203%20Part%202/sweeps/38t7i5m2</a><br/>\n",
              "Run page: <a href=\"https://wandb.ai/cs20m038/Assignment%203%20Part%202/runs/7o6ily6k\" target=\"_blank\">https://wandb.ai/cs20m038/Assignment%203%20Part%202/runs/7o6ily6k</a><br/>\n",
              "                Run data is saved locally in <code>/content/wandb/run-20210525_053331-7o6ily6k</code><br/><br/>\n",
              "            "
            ],
            "text/plain": [
              "<IPython.core.display.HTML object>"
            ]
          },
          "metadata": {
            "tags": []
          }
        },
        {
          "output_type": "stream",
          "text": [
            "Encoder output shape: (batch size, sequence length, units) (128, 22, 1024)\n",
            "Encoder Hidden state shape: (batch size, units) (128, 1024)\n",
            "Attention result shape: (batch size, units) (128, 1024)\n",
            "Attention weights shape: (batch_size, sequence_length, 1) (128, 22, 1)\n",
            "Decoder output shape: (batch_size, vocab size) (128, 140)\n",
            "Epoch 1 Batch 0 Loss 4.7036 Accuracy 0.0041\n",
            "Epoch 1 Batch 100 Loss 1.5701 Accuracy 0.6540\n",
            "Epoch 1 Batch 200 Loss 1.2929 Accuracy 0.6667\n",
            "Epoch 1 Batch 300 Loss 1.1589 Accuracy 0.6570\n",
            "Epoch 1 Loss 1.6311\n",
            "Epoch 1 Train Character_level Accuracy 0.6527\n",
            "Epoch 1 Train_Samplw_Word Accuracy 0.0000\n",
            "Epoch 1 Validation_Sample_Word_Accuracy 0.0000\n",
            "Time taken for 1 epoch 103.37036657333374 sec\n",
            "\n",
            "Epoch 2 Batch 0 Loss 1.1199 Accuracy 0.6708\n",
            "Epoch 2 Batch 100 Loss 1.0803 Accuracy 0.6775\n",
            "Epoch 2 Batch 200 Loss 1.0810 Accuracy 0.6767\n",
            "Epoch 2 Batch 300 Loss 1.0696 Accuracy 0.6812\n",
            "Epoch 2 Loss 1.0937\n",
            "Epoch 2 Train Character_level Accuracy 0.6763\n",
            "Epoch 2 Train_Samplw_Word Accuracy 0.0000\n",
            "Epoch 2 Validation_Sample_Word_Accuracy 0.0000\n",
            "Time taken for 1 epoch 117.7444224357605 sec\n",
            "\n",
            "Epoch 3 Batch 0 Loss 1.0840 Accuracy 0.6737\n",
            "Epoch 3 Batch 100 Loss 1.0610 Accuracy 0.6819\n",
            "Epoch 3 Batch 200 Loss 1.0296 Accuracy 0.6923\n",
            "Epoch 3 Batch 300 Loss 0.9967 Accuracy 0.7042\n",
            "Epoch 3 Loss 1.0564\n",
            "Epoch 3 Train Character_level Accuracy 0.6838\n",
            "Epoch 3 Train_Samplw_Word Accuracy 0.0000\n",
            "Epoch 3 Validation_Sample_Word_Accuracy 0.0000\n",
            "Time taken for 1 epoch 128.09968209266663 sec\n",
            "\n",
            "Epoch 4 Batch 0 Loss 1.0527 Accuracy 0.6860\n",
            "Epoch 4 Batch 100 Loss 0.9636 Accuracy 0.7072\n",
            "Epoch 4 Batch 200 Loss 1.0243 Accuracy 0.6856\n",
            "Epoch 4 Batch 300 Loss 1.0039 Accuracy 0.6894\n",
            "Epoch 4 Loss 1.0115\n",
            "Epoch 4 Train Character_level Accuracy 0.6910\n",
            "Epoch 4 Train_Samplw_Word Accuracy 0.0000\n",
            "Epoch 4 Validation_Sample_Word_Accuracy 0.0000\n",
            "Time taken for 1 epoch 121.8537368774414 sec\n",
            "\n",
            "Epoch 5 Batch 0 Loss 0.9521 Accuracy 0.6994\n",
            "Epoch 5 Batch 100 Loss 0.9338 Accuracy 0.7046\n",
            "Epoch 5 Batch 200 Loss 0.9909 Accuracy 0.6882\n",
            "Epoch 5 Batch 300 Loss 0.8805 Accuracy 0.7165\n",
            "Epoch 5 Loss 0.9629\n",
            "Epoch 5 Train Character_level Accuracy 0.6955\n",
            "Epoch 5 Train_Samplw_Word Accuracy 0.0000\n",
            "Epoch 5 Validation_Sample_Word_Accuracy 0.0000\n",
            "Time taken for 1 epoch 127.72041368484497 sec\n",
            "\n",
            "Epoch 6 Batch 0 Loss 1.0013 Accuracy 0.6856\n",
            "Epoch 6 Batch 100 Loss 0.9436 Accuracy 0.6994\n",
            "Epoch 6 Batch 200 Loss 0.9681 Accuracy 0.6905\n",
            "Epoch 6 Batch 300 Loss 0.9033 Accuracy 0.7135\n",
            "Epoch 6 Loss 0.9397\n",
            "Epoch 6 Train Character_level Accuracy 0.6998\n",
            "Epoch 6 Train_Samplw_Word Accuracy 0.0000\n",
            "Epoch 6 Validation_Sample_Word_Accuracy 0.0000\n",
            "Time taken for 1 epoch 126.49567294120789 sec\n",
            "\n",
            "Epoch 7 Batch 0 Loss 0.9464 Accuracy 0.6998\n",
            "Epoch 7 Batch 100 Loss 0.8906 Accuracy 0.7098\n",
            "Epoch 7 Batch 200 Loss 0.9316 Accuracy 0.7035\n",
            "Epoch 7 Batch 300 Loss 0.9224 Accuracy 0.6987\n",
            "Epoch 7 Loss 0.9276\n",
            "Epoch 7 Train Character_level Accuracy 0.7021\n",
            "Epoch 7 Train_Samplw_Word Accuracy 0.0000\n",
            "Epoch 7 Validation_Sample_Word_Accuracy 0.0000\n",
            "Time taken for 1 epoch 125.84460258483887 sec\n",
            "\n",
            "Epoch 8 Batch 0 Loss 0.9098 Accuracy 0.7091\n",
            "Epoch 8 Batch 100 Loss 0.9149 Accuracy 0.7087\n",
            "Epoch 8 Batch 200 Loss 0.9377 Accuracy 0.6961\n",
            "Epoch 8 Batch 300 Loss 0.9458 Accuracy 0.6912\n",
            "Epoch 8 Loss 0.9182\n",
            "Epoch 8 Train Character_level Accuracy 0.7037\n",
            "Epoch 8 Train_Samplw_Word Accuracy 0.0000\n",
            "Epoch 8 Validation_Sample_Word_Accuracy 0.0000\n",
            "Time taken for 1 epoch 125.7276599407196 sec\n",
            "\n",
            "Epoch 9 Batch 0 Loss 0.8831 Accuracy 0.7147\n",
            "Epoch 9 Batch 100 Loss 0.9278 Accuracy 0.7046\n",
            "Epoch 9 Batch 200 Loss 0.9176 Accuracy 0.7054\n",
            "Epoch 9 Batch 300 Loss 0.8841 Accuracy 0.7143\n",
            "Epoch 9 Loss 0.9098\n",
            "Epoch 9 Train Character_level Accuracy 0.7049\n",
            "Epoch 9 Train_Samplw_Word Accuracy 0.0000\n",
            "Epoch 9 Validation_Sample_Word_Accuracy 0.0000\n",
            "Time taken for 1 epoch 126.28134608268738 sec\n",
            "\n",
            "Epoch 10 Batch 0 Loss 0.8672 Accuracy 0.7195\n",
            "Epoch 10 Batch 100 Loss 0.9152 Accuracy 0.6979\n",
            "Epoch 10 Batch 200 Loss 0.9499 Accuracy 0.7024\n",
            "Epoch 10 Batch 300 Loss 0.8922 Accuracy 0.7009\n",
            "Epoch 10 Loss 0.9018\n",
            "Epoch 10 Train Character_level Accuracy 0.7057\n",
            "Epoch 10 Train_Samplw_Word Accuracy 0.0000\n",
            "Epoch 10 Validation_Sample_Word_Accuracy 0.0000\n",
            "Time taken for 1 epoch 128.12210059165955 sec\n",
            "\n",
            "Epoch 11 Batch 0 Loss 0.8791 Accuracy 0.7165\n",
            "Epoch 11 Batch 100 Loss 0.8910 Accuracy 0.7042\n",
            "Epoch 11 Batch 200 Loss 0.8665 Accuracy 0.7221\n",
            "Epoch 11 Batch 300 Loss 0.8670 Accuracy 0.7161\n",
            "Epoch 11 Loss 0.8871\n",
            "Epoch 11 Train Character_level Accuracy 0.7079\n",
            "Epoch 11 Train_Samplw_Word Accuracy 0.0000\n",
            "Epoch 11 Validation_Sample_Word_Accuracy 0.0000\n",
            "Time taken for 1 epoch 124.38920664787292 sec\n",
            "\n",
            "Epoch 12 Batch 0 Loss 0.8831 Accuracy 0.7080\n",
            "Epoch 12 Batch 100 Loss 0.8932 Accuracy 0.7035\n",
            "Epoch 12 Batch 200 Loss 0.8331 Accuracy 0.7184\n",
            "Epoch 12 Batch 300 Loss 0.8484 Accuracy 0.7143\n",
            "Epoch 12 Loss 0.8701\n",
            "Epoch 12 Train Character_level Accuracy 0.7121\n",
            "Epoch 12 Train_Samplw_Word Accuracy 0.0000\n",
            "Epoch 12 Validation_Sample_Word_Accuracy 0.0000\n",
            "Time taken for 1 epoch 126.51077675819397 sec\n",
            "\n",
            "Epoch 13 Batch 0 Loss 0.8323 Accuracy 0.7273\n",
            "Epoch 13 Batch 100 Loss 0.8538 Accuracy 0.7106\n",
            "Epoch 13 Batch 200 Loss 0.8406 Accuracy 0.7258\n",
            "Epoch 13 Batch 300 Loss 0.8043 Accuracy 0.7292\n",
            "Epoch 13 Loss 0.8555\n",
            "Epoch 13 Train Character_level Accuracy 0.7168\n",
            "Epoch 13 Train_Samplw_Word Accuracy 0.0000\n",
            "Epoch 13 Validation_Sample_Word_Accuracy 0.0000\n",
            "Time taken for 1 epoch 125.57094717025757 sec\n",
            "\n",
            "Epoch 14 Batch 0 Loss 0.8301 Accuracy 0.7188\n",
            "Epoch 14 Batch 100 Loss 0.8943 Accuracy 0.7054\n",
            "Epoch 14 Batch 200 Loss 0.8073 Accuracy 0.7303\n",
            "Epoch 14 Batch 300 Loss 0.8173 Accuracy 0.7266\n",
            "Epoch 14 Loss 0.8428\n",
            "Epoch 14 Train Character_level Accuracy 0.7192\n",
            "Epoch 14 Train_Samplw_Word Accuracy 0.0000\n",
            "Epoch 14 Validation_Sample_Word_Accuracy 0.0000\n",
            "Time taken for 1 epoch 126.98359251022339 sec\n",
            "\n",
            "Epoch 15 Batch 0 Loss 0.8474 Accuracy 0.7147\n",
            "Epoch 15 Batch 100 Loss 0.8607 Accuracy 0.7109\n",
            "Epoch 15 Batch 200 Loss 0.8729 Accuracy 0.7080\n",
            "Epoch 15 Batch 300 Loss 0.8769 Accuracy 0.7147\n",
            "Epoch 15 Loss 0.8331\n",
            "Epoch 15 Train Character_level Accuracy 0.7203\n",
            "Epoch 15 Train_Samplw_Word Accuracy 0.0000\n",
            "Epoch 15 Validation_Sample_Word_Accuracy 0.0000\n",
            "Time taken for 1 epoch 125.66137933731079 sec\n",
            "\n",
            "Test Sample Word Accuracy = : 0.0\n"
          ],
          "name": "stdout"
        },
        {
          "output_type": "display_data",
          "data": {
            "text/html": [
              "<br/>Waiting for W&B process to finish, PID 490<br/>Program ended successfully."
            ],
            "text/plain": [
              "<IPython.core.display.HTML object>"
            ]
          },
          "metadata": {
            "tags": []
          }
        },
        {
          "output_type": "display_data",
          "data": {
            "application/vnd.jupyter.widget-view+json": {
              "model_id": "5ab4b0604b884a079a8ef4e2e27b09d4",
              "version_major": 2,
              "version_minor": 0
            },
            "text/plain": [
              "VBox(children=(Label(value=' 0.00MB of 0.00MB uploaded (0.00MB deduped)\\r'), FloatProgress(value=1.0, max=1.0)…"
            ]
          },
          "metadata": {
            "tags": []
          }
        },
        {
          "output_type": "display_data",
          "data": {
            "text/html": [
              "Find user logs for this run at: <code>/content/wandb/run-20210525_053331-7o6ily6k/logs/debug.log</code>"
            ],
            "text/plain": [
              "<IPython.core.display.HTML object>"
            ]
          },
          "metadata": {
            "tags": []
          }
        },
        {
          "output_type": "display_data",
          "data": {
            "text/html": [
              "Find internal logs for this run at: <code>/content/wandb/run-20210525_053331-7o6ily6k/logs/debug-internal.log</code>"
            ],
            "text/plain": [
              "<IPython.core.display.HTML object>"
            ]
          },
          "metadata": {
            "tags": []
          }
        },
        {
          "output_type": "display_data",
          "data": {
            "text/html": [
              "<h3>Run summary:</h3><br/><style>\n",
              "    table.wandb td:nth-child(1) { padding: 0 10px; text-align: right }\n",
              "    </style><table class=\"wandb\">\n",
              "<tr><td>Train Loss</td><td>0.83309</td></tr><tr><td>_runtime</td><td>2045</td></tr><tr><td>_timestamp</td><td>1621922856</td></tr><tr><td>_step</td><td>60</td></tr><tr><td>Train Accuracy</td><td>0.7203</td></tr><tr><td>Train_Samplw_Word Accuracy</td><td>0.0</td></tr><tr><td>Validn_Samplw_Word Accuracy</td><td>0.0</td></tr><tr><td>Test_Sample_word_accuracy</td><td>0.0</td></tr></table>"
            ],
            "text/plain": [
              "<IPython.core.display.HTML object>"
            ]
          },
          "metadata": {
            "tags": []
          }
        },
        {
          "output_type": "display_data",
          "data": {
            "text/html": [
              "<h3>Run history:</h3><br/><style>\n",
              "    table.wandb td:nth-child(1) { padding: 0 10px; text-align: right }\n",
              "    </style><table class=\"wandb\">\n",
              "<tr><td>Train Loss</td><td>█▃▃▃▂▂▂▂▂▂▁▁▁▁▁</td></tr><tr><td>_runtime</td><td>▁▁▁▁▁▁▂▂▂▂▂▃▃▃▃▃▄▄▄▄▄▄▄▅▅▅▅▅▆▆▆▆▆▆▇▇▇▇▇█</td></tr><tr><td>_timestamp</td><td>▁▁▁▁▁▁▂▂▂▂▂▃▃▃▃▃▄▄▄▄▄▄▄▅▅▅▅▅▆▆▆▆▆▆▇▇▇▇▇█</td></tr><tr><td>_step</td><td>▁▁▁▁▂▂▂▂▂▃▃▃▃▃▃▄▄▄▄▄▅▅▅▅▅▅▆▆▆▆▆▆▇▇▇▇▇███</td></tr><tr><td>Train Accuracy</td><td>▁▃▄▅▅▆▆▆▆▆▇▇███</td></tr><tr><td>Train_Samplw_Word Accuracy</td><td>▁▁▁▁▁▁▁▁▁▁▁▁▁▁▁</td></tr><tr><td>Validn_Samplw_Word Accuracy</td><td>▁▁▁▁▁▁▁▁▁▁▁▁▁▁▁</td></tr><tr><td>Test_Sample_word_accuracy</td><td>▁</td></tr></table><br/>"
            ],
            "text/plain": [
              "<IPython.core.display.HTML object>"
            ]
          },
          "metadata": {
            "tags": []
          }
        },
        {
          "output_type": "display_data",
          "data": {
            "text/html": [
              "Synced 5 W&B file(s), 0 media file(s), 0 artifact file(s) and 0 other file(s)"
            ],
            "text/plain": [
              "<IPython.core.display.HTML object>"
            ]
          },
          "metadata": {
            "tags": []
          }
        },
        {
          "output_type": "display_data",
          "data": {
            "text/html": [
              "\n",
              "                    <br/>Synced <strong style=\"color:#cdcd00\">fanciful-sweep-6</strong>: <a href=\"https://wandb.ai/cs20m038/Assignment%203%20Part%202/runs/7o6ily6k\" target=\"_blank\">https://wandb.ai/cs20m038/Assignment%203%20Part%202/runs/7o6ily6k</a><br/>\n",
              "                "
            ],
            "text/plain": [
              "<IPython.core.display.HTML object>"
            ]
          },
          "metadata": {
            "tags": []
          }
        },
        {
          "output_type": "stream",
          "text": [
            "\u001b[34m\u001b[1mwandb\u001b[0m: Agent Starting Run: p02qy10r with config:\n",
            "\u001b[34m\u001b[1mwandb\u001b[0m: \tEPOCHS: 15\n",
            "\u001b[34m\u001b[1mwandb\u001b[0m: \tattention_type: Luong\n",
            "\u001b[34m\u001b[1mwandb\u001b[0m: \tattention_unit: 25\n",
            "\u001b[34m\u001b[1mwandb\u001b[0m: \tbatch_size: 256\n",
            "\u001b[34m\u001b[1mwandb\u001b[0m: \tembedding_dim: 64\n",
            "\u001b[34m\u001b[1mwandb\u001b[0m: \tenc_dim: 1024\n",
            "\u001b[34m\u001b[1mwandb\u001b[0m: \tlr: 0.0001\n",
            "\u001b[34m\u001b[1mwandb\u001b[0m: \tmax_epoch: 15\n",
            "\u001b[34m\u001b[1mwandb\u001b[0m: \toptimizers: adam\n",
            "\u001b[34m\u001b[1mwandb\u001b[0m: \tvocab_inp_size: 50\n",
            "\u001b[34m\u001b[1mwandb\u001b[0m: \tvocab_tar_size: 140\n"
          ],
          "name": "stderr"
        },
        {
          "output_type": "display_data",
          "data": {
            "text/html": [
              "\n",
              "                Tracking run with wandb version 0.10.30<br/>\n",
              "                Syncing run <strong style=\"color:#cdcd00\">elated-sweep-7</strong> to <a href=\"https://wandb.ai\" target=\"_blank\">Weights & Biases</a> <a href=\"https://docs.wandb.com/integrations/jupyter.html\" target=\"_blank\">(Documentation)</a>.<br/>\n",
              "                Project page: <a href=\"https://wandb.ai/cs20m038/Assignment%203%20Part%202\" target=\"_blank\">https://wandb.ai/cs20m038/Assignment%203%20Part%202</a><br/>\n",
              "                Sweep page: <a href=\"https://wandb.ai/cs20m038/Assignment%203%20Part%202/sweeps/38t7i5m2\" target=\"_blank\">https://wandb.ai/cs20m038/Assignment%203%20Part%202/sweeps/38t7i5m2</a><br/>\n",
              "Run page: <a href=\"https://wandb.ai/cs20m038/Assignment%203%20Part%202/runs/p02qy10r\" target=\"_blank\">https://wandb.ai/cs20m038/Assignment%203%20Part%202/runs/p02qy10r</a><br/>\n",
              "                Run data is saved locally in <code>/content/wandb/run-20210525_060744-p02qy10r</code><br/><br/>\n",
              "            "
            ],
            "text/plain": [
              "<IPython.core.display.HTML object>"
            ]
          },
          "metadata": {
            "tags": []
          }
        },
        {
          "output_type": "stream",
          "text": [
            "Encoder output shape: (batch size, sequence length, units) (256, 22, 1024)\n",
            "Encoder Hidden state shape: (batch size, units) (256, 1024)\n",
            "query_with_time_axis:(batch_size, 1, hidden size)  (256, 1, 1024)\n",
            "score: (batch_size, max_length, 1)  (256, 22, 1)\n",
            "Attention result shape: (batch size, units) (256, 1024)\n",
            "Attention weights shape: (batch_size, sequence_length, 1) (256, 22, 1)\n",
            "Decoder output shape: (batch_size, vocab size) (256, 140)\n",
            "Epoch 1 Batch 0 Loss 4.7070 Accuracy 0.0017\n",
            "Epoch 1 Batch 100 Loss 1.6080 Accuracy 0.6442\n",
            "Epoch 1 Loss 2.0165\n",
            "Epoch 1 Train Character_level Accuracy 0.6498\n",
            "Epoch 1 Train_Samplw_Word Accuracy 0.0000\n",
            "Epoch 1 Validation_Sample_Word_Accuracy 0.0000\n",
            "Time taken for 1 epoch 78.30513787269592 sec\n",
            "\n",
            "Epoch 2 Batch 0 Loss 1.4458 Accuracy 0.6509\n",
            "Epoch 2 Batch 100 Loss 1.1931 Accuracy 0.6483\n",
            "Epoch 2 Loss 1.2641\n",
            "Epoch 2 Train Character_level Accuracy 0.6540\n",
            "Epoch 2 Train_Samplw_Word Accuracy 0.0000\n",
            "Epoch 2 Validation_Sample_Word_Accuracy 0.0000\n",
            "Time taken for 1 epoch 67.61269617080688 sec\n",
            "\n",
            "Epoch 3 Batch 0 Loss 1.1763 Accuracy 0.6483\n",
            "Epoch 3 Batch 100 Loss 1.0644 Accuracy 0.6849\n",
            "Epoch 3 Loss 1.1146\n",
            "Epoch 3 Train Character_level Accuracy 0.6708\n",
            "Epoch 3 Train_Samplw_Word Accuracy 0.0000\n",
            "Epoch 3 Validation_Sample_Word_Accuracy 0.0000\n",
            "Time taken for 1 epoch 103.10305452346802 sec\n",
            "\n",
            "Epoch 4 Batch 0 Loss 1.0972 Accuracy 0.6763\n",
            "Epoch 4 Batch 100 Loss 1.0590 Accuracy 0.6838\n",
            "Epoch 4 Loss 1.0829\n",
            "Epoch 4 Train Character_level Accuracy 0.6794\n",
            "Epoch 4 Train_Samplw_Word Accuracy 0.0000\n",
            "Epoch 4 Validation_Sample_Word_Accuracy 0.0000\n",
            "Time taken for 1 epoch 114.7233247756958 sec\n",
            "\n",
            "Epoch 5 Batch 0 Loss 1.0747 Accuracy 0.6842\n",
            "Epoch 5 Batch 100 Loss 1.0698 Accuracy 0.6849\n",
            "Epoch 5 Loss 1.0656\n",
            "Epoch 5 Train Character_level Accuracy 0.6838\n",
            "Epoch 5 Train_Samplw_Word Accuracy 0.0000\n",
            "Epoch 5 Validation_Sample_Word_Accuracy 0.0000\n",
            "Time taken for 1 epoch 117.89798140525818 sec\n",
            "\n",
            "Epoch 6 Batch 0 Loss 1.0517 Accuracy 0.6869\n",
            "Epoch 6 Batch 100 Loss 1.0182 Accuracy 0.6949\n",
            "Epoch 6 Loss 1.0390\n",
            "Epoch 6 Train Character_level Accuracy 0.6890\n",
            "Epoch 6 Train_Samplw_Word Accuracy 0.0000\n",
            "Epoch 6 Validation_Sample_Word_Accuracy 0.0000\n",
            "Time taken for 1 epoch 117.08976340293884 sec\n",
            "\n",
            "Epoch 7 Batch 0 Loss 1.0233 Accuracy 0.6866\n",
            "Epoch 7 Batch 100 Loss 0.9902 Accuracy 0.6946\n",
            "Epoch 7 Loss 0.9995\n",
            "Epoch 7 Train Character_level Accuracy 0.6923\n",
            "Epoch 7 Train_Samplw_Word Accuracy 0.0000\n",
            "Epoch 7 Validation_Sample_Word_Accuracy 0.0000\n",
            "Time taken for 1 epoch 114.86722540855408 sec\n",
            "\n",
            "Epoch 8 Batch 0 Loss 0.9862 Accuracy 0.6927\n",
            "Epoch 8 Batch 100 Loss 1.0035 Accuracy 0.6845\n",
            "Epoch 8 Loss 0.9680\n",
            "Epoch 8 Train Character_level Accuracy 0.6945\n",
            "Epoch 8 Train_Samplw_Word Accuracy 0.0000\n",
            "Epoch 8 Validation_Sample_Word_Accuracy 0.0000\n",
            "Time taken for 1 epoch 118.45994305610657 sec\n",
            "\n",
            "Epoch 9 Batch 0 Loss 0.9437 Accuracy 0.7013\n",
            "Epoch 9 Batch 100 Loss 0.9480 Accuracy 0.6998\n",
            "Epoch 9 Loss 0.9512\n",
            "Epoch 9 Train Character_level Accuracy 0.6970\n",
            "Epoch 9 Train_Samplw_Word Accuracy 0.0000\n",
            "Epoch 9 Validation_Sample_Word_Accuracy 0.0000\n",
            "Time taken for 1 epoch 117.04748511314392 sec\n",
            "\n",
            "Epoch 10 Batch 0 Loss 0.9133 Accuracy 0.7096\n",
            "Epoch 10 Batch 100 Loss 0.9044 Accuracy 0.7102\n",
            "Epoch 10 Loss 0.9416\n",
            "Epoch 10 Train Character_level Accuracy 0.6991\n",
            "Epoch 10 Train_Samplw_Word Accuracy 0.0000\n",
            "Epoch 10 Validation_Sample_Word_Accuracy 0.0000\n",
            "Time taken for 1 epoch 111.71740365028381 sec\n",
            "\n",
            "Epoch 11 Batch 0 Loss 0.9037 Accuracy 0.7046\n",
            "Epoch 11 Batch 100 Loss 0.9419 Accuracy 0.6962\n",
            "Epoch 11 Loss 0.9353\n",
            "Epoch 11 Train Character_level Accuracy 0.7004\n",
            "Epoch 11 Train_Samplw_Word Accuracy 0.0000\n",
            "Epoch 11 Validation_Sample_Word_Accuracy 0.0000\n",
            "Time taken for 1 epoch 117.29718804359436 sec\n",
            "\n",
            "Epoch 12 Batch 0 Loss 0.9640 Accuracy 0.6938\n",
            "Epoch 12 Batch 100 Loss 0.9048 Accuracy 0.7054\n",
            "Epoch 12 Loss 0.9283\n",
            "Epoch 12 Train Character_level Accuracy 0.7019\n",
            "Epoch 12 Train_Samplw_Word Accuracy 0.0000\n",
            "Epoch 12 Validation_Sample_Word_Accuracy 0.0000\n",
            "Time taken for 1 epoch 115.40650153160095 sec\n",
            "\n",
            "Epoch 13 Batch 0 Loss 0.8988 Accuracy 0.7106\n",
            "Epoch 13 Batch 100 Loss 0.8807 Accuracy 0.7158\n",
            "Epoch 13 Loss 0.9231\n",
            "Epoch 13 Train Character_level Accuracy 0.7031\n",
            "Epoch 13 Train_Samplw_Word Accuracy 0.0000\n",
            "Epoch 13 Validation_Sample_Word_Accuracy 0.0000\n",
            "Time taken for 1 epoch 109.51459908485413 sec\n",
            "\n",
            "Epoch 14 Batch 0 Loss 0.9201 Accuracy 0.7061\n",
            "Epoch 14 Batch 100 Loss 0.9041 Accuracy 0.7067\n",
            "Epoch 14 Loss 0.9186\n",
            "Epoch 14 Train Character_level Accuracy 0.7039\n",
            "Epoch 14 Train_Samplw_Word Accuracy 0.0000\n",
            "Epoch 14 Validation_Sample_Word_Accuracy 0.0000\n",
            "Time taken for 1 epoch 113.09126472473145 sec\n",
            "\n",
            "Epoch 15 Batch 0 Loss 0.9122 Accuracy 0.7076\n",
            "Epoch 15 Batch 100 Loss 0.9306 Accuracy 0.7011\n",
            "Epoch 15 Loss 0.9128\n",
            "Epoch 15 Train Character_level Accuracy 0.7049\n",
            "Epoch 15 Train_Samplw_Word Accuracy 0.0000\n",
            "Epoch 15 Validation_Sample_Word_Accuracy 0.0000\n",
            "Time taken for 1 epoch 112.27788662910461 sec\n",
            "\n",
            "Test Sample Word Accuracy = : 0.0\n"
          ],
          "name": "stdout"
        },
        {
          "output_type": "display_data",
          "data": {
            "text/html": [
              "<br/>Waiting for W&B process to finish, PID 537<br/>Program ended successfully."
            ],
            "text/plain": [
              "<IPython.core.display.HTML object>"
            ]
          },
          "metadata": {
            "tags": []
          }
        },
        {
          "output_type": "display_data",
          "data": {
            "application/vnd.jupyter.widget-view+json": {
              "model_id": "917d0a13b9964c1eb85bed9b18dfc93d",
              "version_major": 2,
              "version_minor": 0
            },
            "text/plain": [
              "VBox(children=(Label(value=' 0.00MB of 0.00MB uploaded (0.00MB deduped)\\r'), FloatProgress(value=1.0, max=1.0)…"
            ]
          },
          "metadata": {
            "tags": []
          }
        },
        {
          "output_type": "display_data",
          "data": {
            "text/html": [
              "Find user logs for this run at: <code>/content/wandb/run-20210525_060744-p02qy10r/logs/debug.log</code>"
            ],
            "text/plain": [
              "<IPython.core.display.HTML object>"
            ]
          },
          "metadata": {
            "tags": []
          }
        },
        {
          "output_type": "display_data",
          "data": {
            "text/html": [
              "Find internal logs for this run at: <code>/content/wandb/run-20210525_060744-p02qy10r/logs/debug-internal.log</code>"
            ],
            "text/plain": [
              "<IPython.core.display.HTML object>"
            ]
          },
          "metadata": {
            "tags": []
          }
        },
        {
          "output_type": "display_data",
          "data": {
            "text/html": [
              "<h3>Run summary:</h3><br/><style>\n",
              "    table.wandb td:nth-child(1) { padding: 0 10px; text-align: right }\n",
              "    </style><table class=\"wandb\">\n",
              "<tr><td>Train Loss</td><td>0.91283</td></tr><tr><td>_runtime</td><td>1792</td></tr><tr><td>_timestamp</td><td>1621924656</td></tr><tr><td>_step</td><td>60</td></tr><tr><td>Train Accuracy</td><td>0.7049</td></tr><tr><td>Train_Samplw_Word Accuracy</td><td>0.0</td></tr><tr><td>Validn_Samplw_Word Accuracy</td><td>0.0</td></tr><tr><td>Test_Sample_word_accuracy</td><td>0.0</td></tr></table>"
            ],
            "text/plain": [
              "<IPython.core.display.HTML object>"
            ]
          },
          "metadata": {
            "tags": []
          }
        },
        {
          "output_type": "display_data",
          "data": {
            "text/html": [
              "<h3>Run history:</h3><br/><style>\n",
              "    table.wandb td:nth-child(1) { padding: 0 10px; text-align: right }\n",
              "    </style><table class=\"wandb\">\n",
              "<tr><td>Train Loss</td><td>█▃▂▂▂▂▂▁▁▁▁▁▁▁▁</td></tr><tr><td>_runtime</td><td>▁▁▁▁▁▁▂▂▂▂▂▂▃▃▃▃▃▄▄▄▄▄▄▅▅▅▅▅▆▆▆▆▆▆▇▇▇▇▇█</td></tr><tr><td>_timestamp</td><td>▁▁▁▁▁▁▂▂▂▂▂▂▃▃▃▃▃▄▄▄▄▄▄▅▅▅▅▅▆▆▆▆▆▆▇▇▇▇▇█</td></tr><tr><td>_step</td><td>▁▁▁▁▂▂▂▂▂▃▃▃▃▃▃▄▄▄▄▄▅▅▅▅▅▅▆▆▆▆▆▆▇▇▇▇▇███</td></tr><tr><td>Train Accuracy</td><td>▁▂▄▅▅▆▆▇▇▇▇████</td></tr><tr><td>Train_Samplw_Word Accuracy</td><td>▁▁▁▁▁▁▁▁▁▁▁▁▁▁▁</td></tr><tr><td>Validn_Samplw_Word Accuracy</td><td>▁▁▁▁▁▁▁▁▁▁▁▁▁▁▁</td></tr><tr><td>Test_Sample_word_accuracy</td><td>▁</td></tr></table><br/>"
            ],
            "text/plain": [
              "<IPython.core.display.HTML object>"
            ]
          },
          "metadata": {
            "tags": []
          }
        },
        {
          "output_type": "display_data",
          "data": {
            "text/html": [
              "Synced 5 W&B file(s), 0 media file(s), 0 artifact file(s) and 0 other file(s)"
            ],
            "text/plain": [
              "<IPython.core.display.HTML object>"
            ]
          },
          "metadata": {
            "tags": []
          }
        },
        {
          "output_type": "display_data",
          "data": {
            "text/html": [
              "\n",
              "                    <br/>Synced <strong style=\"color:#cdcd00\">elated-sweep-7</strong>: <a href=\"https://wandb.ai/cs20m038/Assignment%203%20Part%202/runs/p02qy10r\" target=\"_blank\">https://wandb.ai/cs20m038/Assignment%203%20Part%202/runs/p02qy10r</a><br/>\n",
              "                "
            ],
            "text/plain": [
              "<IPython.core.display.HTML object>"
            ]
          },
          "metadata": {
            "tags": []
          }
        },
        {
          "output_type": "stream",
          "text": [
            "\u001b[34m\u001b[1mwandb\u001b[0m: Agent Starting Run: k2ixibc5 with config:\n",
            "\u001b[34m\u001b[1mwandb\u001b[0m: \tEPOCHS: 15\n",
            "\u001b[34m\u001b[1mwandb\u001b[0m: \tattention_type: Bahdanau\n",
            "\u001b[34m\u001b[1mwandb\u001b[0m: \tattention_unit: 35\n",
            "\u001b[34m\u001b[1mwandb\u001b[0m: \tbatch_size: 128\n",
            "\u001b[34m\u001b[1mwandb\u001b[0m: \tembedding_dim: 512\n",
            "\u001b[34m\u001b[1mwandb\u001b[0m: \tenc_dim: 512\n",
            "\u001b[34m\u001b[1mwandb\u001b[0m: \tlr: 0.0001\n",
            "\u001b[34m\u001b[1mwandb\u001b[0m: \tmax_epoch: 30\n",
            "\u001b[34m\u001b[1mwandb\u001b[0m: \toptimizers: adam\n",
            "\u001b[34m\u001b[1mwandb\u001b[0m: \tvocab_inp_size: 100\n",
            "\u001b[34m\u001b[1mwandb\u001b[0m: \tvocab_tar_size: 140\n"
          ],
          "name": "stderr"
        },
        {
          "output_type": "display_data",
          "data": {
            "text/html": [
              "\n",
              "                Tracking run with wandb version 0.10.30<br/>\n",
              "                Syncing run <strong style=\"color:#cdcd00\">winter-sweep-8</strong> to <a href=\"https://wandb.ai\" target=\"_blank\">Weights & Biases</a> <a href=\"https://docs.wandb.com/integrations/jupyter.html\" target=\"_blank\">(Documentation)</a>.<br/>\n",
              "                Project page: <a href=\"https://wandb.ai/cs20m038/Assignment%203%20Part%202\" target=\"_blank\">https://wandb.ai/cs20m038/Assignment%203%20Part%202</a><br/>\n",
              "                Sweep page: <a href=\"https://wandb.ai/cs20m038/Assignment%203%20Part%202/sweeps/38t7i5m2\" target=\"_blank\">https://wandb.ai/cs20m038/Assignment%203%20Part%202/sweeps/38t7i5m2</a><br/>\n",
              "Run page: <a href=\"https://wandb.ai/cs20m038/Assignment%203%20Part%202/runs/k2ixibc5\" target=\"_blank\">https://wandb.ai/cs20m038/Assignment%203%20Part%202/runs/k2ixibc5</a><br/>\n",
              "                Run data is saved locally in <code>/content/wandb/run-20210525_063745-k2ixibc5</code><br/><br/>\n",
              "            "
            ],
            "text/plain": [
              "<IPython.core.display.HTML object>"
            ]
          },
          "metadata": {
            "tags": []
          }
        },
        {
          "output_type": "stream",
          "text": [
            "Encoder output shape: (batch size, sequence length, units) (128, 22, 512)\n",
            "Encoder Hidden state shape: (batch size, units) (128, 512)\n",
            "Attention result shape: (batch size, units) (128, 512)\n",
            "Attention weights shape: (batch_size, sequence_length, 1) (128, 22, 1)\n",
            "Decoder output shape: (batch_size, vocab size) (128, 140)\n",
            "Epoch 1 Batch 0 Loss 4.6977 Accuracy 0.0007\n",
            "Epoch 1 Batch 100 Loss 1.4649 Accuracy 0.6406\n",
            "Epoch 1 Batch 200 Loss 1.1817 Accuracy 0.6536\n",
            "Epoch 1 Batch 300 Loss 1.1593 Accuracy 0.6622\n",
            "Epoch 1 Loss 1.5478\n",
            "Epoch 1 Train Character_level Accuracy 0.6551\n",
            "Epoch 1 Train_Samplw_Word Accuracy 0.0000\n",
            "Epoch 1 Validation_Sample_Word_Accuracy 0.0000\n",
            "Time taken for 1 epoch 98.98435115814209 sec\n",
            "\n",
            "Epoch 2 Batch 0 Loss 1.0637 Accuracy 0.6864\n",
            "Epoch 2 Batch 100 Loss 1.0765 Accuracy 0.6797\n",
            "Epoch 2 Batch 200 Loss 0.9844 Accuracy 0.6935\n",
            "Epoch 2 Batch 300 Loss 0.9811 Accuracy 0.6935\n",
            "Epoch 2 Loss 1.0160\n",
            "Epoch 2 Train Character_level Accuracy 0.6894\n",
            "Epoch 2 Train_Samplw_Word Accuracy 0.0000\n",
            "Epoch 2 Validation_Sample_Word_Accuracy 0.0000\n",
            "Time taken for 1 epoch 86.04202771186829 sec\n",
            "\n",
            "Epoch 3 Batch 0 Loss 0.9967 Accuracy 0.6923\n",
            "Epoch 3 Batch 100 Loss 0.9778 Accuracy 0.6938\n",
            "Epoch 3 Batch 200 Loss 0.9355 Accuracy 0.7031\n",
            "Epoch 3 Batch 300 Loss 0.8817 Accuracy 0.7210\n",
            "Epoch 3 Loss 0.9380\n",
            "Epoch 3 Train Character_level Accuracy 0.7024\n",
            "Epoch 3 Train_Samplw_Word Accuracy 0.0000\n",
            "Epoch 3 Validation_Sample_Word_Accuracy 0.0000\n",
            "Time taken for 1 epoch 79.18819093704224 sec\n",
            "\n",
            "Epoch 4 Batch 0 Loss 0.9105 Accuracy 0.7013\n",
            "Epoch 4 Batch 100 Loss 0.8952 Accuracy 0.7076\n",
            "Epoch 4 Batch 200 Loss 0.9292 Accuracy 0.7020\n",
            "Epoch 4 Batch 300 Loss 0.9430 Accuracy 0.6972\n",
            "Epoch 4 Loss 0.9144\n",
            "Epoch 4 Train Character_level Accuracy 0.7058\n",
            "Epoch 4 Train_Samplw_Word Accuracy 0.0000\n",
            "Epoch 4 Validation_Sample_Word_Accuracy 0.0000\n",
            "Time taken for 1 epoch 75.11167764663696 sec\n",
            "\n",
            "Epoch 5 Batch 0 Loss 0.8575 Accuracy 0.7217\n",
            "Epoch 5 Batch 100 Loss 0.9224 Accuracy 0.7020\n",
            "Epoch 5 Batch 200 Loss 0.9020 Accuracy 0.7039\n",
            "Epoch 5 Batch 300 Loss 0.9074 Accuracy 0.7039\n",
            "Epoch 5 Loss 0.9008\n",
            "Epoch 5 Train Character_level Accuracy 0.7077\n",
            "Epoch 5 Train_Samplw_Word Accuracy 0.0000\n",
            "Epoch 5 Validation_Sample_Word_Accuracy 0.0000\n",
            "Time taken for 1 epoch 79.42848896980286 sec\n",
            "\n",
            "Epoch 6 Batch 0 Loss 0.9016 Accuracy 0.7035\n",
            "Epoch 6 Batch 100 Loss 0.8952 Accuracy 0.7050\n",
            "Epoch 6 Batch 200 Loss 0.8685 Accuracy 0.7117\n",
            "Epoch 6 Batch 300 Loss 0.8830 Accuracy 0.7098\n",
            "Epoch 6 Loss 0.8892\n",
            "Epoch 6 Train Character_level Accuracy 0.7089\n",
            "Epoch 6 Train_Samplw_Word Accuracy 0.0000\n",
            "Epoch 6 Validation_Sample_Word_Accuracy 0.0000\n",
            "Time taken for 1 epoch 78.50001096725464 sec\n",
            "\n",
            "Epoch 7 Batch 0 Loss 0.8807 Accuracy 0.7113\n",
            "Epoch 7 Batch 100 Loss 0.8494 Accuracy 0.7154\n",
            "Epoch 7 Batch 200 Loss 0.8861 Accuracy 0.7057\n",
            "Epoch 7 Batch 300 Loss 0.8969 Accuracy 0.7009\n",
            "Epoch 7 Loss 0.8742\n",
            "Epoch 7 Train Character_level Accuracy 0.7108\n",
            "Epoch 7 Train_Samplw_Word Accuracy 0.0000\n",
            "Epoch 7 Validation_Sample_Word_Accuracy 0.0000\n",
            "Time taken for 1 epoch 77.1830530166626 sec\n",
            "\n",
            "Epoch 8 Batch 0 Loss 0.8796 Accuracy 0.7065\n",
            "Epoch 8 Batch 100 Loss 0.8680 Accuracy 0.7028\n",
            "Epoch 8 Batch 200 Loss 0.8510 Accuracy 0.7184\n",
            "Epoch 8 Batch 300 Loss 0.8937 Accuracy 0.6987\n",
            "Epoch 8 Loss 0.8613\n",
            "Epoch 8 Train Character_level Accuracy 0.7125\n",
            "Epoch 8 Train_Samplw_Word Accuracy 0.0000\n",
            "Epoch 8 Validation_Sample_Word_Accuracy 0.0000\n",
            "Time taken for 1 epoch 72.52080535888672 sec\n",
            "\n",
            "Epoch 9 Batch 0 Loss 0.8009 Accuracy 0.7210\n",
            "Epoch 9 Batch 100 Loss 0.8145 Accuracy 0.7225\n",
            "Epoch 9 Batch 200 Loss 0.8626 Accuracy 0.7128\n",
            "Epoch 9 Batch 300 Loss 0.8228 Accuracy 0.7161\n",
            "Epoch 9 Loss 0.8466\n",
            "Epoch 9 Train Character_level Accuracy 0.7155\n",
            "Epoch 9 Train_Samplw_Word Accuracy 0.0000\n",
            "Epoch 9 Validation_Sample_Word_Accuracy 0.0000\n",
            "Time taken for 1 epoch 70.22686862945557 sec\n",
            "\n",
            "Epoch 10 Batch 0 Loss 0.8090 Accuracy 0.7225\n",
            "Epoch 10 Batch 100 Loss 0.8090 Accuracy 0.7258\n",
            "Epoch 10 Batch 200 Loss 0.8195 Accuracy 0.7236\n",
            "Epoch 10 Batch 300 Loss 0.7970 Accuracy 0.7281\n",
            "Epoch 10 Loss 0.8175\n",
            "Epoch 10 Train Character_level Accuracy 0.7225\n",
            "Epoch 10 Train_Samplw_Word Accuracy 0.0000\n",
            "Epoch 10 Validation_Sample_Word_Accuracy 0.0000\n",
            "Time taken for 1 epoch 64.74492335319519 sec\n",
            "\n",
            "Epoch 11 Batch 0 Loss 0.7976 Accuracy 0.7254\n",
            "Epoch 11 Batch 100 Loss 0.7675 Accuracy 0.7310\n",
            "Epoch 11 Batch 200 Loss 0.7797 Accuracy 0.7314\n",
            "Epoch 11 Batch 300 Loss 0.7613 Accuracy 0.7396\n",
            "Epoch 11 Loss 0.7837\n",
            "Epoch 11 Train Character_level Accuracy 0.7303\n",
            "Epoch 11 Train_Samplw_Word Accuracy 0.0000\n",
            "Epoch 11 Validation_Sample_Word_Accuracy 0.0000\n",
            "Time taken for 1 epoch 61.515519857406616 sec\n",
            "\n",
            "Epoch 12 Batch 0 Loss 0.7664 Accuracy 0.7336\n",
            "Epoch 12 Batch 100 Loss 0.7382 Accuracy 0.7351\n",
            "Epoch 12 Batch 200 Loss 0.7266 Accuracy 0.7385\n",
            "Epoch 12 Batch 300 Loss 0.7276 Accuracy 0.7422\n",
            "Epoch 12 Loss 0.7358\n",
            "Epoch 12 Train Character_level Accuracy 0.7421\n",
            "Epoch 12 Train_Samplw_Word Accuracy 0.0000\n",
            "Epoch 12 Validation_Sample_Word_Accuracy 0.0000\n",
            "Time taken for 1 epoch 66.04982256889343 sec\n",
            "\n",
            "Epoch 13 Batch 0 Loss 0.7876 Accuracy 0.7247\n",
            "Epoch 13 Batch 100 Loss 0.6840 Accuracy 0.7511\n",
            "Epoch 13 Batch 200 Loss 0.6712 Accuracy 0.7626\n",
            "Epoch 13 Batch 300 Loss 0.6141 Accuracy 0.7749\n",
            "Epoch 13 Loss 0.6653\n",
            "Epoch 13 Train Character_level Accuracy 0.7622\n",
            "Epoch 13 Train_Samplw_Word Accuracy 0.0000\n",
            "Epoch 13 Validation_Sample_Word_Accuracy 0.0000\n",
            "Time taken for 1 epoch 68.21225690841675 sec\n",
            "\n",
            "Epoch 14 Batch 0 Loss 0.5926 Accuracy 0.7839\n",
            "Epoch 14 Batch 100 Loss 0.5796 Accuracy 0.7913\n",
            "Epoch 14 Batch 200 Loss 0.5631 Accuracy 0.7865\n",
            "Epoch 14 Batch 300 Loss 0.5074 Accuracy 0.8058\n",
            "Epoch 14 Loss 0.5544\n",
            "Epoch 14 Train Character_level Accuracy 0.7921\n",
            "Epoch 14 Train_Samplw_Word Accuracy 0.0000\n",
            "Epoch 14 Validation_Sample_Word_Accuracy 1.3333\n",
            "Time taken for 1 epoch 54.89071798324585 sec\n",
            "\n",
            "Epoch 15 Batch 0 Loss 0.4940 Accuracy 0.8077\n",
            "Epoch 15 Batch 100 Loss 0.4402 Accuracy 0.8274\n",
            "Epoch 15 Batch 200 Loss 0.3950 Accuracy 0.8419\n",
            "Epoch 15 Batch 300 Loss 0.3735 Accuracy 0.8359\n",
            "Epoch 15 Loss 0.4323\n",
            "Epoch 15 Train Character_level Accuracy 0.8254\n",
            "Epoch 15 Train_Samplw_Word Accuracy 7.3333\n",
            "Epoch 15 Validation_Sample_Word_Accuracy 2.6667\n",
            "Time taken for 1 epoch 55.27103924751282 sec\n",
            "\n",
            "Test Sample Word Accuracy = : 0.0\n"
          ],
          "name": "stdout"
        },
        {
          "output_type": "display_data",
          "data": {
            "text/html": [
              "<br/>Waiting for W&B process to finish, PID 584<br/>Program ended successfully."
            ],
            "text/plain": [
              "<IPython.core.display.HTML object>"
            ]
          },
          "metadata": {
            "tags": []
          }
        },
        {
          "output_type": "display_data",
          "data": {
            "application/vnd.jupyter.widget-view+json": {
              "model_id": "28f08c25c26e43c292b53564d1c7e056",
              "version_major": 2,
              "version_minor": 0
            },
            "text/plain": [
              "VBox(children=(Label(value=' 0.00MB of 0.00MB uploaded (0.00MB deduped)\\r'), FloatProgress(value=1.0, max=1.0)…"
            ]
          },
          "metadata": {
            "tags": []
          }
        },
        {
          "output_type": "display_data",
          "data": {
            "text/html": [
              "Find user logs for this run at: <code>/content/wandb/run-20210525_063745-k2ixibc5/logs/debug.log</code>"
            ],
            "text/plain": [
              "<IPython.core.display.HTML object>"
            ]
          },
          "metadata": {
            "tags": []
          }
        },
        {
          "output_type": "display_data",
          "data": {
            "text/html": [
              "Find internal logs for this run at: <code>/content/wandb/run-20210525_063745-k2ixibc5/logs/debug-internal.log</code>"
            ],
            "text/plain": [
              "<IPython.core.display.HTML object>"
            ]
          },
          "metadata": {
            "tags": []
          }
        },
        {
          "output_type": "display_data",
          "data": {
            "text/html": [
              "<h3>Run summary:</h3><br/><style>\n",
              "    table.wandb td:nth-child(1) { padding: 0 10px; text-align: right }\n",
              "    </style><table class=\"wandb\">\n",
              "<tr><td>Train Loss</td><td>0.43226</td></tr><tr><td>_runtime</td><td>1174</td></tr><tr><td>_timestamp</td><td>1621925839</td></tr><tr><td>_step</td><td>60</td></tr><tr><td>Train Accuracy</td><td>0.82545</td></tr><tr><td>Train_Samplw_Word Accuracy</td><td>7.33333</td></tr><tr><td>Validn_Samplw_Word Accuracy</td><td>2.66667</td></tr><tr><td>Test_Sample_word_accuracy</td><td>0.0</td></tr></table>"
            ],
            "text/plain": [
              "<IPython.core.display.HTML object>"
            ]
          },
          "metadata": {
            "tags": []
          }
        },
        {
          "output_type": "display_data",
          "data": {
            "text/html": [
              "<h3>Run history:</h3><br/><style>\n",
              "    table.wandb td:nth-child(1) { padding: 0 10px; text-align: right }\n",
              "    </style><table class=\"wandb\">\n",
              "<tr><td>Train Loss</td><td>█▅▄▄▄▄▄▄▄▃▃▃▂▂▁</td></tr><tr><td>_runtime</td><td>▁▁▁▂▂▂▂▂▃▃▃▃▃▄▄▄▄▄▄▄▅▅▅▅▅▆▆▆▆▆▆▆▇▇▇▇▇▇▇█</td></tr><tr><td>_timestamp</td><td>▁▁▁▂▂▂▂▂▃▃▃▃▃▄▄▄▄▄▄▄▅▅▅▅▅▆▆▆▆▆▆▆▇▇▇▇▇▇▇█</td></tr><tr><td>_step</td><td>▁▁▁▁▂▂▂▂▂▃▃▃▃▃▃▄▄▄▄▄▅▅▅▅▅▅▆▆▆▆▆▆▇▇▇▇▇███</td></tr><tr><td>Train Accuracy</td><td>▁▂▃▃▃▃▃▃▃▄▄▅▅▇█</td></tr><tr><td>Train_Samplw_Word Accuracy</td><td>▁▁▁▁▁▁▁▁▁▁▁▁▁▁█</td></tr><tr><td>Validn_Samplw_Word Accuracy</td><td>▁▁▁▁▁▁▁▁▁▁▁▁▁▅█</td></tr><tr><td>Test_Sample_word_accuracy</td><td>▁</td></tr></table><br/>"
            ],
            "text/plain": [
              "<IPython.core.display.HTML object>"
            ]
          },
          "metadata": {
            "tags": []
          }
        },
        {
          "output_type": "display_data",
          "data": {
            "text/html": [
              "Synced 5 W&B file(s), 0 media file(s), 0 artifact file(s) and 0 other file(s)"
            ],
            "text/plain": [
              "<IPython.core.display.HTML object>"
            ]
          },
          "metadata": {
            "tags": []
          }
        },
        {
          "output_type": "display_data",
          "data": {
            "text/html": [
              "\n",
              "                    <br/>Synced <strong style=\"color:#cdcd00\">winter-sweep-8</strong>: <a href=\"https://wandb.ai/cs20m038/Assignment%203%20Part%202/runs/k2ixibc5\" target=\"_blank\">https://wandb.ai/cs20m038/Assignment%203%20Part%202/runs/k2ixibc5</a><br/>\n",
              "                "
            ],
            "text/plain": [
              "<IPython.core.display.HTML object>"
            ]
          },
          "metadata": {
            "tags": []
          }
        },
        {
          "output_type": "stream",
          "text": [
            "\u001b[34m\u001b[1mwandb\u001b[0m: Agent Starting Run: 9nznymi5 with config:\n",
            "\u001b[34m\u001b[1mwandb\u001b[0m: \tEPOCHS: 15\n",
            "\u001b[34m\u001b[1mwandb\u001b[0m: \tattention_type: Luong\n",
            "\u001b[34m\u001b[1mwandb\u001b[0m: \tattention_unit: 50\n",
            "\u001b[34m\u001b[1mwandb\u001b[0m: \tbatch_size: 128\n",
            "\u001b[34m\u001b[1mwandb\u001b[0m: \tembedding_dim: 256\n",
            "\u001b[34m\u001b[1mwandb\u001b[0m: \tenc_dim: 1024\n",
            "\u001b[34m\u001b[1mwandb\u001b[0m: \tlr: 0.01\n",
            "\u001b[34m\u001b[1mwandb\u001b[0m: \tmax_epoch: 15\n",
            "\u001b[34m\u001b[1mwandb\u001b[0m: \toptimizers: rmsp\n",
            "\u001b[34m\u001b[1mwandb\u001b[0m: \tvocab_inp_size: 27\n",
            "\u001b[34m\u001b[1mwandb\u001b[0m: \tvocab_tar_size: 200\n"
          ],
          "name": "stderr"
        },
        {
          "output_type": "display_data",
          "data": {
            "text/html": [
              "\n",
              "                Tracking run with wandb version 0.10.30<br/>\n",
              "                Syncing run <strong style=\"color:#cdcd00\">brisk-sweep-9</strong> to <a href=\"https://wandb.ai\" target=\"_blank\">Weights & Biases</a> <a href=\"https://docs.wandb.com/integrations/jupyter.html\" target=\"_blank\">(Documentation)</a>.<br/>\n",
              "                Project page: <a href=\"https://wandb.ai/cs20m038/Assignment%203%20Part%202\" target=\"_blank\">https://wandb.ai/cs20m038/Assignment%203%20Part%202</a><br/>\n",
              "                Sweep page: <a href=\"https://wandb.ai/cs20m038/Assignment%203%20Part%202/sweeps/38t7i5m2\" target=\"_blank\">https://wandb.ai/cs20m038/Assignment%203%20Part%202/sweeps/38t7i5m2</a><br/>\n",
              "Run page: <a href=\"https://wandb.ai/cs20m038/Assignment%203%20Part%202/runs/9nznymi5\" target=\"_blank\">https://wandb.ai/cs20m038/Assignment%203%20Part%202/runs/9nznymi5</a><br/>\n",
              "                Run data is saved locally in <code>/content/wandb/run-20210525_065727-9nznymi5</code><br/><br/>\n",
              "            "
            ],
            "text/plain": [
              "<IPython.core.display.HTML object>"
            ]
          },
          "metadata": {
            "tags": []
          }
        },
        {
          "output_type": "display_data",
          "data": {
            "text/html": [
              "<br/>Waiting for W&B process to finish, PID 631<br/>Program failed with code 1.  Press ctrl-c to abort syncing."
            ],
            "text/plain": [
              "<IPython.core.display.HTML object>"
            ]
          },
          "metadata": {
            "tags": []
          }
        },
        {
          "output_type": "display_data",
          "data": {
            "application/vnd.jupyter.widget-view+json": {
              "model_id": "f5ad74d0315f419182693f49773d5d13",
              "version_major": 2,
              "version_minor": 0
            },
            "text/plain": [
              "VBox(children=(Label(value=' 0.00MB of 0.00MB uploaded (0.00MB deduped)\\r'), FloatProgress(value=1.0, max=1.0)…"
            ]
          },
          "metadata": {
            "tags": []
          }
        },
        {
          "output_type": "display_data",
          "data": {
            "text/html": [
              "Find user logs for this run at: <code>/content/wandb/run-20210525_065727-9nznymi5/logs/debug.log</code>"
            ],
            "text/plain": [
              "<IPython.core.display.HTML object>"
            ]
          },
          "metadata": {
            "tags": []
          }
        },
        {
          "output_type": "display_data",
          "data": {
            "text/html": [
              "Find internal logs for this run at: <code>/content/wandb/run-20210525_065727-9nznymi5/logs/debug-internal.log</code>"
            ],
            "text/plain": [
              "<IPython.core.display.HTML object>"
            ]
          },
          "metadata": {
            "tags": []
          }
        },
        {
          "output_type": "display_data",
          "data": {
            "text/html": [
              "Synced 4 W&B file(s), 0 media file(s), 0 artifact file(s) and 0 other file(s)"
            ],
            "text/plain": [
              "<IPython.core.display.HTML object>"
            ]
          },
          "metadata": {
            "tags": []
          }
        },
        {
          "output_type": "display_data",
          "data": {
            "text/html": [
              "\n",
              "                    <br/>Synced <strong style=\"color:#cdcd00\">brisk-sweep-9</strong>: <a href=\"https://wandb.ai/cs20m038/Assignment%203%20Part%202/runs/9nznymi5\" target=\"_blank\">https://wandb.ai/cs20m038/Assignment%203%20Part%202/runs/9nznymi5</a><br/>\n",
              "                "
            ],
            "text/plain": [
              "<IPython.core.display.HTML object>"
            ]
          },
          "metadata": {
            "tags": []
          }
        },
        {
          "output_type": "stream",
          "text": [
            "\u001b[34m\u001b[1mwandb\u001b[0m: \u001b[32m\u001b[41mERROR\u001b[0m Run 9nznymi5 errored: InvalidArgumentError()\n",
            "\u001b[34m\u001b[1mwandb\u001b[0m: Agent Starting Run: 5j8y9m5s with config:\n",
            "\u001b[34m\u001b[1mwandb\u001b[0m: \tEPOCHS: 15\n",
            "\u001b[34m\u001b[1mwandb\u001b[0m: \tattention_type: Luong\n",
            "\u001b[34m\u001b[1mwandb\u001b[0m: \tattention_unit: 25\n",
            "\u001b[34m\u001b[1mwandb\u001b[0m: \tbatch_size: 512\n",
            "\u001b[34m\u001b[1mwandb\u001b[0m: \tembedding_dim: 256\n",
            "\u001b[34m\u001b[1mwandb\u001b[0m: \tenc_dim: 256\n",
            "\u001b[34m\u001b[1mwandb\u001b[0m: \tlr: 0.01\n",
            "\u001b[34m\u001b[1mwandb\u001b[0m: \tmax_epoch: 10\n",
            "\u001b[34m\u001b[1mwandb\u001b[0m: \toptimizers: adam\n",
            "\u001b[34m\u001b[1mwandb\u001b[0m: \tvocab_inp_size: 100\n",
            "\u001b[34m\u001b[1mwandb\u001b[0m: \tvocab_tar_size: 140\n"
          ],
          "name": "stderr"
        },
        {
          "output_type": "display_data",
          "data": {
            "text/html": [
              "\n",
              "                Tracking run with wandb version 0.10.30<br/>\n",
              "                Syncing run <strong style=\"color:#cdcd00\">grateful-sweep-10</strong> to <a href=\"https://wandb.ai\" target=\"_blank\">Weights & Biases</a> <a href=\"https://docs.wandb.com/integrations/jupyter.html\" target=\"_blank\">(Documentation)</a>.<br/>\n",
              "                Project page: <a href=\"https://wandb.ai/cs20m038/Assignment%203%20Part%202\" target=\"_blank\">https://wandb.ai/cs20m038/Assignment%203%20Part%202</a><br/>\n",
              "                Sweep page: <a href=\"https://wandb.ai/cs20m038/Assignment%203%20Part%202/sweeps/38t7i5m2\" target=\"_blank\">https://wandb.ai/cs20m038/Assignment%203%20Part%202/sweeps/38t7i5m2</a><br/>\n",
              "Run page: <a href=\"https://wandb.ai/cs20m038/Assignment%203%20Part%202/runs/5j8y9m5s\" target=\"_blank\">https://wandb.ai/cs20m038/Assignment%203%20Part%202/runs/5j8y9m5s</a><br/>\n",
              "                Run data is saved locally in <code>/content/wandb/run-20210525_065737-5j8y9m5s</code><br/><br/>\n",
              "            "
            ],
            "text/plain": [
              "<IPython.core.display.HTML object>"
            ]
          },
          "metadata": {
            "tags": []
          }
        },
        {
          "output_type": "stream",
          "text": [
            "Encoder output shape: (batch size, sequence length, units) (512, 22, 256)\n",
            "Encoder Hidden state shape: (batch size, units) (512, 256)\n",
            "query_with_time_axis:(batch_size, 1, hidden size)  (512, 1, 256)\n",
            "score: (batch_size, max_length, 1)  (512, 22, 1)\n",
            "Attention result shape: (batch size, units) (512, 256)\n",
            "Attention weights shape: (batch_size, sequence_length, 1) (512, 22, 1)\n",
            "Decoder output shape: (batch_size, vocab size) (512, 140)\n",
            "Epoch 1 Batch 0 Loss 4.7054 Accuracy 0.0005\n",
            "Epoch 1 Loss 1.1503\n",
            "Epoch 1 Train Character_level Accuracy 0.6758\n",
            "Epoch 1 Train_Samplw_Word Accuracy 0.0000\n",
            "Epoch 1 Validation_Sample_Word_Accuracy 0.0000\n",
            "Time taken for 1 epoch 73.01060175895691 sec\n",
            "\n",
            "Epoch 2 Batch 0 Loss 0.8178 Accuracy 0.7233\n",
            "Epoch 2 Loss 0.5719\n",
            "Epoch 2 Train Character_level Accuracy 0.7890\n",
            "Epoch 2 Train_Samplw_Word Accuracy 0.0000\n",
            "Epoch 2 Validation_Sample_Word_Accuracy 0.0000\n",
            "Time taken for 1 epoch 57.594496965408325 sec\n",
            "\n",
            "Epoch 3 Batch 0 Loss 0.3097 Accuracy 0.8605\n",
            "Epoch 3 Loss 0.2469\n",
            "Epoch 3 Train Character_level Accuracy 0.8780\n",
            "Epoch 3 Train_Samplw_Word Accuracy 9.3333\n",
            "Epoch 3 Validation_Sample_Word_Accuracy 4.0000\n",
            "Time taken for 1 epoch 46.24615693092346 sec\n",
            "\n",
            "Epoch 4 Batch 0 Loss 0.2007 Accuracy 0.8902\n",
            "Epoch 4 Loss 0.1827\n",
            "Epoch 4 Train Character_level Accuracy 0.8947\n",
            "Epoch 4 Train_Samplw_Word Accuracy 12.6667\n",
            "Epoch 4 Validation_Sample_Word_Accuracy 9.3333\n",
            "Time taken for 1 epoch 45.34772062301636 sec\n",
            "\n",
            "Epoch 5 Batch 0 Loss 0.1645 Accuracy 0.9015\n",
            "Epoch 5 Loss 0.1611\n",
            "Epoch 5 Train Character_level Accuracy 0.9010\n",
            "Epoch 5 Train_Samplw_Word Accuracy 11.3333\n",
            "Epoch 5 Validation_Sample_Word_Accuracy 10.6667\n",
            "Time taken for 1 epoch 50.92667865753174 sec\n",
            "\n",
            "Epoch 6 Batch 0 Loss 0.1419 Accuracy 0.9036\n",
            "Epoch 6 Loss 0.1369\n",
            "Epoch 6 Train Character_level Accuracy 0.9085\n",
            "Epoch 6 Train_Samplw_Word Accuracy 7.3333\n",
            "Epoch 6 Validation_Sample_Word_Accuracy 4.0000\n",
            "Time taken for 1 epoch 54.6240611076355 sec\n",
            "\n",
            "Epoch 7 Batch 0 Loss 0.1091 Accuracy 0.9174\n",
            "Epoch 7 Loss 0.1247\n",
            "Epoch 7 Train Character_level Accuracy 0.9123\n",
            "Epoch 7 Train_Samplw_Word Accuracy 5.3333\n",
            "Epoch 7 Validation_Sample_Word_Accuracy 4.6667\n",
            "Time taken for 1 epoch 54.17878341674805 sec\n",
            "\n",
            "Epoch 8 Batch 0 Loss 0.1061 Accuracy 0.9172\n",
            "Epoch 8 Loss 0.1189\n",
            "Epoch 8 Train Character_level Accuracy 0.9139\n",
            "Epoch 8 Train_Samplw_Word Accuracy 5.3333\n",
            "Epoch 8 Validation_Sample_Word_Accuracy 5.3333\n",
            "Time taken for 1 epoch 54.48818850517273 sec\n",
            "\n",
            "Epoch 9 Batch 0 Loss 0.1103 Accuracy 0.9174\n",
            "Epoch 9 Loss 0.1132\n",
            "Epoch 9 Train Character_level Accuracy 0.9155\n",
            "Epoch 9 Train_Samplw_Word Accuracy 9.3333\n",
            "Epoch 9 Validation_Sample_Word_Accuracy 4.0000\n",
            "Time taken for 1 epoch 51.43529987335205 sec\n",
            "\n",
            "Epoch 10 Batch 0 Loss 0.1035 Accuracy 0.9183\n",
            "Epoch 10 Loss 0.1096\n",
            "Epoch 10 Train Character_level Accuracy 0.9165\n",
            "Epoch 10 Train_Samplw_Word Accuracy 3.3333\n",
            "Epoch 10 Validation_Sample_Word_Accuracy 1.3333\n",
            "Time taken for 1 epoch 47.881022214889526 sec\n",
            "\n",
            "Epoch 11 Batch 0 Loss 0.1086 Accuracy 0.9169\n",
            "Epoch 11 Loss 0.1060\n",
            "Epoch 11 Train Character_level Accuracy 0.9177\n",
            "Epoch 11 Train_Samplw_Word Accuracy 6.0000\n",
            "Epoch 11 Validation_Sample_Word_Accuracy 3.3333\n",
            "Time taken for 1 epoch 50.986366510391235 sec\n",
            "\n",
            "Epoch 12 Batch 0 Loss 0.1099 Accuracy 0.9140\n",
            "Epoch 12 Loss 0.0995\n",
            "Epoch 12 Train Character_level Accuracy 0.9196\n",
            "Epoch 12 Train_Samplw_Word Accuracy 8.6667\n",
            "Epoch 12 Validation_Sample_Word_Accuracy 4.0000\n",
            "Time taken for 1 epoch 53.74399256706238 sec\n",
            "\n",
            "Epoch 13 Batch 0 Loss 0.0862 Accuracy 0.9241\n",
            "Epoch 13 Loss 0.0990\n",
            "Epoch 13 Train Character_level Accuracy 0.9199\n",
            "Epoch 13 Train_Samplw_Word Accuracy 10.0000\n",
            "Epoch 13 Validation_Sample_Word_Accuracy 6.0000\n",
            "Time taken for 1 epoch 50.043803691864014 sec\n",
            "\n",
            "Epoch 14 Batch 0 Loss 0.0953 Accuracy 0.9194\n",
            "Epoch 14 Loss 0.1013\n",
            "Epoch 14 Train Character_level Accuracy 0.9188\n",
            "Epoch 14 Train_Samplw_Word Accuracy 6.0000\n",
            "Epoch 14 Validation_Sample_Word_Accuracy 5.3333\n",
            "Time taken for 1 epoch 47.32732439041138 sec\n",
            "\n",
            "Epoch 15 Batch 0 Loss 0.0902 Accuracy 0.9240\n",
            "Epoch 15 Loss 0.1096\n",
            "Epoch 15 Train Character_level Accuracy 0.9161\n",
            "Epoch 15 Train_Samplw_Word Accuracy 2.6667\n",
            "Epoch 15 Validation_Sample_Word_Accuracy 1.3333\n",
            "Time taken for 1 epoch 55.248026609420776 sec\n",
            "\n",
            "Test Sample Word Accuracy = : 2.7\n"
          ],
          "name": "stdout"
        },
        {
          "output_type": "display_data",
          "data": {
            "text/html": [
              "<br/>Waiting for W&B process to finish, PID 662<br/>Program ended successfully."
            ],
            "text/plain": [
              "<IPython.core.display.HTML object>"
            ]
          },
          "metadata": {
            "tags": []
          }
        },
        {
          "output_type": "display_data",
          "data": {
            "application/vnd.jupyter.widget-view+json": {
              "model_id": "8c6b351450774323937d5cefe96a8375",
              "version_major": 2,
              "version_minor": 0
            },
            "text/plain": [
              "VBox(children=(Label(value=' 0.00MB of 0.00MB uploaded (0.00MB deduped)\\r'), FloatProgress(value=1.0, max=1.0)…"
            ]
          },
          "metadata": {
            "tags": []
          }
        },
        {
          "output_type": "display_data",
          "data": {
            "text/html": [
              "Find user logs for this run at: <code>/content/wandb/run-20210525_065737-5j8y9m5s/logs/debug.log</code>"
            ],
            "text/plain": [
              "<IPython.core.display.HTML object>"
            ]
          },
          "metadata": {
            "tags": []
          }
        },
        {
          "output_type": "display_data",
          "data": {
            "text/html": [
              "Find internal logs for this run at: <code>/content/wandb/run-20210525_065737-5j8y9m5s/logs/debug-internal.log</code>"
            ],
            "text/plain": [
              "<IPython.core.display.HTML object>"
            ]
          },
          "metadata": {
            "tags": []
          }
        },
        {
          "output_type": "display_data",
          "data": {
            "text/html": [
              "<h3>Run summary:</h3><br/><style>\n",
              "    table.wandb td:nth-child(1) { padding: 0 10px; text-align: right }\n",
              "    </style><table class=\"wandb\">\n",
              "<tr><td>Train Loss</td><td>0.10959</td></tr><tr><td>_runtime</td><td>932</td></tr><tr><td>_timestamp</td><td>1621926789</td></tr><tr><td>_step</td><td>60</td></tr><tr><td>Train Accuracy</td><td>0.91607</td></tr><tr><td>Train_Samplw_Word Accuracy</td><td>2.66667</td></tr><tr><td>Validn_Samplw_Word Accuracy</td><td>1.33333</td></tr><tr><td>Test_Sample_word_accuracy</td><td>2.7</td></tr></table>"
            ],
            "text/plain": [
              "<IPython.core.display.HTML object>"
            ]
          },
          "metadata": {
            "tags": []
          }
        },
        {
          "output_type": "display_data",
          "data": {
            "text/html": [
              "<h3>Run history:</h3><br/><style>\n",
              "    table.wandb td:nth-child(1) { padding: 0 10px; text-align: right }\n",
              "    </style><table class=\"wandb\">\n",
              "<tr><td>Train Loss</td><td>█▄▂▂▁▁▁▁▁▁▁▁▁▁▁</td></tr><tr><td>_runtime</td><td>▁▁▁▁▂▂▂▂▂▂▃▃▃▃▃▃▃▄▄▄▄▄▄▅▅▅▅▅▅▅▆▆▆▆▆▆▇▇▇█</td></tr><tr><td>_timestamp</td><td>▁▁▁▁▂▂▂▂▂▂▃▃▃▃▃▃▃▄▄▄▄▄▄▅▅▅▅▅▅▅▆▆▆▆▆▆▇▇▇█</td></tr><tr><td>_step</td><td>▁▁▁▁▂▂▂▂▂▃▃▃▃▃▃▄▄▄▄▄▅▅▅▅▅▅▆▆▆▆▆▆▇▇▇▇▇███</td></tr><tr><td>Train Accuracy</td><td>▁▄▇▇▇██████████</td></tr><tr><td>Train_Samplw_Word Accuracy</td><td>▁▁▆█▇▅▄▄▆▃▄▆▇▄▂</td></tr><tr><td>Validn_Samplw_Word Accuracy</td><td>▁▁▄▇█▄▄▅▄▂▃▄▅▅▂</td></tr><tr><td>Test_Sample_word_accuracy</td><td>▁</td></tr></table><br/>"
            ],
            "text/plain": [
              "<IPython.core.display.HTML object>"
            ]
          },
          "metadata": {
            "tags": []
          }
        },
        {
          "output_type": "display_data",
          "data": {
            "text/html": [
              "Synced 5 W&B file(s), 0 media file(s), 0 artifact file(s) and 0 other file(s)"
            ],
            "text/plain": [
              "<IPython.core.display.HTML object>"
            ]
          },
          "metadata": {
            "tags": []
          }
        },
        {
          "output_type": "display_data",
          "data": {
            "text/html": [
              "\n",
              "                    <br/>Synced <strong style=\"color:#cdcd00\">grateful-sweep-10</strong>: <a href=\"https://wandb.ai/cs20m038/Assignment%203%20Part%202/runs/5j8y9m5s\" target=\"_blank\">https://wandb.ai/cs20m038/Assignment%203%20Part%202/runs/5j8y9m5s</a><br/>\n",
              "                "
            ],
            "text/plain": [
              "<IPython.core.display.HTML object>"
            ]
          },
          "metadata": {
            "tags": []
          }
        },
        {
          "output_type": "stream",
          "text": [
            "\u001b[34m\u001b[1mwandb\u001b[0m: Agent Starting Run: zm0w2yxw with config:\n",
            "\u001b[34m\u001b[1mwandb\u001b[0m: \tEPOCHS: 15\n",
            "\u001b[34m\u001b[1mwandb\u001b[0m: \tattention_type: Bahdanau\n",
            "\u001b[34m\u001b[1mwandb\u001b[0m: \tattention_unit: 50\n",
            "\u001b[34m\u001b[1mwandb\u001b[0m: \tbatch_size: 128\n",
            "\u001b[34m\u001b[1mwandb\u001b[0m: \tembedding_dim: 64\n",
            "\u001b[34m\u001b[1mwandb\u001b[0m: \tenc_dim: 1024\n",
            "\u001b[34m\u001b[1mwandb\u001b[0m: \tlr: 0.001\n",
            "\u001b[34m\u001b[1mwandb\u001b[0m: \tmax_epoch: 15\n",
            "\u001b[34m\u001b[1mwandb\u001b[0m: \toptimizers: adam\n",
            "\u001b[34m\u001b[1mwandb\u001b[0m: \tvocab_inp_size: 27\n",
            "\u001b[34m\u001b[1mwandb\u001b[0m: \tvocab_tar_size: 250\n"
          ],
          "name": "stderr"
        },
        {
          "output_type": "display_data",
          "data": {
            "text/html": [
              "\n",
              "                Tracking run with wandb version 0.10.30<br/>\n",
              "                Syncing run <strong style=\"color:#cdcd00\">graceful-sweep-11</strong> to <a href=\"https://wandb.ai\" target=\"_blank\">Weights & Biases</a> <a href=\"https://docs.wandb.com/integrations/jupyter.html\" target=\"_blank\">(Documentation)</a>.<br/>\n",
              "                Project page: <a href=\"https://wandb.ai/cs20m038/Assignment%203%20Part%202\" target=\"_blank\">https://wandb.ai/cs20m038/Assignment%203%20Part%202</a><br/>\n",
              "                Sweep page: <a href=\"https://wandb.ai/cs20m038/Assignment%203%20Part%202/sweeps/38t7i5m2\" target=\"_blank\">https://wandb.ai/cs20m038/Assignment%203%20Part%202/sweeps/38t7i5m2</a><br/>\n",
              "Run page: <a href=\"https://wandb.ai/cs20m038/Assignment%203%20Part%202/runs/zm0w2yxw\" target=\"_blank\">https://wandb.ai/cs20m038/Assignment%203%20Part%202/runs/zm0w2yxw</a><br/>\n",
              "                Run data is saved locally in <code>/content/wandb/run-20210525_071318-zm0w2yxw</code><br/><br/>\n",
              "            "
            ],
            "text/plain": [
              "<IPython.core.display.HTML object>"
            ]
          },
          "metadata": {
            "tags": []
          }
        },
        {
          "output_type": "display_data",
          "data": {
            "text/html": [
              "<br/>Waiting for W&B process to finish, PID 709<br/>Program failed with code 1.  Press ctrl-c to abort syncing."
            ],
            "text/plain": [
              "<IPython.core.display.HTML object>"
            ]
          },
          "metadata": {
            "tags": []
          }
        },
        {
          "output_type": "display_data",
          "data": {
            "application/vnd.jupyter.widget-view+json": {
              "model_id": "9f749d6645a2486bacdad6764cd3fec9",
              "version_major": 2,
              "version_minor": 0
            },
            "text/plain": [
              "VBox(children=(Label(value=' 0.00MB of 0.00MB uploaded (0.00MB deduped)\\r'), FloatProgress(value=0.0, max=1.0)…"
            ]
          },
          "metadata": {
            "tags": []
          }
        },
        {
          "output_type": "display_data",
          "data": {
            "text/html": [
              "Find user logs for this run at: <code>/content/wandb/run-20210525_071318-zm0w2yxw/logs/debug.log</code>"
            ],
            "text/plain": [
              "<IPython.core.display.HTML object>"
            ]
          },
          "metadata": {
            "tags": []
          }
        },
        {
          "output_type": "display_data",
          "data": {
            "text/html": [
              "Find internal logs for this run at: <code>/content/wandb/run-20210525_071318-zm0w2yxw/logs/debug-internal.log</code>"
            ],
            "text/plain": [
              "<IPython.core.display.HTML object>"
            ]
          },
          "metadata": {
            "tags": []
          }
        },
        {
          "output_type": "display_data",
          "data": {
            "text/html": [
              "Synced 4 W&B file(s), 0 media file(s), 0 artifact file(s) and 0 other file(s)"
            ],
            "text/plain": [
              "<IPython.core.display.HTML object>"
            ]
          },
          "metadata": {
            "tags": []
          }
        },
        {
          "output_type": "display_data",
          "data": {
            "text/html": [
              "\n",
              "                    <br/>Synced <strong style=\"color:#cdcd00\">graceful-sweep-11</strong>: <a href=\"https://wandb.ai/cs20m038/Assignment%203%20Part%202/runs/zm0w2yxw\" target=\"_blank\">https://wandb.ai/cs20m038/Assignment%203%20Part%202/runs/zm0w2yxw</a><br/>\n",
              "                "
            ],
            "text/plain": [
              "<IPython.core.display.HTML object>"
            ]
          },
          "metadata": {
            "tags": []
          }
        },
        {
          "output_type": "stream",
          "text": [
            "\u001b[34m\u001b[1mwandb\u001b[0m: \u001b[32m\u001b[41mERROR\u001b[0m Run zm0w2yxw errored: InvalidArgumentError()\n",
            "\u001b[34m\u001b[1mwandb\u001b[0m: Agent Starting Run: 4xhyhrxq with config:\n",
            "\u001b[34m\u001b[1mwandb\u001b[0m: \tEPOCHS: 20\n",
            "\u001b[34m\u001b[1mwandb\u001b[0m: \tattention_type: Luong\n",
            "\u001b[34m\u001b[1mwandb\u001b[0m: \tattention_unit: 35\n",
            "\u001b[34m\u001b[1mwandb\u001b[0m: \tbatch_size: 256\n",
            "\u001b[34m\u001b[1mwandb\u001b[0m: \tembedding_dim: 64\n",
            "\u001b[34m\u001b[1mwandb\u001b[0m: \tenc_dim: 1024\n",
            "\u001b[34m\u001b[1mwandb\u001b[0m: \tlr: 0.001\n",
            "\u001b[34m\u001b[1mwandb\u001b[0m: \tmax_epoch: 15\n",
            "\u001b[34m\u001b[1mwandb\u001b[0m: \toptimizers: adam\n",
            "\u001b[34m\u001b[1mwandb\u001b[0m: \tvocab_inp_size: 100\n",
            "\u001b[34m\u001b[1mwandb\u001b[0m: \tvocab_tar_size: 140\n"
          ],
          "name": "stderr"
        },
        {
          "output_type": "display_data",
          "data": {
            "text/html": [
              "\n",
              "                Tracking run with wandb version 0.10.30<br/>\n",
              "                Syncing run <strong style=\"color:#cdcd00\">apricot-sweep-12</strong> to <a href=\"https://wandb.ai\" target=\"_blank\">Weights & Biases</a> <a href=\"https://docs.wandb.com/integrations/jupyter.html\" target=\"_blank\">(Documentation)</a>.<br/>\n",
              "                Project page: <a href=\"https://wandb.ai/cs20m038/Assignment%203%20Part%202\" target=\"_blank\">https://wandb.ai/cs20m038/Assignment%203%20Part%202</a><br/>\n",
              "                Sweep page: <a href=\"https://wandb.ai/cs20m038/Assignment%203%20Part%202/sweeps/38t7i5m2\" target=\"_blank\">https://wandb.ai/cs20m038/Assignment%203%20Part%202/sweeps/38t7i5m2</a><br/>\n",
              "Run page: <a href=\"https://wandb.ai/cs20m038/Assignment%203%20Part%202/runs/4xhyhrxq\" target=\"_blank\">https://wandb.ai/cs20m038/Assignment%203%20Part%202/runs/4xhyhrxq</a><br/>\n",
              "                Run data is saved locally in <code>/content/wandb/run-20210525_071328-4xhyhrxq</code><br/><br/>\n",
              "            "
            ],
            "text/plain": [
              "<IPython.core.display.HTML object>"
            ]
          },
          "metadata": {
            "tags": []
          }
        },
        {
          "output_type": "stream",
          "text": [
            "Encoder output shape: (batch size, sequence length, units) (256, 22, 1024)\n",
            "Encoder Hidden state shape: (batch size, units) (256, 1024)\n",
            "query_with_time_axis:(batch_size, 1, hidden size)  (256, 1, 1024)\n",
            "score: (batch_size, max_length, 1)  (256, 22, 1)\n",
            "Attention result shape: (batch size, units) (256, 1024)\n",
            "Attention weights shape: (batch_size, sequence_length, 1) (256, 22, 1)\n",
            "Decoder output shape: (batch_size, vocab size) (256, 140)\n",
            "Epoch 1 Batch 0 Loss 4.7068 Accuracy 0.0022\n",
            "Epoch 1 Batch 100 Loss 1.1377 Accuracy 0.6659\n",
            "Epoch 1 Loss 1.3330\n",
            "Epoch 1 Train Character_level Accuracy 0.6576\n",
            "Epoch 1 Train_Samplw_Word Accuracy 0.0000\n",
            "Epoch 1 Validation_Sample_Word_Accuracy 0.0000\n",
            "Time taken for 1 epoch 131.9660701751709 sec\n",
            "\n",
            "Epoch 2 Batch 0 Loss 1.0405 Accuracy 0.6752\n",
            "Epoch 2 Batch 100 Loss 0.9668 Accuracy 0.6942\n",
            "Epoch 2 Loss 0.9997\n",
            "Epoch 2 Train Character_level Accuracy 0.6849\n",
            "Epoch 2 Train_Samplw_Word Accuracy 0.0000\n",
            "Epoch 2 Validation_Sample_Word_Accuracy 0.0000\n",
            "Time taken for 1 epoch 118.52506971359253 sec\n",
            "\n",
            "Epoch 3 Batch 0 Loss 1.0206 Accuracy 0.6754\n",
            "Epoch 3 Batch 100 Loss 0.9220 Accuracy 0.7048\n",
            "Epoch 3 Loss 0.9193\n",
            "Epoch 3 Train Character_level Accuracy 0.7030\n",
            "Epoch 3 Train_Samplw_Word Accuracy 0.0000\n",
            "Epoch 3 Validation_Sample_Word_Accuracy 0.0000\n",
            "Time taken for 1 epoch 121.52072668075562 sec\n",
            "\n",
            "Epoch 4 Batch 0 Loss 0.9075 Accuracy 0.7061\n",
            "Epoch 4 Batch 100 Loss 0.9025 Accuracy 0.7003\n",
            "Epoch 4 Loss 0.8709\n",
            "Epoch 4 Train Character_level Accuracy 0.7128\n",
            "Epoch 4 Train_Samplw_Word Accuracy 0.0000\n",
            "Epoch 4 Validation_Sample_Word_Accuracy 0.0000\n",
            "Time taken for 1 epoch 123.32640314102173 sec\n",
            "\n",
            "Epoch 5 Batch 0 Loss 0.8534 Accuracy 0.7188\n",
            "Epoch 5 Batch 100 Loss 0.8081 Accuracy 0.7249\n",
            "Epoch 5 Loss 0.7926\n",
            "Epoch 5 Train Character_level Accuracy 0.7291\n",
            "Epoch 5 Train_Samplw_Word Accuracy 0.0000\n",
            "Epoch 5 Validation_Sample_Word_Accuracy 0.0000\n",
            "Time taken for 1 epoch 119.45703673362732 sec\n",
            "\n",
            "Epoch 6 Batch 0 Loss 0.7584 Accuracy 0.7351\n",
            "Epoch 6 Batch 100 Loss 0.5606 Accuracy 0.7850\n",
            "Epoch 6 Loss 0.5915\n",
            "Epoch 6 Train Character_level Accuracy 0.7807\n",
            "Epoch 6 Train_Samplw_Word Accuracy 0.0000\n",
            "Epoch 6 Validation_Sample_Word_Accuracy 0.0000\n",
            "Time taken for 1 epoch 119.1136622428894 sec\n",
            "\n",
            "Epoch 7 Batch 0 Loss 0.4300 Accuracy 0.8307\n",
            "Epoch 7 Batch 100 Loss 0.3070 Accuracy 0.8657\n",
            "Epoch 7 Loss 0.3254\n",
            "Epoch 7 Train Character_level Accuracy 0.8556\n",
            "Epoch 7 Train_Samplw_Word Accuracy 0.0000\n",
            "Epoch 7 Validation_Sample_Word_Accuracy 0.0000\n",
            "Time taken for 1 epoch 118.85746169090271 sec\n",
            "\n",
            "Epoch 8 Batch 0 Loss 0.2520 Accuracy 0.8785\n",
            "Epoch 8 Batch 100 Loss 0.2350 Accuracy 0.8826\n",
            "Epoch 8 Loss 0.2221\n",
            "Epoch 8 Train Character_level Accuracy 0.8849\n",
            "Epoch 8 Train_Samplw_Word Accuracy 0.0000\n",
            "Epoch 8 Validation_Sample_Word_Accuracy 0.0000\n",
            "Time taken for 1 epoch 120.40498352050781 sec\n",
            "\n",
            "Epoch 9 Batch 0 Loss 0.1941 Accuracy 0.8929\n",
            "Epoch 9 Batch 100 Loss 0.1773 Accuracy 0.8973\n",
            "Epoch 9 Loss 0.1840\n",
            "Epoch 9 Train Character_level Accuracy 0.8951\n",
            "Epoch 9 Train_Samplw_Word Accuracy 0.6667\n",
            "Epoch 9 Validation_Sample_Word_Accuracy 0.0000\n",
            "Time taken for 1 epoch 118.74470210075378 sec\n",
            "\n",
            "Epoch 10 Batch 0 Loss 0.1687 Accuracy 0.8999\n",
            "Epoch 10 Batch 100 Loss 0.1455 Accuracy 0.9053\n",
            "Epoch 10 Loss 0.1610\n",
            "Epoch 10 Train Character_level Accuracy 0.9018\n",
            "Epoch 10 Train_Samplw_Word Accuracy 0.0000\n",
            "Epoch 10 Validation_Sample_Word_Accuracy 0.0000\n",
            "Time taken for 1 epoch 116.11541891098022 sec\n",
            "\n",
            "Epoch 11 Batch 0 Loss 0.1414 Accuracy 0.9129\n",
            "Epoch 11 Batch 100 Loss 0.1267 Accuracy 0.9113\n",
            "Epoch 11 Loss 0.1390\n",
            "Epoch 11 Train Character_level Accuracy 0.9083\n",
            "Epoch 11 Train_Samplw_Word Accuracy 0.6667\n",
            "Epoch 11 Validation_Sample_Word_Accuracy 0.0000\n",
            "Time taken for 1 epoch 114.13132047653198 sec\n",
            "\n",
            "Epoch 12 Batch 0 Loss 0.1120 Accuracy 0.9150\n",
            "Epoch 12 Batch 100 Loss 0.1173 Accuracy 0.9142\n",
            "Epoch 12 Loss 0.1281\n",
            "Epoch 12 Train Character_level Accuracy 0.9115\n",
            "Epoch 12 Train_Samplw_Word Accuracy 2.6667\n",
            "Epoch 12 Validation_Sample_Word_Accuracy 0.0000\n",
            "Time taken for 1 epoch 112.60723686218262 sec\n",
            "\n",
            "Epoch 13 Batch 0 Loss 0.1275 Accuracy 0.9107\n",
            "Epoch 13 Batch 100 Loss 0.1038 Accuracy 0.9159\n",
            "Epoch 13 Loss 0.1128\n",
            "Epoch 13 Train Character_level Accuracy 0.9163\n",
            "Epoch 13 Train_Samplw_Word Accuracy 1.3333\n",
            "Epoch 13 Validation_Sample_Word_Accuracy 1.3333\n",
            "Time taken for 1 epoch 112.9378616809845 sec\n",
            "\n",
            "Epoch 14 Batch 0 Loss 0.0918 Accuracy 0.9224\n",
            "Epoch 14 Batch 100 Loss 0.1223 Accuracy 0.9116\n",
            "Epoch 14 Loss 0.1080\n",
            "Epoch 14 Train Character_level Accuracy 0.9177\n",
            "Epoch 14 Train_Samplw_Word Accuracy 2.6667\n",
            "Epoch 14 Validation_Sample_Word_Accuracy 2.0000\n",
            "Time taken for 1 epoch 108.06862497329712 sec\n",
            "\n",
            "Epoch 15 Batch 0 Loss 0.0904 Accuracy 0.9232\n",
            "Epoch 15 Batch 100 Loss 0.1046 Accuracy 0.9178\n",
            "Epoch 15 Loss 0.1117\n",
            "Epoch 15 Train Character_level Accuracy 0.9166\n",
            "Epoch 15 Train_Samplw_Word Accuracy 8.0000\n",
            "Epoch 15 Validation_Sample_Word_Accuracy 3.3333\n",
            "Time taken for 1 epoch 106.94137167930603 sec\n",
            "\n",
            "Epoch 16 Batch 0 Loss 0.0853 Accuracy 0.9273\n",
            "Epoch 16 Batch 100 Loss 0.0947 Accuracy 0.9241\n",
            "Epoch 16 Loss 0.0908\n",
            "Epoch 16 Train Character_level Accuracy 0.9230\n",
            "Epoch 16 Train_Samplw_Word Accuracy 8.6667\n",
            "Epoch 16 Validation_Sample_Word_Accuracy 2.0000\n",
            "Time taken for 1 epoch 111.51261854171753 sec\n",
            "\n",
            "Epoch 17 Batch 0 Loss 0.0835 Accuracy 0.9278\n",
            "Epoch 17 Batch 100 Loss 0.0716 Accuracy 0.9293\n",
            "Epoch 17 Loss 0.0771\n",
            "Epoch 17 Train Character_level Accuracy 0.9275\n",
            "Epoch 17 Train_Samplw_Word Accuracy 6.6667\n",
            "Epoch 17 Validation_Sample_Word_Accuracy 5.3333\n",
            "Time taken for 1 epoch 110.66366744041443 sec\n",
            "\n",
            "Epoch 18 Batch 0 Loss 0.0768 Accuracy 0.9301\n",
            "Epoch 18 Batch 100 Loss 0.0695 Accuracy 0.9291\n",
            "Epoch 18 Loss 0.0670\n",
            "Epoch 18 Train Character_level Accuracy 0.9305\n",
            "Epoch 18 Train_Samplw_Word Accuracy 12.0000\n",
            "Epoch 18 Validation_Sample_Word_Accuracy 6.0000\n",
            "Time taken for 1 epoch 109.00644636154175 sec\n",
            "\n",
            "Epoch 19 Batch 0 Loss 0.0568 Accuracy 0.9345\n",
            "Epoch 19 Batch 100 Loss 0.5582 Accuracy 0.7863\n",
            "Epoch 19 Loss 0.3816\n",
            "Epoch 19 Train Character_level Accuracy 0.8503\n",
            "Epoch 19 Train_Samplw_Word Accuracy 0.6667\n",
            "Epoch 19 Validation_Sample_Word_Accuracy 4.6667\n",
            "Time taken for 1 epoch 108.37687683105469 sec\n",
            "\n",
            "Epoch 20 Batch 0 Loss 0.2855 Accuracy 0.8655\n",
            "Epoch 20 Batch 100 Loss 0.1850 Accuracy 0.8958\n",
            "Epoch 20 Loss 0.2282\n",
            "Epoch 20 Train Character_level Accuracy 0.8804\n",
            "Epoch 20 Train_Samplw_Word Accuracy 2.0000\n",
            "Epoch 20 Validation_Sample_Word_Accuracy 2.6667\n",
            "Time taken for 1 epoch 114.69043707847595 sec\n",
            "\n",
            "Test Sample Word Accuracy = : 1.2\n"
          ],
          "name": "stdout"
        },
        {
          "output_type": "display_data",
          "data": {
            "text/html": [
              "<br/>Waiting for W&B process to finish, PID 740<br/>Program ended successfully."
            ],
            "text/plain": [
              "<IPython.core.display.HTML object>"
            ]
          },
          "metadata": {
            "tags": []
          }
        },
        {
          "output_type": "display_data",
          "data": {
            "application/vnd.jupyter.widget-view+json": {
              "model_id": "09a090259af94684b64272c0a45b3bcd",
              "version_major": 2,
              "version_minor": 0
            },
            "text/plain": [
              "VBox(children=(Label(value=' 0.00MB of 0.00MB uploaded (0.00MB deduped)\\r'), FloatProgress(value=1.0, max=1.0)…"
            ]
          },
          "metadata": {
            "tags": []
          }
        },
        {
          "output_type": "display_data",
          "data": {
            "text/html": [
              "Find user logs for this run at: <code>/content/wandb/run-20210525_071328-4xhyhrxq/logs/debug.log</code>"
            ],
            "text/plain": [
              "<IPython.core.display.HTML object>"
            ]
          },
          "metadata": {
            "tags": []
          }
        },
        {
          "output_type": "display_data",
          "data": {
            "text/html": [
              "Find internal logs for this run at: <code>/content/wandb/run-20210525_071328-4xhyhrxq/logs/debug-internal.log</code>"
            ],
            "text/plain": [
              "<IPython.core.display.HTML object>"
            ]
          },
          "metadata": {
            "tags": []
          }
        },
        {
          "output_type": "display_data",
          "data": {
            "text/html": [
              "<h3>Run summary:</h3><br/><style>\n",
              "    table.wandb td:nth-child(1) { padding: 0 10px; text-align: right }\n",
              "    </style><table class=\"wandb\">\n",
              "<tr><td>Train Loss</td><td>0.22821</td></tr><tr><td>_runtime</td><td>2497</td></tr><tr><td>_timestamp</td><td>1621929305</td></tr><tr><td>_step</td><td>80</td></tr><tr><td>Train Accuracy</td><td>0.88044</td></tr><tr><td>Train_Samplw_Word Accuracy</td><td>2.0</td></tr><tr><td>Validn_Samplw_Word Accuracy</td><td>2.66667</td></tr><tr><td>Test_Sample_word_accuracy</td><td>1.2</td></tr></table>"
            ],
            "text/plain": [
              "<IPython.core.display.HTML object>"
            ]
          },
          "metadata": {
            "tags": []
          }
        },
        {
          "output_type": "display_data",
          "data": {
            "text/html": [
              "<h3>Run history:</h3><br/><style>\n",
              "    table.wandb td:nth-child(1) { padding: 0 10px; text-align: right }\n",
              "    </style><table class=\"wandb\">\n",
              "<tr><td>Train Loss</td><td>█▆▆▅▅▄▂▂▂▂▁▁▁▁▁▁▁▁▃▂</td></tr><tr><td>_runtime</td><td>▁▁▁▂▂▂▂▂▂▃▃▃▃▃▃▄▄▄▄▄▄▅▅▅▅▅▅▆▆▆▆▆▆▇▇▇▇▇▇█</td></tr><tr><td>_timestamp</td><td>▁▁▁▂▂▂▂▂▂▃▃▃▃▃▃▄▄▄▄▄▄▅▅▅▅▅▅▆▆▆▆▆▆▇▇▇▇▇▇█</td></tr><tr><td>_step</td><td>▁▁▁▂▂▂▂▂▂▃▃▃▃▃▃▄▄▄▄▄▅▅▅▅▅▅▆▆▆▆▆▇▇▇▇▇▇███</td></tr><tr><td>Train Accuracy</td><td>▁▂▂▂▃▄▆▇▇▇▇███████▆▇</td></tr><tr><td>Train_Samplw_Word Accuracy</td><td>▁▁▁▁▁▁▁▁▁▁▁▃▂▃▆▆▅█▁▂</td></tr><tr><td>Validn_Samplw_Word Accuracy</td><td>▁▁▁▁▁▁▁▁▁▁▁▁▃▃▅▃▇█▆▄</td></tr><tr><td>Test_Sample_word_accuracy</td><td>▁</td></tr></table><br/>"
            ],
            "text/plain": [
              "<IPython.core.display.HTML object>"
            ]
          },
          "metadata": {
            "tags": []
          }
        },
        {
          "output_type": "display_data",
          "data": {
            "text/html": [
              "Synced 5 W&B file(s), 0 media file(s), 0 artifact file(s) and 0 other file(s)"
            ],
            "text/plain": [
              "<IPython.core.display.HTML object>"
            ]
          },
          "metadata": {
            "tags": []
          }
        },
        {
          "output_type": "display_data",
          "data": {
            "text/html": [
              "\n",
              "                    <br/>Synced <strong style=\"color:#cdcd00\">apricot-sweep-12</strong>: <a href=\"https://wandb.ai/cs20m038/Assignment%203%20Part%202/runs/4xhyhrxq\" target=\"_blank\">https://wandb.ai/cs20m038/Assignment%203%20Part%202/runs/4xhyhrxq</a><br/>\n",
              "                "
            ],
            "text/plain": [
              "<IPython.core.display.HTML object>"
            ]
          },
          "metadata": {
            "tags": []
          }
        },
        {
          "output_type": "stream",
          "text": [
            "\u001b[34m\u001b[1mwandb\u001b[0m: Agent Starting Run: oplpuwky with config:\n",
            "\u001b[34m\u001b[1mwandb\u001b[0m: \tEPOCHS: 15\n",
            "\u001b[34m\u001b[1mwandb\u001b[0m: \tattention_type: Luong\n",
            "\u001b[34m\u001b[1mwandb\u001b[0m: \tattention_unit: 25\n",
            "\u001b[34m\u001b[1mwandb\u001b[0m: \tbatch_size: 256\n",
            "\u001b[34m\u001b[1mwandb\u001b[0m: \tembedding_dim: 256\n",
            "\u001b[34m\u001b[1mwandb\u001b[0m: \tenc_dim: 256\n",
            "\u001b[34m\u001b[1mwandb\u001b[0m: \tlr: 0.001\n",
            "\u001b[34m\u001b[1mwandb\u001b[0m: \tmax_epoch: 10\n",
            "\u001b[34m\u001b[1mwandb\u001b[0m: \toptimizers: adam\n",
            "\u001b[34m\u001b[1mwandb\u001b[0m: \tvocab_inp_size: 27\n",
            "\u001b[34m\u001b[1mwandb\u001b[0m: \tvocab_tar_size: 200\n"
          ],
          "name": "stderr"
        },
        {
          "output_type": "display_data",
          "data": {
            "text/html": [
              "\n",
              "                Tracking run with wandb version 0.10.30<br/>\n",
              "                Syncing run <strong style=\"color:#cdcd00\">glowing-sweep-13</strong> to <a href=\"https://wandb.ai\" target=\"_blank\">Weights & Biases</a> <a href=\"https://docs.wandb.com/integrations/jupyter.html\" target=\"_blank\">(Documentation)</a>.<br/>\n",
              "                Project page: <a href=\"https://wandb.ai/cs20m038/Assignment%203%20Part%202\" target=\"_blank\">https://wandb.ai/cs20m038/Assignment%203%20Part%202</a><br/>\n",
              "                Sweep page: <a href=\"https://wandb.ai/cs20m038/Assignment%203%20Part%202/sweeps/38t7i5m2\" target=\"_blank\">https://wandb.ai/cs20m038/Assignment%203%20Part%202/sweeps/38t7i5m2</a><br/>\n",
              "Run page: <a href=\"https://wandb.ai/cs20m038/Assignment%203%20Part%202/runs/oplpuwky\" target=\"_blank\">https://wandb.ai/cs20m038/Assignment%203%20Part%202/runs/oplpuwky</a><br/>\n",
              "                Run data is saved locally in <code>/content/wandb/run-20210525_075514-oplpuwky</code><br/><br/>\n",
              "            "
            ],
            "text/plain": [
              "<IPython.core.display.HTML object>"
            ]
          },
          "metadata": {
            "tags": []
          }
        },
        {
          "output_type": "display_data",
          "data": {
            "text/html": [
              "<br/>Waiting for W&B process to finish, PID 792<br/>Program failed with code 1.  Press ctrl-c to abort syncing."
            ],
            "text/plain": [
              "<IPython.core.display.HTML object>"
            ]
          },
          "metadata": {
            "tags": []
          }
        },
        {
          "output_type": "display_data",
          "data": {
            "application/vnd.jupyter.widget-view+json": {
              "model_id": "b1328832757847ac8c8e5ab0916e73b1",
              "version_major": 2,
              "version_minor": 0
            },
            "text/plain": [
              "VBox(children=(Label(value=' 0.00MB of 0.00MB uploaded (0.00MB deduped)\\r'), FloatProgress(value=0.0, max=1.0)…"
            ]
          },
          "metadata": {
            "tags": []
          }
        },
        {
          "output_type": "display_data",
          "data": {
            "text/html": [
              "Find user logs for this run at: <code>/content/wandb/run-20210525_075514-oplpuwky/logs/debug.log</code>"
            ],
            "text/plain": [
              "<IPython.core.display.HTML object>"
            ]
          },
          "metadata": {
            "tags": []
          }
        },
        {
          "output_type": "display_data",
          "data": {
            "text/html": [
              "Find internal logs for this run at: <code>/content/wandb/run-20210525_075514-oplpuwky/logs/debug-internal.log</code>"
            ],
            "text/plain": [
              "<IPython.core.display.HTML object>"
            ]
          },
          "metadata": {
            "tags": []
          }
        },
        {
          "output_type": "display_data",
          "data": {
            "text/html": [
              "Synced 4 W&B file(s), 0 media file(s), 0 artifact file(s) and 0 other file(s)"
            ],
            "text/plain": [
              "<IPython.core.display.HTML object>"
            ]
          },
          "metadata": {
            "tags": []
          }
        },
        {
          "output_type": "display_data",
          "data": {
            "text/html": [
              "\n",
              "                    <br/>Synced <strong style=\"color:#cdcd00\">glowing-sweep-13</strong>: <a href=\"https://wandb.ai/cs20m038/Assignment%203%20Part%202/runs/oplpuwky\" target=\"_blank\">https://wandb.ai/cs20m038/Assignment%203%20Part%202/runs/oplpuwky</a><br/>\n",
              "                "
            ],
            "text/plain": [
              "<IPython.core.display.HTML object>"
            ]
          },
          "metadata": {
            "tags": []
          }
        },
        {
          "output_type": "stream",
          "text": [
            "\u001b[34m\u001b[1mwandb\u001b[0m: \u001b[32m\u001b[41mERROR\u001b[0m Run oplpuwky errored: InvalidArgumentError()\n",
            "\u001b[34m\u001b[1mwandb\u001b[0m: Agent Starting Run: ygnj7y09 with config:\n",
            "\u001b[34m\u001b[1mwandb\u001b[0m: \tEPOCHS: 15\n",
            "\u001b[34m\u001b[1mwandb\u001b[0m: \tattention_type: Bahdanau\n",
            "\u001b[34m\u001b[1mwandb\u001b[0m: \tattention_unit: 50\n",
            "\u001b[34m\u001b[1mwandb\u001b[0m: \tbatch_size: 256\n",
            "\u001b[34m\u001b[1mwandb\u001b[0m: \tembedding_dim: 256\n",
            "\u001b[34m\u001b[1mwandb\u001b[0m: \tenc_dim: 512\n",
            "\u001b[34m\u001b[1mwandb\u001b[0m: \tlr: 0.001\n",
            "\u001b[34m\u001b[1mwandb\u001b[0m: \tmax_epoch: 15\n",
            "\u001b[34m\u001b[1mwandb\u001b[0m: \toptimizers: adam\n",
            "\u001b[34m\u001b[1mwandb\u001b[0m: \tvocab_inp_size: 100\n",
            "\u001b[34m\u001b[1mwandb\u001b[0m: \tvocab_tar_size: 200\n"
          ],
          "name": "stderr"
        },
        {
          "output_type": "display_data",
          "data": {
            "text/html": [
              "\n",
              "                Tracking run with wandb version 0.10.30<br/>\n",
              "                Syncing run <strong style=\"color:#cdcd00\">golden-sweep-14</strong> to <a href=\"https://wandb.ai\" target=\"_blank\">Weights & Biases</a> <a href=\"https://docs.wandb.com/integrations/jupyter.html\" target=\"_blank\">(Documentation)</a>.<br/>\n",
              "                Project page: <a href=\"https://wandb.ai/cs20m038/Assignment%203%20Part%202\" target=\"_blank\">https://wandb.ai/cs20m038/Assignment%203%20Part%202</a><br/>\n",
              "                Sweep page: <a href=\"https://wandb.ai/cs20m038/Assignment%203%20Part%202/sweeps/38t7i5m2\" target=\"_blank\">https://wandb.ai/cs20m038/Assignment%203%20Part%202/sweeps/38t7i5m2</a><br/>\n",
              "Run page: <a href=\"https://wandb.ai/cs20m038/Assignment%203%20Part%202/runs/ygnj7y09\" target=\"_blank\">https://wandb.ai/cs20m038/Assignment%203%20Part%202/runs/ygnj7y09</a><br/>\n",
              "                Run data is saved locally in <code>/content/wandb/run-20210525_075524-ygnj7y09</code><br/><br/>\n",
              "            "
            ],
            "text/plain": [
              "<IPython.core.display.HTML object>"
            ]
          },
          "metadata": {
            "tags": []
          }
        },
        {
          "output_type": "stream",
          "text": [
            "Encoder output shape: (batch size, sequence length, units) (256, 22, 512)\n",
            "Encoder Hidden state shape: (batch size, units) (256, 512)\n",
            "Attention result shape: (batch size, units) (256, 512)\n",
            "Attention weights shape: (batch_size, sequence_length, 1) (256, 22, 1)\n",
            "Decoder output shape: (batch_size, vocab size) (256, 200)\n",
            "Epoch 1 Batch 0 Loss 5.0557 Accuracy 0.0000\n",
            "Epoch 1 Batch 100 Loss 1.0835 Accuracy 0.6717\n",
            "Epoch 1 Loss 1.2617\n",
            "Epoch 1 Train Character_level Accuracy 0.6649\n",
            "Epoch 1 Train_Samplw_Word Accuracy 0.0000\n",
            "Epoch 1 Validation_Sample_Word_Accuracy 0.0000\n",
            "Time taken for 1 epoch 92.93952083587646 sec\n",
            "\n",
            "Epoch 2 Batch 0 Loss 0.9717 Accuracy 0.6856\n",
            "Epoch 2 Batch 100 Loss 0.9751 Accuracy 0.6882\n",
            "Epoch 2 Loss 0.9628\n",
            "Epoch 2 Train Character_level Accuracy 0.6924\n",
            "Epoch 2 Train_Samplw_Word Accuracy 0.0000\n",
            "Epoch 2 Validation_Sample_Word_Accuracy 0.0000\n",
            "Time taken for 1 epoch 79.04962730407715 sec\n",
            "\n",
            "Epoch 3 Batch 0 Loss 0.9222 Accuracy 0.7013\n",
            "Epoch 3 Batch 100 Loss 0.8396 Accuracy 0.7199\n",
            "Epoch 3 Loss 0.8788\n",
            "Epoch 3 Train Character_level Accuracy 0.7109\n",
            "Epoch 3 Train_Samplw_Word Accuracy 0.0000\n",
            "Epoch 3 Validation_Sample_Word_Accuracy 0.0000\n",
            "Time taken for 1 epoch 79.76564168930054 sec\n",
            "\n",
            "Epoch 4 Batch 0 Loss 0.8601 Accuracy 0.7135\n",
            "Epoch 4 Batch 100 Loss 0.7473 Accuracy 0.7357\n",
            "Epoch 4 Loss 0.7449\n",
            "Epoch 4 Train Character_level Accuracy 0.7418\n",
            "Epoch 4 Train_Samplw_Word Accuracy 0.0000\n",
            "Epoch 4 Validation_Sample_Word_Accuracy 0.0000\n",
            "Time taken for 1 epoch 79.3804874420166 sec\n",
            "\n",
            "Epoch 5 Batch 0 Loss 0.5827 Accuracy 0.7881\n",
            "Epoch 5 Batch 100 Loss 0.3346 Accuracy 0.8583\n",
            "Epoch 5 Loss 0.3984\n",
            "Epoch 5 Train Character_level Accuracy 0.8363\n",
            "Epoch 5 Train_Samplw_Word Accuracy 0.0000\n",
            "Epoch 5 Validation_Sample_Word_Accuracy 0.0000\n",
            "Time taken for 1 epoch 74.92584252357483 sec\n",
            "\n",
            "Epoch 6 Batch 0 Loss 0.2597 Accuracy 0.8739\n",
            "Epoch 6 Batch 100 Loss 0.2299 Accuracy 0.8826\n",
            "Epoch 6 Loss 0.2291\n",
            "Epoch 6 Train Character_level Accuracy 0.8822\n",
            "Epoch 6 Train_Samplw_Word Accuracy 0.0000\n",
            "Epoch 6 Validation_Sample_Word_Accuracy 0.0000\n",
            "Time taken for 1 epoch 71.3724296092987 sec\n",
            "\n",
            "Epoch 7 Batch 0 Loss 0.1904 Accuracy 0.8897\n",
            "Epoch 7 Batch 100 Loss 0.1895 Accuracy 0.8925\n",
            "Epoch 7 Loss 0.1857\n",
            "Epoch 7 Train Character_level Accuracy 0.8944\n",
            "Epoch 7 Train_Samplw_Word Accuracy 0.6667\n",
            "Epoch 7 Validation_Sample_Word_Accuracy 0.0000\n",
            "Time taken for 1 epoch 68.11964964866638 sec\n",
            "\n",
            "Epoch 8 Batch 0 Loss 0.1666 Accuracy 0.8990\n",
            "Epoch 8 Batch 100 Loss 0.1729 Accuracy 0.8979\n",
            "Epoch 8 Loss 0.1629\n",
            "Epoch 8 Train Character_level Accuracy 0.9008\n",
            "Epoch 8 Train_Samplw_Word Accuracy 0.0000\n",
            "Epoch 8 Validation_Sample_Word_Accuracy 0.0000\n",
            "Time taken for 1 epoch 66.24423098564148 sec\n",
            "\n",
            "Epoch 9 Batch 0 Loss 0.1325 Accuracy 0.9116\n",
            "Epoch 9 Batch 100 Loss 0.1404 Accuracy 0.9074\n",
            "Epoch 9 Loss 0.1486\n",
            "Epoch 9 Train Character_level Accuracy 0.9048\n",
            "Epoch 9 Train_Samplw_Word Accuracy 0.0000\n",
            "Epoch 9 Validation_Sample_Word_Accuracy 0.0000\n",
            "Time taken for 1 epoch 68.64664840698242 sec\n",
            "\n",
            "Epoch 10 Batch 0 Loss 0.1425 Accuracy 0.9090\n",
            "Epoch 10 Batch 100 Loss 0.1302 Accuracy 0.9090\n",
            "Epoch 10 Loss 0.1355\n",
            "Epoch 10 Train Character_level Accuracy 0.9086\n",
            "Epoch 10 Train_Samplw_Word Accuracy 0.6667\n",
            "Epoch 10 Validation_Sample_Word_Accuracy 0.6667\n",
            "Time taken for 1 epoch 67.55439972877502 sec\n",
            "\n",
            "Epoch 11 Batch 0 Loss 0.1323 Accuracy 0.9107\n",
            "Epoch 11 Batch 100 Loss 0.1153 Accuracy 0.9169\n",
            "Epoch 11 Loss 0.1237\n",
            "Epoch 11 Train Character_level Accuracy 0.9127\n",
            "Epoch 11 Train_Samplw_Word Accuracy 0.6667\n",
            "Epoch 11 Validation_Sample_Word_Accuracy 0.0000\n",
            "Time taken for 1 epoch 66.88488817214966 sec\n",
            "\n",
            "Epoch 12 Batch 0 Loss 0.1291 Accuracy 0.9135\n",
            "Epoch 12 Batch 100 Loss 0.1071 Accuracy 0.9198\n",
            "Epoch 12 Loss 0.1195\n",
            "Epoch 12 Train Character_level Accuracy 0.9139\n",
            "Epoch 12 Train_Samplw_Word Accuracy 0.0000\n",
            "Epoch 12 Validation_Sample_Word_Accuracy 0.0000\n",
            "Time taken for 1 epoch 71.59654569625854 sec\n",
            "\n",
            "Epoch 13 Batch 0 Loss 0.1131 Accuracy 0.9183\n",
            "Epoch 13 Batch 100 Loss 0.1074 Accuracy 0.9200\n",
            "Epoch 13 Loss 0.1068\n",
            "Epoch 13 Train Character_level Accuracy 0.9179\n",
            "Epoch 13 Train_Samplw_Word Accuracy 0.0000\n",
            "Epoch 13 Validation_Sample_Word_Accuracy 0.0000\n",
            "Time taken for 1 epoch 67.217702627182 sec\n",
            "\n",
            "Epoch 14 Batch 0 Loss 0.1065 Accuracy 0.9196\n",
            "Epoch 14 Batch 100 Loss 0.1005 Accuracy 0.9195\n",
            "Epoch 14 Loss 0.1016\n",
            "Epoch 14 Train Character_level Accuracy 0.9197\n",
            "Epoch 14 Train_Samplw_Word Accuracy 0.0000\n",
            "Epoch 14 Validation_Sample_Word_Accuracy 0.0000\n",
            "Time taken for 1 epoch 64.81943392753601 sec\n",
            "\n",
            "Epoch 15 Batch 0 Loss 0.1314 Accuracy 0.9079\n",
            "Epoch 15 Batch 100 Loss 0.1036 Accuracy 0.9208\n",
            "Epoch 15 Loss 0.0972\n",
            "Epoch 15 Train Character_level Accuracy 0.9210\n",
            "Epoch 15 Train_Samplw_Word Accuracy 0.0000\n",
            "Epoch 15 Validation_Sample_Word_Accuracy 0.0000\n",
            "Time taken for 1 epoch 62.32417392730713 sec\n",
            "\n",
            "Test Sample Word Accuracy = : 0.0\n"
          ],
          "name": "stdout"
        },
        {
          "output_type": "display_data",
          "data": {
            "text/html": [
              "<br/>Waiting for W&B process to finish, PID 823<br/>Program ended successfully."
            ],
            "text/plain": [
              "<IPython.core.display.HTML object>"
            ]
          },
          "metadata": {
            "tags": []
          }
        },
        {
          "output_type": "display_data",
          "data": {
            "application/vnd.jupyter.widget-view+json": {
              "model_id": "7369ae9742fd49c98e9418e62159604d",
              "version_major": 2,
              "version_minor": 0
            },
            "text/plain": [
              "VBox(children=(Label(value=' 0.00MB of 0.00MB uploaded (0.00MB deduped)\\r'), FloatProgress(value=1.0, max=1.0)…"
            ]
          },
          "metadata": {
            "tags": []
          }
        },
        {
          "output_type": "display_data",
          "data": {
            "text/html": [
              "Find user logs for this run at: <code>/content/wandb/run-20210525_075524-ygnj7y09/logs/debug.log</code>"
            ],
            "text/plain": [
              "<IPython.core.display.HTML object>"
            ]
          },
          "metadata": {
            "tags": []
          }
        },
        {
          "output_type": "display_data",
          "data": {
            "text/html": [
              "Find internal logs for this run at: <code>/content/wandb/run-20210525_075524-ygnj7y09/logs/debug-internal.log</code>"
            ],
            "text/plain": [
              "<IPython.core.display.HTML object>"
            ]
          },
          "metadata": {
            "tags": []
          }
        },
        {
          "output_type": "display_data",
          "data": {
            "text/html": [
              "<h3>Run summary:</h3><br/><style>\n",
              "    table.wandb td:nth-child(1) { padding: 0 10px; text-align: right }\n",
              "    </style><table class=\"wandb\">\n",
              "<tr><td>Train Loss</td><td>0.09722</td></tr><tr><td>_runtime</td><td>1224</td></tr><tr><td>_timestamp</td><td>1621930548</td></tr><tr><td>_step</td><td>60</td></tr><tr><td>Train Accuracy</td><td>0.92095</td></tr><tr><td>Train_Samplw_Word Accuracy</td><td>0.0</td></tr><tr><td>Validn_Samplw_Word Accuracy</td><td>0.0</td></tr><tr><td>Test_Sample_word_accuracy</td><td>0.0</td></tr></table>"
            ],
            "text/plain": [
              "<IPython.core.display.HTML object>"
            ]
          },
          "metadata": {
            "tags": []
          }
        },
        {
          "output_type": "display_data",
          "data": {
            "text/html": [
              "<h3>Run history:</h3><br/><style>\n",
              "    table.wandb td:nth-child(1) { padding: 0 10px; text-align: right }\n",
              "    </style><table class=\"wandb\">\n",
              "<tr><td>Train Loss</td><td>█▆▆▅▃▂▂▁▁▁▁▁▁▁▁</td></tr><tr><td>_runtime</td><td>▁▁▁▁▂▂▂▂▂▂▃▃▃▃▃▄▄▄▄▄▄▅▅▅▅▅▅▅▆▆▆▆▆▆▇▇▇▇▇█</td></tr><tr><td>_timestamp</td><td>▁▁▁▁▂▂▂▂▂▂▃▃▃▃▃▄▄▄▄▄▄▅▅▅▅▅▅▅▆▆▆▆▆▆▇▇▇▇▇█</td></tr><tr><td>_step</td><td>▁▁▁▁▂▂▂▂▂▃▃▃▃▃▃▄▄▄▄▄▅▅▅▅▅▅▆▆▆▆▆▆▇▇▇▇▇███</td></tr><tr><td>Train Accuracy</td><td>▁▂▂▃▆▇▇▇███████</td></tr><tr><td>Train_Samplw_Word Accuracy</td><td>▁▁▁▁▁▁█▁▁██▁▁▁▁</td></tr><tr><td>Validn_Samplw_Word Accuracy</td><td>▁▁▁▁▁▁▁▁▁█▁▁▁▁▁</td></tr><tr><td>Test_Sample_word_accuracy</td><td>▁</td></tr></table><br/>"
            ],
            "text/plain": [
              "<IPython.core.display.HTML object>"
            ]
          },
          "metadata": {
            "tags": []
          }
        },
        {
          "output_type": "display_data",
          "data": {
            "text/html": [
              "Synced 5 W&B file(s), 0 media file(s), 0 artifact file(s) and 0 other file(s)"
            ],
            "text/plain": [
              "<IPython.core.display.HTML object>"
            ]
          },
          "metadata": {
            "tags": []
          }
        },
        {
          "output_type": "display_data",
          "data": {
            "text/html": [
              "\n",
              "                    <br/>Synced <strong style=\"color:#cdcd00\">golden-sweep-14</strong>: <a href=\"https://wandb.ai/cs20m038/Assignment%203%20Part%202/runs/ygnj7y09\" target=\"_blank\">https://wandb.ai/cs20m038/Assignment%203%20Part%202/runs/ygnj7y09</a><br/>\n",
              "                "
            ],
            "text/plain": [
              "<IPython.core.display.HTML object>"
            ]
          },
          "metadata": {
            "tags": []
          }
        },
        {
          "output_type": "stream",
          "text": [
            "\u001b[34m\u001b[1mwandb\u001b[0m: Agent Starting Run: t3xc55wp with config:\n",
            "\u001b[34m\u001b[1mwandb\u001b[0m: \tEPOCHS: 15\n",
            "\u001b[34m\u001b[1mwandb\u001b[0m: \tattention_type: Luong\n",
            "\u001b[34m\u001b[1mwandb\u001b[0m: \tattention_unit: 50\n",
            "\u001b[34m\u001b[1mwandb\u001b[0m: \tbatch_size: 256\n",
            "\u001b[34m\u001b[1mwandb\u001b[0m: \tembedding_dim: 64\n",
            "\u001b[34m\u001b[1mwandb\u001b[0m: \tenc_dim: 1024\n",
            "\u001b[34m\u001b[1mwandb\u001b[0m: \tlr: 0.01\n",
            "\u001b[34m\u001b[1mwandb\u001b[0m: \tmax_epoch: 20\n",
            "\u001b[34m\u001b[1mwandb\u001b[0m: \toptimizers: rmsp\n",
            "\u001b[34m\u001b[1mwandb\u001b[0m: \tvocab_inp_size: 100\n",
            "\u001b[34m\u001b[1mwandb\u001b[0m: \tvocab_tar_size: 200\n"
          ],
          "name": "stderr"
        },
        {
          "output_type": "display_data",
          "data": {
            "text/html": [
              "\n",
              "                Tracking run with wandb version 0.10.30<br/>\n",
              "                Syncing run <strong style=\"color:#cdcd00\">summer-sweep-15</strong> to <a href=\"https://wandb.ai\" target=\"_blank\">Weights & Biases</a> <a href=\"https://docs.wandb.com/integrations/jupyter.html\" target=\"_blank\">(Documentation)</a>.<br/>\n",
              "                Project page: <a href=\"https://wandb.ai/cs20m038/Assignment%203%20Part%202\" target=\"_blank\">https://wandb.ai/cs20m038/Assignment%203%20Part%202</a><br/>\n",
              "                Sweep page: <a href=\"https://wandb.ai/cs20m038/Assignment%203%20Part%202/sweeps/38t7i5m2\" target=\"_blank\">https://wandb.ai/cs20m038/Assignment%203%20Part%202/sweeps/38t7i5m2</a><br/>\n",
              "Run page: <a href=\"https://wandb.ai/cs20m038/Assignment%203%20Part%202/runs/t3xc55wp\" target=\"_blank\">https://wandb.ai/cs20m038/Assignment%203%20Part%202/runs/t3xc55wp</a><br/>\n",
              "                Run data is saved locally in <code>/content/wandb/run-20210525_081555-t3xc55wp</code><br/><br/>\n",
              "            "
            ],
            "text/plain": [
              "<IPython.core.display.HTML object>"
            ]
          },
          "metadata": {
            "tags": []
          }
        },
        {
          "output_type": "stream",
          "text": [
            "Encoder output shape: (batch size, sequence length, units) (256, 22, 1024)\n",
            "Encoder Hidden state shape: (batch size, units) (256, 1024)\n",
            "query_with_time_axis:(batch_size, 1, hidden size)  (256, 1, 1024)\n",
            "score: (batch_size, max_length, 1)  (256, 22, 1)\n",
            "Attention result shape: (batch size, units) (256, 1024)\n",
            "Attention weights shape: (batch_size, sequence_length, 1) (256, 22, 1)\n",
            "Decoder output shape: (batch_size, vocab size) (256, 200)\n",
            "Epoch 1 Batch 0 Loss 5.0452 Accuracy 0.0009\n",
            "Epoch 1 Batch 100 Loss 1.1742 Accuracy 0.6564\n",
            "Epoch 1 Loss 1.4646\n",
            "Epoch 1 Train Character_level Accuracy 0.6472\n",
            "Epoch 1 Train_Samplw_Word Accuracy 0.0000\n",
            "Epoch 1 Validation_Sample_Word_Accuracy 0.0000\n",
            "Time taken for 1 epoch 78.72328019142151 sec\n",
            "\n",
            "Epoch 2 Batch 0 Loss 1.1331 Accuracy 0.6642\n",
            "Epoch 2 Batch 100 Loss 1.0653 Accuracy 0.6743\n",
            "Epoch 2 Loss 1.0910\n",
            "Epoch 2 Train Character_level Accuracy 0.6672\n",
            "Epoch 2 Train_Samplw_Word Accuracy 0.0000\n",
            "Epoch 2 Validation_Sample_Word_Accuracy 0.0000\n",
            "Time taken for 1 epoch 67.69564986228943 sec\n",
            "\n",
            "Epoch 3 Batch 0 Loss 1.0477 Accuracy 0.6778\n",
            "Epoch 3 Batch 100 Loss 1.0456 Accuracy 0.6702\n",
            "Epoch 3 Loss 1.0257\n",
            "Epoch 3 Train Character_level Accuracy 0.6756\n",
            "Epoch 3 Train_Samplw_Word Accuracy 0.0000\n",
            "Epoch 3 Validation_Sample_Word_Accuracy 0.0000\n",
            "Time taken for 1 epoch 70.02814769744873 sec\n",
            "\n",
            "Epoch 4 Batch 0 Loss 0.9902 Accuracy 0.6823\n",
            "Epoch 4 Batch 100 Loss 0.9228 Accuracy 0.6942\n",
            "Epoch 4 Loss 0.9489\n",
            "Epoch 4 Train Character_level Accuracy 0.6909\n",
            "Epoch 4 Train_Samplw_Word Accuracy 0.0000\n",
            "Epoch 4 Validation_Sample_Word_Accuracy 0.0000\n",
            "Time taken for 1 epoch 73.48437166213989 sec\n",
            "\n",
            "Epoch 5 Batch 0 Loss 0.9551 Accuracy 0.6886\n",
            "Epoch 5 Batch 100 Loss 0.8606 Accuracy 0.7126\n",
            "Epoch 5 Loss 0.8537\n",
            "Epoch 5 Train Character_level Accuracy 0.7132\n",
            "Epoch 5 Train_Samplw_Word Accuracy 0.6667\n",
            "Epoch 5 Validation_Sample_Word_Accuracy 0.0000\n",
            "Time taken for 1 epoch 82.50186252593994 sec\n",
            "\n",
            "Epoch 6 Batch 0 Loss 0.8311 Accuracy 0.7163\n",
            "Epoch 6 Batch 100 Loss 0.7455 Accuracy 0.7360\n",
            "Epoch 6 Loss 0.7623\n",
            "Epoch 6 Train Character_level Accuracy 0.7308\n",
            "Epoch 6 Train_Samplw_Word Accuracy 0.0000\n",
            "Epoch 6 Validation_Sample_Word_Accuracy 0.0000\n",
            "Time taken for 1 epoch 75.40514969825745 sec\n",
            "\n",
            "Epoch 7 Batch 0 Loss 0.7419 Accuracy 0.7294\n",
            "Epoch 7 Batch 100 Loss 0.7010 Accuracy 0.7435\n",
            "Epoch 7 Loss 0.6962\n",
            "Epoch 7 Train Character_level Accuracy 0.7435\n",
            "Epoch 7 Train_Samplw_Word Accuracy 0.0000\n",
            "Epoch 7 Validation_Sample_Word_Accuracy 0.0000\n",
            "Time taken for 1 epoch 93.29701685905457 sec\n",
            "\n",
            "Epoch 8 Batch 0 Loss 0.6948 Accuracy 0.7401\n",
            "Epoch 8 Batch 100 Loss 0.5773 Accuracy 0.7846\n",
            "Epoch 8 Loss 0.6267\n",
            "Epoch 8 Train Character_level Accuracy 0.7600\n",
            "Epoch 8 Train_Samplw_Word Accuracy 0.0000\n",
            "Epoch 8 Validation_Sample_Word_Accuracy 0.0000\n",
            "Time taken for 1 epoch 114.2750289440155 sec\n",
            "\n",
            "Epoch 9 Batch 0 Loss 0.5949 Accuracy 0.7669\n",
            "Epoch 9 Batch 100 Loss 0.5659 Accuracy 0.7749\n",
            "Epoch 9 Loss 0.5472\n",
            "Epoch 9 Train Character_level Accuracy 0.7827\n",
            "Epoch 9 Train_Samplw_Word Accuracy 0.0000\n",
            "Epoch 9 Validation_Sample_Word_Accuracy 0.0000\n",
            "Time taken for 1 epoch 116.66938900947571 sec\n",
            "\n",
            "Epoch 10 Batch 0 Loss 0.4833 Accuracy 0.8008\n",
            "Epoch 10 Batch 100 Loss 0.4212 Accuracy 0.8220\n",
            "Epoch 10 Loss 0.4562\n",
            "Epoch 10 Train Character_level Accuracy 0.8092\n",
            "Epoch 10 Train_Samplw_Word Accuracy 0.0000\n",
            "Epoch 10 Validation_Sample_Word_Accuracy 0.0000\n",
            "Time taken for 1 epoch 116.381995677948 sec\n",
            "\n",
            "Epoch 11 Batch 0 Loss 0.3978 Accuracy 0.8274\n",
            "Epoch 11 Batch 100 Loss 0.4556 Accuracy 0.8095\n",
            "Epoch 11 Loss 0.4159\n",
            "Epoch 11 Train Character_level Accuracy 0.8222\n",
            "Epoch 11 Train_Samplw_Word Accuracy 0.0000\n",
            "Epoch 11 Validation_Sample_Word_Accuracy 0.0000\n",
            "Time taken for 1 epoch 116.18117499351501 sec\n",
            "\n",
            "Epoch 12 Batch 0 Loss 0.3763 Accuracy 0.8343\n",
            "Epoch 12 Batch 100 Loss 0.4411 Accuracy 0.8097\n",
            "Epoch 12 Loss 0.4071\n",
            "Epoch 12 Train Character_level Accuracy 0.8250\n",
            "Epoch 12 Train_Samplw_Word Accuracy 0.0000\n",
            "Epoch 12 Validation_Sample_Word_Accuracy 0.0000\n",
            "Time taken for 1 epoch 115.2900869846344 sec\n",
            "\n",
            "Epoch 13 Batch 0 Loss 0.3965 Accuracy 0.8279\n",
            "Epoch 13 Batch 100 Loss 0.4938 Accuracy 0.8038\n",
            "Epoch 13 Loss 0.3924\n",
            "Epoch 13 Train Character_level Accuracy 0.8289\n",
            "Epoch 13 Train_Samplw_Word Accuracy 0.0000\n",
            "Epoch 13 Validation_Sample_Word_Accuracy 0.0000\n",
            "Time taken for 1 epoch 117.84769892692566 sec\n",
            "\n",
            "Epoch 14 Batch 0 Loss 0.3512 Accuracy 0.8371\n",
            "Epoch 14 Batch 100 Loss 0.3257 Accuracy 0.8521\n",
            "Epoch 14 Loss 0.3672\n",
            "Epoch 14 Train Character_level Accuracy 0.8371\n",
            "Epoch 14 Train_Samplw_Word Accuracy 0.0000\n",
            "Epoch 14 Validation_Sample_Word_Accuracy 0.0000\n",
            "Time taken for 1 epoch 117.6062684059143 sec\n",
            "\n",
            "Epoch 15 Batch 0 Loss 0.3665 Accuracy 0.8421\n",
            "Epoch 15 Batch 100 Loss 0.4169 Accuracy 0.8207\n",
            "Epoch 15 Loss 0.3674\n",
            "Epoch 15 Train Character_level Accuracy 0.8364\n",
            "Epoch 15 Train_Samplw_Word Accuracy 0.0000\n",
            "Epoch 15 Validation_Sample_Word_Accuracy 0.0000\n",
            "Time taken for 1 epoch 116.43426036834717 sec\n",
            "\n",
            "Test Sample Word Accuracy = : 0.0\n"
          ],
          "name": "stdout"
        },
        {
          "output_type": "display_data",
          "data": {
            "text/html": [
              "<br/>Waiting for W&B process to finish, PID 870<br/>Program ended successfully."
            ],
            "text/plain": [
              "<IPython.core.display.HTML object>"
            ]
          },
          "metadata": {
            "tags": []
          }
        },
        {
          "output_type": "display_data",
          "data": {
            "application/vnd.jupyter.widget-view+json": {
              "model_id": "ebed909c31bd4076b4293131f9d09217",
              "version_minor": 0,
              "version_major": 2
            },
            "text/plain": [
              "VBox(children=(Label(value=' 0.00MB of 0.00MB uploaded (0.00MB deduped)\\r'), FloatProgress(value=1.0, max=1.0)…"
            ]
          },
          "metadata": {
            "tags": []
          }
        },
        {
          "output_type": "display_data",
          "data": {
            "text/html": [
              "Find user logs for this run at: <code>/content/wandb/run-20210525_081555-t3xc55wp/logs/debug.log</code>"
            ],
            "text/plain": [
              "<IPython.core.display.HTML object>"
            ]
          },
          "metadata": {
            "tags": []
          }
        },
        {
          "output_type": "display_data",
          "data": {
            "text/html": [
              "Find internal logs for this run at: <code>/content/wandb/run-20210525_081555-t3xc55wp/logs/debug-internal.log</code>"
            ],
            "text/plain": [
              "<IPython.core.display.HTML object>"
            ]
          },
          "metadata": {
            "tags": []
          }
        },
        {
          "output_type": "display_data",
          "data": {
            "text/html": [
              "<h3>Run summary:</h3><br/><style>\n",
              "    table.wandb td:nth-child(1) { padding: 0 10px; text-align: right }\n",
              "    </style><table class=\"wandb\">\n",
              "<tr><td>Train Loss</td><td>0.36735</td></tr><tr><td>_runtime</td><td>1667</td></tr><tr><td>_timestamp</td><td>1621932222</td></tr><tr><td>_step</td><td>60</td></tr><tr><td>Train Accuracy</td><td>0.83643</td></tr><tr><td>Train_Samplw_Word Accuracy</td><td>0.0</td></tr><tr><td>Validn_Samplw_Word Accuracy</td><td>0.0</td></tr><tr><td>Test_Sample_word_accuracy</td><td>0.0</td></tr></table>"
            ],
            "text/plain": [
              "<IPython.core.display.HTML object>"
            ]
          },
          "metadata": {
            "tags": []
          }
        },
        {
          "output_type": "display_data",
          "data": {
            "text/html": [
              "<h3>Run history:</h3><br/><style>\n",
              "    table.wandb td:nth-child(1) { padding: 0 10px; text-align: right }\n",
              "    </style><table class=\"wandb\">\n",
              "<tr><td>Train Loss</td><td>█▆▅▅▄▄▃▃▂▂▁▁▁▁▁</td></tr><tr><td>_runtime</td><td>▁▁▁▁▁▁▂▂▂▂▂▂▂▃▃▃▃▃▃▃▄▄▄▄▄▅▅▅▅▅▆▆▆▆▆▆▇▇▇█</td></tr><tr><td>_timestamp</td><td>▁▁▁▁▁▁▂▂▂▂▂▂▂▃▃▃▃▃▃▃▄▄▄▄▄▅▅▅▅▅▆▆▆▆▆▆▇▇▇█</td></tr><tr><td>_step</td><td>▁▁▁▁▂▂▂▂▂▃▃▃▃▃▃▄▄▄▄▄▅▅▅▅▅▅▆▆▆▆▆▆▇▇▇▇▇███</td></tr><tr><td>Train Accuracy</td><td>▁▂▂▃▃▄▅▅▆▇▇████</td></tr><tr><td>Train_Samplw_Word Accuracy</td><td>▁▁▁▁█▁▁▁▁▁▁▁▁▁▁</td></tr><tr><td>Validn_Samplw_Word Accuracy</td><td>▁▁▁▁▁▁▁▁▁▁▁▁▁▁▁</td></tr><tr><td>Test_Sample_word_accuracy</td><td>▁</td></tr></table><br/>"
            ],
            "text/plain": [
              "<IPython.core.display.HTML object>"
            ]
          },
          "metadata": {
            "tags": []
          }
        },
        {
          "output_type": "display_data",
          "data": {
            "text/html": [
              "Synced 5 W&B file(s), 0 media file(s), 0 artifact file(s) and 0 other file(s)"
            ],
            "text/plain": [
              "<IPython.core.display.HTML object>"
            ]
          },
          "metadata": {
            "tags": []
          }
        },
        {
          "output_type": "display_data",
          "data": {
            "text/html": [
              "\n",
              "                    <br/>Synced <strong style=\"color:#cdcd00\">summer-sweep-15</strong>: <a href=\"https://wandb.ai/cs20m038/Assignment%203%20Part%202/runs/t3xc55wp\" target=\"_blank\">https://wandb.ai/cs20m038/Assignment%203%20Part%202/runs/t3xc55wp</a><br/>\n",
              "                "
            ],
            "text/plain": [
              "<IPython.core.display.HTML object>"
            ]
          },
          "metadata": {
            "tags": []
          }
        },
        {
          "output_type": "stream",
          "text": [
            "\u001b[34m\u001b[1mwandb\u001b[0m: Agent Starting Run: vjfi4082 with config:\n",
            "\u001b[34m\u001b[1mwandb\u001b[0m: \tEPOCHS: 20\n",
            "\u001b[34m\u001b[1mwandb\u001b[0m: \tattention_type: Bahdanau\n",
            "\u001b[34m\u001b[1mwandb\u001b[0m: \tattention_unit: 50\n",
            "\u001b[34m\u001b[1mwandb\u001b[0m: \tbatch_size: 256\n",
            "\u001b[34m\u001b[1mwandb\u001b[0m: \tembedding_dim: 256\n",
            "\u001b[34m\u001b[1mwandb\u001b[0m: \tenc_dim: 256\n",
            "\u001b[34m\u001b[1mwandb\u001b[0m: \tlr: 0.001\n",
            "\u001b[34m\u001b[1mwandb\u001b[0m: \tmax_epoch: 10\n",
            "\u001b[34m\u001b[1mwandb\u001b[0m: \toptimizers: adam\n",
            "\u001b[34m\u001b[1mwandb\u001b[0m: \tvocab_inp_size: 50\n",
            "\u001b[34m\u001b[1mwandb\u001b[0m: \tvocab_tar_size: 250\n"
          ],
          "name": "stderr"
        },
        {
          "output_type": "display_data",
          "data": {
            "text/html": [
              "\n",
              "                Tracking run with wandb version 0.10.30<br/>\n",
              "                Syncing run <strong style=\"color:#cdcd00\">woven-sweep-16</strong> to <a href=\"https://wandb.ai\" target=\"_blank\">Weights & Biases</a> <a href=\"https://docs.wandb.com/integrations/jupyter.html\" target=\"_blank\">(Documentation)</a>.<br/>\n",
              "                Project page: <a href=\"https://wandb.ai/cs20m038/Assignment%203%20Part%202\" target=\"_blank\">https://wandb.ai/cs20m038/Assignment%203%20Part%202</a><br/>\n",
              "                Sweep page: <a href=\"https://wandb.ai/cs20m038/Assignment%203%20Part%202/sweeps/38t7i5m2\" target=\"_blank\">https://wandb.ai/cs20m038/Assignment%203%20Part%202/sweeps/38t7i5m2</a><br/>\n",
              "Run page: <a href=\"https://wandb.ai/cs20m038/Assignment%203%20Part%202/runs/vjfi4082\" target=\"_blank\">https://wandb.ai/cs20m038/Assignment%203%20Part%202/runs/vjfi4082</a><br/>\n",
              "                Run data is saved locally in <code>/content/wandb/run-20210525_084350-vjfi4082</code><br/><br/>\n",
              "            "
            ],
            "text/plain": [
              "<IPython.core.display.HTML object>"
            ]
          },
          "metadata": {
            "tags": []
          }
        },
        {
          "output_type": "stream",
          "text": [
            "Encoder output shape: (batch size, sequence length, units) (256, 22, 256)\n",
            "Encoder Hidden state shape: (batch size, units) (256, 256)\n",
            "Attention result shape: (batch size, units) (256, 256)\n",
            "Attention weights shape: (batch_size, sequence_length, 1) (256, 22, 1)\n",
            "Decoder output shape: (batch_size, vocab size) (256, 250)\n",
            "Epoch 1 Batch 0 Loss 5.2546 Accuracy 0.0002\n",
            "Epoch 1 Batch 100 Loss 1.0746 Accuracy 0.6780\n",
            "Epoch 1 Loss 1.4044\n",
            "Epoch 1 Train Character_level Accuracy 0.6593\n",
            "Epoch 1 Train_Samplw_Word Accuracy 0.0000\n",
            "Epoch 1 Validation_Sample_Word_Accuracy 0.0000\n",
            "Time taken for 1 epoch 80.82644295692444 sec\n",
            "\n",
            "Epoch 2 Batch 0 Loss 1.0304 Accuracy 0.6752\n",
            "Epoch 2 Batch 100 Loss 0.9573 Accuracy 0.6981\n",
            "Epoch 2 Loss 0.9628\n",
            "Epoch 2 Train Character_level Accuracy 0.6942\n",
            "Epoch 2 Train_Samplw_Word Accuracy 0.0000\n",
            "Epoch 2 Validation_Sample_Word_Accuracy 0.0000\n",
            "Time taken for 1 epoch 66.73927068710327 sec\n",
            "\n",
            "Epoch 3 Batch 0 Loss 0.9217 Accuracy 0.7037\n",
            "Epoch 3 Batch 100 Loss 0.8794 Accuracy 0.7117\n",
            "Epoch 3 Loss 0.9048\n",
            "Epoch 3 Train Character_level Accuracy 0.7060\n",
            "Epoch 3 Train_Samplw_Word Accuracy 0.0000\n",
            "Epoch 3 Validation_Sample_Word_Accuracy 0.0000\n",
            "Time taken for 1 epoch 58.09048318862915 sec\n",
            "\n",
            "Epoch 4 Batch 0 Loss 0.8400 Accuracy 0.7199\n",
            "Epoch 4 Batch 100 Loss 0.8176 Accuracy 0.7227\n",
            "Epoch 4 Loss 0.8242\n",
            "Epoch 4 Train Character_level Accuracy 0.7217\n",
            "Epoch 4 Train_Samplw_Word Accuracy 0.0000\n",
            "Epoch 4 Validation_Sample_Word_Accuracy 0.0000\n",
            "Time taken for 1 epoch 67.14423489570618 sec\n",
            "\n",
            "Epoch 5 Batch 0 Loss 0.7409 Accuracy 0.7440\n",
            "Epoch 5 Batch 100 Loss 0.5182 Accuracy 0.8038\n",
            "Epoch 5 Loss 0.5894\n",
            "Epoch 5 Train Character_level Accuracy 0.7854\n",
            "Epoch 5 Train_Samplw_Word Accuracy 0.0000\n",
            "Epoch 5 Validation_Sample_Word_Accuracy 0.0000\n",
            "Time taken for 1 epoch 58.772040367126465 sec\n",
            "\n",
            "Epoch 6 Batch 0 Loss 0.3994 Accuracy 0.8380\n",
            "Epoch 6 Batch 100 Loss 0.3055 Accuracy 0.8627\n",
            "Epoch 6 Loss 0.3325\n",
            "Epoch 6 Train Character_level Accuracy 0.8547\n",
            "Epoch 6 Train_Samplw_Word Accuracy 0.0000\n",
            "Epoch 6 Validation_Sample_Word_Accuracy 0.0000\n",
            "Time taken for 1 epoch 34.43879675865173 sec\n",
            "\n",
            "Epoch 7 Batch 0 Loss 0.2820 Accuracy 0.8694\n",
            "Epoch 7 Batch 100 Loss 0.2691 Accuracy 0.8730\n",
            "Epoch 7 Loss 0.2565\n",
            "Epoch 7 Train Character_level Accuracy 0.8744\n",
            "Epoch 7 Train_Samplw_Word Accuracy 0.0000\n",
            "Epoch 7 Validation_Sample_Word_Accuracy 0.0000\n",
            "Time taken for 1 epoch 26.567285776138306 sec\n",
            "\n",
            "Epoch 8 Batch 0 Loss 0.2573 Accuracy 0.8728\n",
            "Epoch 8 Batch 100 Loss 0.2546 Accuracy 0.8694\n",
            "Epoch 8 Loss 0.2244\n",
            "Epoch 8 Train Character_level Accuracy 0.8828\n",
            "Epoch 8 Train_Samplw_Word Accuracy 0.0000\n",
            "Epoch 8 Validation_Sample_Word_Accuracy 0.6667\n",
            "Time taken for 1 epoch 25.38646101951599 sec\n",
            "\n",
            "Epoch 9 Batch 0 Loss 0.2095 Accuracy 0.8834\n",
            "Epoch 9 Batch 100 Loss 0.1716 Accuracy 0.8969\n",
            "Epoch 9 Loss 0.1999\n",
            "Epoch 9 Train Character_level Accuracy 0.8901\n",
            "Epoch 9 Train_Samplw_Word Accuracy 0.0000\n",
            "Epoch 9 Validation_Sample_Word_Accuracy 0.0000\n",
            "Time taken for 1 epoch 26.309932470321655 sec\n",
            "\n",
            "Epoch 10 Batch 0 Loss 0.1742 Accuracy 0.8997\n",
            "Epoch 10 Batch 100 Loss 0.1717 Accuracy 0.8973\n",
            "Epoch 10 Loss 0.1840\n",
            "Epoch 10 Train Character_level Accuracy 0.8947\n",
            "Epoch 10 Train_Samplw_Word Accuracy 0.0000\n",
            "Epoch 10 Validation_Sample_Word_Accuracy 0.0000\n",
            "Time taken for 1 epoch 27.017843008041382 sec\n",
            "\n",
            "Epoch 11 Batch 0 Loss 0.1751 Accuracy 0.8986\n",
            "Epoch 11 Batch 100 Loss 0.1929 Accuracy 0.8962\n",
            "Epoch 11 Loss 0.1716\n",
            "Epoch 11 Train Character_level Accuracy 0.8983\n",
            "Epoch 11 Train_Samplw_Word Accuracy 0.0000\n",
            "Epoch 11 Validation_Sample_Word_Accuracy 0.0000\n",
            "Time taken for 1 epoch 28.992138147354126 sec\n",
            "\n",
            "Epoch 12 Batch 0 Loss 0.1695 Accuracy 0.8973\n",
            "Epoch 12 Batch 100 Loss 0.1444 Accuracy 0.9055\n",
            "Epoch 12 Loss 0.1603\n",
            "Epoch 12 Train Character_level Accuracy 0.9016\n",
            "Epoch 12 Train_Samplw_Word Accuracy 0.0000\n",
            "Epoch 12 Validation_Sample_Word_Accuracy 0.0000\n",
            "Time taken for 1 epoch 27.69288396835327 sec\n",
            "\n",
            "Epoch 13 Batch 0 Loss 0.1610 Accuracy 0.8999\n",
            "Epoch 13 Batch 100 Loss 0.1537 Accuracy 0.9010\n",
            "Epoch 13 Loss 0.1505\n",
            "Epoch 13 Train Character_level Accuracy 0.9049\n",
            "Epoch 13 Train_Samplw_Word Accuracy 1.3333\n",
            "Epoch 13 Validation_Sample_Word_Accuracy 0.6667\n",
            "Time taken for 1 epoch 26.67557454109192 sec\n",
            "\n",
            "Epoch 14 Batch 0 Loss 0.1492 Accuracy 0.9074\n",
            "Epoch 14 Batch 100 Loss 0.1376 Accuracy 0.9057\n",
            "Epoch 14 Loss 0.1436\n",
            "Epoch 14 Train Character_level Accuracy 0.9069\n",
            "Epoch 14 Train_Samplw_Word Accuracy 0.0000\n",
            "Epoch 14 Validation_Sample_Word_Accuracy 0.0000\n",
            "Time taken for 1 epoch 28.503565073013306 sec\n",
            "\n",
            "Epoch 15 Batch 0 Loss 0.1236 Accuracy 0.9139\n",
            "Epoch 15 Batch 100 Loss 0.1339 Accuracy 0.9124\n",
            "Epoch 15 Loss 0.1372\n",
            "Epoch 15 Train Character_level Accuracy 0.9087\n",
            "Epoch 15 Train_Samplw_Word Accuracy 0.6667\n",
            "Epoch 15 Validation_Sample_Word_Accuracy 0.6667\n",
            "Time taken for 1 epoch 30.907971620559692 sec\n",
            "\n",
            "Epoch 16 Batch 0 Loss 0.1169 Accuracy 0.9163\n",
            "Epoch 16 Batch 100 Loss 0.1337 Accuracy 0.9076\n",
            "Epoch 16 Loss 0.1308\n",
            "Epoch 16 Train Character_level Accuracy 0.9108\n",
            "Epoch 16 Train_Samplw_Word Accuracy 0.6667\n",
            "Epoch 16 Validation_Sample_Word_Accuracy 0.0000\n",
            "Time taken for 1 epoch 29.77279496192932 sec\n",
            "\n",
            "Epoch 17 Batch 0 Loss 0.1386 Accuracy 0.9109\n",
            "Epoch 17 Batch 100 Loss 0.1007 Accuracy 0.9182\n",
            "Epoch 17 Loss 0.1239\n",
            "Epoch 17 Train Character_level Accuracy 0.9130\n",
            "Epoch 17 Train_Samplw_Word Accuracy 0.6667\n",
            "Epoch 17 Validation_Sample_Word_Accuracy 0.0000\n",
            "Time taken for 1 epoch 30.64663052558899 sec\n",
            "\n",
            "Epoch 18 Batch 0 Loss 0.1017 Accuracy 0.9182\n",
            "Epoch 18 Batch 100 Loss 0.1142 Accuracy 0.9141\n",
            "Epoch 18 Loss 0.1179\n",
            "Epoch 18 Train Character_level Accuracy 0.9149\n",
            "Epoch 18 Train_Samplw_Word Accuracy 1.3333\n",
            "Epoch 18 Validation_Sample_Word_Accuracy 0.0000\n",
            "Time taken for 1 epoch 31.824563026428223 sec\n",
            "\n",
            "Epoch 19 Batch 0 Loss 0.1159 Accuracy 0.9161\n",
            "Epoch 19 Batch 100 Loss 0.1091 Accuracy 0.9178\n",
            "Epoch 19 Loss 0.1156\n",
            "Epoch 19 Train Character_level Accuracy 0.9156\n",
            "Epoch 19 Train_Samplw_Word Accuracy 0.6667\n",
            "Epoch 19 Validation_Sample_Word_Accuracy 2.0000\n",
            "Time taken for 1 epoch 32.7156298160553 sec\n",
            "\n",
            "Epoch 20 Batch 0 Loss 0.1175 Accuracy 0.9161\n",
            "Epoch 20 Batch 100 Loss 0.1103 Accuracy 0.9187\n",
            "Epoch 20 Loss 0.1076\n",
            "Epoch 20 Train Character_level Accuracy 0.9183\n",
            "Epoch 20 Train_Samplw_Word Accuracy 0.0000\n",
            "Epoch 20 Validation_Sample_Word_Accuracy 0.6667\n",
            "Time taken for 1 epoch 30.418606996536255 sec\n",
            "\n"
          ],
          "name": "stdout"
        }
      ]
    }
  ]
}