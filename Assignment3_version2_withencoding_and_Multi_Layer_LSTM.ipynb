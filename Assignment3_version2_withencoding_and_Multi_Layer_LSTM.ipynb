{
  "nbformat": 4,
  "nbformat_minor": 0,
  "metadata": {
    "colab": {
      "name": "Assignment3_version2_withencoding_and_Multi_Layer_LSTM.ipynb",
      "provenance": [],
      "include_colab_link": true
    },
    "kernelspec": {
      "name": "python3",
      "display_name": "Python 3"
    },
    "language_info": {
      "name": "python"
    },
    "accelerator": "GPU"
  },
  "cells": [
    {
      "cell_type": "markdown",
      "metadata": {
        "id": "view-in-github",
        "colab_type": "text"
      },
      "source": [
        "<a href=\"https://colab.research.google.com/github/CS20M038/CS6910-assignment_3/blob/main/Assignment3_version2_withencoding_and_Multi_Layer_LSTM.ipynb\" target=\"_parent\"><img src=\"https://colab.research.google.com/assets/colab-badge.svg\" alt=\"Open In Colab\"/></a>"
      ]
    },
    {
      "cell_type": "code",
      "metadata": {
        "id": "r9FRhJZG4Tlj"
      },
      "source": [
        "#@title Import Libraries\n",
        "from random import randint\n",
        "from numpy import array\n",
        "from numpy import argmax\n",
        "import keras.backend as K\n",
        "from tensorflow.keras import models\n",
        "from numpy import array_equal\n",
        "import numpy as np\n",
        "from tensorflow.keras.models import Sequential, Model\n",
        "from tensorflow.keras.layers import LSTM, Bidirectional\n",
        "from tensorflow.keras.layers import Dense, Flatten\n",
        "from tensorflow.keras import Input\n",
        "from tensorflow.keras.layers import TimeDistributed\n",
        "from tensorflow.keras.layers import RepeatVector\n",
        "from tensorflow.keras.callbacks import EarlyStopping\n",
        "from tensorflow.keras.utils import plot_model\n",
        "from tensorflow.keras.models import load_model\n",
        "import matplotlib.pyplot as plt\n",
        "\n",
        "from tensorflow.keras.layers import Lambda\n",
        "from tensorflow.keras import backend as K\n",
        "\n",
        "from scipy.ndimage.interpolation import shift\n",
        "import csv\n",
        "import random\n",
        "from numpy import array\n",
        "from keras.preprocessing.text import one_hot\n",
        "from keras.preprocessing.sequence import pad_sequences\n",
        "from keras.models import Sequential\n",
        "from keras.layers import Dense\n",
        "from keras.layers import Flatten\n",
        "from keras.layers.embeddings import Embedding"
      ],
      "execution_count": null,
      "outputs": []
    },
    {
      "cell_type": "code",
      "metadata": {
        "colab": {
          "base_uri": "https://localhost:8080/"
        },
        "id": "EIaBBs1MQ3t_",
        "outputId": "3c9d4c93-3fb7-4d42-b20a-88909f961653"
      },
      "source": [
        "#@title Check GPU\n",
        "%tensorflow_version 2.x\n",
        "import tensorflow as tf\n",
        "device_name = tf.test.gpu_device_name()\n",
        "if device_name != '/device:GPU:0':\n",
        "  print('GPU device not found')\n",
        "else:\n",
        "  print('Found GPU at: {}'.format(device_name))"
      ],
      "execution_count": null,
      "outputs": [
        {
          "output_type": "stream",
          "text": [
            "Found GPU at: /device:GPU:0\n"
          ],
          "name": "stdout"
        }
      ]
    },
    {
      "cell_type": "code",
      "metadata": {
        "id": "mVCJoGo1x1kQ"
      },
      "source": [
        "input_characters =[' ']\n",
        "target_characters = [' ']"
      ],
      "execution_count": null,
      "outputs": []
    },
    {
      "cell_type": "code",
      "metadata": {
        "colab": {
          "base_uri": "https://localhost:8080/"
        },
        "id": "Gy16qpTY4Wgr",
        "outputId": "9f818f30-5918-4269-8c6e-f70d5401264f"
      },
      "source": [
        "input_dict=['-PAD-']\n",
        "target_dict=['-PAD-']\n",
        "eng_alphabets = 'abcdefghijklmnopqrstuvwxyz'\n",
        "pad_char = '-PAD-'\n",
        "\n",
        "eng_alpha2index = {pad_char: 0}\n",
        "for index, alpha in enumerate(eng_alphabets):\n",
        "    eng_alpha2index[alpha] = index+1\n",
        "    input_dict.append(alpha)\n",
        "\n",
        "print(eng_alpha2index)\n",
        "print(input_dict)\n",
        "# Hindi Unicode Hex Range is 2304:2432. Source: https://en.wikipedia.org/wiki/Devanagari_(Unicode_block)\n",
        "\n",
        "hindi_alphabets = [chr(alpha) for alpha in range(2304, 2432)]\n",
        "hindi_alphabet_size = len(hindi_alphabets)\n",
        "\n",
        "hindi_alpha2index = {pad_char: 0}\n",
        "for index, alpha in enumerate(hindi_alphabets):\n",
        "    hindi_alpha2index[alpha] = index+1\n",
        "    target_dict.append(alpha)\n",
        "    #print(alpha)\n",
        "\n",
        "print(hindi_alpha2index)\n",
        "print(target_dict)\n",
        "\n",
        "\n",
        "# Hindi Unicode Hex Range is 2304:2432. Source: https://en.wikipedia.org/wiki/Devanagari_(Unicode_block)\n",
        "\n",
        "hindi_alphabets = [chr(alpha) for alpha in range(2304, 2432)]\n",
        "hindi_alphabet_size = len(hindi_alphabets)\n",
        "\n",
        "hindi_index2alpha = {0: pad_char}\n",
        "for index, alpha in enumerate(hindi_alphabets):\n",
        "    hindi_index2alpha[index+1] = alpha\n",
        "   # target_dict.append(alpha)\n",
        "    #print(alpha)\n",
        "\n",
        "print(hindi_index2alpha)\n",
        "\n",
        "eng_alphabets = 'abcdefghijklmnopqrstuvwxyz'\n",
        "eng_index2alpha = {0: pad_char}\n",
        "for index, alpha in enumerate(eng_alphabets):\n",
        "    eng_index2alpha[index+1] = alpha\n",
        "   # target_dict.append(alpha)\n",
        "    #print(alpha)\n",
        "\n",
        "print(eng_index2alpha)"
      ],
      "execution_count": null,
      "outputs": [
        {
          "output_type": "stream",
          "text": [
            "{'-PAD-': 0, 'a': 1, 'b': 2, 'c': 3, 'd': 4, 'e': 5, 'f': 6, 'g': 7, 'h': 8, 'i': 9, 'j': 10, 'k': 11, 'l': 12, 'm': 13, 'n': 14, 'o': 15, 'p': 16, 'q': 17, 'r': 18, 's': 19, 't': 20, 'u': 21, 'v': 22, 'w': 23, 'x': 24, 'y': 25, 'z': 26}\n",
            "['-PAD-', 'a', 'b', 'c', 'd', 'e', 'f', 'g', 'h', 'i', 'j', 'k', 'l', 'm', 'n', 'o', 'p', 'q', 'r', 's', 't', 'u', 'v', 'w', 'x', 'y', 'z']\n",
            "{'-PAD-': 0, 'ऀ': 1, 'ँ': 2, 'ं': 3, 'ः': 4, 'ऄ': 5, 'अ': 6, 'आ': 7, 'इ': 8, 'ई': 9, 'उ': 10, 'ऊ': 11, 'ऋ': 12, 'ऌ': 13, 'ऍ': 14, 'ऎ': 15, 'ए': 16, 'ऐ': 17, 'ऑ': 18, 'ऒ': 19, 'ओ': 20, 'औ': 21, 'क': 22, 'ख': 23, 'ग': 24, 'घ': 25, 'ङ': 26, 'च': 27, 'छ': 28, 'ज': 29, 'झ': 30, 'ञ': 31, 'ट': 32, 'ठ': 33, 'ड': 34, 'ढ': 35, 'ण': 36, 'त': 37, 'थ': 38, 'द': 39, 'ध': 40, 'न': 41, 'ऩ': 42, 'प': 43, 'फ': 44, 'ब': 45, 'भ': 46, 'म': 47, 'य': 48, 'र': 49, 'ऱ': 50, 'ल': 51, 'ळ': 52, 'ऴ': 53, 'व': 54, 'श': 55, 'ष': 56, 'स': 57, 'ह': 58, 'ऺ': 59, 'ऻ': 60, '़': 61, 'ऽ': 62, 'ा': 63, 'ि': 64, 'ी': 65, 'ु': 66, 'ू': 67, 'ृ': 68, 'ॄ': 69, 'ॅ': 70, 'ॆ': 71, 'े': 72, 'ै': 73, 'ॉ': 74, 'ॊ': 75, 'ो': 76, 'ौ': 77, '्': 78, 'ॎ': 79, 'ॏ': 80, 'ॐ': 81, '॑': 82, '॒': 83, '॓': 84, '॔': 85, 'ॕ': 86, 'ॖ': 87, 'ॗ': 88, 'क़': 89, 'ख़': 90, 'ग़': 91, 'ज़': 92, 'ड़': 93, 'ढ़': 94, 'फ़': 95, 'य़': 96, 'ॠ': 97, 'ॡ': 98, 'ॢ': 99, 'ॣ': 100, '।': 101, '॥': 102, '०': 103, '१': 104, '२': 105, '३': 106, '४': 107, '५': 108, '६': 109, '७': 110, '८': 111, '९': 112, '॰': 113, 'ॱ': 114, 'ॲ': 115, 'ॳ': 116, 'ॴ': 117, 'ॵ': 118, 'ॶ': 119, 'ॷ': 120, 'ॸ': 121, 'ॹ': 122, 'ॺ': 123, 'ॻ': 124, 'ॼ': 125, 'ॽ': 126, 'ॾ': 127, 'ॿ': 128}\n",
            "['-PAD-', 'ऀ', 'ँ', 'ं', 'ः', 'ऄ', 'अ', 'आ', 'इ', 'ई', 'उ', 'ऊ', 'ऋ', 'ऌ', 'ऍ', 'ऎ', 'ए', 'ऐ', 'ऑ', 'ऒ', 'ओ', 'औ', 'क', 'ख', 'ग', 'घ', 'ङ', 'च', 'छ', 'ज', 'झ', 'ञ', 'ट', 'ठ', 'ड', 'ढ', 'ण', 'त', 'थ', 'द', 'ध', 'न', 'ऩ', 'प', 'फ', 'ब', 'भ', 'म', 'य', 'र', 'ऱ', 'ल', 'ळ', 'ऴ', 'व', 'श', 'ष', 'स', 'ह', 'ऺ', 'ऻ', '़', 'ऽ', 'ा', 'ि', 'ी', 'ु', 'ू', 'ृ', 'ॄ', 'ॅ', 'ॆ', 'े', 'ै', 'ॉ', 'ॊ', 'ो', 'ौ', '्', 'ॎ', 'ॏ', 'ॐ', '॑', '॒', '॓', '॔', 'ॕ', 'ॖ', 'ॗ', 'क़', 'ख़', 'ग़', 'ज़', 'ड़', 'ढ़', 'फ़', 'य़', 'ॠ', 'ॡ', 'ॢ', 'ॣ', '।', '॥', '०', '१', '२', '३', '४', '५', '६', '७', '८', '९', '॰', 'ॱ', 'ॲ', 'ॳ', 'ॴ', 'ॵ', 'ॶ', 'ॷ', 'ॸ', 'ॹ', 'ॺ', 'ॻ', 'ॼ', 'ॽ', 'ॾ', 'ॿ']\n",
            "{0: '-PAD-', 1: 'ऀ', 2: 'ँ', 3: 'ं', 4: 'ः', 5: 'ऄ', 6: 'अ', 7: 'आ', 8: 'इ', 9: 'ई', 10: 'उ', 11: 'ऊ', 12: 'ऋ', 13: 'ऌ', 14: 'ऍ', 15: 'ऎ', 16: 'ए', 17: 'ऐ', 18: 'ऑ', 19: 'ऒ', 20: 'ओ', 21: 'औ', 22: 'क', 23: 'ख', 24: 'ग', 25: 'घ', 26: 'ङ', 27: 'च', 28: 'छ', 29: 'ज', 30: 'झ', 31: 'ञ', 32: 'ट', 33: 'ठ', 34: 'ड', 35: 'ढ', 36: 'ण', 37: 'त', 38: 'थ', 39: 'द', 40: 'ध', 41: 'न', 42: 'ऩ', 43: 'प', 44: 'फ', 45: 'ब', 46: 'भ', 47: 'म', 48: 'य', 49: 'र', 50: 'ऱ', 51: 'ल', 52: 'ळ', 53: 'ऴ', 54: 'व', 55: 'श', 56: 'ष', 57: 'स', 58: 'ह', 59: 'ऺ', 60: 'ऻ', 61: '़', 62: 'ऽ', 63: 'ा', 64: 'ि', 65: 'ी', 66: 'ु', 67: 'ू', 68: 'ृ', 69: 'ॄ', 70: 'ॅ', 71: 'ॆ', 72: 'े', 73: 'ै', 74: 'ॉ', 75: 'ॊ', 76: 'ो', 77: 'ौ', 78: '्', 79: 'ॎ', 80: 'ॏ', 81: 'ॐ', 82: '॑', 83: '॒', 84: '॓', 85: '॔', 86: 'ॕ', 87: 'ॖ', 88: 'ॗ', 89: 'क़', 90: 'ख़', 91: 'ग़', 92: 'ज़', 93: 'ड़', 94: 'ढ़', 95: 'फ़', 96: 'य़', 97: 'ॠ', 98: 'ॡ', 99: 'ॢ', 100: 'ॣ', 101: '।', 102: '॥', 103: '०', 104: '१', 105: '२', 106: '३', 107: '४', 108: '५', 109: '६', 110: '७', 111: '८', 112: '९', 113: '॰', 114: 'ॱ', 115: 'ॲ', 116: 'ॳ', 117: 'ॴ', 118: 'ॵ', 119: 'ॶ', 120: 'ॷ', 121: 'ॸ', 122: 'ॹ', 123: 'ॺ', 124: 'ॻ', 125: 'ॼ', 126: 'ॽ', 127: 'ॾ', 128: 'ॿ'}\n",
            "{0: '-PAD-', 1: 'a', 2: 'b', 3: 'c', 4: 'd', 5: 'e', 6: 'f', 7: 'g', 8: 'h', 9: 'i', 10: 'j', 11: 'k', 12: 'l', 13: 'm', 14: 'n', 15: 'o', 16: 'p', 17: 'q', 18: 'r', 19: 's', 20: 't', 21: 'u', 22: 'v', 23: 'w', 24: 'x', 25: 'y', 26: 'z'}\n"
          ],
          "name": "stdout"
        }
      ]
    },
    {
      "cell_type": "code",
      "metadata": {
        "id": "i9NIsLE6j_3h"
      },
      "source": [
        "def printTargetWord(seq):\n",
        "    word = \"\"\n",
        "    for chr in seq:\n",
        "        #print(chr)\n",
        "        if chr == 0:\n",
        "            break\n",
        "        word=word+hindi_index2alpha[int(chr)]\n",
        "    return word\n",
        "def printInputWord(seq):\n",
        "    word = \"\"\n",
        "    for chr in seq:\n",
        "        if chr==0:\n",
        "            break\n",
        "        word=word+eng_index2alpha[int(chr)]\n",
        "    return word"
      ],
      "execution_count": null,
      "outputs": []
    },
    {
      "cell_type": "code",
      "metadata": {
        "colab": {
          "base_uri": "https://localhost:8080/",
          "height": 35
        },
        "id": "9XSP4jmWiWij",
        "outputId": "84f43139-9d3c-437c-e41d-ac4b94623fae"
      },
      "source": [
        "printInputWord([1, 14, 11, 0, 0, 0, 0, 0, 0, 0, 0, 0, 0, 0, 0, 0, 0, 0, 0, 0, 0])"
      ],
      "execution_count": null,
      "outputs": [
        {
          "output_type": "execute_result",
          "data": {
            "application/vnd.google.colaboratory.intrinsic+json": {
              "type": "string"
            },
            "text/plain": [
              "'ank'"
            ]
          },
          "metadata": {
            "tags": []
          },
          "execution_count": 6
        }
      ]
    },
    {
      "cell_type": "code",
      "metadata": {
        "id": "QQ0aXzuU5ifS"
      },
      "source": [
        "def readXmlDataset(filename):\n",
        "        tsv_file = open(filename)\n",
        "        read_tsv = csv.reader(tsv_file, delimiter=\"\\t\")\n",
        "        lang1_words = []\n",
        "        lang2_words = []\n",
        "\n",
        "        for row in read_tsv:\n",
        "            lang2_words.append(row[0])\n",
        "            lang1_words.append(row[1])\n",
        "            #print(row[0])\n",
        "\n",
        "        return lang1_words, lang2_words\n",
        "train_input_texts, train_target_texts = readXmlDataset('hi.translit.sampled.train.tsv')\n",
        "test_input_texts, test_target_texts = readXmlDataset('hi.translit.sampled.test.tsv')"
      ],
      "execution_count": null,
      "outputs": []
    },
    {
      "cell_type": "markdown",
      "metadata": {
        "id": "A69k7rDuWr0g"
      },
      "source": [
        "#Embedding the input texts"
      ]
    },
    {
      "cell_type": "code",
      "metadata": {
        "colab": {
          "base_uri": "https://localhost:8080/"
        },
        "id": "Ck5H9-yvlCtg",
        "outputId": "b6a3d601-c5de-4ea6-d252-9a9d3a55c533"
      },
      "source": [
        "max_length=25\n",
        "def gt_integer_code(word, letter2index, device = 'cpu'):\n",
        "    gt_rep = []\n",
        "    #print(gt_rep)\n",
        "    for letter_index, letter in enumerate(word):\n",
        "        pos = letter2index[letter]\n",
        "        gt_rep.append(pos)\n",
        "    length = len(gt_rep)\n",
        "    pad = [0]*(max_length-length)\n",
        "    gt_rep = gt_rep+pad\n",
        "   # gt_rep.append(letter2index[pad_char])\n",
        "    return gt_rep\n",
        "#print(word_rep('abc',eng_alpha2index))\n",
        "gt_integer_code('abc',eng_alpha2index)"
      ],
      "execution_count": null,
      "outputs": [
        {
          "output_type": "execute_result",
          "data": {
            "text/plain": [
              "[1, 2, 3, 0, 0, 0, 0, 0, 0, 0, 0, 0, 0, 0, 0, 0, 0, 0, 0, 0, 0, 0, 0, 0, 0]"
            ]
          },
          "metadata": {
            "tags": []
          },
          "execution_count": 8
        }
      ]
    },
    {
      "cell_type": "code",
      "metadata": {
        "id": "s-9mL3FnlqNh",
        "colab": {
          "base_uri": "https://localhost:8080/",
          "height": 52
        },
        "outputId": "9bada9b1-8b17-4422-d714-913a2fc2bf40"
      },
      "source": [
        "def doc_integer_code(doc,letter2index):\n",
        "    doc_integer_coded=[]\n",
        "    for i, data in enumerate(doc):\n",
        "        doc_integer_coded.append(gt_integer_code(data,letter2index))\n",
        "    return doc_integer_coded\n",
        "print((doc_integer_code(train_input_texts[0:3],eng_alpha2index)[2]))\n",
        "train_input_texts[2]"
      ],
      "execution_count": null,
      "outputs": [
        {
          "output_type": "stream",
          "text": [
            "[21, 14, 3, 12, 5, 0, 0, 0, 0, 0, 0, 0, 0, 0, 0, 0, 0, 0, 0, 0, 0, 0, 0, 0, 0]\n"
          ],
          "name": "stdout"
        },
        {
          "output_type": "execute_result",
          "data": {
            "application/vnd.google.colaboratory.intrinsic+json": {
              "type": "string"
            },
            "text/plain": [
              "'uncle'"
            ]
          },
          "metadata": {
            "tags": []
          },
          "execution_count": 9
        }
      ]
    },
    {
      "cell_type": "code",
      "metadata": {
        "colab": {
          "base_uri": "https://localhost:8080/"
        },
        "id": "nZYqsmsY8VWP",
        "outputId": "f444f038-fbb2-4b08-ef12-129679062162"
      },
      "source": [
        "def gt_integer_code2(word, letter2index, device = 'cpu'):\n",
        "    gt_rep = []\n",
        "    #print(gt_rep)\n",
        "    for letter_index, letter in enumerate(word):\n",
        "        pos = letter2index[letter]\n",
        "        gt_rep.append(pos)\n",
        "    #length = len(gt_rep)\n",
        "    #pad = [0]*(max_length-length)\n",
        "    #gt_rep = gt_rep+pad\n",
        "    gt_rep.append(letter2index[pad_char])\n",
        "    return gt_rep\n",
        "#print(word_rep('abc',eng_alpha2index))\n",
        "(gt_integer_code2('abc',eng_alpha2index))"
      ],
      "execution_count": null,
      "outputs": [
        {
          "output_type": "execute_result",
          "data": {
            "text/plain": [
              "[1, 2, 3, 0]"
            ]
          },
          "metadata": {
            "tags": []
          },
          "execution_count": 10
        }
      ]
    },
    {
      "cell_type": "code",
      "metadata": {
        "colab": {
          "base_uri": "https://localhost:8080/"
        },
        "id": "W2BXhLWk8VWR",
        "outputId": "274b4fdf-5a7e-4e67-c16c-026fdbe45e88"
      },
      "source": [
        "def doc_integer_code2(doc,letter2index):\n",
        "    doc_integer_coded=[]\n",
        "    for i, data in enumerate(doc):\n",
        "        doc_integer_coded.append(gt_integer_code2(data,letter2index))\n",
        "    return doc_integer_coded\n",
        "print((doc_integer_code2(train_input_texts[0:3],eng_alpha2index)[2]))\n",
        "train_input_texts[2]\n",
        "doc_integer_code2(train_input_texts,eng_alpha2index)[2]"
      ],
      "execution_count": null,
      "outputs": [
        {
          "output_type": "stream",
          "text": [
            "[21, 14, 3, 12, 5, 0]\n"
          ],
          "name": "stdout"
        },
        {
          "output_type": "execute_result",
          "data": {
            "text/plain": [
              "[21, 14, 3, 12, 5, 0]"
            ]
          },
          "metadata": {
            "tags": []
          },
          "execution_count": 11
        }
      ]
    },
    {
      "cell_type": "code",
      "metadata": {
        "id": "P-7LtKQHEw8L"
      },
      "source": [
        "def get_embedding2(dataset,letter2index):\n",
        "    encoded_docs=doc_integer_code2(dataset,letter2index)\n",
        "    padded_docs = pad_sequences(encoded_docs, maxlen=max_length, padding='post')\n",
        "    padded_docs =encoded_docs\n",
        "    return model_embed.predict(padded_docs)"
      ],
      "execution_count": null,
      "outputs": []
    },
    {
      "cell_type": "code",
      "metadata": {
        "colab": {
          "base_uri": "https://localhost:8080/"
        },
        "id": "F4k68uJGWWfX",
        "outputId": "092a453e-d179-4115-c0da-01a34eac6f80"
      },
      "source": [
        "#encoded_docs=doc_integer_code(train_input_texts,eng_alpha2index)\n",
        "max_length = 25\n",
        "vocab_size = 50\n",
        "embedding_size=125\n",
        "#padded_docs = pad_sequences(encoded_docs, maxlen=max_length, padding='post')\n",
        "# define the model\n",
        "model_embed = Sequential()\n",
        "model_embed.add(Embedding(vocab_size, embedding_size, input_length=max_length))\n",
        "model_embed.compile(optimizer='adam', loss='binary_crossentropy', metrics=['accuracy'])\n",
        "# summarize the model\n",
        "print(model_embed.summary())\n",
        "def get_embedding(dataset,letter2index):\n",
        "    encoded_docs=doc_integer_code(dataset,letter2index)\n",
        "    #padded_docs = pad_sequences(encoded_docs, maxlen=max_length, padding='post')\n",
        "    padded_docs =encoded_docs\n",
        "    return model_embed.predict(padded_docs)\n",
        "\n",
        "\n",
        "#X_train_padded = model_embed.predict(padded_docs)\n",
        "#print(X_train_padded.shape)\n",
        "#print(type(X_train_padded))"
      ],
      "execution_count": null,
      "outputs": [
        {
          "output_type": "stream",
          "text": [
            "Model: \"sequential\"\n",
            "_________________________________________________________________\n",
            "Layer (type)                 Output Shape              Param #   \n",
            "=================================================================\n",
            "embedding (Embedding)        (None, 25, 125)           6250      \n",
            "=================================================================\n",
            "Total params: 6,250\n",
            "Trainable params: 6,250\n",
            "Non-trainable params: 0\n",
            "_________________________________________________________________\n",
            "None\n"
          ],
          "name": "stdout"
        }
      ]
    },
    {
      "cell_type": "code",
      "metadata": {
        "colab": {
          "base_uri": "https://localhost:8080/"
        },
        "id": "sPGZBk5oWWh2",
        "outputId": "f819253e-62f5-4318-85d0-d508753cc668"
      },
      "source": [
        "X_train_padded = get_embedding(train_input_texts,eng_alpha2index)\n",
        "print(X_train_padded.shape)\n",
        "print(type(X_train_padded))\n",
        "X_test_padded = get_embedding(test_input_texts,eng_alpha2index)\n",
        "print(X_test_padded.shape)\n",
        "print(type(X_test_padded))"
      ],
      "execution_count": null,
      "outputs": [
        {
          "output_type": "stream",
          "text": [
            "(44204, 25, 125)\n",
            "<class 'numpy.ndarray'>\n",
            "(4502, 25, 125)\n",
            "<class 'numpy.ndarray'>\n"
          ],
          "name": "stdout"
        }
      ]
    },
    {
      "cell_type": "code",
      "metadata": {
        "id": "N7KgGK1B0naW"
      },
      "source": [
        "#X_test_padded[0]"
      ],
      "execution_count": null,
      "outputs": []
    },
    {
      "cell_type": "code",
      "metadata": {
        "colab": {
          "base_uri": "https://localhost:8080/"
        },
        "id": "01v6J22tf4U5",
        "outputId": "fda47c89-ddd6-42c9-f90e-9df86c47bafc"
      },
      "source": [
        "len(X_test_padded)"
      ],
      "execution_count": null,
      "outputs": [
        {
          "output_type": "execute_result",
          "data": {
            "text/plain": [
              "4502"
            ]
          },
          "metadata": {
            "tags": []
          },
          "execution_count": 15
        }
      ]
    },
    {
      "cell_type": "code",
      "metadata": {
        "id": "O6tGcj9KFmaj",
        "colab": {
          "base_uri": "https://localhost:8080/"
        },
        "outputId": "4448387f-fc41-413c-adca-d38bd16b9255"
      },
      "source": [
        "X_test=[]\n",
        "lengthV=doc_integer_code2(test_input_texts,eng_alpha2index)\n",
        "for i in range(len(X_test_padded)):\n",
        " # print(i)\n",
        "  X_test.append(X_test_padded[i][0:len(lengthV[i]),])\n",
        "X_test= np.array(X_test)\n",
        "\n",
        "X_train=[]\n",
        "lengthV=doc_integer_code2(train_input_texts,eng_alpha2index)\n",
        "for i in range(len(X_train_padded)):\n",
        "  #print(i)\n",
        "  X_train.append(X_train_padded[i][0:len(lengthV[i]),])\n",
        "X_train= np.array(X_train)"
      ],
      "execution_count": null,
      "outputs": [
        {
          "output_type": "stream",
          "text": [
            "/usr/local/lib/python3.7/dist-packages/ipykernel_launcher.py:6: VisibleDeprecationWarning: Creating an ndarray from ragged nested sequences (which is a list-or-tuple of lists-or-tuples-or ndarrays with different lengths or shapes) is deprecated. If you meant to do this, you must specify 'dtype=object' when creating the ndarray\n",
            "  \n",
            "/usr/local/lib/python3.7/dist-packages/ipykernel_launcher.py:13: VisibleDeprecationWarning: Creating an ndarray from ragged nested sequences (which is a list-or-tuple of lists-or-tuples-or ndarrays with different lengths or shapes) is deprecated. If you meant to do this, you must specify 'dtype=object' when creating the ndarray\n",
            "  del sys.path[0]\n"
          ],
          "name": "stderr"
        }
      ]
    },
    {
      "cell_type": "code",
      "metadata": {
        "colab": {
          "base_uri": "https://localhost:8080/"
        },
        "id": "3o5lkno7HKAy",
        "outputId": "42c5af3e-2c30-4b15-a65e-12bd197ea42d"
      },
      "source": [
        "X_test[0].shape"
      ],
      "execution_count": null,
      "outputs": [
        {
          "output_type": "execute_result",
          "data": {
            "text/plain": [
              "(4, 125)"
            ]
          },
          "metadata": {
            "tags": []
          },
          "execution_count": 17
        }
      ]
    },
    {
      "cell_type": "markdown",
      "metadata": {
        "id": "H4llxCGFX3m2"
      },
      "source": [
        "#Encoding target texts"
      ]
    },
    {
      "cell_type": "code",
      "metadata": {
        "id": "HYtIFIHz634J"
      },
      "source": [
        "def word_rep(word, letter2index, device = 'cpu'):\n",
        "    rep = np.zeros((len(word)+1,  129))\n",
        "    for letter_index, letter in enumerate(word):\n",
        "        pos = letter2index[letter]\n",
        "        rep[letter_index][pos] = 1\n",
        "    pad_pos = letter2index[pad_char]\n",
        "    rep[letter_index+1][pad_pos] = 1\n",
        "    return rep\n",
        "\n",
        "def gt_rep(word, letter2index, device = 'cpu'):\n",
        "    gt_rep = np.zeros([len(word)+1, 1], dtype=np.long)\n",
        "    for letter_index, letter in enumerate(word):\n",
        "        pos = letter2index[letter]\n",
        "        gt_rep[letter_index][0] = pos\n",
        "    gt_rep[letter_index+1][0] = letter2index[pad_char]\n",
        "    return gt_rep\n",
        "    word_rep('abc',eng_alpha2index).shape\n",
        "    x=gt_rep('abc',eng_alpha2index)"
      ],
      "execution_count": null,
      "outputs": []
    },
    {
      "cell_type": "code",
      "metadata": {
        "id": "BpXZ36j_5K3Y"
      },
      "source": [
        "def createDataset(dataset,letter2index):\n",
        "    X_train=[]\n",
        "    for i,data in enumerate(dataset):\n",
        "        #print(data)\n",
        "        X_train.append(word_rep(data,letter2index))\n",
        "    X_train = np.array(X_train)\n",
        "    return X_train"
      ],
      "execution_count": null,
      "outputs": []
    },
    {
      "cell_type": "code",
      "metadata": {
        "colab": {
          "base_uri": "https://localhost:8080/"
        },
        "id": "HvYUB4gv6BTu",
        "outputId": "01f1ed89-2448-4f95-a931-72969e0f4455"
      },
      "source": [
        "X_train_orig = createDataset(train_input_texts,eng_alpha2index)\n",
        "y_train = createDataset(train_target_texts,hindi_alpha2index)\n",
        "X_test_orig = createDataset(test_input_texts,eng_alpha2index)\n",
        "y_test = createDataset(test_target_texts,hindi_alpha2index)"
      ],
      "execution_count": null,
      "outputs": [
        {
          "output_type": "stream",
          "text": [
            "/usr/local/lib/python3.7/dist-packages/ipykernel_launcher.py:6: VisibleDeprecationWarning: Creating an ndarray from ragged nested sequences (which is a list-or-tuple of lists-or-tuples-or ndarrays with different lengths or shapes) is deprecated. If you meant to do this, you must specify 'dtype=object' when creating the ndarray\n",
            "  \n"
          ],
          "name": "stderr"
        }
      ]
    },
    {
      "cell_type": "code",
      "metadata": {
        "colab": {
          "base_uri": "https://localhost:8080/"
        },
        "id": "vW1ewK688Cfg",
        "outputId": "7e92aec1-9183-4cba-84ba-7b98b827da3f"
      },
      "source": [
        "print(len(eng_alpha2index))\n",
        "#a=[0]*(len(eng_alpha2index)-1)\n",
        "a=[0]*128\n",
        "eng_pad=[1]\n",
        "eng_pad=eng_pad+a\n",
        "print(eng_pad)\n",
        "print(len(hindi_alpha2index))\n",
        "a=[0]*128\n",
        "hindi_pad=[1]\n",
        "hindi_pad=hindi_pad+a\n",
        "print(hindi_pad)"
      ],
      "execution_count": null,
      "outputs": [
        {
          "output_type": "stream",
          "text": [
            "27\n",
            "[1, 0, 0, 0, 0, 0, 0, 0, 0, 0, 0, 0, 0, 0, 0, 0, 0, 0, 0, 0, 0, 0, 0, 0, 0, 0, 0, 0, 0, 0, 0, 0, 0, 0, 0, 0, 0, 0, 0, 0, 0, 0, 0, 0, 0, 0, 0, 0, 0, 0, 0, 0, 0, 0, 0, 0, 0, 0, 0, 0, 0, 0, 0, 0, 0, 0, 0, 0, 0, 0, 0, 0, 0, 0, 0, 0, 0, 0, 0, 0, 0, 0, 0, 0, 0, 0, 0, 0, 0, 0, 0, 0, 0, 0, 0, 0, 0, 0, 0, 0, 0, 0, 0, 0, 0, 0, 0, 0, 0, 0, 0, 0, 0, 0, 0, 0, 0, 0, 0, 0, 0, 0, 0, 0, 0, 0, 0, 0, 0]\n",
            "129\n",
            "[1, 0, 0, 0, 0, 0, 0, 0, 0, 0, 0, 0, 0, 0, 0, 0, 0, 0, 0, 0, 0, 0, 0, 0, 0, 0, 0, 0, 0, 0, 0, 0, 0, 0, 0, 0, 0, 0, 0, 0, 0, 0, 0, 0, 0, 0, 0, 0, 0, 0, 0, 0, 0, 0, 0, 0, 0, 0, 0, 0, 0, 0, 0, 0, 0, 0, 0, 0, 0, 0, 0, 0, 0, 0, 0, 0, 0, 0, 0, 0, 0, 0, 0, 0, 0, 0, 0, 0, 0, 0, 0, 0, 0, 0, 0, 0, 0, 0, 0, 0, 0, 0, 0, 0, 0, 0, 0, 0, 0, 0, 0, 0, 0, 0, 0, 0, 0, 0, 0, 0, 0, 0, 0, 0, 0, 0, 0, 0, 0]\n"
          ],
          "name": "stdout"
        }
      ]
    },
    {
      "cell_type": "code",
      "metadata": {
        "id": "nczkBT69KdWd"
      },
      "source": [
        "def one_hot_encode(sequence, n_unique):\n",
        "\tencoding = list()\n",
        "\tfor value in sequence:\n",
        "\t\tvector = [0 for _ in range(n_unique)]\n",
        "\t\tvector[value] = 1\n",
        "\t\tencoding.append(vector)\n",
        "\treturn array(encoding)"
      ],
      "execution_count": null,
      "outputs": []
    },
    {
      "cell_type": "code",
      "metadata": {
        "colab": {
          "base_uri": "https://localhost:8080/"
        },
        "id": "PH7o-dfEKxHf",
        "outputId": "b0d474dc-3e24-4003-9556-1466eb2999df"
      },
      "source": [
        "one_hot_encode([1,2,3],10)"
      ],
      "execution_count": null,
      "outputs": [
        {
          "output_type": "execute_result",
          "data": {
            "text/plain": [
              "array([[0, 1, 0, 0, 0, 0, 0, 0, 0, 0],\n",
              "       [0, 0, 1, 0, 0, 0, 0, 0, 0, 0],\n",
              "       [0, 0, 0, 1, 0, 0, 0, 0, 0, 0]])"
            ]
          },
          "metadata": {
            "tags": []
          },
          "execution_count": 23
        }
      ]
    },
    {
      "cell_type": "code",
      "metadata": {
        "colab": {
          "base_uri": "https://localhost:8080/",
          "height": 52
        },
        "id": "ABSEIPIcGLnX",
        "outputId": "60d27802-f971-4d1d-c8b7-9e05db5449cc"
      },
      "source": [
        "def one_hot_decode(encoded_seq):\n",
        "\treturn [argmax(vector) for vector in encoded_seq]\n",
        "'''d=one_hot_decode(y_train_padded[5])\n",
        "c=hindi_index2alpha[6]+hindi_index2alpha[3]+hindi_index2alpha[22]+hindi_index2alpha[66]+hindi_index2alpha[49]+hindi_index2alpha[64]+hindi_index2alpha[37]+hindi_index2alpha[0]\n",
        "c'''"
      ],
      "execution_count": null,
      "outputs": [
        {
          "output_type": "execute_result",
          "data": {
            "application/vnd.google.colaboratory.intrinsic+json": {
              "type": "string"
            },
            "text/plain": [
              "'d=one_hot_decode(y_train_padded[5])\\nc=hindi_index2alpha[6]+hindi_index2alpha[3]+hindi_index2alpha[22]+hindi_index2alpha[66]+hindi_index2alpha[49]+hindi_index2alpha[64]+hindi_index2alpha[37]+hindi_index2alpha[0]\\nc'"
            ]
          },
          "metadata": {
            "tags": []
          },
          "execution_count": 24
        }
      ]
    },
    {
      "cell_type": "code",
      "metadata": {
        "colab": {
          "base_uri": "https://localhost:8080/"
        },
        "id": "mSce-sL4HWTr",
        "outputId": "9e0416c7-d947-4543-f277-4d278c9cb5a4"
      },
      "source": [
        "max_input_sequence= 25\n",
        "#max(len(seq) for seq in X_train)\n",
        "max_output_sequence= 25\n",
        "#max(len(seq) for seq in y_train)\n",
        "\n",
        "print('max_input_sequence: ', max_input_sequence)\n",
        "print('max_output_sequence: ', max_output_sequence)"
      ],
      "execution_count": null,
      "outputs": [
        {
          "output_type": "stream",
          "text": [
            "max_input_sequence:  25\n",
            "max_output_sequence:  25\n"
          ],
          "name": "stdout"
        }
      ]
    },
    {
      "cell_type": "code",
      "metadata": {
        "colab": {
          "base_uri": "https://localhost:8080/"
        },
        "id": "2abm43MfHWWG",
        "outputId": "d30d72b4-eae5-47e4-b26d-de283ca2b8c8"
      },
      "source": [
        "from keras.preprocessing.sequence import pad_sequences\n",
        "#X_train_padded = pad_sequences(X_train, maxlen= max_input_sequence, padding='post', value=eng_pad)\n",
        "y_train_padded = pad_sequences(y_train, maxlen= max_output_sequence, padding='post', value=hindi_pad)\n",
        "#print(\"X_train shape: \",X_train.shape)\n",
        "print(\"X_train_padded shape: \",X_train_padded.shape)\n",
        "print(\"y_train shape: \",y_train.shape)\n",
        "print(\"y_train_padded shape: \",y_train_padded.shape)\n",
        "print(type(X_train_padded))\n",
        "#print(\"X_test shape: \",X_test.shape)\n",
        "#print(\"X_test_padded shape: \",X_test_padded.shape)\n",
        "#print(\"y_test shape: \",y_test.shape)\n",
        "#print(\"y_test_padded shape: \",y_test_padded.shape)\n",
        "#print(type(X_test_padded))"
      ],
      "execution_count": null,
      "outputs": [
        {
          "output_type": "stream",
          "text": [
            "X_train_padded shape:  (44204, 25, 125)\n",
            "y_train shape:  (44204,)\n",
            "y_train_padded shape:  (44204, 25, 129)\n",
            "<class 'numpy.ndarray'>\n"
          ],
          "name": "stdout"
        }
      ]
    },
    {
      "cell_type": "code",
      "metadata": {
        "colab": {
          "base_uri": "https://localhost:8080/"
        },
        "id": "BN97C-THHWbb",
        "outputId": "7cb22c05-910b-4fdb-a06e-2a1d337d442a"
      },
      "source": [
        "#X_test_padded = pad_sequences(X_test, maxlen= max_input_sequence, padding='post', value=eng_pad)\n",
        "\n",
        "y_test_padded = pad_sequences(y_test, maxlen= max_output_sequence, padding='post', \n",
        "                              value=hindi_pad)\n",
        "#print(\"X_test shape: \",X_test.shape)\n",
        "print(\"X_test_padded shape: \",X_test_padded.shape)\n",
        "print(\"y_test shape: \",y_test.shape)\n",
        "print(\"y_test_padded shape: \",y_test_padded.shape)"
      ],
      "execution_count": null,
      "outputs": [
        {
          "output_type": "stream",
          "text": [
            "X_test_padded shape:  (4502, 25, 125)\n",
            "y_test shape:  (4502,)\n",
            "y_test_padded shape:  (4502, 25, 129)\n"
          ],
          "name": "stdout"
        }
      ]
    },
    {
      "cell_type": "markdown",
      "metadata": {
        "id": "9L5-lVXpbuTg"
      },
      "source": [
        "#print sample sequence"
      ]
    },
    {
      "cell_type": "code",
      "metadata": {
        "colab": {
          "base_uri": "https://localhost:8080/"
        },
        "id": "Wvw10trdHWY8",
        "outputId": "3816d87d-9661-4f7d-e822-633b9ec6cab0"
      },
      "source": [
        "i=0\n",
        "print(\"____Sample Input (Raw Format)____\")\n",
        "print(\"Original:\\n\", doc_integer_code2(train_input_texts,eng_alpha2index)[i])\n",
        "print(\"Padded:\\n\",doc_integer_code(train_input_texts,eng_alpha2index)[i])\n",
        "print(\"____Corresponding Output (Raw Format)____\")\n",
        "print(\"Original:\\n\", one_hot_decode(y_train[i]))\n",
        "print(\"Padded:\\n\",one_hot_decode(y_train_padded[i]))"
      ],
      "execution_count": null,
      "outputs": [
        {
          "output_type": "stream",
          "text": [
            "____Sample Input (Raw Format)____\n",
            "Original:\n",
            " [1, 14, 0]\n",
            "Padded:\n",
            " [1, 14, 0, 0, 0, 0, 0, 0, 0, 0, 0, 0, 0, 0, 0, 0, 0, 0, 0, 0, 0, 0, 0, 0, 0]\n",
            "____Corresponding Output (Raw Format)____\n",
            "Original:\n",
            " [6, 3, 0]\n",
            "Padded:\n",
            " [6, 3, 0, 0, 0, 0, 0, 0, 0, 0, 0, 0, 0, 0, 0, 0, 0, 0, 0, 0, 0, 0, 0, 0, 0]\n"
          ],
          "name": "stdout"
        }
      ]
    },
    {
      "cell_type": "code",
      "metadata": {
        "colab": {
          "base_uri": "https://localhost:8080/"
        },
        "id": "dWoyVxRZHWeH",
        "outputId": "864164f4-b5e7-4533-fc5f-a6f513ad9498"
      },
      "source": [
        "#Prepare TRAIN data set\n",
        "input_dimension = embedding_size\n",
        "output_dimension = 129\n",
        "encoder_input_data = X_train_padded.copy()\n",
        "decoder_target_data = y_train_padded.copy()\n",
        "decoder_input_data = decoder_target_data.copy()\n",
        "for i, samples in enumerate(decoder_target_data):\n",
        "  seq = one_hot_decode(samples)\n",
        "  shifted= shift(seq, 1, cval=0)\n",
        "  decoder_input_data[i]=one_hot_encode(shifted,output_dimension)\n",
        "print(\"Data for Train\")\n",
        "'''print('encoder_input_data (X): ', one_hot_decode(encoder_input_data[1]))\n",
        "print('decoder_input_data (teacher forcing): ',one_hot_decode(decoder_input_data[1]))\n",
        "print('decoder_target_data (y):',one_hot_decode(decoder_target_data[1]))'''\n",
        "print(\"encoder_input_shape\",encoder_input_data.shape)\n",
        "print(\"decoder_input_shape\",decoder_input_data.shape)\n",
        "\n",
        "#Prepare TEST data set\n",
        "encoder_input_test = X_test_padded.copy()\n",
        "decoder_target_test = y_test_padded.copy()\n",
        "decoder_input_test= decoder_target_test.copy()\n",
        "for i, samples in enumerate(decoder_target_test):\n",
        "  seq = one_hot_decode(samples)\n",
        "  shifted= shift(seq, 1, cval=0)\n",
        "  decoder_input_test[i]=one_hot_encode(shifted,output_dimension)"
      ],
      "execution_count": null,
      "outputs": [
        {
          "output_type": "stream",
          "text": [
            "Data for Train\n",
            "encoder_input_shape (44204, 25, 125)\n",
            "decoder_input_shape (44204, 25, 129)\n"
          ],
          "name": "stdout"
        }
      ]
    },
    {
      "cell_type": "code",
      "metadata": {
        "id": "aA-7kWI4rlcE"
      },
      "source": [
        "# Define an input sequence and process it.\n",
        "latent_dims = [1024, 512,  256]\n",
        "encoder_inputs= Input(shape=(max_input_sequence, input_dimension), name='encoder_inputs')\n",
        "masking = tf.keras.layers.Masking(mask_value= [1]+[0]*(input_dimension-1))\n",
        "encoder_inputs_masked = masking(encoder_inputs)\n",
        "#masking = tf.keras.layers.Masking(mask_value= hindi_pad)\n",
        "#encoder_inputs = masking(encoder_inputs)\n",
        "\n",
        "outputs = encoder_inputs\n",
        "encoder_states = []\n",
        "for j in range(len(latent_dims))[::-1]:\n",
        "    outputs, h, c = LSTM(latent_dims[j], return_state=True, return_sequences=bool(j))(outputs)\n",
        "    encoder_states += [h, c]\n",
        "\n",
        "\n",
        "\n",
        "decoder_inputs = Input(shape=(None, output_dimension), name='decoder_inputs')\n",
        "outputs = decoder_inputs\n",
        "output_layers = []\n",
        "for j in range(len(latent_dims)):\n",
        "    output_layers.append(\n",
        "        LSTM(latent_dims[len(latent_dims) - j - 1], return_sequences=True, return_state=True)\n",
        "    )\n",
        "    outputs, dh, dc = output_layers[-1](outputs, initial_state=encoder_states[2*j:2*(j+1)])\n",
        "\n",
        "\n",
        "decoder_dense = Dense(output_dimension, activation='softmax')\n",
        "decoder_outputs = decoder_dense(outputs)\n",
        "\n",
        "\n",
        "\n",
        "# put together\n",
        "model_encoder_training = Model([encoder_inputs, decoder_inputs], decoder_outputs, name='model_encoder_training')"
      ],
      "execution_count": null,
      "outputs": []
    },
    {
      "cell_type": "code",
      "metadata": {
        "colab": {
          "base_uri": "https://localhost:8080/",
          "height": 1000
        },
        "id": "Zj_U3qwYrlcG",
        "outputId": "bf82f669-a254-4bcc-b028-3c68920ab445"
      },
      "source": [
        "model_encoder_training.compile(optimizer='adam', loss='categorical_crossentropy', metrics=['accuracy'])\n",
        "model_encoder_training.summary()\n",
        "plot_model(model_encoder_training, show_shapes=True)"
      ],
      "execution_count": null,
      "outputs": [
        {
          "output_type": "stream",
          "text": [
            "Model: \"model_encoder_training\"\n",
            "__________________________________________________________________________________________________\n",
            "Layer (type)                    Output Shape         Param #     Connected to                     \n",
            "==================================================================================================\n",
            "encoder_inputs (InputLayer)     [(None, 25, 125)]    0                                            \n",
            "__________________________________________________________________________________________________\n",
            "decoder_inputs (InputLayer)     [(None, None, 129)]  0                                            \n",
            "__________________________________________________________________________________________________\n",
            "lstm (LSTM)                     [(None, 25, 256), (N 391168      encoder_inputs[0][0]             \n",
            "__________________________________________________________________________________________________\n",
            "lstm_3 (LSTM)                   [(None, None, 256),  395264      decoder_inputs[0][0]             \n",
            "                                                                 lstm[0][1]                       \n",
            "                                                                 lstm[0][2]                       \n",
            "__________________________________________________________________________________________________\n",
            "lstm_1 (LSTM)                   [(None, 25, 512), (N 1574912     lstm[0][0]                       \n",
            "__________________________________________________________________________________________________\n",
            "lstm_4 (LSTM)                   [(None, None, 512),  1574912     lstm_3[0][0]                     \n",
            "                                                                 lstm_1[0][1]                     \n",
            "                                                                 lstm_1[0][2]                     \n",
            "__________________________________________________________________________________________________\n",
            "lstm_2 (LSTM)                   [(None, 1024), (None 6295552     lstm_1[0][0]                     \n",
            "__________________________________________________________________________________________________\n",
            "lstm_5 (LSTM)                   [(None, None, 1024), 6295552     lstm_4[0][0]                     \n",
            "                                                                 lstm_2[0][1]                     \n",
            "                                                                 lstm_2[0][2]                     \n",
            "__________________________________________________________________________________________________\n",
            "dense (Dense)                   (None, None, 129)    132225      lstm_5[0][0]                     \n",
            "==================================================================================================\n",
            "Total params: 16,659,585\n",
            "Trainable params: 16,659,585\n",
            "Non-trainable params: 0\n",
            "__________________________________________________________________________________________________\n"
          ],
          "name": "stdout"
        },
        {
          "output_type": "execute_result",
          "data": {
            "image/png": "[encoded data removed]",
            "text/plain": [
              "<IPython.core.display.Image object>"
            ]
          },
          "metadata": {
            "tags": []
          },
          "execution_count": 31
        }
      ]
    },
    {
      "cell_type": "code",
      "metadata": {
        "colab": {
          "base_uri": "https://localhost:8080/"
        },
        "id": "Q1xTf0Dwrg35",
        "outputId": "a6fe6fab-d796-48e5-8536-390973be70bc"
      },
      "source": [
        "model_encoder_training.fit([encoder_input_data, decoder_input_data], decoder_target_data,\n",
        "          batch_size=64,\n",
        "          epochs=20,\n",
        "          validation_split=0.2)"
      ],
      "execution_count": null,
      "outputs": [
        {
          "output_type": "stream",
          "text": [
            "Epoch 1/20\n",
            "553/553 [==============================] - 75s 69ms/step - loss: 1.0267 - accuracy: 0.7639 - val_loss: 0.9682 - val_accuracy: 0.7762\n",
            "Epoch 2/20\n",
            "553/553 [==============================] - 37s 67ms/step - loss: 0.6730 - accuracy: 0.8122 - val_loss: 0.9532 - val_accuracy: 0.7921\n",
            "Epoch 3/20\n",
            "553/553 [==============================] - 37s 67ms/step - loss: 0.4841 - accuracy: 0.8569 - val_loss: 0.8344 - val_accuracy: 0.8107\n",
            "Epoch 4/20\n",
            "553/553 [==============================] - 38s 68ms/step - loss: 0.3582 - accuracy: 0.8895 - val_loss: 0.8073 - val_accuracy: 0.8182\n",
            "Epoch 5/20\n",
            "553/553 [==============================] - 38s 69ms/step - loss: 0.2621 - accuracy: 0.9178 - val_loss: 0.7739 - val_accuracy: 0.8241\n",
            "Epoch 6/20\n",
            "553/553 [==============================] - 38s 70ms/step - loss: 0.1906 - accuracy: 0.9399 - val_loss: 0.8180 - val_accuracy: 0.8313\n",
            "Epoch 7/20\n",
            "553/553 [==============================] - 39s 70ms/step - loss: 0.1395 - accuracy: 0.9562 - val_loss: 0.8417 - val_accuracy: 0.8336\n",
            "Epoch 8/20\n",
            "553/553 [==============================] - 39s 70ms/step - loss: 0.1003 - accuracy: 0.9683 - val_loss: 0.8828 - val_accuracy: 0.8313\n",
            "Epoch 9/20\n",
            "553/553 [==============================] - 39s 70ms/step - loss: 0.0895 - accuracy: 0.9717 - val_loss: 0.8982 - val_accuracy: 0.8343\n",
            "Epoch 10/20\n",
            "553/553 [==============================] - 39s 70ms/step - loss: 0.0616 - accuracy: 0.9805 - val_loss: 0.9624 - val_accuracy: 0.8317\n",
            "Epoch 11/20\n",
            "553/553 [==============================] - 39s 70ms/step - loss: 0.0525 - accuracy: 0.9835 - val_loss: 0.9058 - val_accuracy: 0.8362\n",
            "Epoch 12/20\n",
            "553/553 [==============================] - 39s 70ms/step - loss: 0.0495 - accuracy: 0.9843 - val_loss: 0.9812 - val_accuracy: 0.8349\n",
            "Epoch 13/20\n",
            "553/553 [==============================] - 39s 71ms/step - loss: 0.0419 - accuracy: 0.9868 - val_loss: 1.0310 - val_accuracy: 0.8346\n",
            "Epoch 14/20\n",
            "553/553 [==============================] - 39s 71ms/step - loss: 0.0429 - accuracy: 0.9864 - val_loss: 0.9843 - val_accuracy: 0.8346\n",
            "Epoch 15/20\n",
            "553/553 [==============================] - 39s 71ms/step - loss: 0.0344 - accuracy: 0.9894 - val_loss: 1.0179 - val_accuracy: 0.8382\n",
            "Epoch 16/20\n",
            "553/553 [==============================] - 39s 71ms/step - loss: 0.0332 - accuracy: 0.9897 - val_loss: 1.0139 - val_accuracy: 0.8380\n",
            "Epoch 17/20\n",
            "553/553 [==============================] - 39s 70ms/step - loss: 0.0318 - accuracy: 0.9903 - val_loss: 1.1014 - val_accuracy: 0.8349\n",
            "Epoch 18/20\n",
            "553/553 [==============================] - 39s 70ms/step - loss: 0.0313 - accuracy: 0.9903 - val_loss: 1.0596 - val_accuracy: 0.8388\n",
            "Epoch 19/20\n",
            "553/553 [==============================] - 39s 70ms/step - loss: 0.0274 - accuracy: 0.9917 - val_loss: 1.0972 - val_accuracy: 0.8397\n",
            "Epoch 20/20\n",
            "553/553 [==============================] - 39s 70ms/step - loss: 0.0276 - accuracy: 0.9917 - val_loss: 1.0646 - val_accuracy: 0.8416\n"
          ],
          "name": "stdout"
        },
        {
          "output_type": "execute_result",
          "data": {
            "text/plain": [
              "<tensorflow.python.keras.callbacks.History at 0x7fd18cebd490>"
            ]
          },
          "metadata": {
            "tags": []
          },
          "execution_count": 32
        }
      ]
    },
    {
      "cell_type": "code",
      "metadata": {
        "id": "m2Uhhi5OV5zK"
      },
      "source": [
        "#title Function to Train & Test  given model (Early Stopping monitor 'val_loss')\n",
        "def train_test(model, X_train, y_train , X_test, \ty_test, epochs=500, batch_size=32, patience=5,verbose=0):\n",
        "\t# patient early stopping\n",
        "\t#es = EarlyStopping(monitor='val_accuracy', mode='max', min_delta=1, patience=20)\n",
        "\tes = EarlyStopping(monitor='val_loss', mode='min', verbose=1, patience=patience)\n",
        "\t# train model\n",
        "\tprint('training for ',epochs,' epochs begins with EarlyStopping(monitor= val_loss, patience=',patience,')....')\n",
        "\thistory=model.fit(X_train, y_train, validation_split= 0.1, epochs=epochs,batch_size=batch_size, verbose=verbose, callbacks=[es])\n",
        "\tprint(epochs,' epoch training finished...')\n",
        "\n",
        "\t# report training\n",
        "\t# list all data in history\n",
        "\t#print(history.history.keys())\n",
        "\t# evaluate the model\n",
        "\t_, train_acc = model.evaluate(X_train, y_train, batch_size=batch_size, verbose=0)\n",
        "\t_, test_acc = model.evaluate(X_test, \ty_test, batch_size=batch_size, verbose=0)\n",
        "\tprint('\\nPREDICTION ACCURACY (%):')\n",
        "\tprint('Train: %.3f, Test: %.3f' % (train_acc*100, test_acc*100))\n",
        "\t# summarize history for accuracy\n",
        "\tplt.plot(history.history['accuracy'])\n",
        "\tplt.plot(history.history['val_accuracy'])\n",
        "\tplt.title(model.name+' accuracy')\n",
        "\tplt.ylabel('accuracy')\n",
        "\tplt.xlabel('epoch')\n",
        "\tplt.legend(['train', 'val'], loc='upper left')\n",
        "\tplt.show()\n",
        "\t# summarize history for loss\n",
        "\tplt.plot(history.history['loss'])\n",
        "\tplt.plot(history.history['val_loss'])\n",
        "\tplt.title(model.name+' loss')\n",
        "\tplt.ylabel('loss')\n",
        "\tplt.xlabel('epoch')\n",
        "\tplt.legend(['train', 'val'], loc='upper left')\n",
        "\tplt.show()\n",
        "\n",
        "\n",
        "\n",
        "\n",
        "  \n",
        "\t# spot check some examples\n",
        "\tspace = 3*len(one_hot_decode(y_test[0]))\n",
        "\tprint('10 examples from test data...')\n",
        "\tprint('Input',' '*(space-4) ,'Expected',' '*(space-7) ,\n",
        "\t      'Predicted',' '*(space-5) ,'T/F')\n",
        "\tcorrect =0 \n",
        "\tsampleNo =  100\n",
        "  #model = model_encoder_training\n",
        "\n",
        "\tpredicted= model.predict(X_test[:sampleNo], batch_size=batch_size)\n",
        "\tfor sample in range(0,sampleNo):\n",
        "\t\tif (one_hot_decode(y_test[sample])== one_hot_decode(predicted[sample])):\n",
        "\t\t\tcorrect+=1\n",
        "\t\tprint(test_input_texts[sample], ' ', \n",
        "\t\t\t\t\tprintTargetWord(one_hot_decode(y_test[sample])),' ', printTargetWord(one_hot_decode(predicted[sample])),\n",
        "\t\t\t\t\t' ',one_hot_decode(y_test[sample])== one_hot_decode(predicted[sample]))\n",
        "\tprint('Accuracy: ', correct/sampleNo)"
      ],
      "execution_count": null,
      "outputs": []
    },
    {
      "cell_type": "code",
      "metadata": {
        "id": "KFieHpX8IuCn",
        "colab": {
          "base_uri": "https://localhost:8080/"
        },
        "outputId": "b920b99f-3eef-4b31-cb5d-060c99f634c0"
      },
      "source": [
        "model = model_encoder_training\n",
        "[print(i.shape, i.dtype) for i in model.inputs]\n",
        "[print(o.shape, o.dtype) for o in model.outputs]\n",
        "[print(l.name, l.input_shape, l.dtype) for l in model.layers]\n",
        "X_test[:1].shape"
      ],
      "execution_count": null,
      "outputs": [
        {
          "output_type": "stream",
          "text": [
            "(None, 25, 125) <dtype: 'float32'>\n",
            "(None, None, 129) <dtype: 'float32'>\n",
            "(None, None, 129) <dtype: 'float32'>\n",
            "encoder_inputs [(None, 25, 125)] float32\n",
            "decoder_inputs [(None, None, 129)] float32\n",
            "lstm (None, 25, 125) float32\n",
            "lstm_3 [(None, None, 129), (None, 256), (None, 256)] float32\n",
            "lstm_1 (None, 25, 256) float32\n",
            "lstm_4 [(None, None, 256), (None, 512), (None, 512)] float32\n",
            "lstm_2 (None, 25, 512) float32\n",
            "lstm_5 [(None, None, 512), (None, 1024), (None, 1024)] float32\n",
            "dense (None, None, 1024) float32\n"
          ],
          "name": "stdout"
        },
        {
          "output_type": "execute_result",
          "data": {
            "text/plain": [
              "(1,)"
            ]
          },
          "metadata": {
            "tags": []
          },
          "execution_count": 34
        }
      ]
    },
    {
      "cell_type": "code",
      "metadata": {
        "id": "I46w57yWTHJw",
        "colab": {
          "base_uri": "https://localhost:8080/",
          "height": 1000
        },
        "outputId": "a60c4d2c-ff1c-41ac-ac43-216e11191f61"
      },
      "source": [
        "train_test(model_encoder_training, [encoder_input_data, decoder_input_data], decoder_target_data ,\n",
        "           [encoder_input_test, decoder_input_test], \n",
        "           decoder_target_test, epochs=20, batch_size=64, patience=3,verbose=2)\n"
      ],
      "execution_count": null,
      "outputs": [
        {
          "output_type": "stream",
          "text": [
            "training for  20  epochs begins with EarlyStopping(monitor= val_loss, patience= 3 )....\n",
            "Epoch 1/20\n",
            "622/622 - 40s - loss: 0.0670 - accuracy: 0.9804 - val_loss: 0.6187 - val_accuracy: 0.8657\n",
            "Epoch 2/20\n",
            "622/622 - 40s - loss: 0.0326 - accuracy: 0.9901 - val_loss: 0.6582 - val_accuracy: 0.8662\n",
            "Epoch 3/20\n",
            "622/622 - 40s - loss: 0.0282 - accuracy: 0.9916 - val_loss: 0.6787 - val_accuracy: 0.8640\n",
            "Epoch 4/20\n",
            "622/622 - 40s - loss: 0.0271 - accuracy: 0.9920 - val_loss: 0.6510 - val_accuracy: 0.8659\n",
            "Epoch 00004: early stopping\n",
            "20  epoch training finished...\n",
            "\n",
            "PREDICTION ACCURACY (%):\n",
            "Train: 97.872, Test: 92.826\n"
          ],
          "name": "stdout"
        },
        {
          "output_type": "display_data",
          "data": {
            "image/png": "[encoded data removed]",
            "text/plain": [
              "<Figure size 432x288 with 1 Axes>"
            ]
          },
          "metadata": {
            "tags": [],
            "needs_background": "light"
          }
        },
        {
          "output_type": "display_data",
          "data": {
            "image/png": "[encoded data removed]",
            "text/plain": [
              "<Figure size 432x288 with 1 Axes>"
            ]
          },
          "metadata": {
            "tags": [],
            "needs_background": "light"
          }
        },
        {
          "output_type": "stream",
          "text": [
            "10 examples from test data...\n",
            "Input                                                                         Expected                                                                      Predicted                                                                        T/F\n",
            "ank   अंक   एंक   False\n",
            "anka   अंक   आंका   False\n",
            "ankit   अंकित   अंक्त   False\n",
            "anakon   अंकों   आंकों   False\n",
            "ankhon   अंकों   आंखनं   False\n",
            "ankon   अंकों   आंकों   False\n",
            "angkor   अंकोर   अंगूर   False\n",
            "ankor   अंकोर   अंकुर   False\n",
            "angaarak   अंगारक   अनगारा   False\n",
            "angarak   अंगारक   अंगारा   False\n",
            "angraji   अंग्रज़ी   अंग्रजीी   False\n",
            "angreji   अंग्रज़ी   अंग्रजीी   False\n",
            "angrzi   अंग्रज़ी   अंग्रजीी   False\n",
            "antah   अंतः   अंता   False\n",
            "antaha   अंतः   अंता   False\n",
            "antarmukh   अंतर्मुख   अंतर्दतक   False\n",
            "antmurkh   अंतर्मुख   अंतर्गकक   False\n",
            "antrmukh   अंतर्मुख   अंतर्मशश   False\n",
            "andrabee   अंद्राबी   अंदररजज्   False\n",
            "andrabi   अंद्राबी   अंदररजजी   False\n",
            "andha   अंधा   अंधा   True\n",
            "andhapan   अंधापन   अंधापन   True\n",
            "andheri   अंधेरी   अंधेरी   True\n",
            "ambaani   अंबानी   अमबाही   False\n",
            "ambani   अंबानी   अमबाही   False\n",
            "akram   अकरम   आररा   False\n",
            "acapulco   अकापुल्को   अफ्फुल्की   False\n",
            "akapulko   अकापुल्को   आफ्फुलाक   False\n",
            "akhand   अखंड   अखाड   False\n",
            "akhil   अखिल   अख्ल   False\n",
            "agavai   अगवाई   आगवाईं   False\n",
            "agvaai   अगवाई   आववाई   False\n",
            "augustine   अगस्टाइन   अगस्टीइन   False\n",
            "augustustine   अगस्टाइन   अगस्टीउंे   False\n",
            "agsta   अगस्ता   अगसतता   False\n",
            "agusta   अगस्ता   अगसूता   False\n",
            "augusta   अगस्ता   अगस्ट   False\n",
            "agr   अग्र   एगरर   False\n",
            "agra   अग्र   आगररा   False\n",
            "achambha   अचंभा   अच्भा   False\n",
            "achanbha   अचंभा   अच्चा   False\n",
            "achievement   अचीवमेंट   एलेतसिंट   False\n",
            "achivement   अचीवमेंट   एलेतसंंट   False\n",
            "acchi   अच्छी   अच्छी   True\n",
            "achchi   अच्छी   अच्छी   True\n",
            "achhi   अच्छी   अछ्छा   False\n",
            "achyut   अच्युत   अछ्छुक   False\n",
            "achhanera   अछनेरा   अच््दा   False\n",
            "achnera   अछनेरा   अचिुका   False\n",
            "ajmeedh   अजमीढ़   अजमेद़   False\n",
            "ajhar   अजहर   अभहा   False\n",
            "azhar   अजहर   अभ्ा   False\n",
            "ajit   अजित   अजीत   False\n",
            "agnat   अज्ञात   अं्ञात   False\n",
            "agyaat   अज्ञात   अज्ञात   True\n",
            "agyat   अज्ञात   अज्ञात   True\n",
            "atakta   अटकता   अकक्ा   False\n",
            "atkata   अटकता   अटक्ा   False\n",
            "atake   अटके   अटके   True\n",
            "atke   अटके   अटके   True\n",
            "atwaal   अटवाल   आटवाल   False\n",
            "atwal   अटवाल   अरवाल   False\n",
            "attahasa   अट्टहास   अट्तावपा   False\n",
            "atthaas   अट्टहास   अत्थासस   False\n",
            "atthas   अट्टहास   अत्थासस   False\n",
            "addon   अड्डों   अड़डों   False\n",
            "athak   अथक   अकक   False\n",
            "atharv   अथर्व   अथा्व   False\n",
            "atharva   अथर्व   अथा्व   False\n",
            "adad   अदद   अदा   False\n",
            "adaani   अदाणी   अदानी   False\n",
            "adani   अदाणी   अदानी   False\n",
            "advait   अद्वैत   अव्वात   False\n",
            "adwait   अद्वैत   अव्वात   False\n",
            "advaitvaad   अद्वैतवाद   अव्वेत्ाद   False\n",
            "advaitwad   अद्वैतवाद   अव्वेत्ाद   False\n",
            "adhivas   अधिवास   अधिवास   True\n",
            "adhiwas   अधिवास   अधिवास   True\n",
            "advivas   अधिवास   आव्वास्   False\n",
            "adhiik   अधीक   अधिक   False\n",
            "adhik   अधीक   अधिक   False\n",
            "adhyayanarat   अध्ययनरत   अध्ययनक्   False\n",
            "adhyayanrat   अध्ययनरत   अध्ययनक्   False\n",
            "adhyaynrat   अध्ययनरत   अध्ययनक्   False\n",
            "anant   अनंत   अन्त   False\n",
            "ananti   अनंती   अनंती   True\n",
            "angadh   अनगढ़   अंंद़   False\n",
            "angarh   अनगढ़   अंदम़   False\n",
            "anchahe   अनचाहे   आंह्हे   False\n",
            "anthak   अनथक   अंाक   False\n",
            "unthak   अनथक   उन्ला   False\n",
            "anhoni   अनहोनी   अन्ेंी   False\n",
            "anaavashyak   अनावश्यक   अन्वश्यक   False\n",
            "anavashyak   अनावश्यक   अन्वश्यक   False\n",
            "anavshyak   अनावश्यक   अन्वश्यक   False\n",
            "anawashyak   अनावश्यक   अन्वश्यक   False\n",
            "anik   अनिक   अनिक   True\n",
            "anishwarvadi   अनीश्वरवादी   अन्व्वव्ादी   False\n",
            "anishwarwadi   अनीश्वरवादी   अन्व्वव्ादी   False\n",
            "anukoltha   अनुकूलता   अथुकूलता   False\n",
            "Accuracy:  0.13\n"
          ],
          "name": "stdout"
        }
      ]
    },
    {
      "cell_type": "code",
      "metadata": {
        "id": "nS1JLkIRt-Sn"
      },
      "source": [
        "# Define sampling models (modified for n-layer deep network)\n",
        "encoder_model = Model(encoder_inputs, encoder_states)\n",
        "d_outputs = decoder_inputs\n",
        "decoder_states_inputs = []\n",
        "decoder_states = []\n",
        "for j in range(len(latent_dims))[::-1]:\n",
        "    current_state_inputs = [Input(shape=(latent_dims[j],)) for _ in range(2)]\n",
        "\n",
        "    temp = output_layers[len(latent_dims)-j-1](d_outputs, initial_state=current_state_inputs)\n",
        "\n",
        "    d_outputs, cur_states = temp[0], temp[1:]\n",
        "\n",
        "    decoder_states += cur_states\n",
        "    decoder_states_inputs += current_state_inputs\n",
        "\n",
        "decoder_outputs = decoder_dense(d_outputs)\n",
        "decoder_model = Model(\n",
        "    [decoder_inputs] + decoder_states_inputs,\n",
        "    [decoder_outputs] + decoder_states)"
      ],
      "execution_count": null,
      "outputs": []
    },
    {
      "cell_type": "code",
      "metadata": {
        "id": "oSnLLQylt-wW"
      },
      "source": [
        "def decode_sequence(input_seq, encoder_model=encoder_model, decoder_model=decoder_model):\n",
        "    # Encode the input as state vectors.\n",
        "    states_value = encoder_model.predict(input_seq)\n",
        "\n",
        "    # Generate empty target sequence of length 1.\n",
        "    target_seq = np.zeros((1, 1, output_dimension))\n",
        "    # Populate the first character of target sequence with the start character.\n",
        "    target_seq[0, 0, 0] = 1 \n",
        "\n",
        "    # Sampling loop for a batch of sequences\n",
        "    # (to simplify, here we assume a batch of size 1).\n",
        "    stop_condition = False\n",
        "    decoded_sentence = []  #Creating a list then using \"\".join() is usually much faster for string creation\n",
        "    while not stop_condition:\n",
        "        to_split = decoder_model.predict([target_seq] + states_value)\n",
        "\n",
        "        output_tokens, states_value = to_split[0], to_split[1:]\n",
        "\n",
        "       \n",
        "\n",
        "\n",
        "        # convert the token/output prediction to a token/output\n",
        "        sampled_token_index = np.argmax(output_tokens[0, -1, :])\n",
        "        sampled_char = sampled_token_index\n",
        "        # add the predicted token/output to output sequence\n",
        "        decoded_sentence.append(sampled_char)\n",
        "\n",
        "\n",
        "\n",
        "        # Exit condition: either hit max length\n",
        "        # or find stop character.\n",
        "        if sampled_char == 0 or len(decoded_sentence) >=  max_output_sequence:\n",
        "            stop_condition = True\n",
        "\n",
        "        # Update the target sequence (of length 1).\n",
        "        target_seq = np.zeros((1, 1, output_dimension))\n",
        "        target_seq[0, 0, sampled_token_index] = 1.\n",
        "\n",
        "    return decoded_sentence\n"
      ],
      "execution_count": null,
      "outputs": []
    },
    {
      "cell_type": "code",
      "metadata": {
        "colab": {
          "base_uri": "https://localhost:8080/"
        },
        "id": "wPHfdmn1uEhv",
        "outputId": "f5a63f01-6f7c-4878-c922-fcbfe829c5e4"
      },
      "source": [
        "print('Input \\t\\t\\t\\t\\t  Expected  \\t\\t\\t   Predicted \\t\\t\\t\\t\\t\\t\\t T/F')\n",
        "correct =0 \n",
        "sampleNo =  100\n",
        "for sample in range(0,sampleNo):\n",
        "  predicted= decode_sequence(encoder_input_data[sample].reshape(1,max_input_sequence,input_dimension))\n",
        "  if (one_hot_decode(decoder_target_data[sample])== predicted+ [0] * (max_output_sequence- len(predicted))):\n",
        "    correct+=1\n",
        "  print( train_input_texts[sample], '\\t\\t', \n",
        "        printTargetWord( one_hot_decode(decoder_target_data[sample])),'\\t', printTargetWord(predicted),\n",
        "        '\\t\\t', one_hot_decode(decoder_target_data[sample])== predicted+ [0] * (max_output_sequence- len(predicted)))\n",
        "print('Accuracy: ', correct/sampleNo)"
      ],
      "execution_count": null,
      "outputs": [
        {
          "output_type": "stream",
          "text": [
            "Input \t\t\t\t\t  Expected  \t\t\t   Predicted \t\t\t\t\t\t\t T/F\n",
            "an \t\t अं \t अन \t\t False\n",
            "ankganit \t\t अंकगणित \t अंकगणित \t\t True\n",
            "uncle \t\t अंकल \t अंकल \t\t True\n",
            "ankur \t\t अंकुर \t अंकुर \t\t True\n",
            "ankuran \t\t अंकुरण \t अंकुरण \t\t True\n",
            "ankurit \t\t अंकुरित \t अंकुरित \t\t True\n",
            "aankush \t\t अंकुश \t आशीष \t\t False\n",
            "ankush \t\t अंकुश \t अंकुश \t\t True\n",
            "ang \t\t अंग \t अंग \t\t True\n",
            "anga \t\t अंग \t अंग \t\t True\n",
            "agandh \t\t अंगद \t अंदाज़ \t\t False\n",
            "angad \t\t अंगद \t अंगद \t\t True\n",
            "angane \t\t अंगने \t आंगने \t\t False\n",
            "angbhang \t\t अंगभंग \t अंगभंग \t\t True\n",
            "angarakshak \t\t अंगरक्षक \t अंगरक्षक \t\t True\n",
            "angrakshak \t\t अंगरक्षक \t अंगरक्षक \t\t True\n",
            "angara \t\t अंगारा \t अंगारा \t\t True\n",
            "angaare \t\t अंगारे \t अंगारे \t\t True\n",
            "angare \t\t अंगारे \t अंगारे \t\t True\n",
            "angi \t\t अंगी \t अंगी \t\t True\n",
            "angikar \t\t अंगीकार \t अंगीकार \t\t True\n",
            "anguthe \t\t अंगुठे \t अंगुठे \t\t True\n",
            "angul \t\t अंगुल \t अंगुल \t\t True\n",
            "anguliyon \t\t अंगुलियों \t अंगुलियों \t\t True\n",
            "anguli \t\t अंगुली \t अंगुली \t\t True\n",
            "ungli \t\t अंगुली \t अंगुली \t\t True\n",
            "angutha \t\t अंगूठा \t अंगूठा \t\t True\n",
            "aanguthiyon \t\t अंगूठियों \t अंगूठियों \t\t True\n",
            "anguthiyon \t\t अंगूठियों \t अंगूठियों \t\t True\n",
            "anguthi \t\t अंगूठी \t अंगुठी \t\t False\n",
            "anguthe \t\t अंगूठे \t अंगुठे \t\t False\n",
            "anguthon \t\t अंगूठे \t अंगूठे \t\t True\n",
            "angoor \t\t अंगूर \t अंगूर \t\t True\n",
            "angur \t\t अंगूर \t अंगूर \t\t True\n",
            "anguri \t\t अंगूरी \t अंगूरी \t\t True\n",
            "anguron \t\t अंगूरों \t अंगूरों \t\t True\n",
            "anguuron \t\t अंगूरों \t अंगूरों \t\t True\n",
            "angon \t\t अंगों \t अंगों \t\t True\n",
            "angola \t\t अंगोला \t अंगोला \t\t True\n",
            "angraji \t\t अंग्रजी \t अंग्रजी \t\t True\n",
            "angreji \t\t अंग्रजी \t अंग्रजी \t\t True\n",
            "angrezi \t\t अंग्रजी \t अंग्रजी \t\t True\n",
            "angreji \t\t अंग्रेजी \t अंग्रजी \t\t False\n",
            "anchal \t\t अंचल \t अंचल \t\t True\n",
            "anchalon \t\t अंचलों \t अंचलों \t\t True\n",
            "anchlon \t\t अंचलों \t अंचलों \t\t True\n",
            "anjan \t\t अंजन \t अनजान \t\t False\n",
            "anjana \t\t अंजना \t अनजाना \t\t False\n",
            "anjali \t\t अंजली \t अंजली \t\t True\n",
            "anjaan \t\t अंजान \t अनजान \t\t False\n",
            "anjan \t\t अंजान \t अनजान \t\t False\n",
            "anjaani \t\t अंजानी \t अनजानी \t\t False\n",
            "anjani \t\t अंजानी \t अनजानी \t\t False\n",
            "anjaane \t\t अंजाने \t अनजाने \t\t False\n",
            "anjane \t\t अंजाने \t अंजाने \t\t True\n",
            "anjar \t\t अंजार \t अंजार \t\t True\n",
            "anjeer \t\t अंजीर \t अंजेर \t\t False\n",
            "anjum \t\t अंजुम \t अंजुम \t\t True\n",
            "anjuman \t\t अंजुमन \t अंजुमन \t\t True\n",
            "anju \t\t अंजू \t अंजू \t\t True\n",
            "antarctica \t\t अंटार्कटिका \t अंटार्कटिका \t\t True\n",
            "antartica \t\t अंटार्कटिका \t अंतरिक्षय \t\t False\n",
            "antaniyo \t\t अंटोनियो \t अंटोनियो \t\t True\n",
            "antonio \t\t अंटोनियो \t एंटोनियो \t\t False\n",
            "antoni \t\t अंटोनी \t अंटोनी \t\t True\n",
            "antony \t\t अंटोनी \t अंटोनी \t\t True\n",
            "andaman \t\t अंडमान \t अंडमान \t\t True\n",
            "under \t\t अंडर \t अंडर \t\t True\n",
            "undercover \t\t अंडरकवर \t अंडरकवर \t\t True\n",
            "undertaker \t\t अंडरटेकर \t अंडरटेकर \t\t True\n",
            "underworld \t\t अंडरवर्ल्ड \t अंडरवर्ल्ड \t\t True\n",
            "undeworld \t\t अंडरवर्ल्ड \t अंडरवर्ल्ड \t\t True\n",
            "underwear \t\t अंडरवियर \t अंडरवियर \t\t True\n",
            "anda \t\t अंडा \t अंडा \t\t True\n",
            "andaa \t\t अंडा \t अंडा \t\t True\n",
            "andakar \t\t अंडाकार \t अंडाकार \t\t True\n",
            "andashay \t\t अंडाशय \t अंडाशय \t\t True\n",
            "andde \t\t अंडे \t अंडे \t\t True\n",
            "ande \t\t अंडे \t अंडे \t\t True\n",
            "andon \t\t अंडों \t अंडों \t\t True\n",
            "ant \t\t अंत \t अंत \t\t True\n",
            "antahakaran \t\t अंतःकरण \t अत्यावक्ताओं \t\t False\n",
            "antahkaran \t\t अंतःकरण \t अंतःकरण \t\t True\n",
            "antatogtva \t\t अंततोगत्वा \t अंततोगत्वा \t\t True\n",
            "anttogtva \t\t अंततोगत्वा \t अंततोगत्वा \t\t True\n",
            "antar \t\t अंतर \t अंतर \t\t True\n",
            "anthar \t\t अंतर \t अंतर \t\t True\n",
            "antargrahiy \t\t अंतरग्रहीय \t अंतर्देश्यों \t\t False\n",
            "antargrahiya \t\t अंतरग्रहीय \t अंतर्देशय \t\t False\n",
            "antrgrahiy \t\t अंतरग्रहीय \t अंतर्देशीय \t\t False\n",
            "antarmahadveepeeye \t\t अंतरमहाद्वीपीय \t अंतरमहाद्वीपीय \t\t True\n",
            "antarmahadvipiya \t\t अंतरमहाद्वीपीय \t अंतरमहाद्वीपीय \t\t True\n",
            "antarmahadweepiy \t\t अंतरमहाद्वीपीय \t अंतरमहाद्वीपीय \t\t True\n",
            "antarmhadvipiye \t\t अंतरमहाद्वीपीय \t अंतरमहाद्वीपीय \t\t True\n",
            "antermahadavipiy \t\t अंतरमहाद्वीपीय \t अंतरमहाद्वीपीय \t\t True\n",
            "antharmahavipiya \t\t अंतरमहाद्वीपीय \t अंतरमहाद्वीपीय \t\t True\n",
            "antarrashtriya \t\t अंतरराष्ट्रीय \t अंतरराष्ट्रीय \t\t True\n",
            "antarrashtriye \t\t अंतरराष्ट्रीय \t अंतरराष्ट्रीय \t\t True\n",
            "antararraashtreey \t\t अंतरर्राष्ट्रीय \t अंतरराष्ट्रीय \t\t False\n",
            "antarrashtriya \t\t अंतरर्राष्ट्रीय \t अंतरराष्ट्रीय \t\t False\n",
            "Accuracy:  0.77\n"
          ],
          "name": "stdout"
        }
      ]
    },
    {
      "cell_type": "code",
      "metadata": {
        "id": "n7m2a-EOTlNa",
        "colab": {
          "base_uri": "https://localhost:8080/"
        },
        "outputId": "ffe2e104-4ba1-486e-bf4b-2d1c25450172"
      },
      "source": [
        "print('Input \\t\\t\\t\\t\\t  Expected  \\t\\t\\t   Predicted \\t\\t\\t\\t\\t\\t\\t T/F')\n",
        "correct =0 \n",
        "sampleNo =  100\n",
        "for sample in range(0,sampleNo):\n",
        "  predicted= decode_sequence(encoder_input_data[sample].reshape(1,max_input_sequence,input_dimension))\n",
        "  if (one_hot_decode(decoder_target_data[sample])== predicted+ [0] * (max_output_sequence- len(predicted))):\n",
        "    correct+=1\n",
        "  print( train_input_texts[sample], '\\t\\t', \n",
        "        printTargetWord( one_hot_decode(decoder_target_data[sample])),'\\t', printTargetWord(predicted),\n",
        "        '\\t\\t', one_hot_decode(decoder_target_data[sample])== predicted+ [0] * (max_output_sequence- len(predicted)))\n",
        "print('Accuracy: ', correct/sampleNo)"
      ],
      "execution_count": null,
      "outputs": [
        {
          "output_type": "stream",
          "text": [
            "Input \t\t\t\t\t  Expected  \t\t\t   Predicted \t\t\t\t\t\t\t T/F\n",
            "an \t\t अं \t अन \t\t False\n",
            "ankganit \t\t अंकगणित \t अंकगणित \t\t True\n",
            "uncle \t\t अंकल \t अंकल \t\t True\n",
            "ankur \t\t अंकुर \t अंकुर \t\t True\n",
            "ankuran \t\t अंकुरण \t अंकुरण \t\t True\n",
            "ankurit \t\t अंकुरित \t अंकुरित \t\t True\n",
            "aankush \t\t अंकुश \t आशीष \t\t False\n",
            "ankush \t\t अंकुश \t अंकुश \t\t True\n",
            "ang \t\t अंग \t अंग \t\t True\n",
            "anga \t\t अंग \t अंग \t\t True\n",
            "agandh \t\t अंगद \t अंदाज़ \t\t False\n",
            "angad \t\t अंगद \t अंगद \t\t True\n",
            "angane \t\t अंगने \t आंगने \t\t False\n",
            "angbhang \t\t अंगभंग \t अंगभंग \t\t True\n",
            "angarakshak \t\t अंगरक्षक \t अंगरक्षक \t\t True\n",
            "angrakshak \t\t अंगरक्षक \t अंगरक्षक \t\t True\n",
            "angara \t\t अंगारा \t अंगारा \t\t True\n",
            "angaare \t\t अंगारे \t अंगारे \t\t True\n",
            "angare \t\t अंगारे \t अंगारे \t\t True\n",
            "angi \t\t अंगी \t अंगी \t\t True\n",
            "angikar \t\t अंगीकार \t अंगीकार \t\t True\n",
            "anguthe \t\t अंगुठे \t अंगुठे \t\t True\n",
            "angul \t\t अंगुल \t अंगुल \t\t True\n",
            "anguliyon \t\t अंगुलियों \t अंगुलियों \t\t True\n",
            "anguli \t\t अंगुली \t अंगुली \t\t True\n",
            "ungli \t\t अंगुली \t अंगुली \t\t True\n",
            "angutha \t\t अंगूठा \t अंगूठा \t\t True\n",
            "aanguthiyon \t\t अंगूठियों \t अंगूठियों \t\t True\n",
            "anguthiyon \t\t अंगूठियों \t अंगूठियों \t\t True\n",
            "anguthi \t\t अंगूठी \t अंगुठी \t\t False\n",
            "anguthe \t\t अंगूठे \t अंगुठे \t\t False\n",
            "anguthon \t\t अंगूठे \t अंगूठे \t\t True\n",
            "angoor \t\t अंगूर \t अंगूर \t\t True\n",
            "angur \t\t अंगूर \t अंगूर \t\t True\n",
            "anguri \t\t अंगूरी \t अंगूरी \t\t True\n",
            "anguron \t\t अंगूरों \t अंगूरों \t\t True\n",
            "anguuron \t\t अंगूरों \t अंगूरों \t\t True\n",
            "angon \t\t अंगों \t अंगों \t\t True\n",
            "angola \t\t अंगोला \t अंगोला \t\t True\n",
            "angraji \t\t अंग्रजी \t अंग्रजी \t\t True\n",
            "angreji \t\t अंग्रजी \t अंग्रजी \t\t True\n",
            "angrezi \t\t अंग्रजी \t अंग्रजी \t\t True\n",
            "angreji \t\t अंग्रेजी \t अंग्रजी \t\t False\n",
            "anchal \t\t अंचल \t अंचल \t\t True\n",
            "anchalon \t\t अंचलों \t अंचलों \t\t True\n",
            "anchlon \t\t अंचलों \t अंचलों \t\t True\n",
            "anjan \t\t अंजन \t अनजान \t\t False\n",
            "anjana \t\t अंजना \t अनजाना \t\t False\n",
            "anjali \t\t अंजली \t अंजली \t\t True\n",
            "anjaan \t\t अंजान \t अनजान \t\t False\n",
            "anjan \t\t अंजान \t अनजान \t\t False\n",
            "anjaani \t\t अंजानी \t अनजानी \t\t False\n",
            "anjani \t\t अंजानी \t अनजानी \t\t False\n",
            "anjaane \t\t अंजाने \t अनजाने \t\t False\n",
            "anjane \t\t अंजाने \t अंजाने \t\t True\n",
            "anjar \t\t अंजार \t अंजार \t\t True\n",
            "anjeer \t\t अंजीर \t अंजेर \t\t False\n",
            "anjum \t\t अंजुम \t अंजुम \t\t True\n",
            "anjuman \t\t अंजुमन \t अंजुमन \t\t True\n",
            "anju \t\t अंजू \t अंजू \t\t True\n",
            "antarctica \t\t अंटार्कटिका \t अंटार्कटिका \t\t True\n",
            "antartica \t\t अंटार्कटिका \t अंतरिक्षय \t\t False\n",
            "antaniyo \t\t अंटोनियो \t अंटोनियो \t\t True\n",
            "antonio \t\t अंटोनियो \t एंटोनियो \t\t False\n",
            "antoni \t\t अंटोनी \t अंटोनी \t\t True\n",
            "antony \t\t अंटोनी \t अंटोनी \t\t True\n",
            "andaman \t\t अंडमान \t अंडमान \t\t True\n",
            "under \t\t अंडर \t अंडर \t\t True\n",
            "undercover \t\t अंडरकवर \t अंडरकवर \t\t True\n",
            "undertaker \t\t अंडरटेकर \t अंडरटेकर \t\t True\n",
            "underworld \t\t अंडरवर्ल्ड \t अंडरवर्ल्ड \t\t True\n",
            "undeworld \t\t अंडरवर्ल्ड \t अंडरवर्ल्ड \t\t True\n",
            "underwear \t\t अंडरवियर \t अंडरवियर \t\t True\n",
            "anda \t\t अंडा \t अंडा \t\t True\n",
            "andaa \t\t अंडा \t अंडा \t\t True\n",
            "andakar \t\t अंडाकार \t अंडाकार \t\t True\n",
            "andashay \t\t अंडाशय \t अंडाशय \t\t True\n",
            "andde \t\t अंडे \t अंडे \t\t True\n",
            "ande \t\t अंडे \t अंडे \t\t True\n",
            "andon \t\t अंडों \t अंडों \t\t True\n",
            "ant \t\t अंत \t अंत \t\t True\n",
            "antahakaran \t\t अंतःकरण \t अत्यावक्ताओं \t\t False\n",
            "antahkaran \t\t अंतःकरण \t अंतःकरण \t\t True\n",
            "antatogtva \t\t अंततोगत्वा \t अंततोगत्वा \t\t True\n",
            "anttogtva \t\t अंततोगत्वा \t अंततोगत्वा \t\t True\n",
            "antar \t\t अंतर \t अंतर \t\t True\n",
            "anthar \t\t अंतर \t अंतर \t\t True\n",
            "antargrahiy \t\t अंतरग्रहीय \t अंतर्देश्यों \t\t False\n",
            "antargrahiya \t\t अंतरग्रहीय \t अंतर्देशय \t\t False\n",
            "antrgrahiy \t\t अंतरग्रहीय \t अंतर्देशीय \t\t False\n",
            "antarmahadveepeeye \t\t अंतरमहाद्वीपीय \t अंतरमहाद्वीपीय \t\t True\n",
            "antarmahadvipiya \t\t अंतरमहाद्वीपीय \t अंतरमहाद्वीपीय \t\t True\n",
            "antarmahadweepiy \t\t अंतरमहाद्वीपीय \t अंतरमहाद्वीपीय \t\t True\n",
            "antarmhadvipiye \t\t अंतरमहाद्वीपीय \t अंतरमहाद्वीपीय \t\t True\n",
            "antermahadavipiy \t\t अंतरमहाद्वीपीय \t अंतरमहाद्वीपीय \t\t True\n",
            "antharmahavipiya \t\t अंतरमहाद्वीपीय \t अंतरमहाद्वीपीय \t\t True\n",
            "antarrashtriya \t\t अंतरराष्ट्रीय \t अंतरराष्ट्रीय \t\t True\n",
            "antarrashtriye \t\t अंतरराष्ट्रीय \t अंतरराष्ट्रीय \t\t True\n",
            "antararraashtreey \t\t अंतरर्राष्ट्रीय \t अंतरराष्ट्रीय \t\t False\n",
            "antarrashtriya \t\t अंतरर्राष्ट्रीय \t अंतरराष्ट्रीय \t\t False\n",
            "Accuracy:  0.77\n"
          ],
          "name": "stdout"
        }
      ]
    },
    {
      "cell_type": "markdown",
      "metadata": {
        "id": "SVTejroUlSrH"
      },
      "source": [
        "#Test custom words"
      ]
    },
    {
      "cell_type": "code",
      "metadata": {
        "id": "OKfGqsyhpTKI",
        "colab": {
          "base_uri": "https://localhost:8080/"
        },
        "outputId": "2c81b6b5-7dc2-4e03-be27-48aa88166106"
      },
      "source": [
        "test_word_set = ['kamal','gulab','radha','krishna','sita','ram']\n",
        "X_test_word_padded = get_embedding(test_word_set,eng_alpha2index)\n",
        "'''X_test_word=createDataset(test_word_set,eng_alpha2index)\n",
        "X_test_word_padded=pad_sequences(X_test_word, maxlen= max_input_sequence, padding='post', value=eng_pad)\n",
        "print(\"X_test_word shape: \",X_test_word.shape)\n",
        "print(\"X_test_word_padded shape: \",X_test_word_padded.shape)'''\n",
        "encoder_test_word_input_data = X_test_word_padded.copy()\n",
        "correct =0 \n",
        "sampleNo= len(test_word_set)\n",
        "for i in range(sampleNo):\n",
        "    decode_seq= decode_sequence(encoder_test_word_input_data[i].reshape(1,max_input_sequence,input_dimension))\n",
        "    print(test_word_set[i],end=\" \")\n",
        "    print(printTargetWord(decode_seq[:-1]))\n",
        "#print('Accuracy: ', correct/sampleNo)\n",
        "    \n"
      ],
      "execution_count": null,
      "outputs": [
        {
          "output_type": "stream",
          "text": [
            "kamal कमल\n",
            "gulab गुलाब\n",
            "radha राधा\n",
            "krishna कृष्ण\n",
            "sita शीता\n",
            "ram राम\n"
          ],
          "name": "stdout"
        }
      ]
    },
    {
      "cell_type": "code",
      "metadata": {
        "id": "A1docxhAi3Ld",
        "colab": {
          "base_uri": "https://localhost:8080/"
        },
        "outputId": "b603fa9e-2ecc-442b-f138-19322ea60975"
      },
      "source": [
        "randomlist = []\n",
        "for i in range(0,10):\n",
        "    n = random.randint(100,1000)\n",
        "    randomlist.append(n)\n",
        "print(randomlist)\n",
        "for seq_index in randomlist:\n",
        "    # Take one sequence (part of the training set)\n",
        "    # for trying out decoding.\n",
        "    input_seq = encoder_input_test[seq_index : seq_index + 1]\n",
        "    decoded_sentence = decode_sequence(input_seq)\n",
        "    print(\"-\")\n",
        "    #print(\"Input sentence:\", input_texts[seq_index])\n",
        "    print(\"Input sentence:\", test_input_texts[seq_index])\n",
        "    print(\"Decoded sentence:\", printTargetWord(decoded_sentence))"
      ],
      "execution_count": null,
      "outputs": [
        {
          "output_type": "stream",
          "text": [
            "[175, 464, 975, 439, 627, 259, 696, 758, 456, 841]\n",
            "-\n",
            "Input sentence: arymaa\n",
            "Decoded sentence: आर्जाया\n",
            "-\n",
            "Input sentence: uttra\n",
            "Decoded sentence: उत्तरा\n",
            "-\n",
            "Input sentence: galgand\n",
            "Decoded sentence: गलंग्र\n",
            "-\n",
            "Input sentence: uchhalane\n",
            "Decoded sentence: उछलने\n",
            "-\n",
            "Input sentence: oklahoma\n",
            "Decoded sentence: ओखलुआ\n",
            "-\n",
            "Input sentence: ounce\n",
            "Decoded sentence: ऊंच\n",
            "-\n",
            "Input sentence: kapda\n",
            "Decoded sentence: कपड़ा\n",
            "-\n",
            "Input sentence: kanti\n",
            "Decoded sentence: कनकीन\n",
            "-\n",
            "Input sentence: udaanen\n",
            "Decoded sentence: उदानीन\n",
            "-\n",
            "Input sentence: cateline\n",
            "Decoded sentence: कैटिलिन\n"
          ],
          "name": "stdout"
        }
      ]
    }
  ]
}