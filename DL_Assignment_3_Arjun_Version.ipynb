{
  "nbformat": 4,
  "nbformat_minor": 0,
  "metadata": {
    "colab": {
      "name": "DL_Assignment_3_Arjun_Version.ipynb",
      "provenance": [],
      "collapsed_sections": [],
      "authorship_tag": "ABX9TyOXRu2mCFpleoccIoWklYYf",
      "include_colab_link": true
    },
    "kernelspec": {
      "name": "python3",
      "display_name": "Python 3"
    },
    "language_info": {
      "name": "python"
    },
    "accelerator": "GPU",
    "widgets": {
      "application/vnd.jupyter.widget-state+json": {
        "7b97dda955f0454cbe7488e534068793": {
          "model_module": "@jupyter-widgets/controls",
          "model_name": "VBoxModel",
          "state": {
            "_view_name": "VBoxView",
            "_dom_classes": [],
            "_model_name": "VBoxModel",
            "_view_module": "@jupyter-widgets/controls",
            "_model_module_version": "1.5.0",
            "_view_count": null,
            "_view_module_version": "1.5.0",
            "box_style": "",
            "layout": "IPY_MODEL_5dc1d03f6cc64d4cbf944274ebc780a5",
            "_model_module": "@jupyter-widgets/controls",
            "children": [
              "IPY_MODEL_86089722f8a544129e4c5a3fc79d5cf8",
              "IPY_MODEL_20f2346c59b346f59dc7bbb7b7e792e3"
            ]
          }
        },
        "5dc1d03f6cc64d4cbf944274ebc780a5": {
          "model_module": "@jupyter-widgets/base",
          "model_name": "LayoutModel",
          "state": {
            "_view_name": "LayoutView",
            "grid_template_rows": null,
            "right": null,
            "justify_content": null,
            "_view_module": "@jupyter-widgets/base",
            "overflow": null,
            "_model_module_version": "1.2.0",
            "_view_count": null,
            "flex_flow": null,
            "width": null,
            "min_width": null,
            "border": null,
            "align_items": null,
            "bottom": null,
            "_model_module": "@jupyter-widgets/base",
            "top": null,
            "grid_column": null,
            "overflow_y": null,
            "overflow_x": null,
            "grid_auto_flow": null,
            "grid_area": null,
            "grid_template_columns": null,
            "flex": null,
            "_model_name": "LayoutModel",
            "justify_items": null,
            "grid_row": null,
            "max_height": null,
            "align_content": null,
            "visibility": null,
            "align_self": null,
            "height": null,
            "min_height": null,
            "padding": null,
            "grid_auto_rows": null,
            "grid_gap": null,
            "max_width": null,
            "order": null,
            "_view_module_version": "1.2.0",
            "grid_template_areas": null,
            "object_position": null,
            "object_fit": null,
            "grid_auto_columns": null,
            "margin": null,
            "display": null,
            "left": null
          }
        },
        "86089722f8a544129e4c5a3fc79d5cf8": {
          "model_module": "@jupyter-widgets/controls",
          "model_name": "LabelModel",
          "state": {
            "_view_name": "LabelView",
            "style": "IPY_MODEL_d5b51282cfdc400eb1f8fae7506d51ba",
            "_dom_classes": [],
            "description": "",
            "_model_name": "LabelModel",
            "placeholder": "​",
            "_view_module": "@jupyter-widgets/controls",
            "_model_module_version": "1.5.0",
            "value": " 2.17MB of 2.17MB uploaded (0.00MB deduped)\r",
            "_view_count": null,
            "_view_module_version": "1.5.0",
            "description_tooltip": null,
            "_model_module": "@jupyter-widgets/controls",
            "layout": "IPY_MODEL_8288f4f0c8d541a3999b60f5c7244be2"
          }
        },
        "20f2346c59b346f59dc7bbb7b7e792e3": {
          "model_module": "@jupyter-widgets/controls",
          "model_name": "FloatProgressModel",
          "state": {
            "_view_name": "ProgressView",
            "style": "IPY_MODEL_0919e553d5aa425393cf747ba86fc77d",
            "_dom_classes": [],
            "description": "",
            "_model_name": "FloatProgressModel",
            "bar_style": "",
            "max": 1,
            "_view_module": "@jupyter-widgets/controls",
            "_model_module_version": "1.5.0",
            "value": 1,
            "_view_count": null,
            "_view_module_version": "1.5.0",
            "orientation": "horizontal",
            "min": 0,
            "description_tooltip": null,
            "_model_module": "@jupyter-widgets/controls",
            "layout": "IPY_MODEL_f1428d67c17840cfbaec63761cbb2067"
          }
        },
        "d5b51282cfdc400eb1f8fae7506d51ba": {
          "model_module": "@jupyter-widgets/controls",
          "model_name": "DescriptionStyleModel",
          "state": {
            "_view_name": "StyleView",
            "_model_name": "DescriptionStyleModel",
            "description_width": "",
            "_view_module": "@jupyter-widgets/base",
            "_model_module_version": "1.5.0",
            "_view_count": null,
            "_view_module_version": "1.2.0",
            "_model_module": "@jupyter-widgets/controls"
          }
        },
        "8288f4f0c8d541a3999b60f5c7244be2": {
          "model_module": "@jupyter-widgets/base",
          "model_name": "LayoutModel",
          "state": {
            "_view_name": "LayoutView",
            "grid_template_rows": null,
            "right": null,
            "justify_content": null,
            "_view_module": "@jupyter-widgets/base",
            "overflow": null,
            "_model_module_version": "1.2.0",
            "_view_count": null,
            "flex_flow": null,
            "width": null,
            "min_width": null,
            "border": null,
            "align_items": null,
            "bottom": null,
            "_model_module": "@jupyter-widgets/base",
            "top": null,
            "grid_column": null,
            "overflow_y": null,
            "overflow_x": null,
            "grid_auto_flow": null,
            "grid_area": null,
            "grid_template_columns": null,
            "flex": null,
            "_model_name": "LayoutModel",
            "justify_items": null,
            "grid_row": null,
            "max_height": null,
            "align_content": null,
            "visibility": null,
            "align_self": null,
            "height": null,
            "min_height": null,
            "padding": null,
            "grid_auto_rows": null,
            "grid_gap": null,
            "max_width": null,
            "order": null,
            "_view_module_version": "1.2.0",
            "grid_template_areas": null,
            "object_position": null,
            "object_fit": null,
            "grid_auto_columns": null,
            "margin": null,
            "display": null,
            "left": null
          }
        },
        "0919e553d5aa425393cf747ba86fc77d": {
          "model_module": "@jupyter-widgets/controls",
          "model_name": "ProgressStyleModel",
          "state": {
            "_view_name": "StyleView",
            "_model_name": "ProgressStyleModel",
            "description_width": "",
            "_view_module": "@jupyter-widgets/base",
            "_model_module_version": "1.5.0",
            "_view_count": null,
            "_view_module_version": "1.2.0",
            "bar_color": null,
            "_model_module": "@jupyter-widgets/controls"
          }
        },
        "f1428d67c17840cfbaec63761cbb2067": {
          "model_module": "@jupyter-widgets/base",
          "model_name": "LayoutModel",
          "state": {
            "_view_name": "LayoutView",
            "grid_template_rows": null,
            "right": null,
            "justify_content": null,
            "_view_module": "@jupyter-widgets/base",
            "overflow": null,
            "_model_module_version": "1.2.0",
            "_view_count": null,
            "flex_flow": null,
            "width": null,
            "min_width": null,
            "border": null,
            "align_items": null,
            "bottom": null,
            "_model_module": "@jupyter-widgets/base",
            "top": null,
            "grid_column": null,
            "overflow_y": null,
            "overflow_x": null,
            "grid_auto_flow": null,
            "grid_area": null,
            "grid_template_columns": null,
            "flex": null,
            "_model_name": "LayoutModel",
            "justify_items": null,
            "grid_row": null,
            "max_height": null,
            "align_content": null,
            "visibility": null,
            "align_self": null,
            "height": null,
            "min_height": null,
            "padding": null,
            "grid_auto_rows": null,
            "grid_gap": null,
            "max_width": null,
            "order": null,
            "_view_module_version": "1.2.0",
            "grid_template_areas": null,
            "object_position": null,
            "object_fit": null,
            "grid_auto_columns": null,
            "margin": null,
            "display": null,
            "left": null
          }
        },
        "74d0c94940114b72a2647fea97352f9d": {
          "model_module": "@jupyter-widgets/controls",
          "model_name": "VBoxModel",
          "state": {
            "_view_name": "VBoxView",
            "_dom_classes": [],
            "_model_name": "VBoxModel",
            "_view_module": "@jupyter-widgets/controls",
            "_model_module_version": "1.5.0",
            "_view_count": null,
            "_view_module_version": "1.5.0",
            "box_style": "",
            "layout": "IPY_MODEL_e2874a885bd44c3fbbc532afdb2b5add",
            "_model_module": "@jupyter-widgets/controls",
            "children": [
              "IPY_MODEL_5b1c4688d79e4cda9527d72580ada8aa",
              "IPY_MODEL_4ecb8be323e5481d90fd3ec72f640825"
            ]
          }
        },
        "e2874a885bd44c3fbbc532afdb2b5add": {
          "model_module": "@jupyter-widgets/base",
          "model_name": "LayoutModel",
          "state": {
            "_view_name": "LayoutView",
            "grid_template_rows": null,
            "right": null,
            "justify_content": null,
            "_view_module": "@jupyter-widgets/base",
            "overflow": null,
            "_model_module_version": "1.2.0",
            "_view_count": null,
            "flex_flow": null,
            "width": null,
            "min_width": null,
            "border": null,
            "align_items": null,
            "bottom": null,
            "_model_module": "@jupyter-widgets/base",
            "top": null,
            "grid_column": null,
            "overflow_y": null,
            "overflow_x": null,
            "grid_auto_flow": null,
            "grid_area": null,
            "grid_template_columns": null,
            "flex": null,
            "_model_name": "LayoutModel",
            "justify_items": null,
            "grid_row": null,
            "max_height": null,
            "align_content": null,
            "visibility": null,
            "align_self": null,
            "height": null,
            "min_height": null,
            "padding": null,
            "grid_auto_rows": null,
            "grid_gap": null,
            "max_width": null,
            "order": null,
            "_view_module_version": "1.2.0",
            "grid_template_areas": null,
            "object_position": null,
            "object_fit": null,
            "grid_auto_columns": null,
            "margin": null,
            "display": null,
            "left": null
          }
        },
        "5b1c4688d79e4cda9527d72580ada8aa": {
          "model_module": "@jupyter-widgets/controls",
          "model_name": "LabelModel",
          "state": {
            "_view_name": "LabelView",
            "style": "IPY_MODEL_215ee03d69754db3a2a734999ffbbaa0",
            "_dom_classes": [],
            "description": "",
            "_model_name": "LabelModel",
            "placeholder": "​",
            "_view_module": "@jupyter-widgets/controls",
            "_model_module_version": "1.5.0",
            "value": " 5.86MB of 5.86MB uploaded (0.00MB deduped)\r",
            "_view_count": null,
            "_view_module_version": "1.5.0",
            "description_tooltip": null,
            "_model_module": "@jupyter-widgets/controls",
            "layout": "IPY_MODEL_9491415bf13e4ddc96a02101f4611640"
          }
        },
        "4ecb8be323e5481d90fd3ec72f640825": {
          "model_module": "@jupyter-widgets/controls",
          "model_name": "FloatProgressModel",
          "state": {
            "_view_name": "ProgressView",
            "style": "IPY_MODEL_3cc0461fb83a4caa839bc62af7e82991",
            "_dom_classes": [],
            "description": "",
            "_model_name": "FloatProgressModel",
            "bar_style": "",
            "max": 1,
            "_view_module": "@jupyter-widgets/controls",
            "_model_module_version": "1.5.0",
            "value": 1,
            "_view_count": null,
            "_view_module_version": "1.5.0",
            "orientation": "horizontal",
            "min": 0,
            "description_tooltip": null,
            "_model_module": "@jupyter-widgets/controls",
            "layout": "IPY_MODEL_ff8f2a92dc6c4b0cad0010148517eb33"
          }
        },
        "215ee03d69754db3a2a734999ffbbaa0": {
          "model_module": "@jupyter-widgets/controls",
          "model_name": "DescriptionStyleModel",
          "state": {
            "_view_name": "StyleView",
            "_model_name": "DescriptionStyleModel",
            "description_width": "",
            "_view_module": "@jupyter-widgets/base",
            "_model_module_version": "1.5.0",
            "_view_count": null,
            "_view_module_version": "1.2.0",
            "_model_module": "@jupyter-widgets/controls"
          }
        },
        "9491415bf13e4ddc96a02101f4611640": {
          "model_module": "@jupyter-widgets/base",
          "model_name": "LayoutModel",
          "state": {
            "_view_name": "LayoutView",
            "grid_template_rows": null,
            "right": null,
            "justify_content": null,
            "_view_module": "@jupyter-widgets/base",
            "overflow": null,
            "_model_module_version": "1.2.0",
            "_view_count": null,
            "flex_flow": null,
            "width": null,
            "min_width": null,
            "border": null,
            "align_items": null,
            "bottom": null,
            "_model_module": "@jupyter-widgets/base",
            "top": null,
            "grid_column": null,
            "overflow_y": null,
            "overflow_x": null,
            "grid_auto_flow": null,
            "grid_area": null,
            "grid_template_columns": null,
            "flex": null,
            "_model_name": "LayoutModel",
            "justify_items": null,
            "grid_row": null,
            "max_height": null,
            "align_content": null,
            "visibility": null,
            "align_self": null,
            "height": null,
            "min_height": null,
            "padding": null,
            "grid_auto_rows": null,
            "grid_gap": null,
            "max_width": null,
            "order": null,
            "_view_module_version": "1.2.0",
            "grid_template_areas": null,
            "object_position": null,
            "object_fit": null,
            "grid_auto_columns": null,
            "margin": null,
            "display": null,
            "left": null
          }
        },
        "3cc0461fb83a4caa839bc62af7e82991": {
          "model_module": "@jupyter-widgets/controls",
          "model_name": "ProgressStyleModel",
          "state": {
            "_view_name": "StyleView",
            "_model_name": "ProgressStyleModel",
            "description_width": "",
            "_view_module": "@jupyter-widgets/base",
            "_model_module_version": "1.5.0",
            "_view_count": null,
            "_view_module_version": "1.2.0",
            "bar_color": null,
            "_model_module": "@jupyter-widgets/controls"
          }
        },
        "ff8f2a92dc6c4b0cad0010148517eb33": {
          "model_module": "@jupyter-widgets/base",
          "model_name": "LayoutModel",
          "state": {
            "_view_name": "LayoutView",
            "grid_template_rows": null,
            "right": null,
            "justify_content": null,
            "_view_module": "@jupyter-widgets/base",
            "overflow": null,
            "_model_module_version": "1.2.0",
            "_view_count": null,
            "flex_flow": null,
            "width": null,
            "min_width": null,
            "border": null,
            "align_items": null,
            "bottom": null,
            "_model_module": "@jupyter-widgets/base",
            "top": null,
            "grid_column": null,
            "overflow_y": null,
            "overflow_x": null,
            "grid_auto_flow": null,
            "grid_area": null,
            "grid_template_columns": null,
            "flex": null,
            "_model_name": "LayoutModel",
            "justify_items": null,
            "grid_row": null,
            "max_height": null,
            "align_content": null,
            "visibility": null,
            "align_self": null,
            "height": null,
            "min_height": null,
            "padding": null,
            "grid_auto_rows": null,
            "grid_gap": null,
            "max_width": null,
            "order": null,
            "_view_module_version": "1.2.0",
            "grid_template_areas": null,
            "object_position": null,
            "object_fit": null,
            "grid_auto_columns": null,
            "margin": null,
            "display": null,
            "left": null
          }
        },
        "c12b7023419140ddb5d3c2e5a036595e": {
          "model_module": "@jupyter-widgets/controls",
          "model_name": "VBoxModel",
          "state": {
            "_view_name": "VBoxView",
            "_dom_classes": [],
            "_model_name": "VBoxModel",
            "_view_module": "@jupyter-widgets/controls",
            "_model_module_version": "1.5.0",
            "_view_count": null,
            "_view_module_version": "1.5.0",
            "box_style": "",
            "layout": "IPY_MODEL_e7121ab267b8447b834eed40ad7d1c53",
            "_model_module": "@jupyter-widgets/controls",
            "children": [
              "IPY_MODEL_08cb3c925bdb4374b639cd2bc0ada07a",
              "IPY_MODEL_615ad37b23f14eee8de3d3cec175eb37"
            ]
          }
        },
        "e7121ab267b8447b834eed40ad7d1c53": {
          "model_module": "@jupyter-widgets/base",
          "model_name": "LayoutModel",
          "state": {
            "_view_name": "LayoutView",
            "grid_template_rows": null,
            "right": null,
            "justify_content": null,
            "_view_module": "@jupyter-widgets/base",
            "overflow": null,
            "_model_module_version": "1.2.0",
            "_view_count": null,
            "flex_flow": null,
            "width": null,
            "min_width": null,
            "border": null,
            "align_items": null,
            "bottom": null,
            "_model_module": "@jupyter-widgets/base",
            "top": null,
            "grid_column": null,
            "overflow_y": null,
            "overflow_x": null,
            "grid_auto_flow": null,
            "grid_area": null,
            "grid_template_columns": null,
            "flex": null,
            "_model_name": "LayoutModel",
            "justify_items": null,
            "grid_row": null,
            "max_height": null,
            "align_content": null,
            "visibility": null,
            "align_self": null,
            "height": null,
            "min_height": null,
            "padding": null,
            "grid_auto_rows": null,
            "grid_gap": null,
            "max_width": null,
            "order": null,
            "_view_module_version": "1.2.0",
            "grid_template_areas": null,
            "object_position": null,
            "object_fit": null,
            "grid_auto_columns": null,
            "margin": null,
            "display": null,
            "left": null
          }
        },
        "08cb3c925bdb4374b639cd2bc0ada07a": {
          "model_module": "@jupyter-widgets/controls",
          "model_name": "LabelModel",
          "state": {
            "_view_name": "LabelView",
            "style": "IPY_MODEL_8ccbdd271cb7494a82c906d053b2c116",
            "_dom_classes": [],
            "description": "",
            "_model_name": "LabelModel",
            "placeholder": "​",
            "_view_module": "@jupyter-widgets/controls",
            "_model_module_version": "1.5.0",
            "value": " 2.25MB of 2.25MB uploaded (0.00MB deduped)\r",
            "_view_count": null,
            "_view_module_version": "1.5.0",
            "description_tooltip": null,
            "_model_module": "@jupyter-widgets/controls",
            "layout": "IPY_MODEL_cb9fcedd930046929aeba6ff3e7e1bdb"
          }
        },
        "615ad37b23f14eee8de3d3cec175eb37": {
          "model_module": "@jupyter-widgets/controls",
          "model_name": "FloatProgressModel",
          "state": {
            "_view_name": "ProgressView",
            "style": "IPY_MODEL_88b7198d86324b7ba51401fbdb38f2c9",
            "_dom_classes": [],
            "description": "",
            "_model_name": "FloatProgressModel",
            "bar_style": "",
            "max": 1,
            "_view_module": "@jupyter-widgets/controls",
            "_model_module_version": "1.5.0",
            "value": 1,
            "_view_count": null,
            "_view_module_version": "1.5.0",
            "orientation": "horizontal",
            "min": 0,
            "description_tooltip": null,
            "_model_module": "@jupyter-widgets/controls",
            "layout": "IPY_MODEL_ba5b509013af4258bf862553d0fb6d38"
          }
        },
        "8ccbdd271cb7494a82c906d053b2c116": {
          "model_module": "@jupyter-widgets/controls",
          "model_name": "DescriptionStyleModel",
          "state": {
            "_view_name": "StyleView",
            "_model_name": "DescriptionStyleModel",
            "description_width": "",
            "_view_module": "@jupyter-widgets/base",
            "_model_module_version": "1.5.0",
            "_view_count": null,
            "_view_module_version": "1.2.0",
            "_model_module": "@jupyter-widgets/controls"
          }
        },
        "cb9fcedd930046929aeba6ff3e7e1bdb": {
          "model_module": "@jupyter-widgets/base",
          "model_name": "LayoutModel",
          "state": {
            "_view_name": "LayoutView",
            "grid_template_rows": null,
            "right": null,
            "justify_content": null,
            "_view_module": "@jupyter-widgets/base",
            "overflow": null,
            "_model_module_version": "1.2.0",
            "_view_count": null,
            "flex_flow": null,
            "width": null,
            "min_width": null,
            "border": null,
            "align_items": null,
            "bottom": null,
            "_model_module": "@jupyter-widgets/base",
            "top": null,
            "grid_column": null,
            "overflow_y": null,
            "overflow_x": null,
            "grid_auto_flow": null,
            "grid_area": null,
            "grid_template_columns": null,
            "flex": null,
            "_model_name": "LayoutModel",
            "justify_items": null,
            "grid_row": null,
            "max_height": null,
            "align_content": null,
            "visibility": null,
            "align_self": null,
            "height": null,
            "min_height": null,
            "padding": null,
            "grid_auto_rows": null,
            "grid_gap": null,
            "max_width": null,
            "order": null,
            "_view_module_version": "1.2.0",
            "grid_template_areas": null,
            "object_position": null,
            "object_fit": null,
            "grid_auto_columns": null,
            "margin": null,
            "display": null,
            "left": null
          }
        },
        "88b7198d86324b7ba51401fbdb38f2c9": {
          "model_module": "@jupyter-widgets/controls",
          "model_name": "ProgressStyleModel",
          "state": {
            "_view_name": "StyleView",
            "_model_name": "ProgressStyleModel",
            "description_width": "",
            "_view_module": "@jupyter-widgets/base",
            "_model_module_version": "1.5.0",
            "_view_count": null,
            "_view_module_version": "1.2.0",
            "bar_color": null,
            "_model_module": "@jupyter-widgets/controls"
          }
        },
        "ba5b509013af4258bf862553d0fb6d38": {
          "model_module": "@jupyter-widgets/base",
          "model_name": "LayoutModel",
          "state": {
            "_view_name": "LayoutView",
            "grid_template_rows": null,
            "right": null,
            "justify_content": null,
            "_view_module": "@jupyter-widgets/base",
            "overflow": null,
            "_model_module_version": "1.2.0",
            "_view_count": null,
            "flex_flow": null,
            "width": null,
            "min_width": null,
            "border": null,
            "align_items": null,
            "bottom": null,
            "_model_module": "@jupyter-widgets/base",
            "top": null,
            "grid_column": null,
            "overflow_y": null,
            "overflow_x": null,
            "grid_auto_flow": null,
            "grid_area": null,
            "grid_template_columns": null,
            "flex": null,
            "_model_name": "LayoutModel",
            "justify_items": null,
            "grid_row": null,
            "max_height": null,
            "align_content": null,
            "visibility": null,
            "align_self": null,
            "height": null,
            "min_height": null,
            "padding": null,
            "grid_auto_rows": null,
            "grid_gap": null,
            "max_width": null,
            "order": null,
            "_view_module_version": "1.2.0",
            "grid_template_areas": null,
            "object_position": null,
            "object_fit": null,
            "grid_auto_columns": null,
            "margin": null,
            "display": null,
            "left": null
          }
        },
        "b699557a52764352b73e8166860f86ff": {
          "model_module": "@jupyter-widgets/controls",
          "model_name": "VBoxModel",
          "state": {
            "_view_name": "VBoxView",
            "_dom_classes": [],
            "_model_name": "VBoxModel",
            "_view_module": "@jupyter-widgets/controls",
            "_model_module_version": "1.5.0",
            "_view_count": null,
            "_view_module_version": "1.5.0",
            "box_style": "",
            "layout": "IPY_MODEL_401e63562c2849c6a76c29b8082e945a",
            "_model_module": "@jupyter-widgets/controls",
            "children": [
              "IPY_MODEL_e8292c279da6412dbd5e2ee977e32645",
              "IPY_MODEL_94c4b399f16547a580b4ad052b13d419"
            ]
          }
        },
        "401e63562c2849c6a76c29b8082e945a": {
          "model_module": "@jupyter-widgets/base",
          "model_name": "LayoutModel",
          "state": {
            "_view_name": "LayoutView",
            "grid_template_rows": null,
            "right": null,
            "justify_content": null,
            "_view_module": "@jupyter-widgets/base",
            "overflow": null,
            "_model_module_version": "1.2.0",
            "_view_count": null,
            "flex_flow": null,
            "width": null,
            "min_width": null,
            "border": null,
            "align_items": null,
            "bottom": null,
            "_model_module": "@jupyter-widgets/base",
            "top": null,
            "grid_column": null,
            "overflow_y": null,
            "overflow_x": null,
            "grid_auto_flow": null,
            "grid_area": null,
            "grid_template_columns": null,
            "flex": null,
            "_model_name": "LayoutModel",
            "justify_items": null,
            "grid_row": null,
            "max_height": null,
            "align_content": null,
            "visibility": null,
            "align_self": null,
            "height": null,
            "min_height": null,
            "padding": null,
            "grid_auto_rows": null,
            "grid_gap": null,
            "max_width": null,
            "order": null,
            "_view_module_version": "1.2.0",
            "grid_template_areas": null,
            "object_position": null,
            "object_fit": null,
            "grid_auto_columns": null,
            "margin": null,
            "display": null,
            "left": null
          }
        },
        "e8292c279da6412dbd5e2ee977e32645": {
          "model_module": "@jupyter-widgets/controls",
          "model_name": "LabelModel",
          "state": {
            "_view_name": "LabelView",
            "style": "IPY_MODEL_1d76b924858d4b7cbcca72c80aed3047",
            "_dom_classes": [],
            "description": "",
            "_model_name": "LabelModel",
            "placeholder": "​",
            "_view_module": "@jupyter-widgets/controls",
            "_model_module_version": "1.5.0",
            "value": " 1.85MB of 1.85MB uploaded (0.00MB deduped)\r",
            "_view_count": null,
            "_view_module_version": "1.5.0",
            "description_tooltip": null,
            "_model_module": "@jupyter-widgets/controls",
            "layout": "IPY_MODEL_77ec6749560142029c8816c3ba94381a"
          }
        },
        "94c4b399f16547a580b4ad052b13d419": {
          "model_module": "@jupyter-widgets/controls",
          "model_name": "FloatProgressModel",
          "state": {
            "_view_name": "ProgressView",
            "style": "IPY_MODEL_e9040164a1ef47d9a2f1e6f298a54097",
            "_dom_classes": [],
            "description": "",
            "_model_name": "FloatProgressModel",
            "bar_style": "",
            "max": 1,
            "_view_module": "@jupyter-widgets/controls",
            "_model_module_version": "1.5.0",
            "value": 1,
            "_view_count": null,
            "_view_module_version": "1.5.0",
            "orientation": "horizontal",
            "min": 0,
            "description_tooltip": null,
            "_model_module": "@jupyter-widgets/controls",
            "layout": "IPY_MODEL_b2a82e6c2d454647bae9edc1fc859e37"
          }
        },
        "1d76b924858d4b7cbcca72c80aed3047": {
          "model_module": "@jupyter-widgets/controls",
          "model_name": "DescriptionStyleModel",
          "state": {
            "_view_name": "StyleView",
            "_model_name": "DescriptionStyleModel",
            "description_width": "",
            "_view_module": "@jupyter-widgets/base",
            "_model_module_version": "1.5.0",
            "_view_count": null,
            "_view_module_version": "1.2.0",
            "_model_module": "@jupyter-widgets/controls"
          }
        },
        "77ec6749560142029c8816c3ba94381a": {
          "model_module": "@jupyter-widgets/base",
          "model_name": "LayoutModel",
          "state": {
            "_view_name": "LayoutView",
            "grid_template_rows": null,
            "right": null,
            "justify_content": null,
            "_view_module": "@jupyter-widgets/base",
            "overflow": null,
            "_model_module_version": "1.2.0",
            "_view_count": null,
            "flex_flow": null,
            "width": null,
            "min_width": null,
            "border": null,
            "align_items": null,
            "bottom": null,
            "_model_module": "@jupyter-widgets/base",
            "top": null,
            "grid_column": null,
            "overflow_y": null,
            "overflow_x": null,
            "grid_auto_flow": null,
            "grid_area": null,
            "grid_template_columns": null,
            "flex": null,
            "_model_name": "LayoutModel",
            "justify_items": null,
            "grid_row": null,
            "max_height": null,
            "align_content": null,
            "visibility": null,
            "align_self": null,
            "height": null,
            "min_height": null,
            "padding": null,
            "grid_auto_rows": null,
            "grid_gap": null,
            "max_width": null,
            "order": null,
            "_view_module_version": "1.2.0",
            "grid_template_areas": null,
            "object_position": null,
            "object_fit": null,
            "grid_auto_columns": null,
            "margin": null,
            "display": null,
            "left": null
          }
        },
        "e9040164a1ef47d9a2f1e6f298a54097": {
          "model_module": "@jupyter-widgets/controls",
          "model_name": "ProgressStyleModel",
          "state": {
            "_view_name": "StyleView",
            "_model_name": "ProgressStyleModel",
            "description_width": "",
            "_view_module": "@jupyter-widgets/base",
            "_model_module_version": "1.5.0",
            "_view_count": null,
            "_view_module_version": "1.2.0",
            "bar_color": null,
            "_model_module": "@jupyter-widgets/controls"
          }
        },
        "b2a82e6c2d454647bae9edc1fc859e37": {
          "model_module": "@jupyter-widgets/base",
          "model_name": "LayoutModel",
          "state": {
            "_view_name": "LayoutView",
            "grid_template_rows": null,
            "right": null,
            "justify_content": null,
            "_view_module": "@jupyter-widgets/base",
            "overflow": null,
            "_model_module_version": "1.2.0",
            "_view_count": null,
            "flex_flow": null,
            "width": null,
            "min_width": null,
            "border": null,
            "align_items": null,
            "bottom": null,
            "_model_module": "@jupyter-widgets/base",
            "top": null,
            "grid_column": null,
            "overflow_y": null,
            "overflow_x": null,
            "grid_auto_flow": null,
            "grid_area": null,
            "grid_template_columns": null,
            "flex": null,
            "_model_name": "LayoutModel",
            "justify_items": null,
            "grid_row": null,
            "max_height": null,
            "align_content": null,
            "visibility": null,
            "align_self": null,
            "height": null,
            "min_height": null,
            "padding": null,
            "grid_auto_rows": null,
            "grid_gap": null,
            "max_width": null,
            "order": null,
            "_view_module_version": "1.2.0",
            "grid_template_areas": null,
            "object_position": null,
            "object_fit": null,
            "grid_auto_columns": null,
            "margin": null,
            "display": null,
            "left": null
          }
        },
        "d4f6997ad2a64f489b5171997bf15dd2": {
          "model_module": "@jupyter-widgets/controls",
          "model_name": "VBoxModel",
          "state": {
            "_view_name": "VBoxView",
            "_dom_classes": [],
            "_model_name": "VBoxModel",
            "_view_module": "@jupyter-widgets/controls",
            "_model_module_version": "1.5.0",
            "_view_count": null,
            "_view_module_version": "1.5.0",
            "box_style": "",
            "layout": "IPY_MODEL_e2592161c4e44b11ba40f16c8d3b9523",
            "_model_module": "@jupyter-widgets/controls",
            "children": [
              "IPY_MODEL_8afca507562d4170b56951e15477836c",
              "IPY_MODEL_92e71f0199d34085a203c0a6b42ed6f5"
            ]
          }
        },
        "e2592161c4e44b11ba40f16c8d3b9523": {
          "model_module": "@jupyter-widgets/base",
          "model_name": "LayoutModel",
          "state": {
            "_view_name": "LayoutView",
            "grid_template_rows": null,
            "right": null,
            "justify_content": null,
            "_view_module": "@jupyter-widgets/base",
            "overflow": null,
            "_model_module_version": "1.2.0",
            "_view_count": null,
            "flex_flow": null,
            "width": null,
            "min_width": null,
            "border": null,
            "align_items": null,
            "bottom": null,
            "_model_module": "@jupyter-widgets/base",
            "top": null,
            "grid_column": null,
            "overflow_y": null,
            "overflow_x": null,
            "grid_auto_flow": null,
            "grid_area": null,
            "grid_template_columns": null,
            "flex": null,
            "_model_name": "LayoutModel",
            "justify_items": null,
            "grid_row": null,
            "max_height": null,
            "align_content": null,
            "visibility": null,
            "align_self": null,
            "height": null,
            "min_height": null,
            "padding": null,
            "grid_auto_rows": null,
            "grid_gap": null,
            "max_width": null,
            "order": null,
            "_view_module_version": "1.2.0",
            "grid_template_areas": null,
            "object_position": null,
            "object_fit": null,
            "grid_auto_columns": null,
            "margin": null,
            "display": null,
            "left": null
          }
        },
        "8afca507562d4170b56951e15477836c": {
          "model_module": "@jupyter-widgets/controls",
          "model_name": "LabelModel",
          "state": {
            "_view_name": "LabelView",
            "style": "IPY_MODEL_f4e1d79d4e924f52b5a39da1b146b3a1",
            "_dom_classes": [],
            "description": "",
            "_model_name": "LabelModel",
            "placeholder": "​",
            "_view_module": "@jupyter-widgets/controls",
            "_model_module_version": "1.5.0",
            "value": " 9.88MB of 9.88MB uploaded (0.00MB deduped)\r",
            "_view_count": null,
            "_view_module_version": "1.5.0",
            "description_tooltip": null,
            "_model_module": "@jupyter-widgets/controls",
            "layout": "IPY_MODEL_8053c0c33073477b85d27549143789d4"
          }
        },
        "92e71f0199d34085a203c0a6b42ed6f5": {
          "model_module": "@jupyter-widgets/controls",
          "model_name": "FloatProgressModel",
          "state": {
            "_view_name": "ProgressView",
            "style": "IPY_MODEL_2e9b4d88e99844db8fe92b153793d635",
            "_dom_classes": [],
            "description": "",
            "_model_name": "FloatProgressModel",
            "bar_style": "",
            "max": 1,
            "_view_module": "@jupyter-widgets/controls",
            "_model_module_version": "1.5.0",
            "value": 1,
            "_view_count": null,
            "_view_module_version": "1.5.0",
            "orientation": "horizontal",
            "min": 0,
            "description_tooltip": null,
            "_model_module": "@jupyter-widgets/controls",
            "layout": "IPY_MODEL_024d34a2be914ea5a173be91502a36dc"
          }
        },
        "f4e1d79d4e924f52b5a39da1b146b3a1": {
          "model_module": "@jupyter-widgets/controls",
          "model_name": "DescriptionStyleModel",
          "state": {
            "_view_name": "StyleView",
            "_model_name": "DescriptionStyleModel",
            "description_width": "",
            "_view_module": "@jupyter-widgets/base",
            "_model_module_version": "1.5.0",
            "_view_count": null,
            "_view_module_version": "1.2.0",
            "_model_module": "@jupyter-widgets/controls"
          }
        },
        "8053c0c33073477b85d27549143789d4": {
          "model_module": "@jupyter-widgets/base",
          "model_name": "LayoutModel",
          "state": {
            "_view_name": "LayoutView",
            "grid_template_rows": null,
            "right": null,
            "justify_content": null,
            "_view_module": "@jupyter-widgets/base",
            "overflow": null,
            "_model_module_version": "1.2.0",
            "_view_count": null,
            "flex_flow": null,
            "width": null,
            "min_width": null,
            "border": null,
            "align_items": null,
            "bottom": null,
            "_model_module": "@jupyter-widgets/base",
            "top": null,
            "grid_column": null,
            "overflow_y": null,
            "overflow_x": null,
            "grid_auto_flow": null,
            "grid_area": null,
            "grid_template_columns": null,
            "flex": null,
            "_model_name": "LayoutModel",
            "justify_items": null,
            "grid_row": null,
            "max_height": null,
            "align_content": null,
            "visibility": null,
            "align_self": null,
            "height": null,
            "min_height": null,
            "padding": null,
            "grid_auto_rows": null,
            "grid_gap": null,
            "max_width": null,
            "order": null,
            "_view_module_version": "1.2.0",
            "grid_template_areas": null,
            "object_position": null,
            "object_fit": null,
            "grid_auto_columns": null,
            "margin": null,
            "display": null,
            "left": null
          }
        },
        "2e9b4d88e99844db8fe92b153793d635": {
          "model_module": "@jupyter-widgets/controls",
          "model_name": "ProgressStyleModel",
          "state": {
            "_view_name": "StyleView",
            "_model_name": "ProgressStyleModel",
            "description_width": "",
            "_view_module": "@jupyter-widgets/base",
            "_model_module_version": "1.5.0",
            "_view_count": null,
            "_view_module_version": "1.2.0",
            "bar_color": null,
            "_model_module": "@jupyter-widgets/controls"
          }
        },
        "024d34a2be914ea5a173be91502a36dc": {
          "model_module": "@jupyter-widgets/base",
          "model_name": "LayoutModel",
          "state": {
            "_view_name": "LayoutView",
            "grid_template_rows": null,
            "right": null,
            "justify_content": null,
            "_view_module": "@jupyter-widgets/base",
            "overflow": null,
            "_model_module_version": "1.2.0",
            "_view_count": null,
            "flex_flow": null,
            "width": null,
            "min_width": null,
            "border": null,
            "align_items": null,
            "bottom": null,
            "_model_module": "@jupyter-widgets/base",
            "top": null,
            "grid_column": null,
            "overflow_y": null,
            "overflow_x": null,
            "grid_auto_flow": null,
            "grid_area": null,
            "grid_template_columns": null,
            "flex": null,
            "_model_name": "LayoutModel",
            "justify_items": null,
            "grid_row": null,
            "max_height": null,
            "align_content": null,
            "visibility": null,
            "align_self": null,
            "height": null,
            "min_height": null,
            "padding": null,
            "grid_auto_rows": null,
            "grid_gap": null,
            "max_width": null,
            "order": null,
            "_view_module_version": "1.2.0",
            "grid_template_areas": null,
            "object_position": null,
            "object_fit": null,
            "grid_auto_columns": null,
            "margin": null,
            "display": null,
            "left": null
          }
        },
        "623bf49ad2b44125b190f181683a0621": {
          "model_module": "@jupyter-widgets/controls",
          "model_name": "VBoxModel",
          "state": {
            "_view_name": "VBoxView",
            "_dom_classes": [],
            "_model_name": "VBoxModel",
            "_view_module": "@jupyter-widgets/controls",
            "_model_module_version": "1.5.0",
            "_view_count": null,
            "_view_module_version": "1.5.0",
            "box_style": "",
            "layout": "IPY_MODEL_dd3fa3d39b4f41e5ba7e4c4490f24ef9",
            "_model_module": "@jupyter-widgets/controls",
            "children": [
              "IPY_MODEL_1b5041ecd01a4f3896b18f040c19fc68",
              "IPY_MODEL_95cc0a3fdf2a49a7be445b7ceba75a93"
            ]
          }
        },
        "dd3fa3d39b4f41e5ba7e4c4490f24ef9": {
          "model_module": "@jupyter-widgets/base",
          "model_name": "LayoutModel",
          "state": {
            "_view_name": "LayoutView",
            "grid_template_rows": null,
            "right": null,
            "justify_content": null,
            "_view_module": "@jupyter-widgets/base",
            "overflow": null,
            "_model_module_version": "1.2.0",
            "_view_count": null,
            "flex_flow": null,
            "width": null,
            "min_width": null,
            "border": null,
            "align_items": null,
            "bottom": null,
            "_model_module": "@jupyter-widgets/base",
            "top": null,
            "grid_column": null,
            "overflow_y": null,
            "overflow_x": null,
            "grid_auto_flow": null,
            "grid_area": null,
            "grid_template_columns": null,
            "flex": null,
            "_model_name": "LayoutModel",
            "justify_items": null,
            "grid_row": null,
            "max_height": null,
            "align_content": null,
            "visibility": null,
            "align_self": null,
            "height": null,
            "min_height": null,
            "padding": null,
            "grid_auto_rows": null,
            "grid_gap": null,
            "max_width": null,
            "order": null,
            "_view_module_version": "1.2.0",
            "grid_template_areas": null,
            "object_position": null,
            "object_fit": null,
            "grid_auto_columns": null,
            "margin": null,
            "display": null,
            "left": null
          }
        },
        "1b5041ecd01a4f3896b18f040c19fc68": {
          "model_module": "@jupyter-widgets/controls",
          "model_name": "LabelModel",
          "state": {
            "_view_name": "LabelView",
            "style": "IPY_MODEL_088c195591e346bfa0bd447937782eb1",
            "_dom_classes": [],
            "description": "",
            "_model_name": "LabelModel",
            "placeholder": "​",
            "_view_module": "@jupyter-widgets/controls",
            "_model_module_version": "1.5.0",
            "value": " 14.16MB of 14.16MB uploaded (0.00MB deduped)\r",
            "_view_count": null,
            "_view_module_version": "1.5.0",
            "description_tooltip": null,
            "_model_module": "@jupyter-widgets/controls",
            "layout": "IPY_MODEL_7663bd4b129841a3ac68d6d7f459b5b2"
          }
        },
        "95cc0a3fdf2a49a7be445b7ceba75a93": {
          "model_module": "@jupyter-widgets/controls",
          "model_name": "FloatProgressModel",
          "state": {
            "_view_name": "ProgressView",
            "style": "IPY_MODEL_ecef72617d7b4750b88391fedd455850",
            "_dom_classes": [],
            "description": "",
            "_model_name": "FloatProgressModel",
            "bar_style": "",
            "max": 1,
            "_view_module": "@jupyter-widgets/controls",
            "_model_module_version": "1.5.0",
            "value": 1,
            "_view_count": null,
            "_view_module_version": "1.5.0",
            "orientation": "horizontal",
            "min": 0,
            "description_tooltip": null,
            "_model_module": "@jupyter-widgets/controls",
            "layout": "IPY_MODEL_b4958f45a5ff49629aae818b781b7ffa"
          }
        },
        "088c195591e346bfa0bd447937782eb1": {
          "model_module": "@jupyter-widgets/controls",
          "model_name": "DescriptionStyleModel",
          "state": {
            "_view_name": "StyleView",
            "_model_name": "DescriptionStyleModel",
            "description_width": "",
            "_view_module": "@jupyter-widgets/base",
            "_model_module_version": "1.5.0",
            "_view_count": null,
            "_view_module_version": "1.2.0",
            "_model_module": "@jupyter-widgets/controls"
          }
        },
        "7663bd4b129841a3ac68d6d7f459b5b2": {
          "model_module": "@jupyter-widgets/base",
          "model_name": "LayoutModel",
          "state": {
            "_view_name": "LayoutView",
            "grid_template_rows": null,
            "right": null,
            "justify_content": null,
            "_view_module": "@jupyter-widgets/base",
            "overflow": null,
            "_model_module_version": "1.2.0",
            "_view_count": null,
            "flex_flow": null,
            "width": null,
            "min_width": null,
            "border": null,
            "align_items": null,
            "bottom": null,
            "_model_module": "@jupyter-widgets/base",
            "top": null,
            "grid_column": null,
            "overflow_y": null,
            "overflow_x": null,
            "grid_auto_flow": null,
            "grid_area": null,
            "grid_template_columns": null,
            "flex": null,
            "_model_name": "LayoutModel",
            "justify_items": null,
            "grid_row": null,
            "max_height": null,
            "align_content": null,
            "visibility": null,
            "align_self": null,
            "height": null,
            "min_height": null,
            "padding": null,
            "grid_auto_rows": null,
            "grid_gap": null,
            "max_width": null,
            "order": null,
            "_view_module_version": "1.2.0",
            "grid_template_areas": null,
            "object_position": null,
            "object_fit": null,
            "grid_auto_columns": null,
            "margin": null,
            "display": null,
            "left": null
          }
        },
        "ecef72617d7b4750b88391fedd455850": {
          "model_module": "@jupyter-widgets/controls",
          "model_name": "ProgressStyleModel",
          "state": {
            "_view_name": "StyleView",
            "_model_name": "ProgressStyleModel",
            "description_width": "",
            "_view_module": "@jupyter-widgets/base",
            "_model_module_version": "1.5.0",
            "_view_count": null,
            "_view_module_version": "1.2.0",
            "bar_color": null,
            "_model_module": "@jupyter-widgets/controls"
          }
        },
        "b4958f45a5ff49629aae818b781b7ffa": {
          "model_module": "@jupyter-widgets/base",
          "model_name": "LayoutModel",
          "state": {
            "_view_name": "LayoutView",
            "grid_template_rows": null,
            "right": null,
            "justify_content": null,
            "_view_module": "@jupyter-widgets/base",
            "overflow": null,
            "_model_module_version": "1.2.0",
            "_view_count": null,
            "flex_flow": null,
            "width": null,
            "min_width": null,
            "border": null,
            "align_items": null,
            "bottom": null,
            "_model_module": "@jupyter-widgets/base",
            "top": null,
            "grid_column": null,
            "overflow_y": null,
            "overflow_x": null,
            "grid_auto_flow": null,
            "grid_area": null,
            "grid_template_columns": null,
            "flex": null,
            "_model_name": "LayoutModel",
            "justify_items": null,
            "grid_row": null,
            "max_height": null,
            "align_content": null,
            "visibility": null,
            "align_self": null,
            "height": null,
            "min_height": null,
            "padding": null,
            "grid_auto_rows": null,
            "grid_gap": null,
            "max_width": null,
            "order": null,
            "_view_module_version": "1.2.0",
            "grid_template_areas": null,
            "object_position": null,
            "object_fit": null,
            "grid_auto_columns": null,
            "margin": null,
            "display": null,
            "left": null
          }
        },
        "63e55232c0124c7a94a251237875dc79": {
          "model_module": "@jupyter-widgets/controls",
          "model_name": "VBoxModel",
          "state": {
            "_view_name": "VBoxView",
            "_dom_classes": [],
            "_model_name": "VBoxModel",
            "_view_module": "@jupyter-widgets/controls",
            "_model_module_version": "1.5.0",
            "_view_count": null,
            "_view_module_version": "1.5.0",
            "box_style": "",
            "layout": "IPY_MODEL_c1f935840a3a4aa8b126771ee6bd5d1f",
            "_model_module": "@jupyter-widgets/controls",
            "children": [
              "IPY_MODEL_951d474a8fce425bb8447abcebf36af9",
              "IPY_MODEL_03f19d02abbb4cfab169132b87d576b1"
            ]
          }
        },
        "c1f935840a3a4aa8b126771ee6bd5d1f": {
          "model_module": "@jupyter-widgets/base",
          "model_name": "LayoutModel",
          "state": {
            "_view_name": "LayoutView",
            "grid_template_rows": null,
            "right": null,
            "justify_content": null,
            "_view_module": "@jupyter-widgets/base",
            "overflow": null,
            "_model_module_version": "1.2.0",
            "_view_count": null,
            "flex_flow": null,
            "width": null,
            "min_width": null,
            "border": null,
            "align_items": null,
            "bottom": null,
            "_model_module": "@jupyter-widgets/base",
            "top": null,
            "grid_column": null,
            "overflow_y": null,
            "overflow_x": null,
            "grid_auto_flow": null,
            "grid_area": null,
            "grid_template_columns": null,
            "flex": null,
            "_model_name": "LayoutModel",
            "justify_items": null,
            "grid_row": null,
            "max_height": null,
            "align_content": null,
            "visibility": null,
            "align_self": null,
            "height": null,
            "min_height": null,
            "padding": null,
            "grid_auto_rows": null,
            "grid_gap": null,
            "max_width": null,
            "order": null,
            "_view_module_version": "1.2.0",
            "grid_template_areas": null,
            "object_position": null,
            "object_fit": null,
            "grid_auto_columns": null,
            "margin": null,
            "display": null,
            "left": null
          }
        },
        "951d474a8fce425bb8447abcebf36af9": {
          "model_module": "@jupyter-widgets/controls",
          "model_name": "LabelModel",
          "state": {
            "_view_name": "LabelView",
            "style": "IPY_MODEL_2f1fa41b224f4248ba807396959d569b",
            "_dom_classes": [],
            "description": "",
            "_model_name": "LabelModel",
            "placeholder": "​",
            "_view_module": "@jupyter-widgets/controls",
            "_model_module_version": "1.5.0",
            "value": "",
            "_view_count": null,
            "_view_module_version": "1.5.0",
            "description_tooltip": null,
            "_model_module": "@jupyter-widgets/controls",
            "layout": "IPY_MODEL_a12701f8313c42c6a677adf162c27393"
          }
        },
        "03f19d02abbb4cfab169132b87d576b1": {
          "model_module": "@jupyter-widgets/controls",
          "model_name": "FloatProgressModel",
          "state": {
            "_view_name": "ProgressView",
            "style": "IPY_MODEL_e26cff3411604b5a85e3dc0beedaaebb",
            "_dom_classes": [],
            "description": "",
            "_model_name": "FloatProgressModel",
            "bar_style": "",
            "max": 1,
            "_view_module": "@jupyter-widgets/controls",
            "_model_module_version": "1.5.0",
            "value": 0,
            "_view_count": null,
            "_view_module_version": "1.5.0",
            "orientation": "horizontal",
            "min": 0,
            "description_tooltip": null,
            "_model_module": "@jupyter-widgets/controls",
            "layout": "IPY_MODEL_8a9bad7b854d4e6db1546e0055a3a770"
          }
        },
        "2f1fa41b224f4248ba807396959d569b": {
          "model_module": "@jupyter-widgets/controls",
          "model_name": "DescriptionStyleModel",
          "state": {
            "_view_name": "StyleView",
            "_model_name": "DescriptionStyleModel",
            "description_width": "",
            "_view_module": "@jupyter-widgets/base",
            "_model_module_version": "1.5.0",
            "_view_count": null,
            "_view_module_version": "1.2.0",
            "_model_module": "@jupyter-widgets/controls"
          }
        },
        "a12701f8313c42c6a677adf162c27393": {
          "model_module": "@jupyter-widgets/base",
          "model_name": "LayoutModel",
          "state": {
            "_view_name": "LayoutView",
            "grid_template_rows": null,
            "right": null,
            "justify_content": null,
            "_view_module": "@jupyter-widgets/base",
            "overflow": null,
            "_model_module_version": "1.2.0",
            "_view_count": null,
            "flex_flow": null,
            "width": null,
            "min_width": null,
            "border": null,
            "align_items": null,
            "bottom": null,
            "_model_module": "@jupyter-widgets/base",
            "top": null,
            "grid_column": null,
            "overflow_y": null,
            "overflow_x": null,
            "grid_auto_flow": null,
            "grid_area": null,
            "grid_template_columns": null,
            "flex": null,
            "_model_name": "LayoutModel",
            "justify_items": null,
            "grid_row": null,
            "max_height": null,
            "align_content": null,
            "visibility": null,
            "align_self": null,
            "height": null,
            "min_height": null,
            "padding": null,
            "grid_auto_rows": null,
            "grid_gap": null,
            "max_width": null,
            "order": null,
            "_view_module_version": "1.2.0",
            "grid_template_areas": null,
            "object_position": null,
            "object_fit": null,
            "grid_auto_columns": null,
            "margin": null,
            "display": null,
            "left": null
          }
        },
        "e26cff3411604b5a85e3dc0beedaaebb": {
          "model_module": "@jupyter-widgets/controls",
          "model_name": "ProgressStyleModel",
          "state": {
            "_view_name": "StyleView",
            "_model_name": "ProgressStyleModel",
            "description_width": "",
            "_view_module": "@jupyter-widgets/base",
            "_model_module_version": "1.5.0",
            "_view_count": null,
            "_view_module_version": "1.2.0",
            "bar_color": null,
            "_model_module": "@jupyter-widgets/controls"
          }
        },
        "8a9bad7b854d4e6db1546e0055a3a770": {
          "model_module": "@jupyter-widgets/base",
          "model_name": "LayoutModel",
          "state": {
            "_view_name": "LayoutView",
            "grid_template_rows": null,
            "right": null,
            "justify_content": null,
            "_view_module": "@jupyter-widgets/base",
            "overflow": null,
            "_model_module_version": "1.2.0",
            "_view_count": null,
            "flex_flow": null,
            "width": null,
            "min_width": null,
            "border": null,
            "align_items": null,
            "bottom": null,
            "_model_module": "@jupyter-widgets/base",
            "top": null,
            "grid_column": null,
            "overflow_y": null,
            "overflow_x": null,
            "grid_auto_flow": null,
            "grid_area": null,
            "grid_template_columns": null,
            "flex": null,
            "_model_name": "LayoutModel",
            "justify_items": null,
            "grid_row": null,
            "max_height": null,
            "align_content": null,
            "visibility": null,
            "align_self": null,
            "height": null,
            "min_height": null,
            "padding": null,
            "grid_auto_rows": null,
            "grid_gap": null,
            "max_width": null,
            "order": null,
            "_view_module_version": "1.2.0",
            "grid_template_areas": null,
            "object_position": null,
            "object_fit": null,
            "grid_auto_columns": null,
            "margin": null,
            "display": null,
            "left": null
          }
        },
        "494794ff144d4bca9e1f4c2fc83a06cd": {
          "model_module": "@jupyter-widgets/controls",
          "model_name": "VBoxModel",
          "state": {
            "_view_name": "VBoxView",
            "_dom_classes": [],
            "_model_name": "VBoxModel",
            "_view_module": "@jupyter-widgets/controls",
            "_model_module_version": "1.5.0",
            "_view_count": null,
            "_view_module_version": "1.5.0",
            "box_style": "",
            "layout": "IPY_MODEL_acfc3dfbbe5041fd9a466663290b2d43",
            "_model_module": "@jupyter-widgets/controls",
            "children": [
              "IPY_MODEL_5705c6389cd34361a1a051be8640f85f",
              "IPY_MODEL_60dcfe8e54ce405bbb5baed56ce4c2f8"
            ]
          }
        },
        "acfc3dfbbe5041fd9a466663290b2d43": {
          "model_module": "@jupyter-widgets/base",
          "model_name": "LayoutModel",
          "state": {
            "_view_name": "LayoutView",
            "grid_template_rows": null,
            "right": null,
            "justify_content": null,
            "_view_module": "@jupyter-widgets/base",
            "overflow": null,
            "_model_module_version": "1.2.0",
            "_view_count": null,
            "flex_flow": null,
            "width": null,
            "min_width": null,
            "border": null,
            "align_items": null,
            "bottom": null,
            "_model_module": "@jupyter-widgets/base",
            "top": null,
            "grid_column": null,
            "overflow_y": null,
            "overflow_x": null,
            "grid_auto_flow": null,
            "grid_area": null,
            "grid_template_columns": null,
            "flex": null,
            "_model_name": "LayoutModel",
            "justify_items": null,
            "grid_row": null,
            "max_height": null,
            "align_content": null,
            "visibility": null,
            "align_self": null,
            "height": null,
            "min_height": null,
            "padding": null,
            "grid_auto_rows": null,
            "grid_gap": null,
            "max_width": null,
            "order": null,
            "_view_module_version": "1.2.0",
            "grid_template_areas": null,
            "object_position": null,
            "object_fit": null,
            "grid_auto_columns": null,
            "margin": null,
            "display": null,
            "left": null
          }
        },
        "5705c6389cd34361a1a051be8640f85f": {
          "model_module": "@jupyter-widgets/controls",
          "model_name": "LabelModel",
          "state": {
            "_view_name": "LabelView",
            "style": "IPY_MODEL_78967e82a0744b06bd2129ec0aa038ff",
            "_dom_classes": [],
            "description": "",
            "_model_name": "LabelModel",
            "placeholder": "​",
            "_view_module": "@jupyter-widgets/controls",
            "_model_module_version": "1.5.0",
            "value": " 9.88MB of 9.88MB uploaded (0.00MB deduped)\r",
            "_view_count": null,
            "_view_module_version": "1.5.0",
            "description_tooltip": null,
            "_model_module": "@jupyter-widgets/controls",
            "layout": "IPY_MODEL_241f91bd0a6a4c43adc57f4034228014"
          }
        },
        "60dcfe8e54ce405bbb5baed56ce4c2f8": {
          "model_module": "@jupyter-widgets/controls",
          "model_name": "FloatProgressModel",
          "state": {
            "_view_name": "ProgressView",
            "style": "IPY_MODEL_7e4a4e6f59894614999fb60c93a25189",
            "_dom_classes": [],
            "description": "",
            "_model_name": "FloatProgressModel",
            "bar_style": "",
            "max": 1,
            "_view_module": "@jupyter-widgets/controls",
            "_model_module_version": "1.5.0",
            "value": 1,
            "_view_count": null,
            "_view_module_version": "1.5.0",
            "orientation": "horizontal",
            "min": 0,
            "description_tooltip": null,
            "_model_module": "@jupyter-widgets/controls",
            "layout": "IPY_MODEL_719c27c18e0642c6a20ea5d993210316"
          }
        },
        "78967e82a0744b06bd2129ec0aa038ff": {
          "model_module": "@jupyter-widgets/controls",
          "model_name": "DescriptionStyleModel",
          "state": {
            "_view_name": "StyleView",
            "_model_name": "DescriptionStyleModel",
            "description_width": "",
            "_view_module": "@jupyter-widgets/base",
            "_model_module_version": "1.5.0",
            "_view_count": null,
            "_view_module_version": "1.2.0",
            "_model_module": "@jupyter-widgets/controls"
          }
        },
        "241f91bd0a6a4c43adc57f4034228014": {
          "model_module": "@jupyter-widgets/base",
          "model_name": "LayoutModel",
          "state": {
            "_view_name": "LayoutView",
            "grid_template_rows": null,
            "right": null,
            "justify_content": null,
            "_view_module": "@jupyter-widgets/base",
            "overflow": null,
            "_model_module_version": "1.2.0",
            "_view_count": null,
            "flex_flow": null,
            "width": null,
            "min_width": null,
            "border": null,
            "align_items": null,
            "bottom": null,
            "_model_module": "@jupyter-widgets/base",
            "top": null,
            "grid_column": null,
            "overflow_y": null,
            "overflow_x": null,
            "grid_auto_flow": null,
            "grid_area": null,
            "grid_template_columns": null,
            "flex": null,
            "_model_name": "LayoutModel",
            "justify_items": null,
            "grid_row": null,
            "max_height": null,
            "align_content": null,
            "visibility": null,
            "align_self": null,
            "height": null,
            "min_height": null,
            "padding": null,
            "grid_auto_rows": null,
            "grid_gap": null,
            "max_width": null,
            "order": null,
            "_view_module_version": "1.2.0",
            "grid_template_areas": null,
            "object_position": null,
            "object_fit": null,
            "grid_auto_columns": null,
            "margin": null,
            "display": null,
            "left": null
          }
        },
        "7e4a4e6f59894614999fb60c93a25189": {
          "model_module": "@jupyter-widgets/controls",
          "model_name": "ProgressStyleModel",
          "state": {
            "_view_name": "StyleView",
            "_model_name": "ProgressStyleModel",
            "description_width": "",
            "_view_module": "@jupyter-widgets/base",
            "_model_module_version": "1.5.0",
            "_view_count": null,
            "_view_module_version": "1.2.0",
            "bar_color": null,
            "_model_module": "@jupyter-widgets/controls"
          }
        },
        "719c27c18e0642c6a20ea5d993210316": {
          "model_module": "@jupyter-widgets/base",
          "model_name": "LayoutModel",
          "state": {
            "_view_name": "LayoutView",
            "grid_template_rows": null,
            "right": null,
            "justify_content": null,
            "_view_module": "@jupyter-widgets/base",
            "overflow": null,
            "_model_module_version": "1.2.0",
            "_view_count": null,
            "flex_flow": null,
            "width": null,
            "min_width": null,
            "border": null,
            "align_items": null,
            "bottom": null,
            "_model_module": "@jupyter-widgets/base",
            "top": null,
            "grid_column": null,
            "overflow_y": null,
            "overflow_x": null,
            "grid_auto_flow": null,
            "grid_area": null,
            "grid_template_columns": null,
            "flex": null,
            "_model_name": "LayoutModel",
            "justify_items": null,
            "grid_row": null,
            "max_height": null,
            "align_content": null,
            "visibility": null,
            "align_self": null,
            "height": null,
            "min_height": null,
            "padding": null,
            "grid_auto_rows": null,
            "grid_gap": null,
            "max_width": null,
            "order": null,
            "_view_module_version": "1.2.0",
            "grid_template_areas": null,
            "object_position": null,
            "object_fit": null,
            "grid_auto_columns": null,
            "margin": null,
            "display": null,
            "left": null
          }
        },
        "6c9cbd66f310486daed6ef48e214a70f": {
          "model_module": "@jupyter-widgets/controls",
          "model_name": "VBoxModel",
          "state": {
            "_view_name": "VBoxView",
            "_dom_classes": [],
            "_model_name": "VBoxModel",
            "_view_module": "@jupyter-widgets/controls",
            "_model_module_version": "1.5.0",
            "_view_count": null,
            "_view_module_version": "1.5.0",
            "box_style": "",
            "layout": "IPY_MODEL_0a263a0d62f64b3684cd3e857b927a98",
            "_model_module": "@jupyter-widgets/controls",
            "children": [
              "IPY_MODEL_567f336a20f944fe91a72cc4f41fc6f0",
              "IPY_MODEL_df7249b68b6c4e5ca45097a3366bfad9"
            ]
          }
        },
        "0a263a0d62f64b3684cd3e857b927a98": {
          "model_module": "@jupyter-widgets/base",
          "model_name": "LayoutModel",
          "state": {
            "_view_name": "LayoutView",
            "grid_template_rows": null,
            "right": null,
            "justify_content": null,
            "_view_module": "@jupyter-widgets/base",
            "overflow": null,
            "_model_module_version": "1.2.0",
            "_view_count": null,
            "flex_flow": null,
            "width": null,
            "min_width": null,
            "border": null,
            "align_items": null,
            "bottom": null,
            "_model_module": "@jupyter-widgets/base",
            "top": null,
            "grid_column": null,
            "overflow_y": null,
            "overflow_x": null,
            "grid_auto_flow": null,
            "grid_area": null,
            "grid_template_columns": null,
            "flex": null,
            "_model_name": "LayoutModel",
            "justify_items": null,
            "grid_row": null,
            "max_height": null,
            "align_content": null,
            "visibility": null,
            "align_self": null,
            "height": null,
            "min_height": null,
            "padding": null,
            "grid_auto_rows": null,
            "grid_gap": null,
            "max_width": null,
            "order": null,
            "_view_module_version": "1.2.0",
            "grid_template_areas": null,
            "object_position": null,
            "object_fit": null,
            "grid_auto_columns": null,
            "margin": null,
            "display": null,
            "left": null
          }
        },
        "567f336a20f944fe91a72cc4f41fc6f0": {
          "model_module": "@jupyter-widgets/controls",
          "model_name": "LabelModel",
          "state": {
            "_view_name": "LabelView",
            "style": "IPY_MODEL_15ce84a44693413a94d87ee6fdf90b23",
            "_dom_classes": [],
            "description": "",
            "_model_name": "LabelModel",
            "placeholder": "​",
            "_view_module": "@jupyter-widgets/controls",
            "_model_module_version": "1.5.0",
            "value": " 4.44MB of 4.44MB uploaded (0.00MB deduped)\r",
            "_view_count": null,
            "_view_module_version": "1.5.0",
            "description_tooltip": null,
            "_model_module": "@jupyter-widgets/controls",
            "layout": "IPY_MODEL_aed17d068ab8499ea61e691962b8bbf4"
          }
        },
        "df7249b68b6c4e5ca45097a3366bfad9": {
          "model_module": "@jupyter-widgets/controls",
          "model_name": "FloatProgressModel",
          "state": {
            "_view_name": "ProgressView",
            "style": "IPY_MODEL_fc5c0dd073a24b88ab5f53e908c0b308",
            "_dom_classes": [],
            "description": "",
            "_model_name": "FloatProgressModel",
            "bar_style": "",
            "max": 1,
            "_view_module": "@jupyter-widgets/controls",
            "_model_module_version": "1.5.0",
            "value": 1,
            "_view_count": null,
            "_view_module_version": "1.5.0",
            "orientation": "horizontal",
            "min": 0,
            "description_tooltip": null,
            "_model_module": "@jupyter-widgets/controls",
            "layout": "IPY_MODEL_aea7c8de5c0d4e19b71dbba065785b44"
          }
        },
        "15ce84a44693413a94d87ee6fdf90b23": {
          "model_module": "@jupyter-widgets/controls",
          "model_name": "DescriptionStyleModel",
          "state": {
            "_view_name": "StyleView",
            "_model_name": "DescriptionStyleModel",
            "description_width": "",
            "_view_module": "@jupyter-widgets/base",
            "_model_module_version": "1.5.0",
            "_view_count": null,
            "_view_module_version": "1.2.0",
            "_model_module": "@jupyter-widgets/controls"
          }
        },
        "aed17d068ab8499ea61e691962b8bbf4": {
          "model_module": "@jupyter-widgets/base",
          "model_name": "LayoutModel",
          "state": {
            "_view_name": "LayoutView",
            "grid_template_rows": null,
            "right": null,
            "justify_content": null,
            "_view_module": "@jupyter-widgets/base",
            "overflow": null,
            "_model_module_version": "1.2.0",
            "_view_count": null,
            "flex_flow": null,
            "width": null,
            "min_width": null,
            "border": null,
            "align_items": null,
            "bottom": null,
            "_model_module": "@jupyter-widgets/base",
            "top": null,
            "grid_column": null,
            "overflow_y": null,
            "overflow_x": null,
            "grid_auto_flow": null,
            "grid_area": null,
            "grid_template_columns": null,
            "flex": null,
            "_model_name": "LayoutModel",
            "justify_items": null,
            "grid_row": null,
            "max_height": null,
            "align_content": null,
            "visibility": null,
            "align_self": null,
            "height": null,
            "min_height": null,
            "padding": null,
            "grid_auto_rows": null,
            "grid_gap": null,
            "max_width": null,
            "order": null,
            "_view_module_version": "1.2.0",
            "grid_template_areas": null,
            "object_position": null,
            "object_fit": null,
            "grid_auto_columns": null,
            "margin": null,
            "display": null,
            "left": null
          }
        },
        "fc5c0dd073a24b88ab5f53e908c0b308": {
          "model_module": "@jupyter-widgets/controls",
          "model_name": "ProgressStyleModel",
          "state": {
            "_view_name": "StyleView",
            "_model_name": "ProgressStyleModel",
            "description_width": "",
            "_view_module": "@jupyter-widgets/base",
            "_model_module_version": "1.5.0",
            "_view_count": null,
            "_view_module_version": "1.2.0",
            "bar_color": null,
            "_model_module": "@jupyter-widgets/controls"
          }
        },
        "aea7c8de5c0d4e19b71dbba065785b44": {
          "model_module": "@jupyter-widgets/base",
          "model_name": "LayoutModel",
          "state": {
            "_view_name": "LayoutView",
            "grid_template_rows": null,
            "right": null,
            "justify_content": null,
            "_view_module": "@jupyter-widgets/base",
            "overflow": null,
            "_model_module_version": "1.2.0",
            "_view_count": null,
            "flex_flow": null,
            "width": null,
            "min_width": null,
            "border": null,
            "align_items": null,
            "bottom": null,
            "_model_module": "@jupyter-widgets/base",
            "top": null,
            "grid_column": null,
            "overflow_y": null,
            "overflow_x": null,
            "grid_auto_flow": null,
            "grid_area": null,
            "grid_template_columns": null,
            "flex": null,
            "_model_name": "LayoutModel",
            "justify_items": null,
            "grid_row": null,
            "max_height": null,
            "align_content": null,
            "visibility": null,
            "align_self": null,
            "height": null,
            "min_height": null,
            "padding": null,
            "grid_auto_rows": null,
            "grid_gap": null,
            "max_width": null,
            "order": null,
            "_view_module_version": "1.2.0",
            "grid_template_areas": null,
            "object_position": null,
            "object_fit": null,
            "grid_auto_columns": null,
            "margin": null,
            "display": null,
            "left": null
          }
        },
        "1e8114dc80f7470f90a770aed79178c8": {
          "model_module": "@jupyter-widgets/controls",
          "model_name": "VBoxModel",
          "state": {
            "_view_name": "VBoxView",
            "_dom_classes": [],
            "_model_name": "VBoxModel",
            "_view_module": "@jupyter-widgets/controls",
            "_model_module_version": "1.5.0",
            "_view_count": null,
            "_view_module_version": "1.5.0",
            "box_style": "",
            "layout": "IPY_MODEL_4d28663b385e4d6eb6b9005873f45461",
            "_model_module": "@jupyter-widgets/controls",
            "children": [
              "IPY_MODEL_36cc8674f88a43708b5104b145e6e5ee",
              "IPY_MODEL_fb7990ce25fc43319fd445ad26c4b72d"
            ]
          }
        },
        "4d28663b385e4d6eb6b9005873f45461": {
          "model_module": "@jupyter-widgets/base",
          "model_name": "LayoutModel",
          "state": {
            "_view_name": "LayoutView",
            "grid_template_rows": null,
            "right": null,
            "justify_content": null,
            "_view_module": "@jupyter-widgets/base",
            "overflow": null,
            "_model_module_version": "1.2.0",
            "_view_count": null,
            "flex_flow": null,
            "width": null,
            "min_width": null,
            "border": null,
            "align_items": null,
            "bottom": null,
            "_model_module": "@jupyter-widgets/base",
            "top": null,
            "grid_column": null,
            "overflow_y": null,
            "overflow_x": null,
            "grid_auto_flow": null,
            "grid_area": null,
            "grid_template_columns": null,
            "flex": null,
            "_model_name": "LayoutModel",
            "justify_items": null,
            "grid_row": null,
            "max_height": null,
            "align_content": null,
            "visibility": null,
            "align_self": null,
            "height": null,
            "min_height": null,
            "padding": null,
            "grid_auto_rows": null,
            "grid_gap": null,
            "max_width": null,
            "order": null,
            "_view_module_version": "1.2.0",
            "grid_template_areas": null,
            "object_position": null,
            "object_fit": null,
            "grid_auto_columns": null,
            "margin": null,
            "display": null,
            "left": null
          }
        },
        "36cc8674f88a43708b5104b145e6e5ee": {
          "model_module": "@jupyter-widgets/controls",
          "model_name": "LabelModel",
          "state": {
            "_view_name": "LabelView",
            "style": "IPY_MODEL_c1495b09676340928c3303a65db69977",
            "_dom_classes": [],
            "description": "",
            "_model_name": "LabelModel",
            "placeholder": "​",
            "_view_module": "@jupyter-widgets/controls",
            "_model_module_version": "1.5.0",
            "value": " 14.79MB of 14.79MB uploaded (0.00MB deduped)\r",
            "_view_count": null,
            "_view_module_version": "1.5.0",
            "description_tooltip": null,
            "_model_module": "@jupyter-widgets/controls",
            "layout": "IPY_MODEL_2d15452ec13d47ef877c0a8440677e1f"
          }
        },
        "fb7990ce25fc43319fd445ad26c4b72d": {
          "model_module": "@jupyter-widgets/controls",
          "model_name": "FloatProgressModel",
          "state": {
            "_view_name": "ProgressView",
            "style": "IPY_MODEL_ef32abf239af4376854e78510aa78487",
            "_dom_classes": [],
            "description": "",
            "_model_name": "FloatProgressModel",
            "bar_style": "",
            "max": 1,
            "_view_module": "@jupyter-widgets/controls",
            "_model_module_version": "1.5.0",
            "value": 1,
            "_view_count": null,
            "_view_module_version": "1.5.0",
            "orientation": "horizontal",
            "min": 0,
            "description_tooltip": null,
            "_model_module": "@jupyter-widgets/controls",
            "layout": "IPY_MODEL_122c23b9d8ee4715a37c4261f713541d"
          }
        },
        "c1495b09676340928c3303a65db69977": {
          "model_module": "@jupyter-widgets/controls",
          "model_name": "DescriptionStyleModel",
          "state": {
            "_view_name": "StyleView",
            "_model_name": "DescriptionStyleModel",
            "description_width": "",
            "_view_module": "@jupyter-widgets/base",
            "_model_module_version": "1.5.0",
            "_view_count": null,
            "_view_module_version": "1.2.0",
            "_model_module": "@jupyter-widgets/controls"
          }
        },
        "2d15452ec13d47ef877c0a8440677e1f": {
          "model_module": "@jupyter-widgets/base",
          "model_name": "LayoutModel",
          "state": {
            "_view_name": "LayoutView",
            "grid_template_rows": null,
            "right": null,
            "justify_content": null,
            "_view_module": "@jupyter-widgets/base",
            "overflow": null,
            "_model_module_version": "1.2.0",
            "_view_count": null,
            "flex_flow": null,
            "width": null,
            "min_width": null,
            "border": null,
            "align_items": null,
            "bottom": null,
            "_model_module": "@jupyter-widgets/base",
            "top": null,
            "grid_column": null,
            "overflow_y": null,
            "overflow_x": null,
            "grid_auto_flow": null,
            "grid_area": null,
            "grid_template_columns": null,
            "flex": null,
            "_model_name": "LayoutModel",
            "justify_items": null,
            "grid_row": null,
            "max_height": null,
            "align_content": null,
            "visibility": null,
            "align_self": null,
            "height": null,
            "min_height": null,
            "padding": null,
            "grid_auto_rows": null,
            "grid_gap": null,
            "max_width": null,
            "order": null,
            "_view_module_version": "1.2.0",
            "grid_template_areas": null,
            "object_position": null,
            "object_fit": null,
            "grid_auto_columns": null,
            "margin": null,
            "display": null,
            "left": null
          }
        },
        "ef32abf239af4376854e78510aa78487": {
          "model_module": "@jupyter-widgets/controls",
          "model_name": "ProgressStyleModel",
          "state": {
            "_view_name": "StyleView",
            "_model_name": "ProgressStyleModel",
            "description_width": "",
            "_view_module": "@jupyter-widgets/base",
            "_model_module_version": "1.5.0",
            "_view_count": null,
            "_view_module_version": "1.2.0",
            "bar_color": null,
            "_model_module": "@jupyter-widgets/controls"
          }
        },
        "122c23b9d8ee4715a37c4261f713541d": {
          "model_module": "@jupyter-widgets/base",
          "model_name": "LayoutModel",
          "state": {
            "_view_name": "LayoutView",
            "grid_template_rows": null,
            "right": null,
            "justify_content": null,
            "_view_module": "@jupyter-widgets/base",
            "overflow": null,
            "_model_module_version": "1.2.0",
            "_view_count": null,
            "flex_flow": null,
            "width": null,
            "min_width": null,
            "border": null,
            "align_items": null,
            "bottom": null,
            "_model_module": "@jupyter-widgets/base",
            "top": null,
            "grid_column": null,
            "overflow_y": null,
            "overflow_x": null,
            "grid_auto_flow": null,
            "grid_area": null,
            "grid_template_columns": null,
            "flex": null,
            "_model_name": "LayoutModel",
            "justify_items": null,
            "grid_row": null,
            "max_height": null,
            "align_content": null,
            "visibility": null,
            "align_self": null,
            "height": null,
            "min_height": null,
            "padding": null,
            "grid_auto_rows": null,
            "grid_gap": null,
            "max_width": null,
            "order": null,
            "_view_module_version": "1.2.0",
            "grid_template_areas": null,
            "object_position": null,
            "object_fit": null,
            "grid_auto_columns": null,
            "margin": null,
            "display": null,
            "left": null
          }
        },
        "fa071fe3de624a948f4019e1d83804b3": {
          "model_module": "@jupyter-widgets/controls",
          "model_name": "VBoxModel",
          "state": {
            "_view_name": "VBoxView",
            "_dom_classes": [],
            "_model_name": "VBoxModel",
            "_view_module": "@jupyter-widgets/controls",
            "_model_module_version": "1.5.0",
            "_view_count": null,
            "_view_module_version": "1.5.0",
            "box_style": "",
            "layout": "IPY_MODEL_b8693b12290041e3b448f9036f1f437a",
            "_model_module": "@jupyter-widgets/controls",
            "children": [
              "IPY_MODEL_6357fec1b94740c1aa35e3acb251a065",
              "IPY_MODEL_23a0c51d80f543a2b76a093bb4a19755"
            ]
          }
        },
        "b8693b12290041e3b448f9036f1f437a": {
          "model_module": "@jupyter-widgets/base",
          "model_name": "LayoutModel",
          "state": {
            "_view_name": "LayoutView",
            "grid_template_rows": null,
            "right": null,
            "justify_content": null,
            "_view_module": "@jupyter-widgets/base",
            "overflow": null,
            "_model_module_version": "1.2.0",
            "_view_count": null,
            "flex_flow": null,
            "width": null,
            "min_width": null,
            "border": null,
            "align_items": null,
            "bottom": null,
            "_model_module": "@jupyter-widgets/base",
            "top": null,
            "grid_column": null,
            "overflow_y": null,
            "overflow_x": null,
            "grid_auto_flow": null,
            "grid_area": null,
            "grid_template_columns": null,
            "flex": null,
            "_model_name": "LayoutModel",
            "justify_items": null,
            "grid_row": null,
            "max_height": null,
            "align_content": null,
            "visibility": null,
            "align_self": null,
            "height": null,
            "min_height": null,
            "padding": null,
            "grid_auto_rows": null,
            "grid_gap": null,
            "max_width": null,
            "order": null,
            "_view_module_version": "1.2.0",
            "grid_template_areas": null,
            "object_position": null,
            "object_fit": null,
            "grid_auto_columns": null,
            "margin": null,
            "display": null,
            "left": null
          }
        },
        "6357fec1b94740c1aa35e3acb251a065": {
          "model_module": "@jupyter-widgets/controls",
          "model_name": "LabelModel",
          "state": {
            "_view_name": "LabelView",
            "style": "IPY_MODEL_ec2b5c9c78f44adfb2fe06b359f0504c",
            "_dom_classes": [],
            "description": "",
            "_model_name": "LabelModel",
            "placeholder": "​",
            "_view_module": "@jupyter-widgets/controls",
            "_model_module_version": "1.5.0",
            "value": " 17.92MB of 17.92MB uploaded (0.00MB deduped)\r",
            "_view_count": null,
            "_view_module_version": "1.5.0",
            "description_tooltip": null,
            "_model_module": "@jupyter-widgets/controls",
            "layout": "IPY_MODEL_9b38d1aaf18f4bf98245173bfcd31345"
          }
        },
        "23a0c51d80f543a2b76a093bb4a19755": {
          "model_module": "@jupyter-widgets/controls",
          "model_name": "FloatProgressModel",
          "state": {
            "_view_name": "ProgressView",
            "style": "IPY_MODEL_92ee1cb3da854a9eb8bc13b5ee6270ad",
            "_dom_classes": [],
            "description": "",
            "_model_name": "FloatProgressModel",
            "bar_style": "",
            "max": 1,
            "_view_module": "@jupyter-widgets/controls",
            "_model_module_version": "1.5.0",
            "value": 1,
            "_view_count": null,
            "_view_module_version": "1.5.0",
            "orientation": "horizontal",
            "min": 0,
            "description_tooltip": null,
            "_model_module": "@jupyter-widgets/controls",
            "layout": "IPY_MODEL_4143c5eccc3d4b8fa33b204a6fdecc71"
          }
        },
        "ec2b5c9c78f44adfb2fe06b359f0504c": {
          "model_module": "@jupyter-widgets/controls",
          "model_name": "DescriptionStyleModel",
          "state": {
            "_view_name": "StyleView",
            "_model_name": "DescriptionStyleModel",
            "description_width": "",
            "_view_module": "@jupyter-widgets/base",
            "_model_module_version": "1.5.0",
            "_view_count": null,
            "_view_module_version": "1.2.0",
            "_model_module": "@jupyter-widgets/controls"
          }
        },
        "9b38d1aaf18f4bf98245173bfcd31345": {
          "model_module": "@jupyter-widgets/base",
          "model_name": "LayoutModel",
          "state": {
            "_view_name": "LayoutView",
            "grid_template_rows": null,
            "right": null,
            "justify_content": null,
            "_view_module": "@jupyter-widgets/base",
            "overflow": null,
            "_model_module_version": "1.2.0",
            "_view_count": null,
            "flex_flow": null,
            "width": null,
            "min_width": null,
            "border": null,
            "align_items": null,
            "bottom": null,
            "_model_module": "@jupyter-widgets/base",
            "top": null,
            "grid_column": null,
            "overflow_y": null,
            "overflow_x": null,
            "grid_auto_flow": null,
            "grid_area": null,
            "grid_template_columns": null,
            "flex": null,
            "_model_name": "LayoutModel",
            "justify_items": null,
            "grid_row": null,
            "max_height": null,
            "align_content": null,
            "visibility": null,
            "align_self": null,
            "height": null,
            "min_height": null,
            "padding": null,
            "grid_auto_rows": null,
            "grid_gap": null,
            "max_width": null,
            "order": null,
            "_view_module_version": "1.2.0",
            "grid_template_areas": null,
            "object_position": null,
            "object_fit": null,
            "grid_auto_columns": null,
            "margin": null,
            "display": null,
            "left": null
          }
        },
        "92ee1cb3da854a9eb8bc13b5ee6270ad": {
          "model_module": "@jupyter-widgets/controls",
          "model_name": "ProgressStyleModel",
          "state": {
            "_view_name": "StyleView",
            "_model_name": "ProgressStyleModel",
            "description_width": "",
            "_view_module": "@jupyter-widgets/base",
            "_model_module_version": "1.5.0",
            "_view_count": null,
            "_view_module_version": "1.2.0",
            "bar_color": null,
            "_model_module": "@jupyter-widgets/controls"
          }
        },
        "4143c5eccc3d4b8fa33b204a6fdecc71": {
          "model_module": "@jupyter-widgets/base",
          "model_name": "LayoutModel",
          "state": {
            "_view_name": "LayoutView",
            "grid_template_rows": null,
            "right": null,
            "justify_content": null,
            "_view_module": "@jupyter-widgets/base",
            "overflow": null,
            "_model_module_version": "1.2.0",
            "_view_count": null,
            "flex_flow": null,
            "width": null,
            "min_width": null,
            "border": null,
            "align_items": null,
            "bottom": null,
            "_model_module": "@jupyter-widgets/base",
            "top": null,
            "grid_column": null,
            "overflow_y": null,
            "overflow_x": null,
            "grid_auto_flow": null,
            "grid_area": null,
            "grid_template_columns": null,
            "flex": null,
            "_model_name": "LayoutModel",
            "justify_items": null,
            "grid_row": null,
            "max_height": null,
            "align_content": null,
            "visibility": null,
            "align_self": null,
            "height": null,
            "min_height": null,
            "padding": null,
            "grid_auto_rows": null,
            "grid_gap": null,
            "max_width": null,
            "order": null,
            "_view_module_version": "1.2.0",
            "grid_template_areas": null,
            "object_position": null,
            "object_fit": null,
            "grid_auto_columns": null,
            "margin": null,
            "display": null,
            "left": null
          }
        },
        "e3c376b8f25f485db5d069d4d55a8fd7": {
          "model_module": "@jupyter-widgets/controls",
          "model_name": "VBoxModel",
          "state": {
            "_view_name": "VBoxView",
            "_dom_classes": [],
            "_model_name": "VBoxModel",
            "_view_module": "@jupyter-widgets/controls",
            "_model_module_version": "1.5.0",
            "_view_count": null,
            "_view_module_version": "1.5.0",
            "box_style": "",
            "layout": "IPY_MODEL_d1d3742decd6409180dc01d127746850",
            "_model_module": "@jupyter-widgets/controls",
            "children": [
              "IPY_MODEL_573bf6e685f14d58af58aabf768594d2",
              "IPY_MODEL_bbdc13ddbb154a829b66a9c3f22dfdfa"
            ]
          }
        },
        "d1d3742decd6409180dc01d127746850": {
          "model_module": "@jupyter-widgets/base",
          "model_name": "LayoutModel",
          "state": {
            "_view_name": "LayoutView",
            "grid_template_rows": null,
            "right": null,
            "justify_content": null,
            "_view_module": "@jupyter-widgets/base",
            "overflow": null,
            "_model_module_version": "1.2.0",
            "_view_count": null,
            "flex_flow": null,
            "width": null,
            "min_width": null,
            "border": null,
            "align_items": null,
            "bottom": null,
            "_model_module": "@jupyter-widgets/base",
            "top": null,
            "grid_column": null,
            "overflow_y": null,
            "overflow_x": null,
            "grid_auto_flow": null,
            "grid_area": null,
            "grid_template_columns": null,
            "flex": null,
            "_model_name": "LayoutModel",
            "justify_items": null,
            "grid_row": null,
            "max_height": null,
            "align_content": null,
            "visibility": null,
            "align_self": null,
            "height": null,
            "min_height": null,
            "padding": null,
            "grid_auto_rows": null,
            "grid_gap": null,
            "max_width": null,
            "order": null,
            "_view_module_version": "1.2.0",
            "grid_template_areas": null,
            "object_position": null,
            "object_fit": null,
            "grid_auto_columns": null,
            "margin": null,
            "display": null,
            "left": null
          }
        },
        "573bf6e685f14d58af58aabf768594d2": {
          "model_module": "@jupyter-widgets/controls",
          "model_name": "LabelModel",
          "state": {
            "_view_name": "LabelView",
            "style": "IPY_MODEL_30f8adc4315048c391e5e40066b06cd2",
            "_dom_classes": [],
            "description": "",
            "_model_name": "LabelModel",
            "placeholder": "​",
            "_view_module": "@jupyter-widgets/controls",
            "_model_module_version": "1.5.0",
            "value": " 5.86MB of 5.86MB uploaded (0.00MB deduped)\r",
            "_view_count": null,
            "_view_module_version": "1.5.0",
            "description_tooltip": null,
            "_model_module": "@jupyter-widgets/controls",
            "layout": "IPY_MODEL_be5f09d3514e45d992e393f60fd085b8"
          }
        },
        "bbdc13ddbb154a829b66a9c3f22dfdfa": {
          "model_module": "@jupyter-widgets/controls",
          "model_name": "FloatProgressModel",
          "state": {
            "_view_name": "ProgressView",
            "style": "IPY_MODEL_089cc469efe9493e8e4bb8d6aecda64e",
            "_dom_classes": [],
            "description": "",
            "_model_name": "FloatProgressModel",
            "bar_style": "",
            "max": 1,
            "_view_module": "@jupyter-widgets/controls",
            "_model_module_version": "1.5.0",
            "value": 1,
            "_view_count": null,
            "_view_module_version": "1.5.0",
            "orientation": "horizontal",
            "min": 0,
            "description_tooltip": null,
            "_model_module": "@jupyter-widgets/controls",
            "layout": "IPY_MODEL_e94e727b336644b3a493037a2bcdd4d7"
          }
        },
        "30f8adc4315048c391e5e40066b06cd2": {
          "model_module": "@jupyter-widgets/controls",
          "model_name": "DescriptionStyleModel",
          "state": {
            "_view_name": "StyleView",
            "_model_name": "DescriptionStyleModel",
            "description_width": "",
            "_view_module": "@jupyter-widgets/base",
            "_model_module_version": "1.5.0",
            "_view_count": null,
            "_view_module_version": "1.2.0",
            "_model_module": "@jupyter-widgets/controls"
          }
        },
        "be5f09d3514e45d992e393f60fd085b8": {
          "model_module": "@jupyter-widgets/base",
          "model_name": "LayoutModel",
          "state": {
            "_view_name": "LayoutView",
            "grid_template_rows": null,
            "right": null,
            "justify_content": null,
            "_view_module": "@jupyter-widgets/base",
            "overflow": null,
            "_model_module_version": "1.2.0",
            "_view_count": null,
            "flex_flow": null,
            "width": null,
            "min_width": null,
            "border": null,
            "align_items": null,
            "bottom": null,
            "_model_module": "@jupyter-widgets/base",
            "top": null,
            "grid_column": null,
            "overflow_y": null,
            "overflow_x": null,
            "grid_auto_flow": null,
            "grid_area": null,
            "grid_template_columns": null,
            "flex": null,
            "_model_name": "LayoutModel",
            "justify_items": null,
            "grid_row": null,
            "max_height": null,
            "align_content": null,
            "visibility": null,
            "align_self": null,
            "height": null,
            "min_height": null,
            "padding": null,
            "grid_auto_rows": null,
            "grid_gap": null,
            "max_width": null,
            "order": null,
            "_view_module_version": "1.2.0",
            "grid_template_areas": null,
            "object_position": null,
            "object_fit": null,
            "grid_auto_columns": null,
            "margin": null,
            "display": null,
            "left": null
          }
        },
        "089cc469efe9493e8e4bb8d6aecda64e": {
          "model_module": "@jupyter-widgets/controls",
          "model_name": "ProgressStyleModel",
          "state": {
            "_view_name": "StyleView",
            "_model_name": "ProgressStyleModel",
            "description_width": "",
            "_view_module": "@jupyter-widgets/base",
            "_model_module_version": "1.5.0",
            "_view_count": null,
            "_view_module_version": "1.2.0",
            "bar_color": null,
            "_model_module": "@jupyter-widgets/controls"
          }
        },
        "e94e727b336644b3a493037a2bcdd4d7": {
          "model_module": "@jupyter-widgets/base",
          "model_name": "LayoutModel",
          "state": {
            "_view_name": "LayoutView",
            "grid_template_rows": null,
            "right": null,
            "justify_content": null,
            "_view_module": "@jupyter-widgets/base",
            "overflow": null,
            "_model_module_version": "1.2.0",
            "_view_count": null,
            "flex_flow": null,
            "width": null,
            "min_width": null,
            "border": null,
            "align_items": null,
            "bottom": null,
            "_model_module": "@jupyter-widgets/base",
            "top": null,
            "grid_column": null,
            "overflow_y": null,
            "overflow_x": null,
            "grid_auto_flow": null,
            "grid_area": null,
            "grid_template_columns": null,
            "flex": null,
            "_model_name": "LayoutModel",
            "justify_items": null,
            "grid_row": null,
            "max_height": null,
            "align_content": null,
            "visibility": null,
            "align_self": null,
            "height": null,
            "min_height": null,
            "padding": null,
            "grid_auto_rows": null,
            "grid_gap": null,
            "max_width": null,
            "order": null,
            "_view_module_version": "1.2.0",
            "grid_template_areas": null,
            "object_position": null,
            "object_fit": null,
            "grid_auto_columns": null,
            "margin": null,
            "display": null,
            "left": null
          }
        },
        "36be140b3d244c7e856f5e5908d43855": {
          "model_module": "@jupyter-widgets/controls",
          "model_name": "VBoxModel",
          "state": {
            "_view_name": "VBoxView",
            "_dom_classes": [],
            "_model_name": "VBoxModel",
            "_view_module": "@jupyter-widgets/controls",
            "_model_module_version": "1.5.0",
            "_view_count": null,
            "_view_module_version": "1.5.0",
            "box_style": "",
            "layout": "IPY_MODEL_a81469e51eb94e61ae18586bde18b1f3",
            "_model_module": "@jupyter-widgets/controls",
            "children": [
              "IPY_MODEL_e835c839956b4dba8458ff05e9b58bdd",
              "IPY_MODEL_b8151c3cb4f14eb6900658ed030d75fd"
            ]
          }
        },
        "a81469e51eb94e61ae18586bde18b1f3": {
          "model_module": "@jupyter-widgets/base",
          "model_name": "LayoutModel",
          "state": {
            "_view_name": "LayoutView",
            "grid_template_rows": null,
            "right": null,
            "justify_content": null,
            "_view_module": "@jupyter-widgets/base",
            "overflow": null,
            "_model_module_version": "1.2.0",
            "_view_count": null,
            "flex_flow": null,
            "width": null,
            "min_width": null,
            "border": null,
            "align_items": null,
            "bottom": null,
            "_model_module": "@jupyter-widgets/base",
            "top": null,
            "grid_column": null,
            "overflow_y": null,
            "overflow_x": null,
            "grid_auto_flow": null,
            "grid_area": null,
            "grid_template_columns": null,
            "flex": null,
            "_model_name": "LayoutModel",
            "justify_items": null,
            "grid_row": null,
            "max_height": null,
            "align_content": null,
            "visibility": null,
            "align_self": null,
            "height": null,
            "min_height": null,
            "padding": null,
            "grid_auto_rows": null,
            "grid_gap": null,
            "max_width": null,
            "order": null,
            "_view_module_version": "1.2.0",
            "grid_template_areas": null,
            "object_position": null,
            "object_fit": null,
            "grid_auto_columns": null,
            "margin": null,
            "display": null,
            "left": null
          }
        },
        "e835c839956b4dba8458ff05e9b58bdd": {
          "model_module": "@jupyter-widgets/controls",
          "model_name": "LabelModel",
          "state": {
            "_view_name": "LabelView",
            "style": "IPY_MODEL_53f1921252684d8aa40c01b29152ca52",
            "_dom_classes": [],
            "description": "",
            "_model_name": "LabelModel",
            "placeholder": "​",
            "_view_module": "@jupyter-widgets/controls",
            "_model_module_version": "1.5.0",
            "value": " 9.88MB of 9.88MB uploaded (0.00MB deduped)\r",
            "_view_count": null,
            "_view_module_version": "1.5.0",
            "description_tooltip": null,
            "_model_module": "@jupyter-widgets/controls",
            "layout": "IPY_MODEL_1129e05c66e242bca619b3aff1d0cb27"
          }
        },
        "b8151c3cb4f14eb6900658ed030d75fd": {
          "model_module": "@jupyter-widgets/controls",
          "model_name": "FloatProgressModel",
          "state": {
            "_view_name": "ProgressView",
            "style": "IPY_MODEL_ae3fdcedc4f84e029614834e923ce0aa",
            "_dom_classes": [],
            "description": "",
            "_model_name": "FloatProgressModel",
            "bar_style": "",
            "max": 1,
            "_view_module": "@jupyter-widgets/controls",
            "_model_module_version": "1.5.0",
            "value": 1,
            "_view_count": null,
            "_view_module_version": "1.5.0",
            "orientation": "horizontal",
            "min": 0,
            "description_tooltip": null,
            "_model_module": "@jupyter-widgets/controls",
            "layout": "IPY_MODEL_13004decbbf7438aa0c41a02bcd7ba98"
          }
        },
        "53f1921252684d8aa40c01b29152ca52": {
          "model_module": "@jupyter-widgets/controls",
          "model_name": "DescriptionStyleModel",
          "state": {
            "_view_name": "StyleView",
            "_model_name": "DescriptionStyleModel",
            "description_width": "",
            "_view_module": "@jupyter-widgets/base",
            "_model_module_version": "1.5.0",
            "_view_count": null,
            "_view_module_version": "1.2.0",
            "_model_module": "@jupyter-widgets/controls"
          }
        },
        "1129e05c66e242bca619b3aff1d0cb27": {
          "model_module": "@jupyter-widgets/base",
          "model_name": "LayoutModel",
          "state": {
            "_view_name": "LayoutView",
            "grid_template_rows": null,
            "right": null,
            "justify_content": null,
            "_view_module": "@jupyter-widgets/base",
            "overflow": null,
            "_model_module_version": "1.2.0",
            "_view_count": null,
            "flex_flow": null,
            "width": null,
            "min_width": null,
            "border": null,
            "align_items": null,
            "bottom": null,
            "_model_module": "@jupyter-widgets/base",
            "top": null,
            "grid_column": null,
            "overflow_y": null,
            "overflow_x": null,
            "grid_auto_flow": null,
            "grid_area": null,
            "grid_template_columns": null,
            "flex": null,
            "_model_name": "LayoutModel",
            "justify_items": null,
            "grid_row": null,
            "max_height": null,
            "align_content": null,
            "visibility": null,
            "align_self": null,
            "height": null,
            "min_height": null,
            "padding": null,
            "grid_auto_rows": null,
            "grid_gap": null,
            "max_width": null,
            "order": null,
            "_view_module_version": "1.2.0",
            "grid_template_areas": null,
            "object_position": null,
            "object_fit": null,
            "grid_auto_columns": null,
            "margin": null,
            "display": null,
            "left": null
          }
        },
        "ae3fdcedc4f84e029614834e923ce0aa": {
          "model_module": "@jupyter-widgets/controls",
          "model_name": "ProgressStyleModel",
          "state": {
            "_view_name": "StyleView",
            "_model_name": "ProgressStyleModel",
            "description_width": "",
            "_view_module": "@jupyter-widgets/base",
            "_model_module_version": "1.5.0",
            "_view_count": null,
            "_view_module_version": "1.2.0",
            "bar_color": null,
            "_model_module": "@jupyter-widgets/controls"
          }
        },
        "13004decbbf7438aa0c41a02bcd7ba98": {
          "model_module": "@jupyter-widgets/base",
          "model_name": "LayoutModel",
          "state": {
            "_view_name": "LayoutView",
            "grid_template_rows": null,
            "right": null,
            "justify_content": null,
            "_view_module": "@jupyter-widgets/base",
            "overflow": null,
            "_model_module_version": "1.2.0",
            "_view_count": null,
            "flex_flow": null,
            "width": null,
            "min_width": null,
            "border": null,
            "align_items": null,
            "bottom": null,
            "_model_module": "@jupyter-widgets/base",
            "top": null,
            "grid_column": null,
            "overflow_y": null,
            "overflow_x": null,
            "grid_auto_flow": null,
            "grid_area": null,
            "grid_template_columns": null,
            "flex": null,
            "_model_name": "LayoutModel",
            "justify_items": null,
            "grid_row": null,
            "max_height": null,
            "align_content": null,
            "visibility": null,
            "align_self": null,
            "height": null,
            "min_height": null,
            "padding": null,
            "grid_auto_rows": null,
            "grid_gap": null,
            "max_width": null,
            "order": null,
            "_view_module_version": "1.2.0",
            "grid_template_areas": null,
            "object_position": null,
            "object_fit": null,
            "grid_auto_columns": null,
            "margin": null,
            "display": null,
            "left": null
          }
        },
        "a9556d97090645479fd74c397784357e": {
          "model_module": "@jupyter-widgets/controls",
          "model_name": "VBoxModel",
          "state": {
            "_view_name": "VBoxView",
            "_dom_classes": [],
            "_model_name": "VBoxModel",
            "_view_module": "@jupyter-widgets/controls",
            "_model_module_version": "1.5.0",
            "_view_count": null,
            "_view_module_version": "1.5.0",
            "box_style": "",
            "layout": "IPY_MODEL_64fd58ee358f4447970c57846fc7a6e1",
            "_model_module": "@jupyter-widgets/controls",
            "children": [
              "IPY_MODEL_2e826bb1928347f383ab49b473d6b7f1",
              "IPY_MODEL_a395fcc3403d4c0bb18f46fc5ef7b035"
            ]
          }
        },
        "64fd58ee358f4447970c57846fc7a6e1": {
          "model_module": "@jupyter-widgets/base",
          "model_name": "LayoutModel",
          "state": {
            "_view_name": "LayoutView",
            "grid_template_rows": null,
            "right": null,
            "justify_content": null,
            "_view_module": "@jupyter-widgets/base",
            "overflow": null,
            "_model_module_version": "1.2.0",
            "_view_count": null,
            "flex_flow": null,
            "width": null,
            "min_width": null,
            "border": null,
            "align_items": null,
            "bottom": null,
            "_model_module": "@jupyter-widgets/base",
            "top": null,
            "grid_column": null,
            "overflow_y": null,
            "overflow_x": null,
            "grid_auto_flow": null,
            "grid_area": null,
            "grid_template_columns": null,
            "flex": null,
            "_model_name": "LayoutModel",
            "justify_items": null,
            "grid_row": null,
            "max_height": null,
            "align_content": null,
            "visibility": null,
            "align_self": null,
            "height": null,
            "min_height": null,
            "padding": null,
            "grid_auto_rows": null,
            "grid_gap": null,
            "max_width": null,
            "order": null,
            "_view_module_version": "1.2.0",
            "grid_template_areas": null,
            "object_position": null,
            "object_fit": null,
            "grid_auto_columns": null,
            "margin": null,
            "display": null,
            "left": null
          }
        },
        "2e826bb1928347f383ab49b473d6b7f1": {
          "model_module": "@jupyter-widgets/controls",
          "model_name": "LabelModel",
          "state": {
            "_view_name": "LabelView",
            "style": "IPY_MODEL_5f4e1358192c4ffead3603d4afc96f82",
            "_dom_classes": [],
            "description": "",
            "_model_name": "LabelModel",
            "placeholder": "​",
            "_view_module": "@jupyter-widgets/controls",
            "_model_module_version": "1.5.0",
            "value": " 2.30MB of 2.30MB uploaded (0.00MB deduped)\r",
            "_view_count": null,
            "_view_module_version": "1.5.0",
            "description_tooltip": null,
            "_model_module": "@jupyter-widgets/controls",
            "layout": "IPY_MODEL_299278e2bc2a447eb2dd87c46ed8f7c6"
          }
        },
        "a395fcc3403d4c0bb18f46fc5ef7b035": {
          "model_module": "@jupyter-widgets/controls",
          "model_name": "FloatProgressModel",
          "state": {
            "_view_name": "ProgressView",
            "style": "IPY_MODEL_df75d8b011ea41cab0ffa90e825eb80a",
            "_dom_classes": [],
            "description": "",
            "_model_name": "FloatProgressModel",
            "bar_style": "",
            "max": 1,
            "_view_module": "@jupyter-widgets/controls",
            "_model_module_version": "1.5.0",
            "value": 1,
            "_view_count": null,
            "_view_module_version": "1.5.0",
            "orientation": "horizontal",
            "min": 0,
            "description_tooltip": null,
            "_model_module": "@jupyter-widgets/controls",
            "layout": "IPY_MODEL_21a803fdb6404410ac2caa53c6eb4356"
          }
        },
        "5f4e1358192c4ffead3603d4afc96f82": {
          "model_module": "@jupyter-widgets/controls",
          "model_name": "DescriptionStyleModel",
          "state": {
            "_view_name": "StyleView",
            "_model_name": "DescriptionStyleModel",
            "description_width": "",
            "_view_module": "@jupyter-widgets/base",
            "_model_module_version": "1.5.0",
            "_view_count": null,
            "_view_module_version": "1.2.0",
            "_model_module": "@jupyter-widgets/controls"
          }
        },
        "299278e2bc2a447eb2dd87c46ed8f7c6": {
          "model_module": "@jupyter-widgets/base",
          "model_name": "LayoutModel",
          "state": {
            "_view_name": "LayoutView",
            "grid_template_rows": null,
            "right": null,
            "justify_content": null,
            "_view_module": "@jupyter-widgets/base",
            "overflow": null,
            "_model_module_version": "1.2.0",
            "_view_count": null,
            "flex_flow": null,
            "width": null,
            "min_width": null,
            "border": null,
            "align_items": null,
            "bottom": null,
            "_model_module": "@jupyter-widgets/base",
            "top": null,
            "grid_column": null,
            "overflow_y": null,
            "overflow_x": null,
            "grid_auto_flow": null,
            "grid_area": null,
            "grid_template_columns": null,
            "flex": null,
            "_model_name": "LayoutModel",
            "justify_items": null,
            "grid_row": null,
            "max_height": null,
            "align_content": null,
            "visibility": null,
            "align_self": null,
            "height": null,
            "min_height": null,
            "padding": null,
            "grid_auto_rows": null,
            "grid_gap": null,
            "max_width": null,
            "order": null,
            "_view_module_version": "1.2.0",
            "grid_template_areas": null,
            "object_position": null,
            "object_fit": null,
            "grid_auto_columns": null,
            "margin": null,
            "display": null,
            "left": null
          }
        },
        "df75d8b011ea41cab0ffa90e825eb80a": {
          "model_module": "@jupyter-widgets/controls",
          "model_name": "ProgressStyleModel",
          "state": {
            "_view_name": "StyleView",
            "_model_name": "ProgressStyleModel",
            "description_width": "",
            "_view_module": "@jupyter-widgets/base",
            "_model_module_version": "1.5.0",
            "_view_count": null,
            "_view_module_version": "1.2.0",
            "bar_color": null,
            "_model_module": "@jupyter-widgets/controls"
          }
        },
        "21a803fdb6404410ac2caa53c6eb4356": {
          "model_module": "@jupyter-widgets/base",
          "model_name": "LayoutModel",
          "state": {
            "_view_name": "LayoutView",
            "grid_template_rows": null,
            "right": null,
            "justify_content": null,
            "_view_module": "@jupyter-widgets/base",
            "overflow": null,
            "_model_module_version": "1.2.0",
            "_view_count": null,
            "flex_flow": null,
            "width": null,
            "min_width": null,
            "border": null,
            "align_items": null,
            "bottom": null,
            "_model_module": "@jupyter-widgets/base",
            "top": null,
            "grid_column": null,
            "overflow_y": null,
            "overflow_x": null,
            "grid_auto_flow": null,
            "grid_area": null,
            "grid_template_columns": null,
            "flex": null,
            "_model_name": "LayoutModel",
            "justify_items": null,
            "grid_row": null,
            "max_height": null,
            "align_content": null,
            "visibility": null,
            "align_self": null,
            "height": null,
            "min_height": null,
            "padding": null,
            "grid_auto_rows": null,
            "grid_gap": null,
            "max_width": null,
            "order": null,
            "_view_module_version": "1.2.0",
            "grid_template_areas": null,
            "object_position": null,
            "object_fit": null,
            "grid_auto_columns": null,
            "margin": null,
            "display": null,
            "left": null
          }
        },
        "d501d8b36d264da3ac5669b1480d745e": {
          "model_module": "@jupyter-widgets/controls",
          "model_name": "VBoxModel",
          "state": {
            "_view_name": "VBoxView",
            "_dom_classes": [],
            "_model_name": "VBoxModel",
            "_view_module": "@jupyter-widgets/controls",
            "_model_module_version": "1.5.0",
            "_view_count": null,
            "_view_module_version": "1.5.0",
            "box_style": "",
            "layout": "IPY_MODEL_18b1425c92bb4d10a6480c7d886b2e63",
            "_model_module": "@jupyter-widgets/controls",
            "children": [
              "IPY_MODEL_0f47df3300344c3bb6816a85bbe22f5c",
              "IPY_MODEL_d43e4262974c4331bde7b798327bd123"
            ]
          }
        },
        "18b1425c92bb4d10a6480c7d886b2e63": {
          "model_module": "@jupyter-widgets/base",
          "model_name": "LayoutModel",
          "state": {
            "_view_name": "LayoutView",
            "grid_template_rows": null,
            "right": null,
            "justify_content": null,
            "_view_module": "@jupyter-widgets/base",
            "overflow": null,
            "_model_module_version": "1.2.0",
            "_view_count": null,
            "flex_flow": null,
            "width": null,
            "min_width": null,
            "border": null,
            "align_items": null,
            "bottom": null,
            "_model_module": "@jupyter-widgets/base",
            "top": null,
            "grid_column": null,
            "overflow_y": null,
            "overflow_x": null,
            "grid_auto_flow": null,
            "grid_area": null,
            "grid_template_columns": null,
            "flex": null,
            "_model_name": "LayoutModel",
            "justify_items": null,
            "grid_row": null,
            "max_height": null,
            "align_content": null,
            "visibility": null,
            "align_self": null,
            "height": null,
            "min_height": null,
            "padding": null,
            "grid_auto_rows": null,
            "grid_gap": null,
            "max_width": null,
            "order": null,
            "_view_module_version": "1.2.0",
            "grid_template_areas": null,
            "object_position": null,
            "object_fit": null,
            "grid_auto_columns": null,
            "margin": null,
            "display": null,
            "left": null
          }
        },
        "0f47df3300344c3bb6816a85bbe22f5c": {
          "model_module": "@jupyter-widgets/controls",
          "model_name": "LabelModel",
          "state": {
            "_view_name": "LabelView",
            "style": "IPY_MODEL_5919930f4fa249999bf45863f306869e",
            "_dom_classes": [],
            "description": "",
            "_model_name": "LabelModel",
            "placeholder": "​",
            "_view_module": "@jupyter-widgets/controls",
            "_model_module_version": "1.5.0",
            "value": " 2.30MB of 2.30MB uploaded (0.00MB deduped)\r",
            "_view_count": null,
            "_view_module_version": "1.5.0",
            "description_tooltip": null,
            "_model_module": "@jupyter-widgets/controls",
            "layout": "IPY_MODEL_af2b441fdc6b45e584f307f47bbfd721"
          }
        },
        "d43e4262974c4331bde7b798327bd123": {
          "model_module": "@jupyter-widgets/controls",
          "model_name": "FloatProgressModel",
          "state": {
            "_view_name": "ProgressView",
            "style": "IPY_MODEL_6270c0abe20a4301b64593ff47d64fcc",
            "_dom_classes": [],
            "description": "",
            "_model_name": "FloatProgressModel",
            "bar_style": "",
            "max": 1,
            "_view_module": "@jupyter-widgets/controls",
            "_model_module_version": "1.5.0",
            "value": 1,
            "_view_count": null,
            "_view_module_version": "1.5.0",
            "orientation": "horizontal",
            "min": 0,
            "description_tooltip": null,
            "_model_module": "@jupyter-widgets/controls",
            "layout": "IPY_MODEL_5d37638383cd4aa5a8f26fc813aa0404"
          }
        },
        "5919930f4fa249999bf45863f306869e": {
          "model_module": "@jupyter-widgets/controls",
          "model_name": "DescriptionStyleModel",
          "state": {
            "_view_name": "StyleView",
            "_model_name": "DescriptionStyleModel",
            "description_width": "",
            "_view_module": "@jupyter-widgets/base",
            "_model_module_version": "1.5.0",
            "_view_count": null,
            "_view_module_version": "1.2.0",
            "_model_module": "@jupyter-widgets/controls"
          }
        },
        "af2b441fdc6b45e584f307f47bbfd721": {
          "model_module": "@jupyter-widgets/base",
          "model_name": "LayoutModel",
          "state": {
            "_view_name": "LayoutView",
            "grid_template_rows": null,
            "right": null,
            "justify_content": null,
            "_view_module": "@jupyter-widgets/base",
            "overflow": null,
            "_model_module_version": "1.2.0",
            "_view_count": null,
            "flex_flow": null,
            "width": null,
            "min_width": null,
            "border": null,
            "align_items": null,
            "bottom": null,
            "_model_module": "@jupyter-widgets/base",
            "top": null,
            "grid_column": null,
            "overflow_y": null,
            "overflow_x": null,
            "grid_auto_flow": null,
            "grid_area": null,
            "grid_template_columns": null,
            "flex": null,
            "_model_name": "LayoutModel",
            "justify_items": null,
            "grid_row": null,
            "max_height": null,
            "align_content": null,
            "visibility": null,
            "align_self": null,
            "height": null,
            "min_height": null,
            "padding": null,
            "grid_auto_rows": null,
            "grid_gap": null,
            "max_width": null,
            "order": null,
            "_view_module_version": "1.2.0",
            "grid_template_areas": null,
            "object_position": null,
            "object_fit": null,
            "grid_auto_columns": null,
            "margin": null,
            "display": null,
            "left": null
          }
        },
        "6270c0abe20a4301b64593ff47d64fcc": {
          "model_module": "@jupyter-widgets/controls",
          "model_name": "ProgressStyleModel",
          "state": {
            "_view_name": "StyleView",
            "_model_name": "ProgressStyleModel",
            "description_width": "",
            "_view_module": "@jupyter-widgets/base",
            "_model_module_version": "1.5.0",
            "_view_count": null,
            "_view_module_version": "1.2.0",
            "bar_color": null,
            "_model_module": "@jupyter-widgets/controls"
          }
        },
        "5d37638383cd4aa5a8f26fc813aa0404": {
          "model_module": "@jupyter-widgets/base",
          "model_name": "LayoutModel",
          "state": {
            "_view_name": "LayoutView",
            "grid_template_rows": null,
            "right": null,
            "justify_content": null,
            "_view_module": "@jupyter-widgets/base",
            "overflow": null,
            "_model_module_version": "1.2.0",
            "_view_count": null,
            "flex_flow": null,
            "width": null,
            "min_width": null,
            "border": null,
            "align_items": null,
            "bottom": null,
            "_model_module": "@jupyter-widgets/base",
            "top": null,
            "grid_column": null,
            "overflow_y": null,
            "overflow_x": null,
            "grid_auto_flow": null,
            "grid_area": null,
            "grid_template_columns": null,
            "flex": null,
            "_model_name": "LayoutModel",
            "justify_items": null,
            "grid_row": null,
            "max_height": null,
            "align_content": null,
            "visibility": null,
            "align_self": null,
            "height": null,
            "min_height": null,
            "padding": null,
            "grid_auto_rows": null,
            "grid_gap": null,
            "max_width": null,
            "order": null,
            "_view_module_version": "1.2.0",
            "grid_template_areas": null,
            "object_position": null,
            "object_fit": null,
            "grid_auto_columns": null,
            "margin": null,
            "display": null,
            "left": null
          }
        },
        "148cc57d87b24aecb87647656a9fff24": {
          "model_module": "@jupyter-widgets/controls",
          "model_name": "VBoxModel",
          "state": {
            "_view_name": "VBoxView",
            "_dom_classes": [],
            "_model_name": "VBoxModel",
            "_view_module": "@jupyter-widgets/controls",
            "_model_module_version": "1.5.0",
            "_view_count": null,
            "_view_module_version": "1.5.0",
            "box_style": "",
            "layout": "IPY_MODEL_33caa45b44734d6ab5487908d09bcbf6",
            "_model_module": "@jupyter-widgets/controls",
            "children": [
              "IPY_MODEL_e707579f0b874d3da64949bbd7c1facb",
              "IPY_MODEL_ac92f57d344f4d5a833cae028d72a5df"
            ]
          }
        },
        "33caa45b44734d6ab5487908d09bcbf6": {
          "model_module": "@jupyter-widgets/base",
          "model_name": "LayoutModel",
          "state": {
            "_view_name": "LayoutView",
            "grid_template_rows": null,
            "right": null,
            "justify_content": null,
            "_view_module": "@jupyter-widgets/base",
            "overflow": null,
            "_model_module_version": "1.2.0",
            "_view_count": null,
            "flex_flow": null,
            "width": null,
            "min_width": null,
            "border": null,
            "align_items": null,
            "bottom": null,
            "_model_module": "@jupyter-widgets/base",
            "top": null,
            "grid_column": null,
            "overflow_y": null,
            "overflow_x": null,
            "grid_auto_flow": null,
            "grid_area": null,
            "grid_template_columns": null,
            "flex": null,
            "_model_name": "LayoutModel",
            "justify_items": null,
            "grid_row": null,
            "max_height": null,
            "align_content": null,
            "visibility": null,
            "align_self": null,
            "height": null,
            "min_height": null,
            "padding": null,
            "grid_auto_rows": null,
            "grid_gap": null,
            "max_width": null,
            "order": null,
            "_view_module_version": "1.2.0",
            "grid_template_areas": null,
            "object_position": null,
            "object_fit": null,
            "grid_auto_columns": null,
            "margin": null,
            "display": null,
            "left": null
          }
        },
        "e707579f0b874d3da64949bbd7c1facb": {
          "model_module": "@jupyter-widgets/controls",
          "model_name": "LabelModel",
          "state": {
            "_view_name": "LabelView",
            "style": "IPY_MODEL_b71e77c1b69c419bacd4b7992bc6bf77",
            "_dom_classes": [],
            "description": "",
            "_model_name": "LabelModel",
            "placeholder": "​",
            "_view_module": "@jupyter-widgets/controls",
            "_model_module_version": "1.5.0",
            "value": " 1.96MB of 1.96MB uploaded (0.00MB deduped)\r",
            "_view_count": null,
            "_view_module_version": "1.5.0",
            "description_tooltip": null,
            "_model_module": "@jupyter-widgets/controls",
            "layout": "IPY_MODEL_d69c548d264c497588dbf848258626a0"
          }
        },
        "ac92f57d344f4d5a833cae028d72a5df": {
          "model_module": "@jupyter-widgets/controls",
          "model_name": "FloatProgressModel",
          "state": {
            "_view_name": "ProgressView",
            "style": "IPY_MODEL_dedb7aa6cd3e44f09ff743568437d170",
            "_dom_classes": [],
            "description": "",
            "_model_name": "FloatProgressModel",
            "bar_style": "",
            "max": 1,
            "_view_module": "@jupyter-widgets/controls",
            "_model_module_version": "1.5.0",
            "value": 1,
            "_view_count": null,
            "_view_module_version": "1.5.0",
            "orientation": "horizontal",
            "min": 0,
            "description_tooltip": null,
            "_model_module": "@jupyter-widgets/controls",
            "layout": "IPY_MODEL_53b156c827a5497785fe7d10987479e7"
          }
        },
        "b71e77c1b69c419bacd4b7992bc6bf77": {
          "model_module": "@jupyter-widgets/controls",
          "model_name": "DescriptionStyleModel",
          "state": {
            "_view_name": "StyleView",
            "_model_name": "DescriptionStyleModel",
            "description_width": "",
            "_view_module": "@jupyter-widgets/base",
            "_model_module_version": "1.5.0",
            "_view_count": null,
            "_view_module_version": "1.2.0",
            "_model_module": "@jupyter-widgets/controls"
          }
        },
        "d69c548d264c497588dbf848258626a0": {
          "model_module": "@jupyter-widgets/base",
          "model_name": "LayoutModel",
          "state": {
            "_view_name": "LayoutView",
            "grid_template_rows": null,
            "right": null,
            "justify_content": null,
            "_view_module": "@jupyter-widgets/base",
            "overflow": null,
            "_model_module_version": "1.2.0",
            "_view_count": null,
            "flex_flow": null,
            "width": null,
            "min_width": null,
            "border": null,
            "align_items": null,
            "bottom": null,
            "_model_module": "@jupyter-widgets/base",
            "top": null,
            "grid_column": null,
            "overflow_y": null,
            "overflow_x": null,
            "grid_auto_flow": null,
            "grid_area": null,
            "grid_template_columns": null,
            "flex": null,
            "_model_name": "LayoutModel",
            "justify_items": null,
            "grid_row": null,
            "max_height": null,
            "align_content": null,
            "visibility": null,
            "align_self": null,
            "height": null,
            "min_height": null,
            "padding": null,
            "grid_auto_rows": null,
            "grid_gap": null,
            "max_width": null,
            "order": null,
            "_view_module_version": "1.2.0",
            "grid_template_areas": null,
            "object_position": null,
            "object_fit": null,
            "grid_auto_columns": null,
            "margin": null,
            "display": null,
            "left": null
          }
        },
        "dedb7aa6cd3e44f09ff743568437d170": {
          "model_module": "@jupyter-widgets/controls",
          "model_name": "ProgressStyleModel",
          "state": {
            "_view_name": "StyleView",
            "_model_name": "ProgressStyleModel",
            "description_width": "",
            "_view_module": "@jupyter-widgets/base",
            "_model_module_version": "1.5.0",
            "_view_count": null,
            "_view_module_version": "1.2.0",
            "bar_color": null,
            "_model_module": "@jupyter-widgets/controls"
          }
        },
        "53b156c827a5497785fe7d10987479e7": {
          "model_module": "@jupyter-widgets/base",
          "model_name": "LayoutModel",
          "state": {
            "_view_name": "LayoutView",
            "grid_template_rows": null,
            "right": null,
            "justify_content": null,
            "_view_module": "@jupyter-widgets/base",
            "overflow": null,
            "_model_module_version": "1.2.0",
            "_view_count": null,
            "flex_flow": null,
            "width": null,
            "min_width": null,
            "border": null,
            "align_items": null,
            "bottom": null,
            "_model_module": "@jupyter-widgets/base",
            "top": null,
            "grid_column": null,
            "overflow_y": null,
            "overflow_x": null,
            "grid_auto_flow": null,
            "grid_area": null,
            "grid_template_columns": null,
            "flex": null,
            "_model_name": "LayoutModel",
            "justify_items": null,
            "grid_row": null,
            "max_height": null,
            "align_content": null,
            "visibility": null,
            "align_self": null,
            "height": null,
            "min_height": null,
            "padding": null,
            "grid_auto_rows": null,
            "grid_gap": null,
            "max_width": null,
            "order": null,
            "_view_module_version": "1.2.0",
            "grid_template_areas": null,
            "object_position": null,
            "object_fit": null,
            "grid_auto_columns": null,
            "margin": null,
            "display": null,
            "left": null
          }
        },
        "11b9d889606e47c5ba31aed706f99e48": {
          "model_module": "@jupyter-widgets/controls",
          "model_name": "VBoxModel",
          "state": {
            "_view_name": "VBoxView",
            "_dom_classes": [],
            "_model_name": "VBoxModel",
            "_view_module": "@jupyter-widgets/controls",
            "_model_module_version": "1.5.0",
            "_view_count": null,
            "_view_module_version": "1.5.0",
            "box_style": "",
            "layout": "IPY_MODEL_d2f9d38ee3e74cf5841d62269ba387f4",
            "_model_module": "@jupyter-widgets/controls",
            "children": [
              "IPY_MODEL_6f6d5c9cc5574a20a0109a3d2fb97851",
              "IPY_MODEL_6fd0d6951e614bb291e933610b4eee19"
            ]
          }
        },
        "d2f9d38ee3e74cf5841d62269ba387f4": {
          "model_module": "@jupyter-widgets/base",
          "model_name": "LayoutModel",
          "state": {
            "_view_name": "LayoutView",
            "grid_template_rows": null,
            "right": null,
            "justify_content": null,
            "_view_module": "@jupyter-widgets/base",
            "overflow": null,
            "_model_module_version": "1.2.0",
            "_view_count": null,
            "flex_flow": null,
            "width": null,
            "min_width": null,
            "border": null,
            "align_items": null,
            "bottom": null,
            "_model_module": "@jupyter-widgets/base",
            "top": null,
            "grid_column": null,
            "overflow_y": null,
            "overflow_x": null,
            "grid_auto_flow": null,
            "grid_area": null,
            "grid_template_columns": null,
            "flex": null,
            "_model_name": "LayoutModel",
            "justify_items": null,
            "grid_row": null,
            "max_height": null,
            "align_content": null,
            "visibility": null,
            "align_self": null,
            "height": null,
            "min_height": null,
            "padding": null,
            "grid_auto_rows": null,
            "grid_gap": null,
            "max_width": null,
            "order": null,
            "_view_module_version": "1.2.0",
            "grid_template_areas": null,
            "object_position": null,
            "object_fit": null,
            "grid_auto_columns": null,
            "margin": null,
            "display": null,
            "left": null
          }
        },
        "6f6d5c9cc5574a20a0109a3d2fb97851": {
          "model_module": "@jupyter-widgets/controls",
          "model_name": "LabelModel",
          "state": {
            "_view_name": "LabelView",
            "style": "IPY_MODEL_eb0006797bb94788b5cfb16b8088448a",
            "_dom_classes": [],
            "description": "",
            "_model_name": "LabelModel",
            "placeholder": "​",
            "_view_module": "@jupyter-widgets/controls",
            "_model_module_version": "1.5.0",
            "value": " 3.06MB of 3.06MB uploaded (0.00MB deduped)\r",
            "_view_count": null,
            "_view_module_version": "1.5.0",
            "description_tooltip": null,
            "_model_module": "@jupyter-widgets/controls",
            "layout": "IPY_MODEL_d7f7473e6b1b4a389a1962c9367b65f3"
          }
        },
        "6fd0d6951e614bb291e933610b4eee19": {
          "model_module": "@jupyter-widgets/controls",
          "model_name": "FloatProgressModel",
          "state": {
            "_view_name": "ProgressView",
            "style": "IPY_MODEL_2e4ed268fa12459c9d390df0bf8373c4",
            "_dom_classes": [],
            "description": "",
            "_model_name": "FloatProgressModel",
            "bar_style": "",
            "max": 1,
            "_view_module": "@jupyter-widgets/controls",
            "_model_module_version": "1.5.0",
            "value": 1,
            "_view_count": null,
            "_view_module_version": "1.5.0",
            "orientation": "horizontal",
            "min": 0,
            "description_tooltip": null,
            "_model_module": "@jupyter-widgets/controls",
            "layout": "IPY_MODEL_54be43d92cfb4604a98bc0e9c964243c"
          }
        },
        "eb0006797bb94788b5cfb16b8088448a": {
          "model_module": "@jupyter-widgets/controls",
          "model_name": "DescriptionStyleModel",
          "state": {
            "_view_name": "StyleView",
            "_model_name": "DescriptionStyleModel",
            "description_width": "",
            "_view_module": "@jupyter-widgets/base",
            "_model_module_version": "1.5.0",
            "_view_count": null,
            "_view_module_version": "1.2.0",
            "_model_module": "@jupyter-widgets/controls"
          }
        },
        "d7f7473e6b1b4a389a1962c9367b65f3": {
          "model_module": "@jupyter-widgets/base",
          "model_name": "LayoutModel",
          "state": {
            "_view_name": "LayoutView",
            "grid_template_rows": null,
            "right": null,
            "justify_content": null,
            "_view_module": "@jupyter-widgets/base",
            "overflow": null,
            "_model_module_version": "1.2.0",
            "_view_count": null,
            "flex_flow": null,
            "width": null,
            "min_width": null,
            "border": null,
            "align_items": null,
            "bottom": null,
            "_model_module": "@jupyter-widgets/base",
            "top": null,
            "grid_column": null,
            "overflow_y": null,
            "overflow_x": null,
            "grid_auto_flow": null,
            "grid_area": null,
            "grid_template_columns": null,
            "flex": null,
            "_model_name": "LayoutModel",
            "justify_items": null,
            "grid_row": null,
            "max_height": null,
            "align_content": null,
            "visibility": null,
            "align_self": null,
            "height": null,
            "min_height": null,
            "padding": null,
            "grid_auto_rows": null,
            "grid_gap": null,
            "max_width": null,
            "order": null,
            "_view_module_version": "1.2.0",
            "grid_template_areas": null,
            "object_position": null,
            "object_fit": null,
            "grid_auto_columns": null,
            "margin": null,
            "display": null,
            "left": null
          }
        },
        "2e4ed268fa12459c9d390df0bf8373c4": {
          "model_module": "@jupyter-widgets/controls",
          "model_name": "ProgressStyleModel",
          "state": {
            "_view_name": "StyleView",
            "_model_name": "ProgressStyleModel",
            "description_width": "",
            "_view_module": "@jupyter-widgets/base",
            "_model_module_version": "1.5.0",
            "_view_count": null,
            "_view_module_version": "1.2.0",
            "bar_color": null,
            "_model_module": "@jupyter-widgets/controls"
          }
        },
        "54be43d92cfb4604a98bc0e9c964243c": {
          "model_module": "@jupyter-widgets/base",
          "model_name": "LayoutModel",
          "state": {
            "_view_name": "LayoutView",
            "grid_template_rows": null,
            "right": null,
            "justify_content": null,
            "_view_module": "@jupyter-widgets/base",
            "overflow": null,
            "_model_module_version": "1.2.0",
            "_view_count": null,
            "flex_flow": null,
            "width": null,
            "min_width": null,
            "border": null,
            "align_items": null,
            "bottom": null,
            "_model_module": "@jupyter-widgets/base",
            "top": null,
            "grid_column": null,
            "overflow_y": null,
            "overflow_x": null,
            "grid_auto_flow": null,
            "grid_area": null,
            "grid_template_columns": null,
            "flex": null,
            "_model_name": "LayoutModel",
            "justify_items": null,
            "grid_row": null,
            "max_height": null,
            "align_content": null,
            "visibility": null,
            "align_self": null,
            "height": null,
            "min_height": null,
            "padding": null,
            "grid_auto_rows": null,
            "grid_gap": null,
            "max_width": null,
            "order": null,
            "_view_module_version": "1.2.0",
            "grid_template_areas": null,
            "object_position": null,
            "object_fit": null,
            "grid_auto_columns": null,
            "margin": null,
            "display": null,
            "left": null
          }
        },
        "ca1c8a83ae52423c8d525692a6abe568": {
          "model_module": "@jupyter-widgets/controls",
          "model_name": "VBoxModel",
          "state": {
            "_view_name": "VBoxView",
            "_dom_classes": [],
            "_model_name": "VBoxModel",
            "_view_module": "@jupyter-widgets/controls",
            "_model_module_version": "1.5.0",
            "_view_count": null,
            "_view_module_version": "1.5.0",
            "box_style": "",
            "layout": "IPY_MODEL_452c33490a70499ca272f0acfa4ed607",
            "_model_module": "@jupyter-widgets/controls",
            "children": [
              "IPY_MODEL_dcb3527d15ba435b9972695cb3e78a0a",
              "IPY_MODEL_d8dd5412dc204e498281434e914c39ff"
            ]
          }
        },
        "452c33490a70499ca272f0acfa4ed607": {
          "model_module": "@jupyter-widgets/base",
          "model_name": "LayoutModel",
          "state": {
            "_view_name": "LayoutView",
            "grid_template_rows": null,
            "right": null,
            "justify_content": null,
            "_view_module": "@jupyter-widgets/base",
            "overflow": null,
            "_model_module_version": "1.2.0",
            "_view_count": null,
            "flex_flow": null,
            "width": null,
            "min_width": null,
            "border": null,
            "align_items": null,
            "bottom": null,
            "_model_module": "@jupyter-widgets/base",
            "top": null,
            "grid_column": null,
            "overflow_y": null,
            "overflow_x": null,
            "grid_auto_flow": null,
            "grid_area": null,
            "grid_template_columns": null,
            "flex": null,
            "_model_name": "LayoutModel",
            "justify_items": null,
            "grid_row": null,
            "max_height": null,
            "align_content": null,
            "visibility": null,
            "align_self": null,
            "height": null,
            "min_height": null,
            "padding": null,
            "grid_auto_rows": null,
            "grid_gap": null,
            "max_width": null,
            "order": null,
            "_view_module_version": "1.2.0",
            "grid_template_areas": null,
            "object_position": null,
            "object_fit": null,
            "grid_auto_columns": null,
            "margin": null,
            "display": null,
            "left": null
          }
        },
        "dcb3527d15ba435b9972695cb3e78a0a": {
          "model_module": "@jupyter-widgets/controls",
          "model_name": "LabelModel",
          "state": {
            "_view_name": "LabelView",
            "style": "IPY_MODEL_97a5b5a4bc8d48bfa074d60224eef87f",
            "_dom_classes": [],
            "description": "",
            "_model_name": "LabelModel",
            "placeholder": "​",
            "_view_module": "@jupyter-widgets/controls",
            "_model_module_version": "1.5.0",
            "value": " 3.06MB of 3.06MB uploaded (0.00MB deduped)\r",
            "_view_count": null,
            "_view_module_version": "1.5.0",
            "description_tooltip": null,
            "_model_module": "@jupyter-widgets/controls",
            "layout": "IPY_MODEL_cd038b7a5c4445bc92ac4b45c61d62b2"
          }
        },
        "d8dd5412dc204e498281434e914c39ff": {
          "model_module": "@jupyter-widgets/controls",
          "model_name": "FloatProgressModel",
          "state": {
            "_view_name": "ProgressView",
            "style": "IPY_MODEL_ff99a72c87e14812aa04d60c4762f53d",
            "_dom_classes": [],
            "description": "",
            "_model_name": "FloatProgressModel",
            "bar_style": "",
            "max": 1,
            "_view_module": "@jupyter-widgets/controls",
            "_model_module_version": "1.5.0",
            "value": 1,
            "_view_count": null,
            "_view_module_version": "1.5.0",
            "orientation": "horizontal",
            "min": 0,
            "description_tooltip": null,
            "_model_module": "@jupyter-widgets/controls",
            "layout": "IPY_MODEL_1f9f26805ccf4c679f4d97d28a2d9dbe"
          }
        },
        "97a5b5a4bc8d48bfa074d60224eef87f": {
          "model_module": "@jupyter-widgets/controls",
          "model_name": "DescriptionStyleModel",
          "state": {
            "_view_name": "StyleView",
            "_model_name": "DescriptionStyleModel",
            "description_width": "",
            "_view_module": "@jupyter-widgets/base",
            "_model_module_version": "1.5.0",
            "_view_count": null,
            "_view_module_version": "1.2.0",
            "_model_module": "@jupyter-widgets/controls"
          }
        },
        "cd038b7a5c4445bc92ac4b45c61d62b2": {
          "model_module": "@jupyter-widgets/base",
          "model_name": "LayoutModel",
          "state": {
            "_view_name": "LayoutView",
            "grid_template_rows": null,
            "right": null,
            "justify_content": null,
            "_view_module": "@jupyter-widgets/base",
            "overflow": null,
            "_model_module_version": "1.2.0",
            "_view_count": null,
            "flex_flow": null,
            "width": null,
            "min_width": null,
            "border": null,
            "align_items": null,
            "bottom": null,
            "_model_module": "@jupyter-widgets/base",
            "top": null,
            "grid_column": null,
            "overflow_y": null,
            "overflow_x": null,
            "grid_auto_flow": null,
            "grid_area": null,
            "grid_template_columns": null,
            "flex": null,
            "_model_name": "LayoutModel",
            "justify_items": null,
            "grid_row": null,
            "max_height": null,
            "align_content": null,
            "visibility": null,
            "align_self": null,
            "height": null,
            "min_height": null,
            "padding": null,
            "grid_auto_rows": null,
            "grid_gap": null,
            "max_width": null,
            "order": null,
            "_view_module_version": "1.2.0",
            "grid_template_areas": null,
            "object_position": null,
            "object_fit": null,
            "grid_auto_columns": null,
            "margin": null,
            "display": null,
            "left": null
          }
        },
        "ff99a72c87e14812aa04d60c4762f53d": {
          "model_module": "@jupyter-widgets/controls",
          "model_name": "ProgressStyleModel",
          "state": {
            "_view_name": "StyleView",
            "_model_name": "ProgressStyleModel",
            "description_width": "",
            "_view_module": "@jupyter-widgets/base",
            "_model_module_version": "1.5.0",
            "_view_count": null,
            "_view_module_version": "1.2.0",
            "bar_color": null,
            "_model_module": "@jupyter-widgets/controls"
          }
        },
        "1f9f26805ccf4c679f4d97d28a2d9dbe": {
          "model_module": "@jupyter-widgets/base",
          "model_name": "LayoutModel",
          "state": {
            "_view_name": "LayoutView",
            "grid_template_rows": null,
            "right": null,
            "justify_content": null,
            "_view_module": "@jupyter-widgets/base",
            "overflow": null,
            "_model_module_version": "1.2.0",
            "_view_count": null,
            "flex_flow": null,
            "width": null,
            "min_width": null,
            "border": null,
            "align_items": null,
            "bottom": null,
            "_model_module": "@jupyter-widgets/base",
            "top": null,
            "grid_column": null,
            "overflow_y": null,
            "overflow_x": null,
            "grid_auto_flow": null,
            "grid_area": null,
            "grid_template_columns": null,
            "flex": null,
            "_model_name": "LayoutModel",
            "justify_items": null,
            "grid_row": null,
            "max_height": null,
            "align_content": null,
            "visibility": null,
            "align_self": null,
            "height": null,
            "min_height": null,
            "padding": null,
            "grid_auto_rows": null,
            "grid_gap": null,
            "max_width": null,
            "order": null,
            "_view_module_version": "1.2.0",
            "grid_template_areas": null,
            "object_position": null,
            "object_fit": null,
            "grid_auto_columns": null,
            "margin": null,
            "display": null,
            "left": null
          }
        },
        "d0aaf2413c2549a7826c6dd0e9262b31": {
          "model_module": "@jupyter-widgets/controls",
          "model_name": "VBoxModel",
          "state": {
            "_view_name": "VBoxView",
            "_dom_classes": [],
            "_model_name": "VBoxModel",
            "_view_module": "@jupyter-widgets/controls",
            "_model_module_version": "1.5.0",
            "_view_count": null,
            "_view_module_version": "1.5.0",
            "box_style": "",
            "layout": "IPY_MODEL_ce2083a0d5ba4820869d91bfb56e8b2e",
            "_model_module": "@jupyter-widgets/controls",
            "children": [
              "IPY_MODEL_9dab69f33d5c4a4b91589a9e3b110e54",
              "IPY_MODEL_7ece92e25efb4b40b51e809bc49d1b01"
            ]
          }
        },
        "ce2083a0d5ba4820869d91bfb56e8b2e": {
          "model_module": "@jupyter-widgets/base",
          "model_name": "LayoutModel",
          "state": {
            "_view_name": "LayoutView",
            "grid_template_rows": null,
            "right": null,
            "justify_content": null,
            "_view_module": "@jupyter-widgets/base",
            "overflow": null,
            "_model_module_version": "1.2.0",
            "_view_count": null,
            "flex_flow": null,
            "width": null,
            "min_width": null,
            "border": null,
            "align_items": null,
            "bottom": null,
            "_model_module": "@jupyter-widgets/base",
            "top": null,
            "grid_column": null,
            "overflow_y": null,
            "overflow_x": null,
            "grid_auto_flow": null,
            "grid_area": null,
            "grid_template_columns": null,
            "flex": null,
            "_model_name": "LayoutModel",
            "justify_items": null,
            "grid_row": null,
            "max_height": null,
            "align_content": null,
            "visibility": null,
            "align_self": null,
            "height": null,
            "min_height": null,
            "padding": null,
            "grid_auto_rows": null,
            "grid_gap": null,
            "max_width": null,
            "order": null,
            "_view_module_version": "1.2.0",
            "grid_template_areas": null,
            "object_position": null,
            "object_fit": null,
            "grid_auto_columns": null,
            "margin": null,
            "display": null,
            "left": null
          }
        },
        "9dab69f33d5c4a4b91589a9e3b110e54": {
          "model_module": "@jupyter-widgets/controls",
          "model_name": "LabelModel",
          "state": {
            "_view_name": "LabelView",
            "style": "IPY_MODEL_e54e04aecfd8429b86280fb70933f7dd",
            "_dom_classes": [],
            "description": "",
            "_model_name": "LabelModel",
            "placeholder": "​",
            "_view_module": "@jupyter-widgets/controls",
            "_model_module_version": "1.5.0",
            "value": " 13.90MB of 13.90MB uploaded (0.00MB deduped)\r",
            "_view_count": null,
            "_view_module_version": "1.5.0",
            "description_tooltip": null,
            "_model_module": "@jupyter-widgets/controls",
            "layout": "IPY_MODEL_496b78d5463c41489259d89d0075828e"
          }
        },
        "7ece92e25efb4b40b51e809bc49d1b01": {
          "model_module": "@jupyter-widgets/controls",
          "model_name": "FloatProgressModel",
          "state": {
            "_view_name": "ProgressView",
            "style": "IPY_MODEL_fed6074f69674e9e8dd088fcebeab604",
            "_dom_classes": [],
            "description": "",
            "_model_name": "FloatProgressModel",
            "bar_style": "",
            "max": 1,
            "_view_module": "@jupyter-widgets/controls",
            "_model_module_version": "1.5.0",
            "value": 1,
            "_view_count": null,
            "_view_module_version": "1.5.0",
            "orientation": "horizontal",
            "min": 0,
            "description_tooltip": null,
            "_model_module": "@jupyter-widgets/controls",
            "layout": "IPY_MODEL_27a1c3e17f4040038fb37e1749e3ec8a"
          }
        },
        "e54e04aecfd8429b86280fb70933f7dd": {
          "model_module": "@jupyter-widgets/controls",
          "model_name": "DescriptionStyleModel",
          "state": {
            "_view_name": "StyleView",
            "_model_name": "DescriptionStyleModel",
            "description_width": "",
            "_view_module": "@jupyter-widgets/base",
            "_model_module_version": "1.5.0",
            "_view_count": null,
            "_view_module_version": "1.2.0",
            "_model_module": "@jupyter-widgets/controls"
          }
        },
        "496b78d5463c41489259d89d0075828e": {
          "model_module": "@jupyter-widgets/base",
          "model_name": "LayoutModel",
          "state": {
            "_view_name": "LayoutView",
            "grid_template_rows": null,
            "right": null,
            "justify_content": null,
            "_view_module": "@jupyter-widgets/base",
            "overflow": null,
            "_model_module_version": "1.2.0",
            "_view_count": null,
            "flex_flow": null,
            "width": null,
            "min_width": null,
            "border": null,
            "align_items": null,
            "bottom": null,
            "_model_module": "@jupyter-widgets/base",
            "top": null,
            "grid_column": null,
            "overflow_y": null,
            "overflow_x": null,
            "grid_auto_flow": null,
            "grid_area": null,
            "grid_template_columns": null,
            "flex": null,
            "_model_name": "LayoutModel",
            "justify_items": null,
            "grid_row": null,
            "max_height": null,
            "align_content": null,
            "visibility": null,
            "align_self": null,
            "height": null,
            "min_height": null,
            "padding": null,
            "grid_auto_rows": null,
            "grid_gap": null,
            "max_width": null,
            "order": null,
            "_view_module_version": "1.2.0",
            "grid_template_areas": null,
            "object_position": null,
            "object_fit": null,
            "grid_auto_columns": null,
            "margin": null,
            "display": null,
            "left": null
          }
        },
        "fed6074f69674e9e8dd088fcebeab604": {
          "model_module": "@jupyter-widgets/controls",
          "model_name": "ProgressStyleModel",
          "state": {
            "_view_name": "StyleView",
            "_model_name": "ProgressStyleModel",
            "description_width": "",
            "_view_module": "@jupyter-widgets/base",
            "_model_module_version": "1.5.0",
            "_view_count": null,
            "_view_module_version": "1.2.0",
            "bar_color": null,
            "_model_module": "@jupyter-widgets/controls"
          }
        },
        "27a1c3e17f4040038fb37e1749e3ec8a": {
          "model_module": "@jupyter-widgets/base",
          "model_name": "LayoutModel",
          "state": {
            "_view_name": "LayoutView",
            "grid_template_rows": null,
            "right": null,
            "justify_content": null,
            "_view_module": "@jupyter-widgets/base",
            "overflow": null,
            "_model_module_version": "1.2.0",
            "_view_count": null,
            "flex_flow": null,
            "width": null,
            "min_width": null,
            "border": null,
            "align_items": null,
            "bottom": null,
            "_model_module": "@jupyter-widgets/base",
            "top": null,
            "grid_column": null,
            "overflow_y": null,
            "overflow_x": null,
            "grid_auto_flow": null,
            "grid_area": null,
            "grid_template_columns": null,
            "flex": null,
            "_model_name": "LayoutModel",
            "justify_items": null,
            "grid_row": null,
            "max_height": null,
            "align_content": null,
            "visibility": null,
            "align_self": null,
            "height": null,
            "min_height": null,
            "padding": null,
            "grid_auto_rows": null,
            "grid_gap": null,
            "max_width": null,
            "order": null,
            "_view_module_version": "1.2.0",
            "grid_template_areas": null,
            "object_position": null,
            "object_fit": null,
            "grid_auto_columns": null,
            "margin": null,
            "display": null,
            "left": null
          }
        },
        "8c8e294d7a164c639e5720d6a65884c1": {
          "model_module": "@jupyter-widgets/controls",
          "model_name": "VBoxModel",
          "state": {
            "_view_name": "VBoxView",
            "_dom_classes": [],
            "_model_name": "VBoxModel",
            "_view_module": "@jupyter-widgets/controls",
            "_model_module_version": "1.5.0",
            "_view_count": null,
            "_view_module_version": "1.5.0",
            "box_style": "",
            "layout": "IPY_MODEL_22dcf6b76c2446899d2a5412311e5bb7",
            "_model_module": "@jupyter-widgets/controls",
            "children": [
              "IPY_MODEL_7c43a21fd43e42dab4a4c2a68989ebaf",
              "IPY_MODEL_192e72102f164cda88bd0aea7df9c9de"
            ]
          }
        },
        "22dcf6b76c2446899d2a5412311e5bb7": {
          "model_module": "@jupyter-widgets/base",
          "model_name": "LayoutModel",
          "state": {
            "_view_name": "LayoutView",
            "grid_template_rows": null,
            "right": null,
            "justify_content": null,
            "_view_module": "@jupyter-widgets/base",
            "overflow": null,
            "_model_module_version": "1.2.0",
            "_view_count": null,
            "flex_flow": null,
            "width": null,
            "min_width": null,
            "border": null,
            "align_items": null,
            "bottom": null,
            "_model_module": "@jupyter-widgets/base",
            "top": null,
            "grid_column": null,
            "overflow_y": null,
            "overflow_x": null,
            "grid_auto_flow": null,
            "grid_area": null,
            "grid_template_columns": null,
            "flex": null,
            "_model_name": "LayoutModel",
            "justify_items": null,
            "grid_row": null,
            "max_height": null,
            "align_content": null,
            "visibility": null,
            "align_self": null,
            "height": null,
            "min_height": null,
            "padding": null,
            "grid_auto_rows": null,
            "grid_gap": null,
            "max_width": null,
            "order": null,
            "_view_module_version": "1.2.0",
            "grid_template_areas": null,
            "object_position": null,
            "object_fit": null,
            "grid_auto_columns": null,
            "margin": null,
            "display": null,
            "left": null
          }
        },
        "7c43a21fd43e42dab4a4c2a68989ebaf": {
          "model_module": "@jupyter-widgets/controls",
          "model_name": "LabelModel",
          "state": {
            "_view_name": "LabelView",
            "style": "IPY_MODEL_4959d93fcc19418d851f31c246325576",
            "_dom_classes": [],
            "description": "",
            "_model_name": "LabelModel",
            "placeholder": "​",
            "_view_module": "@jupyter-widgets/controls",
            "_model_module_version": "1.5.0",
            "value": " 10.54MB of 10.54MB uploaded (0.00MB deduped)\r",
            "_view_count": null,
            "_view_module_version": "1.5.0",
            "description_tooltip": null,
            "_model_module": "@jupyter-widgets/controls",
            "layout": "IPY_MODEL_de69dfa993174340bd935b27300b4568"
          }
        },
        "192e72102f164cda88bd0aea7df9c9de": {
          "model_module": "@jupyter-widgets/controls",
          "model_name": "FloatProgressModel",
          "state": {
            "_view_name": "ProgressView",
            "style": "IPY_MODEL_403682d0a40147c6baee0cd6879bea29",
            "_dom_classes": [],
            "description": "",
            "_model_name": "FloatProgressModel",
            "bar_style": "",
            "max": 1,
            "_view_module": "@jupyter-widgets/controls",
            "_model_module_version": "1.5.0",
            "value": 1,
            "_view_count": null,
            "_view_module_version": "1.5.0",
            "orientation": "horizontal",
            "min": 0,
            "description_tooltip": null,
            "_model_module": "@jupyter-widgets/controls",
            "layout": "IPY_MODEL_ad611f64aa104b08b778b46c26cd21c5"
          }
        },
        "4959d93fcc19418d851f31c246325576": {
          "model_module": "@jupyter-widgets/controls",
          "model_name": "DescriptionStyleModel",
          "state": {
            "_view_name": "StyleView",
            "_model_name": "DescriptionStyleModel",
            "description_width": "",
            "_view_module": "@jupyter-widgets/base",
            "_model_module_version": "1.5.0",
            "_view_count": null,
            "_view_module_version": "1.2.0",
            "_model_module": "@jupyter-widgets/controls"
          }
        },
        "de69dfa993174340bd935b27300b4568": {
          "model_module": "@jupyter-widgets/base",
          "model_name": "LayoutModel",
          "state": {
            "_view_name": "LayoutView",
            "grid_template_rows": null,
            "right": null,
            "justify_content": null,
            "_view_module": "@jupyter-widgets/base",
            "overflow": null,
            "_model_module_version": "1.2.0",
            "_view_count": null,
            "flex_flow": null,
            "width": null,
            "min_width": null,
            "border": null,
            "align_items": null,
            "bottom": null,
            "_model_module": "@jupyter-widgets/base",
            "top": null,
            "grid_column": null,
            "overflow_y": null,
            "overflow_x": null,
            "grid_auto_flow": null,
            "grid_area": null,
            "grid_template_columns": null,
            "flex": null,
            "_model_name": "LayoutModel",
            "justify_items": null,
            "grid_row": null,
            "max_height": null,
            "align_content": null,
            "visibility": null,
            "align_self": null,
            "height": null,
            "min_height": null,
            "padding": null,
            "grid_auto_rows": null,
            "grid_gap": null,
            "max_width": null,
            "order": null,
            "_view_module_version": "1.2.0",
            "grid_template_areas": null,
            "object_position": null,
            "object_fit": null,
            "grid_auto_columns": null,
            "margin": null,
            "display": null,
            "left": null
          }
        },
        "403682d0a40147c6baee0cd6879bea29": {
          "model_module": "@jupyter-widgets/controls",
          "model_name": "ProgressStyleModel",
          "state": {
            "_view_name": "StyleView",
            "_model_name": "ProgressStyleModel",
            "description_width": "",
            "_view_module": "@jupyter-widgets/base",
            "_model_module_version": "1.5.0",
            "_view_count": null,
            "_view_module_version": "1.2.0",
            "bar_color": null,
            "_model_module": "@jupyter-widgets/controls"
          }
        },
        "ad611f64aa104b08b778b46c26cd21c5": {
          "model_module": "@jupyter-widgets/base",
          "model_name": "LayoutModel",
          "state": {
            "_view_name": "LayoutView",
            "grid_template_rows": null,
            "right": null,
            "justify_content": null,
            "_view_module": "@jupyter-widgets/base",
            "overflow": null,
            "_model_module_version": "1.2.0",
            "_view_count": null,
            "flex_flow": null,
            "width": null,
            "min_width": null,
            "border": null,
            "align_items": null,
            "bottom": null,
            "_model_module": "@jupyter-widgets/base",
            "top": null,
            "grid_column": null,
            "overflow_y": null,
            "overflow_x": null,
            "grid_auto_flow": null,
            "grid_area": null,
            "grid_template_columns": null,
            "flex": null,
            "_model_name": "LayoutModel",
            "justify_items": null,
            "grid_row": null,
            "max_height": null,
            "align_content": null,
            "visibility": null,
            "align_self": null,
            "height": null,
            "min_height": null,
            "padding": null,
            "grid_auto_rows": null,
            "grid_gap": null,
            "max_width": null,
            "order": null,
            "_view_module_version": "1.2.0",
            "grid_template_areas": null,
            "object_position": null,
            "object_fit": null,
            "grid_auto_columns": null,
            "margin": null,
            "display": null,
            "left": null
          }
        },
        "24039779c6954678acc457c0849643d7": {
          "model_module": "@jupyter-widgets/controls",
          "model_name": "VBoxModel",
          "state": {
            "_view_name": "VBoxView",
            "_dom_classes": [],
            "_model_name": "VBoxModel",
            "_view_module": "@jupyter-widgets/controls",
            "_model_module_version": "1.5.0",
            "_view_count": null,
            "_view_module_version": "1.5.0",
            "box_style": "",
            "layout": "IPY_MODEL_7196967ec8514fc6af549f24b16ddfd5",
            "_model_module": "@jupyter-widgets/controls",
            "children": [
              "IPY_MODEL_7603066cb0af4ebf803d8fdcd884b096",
              "IPY_MODEL_3ca13aa30b0d4b7c9e5a6814b8878caf"
            ]
          }
        },
        "7196967ec8514fc6af549f24b16ddfd5": {
          "model_module": "@jupyter-widgets/base",
          "model_name": "LayoutModel",
          "state": {
            "_view_name": "LayoutView",
            "grid_template_rows": null,
            "right": null,
            "justify_content": null,
            "_view_module": "@jupyter-widgets/base",
            "overflow": null,
            "_model_module_version": "1.2.0",
            "_view_count": null,
            "flex_flow": null,
            "width": null,
            "min_width": null,
            "border": null,
            "align_items": null,
            "bottom": null,
            "_model_module": "@jupyter-widgets/base",
            "top": null,
            "grid_column": null,
            "overflow_y": null,
            "overflow_x": null,
            "grid_auto_flow": null,
            "grid_area": null,
            "grid_template_columns": null,
            "flex": null,
            "_model_name": "LayoutModel",
            "justify_items": null,
            "grid_row": null,
            "max_height": null,
            "align_content": null,
            "visibility": null,
            "align_self": null,
            "height": null,
            "min_height": null,
            "padding": null,
            "grid_auto_rows": null,
            "grid_gap": null,
            "max_width": null,
            "order": null,
            "_view_module_version": "1.2.0",
            "grid_template_areas": null,
            "object_position": null,
            "object_fit": null,
            "grid_auto_columns": null,
            "margin": null,
            "display": null,
            "left": null
          }
        },
        "7603066cb0af4ebf803d8fdcd884b096": {
          "model_module": "@jupyter-widgets/controls",
          "model_name": "LabelModel",
          "state": {
            "_view_name": "LabelView",
            "style": "IPY_MODEL_37e722fd62df4f929c1bf15d7ff3b89f",
            "_dom_classes": [],
            "description": "",
            "_model_name": "LabelModel",
            "placeholder": "​",
            "_view_module": "@jupyter-widgets/controls",
            "_model_module_version": "1.5.0",
            "value": " 7.51MB of 7.51MB uploaded (0.00MB deduped)\r",
            "_view_count": null,
            "_view_module_version": "1.5.0",
            "description_tooltip": null,
            "_model_module": "@jupyter-widgets/controls",
            "layout": "IPY_MODEL_a83fd9e409da4d83b445b8f8b07ae8b1"
          }
        },
        "3ca13aa30b0d4b7c9e5a6814b8878caf": {
          "model_module": "@jupyter-widgets/controls",
          "model_name": "FloatProgressModel",
          "state": {
            "_view_name": "ProgressView",
            "style": "IPY_MODEL_ac6aef3d5a034c32942c15fa692432a5",
            "_dom_classes": [],
            "description": "",
            "_model_name": "FloatProgressModel",
            "bar_style": "",
            "max": 1,
            "_view_module": "@jupyter-widgets/controls",
            "_model_module_version": "1.5.0",
            "value": 1,
            "_view_count": null,
            "_view_module_version": "1.5.0",
            "orientation": "horizontal",
            "min": 0,
            "description_tooltip": null,
            "_model_module": "@jupyter-widgets/controls",
            "layout": "IPY_MODEL_9d202e86e1d949fc94a5df02269d70c7"
          }
        },
        "37e722fd62df4f929c1bf15d7ff3b89f": {
          "model_module": "@jupyter-widgets/controls",
          "model_name": "DescriptionStyleModel",
          "state": {
            "_view_name": "StyleView",
            "_model_name": "DescriptionStyleModel",
            "description_width": "",
            "_view_module": "@jupyter-widgets/base",
            "_model_module_version": "1.5.0",
            "_view_count": null,
            "_view_module_version": "1.2.0",
            "_model_module": "@jupyter-widgets/controls"
          }
        },
        "a83fd9e409da4d83b445b8f8b07ae8b1": {
          "model_module": "@jupyter-widgets/base",
          "model_name": "LayoutModel",
          "state": {
            "_view_name": "LayoutView",
            "grid_template_rows": null,
            "right": null,
            "justify_content": null,
            "_view_module": "@jupyter-widgets/base",
            "overflow": null,
            "_model_module_version": "1.2.0",
            "_view_count": null,
            "flex_flow": null,
            "width": null,
            "min_width": null,
            "border": null,
            "align_items": null,
            "bottom": null,
            "_model_module": "@jupyter-widgets/base",
            "top": null,
            "grid_column": null,
            "overflow_y": null,
            "overflow_x": null,
            "grid_auto_flow": null,
            "grid_area": null,
            "grid_template_columns": null,
            "flex": null,
            "_model_name": "LayoutModel",
            "justify_items": null,
            "grid_row": null,
            "max_height": null,
            "align_content": null,
            "visibility": null,
            "align_self": null,
            "height": null,
            "min_height": null,
            "padding": null,
            "grid_auto_rows": null,
            "grid_gap": null,
            "max_width": null,
            "order": null,
            "_view_module_version": "1.2.0",
            "grid_template_areas": null,
            "object_position": null,
            "object_fit": null,
            "grid_auto_columns": null,
            "margin": null,
            "display": null,
            "left": null
          }
        },
        "ac6aef3d5a034c32942c15fa692432a5": {
          "model_module": "@jupyter-widgets/controls",
          "model_name": "ProgressStyleModel",
          "state": {
            "_view_name": "StyleView",
            "_model_name": "ProgressStyleModel",
            "description_width": "",
            "_view_module": "@jupyter-widgets/base",
            "_model_module_version": "1.5.0",
            "_view_count": null,
            "_view_module_version": "1.2.0",
            "bar_color": null,
            "_model_module": "@jupyter-widgets/controls"
          }
        },
        "9d202e86e1d949fc94a5df02269d70c7": {
          "model_module": "@jupyter-widgets/base",
          "model_name": "LayoutModel",
          "state": {
            "_view_name": "LayoutView",
            "grid_template_rows": null,
            "right": null,
            "justify_content": null,
            "_view_module": "@jupyter-widgets/base",
            "overflow": null,
            "_model_module_version": "1.2.0",
            "_view_count": null,
            "flex_flow": null,
            "width": null,
            "min_width": null,
            "border": null,
            "align_items": null,
            "bottom": null,
            "_model_module": "@jupyter-widgets/base",
            "top": null,
            "grid_column": null,
            "overflow_y": null,
            "overflow_x": null,
            "grid_auto_flow": null,
            "grid_area": null,
            "grid_template_columns": null,
            "flex": null,
            "_model_name": "LayoutModel",
            "justify_items": null,
            "grid_row": null,
            "max_height": null,
            "align_content": null,
            "visibility": null,
            "align_self": null,
            "height": null,
            "min_height": null,
            "padding": null,
            "grid_auto_rows": null,
            "grid_gap": null,
            "max_width": null,
            "order": null,
            "_view_module_version": "1.2.0",
            "grid_template_areas": null,
            "object_position": null,
            "object_fit": null,
            "grid_auto_columns": null,
            "margin": null,
            "display": null,
            "left": null
          }
        },
        "734d8c69067f4469af8e417ff3aca686": {
          "model_module": "@jupyter-widgets/controls",
          "model_name": "VBoxModel",
          "state": {
            "_view_name": "VBoxView",
            "_dom_classes": [],
            "_model_name": "VBoxModel",
            "_view_module": "@jupyter-widgets/controls",
            "_model_module_version": "1.5.0",
            "_view_count": null,
            "_view_module_version": "1.5.0",
            "box_style": "",
            "layout": "IPY_MODEL_8a9faecf184b4e83b8270190a418f319",
            "_model_module": "@jupyter-widgets/controls",
            "children": [
              "IPY_MODEL_d2d1311fea5b481fbb0d6f04395118ee",
              "IPY_MODEL_fb7e9bf2f6ea46bb9d67f55a702ed6f3"
            ]
          }
        },
        "8a9faecf184b4e83b8270190a418f319": {
          "model_module": "@jupyter-widgets/base",
          "model_name": "LayoutModel",
          "state": {
            "_view_name": "LayoutView",
            "grid_template_rows": null,
            "right": null,
            "justify_content": null,
            "_view_module": "@jupyter-widgets/base",
            "overflow": null,
            "_model_module_version": "1.2.0",
            "_view_count": null,
            "flex_flow": null,
            "width": null,
            "min_width": null,
            "border": null,
            "align_items": null,
            "bottom": null,
            "_model_module": "@jupyter-widgets/base",
            "top": null,
            "grid_column": null,
            "overflow_y": null,
            "overflow_x": null,
            "grid_auto_flow": null,
            "grid_area": null,
            "grid_template_columns": null,
            "flex": null,
            "_model_name": "LayoutModel",
            "justify_items": null,
            "grid_row": null,
            "max_height": null,
            "align_content": null,
            "visibility": null,
            "align_self": null,
            "height": null,
            "min_height": null,
            "padding": null,
            "grid_auto_rows": null,
            "grid_gap": null,
            "max_width": null,
            "order": null,
            "_view_module_version": "1.2.0",
            "grid_template_areas": null,
            "object_position": null,
            "object_fit": null,
            "grid_auto_columns": null,
            "margin": null,
            "display": null,
            "left": null
          }
        },
        "d2d1311fea5b481fbb0d6f04395118ee": {
          "model_module": "@jupyter-widgets/controls",
          "model_name": "LabelModel",
          "state": {
            "_view_name": "LabelView",
            "style": "IPY_MODEL_bc982f80d824427a85ee6b6f6b72cba5",
            "_dom_classes": [],
            "description": "",
            "_model_name": "LabelModel",
            "placeholder": "​",
            "_view_module": "@jupyter-widgets/controls",
            "_model_module_version": "1.5.0",
            "value": " 4.56MB of 4.56MB uploaded (0.00MB deduped)\r",
            "_view_count": null,
            "_view_module_version": "1.5.0",
            "description_tooltip": null,
            "_model_module": "@jupyter-widgets/controls",
            "layout": "IPY_MODEL_3b93f2094f8e4a9c967a8c93d139b763"
          }
        },
        "fb7e9bf2f6ea46bb9d67f55a702ed6f3": {
          "model_module": "@jupyter-widgets/controls",
          "model_name": "FloatProgressModel",
          "state": {
            "_view_name": "ProgressView",
            "style": "IPY_MODEL_9ac2f17f45034ccf874841487177e6d0",
            "_dom_classes": [],
            "description": "",
            "_model_name": "FloatProgressModel",
            "bar_style": "",
            "max": 1,
            "_view_module": "@jupyter-widgets/controls",
            "_model_module_version": "1.5.0",
            "value": 1,
            "_view_count": null,
            "_view_module_version": "1.5.0",
            "orientation": "horizontal",
            "min": 0,
            "description_tooltip": null,
            "_model_module": "@jupyter-widgets/controls",
            "layout": "IPY_MODEL_7f8a87a51f8e4a6bbbb8cf7a9a2eec77"
          }
        },
        "bc982f80d824427a85ee6b6f6b72cba5": {
          "model_module": "@jupyter-widgets/controls",
          "model_name": "DescriptionStyleModel",
          "state": {
            "_view_name": "StyleView",
            "_model_name": "DescriptionStyleModel",
            "description_width": "",
            "_view_module": "@jupyter-widgets/base",
            "_model_module_version": "1.5.0",
            "_view_count": null,
            "_view_module_version": "1.2.0",
            "_model_module": "@jupyter-widgets/controls"
          }
        },
        "3b93f2094f8e4a9c967a8c93d139b763": {
          "model_module": "@jupyter-widgets/base",
          "model_name": "LayoutModel",
          "state": {
            "_view_name": "LayoutView",
            "grid_template_rows": null,
            "right": null,
            "justify_content": null,
            "_view_module": "@jupyter-widgets/base",
            "overflow": null,
            "_model_module_version": "1.2.0",
            "_view_count": null,
            "flex_flow": null,
            "width": null,
            "min_width": null,
            "border": null,
            "align_items": null,
            "bottom": null,
            "_model_module": "@jupyter-widgets/base",
            "top": null,
            "grid_column": null,
            "overflow_y": null,
            "overflow_x": null,
            "grid_auto_flow": null,
            "grid_area": null,
            "grid_template_columns": null,
            "flex": null,
            "_model_name": "LayoutModel",
            "justify_items": null,
            "grid_row": null,
            "max_height": null,
            "align_content": null,
            "visibility": null,
            "align_self": null,
            "height": null,
            "min_height": null,
            "padding": null,
            "grid_auto_rows": null,
            "grid_gap": null,
            "max_width": null,
            "order": null,
            "_view_module_version": "1.2.0",
            "grid_template_areas": null,
            "object_position": null,
            "object_fit": null,
            "grid_auto_columns": null,
            "margin": null,
            "display": null,
            "left": null
          }
        },
        "9ac2f17f45034ccf874841487177e6d0": {
          "model_module": "@jupyter-widgets/controls",
          "model_name": "ProgressStyleModel",
          "state": {
            "_view_name": "StyleView",
            "_model_name": "ProgressStyleModel",
            "description_width": "",
            "_view_module": "@jupyter-widgets/base",
            "_model_module_version": "1.5.0",
            "_view_count": null,
            "_view_module_version": "1.2.0",
            "bar_color": null,
            "_model_module": "@jupyter-widgets/controls"
          }
        },
        "7f8a87a51f8e4a6bbbb8cf7a9a2eec77": {
          "model_module": "@jupyter-widgets/base",
          "model_name": "LayoutModel",
          "state": {
            "_view_name": "LayoutView",
            "grid_template_rows": null,
            "right": null,
            "justify_content": null,
            "_view_module": "@jupyter-widgets/base",
            "overflow": null,
            "_model_module_version": "1.2.0",
            "_view_count": null,
            "flex_flow": null,
            "width": null,
            "min_width": null,
            "border": null,
            "align_items": null,
            "bottom": null,
            "_model_module": "@jupyter-widgets/base",
            "top": null,
            "grid_column": null,
            "overflow_y": null,
            "overflow_x": null,
            "grid_auto_flow": null,
            "grid_area": null,
            "grid_template_columns": null,
            "flex": null,
            "_model_name": "LayoutModel",
            "justify_items": null,
            "grid_row": null,
            "max_height": null,
            "align_content": null,
            "visibility": null,
            "align_self": null,
            "height": null,
            "min_height": null,
            "padding": null,
            "grid_auto_rows": null,
            "grid_gap": null,
            "max_width": null,
            "order": null,
            "_view_module_version": "1.2.0",
            "grid_template_areas": null,
            "object_position": null,
            "object_fit": null,
            "grid_auto_columns": null,
            "margin": null,
            "display": null,
            "left": null
          }
        },
        "84f28828cac443f9912176f822171384": {
          "model_module": "@jupyter-widgets/controls",
          "model_name": "VBoxModel",
          "state": {
            "_view_name": "VBoxView",
            "_dom_classes": [],
            "_model_name": "VBoxModel",
            "_view_module": "@jupyter-widgets/controls",
            "_model_module_version": "1.5.0",
            "_view_count": null,
            "_view_module_version": "1.5.0",
            "box_style": "",
            "layout": "IPY_MODEL_7229cfe19bbc4aa5aec4e863c5f975f5",
            "_model_module": "@jupyter-widgets/controls",
            "children": [
              "IPY_MODEL_52c52fd033f2412d98ea831008ecb970",
              "IPY_MODEL_06324b74b7b14caf822644366b65d0fe"
            ]
          }
        },
        "7229cfe19bbc4aa5aec4e863c5f975f5": {
          "model_module": "@jupyter-widgets/base",
          "model_name": "LayoutModel",
          "state": {
            "_view_name": "LayoutView",
            "grid_template_rows": null,
            "right": null,
            "justify_content": null,
            "_view_module": "@jupyter-widgets/base",
            "overflow": null,
            "_model_module_version": "1.2.0",
            "_view_count": null,
            "flex_flow": null,
            "width": null,
            "min_width": null,
            "border": null,
            "align_items": null,
            "bottom": null,
            "_model_module": "@jupyter-widgets/base",
            "top": null,
            "grid_column": null,
            "overflow_y": null,
            "overflow_x": null,
            "grid_auto_flow": null,
            "grid_area": null,
            "grid_template_columns": null,
            "flex": null,
            "_model_name": "LayoutModel",
            "justify_items": null,
            "grid_row": null,
            "max_height": null,
            "align_content": null,
            "visibility": null,
            "align_self": null,
            "height": null,
            "min_height": null,
            "padding": null,
            "grid_auto_rows": null,
            "grid_gap": null,
            "max_width": null,
            "order": null,
            "_view_module_version": "1.2.0",
            "grid_template_areas": null,
            "object_position": null,
            "object_fit": null,
            "grid_auto_columns": null,
            "margin": null,
            "display": null,
            "left": null
          }
        },
        "52c52fd033f2412d98ea831008ecb970": {
          "model_module": "@jupyter-widgets/controls",
          "model_name": "LabelModel",
          "state": {
            "_view_name": "LabelView",
            "style": "IPY_MODEL_10dc0d1a9bfd48dc9cab7ef4bc57cf8c",
            "_dom_classes": [],
            "description": "",
            "_model_name": "LabelModel",
            "placeholder": "​",
            "_view_module": "@jupyter-widgets/controls",
            "_model_module_version": "1.5.0",
            "value": " 10.54MB of 10.54MB uploaded (0.00MB deduped)\r",
            "_view_count": null,
            "_view_module_version": "1.5.0",
            "description_tooltip": null,
            "_model_module": "@jupyter-widgets/controls",
            "layout": "IPY_MODEL_9870c2d1d1ee41ce944dd9adabf9d46e"
          }
        },
        "06324b74b7b14caf822644366b65d0fe": {
          "model_module": "@jupyter-widgets/controls",
          "model_name": "FloatProgressModel",
          "state": {
            "_view_name": "ProgressView",
            "style": "IPY_MODEL_56eb94bf3f6941728aebc1a60b5af64b",
            "_dom_classes": [],
            "description": "",
            "_model_name": "FloatProgressModel",
            "bar_style": "",
            "max": 1,
            "_view_module": "@jupyter-widgets/controls",
            "_model_module_version": "1.5.0",
            "value": 1,
            "_view_count": null,
            "_view_module_version": "1.5.0",
            "orientation": "horizontal",
            "min": 0,
            "description_tooltip": null,
            "_model_module": "@jupyter-widgets/controls",
            "layout": "IPY_MODEL_f3a131423db94448aeff1e9b2a4b6e0b"
          }
        },
        "10dc0d1a9bfd48dc9cab7ef4bc57cf8c": {
          "model_module": "@jupyter-widgets/controls",
          "model_name": "DescriptionStyleModel",
          "state": {
            "_view_name": "StyleView",
            "_model_name": "DescriptionStyleModel",
            "description_width": "",
            "_view_module": "@jupyter-widgets/base",
            "_model_module_version": "1.5.0",
            "_view_count": null,
            "_view_module_version": "1.2.0",
            "_model_module": "@jupyter-widgets/controls"
          }
        },
        "9870c2d1d1ee41ce944dd9adabf9d46e": {
          "model_module": "@jupyter-widgets/base",
          "model_name": "LayoutModel",
          "state": {
            "_view_name": "LayoutView",
            "grid_template_rows": null,
            "right": null,
            "justify_content": null,
            "_view_module": "@jupyter-widgets/base",
            "overflow": null,
            "_model_module_version": "1.2.0",
            "_view_count": null,
            "flex_flow": null,
            "width": null,
            "min_width": null,
            "border": null,
            "align_items": null,
            "bottom": null,
            "_model_module": "@jupyter-widgets/base",
            "top": null,
            "grid_column": null,
            "overflow_y": null,
            "overflow_x": null,
            "grid_auto_flow": null,
            "grid_area": null,
            "grid_template_columns": null,
            "flex": null,
            "_model_name": "LayoutModel",
            "justify_items": null,
            "grid_row": null,
            "max_height": null,
            "align_content": null,
            "visibility": null,
            "align_self": null,
            "height": null,
            "min_height": null,
            "padding": null,
            "grid_auto_rows": null,
            "grid_gap": null,
            "max_width": null,
            "order": null,
            "_view_module_version": "1.2.0",
            "grid_template_areas": null,
            "object_position": null,
            "object_fit": null,
            "grid_auto_columns": null,
            "margin": null,
            "display": null,
            "left": null
          }
        },
        "56eb94bf3f6941728aebc1a60b5af64b": {
          "model_module": "@jupyter-widgets/controls",
          "model_name": "ProgressStyleModel",
          "state": {
            "_view_name": "StyleView",
            "_model_name": "ProgressStyleModel",
            "description_width": "",
            "_view_module": "@jupyter-widgets/base",
            "_model_module_version": "1.5.0",
            "_view_count": null,
            "_view_module_version": "1.2.0",
            "bar_color": null,
            "_model_module": "@jupyter-widgets/controls"
          }
        },
        "f3a131423db94448aeff1e9b2a4b6e0b": {
          "model_module": "@jupyter-widgets/base",
          "model_name": "LayoutModel",
          "state": {
            "_view_name": "LayoutView",
            "grid_template_rows": null,
            "right": null,
            "justify_content": null,
            "_view_module": "@jupyter-widgets/base",
            "overflow": null,
            "_model_module_version": "1.2.0",
            "_view_count": null,
            "flex_flow": null,
            "width": null,
            "min_width": null,
            "border": null,
            "align_items": null,
            "bottom": null,
            "_model_module": "@jupyter-widgets/base",
            "top": null,
            "grid_column": null,
            "overflow_y": null,
            "overflow_x": null,
            "grid_auto_flow": null,
            "grid_area": null,
            "grid_template_columns": null,
            "flex": null,
            "_model_name": "LayoutModel",
            "justify_items": null,
            "grid_row": null,
            "max_height": null,
            "align_content": null,
            "visibility": null,
            "align_self": null,
            "height": null,
            "min_height": null,
            "padding": null,
            "grid_auto_rows": null,
            "grid_gap": null,
            "max_width": null,
            "order": null,
            "_view_module_version": "1.2.0",
            "grid_template_areas": null,
            "object_position": null,
            "object_fit": null,
            "grid_auto_columns": null,
            "margin": null,
            "display": null,
            "left": null
          }
        },
        "f63aaae4dc214f0b9376e2125529019a": {
          "model_module": "@jupyter-widgets/controls",
          "model_name": "VBoxModel",
          "state": {
            "_view_name": "VBoxView",
            "_dom_classes": [],
            "_model_name": "VBoxModel",
            "_view_module": "@jupyter-widgets/controls",
            "_model_module_version": "1.5.0",
            "_view_count": null,
            "_view_module_version": "1.5.0",
            "box_style": "",
            "layout": "IPY_MODEL_78a76073d63a47a4bd5aaf974c7ac530",
            "_model_module": "@jupyter-widgets/controls",
            "children": [
              "IPY_MODEL_064c8e16316148e7b3623c3c1fd03797",
              "IPY_MODEL_7721be1bd8e847be96f4c7a4713636b4"
            ]
          }
        },
        "78a76073d63a47a4bd5aaf974c7ac530": {
          "model_module": "@jupyter-widgets/base",
          "model_name": "LayoutModel",
          "state": {
            "_view_name": "LayoutView",
            "grid_template_rows": null,
            "right": null,
            "justify_content": null,
            "_view_module": "@jupyter-widgets/base",
            "overflow": null,
            "_model_module_version": "1.2.0",
            "_view_count": null,
            "flex_flow": null,
            "width": null,
            "min_width": null,
            "border": null,
            "align_items": null,
            "bottom": null,
            "_model_module": "@jupyter-widgets/base",
            "top": null,
            "grid_column": null,
            "overflow_y": null,
            "overflow_x": null,
            "grid_auto_flow": null,
            "grid_area": null,
            "grid_template_columns": null,
            "flex": null,
            "_model_name": "LayoutModel",
            "justify_items": null,
            "grid_row": null,
            "max_height": null,
            "align_content": null,
            "visibility": null,
            "align_self": null,
            "height": null,
            "min_height": null,
            "padding": null,
            "grid_auto_rows": null,
            "grid_gap": null,
            "max_width": null,
            "order": null,
            "_view_module_version": "1.2.0",
            "grid_template_areas": null,
            "object_position": null,
            "object_fit": null,
            "grid_auto_columns": null,
            "margin": null,
            "display": null,
            "left": null
          }
        },
        "064c8e16316148e7b3623c3c1fd03797": {
          "model_module": "@jupyter-widgets/controls",
          "model_name": "LabelModel",
          "state": {
            "_view_name": "LabelView",
            "style": "IPY_MODEL_0e81e0a3b0d24653b8ff21ad25fe1e87",
            "_dom_classes": [],
            "description": "",
            "_model_name": "LabelModel",
            "placeholder": "​",
            "_view_module": "@jupyter-widgets/controls",
            "_model_module_version": "1.5.0",
            "value": " 15.77MB of 15.77MB uploaded (0.00MB deduped)\r",
            "_view_count": null,
            "_view_module_version": "1.5.0",
            "description_tooltip": null,
            "_model_module": "@jupyter-widgets/controls",
            "layout": "IPY_MODEL_e941e2839f474bf8b3c55ce8e71ee692"
          }
        },
        "7721be1bd8e847be96f4c7a4713636b4": {
          "model_module": "@jupyter-widgets/controls",
          "model_name": "FloatProgressModel",
          "state": {
            "_view_name": "ProgressView",
            "style": "IPY_MODEL_6e95e539a50c4b04991b1562b9164c8a",
            "_dom_classes": [],
            "description": "",
            "_model_name": "FloatProgressModel",
            "bar_style": "",
            "max": 1,
            "_view_module": "@jupyter-widgets/controls",
            "_model_module_version": "1.5.0",
            "value": 1,
            "_view_count": null,
            "_view_module_version": "1.5.0",
            "orientation": "horizontal",
            "min": 0,
            "description_tooltip": null,
            "_model_module": "@jupyter-widgets/controls",
            "layout": "IPY_MODEL_cf60321882ce4c9aa54073735baef5b9"
          }
        },
        "0e81e0a3b0d24653b8ff21ad25fe1e87": {
          "model_module": "@jupyter-widgets/controls",
          "model_name": "DescriptionStyleModel",
          "state": {
            "_view_name": "StyleView",
            "_model_name": "DescriptionStyleModel",
            "description_width": "",
            "_view_module": "@jupyter-widgets/base",
            "_model_module_version": "1.5.0",
            "_view_count": null,
            "_view_module_version": "1.2.0",
            "_model_module": "@jupyter-widgets/controls"
          }
        },
        "e941e2839f474bf8b3c55ce8e71ee692": {
          "model_module": "@jupyter-widgets/base",
          "model_name": "LayoutModel",
          "state": {
            "_view_name": "LayoutView",
            "grid_template_rows": null,
            "right": null,
            "justify_content": null,
            "_view_module": "@jupyter-widgets/base",
            "overflow": null,
            "_model_module_version": "1.2.0",
            "_view_count": null,
            "flex_flow": null,
            "width": null,
            "min_width": null,
            "border": null,
            "align_items": null,
            "bottom": null,
            "_model_module": "@jupyter-widgets/base",
            "top": null,
            "grid_column": null,
            "overflow_y": null,
            "overflow_x": null,
            "grid_auto_flow": null,
            "grid_area": null,
            "grid_template_columns": null,
            "flex": null,
            "_model_name": "LayoutModel",
            "justify_items": null,
            "grid_row": null,
            "max_height": null,
            "align_content": null,
            "visibility": null,
            "align_self": null,
            "height": null,
            "min_height": null,
            "padding": null,
            "grid_auto_rows": null,
            "grid_gap": null,
            "max_width": null,
            "order": null,
            "_view_module_version": "1.2.0",
            "grid_template_areas": null,
            "object_position": null,
            "object_fit": null,
            "grid_auto_columns": null,
            "margin": null,
            "display": null,
            "left": null
          }
        },
        "6e95e539a50c4b04991b1562b9164c8a": {
          "model_module": "@jupyter-widgets/controls",
          "model_name": "ProgressStyleModel",
          "state": {
            "_view_name": "StyleView",
            "_model_name": "ProgressStyleModel",
            "description_width": "",
            "_view_module": "@jupyter-widgets/base",
            "_model_module_version": "1.5.0",
            "_view_count": null,
            "_view_module_version": "1.2.0",
            "bar_color": null,
            "_model_module": "@jupyter-widgets/controls"
          }
        },
        "cf60321882ce4c9aa54073735baef5b9": {
          "model_module": "@jupyter-widgets/base",
          "model_name": "LayoutModel",
          "state": {
            "_view_name": "LayoutView",
            "grid_template_rows": null,
            "right": null,
            "justify_content": null,
            "_view_module": "@jupyter-widgets/base",
            "overflow": null,
            "_model_module_version": "1.2.0",
            "_view_count": null,
            "flex_flow": null,
            "width": null,
            "min_width": null,
            "border": null,
            "align_items": null,
            "bottom": null,
            "_model_module": "@jupyter-widgets/base",
            "top": null,
            "grid_column": null,
            "overflow_y": null,
            "overflow_x": null,
            "grid_auto_flow": null,
            "grid_area": null,
            "grid_template_columns": null,
            "flex": null,
            "_model_name": "LayoutModel",
            "justify_items": null,
            "grid_row": null,
            "max_height": null,
            "align_content": null,
            "visibility": null,
            "align_self": null,
            "height": null,
            "min_height": null,
            "padding": null,
            "grid_auto_rows": null,
            "grid_gap": null,
            "max_width": null,
            "order": null,
            "_view_module_version": "1.2.0",
            "grid_template_areas": null,
            "object_position": null,
            "object_fit": null,
            "grid_auto_columns": null,
            "margin": null,
            "display": null,
            "left": null
          }
        },
        "00f195099e9f4b129ccf6374abfe34c2": {
          "model_module": "@jupyter-widgets/controls",
          "model_name": "VBoxModel",
          "state": {
            "_view_name": "VBoxView",
            "_dom_classes": [],
            "_model_name": "VBoxModel",
            "_view_module": "@jupyter-widgets/controls",
            "_model_module_version": "1.5.0",
            "_view_count": null,
            "_view_module_version": "1.5.0",
            "box_style": "",
            "layout": "IPY_MODEL_9142e31c6b19412786900151b3a81cb3",
            "_model_module": "@jupyter-widgets/controls",
            "children": [
              "IPY_MODEL_7624c53f652e46d183d4c4139c28cfed",
              "IPY_MODEL_d5112777d53a4e5882e93b2c3a5cb6d8"
            ]
          }
        },
        "9142e31c6b19412786900151b3a81cb3": {
          "model_module": "@jupyter-widgets/base",
          "model_name": "LayoutModel",
          "state": {
            "_view_name": "LayoutView",
            "grid_template_rows": null,
            "right": null,
            "justify_content": null,
            "_view_module": "@jupyter-widgets/base",
            "overflow": null,
            "_model_module_version": "1.2.0",
            "_view_count": null,
            "flex_flow": null,
            "width": null,
            "min_width": null,
            "border": null,
            "align_items": null,
            "bottom": null,
            "_model_module": "@jupyter-widgets/base",
            "top": null,
            "grid_column": null,
            "overflow_y": null,
            "overflow_x": null,
            "grid_auto_flow": null,
            "grid_area": null,
            "grid_template_columns": null,
            "flex": null,
            "_model_name": "LayoutModel",
            "justify_items": null,
            "grid_row": null,
            "max_height": null,
            "align_content": null,
            "visibility": null,
            "align_self": null,
            "height": null,
            "min_height": null,
            "padding": null,
            "grid_auto_rows": null,
            "grid_gap": null,
            "max_width": null,
            "order": null,
            "_view_module_version": "1.2.0",
            "grid_template_areas": null,
            "object_position": null,
            "object_fit": null,
            "grid_auto_columns": null,
            "margin": null,
            "display": null,
            "left": null
          }
        },
        "7624c53f652e46d183d4c4139c28cfed": {
          "model_module": "@jupyter-widgets/controls",
          "model_name": "LabelModel",
          "state": {
            "_view_name": "LabelView",
            "style": "IPY_MODEL_53b54f52bd74442692c58d22b1d9c297",
            "_dom_classes": [],
            "description": "",
            "_model_name": "LabelModel",
            "placeholder": "​",
            "_view_module": "@jupyter-widgets/controls",
            "_model_module_version": "1.5.0",
            "value": " 15.77MB of 15.77MB uploaded (0.00MB deduped)\r",
            "_view_count": null,
            "_view_module_version": "1.5.0",
            "description_tooltip": null,
            "_model_module": "@jupyter-widgets/controls",
            "layout": "IPY_MODEL_c263a67a57d9411995153fdb0795baea"
          }
        },
        "d5112777d53a4e5882e93b2c3a5cb6d8": {
          "model_module": "@jupyter-widgets/controls",
          "model_name": "FloatProgressModel",
          "state": {
            "_view_name": "ProgressView",
            "style": "IPY_MODEL_81eee97c9c7049358a8ff329ae566b22",
            "_dom_classes": [],
            "description": "",
            "_model_name": "FloatProgressModel",
            "bar_style": "",
            "max": 1,
            "_view_module": "@jupyter-widgets/controls",
            "_model_module_version": "1.5.0",
            "value": 1,
            "_view_count": null,
            "_view_module_version": "1.5.0",
            "orientation": "horizontal",
            "min": 0,
            "description_tooltip": null,
            "_model_module": "@jupyter-widgets/controls",
            "layout": "IPY_MODEL_1e52c2c308a249b58b8c3f19cd37536d"
          }
        },
        "53b54f52bd74442692c58d22b1d9c297": {
          "model_module": "@jupyter-widgets/controls",
          "model_name": "DescriptionStyleModel",
          "state": {
            "_view_name": "StyleView",
            "_model_name": "DescriptionStyleModel",
            "description_width": "",
            "_view_module": "@jupyter-widgets/base",
            "_model_module_version": "1.5.0",
            "_view_count": null,
            "_view_module_version": "1.2.0",
            "_model_module": "@jupyter-widgets/controls"
          }
        },
        "c263a67a57d9411995153fdb0795baea": {
          "model_module": "@jupyter-widgets/base",
          "model_name": "LayoutModel",
          "state": {
            "_view_name": "LayoutView",
            "grid_template_rows": null,
            "right": null,
            "justify_content": null,
            "_view_module": "@jupyter-widgets/base",
            "overflow": null,
            "_model_module_version": "1.2.0",
            "_view_count": null,
            "flex_flow": null,
            "width": null,
            "min_width": null,
            "border": null,
            "align_items": null,
            "bottom": null,
            "_model_module": "@jupyter-widgets/base",
            "top": null,
            "grid_column": null,
            "overflow_y": null,
            "overflow_x": null,
            "grid_auto_flow": null,
            "grid_area": null,
            "grid_template_columns": null,
            "flex": null,
            "_model_name": "LayoutModel",
            "justify_items": null,
            "grid_row": null,
            "max_height": null,
            "align_content": null,
            "visibility": null,
            "align_self": null,
            "height": null,
            "min_height": null,
            "padding": null,
            "grid_auto_rows": null,
            "grid_gap": null,
            "max_width": null,
            "order": null,
            "_view_module_version": "1.2.0",
            "grid_template_areas": null,
            "object_position": null,
            "object_fit": null,
            "grid_auto_columns": null,
            "margin": null,
            "display": null,
            "left": null
          }
        },
        "81eee97c9c7049358a8ff329ae566b22": {
          "model_module": "@jupyter-widgets/controls",
          "model_name": "ProgressStyleModel",
          "state": {
            "_view_name": "StyleView",
            "_model_name": "ProgressStyleModel",
            "description_width": "",
            "_view_module": "@jupyter-widgets/base",
            "_model_module_version": "1.5.0",
            "_view_count": null,
            "_view_module_version": "1.2.0",
            "bar_color": null,
            "_model_module": "@jupyter-widgets/controls"
          }
        },
        "1e52c2c308a249b58b8c3f19cd37536d": {
          "model_module": "@jupyter-widgets/base",
          "model_name": "LayoutModel",
          "state": {
            "_view_name": "LayoutView",
            "grid_template_rows": null,
            "right": null,
            "justify_content": null,
            "_view_module": "@jupyter-widgets/base",
            "overflow": null,
            "_model_module_version": "1.2.0",
            "_view_count": null,
            "flex_flow": null,
            "width": null,
            "min_width": null,
            "border": null,
            "align_items": null,
            "bottom": null,
            "_model_module": "@jupyter-widgets/base",
            "top": null,
            "grid_column": null,
            "overflow_y": null,
            "overflow_x": null,
            "grid_auto_flow": null,
            "grid_area": null,
            "grid_template_columns": null,
            "flex": null,
            "_model_name": "LayoutModel",
            "justify_items": null,
            "grid_row": null,
            "max_height": null,
            "align_content": null,
            "visibility": null,
            "align_self": null,
            "height": null,
            "min_height": null,
            "padding": null,
            "grid_auto_rows": null,
            "grid_gap": null,
            "max_width": null,
            "order": null,
            "_view_module_version": "1.2.0",
            "grid_template_areas": null,
            "object_position": null,
            "object_fit": null,
            "grid_auto_columns": null,
            "margin": null,
            "display": null,
            "left": null
          }
        },
        "5af4678bbdc64c5bb00c7c3af0127c52": {
          "model_module": "@jupyter-widgets/controls",
          "model_name": "VBoxModel",
          "state": {
            "_view_name": "VBoxView",
            "_dom_classes": [],
            "_model_name": "VBoxModel",
            "_view_module": "@jupyter-widgets/controls",
            "_model_module_version": "1.5.0",
            "_view_count": null,
            "_view_module_version": "1.5.0",
            "box_style": "",
            "layout": "IPY_MODEL_bd4e3b65a3ef47a3a1c3a9074f6ce348",
            "_model_module": "@jupyter-widgets/controls",
            "children": [
              "IPY_MODEL_ffd05d3958f14a90a698d3b1d857af0f",
              "IPY_MODEL_e04cceb492224e0dac851729595f0d33"
            ]
          }
        },
        "bd4e3b65a3ef47a3a1c3a9074f6ce348": {
          "model_module": "@jupyter-widgets/base",
          "model_name": "LayoutModel",
          "state": {
            "_view_name": "LayoutView",
            "grid_template_rows": null,
            "right": null,
            "justify_content": null,
            "_view_module": "@jupyter-widgets/base",
            "overflow": null,
            "_model_module_version": "1.2.0",
            "_view_count": null,
            "flex_flow": null,
            "width": null,
            "min_width": null,
            "border": null,
            "align_items": null,
            "bottom": null,
            "_model_module": "@jupyter-widgets/base",
            "top": null,
            "grid_column": null,
            "overflow_y": null,
            "overflow_x": null,
            "grid_auto_flow": null,
            "grid_area": null,
            "grid_template_columns": null,
            "flex": null,
            "_model_name": "LayoutModel",
            "justify_items": null,
            "grid_row": null,
            "max_height": null,
            "align_content": null,
            "visibility": null,
            "align_self": null,
            "height": null,
            "min_height": null,
            "padding": null,
            "grid_auto_rows": null,
            "grid_gap": null,
            "max_width": null,
            "order": null,
            "_view_module_version": "1.2.0",
            "grid_template_areas": null,
            "object_position": null,
            "object_fit": null,
            "grid_auto_columns": null,
            "margin": null,
            "display": null,
            "left": null
          }
        },
        "ffd05d3958f14a90a698d3b1d857af0f": {
          "model_module": "@jupyter-widgets/controls",
          "model_name": "LabelModel",
          "state": {
            "_view_name": "LabelView",
            "style": "IPY_MODEL_b40cd39504f8458c8a0324ecfdda656d",
            "_dom_classes": [],
            "description": "",
            "_model_name": "LabelModel",
            "placeholder": "​",
            "_view_module": "@jupyter-widgets/controls",
            "_model_module_version": "1.5.0",
            "value": " 3.06MB of 3.06MB uploaded (0.00MB deduped)\r",
            "_view_count": null,
            "_view_module_version": "1.5.0",
            "description_tooltip": null,
            "_model_module": "@jupyter-widgets/controls",
            "layout": "IPY_MODEL_23366e96e2584ae88eea938f72fc4bf2"
          }
        },
        "e04cceb492224e0dac851729595f0d33": {
          "model_module": "@jupyter-widgets/controls",
          "model_name": "FloatProgressModel",
          "state": {
            "_view_name": "ProgressView",
            "style": "IPY_MODEL_5473ce6f72c54f379fd38034288c2528",
            "_dom_classes": [],
            "description": "",
            "_model_name": "FloatProgressModel",
            "bar_style": "",
            "max": 1,
            "_view_module": "@jupyter-widgets/controls",
            "_model_module_version": "1.5.0",
            "value": 1,
            "_view_count": null,
            "_view_module_version": "1.5.0",
            "orientation": "horizontal",
            "min": 0,
            "description_tooltip": null,
            "_model_module": "@jupyter-widgets/controls",
            "layout": "IPY_MODEL_e13210d20b9b474a95c58f4f7d682b1c"
          }
        },
        "b40cd39504f8458c8a0324ecfdda656d": {
          "model_module": "@jupyter-widgets/controls",
          "model_name": "DescriptionStyleModel",
          "state": {
            "_view_name": "StyleView",
            "_model_name": "DescriptionStyleModel",
            "description_width": "",
            "_view_module": "@jupyter-widgets/base",
            "_model_module_version": "1.5.0",
            "_view_count": null,
            "_view_module_version": "1.2.0",
            "_model_module": "@jupyter-widgets/controls"
          }
        },
        "23366e96e2584ae88eea938f72fc4bf2": {
          "model_module": "@jupyter-widgets/base",
          "model_name": "LayoutModel",
          "state": {
            "_view_name": "LayoutView",
            "grid_template_rows": null,
            "right": null,
            "justify_content": null,
            "_view_module": "@jupyter-widgets/base",
            "overflow": null,
            "_model_module_version": "1.2.0",
            "_view_count": null,
            "flex_flow": null,
            "width": null,
            "min_width": null,
            "border": null,
            "align_items": null,
            "bottom": null,
            "_model_module": "@jupyter-widgets/base",
            "top": null,
            "grid_column": null,
            "overflow_y": null,
            "overflow_x": null,
            "grid_auto_flow": null,
            "grid_area": null,
            "grid_template_columns": null,
            "flex": null,
            "_model_name": "LayoutModel",
            "justify_items": null,
            "grid_row": null,
            "max_height": null,
            "align_content": null,
            "visibility": null,
            "align_self": null,
            "height": null,
            "min_height": null,
            "padding": null,
            "grid_auto_rows": null,
            "grid_gap": null,
            "max_width": null,
            "order": null,
            "_view_module_version": "1.2.0",
            "grid_template_areas": null,
            "object_position": null,
            "object_fit": null,
            "grid_auto_columns": null,
            "margin": null,
            "display": null,
            "left": null
          }
        },
        "5473ce6f72c54f379fd38034288c2528": {
          "model_module": "@jupyter-widgets/controls",
          "model_name": "ProgressStyleModel",
          "state": {
            "_view_name": "StyleView",
            "_model_name": "ProgressStyleModel",
            "description_width": "",
            "_view_module": "@jupyter-widgets/base",
            "_model_module_version": "1.5.0",
            "_view_count": null,
            "_view_module_version": "1.2.0",
            "bar_color": null,
            "_model_module": "@jupyter-widgets/controls"
          }
        },
        "e13210d20b9b474a95c58f4f7d682b1c": {
          "model_module": "@jupyter-widgets/base",
          "model_name": "LayoutModel",
          "state": {
            "_view_name": "LayoutView",
            "grid_template_rows": null,
            "right": null,
            "justify_content": null,
            "_view_module": "@jupyter-widgets/base",
            "overflow": null,
            "_model_module_version": "1.2.0",
            "_view_count": null,
            "flex_flow": null,
            "width": null,
            "min_width": null,
            "border": null,
            "align_items": null,
            "bottom": null,
            "_model_module": "@jupyter-widgets/base",
            "top": null,
            "grid_column": null,
            "overflow_y": null,
            "overflow_x": null,
            "grid_auto_flow": null,
            "grid_area": null,
            "grid_template_columns": null,
            "flex": null,
            "_model_name": "LayoutModel",
            "justify_items": null,
            "grid_row": null,
            "max_height": null,
            "align_content": null,
            "visibility": null,
            "align_self": null,
            "height": null,
            "min_height": null,
            "padding": null,
            "grid_auto_rows": null,
            "grid_gap": null,
            "max_width": null,
            "order": null,
            "_view_module_version": "1.2.0",
            "grid_template_areas": null,
            "object_position": null,
            "object_fit": null,
            "grid_auto_columns": null,
            "margin": null,
            "display": null,
            "left": null
          }
        },
        "84bbf69f729c46a9885b422bb2fa6287": {
          "model_module": "@jupyter-widgets/controls",
          "model_name": "VBoxModel",
          "state": {
            "_view_name": "VBoxView",
            "_dom_classes": [],
            "_model_name": "VBoxModel",
            "_view_module": "@jupyter-widgets/controls",
            "_model_module_version": "1.5.0",
            "_view_count": null,
            "_view_module_version": "1.5.0",
            "box_style": "",
            "layout": "IPY_MODEL_65b1b254ed9e47b6838175d763d5cb7f",
            "_model_module": "@jupyter-widgets/controls",
            "children": [
              "IPY_MODEL_5bc3d0a724c9490eb73dec683a143a8c",
              "IPY_MODEL_480d2125b06a47fb8ed575e3cbf9147a"
            ]
          }
        },
        "65b1b254ed9e47b6838175d763d5cb7f": {
          "model_module": "@jupyter-widgets/base",
          "model_name": "LayoutModel",
          "state": {
            "_view_name": "LayoutView",
            "grid_template_rows": null,
            "right": null,
            "justify_content": null,
            "_view_module": "@jupyter-widgets/base",
            "overflow": null,
            "_model_module_version": "1.2.0",
            "_view_count": null,
            "flex_flow": null,
            "width": null,
            "min_width": null,
            "border": null,
            "align_items": null,
            "bottom": null,
            "_model_module": "@jupyter-widgets/base",
            "top": null,
            "grid_column": null,
            "overflow_y": null,
            "overflow_x": null,
            "grid_auto_flow": null,
            "grid_area": null,
            "grid_template_columns": null,
            "flex": null,
            "_model_name": "LayoutModel",
            "justify_items": null,
            "grid_row": null,
            "max_height": null,
            "align_content": null,
            "visibility": null,
            "align_self": null,
            "height": null,
            "min_height": null,
            "padding": null,
            "grid_auto_rows": null,
            "grid_gap": null,
            "max_width": null,
            "order": null,
            "_view_module_version": "1.2.0",
            "grid_template_areas": null,
            "object_position": null,
            "object_fit": null,
            "grid_auto_columns": null,
            "margin": null,
            "display": null,
            "left": null
          }
        },
        "5bc3d0a724c9490eb73dec683a143a8c": {
          "model_module": "@jupyter-widgets/controls",
          "model_name": "LabelModel",
          "state": {
            "_view_name": "LabelView",
            "style": "IPY_MODEL_5cc09622f2fd461cb28f526dea28bdcf",
            "_dom_classes": [],
            "description": "",
            "_model_name": "LabelModel",
            "placeholder": "​",
            "_view_module": "@jupyter-widgets/controls",
            "_model_module_version": "1.5.0",
            "value": " 5.57MB of 5.57MB uploaded (0.00MB deduped)\r",
            "_view_count": null,
            "_view_module_version": "1.5.0",
            "description_tooltip": null,
            "_model_module": "@jupyter-widgets/controls",
            "layout": "IPY_MODEL_b4f5434a69ee4d82a26027ae1dafb388"
          }
        },
        "480d2125b06a47fb8ed575e3cbf9147a": {
          "model_module": "@jupyter-widgets/controls",
          "model_name": "FloatProgressModel",
          "state": {
            "_view_name": "ProgressView",
            "style": "IPY_MODEL_c73e62f8508a472787d01008167a2e85",
            "_dom_classes": [],
            "description": "",
            "_model_name": "FloatProgressModel",
            "bar_style": "",
            "max": 1,
            "_view_module": "@jupyter-widgets/controls",
            "_model_module_version": "1.5.0",
            "value": 1,
            "_view_count": null,
            "_view_module_version": "1.5.0",
            "orientation": "horizontal",
            "min": 0,
            "description_tooltip": null,
            "_model_module": "@jupyter-widgets/controls",
            "layout": "IPY_MODEL_08b4b9a040c641a7b7b5087cda7d60c2"
          }
        },
        "5cc09622f2fd461cb28f526dea28bdcf": {
          "model_module": "@jupyter-widgets/controls",
          "model_name": "DescriptionStyleModel",
          "state": {
            "_view_name": "StyleView",
            "_model_name": "DescriptionStyleModel",
            "description_width": "",
            "_view_module": "@jupyter-widgets/base",
            "_model_module_version": "1.5.0",
            "_view_count": null,
            "_view_module_version": "1.2.0",
            "_model_module": "@jupyter-widgets/controls"
          }
        },
        "b4f5434a69ee4d82a26027ae1dafb388": {
          "model_module": "@jupyter-widgets/base",
          "model_name": "LayoutModel",
          "state": {
            "_view_name": "LayoutView",
            "grid_template_rows": null,
            "right": null,
            "justify_content": null,
            "_view_module": "@jupyter-widgets/base",
            "overflow": null,
            "_model_module_version": "1.2.0",
            "_view_count": null,
            "flex_flow": null,
            "width": null,
            "min_width": null,
            "border": null,
            "align_items": null,
            "bottom": null,
            "_model_module": "@jupyter-widgets/base",
            "top": null,
            "grid_column": null,
            "overflow_y": null,
            "overflow_x": null,
            "grid_auto_flow": null,
            "grid_area": null,
            "grid_template_columns": null,
            "flex": null,
            "_model_name": "LayoutModel",
            "justify_items": null,
            "grid_row": null,
            "max_height": null,
            "align_content": null,
            "visibility": null,
            "align_self": null,
            "height": null,
            "min_height": null,
            "padding": null,
            "grid_auto_rows": null,
            "grid_gap": null,
            "max_width": null,
            "order": null,
            "_view_module_version": "1.2.0",
            "grid_template_areas": null,
            "object_position": null,
            "object_fit": null,
            "grid_auto_columns": null,
            "margin": null,
            "display": null,
            "left": null
          }
        },
        "c73e62f8508a472787d01008167a2e85": {
          "model_module": "@jupyter-widgets/controls",
          "model_name": "ProgressStyleModel",
          "state": {
            "_view_name": "StyleView",
            "_model_name": "ProgressStyleModel",
            "description_width": "",
            "_view_module": "@jupyter-widgets/base",
            "_model_module_version": "1.5.0",
            "_view_count": null,
            "_view_module_version": "1.2.0",
            "bar_color": null,
            "_model_module": "@jupyter-widgets/controls"
          }
        },
        "08b4b9a040c641a7b7b5087cda7d60c2": {
          "model_module": "@jupyter-widgets/base",
          "model_name": "LayoutModel",
          "state": {
            "_view_name": "LayoutView",
            "grid_template_rows": null,
            "right": null,
            "justify_content": null,
            "_view_module": "@jupyter-widgets/base",
            "overflow": null,
            "_model_module_version": "1.2.0",
            "_view_count": null,
            "flex_flow": null,
            "width": null,
            "min_width": null,
            "border": null,
            "align_items": null,
            "bottom": null,
            "_model_module": "@jupyter-widgets/base",
            "top": null,
            "grid_column": null,
            "overflow_y": null,
            "overflow_x": null,
            "grid_auto_flow": null,
            "grid_area": null,
            "grid_template_columns": null,
            "flex": null,
            "_model_name": "LayoutModel",
            "justify_items": null,
            "grid_row": null,
            "max_height": null,
            "align_content": null,
            "visibility": null,
            "align_self": null,
            "height": null,
            "min_height": null,
            "padding": null,
            "grid_auto_rows": null,
            "grid_gap": null,
            "max_width": null,
            "order": null,
            "_view_module_version": "1.2.0",
            "grid_template_areas": null,
            "object_position": null,
            "object_fit": null,
            "grid_auto_columns": null,
            "margin": null,
            "display": null,
            "left": null
          }
        },
        "0395eef9f5ea45639ed0e744a983f1ac": {
          "model_module": "@jupyter-widgets/controls",
          "model_name": "VBoxModel",
          "state": {
            "_view_name": "VBoxView",
            "_dom_classes": [],
            "_model_name": "VBoxModel",
            "_view_module": "@jupyter-widgets/controls",
            "_model_module_version": "1.5.0",
            "_view_count": null,
            "_view_module_version": "1.5.0",
            "box_style": "",
            "layout": "IPY_MODEL_2babdfca9608401bbbe716553ecfbda0",
            "_model_module": "@jupyter-widgets/controls",
            "children": [
              "IPY_MODEL_8736fe8f0ef145cf9dc0f46cc44cea81",
              "IPY_MODEL_a743de0caa844b5abf3ab44427a88347"
            ]
          }
        },
        "2babdfca9608401bbbe716553ecfbda0": {
          "model_module": "@jupyter-widgets/base",
          "model_name": "LayoutModel",
          "state": {
            "_view_name": "LayoutView",
            "grid_template_rows": null,
            "right": null,
            "justify_content": null,
            "_view_module": "@jupyter-widgets/base",
            "overflow": null,
            "_model_module_version": "1.2.0",
            "_view_count": null,
            "flex_flow": null,
            "width": null,
            "min_width": null,
            "border": null,
            "align_items": null,
            "bottom": null,
            "_model_module": "@jupyter-widgets/base",
            "top": null,
            "grid_column": null,
            "overflow_y": null,
            "overflow_x": null,
            "grid_auto_flow": null,
            "grid_area": null,
            "grid_template_columns": null,
            "flex": null,
            "_model_name": "LayoutModel",
            "justify_items": null,
            "grid_row": null,
            "max_height": null,
            "align_content": null,
            "visibility": null,
            "align_self": null,
            "height": null,
            "min_height": null,
            "padding": null,
            "grid_auto_rows": null,
            "grid_gap": null,
            "max_width": null,
            "order": null,
            "_view_module_version": "1.2.0",
            "grid_template_areas": null,
            "object_position": null,
            "object_fit": null,
            "grid_auto_columns": null,
            "margin": null,
            "display": null,
            "left": null
          }
        },
        "8736fe8f0ef145cf9dc0f46cc44cea81": {
          "model_module": "@jupyter-widgets/controls",
          "model_name": "LabelModel",
          "state": {
            "_view_name": "LabelView",
            "style": "IPY_MODEL_34891180b41d42d282f73dff7d413e88",
            "_dom_classes": [],
            "description": "",
            "_model_name": "LabelModel",
            "placeholder": "​",
            "_view_module": "@jupyter-widgets/controls",
            "_model_module_version": "1.5.0",
            "value": " 2.30MB of 2.30MB uploaded (0.00MB deduped)\r",
            "_view_count": null,
            "_view_module_version": "1.5.0",
            "description_tooltip": null,
            "_model_module": "@jupyter-widgets/controls",
            "layout": "IPY_MODEL_0728edf7d2f349408efa681ce185fe1f"
          }
        },
        "a743de0caa844b5abf3ab44427a88347": {
          "model_module": "@jupyter-widgets/controls",
          "model_name": "FloatProgressModel",
          "state": {
            "_view_name": "ProgressView",
            "style": "IPY_MODEL_6b9773335ff94d47b0a57c0af899430f",
            "_dom_classes": [],
            "description": "",
            "_model_name": "FloatProgressModel",
            "bar_style": "",
            "max": 1,
            "_view_module": "@jupyter-widgets/controls",
            "_model_module_version": "1.5.0",
            "value": 1,
            "_view_count": null,
            "_view_module_version": "1.5.0",
            "orientation": "horizontal",
            "min": 0,
            "description_tooltip": null,
            "_model_module": "@jupyter-widgets/controls",
            "layout": "IPY_MODEL_e28003008cb84fcfbefc24ed068771a6"
          }
        },
        "34891180b41d42d282f73dff7d413e88": {
          "model_module": "@jupyter-widgets/controls",
          "model_name": "DescriptionStyleModel",
          "state": {
            "_view_name": "StyleView",
            "_model_name": "DescriptionStyleModel",
            "description_width": "",
            "_view_module": "@jupyter-widgets/base",
            "_model_module_version": "1.5.0",
            "_view_count": null,
            "_view_module_version": "1.2.0",
            "_model_module": "@jupyter-widgets/controls"
          }
        },
        "0728edf7d2f349408efa681ce185fe1f": {
          "model_module": "@jupyter-widgets/base",
          "model_name": "LayoutModel",
          "state": {
            "_view_name": "LayoutView",
            "grid_template_rows": null,
            "right": null,
            "justify_content": null,
            "_view_module": "@jupyter-widgets/base",
            "overflow": null,
            "_model_module_version": "1.2.0",
            "_view_count": null,
            "flex_flow": null,
            "width": null,
            "min_width": null,
            "border": null,
            "align_items": null,
            "bottom": null,
            "_model_module": "@jupyter-widgets/base",
            "top": null,
            "grid_column": null,
            "overflow_y": null,
            "overflow_x": null,
            "grid_auto_flow": null,
            "grid_area": null,
            "grid_template_columns": null,
            "flex": null,
            "_model_name": "LayoutModel",
            "justify_items": null,
            "grid_row": null,
            "max_height": null,
            "align_content": null,
            "visibility": null,
            "align_self": null,
            "height": null,
            "min_height": null,
            "padding": null,
            "grid_auto_rows": null,
            "grid_gap": null,
            "max_width": null,
            "order": null,
            "_view_module_version": "1.2.0",
            "grid_template_areas": null,
            "object_position": null,
            "object_fit": null,
            "grid_auto_columns": null,
            "margin": null,
            "display": null,
            "left": null
          }
        },
        "6b9773335ff94d47b0a57c0af899430f": {
          "model_module": "@jupyter-widgets/controls",
          "model_name": "ProgressStyleModel",
          "state": {
            "_view_name": "StyleView",
            "_model_name": "ProgressStyleModel",
            "description_width": "",
            "_view_module": "@jupyter-widgets/base",
            "_model_module_version": "1.5.0",
            "_view_count": null,
            "_view_module_version": "1.2.0",
            "bar_color": null,
            "_model_module": "@jupyter-widgets/controls"
          }
        },
        "e28003008cb84fcfbefc24ed068771a6": {
          "model_module": "@jupyter-widgets/base",
          "model_name": "LayoutModel",
          "state": {
            "_view_name": "LayoutView",
            "grid_template_rows": null,
            "right": null,
            "justify_content": null,
            "_view_module": "@jupyter-widgets/base",
            "overflow": null,
            "_model_module_version": "1.2.0",
            "_view_count": null,
            "flex_flow": null,
            "width": null,
            "min_width": null,
            "border": null,
            "align_items": null,
            "bottom": null,
            "_model_module": "@jupyter-widgets/base",
            "top": null,
            "grid_column": null,
            "overflow_y": null,
            "overflow_x": null,
            "grid_auto_flow": null,
            "grid_area": null,
            "grid_template_columns": null,
            "flex": null,
            "_model_name": "LayoutModel",
            "justify_items": null,
            "grid_row": null,
            "max_height": null,
            "align_content": null,
            "visibility": null,
            "align_self": null,
            "height": null,
            "min_height": null,
            "padding": null,
            "grid_auto_rows": null,
            "grid_gap": null,
            "max_width": null,
            "order": null,
            "_view_module_version": "1.2.0",
            "grid_template_areas": null,
            "object_position": null,
            "object_fit": null,
            "grid_auto_columns": null,
            "margin": null,
            "display": null,
            "left": null
          }
        },
        "d5960a849a5043ab8fbf9244180e7d8a": {
          "model_module": "@jupyter-widgets/controls",
          "model_name": "VBoxModel",
          "state": {
            "_view_name": "VBoxView",
            "_dom_classes": [],
            "_model_name": "VBoxModel",
            "_view_module": "@jupyter-widgets/controls",
            "_model_module_version": "1.5.0",
            "_view_count": null,
            "_view_module_version": "1.5.0",
            "box_style": "",
            "layout": "IPY_MODEL_3a45018bc46a475f9f2e05b814c1614b",
            "_model_module": "@jupyter-widgets/controls",
            "children": [
              "IPY_MODEL_5f6d6a7919ce4efb95f579b101c3ad48",
              "IPY_MODEL_afc5833f3cf84f1b80255d943c24242f"
            ]
          }
        },
        "3a45018bc46a475f9f2e05b814c1614b": {
          "model_module": "@jupyter-widgets/base",
          "model_name": "LayoutModel",
          "state": {
            "_view_name": "LayoutView",
            "grid_template_rows": null,
            "right": null,
            "justify_content": null,
            "_view_module": "@jupyter-widgets/base",
            "overflow": null,
            "_model_module_version": "1.2.0",
            "_view_count": null,
            "flex_flow": null,
            "width": null,
            "min_width": null,
            "border": null,
            "align_items": null,
            "bottom": null,
            "_model_module": "@jupyter-widgets/base",
            "top": null,
            "grid_column": null,
            "overflow_y": null,
            "overflow_x": null,
            "grid_auto_flow": null,
            "grid_area": null,
            "grid_template_columns": null,
            "flex": null,
            "_model_name": "LayoutModel",
            "justify_items": null,
            "grid_row": null,
            "max_height": null,
            "align_content": null,
            "visibility": null,
            "align_self": null,
            "height": null,
            "min_height": null,
            "padding": null,
            "grid_auto_rows": null,
            "grid_gap": null,
            "max_width": null,
            "order": null,
            "_view_module_version": "1.2.0",
            "grid_template_areas": null,
            "object_position": null,
            "object_fit": null,
            "grid_auto_columns": null,
            "margin": null,
            "display": null,
            "left": null
          }
        },
        "5f6d6a7919ce4efb95f579b101c3ad48": {
          "model_module": "@jupyter-widgets/controls",
          "model_name": "LabelModel",
          "state": {
            "_view_name": "LabelView",
            "style": "IPY_MODEL_d5c25e9a296a4b75aee93694482fa523",
            "_dom_classes": [],
            "description": "",
            "_model_name": "LabelModel",
            "placeholder": "​",
            "_view_module": "@jupyter-widgets/controls",
            "_model_module_version": "1.5.0",
            "value": " 26.84MB of 26.84MB uploaded (0.00MB deduped)\r",
            "_view_count": null,
            "_view_module_version": "1.5.0",
            "description_tooltip": null,
            "_model_module": "@jupyter-widgets/controls",
            "layout": "IPY_MODEL_af61ca4113ea44e6a1982eab5a2b99b6"
          }
        },
        "afc5833f3cf84f1b80255d943c24242f": {
          "model_module": "@jupyter-widgets/controls",
          "model_name": "FloatProgressModel",
          "state": {
            "_view_name": "ProgressView",
            "style": "IPY_MODEL_fb0a4cafbccb41b782c908be2051055b",
            "_dom_classes": [],
            "description": "",
            "_model_name": "FloatProgressModel",
            "bar_style": "",
            "max": 1,
            "_view_module": "@jupyter-widgets/controls",
            "_model_module_version": "1.5.0",
            "value": 1,
            "_view_count": null,
            "_view_module_version": "1.5.0",
            "orientation": "horizontal",
            "min": 0,
            "description_tooltip": null,
            "_model_module": "@jupyter-widgets/controls",
            "layout": "IPY_MODEL_026a4bb03da849deb97bd0d575347e34"
          }
        },
        "d5c25e9a296a4b75aee93694482fa523": {
          "model_module": "@jupyter-widgets/controls",
          "model_name": "DescriptionStyleModel",
          "state": {
            "_view_name": "StyleView",
            "_model_name": "DescriptionStyleModel",
            "description_width": "",
            "_view_module": "@jupyter-widgets/base",
            "_model_module_version": "1.5.0",
            "_view_count": null,
            "_view_module_version": "1.2.0",
            "_model_module": "@jupyter-widgets/controls"
          }
        },
        "af61ca4113ea44e6a1982eab5a2b99b6": {
          "model_module": "@jupyter-widgets/base",
          "model_name": "LayoutModel",
          "state": {
            "_view_name": "LayoutView",
            "grid_template_rows": null,
            "right": null,
            "justify_content": null,
            "_view_module": "@jupyter-widgets/base",
            "overflow": null,
            "_model_module_version": "1.2.0",
            "_view_count": null,
            "flex_flow": null,
            "width": null,
            "min_width": null,
            "border": null,
            "align_items": null,
            "bottom": null,
            "_model_module": "@jupyter-widgets/base",
            "top": null,
            "grid_column": null,
            "overflow_y": null,
            "overflow_x": null,
            "grid_auto_flow": null,
            "grid_area": null,
            "grid_template_columns": null,
            "flex": null,
            "_model_name": "LayoutModel",
            "justify_items": null,
            "grid_row": null,
            "max_height": null,
            "align_content": null,
            "visibility": null,
            "align_self": null,
            "height": null,
            "min_height": null,
            "padding": null,
            "grid_auto_rows": null,
            "grid_gap": null,
            "max_width": null,
            "order": null,
            "_view_module_version": "1.2.0",
            "grid_template_areas": null,
            "object_position": null,
            "object_fit": null,
            "grid_auto_columns": null,
            "margin": null,
            "display": null,
            "left": null
          }
        },
        "fb0a4cafbccb41b782c908be2051055b": {
          "model_module": "@jupyter-widgets/controls",
          "model_name": "ProgressStyleModel",
          "state": {
            "_view_name": "StyleView",
            "_model_name": "ProgressStyleModel",
            "description_width": "",
            "_view_module": "@jupyter-widgets/base",
            "_model_module_version": "1.5.0",
            "_view_count": null,
            "_view_module_version": "1.2.0",
            "bar_color": null,
            "_model_module": "@jupyter-widgets/controls"
          }
        },
        "026a4bb03da849deb97bd0d575347e34": {
          "model_module": "@jupyter-widgets/base",
          "model_name": "LayoutModel",
          "state": {
            "_view_name": "LayoutView",
            "grid_template_rows": null,
            "right": null,
            "justify_content": null,
            "_view_module": "@jupyter-widgets/base",
            "overflow": null,
            "_model_module_version": "1.2.0",
            "_view_count": null,
            "flex_flow": null,
            "width": null,
            "min_width": null,
            "border": null,
            "align_items": null,
            "bottom": null,
            "_model_module": "@jupyter-widgets/base",
            "top": null,
            "grid_column": null,
            "overflow_y": null,
            "overflow_x": null,
            "grid_auto_flow": null,
            "grid_area": null,
            "grid_template_columns": null,
            "flex": null,
            "_model_name": "LayoutModel",
            "justify_items": null,
            "grid_row": null,
            "max_height": null,
            "align_content": null,
            "visibility": null,
            "align_self": null,
            "height": null,
            "min_height": null,
            "padding": null,
            "grid_auto_rows": null,
            "grid_gap": null,
            "max_width": null,
            "order": null,
            "_view_module_version": "1.2.0",
            "grid_template_areas": null,
            "object_position": null,
            "object_fit": null,
            "grid_auto_columns": null,
            "margin": null,
            "display": null,
            "left": null
          }
        },
        "55f14606265343db9db7ae716a41278a": {
          "model_module": "@jupyter-widgets/controls",
          "model_name": "VBoxModel",
          "state": {
            "_view_name": "VBoxView",
            "_dom_classes": [],
            "_model_name": "VBoxModel",
            "_view_module": "@jupyter-widgets/controls",
            "_model_module_version": "1.5.0",
            "_view_count": null,
            "_view_module_version": "1.5.0",
            "box_style": "",
            "layout": "IPY_MODEL_595963ffa0924f2ea074603e816d705a",
            "_model_module": "@jupyter-widgets/controls",
            "children": [
              "IPY_MODEL_930131fe200d454c8b80c1d7bae8b57a",
              "IPY_MODEL_c104bfc07774442e80849c8f7a06fdb3"
            ]
          }
        },
        "595963ffa0924f2ea074603e816d705a": {
          "model_module": "@jupyter-widgets/base",
          "model_name": "LayoutModel",
          "state": {
            "_view_name": "LayoutView",
            "grid_template_rows": null,
            "right": null,
            "justify_content": null,
            "_view_module": "@jupyter-widgets/base",
            "overflow": null,
            "_model_module_version": "1.2.0",
            "_view_count": null,
            "flex_flow": null,
            "width": null,
            "min_width": null,
            "border": null,
            "align_items": null,
            "bottom": null,
            "_model_module": "@jupyter-widgets/base",
            "top": null,
            "grid_column": null,
            "overflow_y": null,
            "overflow_x": null,
            "grid_auto_flow": null,
            "grid_area": null,
            "grid_template_columns": null,
            "flex": null,
            "_model_name": "LayoutModel",
            "justify_items": null,
            "grid_row": null,
            "max_height": null,
            "align_content": null,
            "visibility": null,
            "align_self": null,
            "height": null,
            "min_height": null,
            "padding": null,
            "grid_auto_rows": null,
            "grid_gap": null,
            "max_width": null,
            "order": null,
            "_view_module_version": "1.2.0",
            "grid_template_areas": null,
            "object_position": null,
            "object_fit": null,
            "grid_auto_columns": null,
            "margin": null,
            "display": null,
            "left": null
          }
        },
        "930131fe200d454c8b80c1d7bae8b57a": {
          "model_module": "@jupyter-widgets/controls",
          "model_name": "LabelModel",
          "state": {
            "_view_name": "LabelView",
            "style": "IPY_MODEL_f9b0309df45047cfb37956ac4e84bcca",
            "_dom_classes": [],
            "description": "",
            "_model_name": "LabelModel",
            "placeholder": "​",
            "_view_module": "@jupyter-widgets/controls",
            "_model_module_version": "1.5.0",
            "value": " 10.92MB of 10.92MB uploaded (0.00MB deduped)\r",
            "_view_count": null,
            "_view_module_version": "1.5.0",
            "description_tooltip": null,
            "_model_module": "@jupyter-widgets/controls",
            "layout": "IPY_MODEL_4f98488f44524d8f840dbd9fae2abada"
          }
        },
        "c104bfc07774442e80849c8f7a06fdb3": {
          "model_module": "@jupyter-widgets/controls",
          "model_name": "FloatProgressModel",
          "state": {
            "_view_name": "ProgressView",
            "style": "IPY_MODEL_3e067e56f2b143a3959279831bed0f10",
            "_dom_classes": [],
            "description": "",
            "_model_name": "FloatProgressModel",
            "bar_style": "",
            "max": 1,
            "_view_module": "@jupyter-widgets/controls",
            "_model_module_version": "1.5.0",
            "value": 1,
            "_view_count": null,
            "_view_module_version": "1.5.0",
            "orientation": "horizontal",
            "min": 0,
            "description_tooltip": null,
            "_model_module": "@jupyter-widgets/controls",
            "layout": "IPY_MODEL_49ffad6b92c54217b9211eb71be6be9f"
          }
        },
        "f9b0309df45047cfb37956ac4e84bcca": {
          "model_module": "@jupyter-widgets/controls",
          "model_name": "DescriptionStyleModel",
          "state": {
            "_view_name": "StyleView",
            "_model_name": "DescriptionStyleModel",
            "description_width": "",
            "_view_module": "@jupyter-widgets/base",
            "_model_module_version": "1.5.0",
            "_view_count": null,
            "_view_module_version": "1.2.0",
            "_model_module": "@jupyter-widgets/controls"
          }
        },
        "4f98488f44524d8f840dbd9fae2abada": {
          "model_module": "@jupyter-widgets/base",
          "model_name": "LayoutModel",
          "state": {
            "_view_name": "LayoutView",
            "grid_template_rows": null,
            "right": null,
            "justify_content": null,
            "_view_module": "@jupyter-widgets/base",
            "overflow": null,
            "_model_module_version": "1.2.0",
            "_view_count": null,
            "flex_flow": null,
            "width": null,
            "min_width": null,
            "border": null,
            "align_items": null,
            "bottom": null,
            "_model_module": "@jupyter-widgets/base",
            "top": null,
            "grid_column": null,
            "overflow_y": null,
            "overflow_x": null,
            "grid_auto_flow": null,
            "grid_area": null,
            "grid_template_columns": null,
            "flex": null,
            "_model_name": "LayoutModel",
            "justify_items": null,
            "grid_row": null,
            "max_height": null,
            "align_content": null,
            "visibility": null,
            "align_self": null,
            "height": null,
            "min_height": null,
            "padding": null,
            "grid_auto_rows": null,
            "grid_gap": null,
            "max_width": null,
            "order": null,
            "_view_module_version": "1.2.0",
            "grid_template_areas": null,
            "object_position": null,
            "object_fit": null,
            "grid_auto_columns": null,
            "margin": null,
            "display": null,
            "left": null
          }
        },
        "3e067e56f2b143a3959279831bed0f10": {
          "model_module": "@jupyter-widgets/controls",
          "model_name": "ProgressStyleModel",
          "state": {
            "_view_name": "StyleView",
            "_model_name": "ProgressStyleModel",
            "description_width": "",
            "_view_module": "@jupyter-widgets/base",
            "_model_module_version": "1.5.0",
            "_view_count": null,
            "_view_module_version": "1.2.0",
            "bar_color": null,
            "_model_module": "@jupyter-widgets/controls"
          }
        },
        "49ffad6b92c54217b9211eb71be6be9f": {
          "model_module": "@jupyter-widgets/base",
          "model_name": "LayoutModel",
          "state": {
            "_view_name": "LayoutView",
            "grid_template_rows": null,
            "right": null,
            "justify_content": null,
            "_view_module": "@jupyter-widgets/base",
            "overflow": null,
            "_model_module_version": "1.2.0",
            "_view_count": null,
            "flex_flow": null,
            "width": null,
            "min_width": null,
            "border": null,
            "align_items": null,
            "bottom": null,
            "_model_module": "@jupyter-widgets/base",
            "top": null,
            "grid_column": null,
            "overflow_y": null,
            "overflow_x": null,
            "grid_auto_flow": null,
            "grid_area": null,
            "grid_template_columns": null,
            "flex": null,
            "_model_name": "LayoutModel",
            "justify_items": null,
            "grid_row": null,
            "max_height": null,
            "align_content": null,
            "visibility": null,
            "align_self": null,
            "height": null,
            "min_height": null,
            "padding": null,
            "grid_auto_rows": null,
            "grid_gap": null,
            "max_width": null,
            "order": null,
            "_view_module_version": "1.2.0",
            "grid_template_areas": null,
            "object_position": null,
            "object_fit": null,
            "grid_auto_columns": null,
            "margin": null,
            "display": null,
            "left": null
          }
        },
        "661ce71dc578483cb1559e07e3f23d27": {
          "model_module": "@jupyter-widgets/controls",
          "model_name": "VBoxModel",
          "state": {
            "_view_name": "VBoxView",
            "_dom_classes": [],
            "_model_name": "VBoxModel",
            "_view_module": "@jupyter-widgets/controls",
            "_model_module_version": "1.5.0",
            "_view_count": null,
            "_view_module_version": "1.5.0",
            "box_style": "",
            "layout": "IPY_MODEL_71530a888acb4d6ea48bef34acb8c5f6",
            "_model_module": "@jupyter-widgets/controls",
            "children": [
              "IPY_MODEL_442a01d6ea3e44c3b12ae88f233d306b",
              "IPY_MODEL_64809e767ddb4bc79eb90493437fe331"
            ]
          }
        },
        "71530a888acb4d6ea48bef34acb8c5f6": {
          "model_module": "@jupyter-widgets/base",
          "model_name": "LayoutModel",
          "state": {
            "_view_name": "LayoutView",
            "grid_template_rows": null,
            "right": null,
            "justify_content": null,
            "_view_module": "@jupyter-widgets/base",
            "overflow": null,
            "_model_module_version": "1.2.0",
            "_view_count": null,
            "flex_flow": null,
            "width": null,
            "min_width": null,
            "border": null,
            "align_items": null,
            "bottom": null,
            "_model_module": "@jupyter-widgets/base",
            "top": null,
            "grid_column": null,
            "overflow_y": null,
            "overflow_x": null,
            "grid_auto_flow": null,
            "grid_area": null,
            "grid_template_columns": null,
            "flex": null,
            "_model_name": "LayoutModel",
            "justify_items": null,
            "grid_row": null,
            "max_height": null,
            "align_content": null,
            "visibility": null,
            "align_self": null,
            "height": null,
            "min_height": null,
            "padding": null,
            "grid_auto_rows": null,
            "grid_gap": null,
            "max_width": null,
            "order": null,
            "_view_module_version": "1.2.0",
            "grid_template_areas": null,
            "object_position": null,
            "object_fit": null,
            "grid_auto_columns": null,
            "margin": null,
            "display": null,
            "left": null
          }
        },
        "442a01d6ea3e44c3b12ae88f233d306b": {
          "model_module": "@jupyter-widgets/controls",
          "model_name": "LabelModel",
          "state": {
            "_view_name": "LabelView",
            "style": "IPY_MODEL_8d5df9f2160240a59838193b2daab1f4",
            "_dom_classes": [],
            "description": "",
            "_model_name": "LabelModel",
            "placeholder": "​",
            "_view_module": "@jupyter-widgets/controls",
            "_model_module_version": "1.5.0",
            "value": " 3.26MB of 3.26MB uploaded (0.00MB deduped)\r",
            "_view_count": null,
            "_view_module_version": "1.5.0",
            "description_tooltip": null,
            "_model_module": "@jupyter-widgets/controls",
            "layout": "IPY_MODEL_16e2e7baa68942aea8e81573dd251498"
          }
        },
        "64809e767ddb4bc79eb90493437fe331": {
          "model_module": "@jupyter-widgets/controls",
          "model_name": "FloatProgressModel",
          "state": {
            "_view_name": "ProgressView",
            "style": "IPY_MODEL_146c86bcabf848d3aa1b1c0741f04e1b",
            "_dom_classes": [],
            "description": "",
            "_model_name": "FloatProgressModel",
            "bar_style": "",
            "max": 1,
            "_view_module": "@jupyter-widgets/controls",
            "_model_module_version": "1.5.0",
            "value": 1,
            "_view_count": null,
            "_view_module_version": "1.5.0",
            "orientation": "horizontal",
            "min": 0,
            "description_tooltip": null,
            "_model_module": "@jupyter-widgets/controls",
            "layout": "IPY_MODEL_04fa70d9042743cea25822b33a66aa85"
          }
        },
        "8d5df9f2160240a59838193b2daab1f4": {
          "model_module": "@jupyter-widgets/controls",
          "model_name": "DescriptionStyleModel",
          "state": {
            "_view_name": "StyleView",
            "_model_name": "DescriptionStyleModel",
            "description_width": "",
            "_view_module": "@jupyter-widgets/base",
            "_model_module_version": "1.5.0",
            "_view_count": null,
            "_view_module_version": "1.2.0",
            "_model_module": "@jupyter-widgets/controls"
          }
        },
        "16e2e7baa68942aea8e81573dd251498": {
          "model_module": "@jupyter-widgets/base",
          "model_name": "LayoutModel",
          "state": {
            "_view_name": "LayoutView",
            "grid_template_rows": null,
            "right": null,
            "justify_content": null,
            "_view_module": "@jupyter-widgets/base",
            "overflow": null,
            "_model_module_version": "1.2.0",
            "_view_count": null,
            "flex_flow": null,
            "width": null,
            "min_width": null,
            "border": null,
            "align_items": null,
            "bottom": null,
            "_model_module": "@jupyter-widgets/base",
            "top": null,
            "grid_column": null,
            "overflow_y": null,
            "overflow_x": null,
            "grid_auto_flow": null,
            "grid_area": null,
            "grid_template_columns": null,
            "flex": null,
            "_model_name": "LayoutModel",
            "justify_items": null,
            "grid_row": null,
            "max_height": null,
            "align_content": null,
            "visibility": null,
            "align_self": null,
            "height": null,
            "min_height": null,
            "padding": null,
            "grid_auto_rows": null,
            "grid_gap": null,
            "max_width": null,
            "order": null,
            "_view_module_version": "1.2.0",
            "grid_template_areas": null,
            "object_position": null,
            "object_fit": null,
            "grid_auto_columns": null,
            "margin": null,
            "display": null,
            "left": null
          }
        },
        "146c86bcabf848d3aa1b1c0741f04e1b": {
          "model_module": "@jupyter-widgets/controls",
          "model_name": "ProgressStyleModel",
          "state": {
            "_view_name": "StyleView",
            "_model_name": "ProgressStyleModel",
            "description_width": "",
            "_view_module": "@jupyter-widgets/base",
            "_model_module_version": "1.5.0",
            "_view_count": null,
            "_view_module_version": "1.2.0",
            "bar_color": null,
            "_model_module": "@jupyter-widgets/controls"
          }
        },
        "04fa70d9042743cea25822b33a66aa85": {
          "model_module": "@jupyter-widgets/base",
          "model_name": "LayoutModel",
          "state": {
            "_view_name": "LayoutView",
            "grid_template_rows": null,
            "right": null,
            "justify_content": null,
            "_view_module": "@jupyter-widgets/base",
            "overflow": null,
            "_model_module_version": "1.2.0",
            "_view_count": null,
            "flex_flow": null,
            "width": null,
            "min_width": null,
            "border": null,
            "align_items": null,
            "bottom": null,
            "_model_module": "@jupyter-widgets/base",
            "top": null,
            "grid_column": null,
            "overflow_y": null,
            "overflow_x": null,
            "grid_auto_flow": null,
            "grid_area": null,
            "grid_template_columns": null,
            "flex": null,
            "_model_name": "LayoutModel",
            "justify_items": null,
            "grid_row": null,
            "max_height": null,
            "align_content": null,
            "visibility": null,
            "align_self": null,
            "height": null,
            "min_height": null,
            "padding": null,
            "grid_auto_rows": null,
            "grid_gap": null,
            "max_width": null,
            "order": null,
            "_view_module_version": "1.2.0",
            "grid_template_areas": null,
            "object_position": null,
            "object_fit": null,
            "grid_auto_columns": null,
            "margin": null,
            "display": null,
            "left": null
          }
        },
        "1f26b37aa1f347b7ae6e20d35ba87013": {
          "model_module": "@jupyter-widgets/controls",
          "model_name": "VBoxModel",
          "state": {
            "_view_name": "VBoxView",
            "_dom_classes": [],
            "_model_name": "VBoxModel",
            "_view_module": "@jupyter-widgets/controls",
            "_model_module_version": "1.5.0",
            "_view_count": null,
            "_view_module_version": "1.5.0",
            "box_style": "",
            "layout": "IPY_MODEL_d9e4d1d36d9a492d85a8d8e7022da7da",
            "_model_module": "@jupyter-widgets/controls",
            "children": [
              "IPY_MODEL_ff661e598ea24e4caec37ccad144de50",
              "IPY_MODEL_d7e5e1127e454d6f8c8dd00166f75fa7"
            ]
          }
        },
        "d9e4d1d36d9a492d85a8d8e7022da7da": {
          "model_module": "@jupyter-widgets/base",
          "model_name": "LayoutModel",
          "state": {
            "_view_name": "LayoutView",
            "grid_template_rows": null,
            "right": null,
            "justify_content": null,
            "_view_module": "@jupyter-widgets/base",
            "overflow": null,
            "_model_module_version": "1.2.0",
            "_view_count": null,
            "flex_flow": null,
            "width": null,
            "min_width": null,
            "border": null,
            "align_items": null,
            "bottom": null,
            "_model_module": "@jupyter-widgets/base",
            "top": null,
            "grid_column": null,
            "overflow_y": null,
            "overflow_x": null,
            "grid_auto_flow": null,
            "grid_area": null,
            "grid_template_columns": null,
            "flex": null,
            "_model_name": "LayoutModel",
            "justify_items": null,
            "grid_row": null,
            "max_height": null,
            "align_content": null,
            "visibility": null,
            "align_self": null,
            "height": null,
            "min_height": null,
            "padding": null,
            "grid_auto_rows": null,
            "grid_gap": null,
            "max_width": null,
            "order": null,
            "_view_module_version": "1.2.0",
            "grid_template_areas": null,
            "object_position": null,
            "object_fit": null,
            "grid_auto_columns": null,
            "margin": null,
            "display": null,
            "left": null
          }
        },
        "ff661e598ea24e4caec37ccad144de50": {
          "model_module": "@jupyter-widgets/controls",
          "model_name": "LabelModel",
          "state": {
            "_view_name": "LabelView",
            "style": "IPY_MODEL_1c46bc3e5a99445eb0d9fb263611ef44",
            "_dom_classes": [],
            "description": "",
            "_model_name": "LabelModel",
            "placeholder": "​",
            "_view_module": "@jupyter-widgets/controls",
            "_model_module_version": "1.5.0",
            "value": " 20.88MB of 20.88MB uploaded (0.00MB deduped)\r",
            "_view_count": null,
            "_view_module_version": "1.5.0",
            "description_tooltip": null,
            "_model_module": "@jupyter-widgets/controls",
            "layout": "IPY_MODEL_9e801a0d043c4fa0bb0a9cd13447d803"
          }
        },
        "d7e5e1127e454d6f8c8dd00166f75fa7": {
          "model_module": "@jupyter-widgets/controls",
          "model_name": "FloatProgressModel",
          "state": {
            "_view_name": "ProgressView",
            "style": "IPY_MODEL_5cddb5c0b621414bb2d6dd00befe900b",
            "_dom_classes": [],
            "description": "",
            "_model_name": "FloatProgressModel",
            "bar_style": "",
            "max": 1,
            "_view_module": "@jupyter-widgets/controls",
            "_model_module_version": "1.5.0",
            "value": 1,
            "_view_count": null,
            "_view_module_version": "1.5.0",
            "orientation": "horizontal",
            "min": 0,
            "description_tooltip": null,
            "_model_module": "@jupyter-widgets/controls",
            "layout": "IPY_MODEL_4d6f2b70e6004411b3b408b4fea0e18b"
          }
        },
        "1c46bc3e5a99445eb0d9fb263611ef44": {
          "model_module": "@jupyter-widgets/controls",
          "model_name": "DescriptionStyleModel",
          "state": {
            "_view_name": "StyleView",
            "_model_name": "DescriptionStyleModel",
            "description_width": "",
            "_view_module": "@jupyter-widgets/base",
            "_model_module_version": "1.5.0",
            "_view_count": null,
            "_view_module_version": "1.2.0",
            "_model_module": "@jupyter-widgets/controls"
          }
        },
        "9e801a0d043c4fa0bb0a9cd13447d803": {
          "model_module": "@jupyter-widgets/base",
          "model_name": "LayoutModel",
          "state": {
            "_view_name": "LayoutView",
            "grid_template_rows": null,
            "right": null,
            "justify_content": null,
            "_view_module": "@jupyter-widgets/base",
            "overflow": null,
            "_model_module_version": "1.2.0",
            "_view_count": null,
            "flex_flow": null,
            "width": null,
            "min_width": null,
            "border": null,
            "align_items": null,
            "bottom": null,
            "_model_module": "@jupyter-widgets/base",
            "top": null,
            "grid_column": null,
            "overflow_y": null,
            "overflow_x": null,
            "grid_auto_flow": null,
            "grid_area": null,
            "grid_template_columns": null,
            "flex": null,
            "_model_name": "LayoutModel",
            "justify_items": null,
            "grid_row": null,
            "max_height": null,
            "align_content": null,
            "visibility": null,
            "align_self": null,
            "height": null,
            "min_height": null,
            "padding": null,
            "grid_auto_rows": null,
            "grid_gap": null,
            "max_width": null,
            "order": null,
            "_view_module_version": "1.2.0",
            "grid_template_areas": null,
            "object_position": null,
            "object_fit": null,
            "grid_auto_columns": null,
            "margin": null,
            "display": null,
            "left": null
          }
        },
        "5cddb5c0b621414bb2d6dd00befe900b": {
          "model_module": "@jupyter-widgets/controls",
          "model_name": "ProgressStyleModel",
          "state": {
            "_view_name": "StyleView",
            "_model_name": "ProgressStyleModel",
            "description_width": "",
            "_view_module": "@jupyter-widgets/base",
            "_model_module_version": "1.5.0",
            "_view_count": null,
            "_view_module_version": "1.2.0",
            "bar_color": null,
            "_model_module": "@jupyter-widgets/controls"
          }
        },
        "4d6f2b70e6004411b3b408b4fea0e18b": {
          "model_module": "@jupyter-widgets/base",
          "model_name": "LayoutModel",
          "state": {
            "_view_name": "LayoutView",
            "grid_template_rows": null,
            "right": null,
            "justify_content": null,
            "_view_module": "@jupyter-widgets/base",
            "overflow": null,
            "_model_module_version": "1.2.0",
            "_view_count": null,
            "flex_flow": null,
            "width": null,
            "min_width": null,
            "border": null,
            "align_items": null,
            "bottom": null,
            "_model_module": "@jupyter-widgets/base",
            "top": null,
            "grid_column": null,
            "overflow_y": null,
            "overflow_x": null,
            "grid_auto_flow": null,
            "grid_area": null,
            "grid_template_columns": null,
            "flex": null,
            "_model_name": "LayoutModel",
            "justify_items": null,
            "grid_row": null,
            "max_height": null,
            "align_content": null,
            "visibility": null,
            "align_self": null,
            "height": null,
            "min_height": null,
            "padding": null,
            "grid_auto_rows": null,
            "grid_gap": null,
            "max_width": null,
            "order": null,
            "_view_module_version": "1.2.0",
            "grid_template_areas": null,
            "object_position": null,
            "object_fit": null,
            "grid_auto_columns": null,
            "margin": null,
            "display": null,
            "left": null
          }
        },
        "4bdc1bc391384588ad4a61b574886384": {
          "model_module": "@jupyter-widgets/controls",
          "model_name": "VBoxModel",
          "state": {
            "_view_name": "VBoxView",
            "_dom_classes": [],
            "_model_name": "VBoxModel",
            "_view_module": "@jupyter-widgets/controls",
            "_model_module_version": "1.5.0",
            "_view_count": null,
            "_view_module_version": "1.5.0",
            "box_style": "",
            "layout": "IPY_MODEL_baa5d8bbcd6040cabba08b50f53ba606",
            "_model_module": "@jupyter-widgets/controls",
            "children": [
              "IPY_MODEL_ca52a0b0b3394828a87a096290ba47b0",
              "IPY_MODEL_d6849f35cc8a49bba040daf7ccfee6cd"
            ]
          }
        },
        "baa5d8bbcd6040cabba08b50f53ba606": {
          "model_module": "@jupyter-widgets/base",
          "model_name": "LayoutModel",
          "state": {
            "_view_name": "LayoutView",
            "grid_template_rows": null,
            "right": null,
            "justify_content": null,
            "_view_module": "@jupyter-widgets/base",
            "overflow": null,
            "_model_module_version": "1.2.0",
            "_view_count": null,
            "flex_flow": null,
            "width": null,
            "min_width": null,
            "border": null,
            "align_items": null,
            "bottom": null,
            "_model_module": "@jupyter-widgets/base",
            "top": null,
            "grid_column": null,
            "overflow_y": null,
            "overflow_x": null,
            "grid_auto_flow": null,
            "grid_area": null,
            "grid_template_columns": null,
            "flex": null,
            "_model_name": "LayoutModel",
            "justify_items": null,
            "grid_row": null,
            "max_height": null,
            "align_content": null,
            "visibility": null,
            "align_self": null,
            "height": null,
            "min_height": null,
            "padding": null,
            "grid_auto_rows": null,
            "grid_gap": null,
            "max_width": null,
            "order": null,
            "_view_module_version": "1.2.0",
            "grid_template_areas": null,
            "object_position": null,
            "object_fit": null,
            "grid_auto_columns": null,
            "margin": null,
            "display": null,
            "left": null
          }
        },
        "ca52a0b0b3394828a87a096290ba47b0": {
          "model_module": "@jupyter-widgets/controls",
          "model_name": "LabelModel",
          "state": {
            "_view_name": "LabelView",
            "style": "IPY_MODEL_4ae413194a4346cc94a42e05b5ff691d",
            "_dom_classes": [],
            "description": "",
            "_model_name": "LabelModel",
            "placeholder": "​",
            "_view_module": "@jupyter-widgets/controls",
            "_model_module_version": "1.5.0",
            "value": " 16.35MB of 16.35MB uploaded (0.00MB deduped)\r",
            "_view_count": null,
            "_view_module_version": "1.5.0",
            "description_tooltip": null,
            "_model_module": "@jupyter-widgets/controls",
            "layout": "IPY_MODEL_3934a86cfedc49308c9ca39868dc3298"
          }
        },
        "d6849f35cc8a49bba040daf7ccfee6cd": {
          "model_module": "@jupyter-widgets/controls",
          "model_name": "FloatProgressModel",
          "state": {
            "_view_name": "ProgressView",
            "style": "IPY_MODEL_26b8beddf32e47a383e1a79e329c6349",
            "_dom_classes": [],
            "description": "",
            "_model_name": "FloatProgressModel",
            "bar_style": "",
            "max": 1,
            "_view_module": "@jupyter-widgets/controls",
            "_model_module_version": "1.5.0",
            "value": 1,
            "_view_count": null,
            "_view_module_version": "1.5.0",
            "orientation": "horizontal",
            "min": 0,
            "description_tooltip": null,
            "_model_module": "@jupyter-widgets/controls",
            "layout": "IPY_MODEL_c6a3479070fd4e678c0612ef58cde193"
          }
        },
        "4ae413194a4346cc94a42e05b5ff691d": {
          "model_module": "@jupyter-widgets/controls",
          "model_name": "DescriptionStyleModel",
          "state": {
            "_view_name": "StyleView",
            "_model_name": "DescriptionStyleModel",
            "description_width": "",
            "_view_module": "@jupyter-widgets/base",
            "_model_module_version": "1.5.0",
            "_view_count": null,
            "_view_module_version": "1.2.0",
            "_model_module": "@jupyter-widgets/controls"
          }
        },
        "3934a86cfedc49308c9ca39868dc3298": {
          "model_module": "@jupyter-widgets/base",
          "model_name": "LayoutModel",
          "state": {
            "_view_name": "LayoutView",
            "grid_template_rows": null,
            "right": null,
            "justify_content": null,
            "_view_module": "@jupyter-widgets/base",
            "overflow": null,
            "_model_module_version": "1.2.0",
            "_view_count": null,
            "flex_flow": null,
            "width": null,
            "min_width": null,
            "border": null,
            "align_items": null,
            "bottom": null,
            "_model_module": "@jupyter-widgets/base",
            "top": null,
            "grid_column": null,
            "overflow_y": null,
            "overflow_x": null,
            "grid_auto_flow": null,
            "grid_area": null,
            "grid_template_columns": null,
            "flex": null,
            "_model_name": "LayoutModel",
            "justify_items": null,
            "grid_row": null,
            "max_height": null,
            "align_content": null,
            "visibility": null,
            "align_self": null,
            "height": null,
            "min_height": null,
            "padding": null,
            "grid_auto_rows": null,
            "grid_gap": null,
            "max_width": null,
            "order": null,
            "_view_module_version": "1.2.0",
            "grid_template_areas": null,
            "object_position": null,
            "object_fit": null,
            "grid_auto_columns": null,
            "margin": null,
            "display": null,
            "left": null
          }
        },
        "26b8beddf32e47a383e1a79e329c6349": {
          "model_module": "@jupyter-widgets/controls",
          "model_name": "ProgressStyleModel",
          "state": {
            "_view_name": "StyleView",
            "_model_name": "ProgressStyleModel",
            "description_width": "",
            "_view_module": "@jupyter-widgets/base",
            "_model_module_version": "1.5.0",
            "_view_count": null,
            "_view_module_version": "1.2.0",
            "bar_color": null,
            "_model_module": "@jupyter-widgets/controls"
          }
        },
        "c6a3479070fd4e678c0612ef58cde193": {
          "model_module": "@jupyter-widgets/base",
          "model_name": "LayoutModel",
          "state": {
            "_view_name": "LayoutView",
            "grid_template_rows": null,
            "right": null,
            "justify_content": null,
            "_view_module": "@jupyter-widgets/base",
            "overflow": null,
            "_model_module_version": "1.2.0",
            "_view_count": null,
            "flex_flow": null,
            "width": null,
            "min_width": null,
            "border": null,
            "align_items": null,
            "bottom": null,
            "_model_module": "@jupyter-widgets/base",
            "top": null,
            "grid_column": null,
            "overflow_y": null,
            "overflow_x": null,
            "grid_auto_flow": null,
            "grid_area": null,
            "grid_template_columns": null,
            "flex": null,
            "_model_name": "LayoutModel",
            "justify_items": null,
            "grid_row": null,
            "max_height": null,
            "align_content": null,
            "visibility": null,
            "align_self": null,
            "height": null,
            "min_height": null,
            "padding": null,
            "grid_auto_rows": null,
            "grid_gap": null,
            "max_width": null,
            "order": null,
            "_view_module_version": "1.2.0",
            "grid_template_areas": null,
            "object_position": null,
            "object_fit": null,
            "grid_auto_columns": null,
            "margin": null,
            "display": null,
            "left": null
          }
        },
        "882beabd62824f1980112b80c6a0522f": {
          "model_module": "@jupyter-widgets/controls",
          "model_name": "VBoxModel",
          "state": {
            "_view_name": "VBoxView",
            "_dom_classes": [],
            "_model_name": "VBoxModel",
            "_view_module": "@jupyter-widgets/controls",
            "_model_module_version": "1.5.0",
            "_view_count": null,
            "_view_module_version": "1.5.0",
            "box_style": "",
            "layout": "IPY_MODEL_f6bbf6347e344eac839fa9433c087d9f",
            "_model_module": "@jupyter-widgets/controls",
            "children": [
              "IPY_MODEL_ece03f6d6eaf4c6d960be42323fba47d",
              "IPY_MODEL_b92b11ef422b410c9f72515b6b577b1d"
            ]
          }
        },
        "f6bbf6347e344eac839fa9433c087d9f": {
          "model_module": "@jupyter-widgets/base",
          "model_name": "LayoutModel",
          "state": {
            "_view_name": "LayoutView",
            "grid_template_rows": null,
            "right": null,
            "justify_content": null,
            "_view_module": "@jupyter-widgets/base",
            "overflow": null,
            "_model_module_version": "1.2.0",
            "_view_count": null,
            "flex_flow": null,
            "width": null,
            "min_width": null,
            "border": null,
            "align_items": null,
            "bottom": null,
            "_model_module": "@jupyter-widgets/base",
            "top": null,
            "grid_column": null,
            "overflow_y": null,
            "overflow_x": null,
            "grid_auto_flow": null,
            "grid_area": null,
            "grid_template_columns": null,
            "flex": null,
            "_model_name": "LayoutModel",
            "justify_items": null,
            "grid_row": null,
            "max_height": null,
            "align_content": null,
            "visibility": null,
            "align_self": null,
            "height": null,
            "min_height": null,
            "padding": null,
            "grid_auto_rows": null,
            "grid_gap": null,
            "max_width": null,
            "order": null,
            "_view_module_version": "1.2.0",
            "grid_template_areas": null,
            "object_position": null,
            "object_fit": null,
            "grid_auto_columns": null,
            "margin": null,
            "display": null,
            "left": null
          }
        },
        "ece03f6d6eaf4c6d960be42323fba47d": {
          "model_module": "@jupyter-widgets/controls",
          "model_name": "LabelModel",
          "state": {
            "_view_name": "LabelView",
            "style": "IPY_MODEL_44a0360ab1dd4050841d49d77b329b1e",
            "_dom_classes": [],
            "description": "",
            "_model_name": "LabelModel",
            "placeholder": "​",
            "_view_module": "@jupyter-widgets/controls",
            "_model_module_version": "1.5.0",
            "value": " 10.54MB of 10.54MB uploaded (0.00MB deduped)\r",
            "_view_count": null,
            "_view_module_version": "1.5.0",
            "description_tooltip": null,
            "_model_module": "@jupyter-widgets/controls",
            "layout": "IPY_MODEL_fbd9568d641945a09dd9d83b30235531"
          }
        },
        "b92b11ef422b410c9f72515b6b577b1d": {
          "model_module": "@jupyter-widgets/controls",
          "model_name": "FloatProgressModel",
          "state": {
            "_view_name": "ProgressView",
            "style": "IPY_MODEL_51f2707cca61434585e1364082ddc7f2",
            "_dom_classes": [],
            "description": "",
            "_model_name": "FloatProgressModel",
            "bar_style": "",
            "max": 1,
            "_view_module": "@jupyter-widgets/controls",
            "_model_module_version": "1.5.0",
            "value": 1,
            "_view_count": null,
            "_view_module_version": "1.5.0",
            "orientation": "horizontal",
            "min": 0,
            "description_tooltip": null,
            "_model_module": "@jupyter-widgets/controls",
            "layout": "IPY_MODEL_cc1f0722101f49fc82a6eadc30fb1245"
          }
        },
        "44a0360ab1dd4050841d49d77b329b1e": {
          "model_module": "@jupyter-widgets/controls",
          "model_name": "DescriptionStyleModel",
          "state": {
            "_view_name": "StyleView",
            "_model_name": "DescriptionStyleModel",
            "description_width": "",
            "_view_module": "@jupyter-widgets/base",
            "_model_module_version": "1.5.0",
            "_view_count": null,
            "_view_module_version": "1.2.0",
            "_model_module": "@jupyter-widgets/controls"
          }
        },
        "fbd9568d641945a09dd9d83b30235531": {
          "model_module": "@jupyter-widgets/base",
          "model_name": "LayoutModel",
          "state": {
            "_view_name": "LayoutView",
            "grid_template_rows": null,
            "right": null,
            "justify_content": null,
            "_view_module": "@jupyter-widgets/base",
            "overflow": null,
            "_model_module_version": "1.2.0",
            "_view_count": null,
            "flex_flow": null,
            "width": null,
            "min_width": null,
            "border": null,
            "align_items": null,
            "bottom": null,
            "_model_module": "@jupyter-widgets/base",
            "top": null,
            "grid_column": null,
            "overflow_y": null,
            "overflow_x": null,
            "grid_auto_flow": null,
            "grid_area": null,
            "grid_template_columns": null,
            "flex": null,
            "_model_name": "LayoutModel",
            "justify_items": null,
            "grid_row": null,
            "max_height": null,
            "align_content": null,
            "visibility": null,
            "align_self": null,
            "height": null,
            "min_height": null,
            "padding": null,
            "grid_auto_rows": null,
            "grid_gap": null,
            "max_width": null,
            "order": null,
            "_view_module_version": "1.2.0",
            "grid_template_areas": null,
            "object_position": null,
            "object_fit": null,
            "grid_auto_columns": null,
            "margin": null,
            "display": null,
            "left": null
          }
        },
        "51f2707cca61434585e1364082ddc7f2": {
          "model_module": "@jupyter-widgets/controls",
          "model_name": "ProgressStyleModel",
          "state": {
            "_view_name": "StyleView",
            "_model_name": "ProgressStyleModel",
            "description_width": "",
            "_view_module": "@jupyter-widgets/base",
            "_model_module_version": "1.5.0",
            "_view_count": null,
            "_view_module_version": "1.2.0",
            "bar_color": null,
            "_model_module": "@jupyter-widgets/controls"
          }
        },
        "cc1f0722101f49fc82a6eadc30fb1245": {
          "model_module": "@jupyter-widgets/base",
          "model_name": "LayoutModel",
          "state": {
            "_view_name": "LayoutView",
            "grid_template_rows": null,
            "right": null,
            "justify_content": null,
            "_view_module": "@jupyter-widgets/base",
            "overflow": null,
            "_model_module_version": "1.2.0",
            "_view_count": null,
            "flex_flow": null,
            "width": null,
            "min_width": null,
            "border": null,
            "align_items": null,
            "bottom": null,
            "_model_module": "@jupyter-widgets/base",
            "top": null,
            "grid_column": null,
            "overflow_y": null,
            "overflow_x": null,
            "grid_auto_flow": null,
            "grid_area": null,
            "grid_template_columns": null,
            "flex": null,
            "_model_name": "LayoutModel",
            "justify_items": null,
            "grid_row": null,
            "max_height": null,
            "align_content": null,
            "visibility": null,
            "align_self": null,
            "height": null,
            "min_height": null,
            "padding": null,
            "grid_auto_rows": null,
            "grid_gap": null,
            "max_width": null,
            "order": null,
            "_view_module_version": "1.2.0",
            "grid_template_areas": null,
            "object_position": null,
            "object_fit": null,
            "grid_auto_columns": null,
            "margin": null,
            "display": null,
            "left": null
          }
        }
      }
    }
  },
  "cells": [
    {
      "cell_type": "markdown",
      "metadata": {
        "id": "view-in-github",
        "colab_type": "text"
      },
      "source": [
        "<a href=\"https://colab.research.google.com/github/CS20M038/CS6910-assignment_3/blob/main/DL_Assignment_3_Arjun_Version.ipynb\" target=\"_parent\"><img src=\"https://colab.research.google.com/assets/colab-badge.svg\" alt=\"Open In Colab\"/></a>"
      ]
    },
    {
      "cell_type": "markdown",
      "metadata": {
        "id": "eZZ6KEDllSsM"
      },
      "source": [
        "#Setting Up the Notebook\n",
        "This section involves the importing of important librabries,setting wandb,checking for GPU and mounting onto the drive."
      ]
    },
    {
      "cell_type": "code",
      "metadata": {
        "id": "FvmZ1iU5yfHl"
      },
      "source": [
        "#import all the libraries that would be used in this notebook\n",
        "import csv\n",
        "import os\n",
        "import numpy as np\n",
        "import pandas as pd\n",
        "import tensorflow as tf\n",
        "from tensorflow import keras\n",
        "from keras import layers\n",
        "from keras.layers.embeddings import Embedding\n",
        "from tensorflow.keras.layers import LSTM,Dense\n",
        "from keras.models import Model\n",
        "from keras.utils.vis_utils import plot_model"
      ],
      "execution_count": 1,
      "outputs": []
    },
    {
      "cell_type": "code",
      "metadata": {
        "colab": {
          "base_uri": "https://localhost:8080/",
          "height": 221
        },
        "id": "V6yiEpEyimkY",
        "outputId": "ec945b6e-227a-45dd-f0f8-7672849ff80b"
      },
      "source": [
        "!pip install wandb -qqq\n",
        "import wandb\n",
        "wandb.login()"
      ],
      "execution_count": 2,
      "outputs": [
        {
          "output_type": "stream",
          "text": [
            "\u001b[K     |████████████████████████████████| 1.8MB 8.0MB/s \n",
            "\u001b[K     |████████████████████████████████| 133kB 56.4MB/s \n",
            "\u001b[K     |████████████████████████████████| 174kB 43.6MB/s \n",
            "\u001b[K     |████████████████████████████████| 102kB 12.8MB/s \n",
            "\u001b[K     |████████████████████████████████| 71kB 10.5MB/s \n",
            "\u001b[?25h  Building wheel for pathtools (setup.py) ... \u001b[?25l\u001b[?25hdone\n",
            "  Building wheel for subprocess32 (setup.py) ... \u001b[?25l\u001b[?25hdone\n"
          ],
          "name": "stdout"
        },
        {
          "output_type": "display_data",
          "data": {
            "application/javascript": [
              "\n",
              "        window._wandbApiKey = new Promise((resolve, reject) => {\n",
              "            function loadScript(url) {\n",
              "            return new Promise(function(resolve, reject) {\n",
              "                let newScript = document.createElement(\"script\");\n",
              "                newScript.onerror = reject;\n",
              "                newScript.onload = resolve;\n",
              "                document.body.appendChild(newScript);\n",
              "                newScript.src = url;\n",
              "            });\n",
              "            }\n",
              "            loadScript(\"https://cdn.jsdelivr.net/npm/postmate/build/postmate.min.js\").then(() => {\n",
              "            const iframe = document.createElement('iframe')\n",
              "            iframe.style.cssText = \"width:0;height:0;border:none\"\n",
              "            document.body.appendChild(iframe)\n",
              "            const handshake = new Postmate({\n",
              "                container: iframe,\n",
              "                url: 'https://wandb.ai/authorize'\n",
              "            });\n",
              "            const timeout = setTimeout(() => reject(\"Couldn't auto authenticate\"), 5000)\n",
              "            handshake.then(function(child) {\n",
              "                child.on('authorize', data => {\n",
              "                    clearTimeout(timeout)\n",
              "                    resolve(data)\n",
              "                });\n",
              "            });\n",
              "            })\n",
              "        });\n",
              "    "
            ],
            "text/plain": [
              "<IPython.core.display.Javascript object>"
            ]
          },
          "metadata": {
            "tags": []
          }
        },
        {
          "output_type": "stream",
          "text": [
            "\u001b[34m\u001b[1mwandb\u001b[0m: You can find your API key in your browser here: https://wandb.ai/authorize\n"
          ],
          "name": "stderr"
        },
        {
          "output_type": "stream",
          "text": [
            "wandb: Paste an API key from your profile and hit enter: ··········\n"
          ],
          "name": "stdout"
        },
        {
          "output_type": "stream",
          "text": [
            "\u001b[34m\u001b[1mwandb\u001b[0m: Appending key for api.wandb.ai to your netrc file: /root/.netrc\n"
          ],
          "name": "stderr"
        },
        {
          "output_type": "execute_result",
          "data": {
            "text/plain": [
              "True"
            ]
          },
          "metadata": {
            "tags": []
          },
          "execution_count": 2
        }
      ]
    },
    {
      "cell_type": "code",
      "metadata": {
        "colab": {
          "base_uri": "https://localhost:8080/"
        },
        "id": "TQsnGeZKfcY0",
        "outputId": "8a08d836-316e-43a8-af01-0cdd1b3f8499"
      },
      "source": [
        "# to mount to the drive\n",
        "from google.colab import drive\n",
        "drive.mount('/content/drive')"
      ],
      "execution_count": 2,
      "outputs": [
        {
          "output_type": "stream",
          "text": [
            "Mounted at /content/drive\n"
          ],
          "name": "stdout"
        }
      ]
    },
    {
      "cell_type": "code",
      "metadata": {
        "colab": {
          "base_uri": "https://localhost:8080/"
        },
        "id": "DYk1NQ0rArPL",
        "outputId": "adffbcb4-02fd-4f3c-ced4-12d7902a3675"
      },
      "source": [
        "device_name = tf.test.gpu_device_name()\n",
        "if device_name != '/device:GPU:0':\n",
        "  print('GPU device not found')\n",
        "else:\n",
        "  print('Found GPU at: {}'.format(device_name))"
      ],
      "execution_count": 3,
      "outputs": [
        {
          "output_type": "stream",
          "text": [
            "GPU device not found\n"
          ],
          "name": "stdout"
        }
      ]
    },
    {
      "cell_type": "markdown",
      "metadata": {
        "id": "cuHiZk1MjTkK"
      },
      "source": [
        "# Loading Data and Preprocessing "
      ]
    },
    {
      "cell_type": "code",
      "metadata": {
        "id": "WXE2OtCp8e_4"
      },
      "source": [
        "#make sure to upload the Dakshina Dataset in your drive and name the folder as Dakshina_Dataset\n",
        "dakshina_dataset_hindi = '/content/drive/MyDrive/Dakshina_Dataset/hi/lexicons'"
      ],
      "execution_count": 4,
      "outputs": []
    },
    {
      "cell_type": "code",
      "metadata": {
        "id": "T46N4HDdid3g"
      },
      "source": [
        "#all the dataset paths\n",
        "dev_dataset_path = os.path.join(dakshina_dataset_hindi,\"hi.translit.sampled.dev.tsv\")\n",
        "train_dataset_path = os.path.join(dakshina_dataset_hindi,\"hi.translit.sampled.train.tsv\")\n",
        "test_dataset_path = os.path.join(dakshina_dataset_hindi,\"hi.translit.sampled.test.tsv\")"
      ],
      "execution_count": 5,
      "outputs": []
    },
    {
      "cell_type": "code",
      "metadata": {
        "id": "PGPG6ZxH9nlE"
      },
      "source": [
        "#function to load the dataset from the dataset path\n",
        "def load_dataset(path,test_dataset = False):\n",
        "    dataset = open(path)\n",
        "    read_dataset = csv.reader(dataset,delimiter = '\\t')\n",
        "    x = []\n",
        "    y = []\n",
        "    for row in read_dataset:\n",
        "        x.append(row[1])\n",
        "        if test_dataset:\n",
        "            y.append(row[0])\n",
        "        else:\n",
        "            y.append(\"\\t\"+row[0]+'\\n')\n",
        "\n",
        "    return np.array(x),np.array(y)\n"
      ],
      "execution_count": 6,
      "outputs": []
    },
    {
      "cell_type": "code",
      "metadata": {
        "id": "c_ZVvh2rjPT1"
      },
      "source": [
        "x_raw_train,y_raw_train = load_dataset(train_dataset_path,False)\n",
        "x_raw_val,y_raw_val = load_dataset(dev_dataset_path,True)\n",
        "x_raw_test,y_raw_test = load_dataset(test_dataset_path,True)"
      ],
      "execution_count": 7,
      "outputs": []
    },
    {
      "cell_type": "code",
      "metadata": {
        "id": "pVR6TsUuj9Wl"
      },
      "source": [
        "english_alphabets = 'abcdefghijklmnopqrstuvwxyz'\n",
        "english_alpha2index = {\"PAD\": 0}\n",
        "for index,alpha in enumerate(english_alphabets):\n",
        "    english_alpha2index[alpha] = index + 1\n",
        "\n",
        "hindi_alphabets = [chr(alpha) for alpha in range(2304, 2432)]\n",
        "hindi_alphabets.append('\\t')\n",
        "hindi_alphabets.append('\\n')\n",
        "\n",
        "hindi_alpha2index = {\"PAD\" : 0}\n",
        "for index,alpha in enumerate(hindi_alphabets):\n",
        "    hindi_alpha2index[alpha] = index + 1\n",
        "\n",
        "english_index2alpha = {0: \"PAD\"}\n",
        "hindi_index2alpha = {0: \"PAD\"}\n",
        "\n",
        "\n",
        "for index,alpha in enumerate(english_alphabets):\n",
        "    english_index2alpha[index + 1] = alpha\n",
        "\n",
        "for index,alpha in enumerate(hindi_alphabets):\n",
        "    hindi_index2alpha[index + 1] = alpha\n"
      ],
      "execution_count": 8,
      "outputs": []
    },
    {
      "cell_type": "code",
      "metadata": {
        "id": "AtSXANSvQRE1"
      },
      "source": [
        "def get_integer_encode(word,alpha2index,max_length = 25):\n",
        "    integer_encode = np.zeros((max_length,),dtype='int')\n",
        "    for index,alpha in enumerate(word):\n",
        "        integer_encode[index] = alpha2index[alpha]\n",
        "    return integer_encode\n",
        "\n",
        "def get_word_decode(integer_encoded,index2alpha):\n",
        "    \n",
        "    word = \"\"\n",
        "    for integer in integer_encoded:\n",
        "        word += index2alpha[integer]\n",
        "    return word\n",
        "\n",
        "\n",
        "def encode_docs(docs,alpha2index,max_length = 25):\n",
        "    encoded_docs = np.zeros((docs.shape[0],max_length),dtype='int')\n",
        "    for index,word in enumerate(docs):\n",
        "        encoded_docs[index] = get_integer_encode(word,alpha2index)\n",
        "    return encoded_docs\n",
        "\n"
      ],
      "execution_count": 9,
      "outputs": []
    },
    {
      "cell_type": "code",
      "metadata": {
        "id": "l-RARFzyS_lY"
      },
      "source": [
        "integer_encoded_x_train = encode_docs(x_raw_train,english_alpha2index)\n",
        "integer_encoded_y_train = encode_docs(y_raw_train,hindi_alpha2index)"
      ],
      "execution_count": 10,
      "outputs": []
    },
    {
      "cell_type": "code",
      "metadata": {
        "id": "gpCierShU1Tl"
      },
      "source": [
        "decoder_input_data = np.zeros((integer_encoded_y_train.shape[0],25,len(hindi_alpha2index)),dtype=\"float32\")\n",
        "decoder_output_data = np.zeros((integer_encoded_y_train.shape[0],25,len(hindi_alpha2index)),dtype=\"float32\")\n",
        "\n",
        "for i,integer_encoded_data in enumerate(integer_encoded_y_train):\n",
        "    for t,integer in enumerate(integer_encoded_data):\n",
        "        decoder_input_data[i, t, integer]= 1.0\n",
        "        if t > 0:\n",
        "            decoder_output_data[i, t - 1, integer] = 1.0"
      ],
      "execution_count": 11,
      "outputs": []
    },
    {
      "cell_type": "code",
      "metadata": {
        "id": "HbKvHQ_cTDuA"
      },
      "source": [
        "integer_encoded_x_val = encode_docs(x_raw_val,english_alpha2index)\n",
        "integer_encoded_y_val = encode_docs(y_raw_val,hindi_alpha2index)"
      ],
      "execution_count": 12,
      "outputs": []
    },
    {
      "cell_type": "code",
      "metadata": {
        "id": "JUpFAYu3TMHs"
      },
      "source": [
        "decoder_input_val = np.zeros((integer_encoded_y_val.shape[0],25,len(hindi_alpha2index)),dtype=\"float32\")\n",
        "decoder_output_val = np.zeros((integer_encoded_y_val.shape[0],25,len(hindi_alpha2index)),dtype=\"float32\")\n",
        "\n",
        "for i,integer_encoded_data in enumerate(integer_encoded_y_val):\n",
        "    for t,integer in enumerate(integer_encoded_data):\n",
        "        decoder_input_val[i, t, integer]= 1.0\n",
        "        if t > 0:\n",
        "            decoder_output_val[i, t - 1, integer] = 1.0"
      ],
      "execution_count": 13,
      "outputs": []
    },
    {
      "cell_type": "markdown",
      "metadata": {
        "id": "rlpmNQYHkw-f"
      },
      "source": [
        "# The Generic RNN Class"
      ]
    },
    {
      "cell_type": "code",
      "metadata": {
        "id": "b5Yo5nQPopVL"
      },
      "source": [
        "class RNN():\n",
        "\n",
        "    def __init__(self,embedding_size,num_encoder_layers,num_decoder_layers,hidden_layer_size,cell_type,drop_out_ratio,in_char_size,out_char_size,input_len = 25):\n",
        "\n",
        "        self.embedding_size = embedding_size\n",
        "        self.num_encoder_layers = num_encoder_layers\n",
        "        self.num_decoder_layers = num_decoder_layers\n",
        "        self.hidden_layer_size = hidden_layer_size\n",
        "        self.cell_type = cell_type\n",
        "        self.drop_out_ratio = drop_out_ratio\n",
        "        self.in_char_size = in_char_size\n",
        "        self.out_char_size = out_char_size\n",
        "        self.input_len = input_len\n",
        "\n",
        "        self._build_rnn_network()\n",
        "\n",
        "    def _build_rnn_network(self):\n",
        "\n",
        "        # Embedding \n",
        "        embedding_inputs = keras.Input(shape=(None,))\n",
        "        embedding_layer = Embedding(self.in_char_size, self.embedding_size , input_length=self.input_len)\n",
        "        encoder_inputs = embedding_layer(embedding_inputs)\n",
        "\n",
        "        #Encoder\n",
        "\n",
        "        self.encoder_layers = []\n",
        "        for _ in range(self.num_encoder_layers-1):\n",
        "            encoder_layer = getattr(layers,self.cell_type)(self.hidden_layer_size, dropout=self.drop_out_ratio, return_sequences=True)\n",
        "            encoder_inputs = encoder_layer(encoder_inputs)\n",
        "            self.encoder_layers.append(encoder_layer)\n",
        "\n",
        "        last_encoder_layer = getattr(layers,self.cell_type)(self.hidden_layer_size, dropout=self.drop_out_ratio, return_state=True)\n",
        "        encoder_outputs,*encoder_states = last_encoder_layer(encoder_inputs)\n",
        "        self.encoder_layers.append(last_encoder_layer)\n",
        "\n",
        "        #Decoder\n",
        "        initial_decoder_inputs = keras.Input(shape=(None, self.out_char_size))\n",
        "        decoder_inputs = initial_decoder_inputs\n",
        "\n",
        "        self.decoder_layers = []\n",
        "\n",
        "        for _ in range(self.num_decoder_layers):\n",
        "\n",
        "            decoder_layer = getattr(layers,self.cell_type)(self.hidden_layer_size, dropout=self.drop_out_ratio, return_sequences=True,return_state=True)\n",
        "            decoder_inputs,*decoder_states = decoder_layer(decoder_inputs,initial_state=encoder_states)\n",
        "            self.decoder_layers.append(decoder_layer)\n",
        "\n",
        "        decoder_outputs = decoder_inputs\n",
        "        decoder_dense = Dense(self.out_char_size, activation=\"softmax\")\n",
        "        decoder_outputs = decoder_dense(decoder_outputs)\n",
        "\n",
        "        model = keras.Model([embedding_inputs, initial_decoder_inputs], decoder_outputs) \n",
        "\n",
        "        self.model = model\n",
        "        self.embedding_inputs = embedding_inputs\n",
        "        self.encoder_states = encoder_states\n",
        "        self.decoder_inputs = initial_decoder_inputs\n",
        "        self.decoder_dense = decoder_dense\n",
        "\n",
        "    def compile(self,optimizer=\"rmsprop\"):\n",
        "\n",
        "        self.model.compile(\n",
        "        optimizer=optimizer, loss=\"categorical_crossentropy\", metrics=[\"accuracy\"]\n",
        "        )\n",
        "\n",
        "    def fit(self,encoder_input,decoder_input,decoder_output,batch_size = 64,epochs = 5):\n",
        "        self.model.fit(\n",
        "        [encoder_input, decoder_input],\n",
        "        decoder_output,\n",
        "        batch_size=batch_size,\n",
        "        epochs=epochs,\n",
        "        # callbacks = [wandb.keras.WandbCallback()],\n",
        "        validation_split=0.1\n",
        "        )\n",
        "\n",
        "    def build_inference_model(self):\n",
        "\n",
        "        self.encoder_model = Model(self.embedding_inputs,self.encoder_states)\n",
        "\n",
        "        decoder_state_input = []\n",
        "        for i in range(len(self.encoder_states)) :\n",
        "            new_state = keras.Input(shape=(self.hidden_layer_size,))\n",
        "            decoder_state_input.append(new_state)\n",
        "\n",
        "        initial_decoder_inputs = self.decoder_inputs\n",
        "\n",
        "        decoder_inputs = initial_decoder_inputs\n",
        "        for layer in self.decoder_layers :\n",
        "            decoder_inputs, *decoder_states = layer(decoder_inputs,initial_state=decoder_state_input)\n",
        "\n",
        "        decoder_outputs = decoder_inputs\n",
        "        decoder_outputs = self.decoder_dense(decoder_outputs)\n",
        "\n",
        "        self.decoder_model = Model(\n",
        "            [initial_decoder_inputs] + decoder_state_input,\n",
        "            [decoder_outputs] + decoder_states\n",
        "            )\n",
        "\n",
        "\n",
        "    def _decode_sequence(self,word):\n",
        "\n",
        "        input_seq = get_integer_encode(word,english_alpha2index)\n",
        "        input_seq = input_seq.reshape(1,25)\n",
        "    \n",
        "        states_value = self.encoder_model.predict(input_seq)\n",
        "\n",
        "        target_seq = np.zeros((1,1, len(hindi_alpha2index)))\n",
        "        target_seq[0,0, hindi_alpha2index[\"\\t\"]] = 1.0\n",
        "\n",
        "        decoded_word = \"\"\n",
        "        while True:\n",
        "            output_tokens, *states = self.decoder_model.predict([target_seq] + [states_value])\n",
        "\n",
        "            sampled_token_index = np.argmax(output_tokens[0, -1, :])\n",
        "\n",
        "            sampled_char = hindi_index2alpha[sampled_token_index]\n",
        "        \n",
        "            if sampled_char == \"\\n\" or len(decoded_word) > 25:\n",
        "                break\n",
        "\n",
        "            decoded_word += sampled_char\n",
        "\n",
        "            target_seq = np.zeros((1, 1,len(hindi_alpha2index)))\n",
        "            target_seq[0, 0, sampled_token_index] = 1.0\n",
        "\n",
        "            states_value = [states[i] for i in range(len(states))]\n",
        "\n",
        "        return decoded_word\n",
        "\n",
        "    def evaluate(self,X_test,Y_test):\n",
        "        correct = 0\n",
        "        for english_word,hindi_word in zip(X_test,Y_test):\n",
        "            predicted_hindi_word = self._decode_sequence(english_word)\n",
        "            if predicted_hindi_word == hindi_word:\n",
        "                correct += 1\n",
        "\n",
        "        acc = (correct/X_test.shape[0])*100\n",
        "        return acc\n"
      ],
      "execution_count": 16,
      "outputs": []
    },
    {
      "cell_type": "markdown",
      "metadata": {
        "id": "9zpDtf2kV7TQ"
      },
      "source": [
        "#A Sample Run of the Model"
      ]
    },
    {
      "cell_type": "code",
      "metadata": {
        "id": "2egjoGcjrbsD"
      },
      "source": [
        "hyperparameters = {\n",
        "    \"embedding_size\" : 125,\n",
        "    \"num_encoder_layers\" : 1,\n",
        "    \"num_decoder_layers\" : 1,\n",
        "    \"hidden_layer_size\" : 256,\n",
        "    \"cell_type\" : \"LSTM\",\n",
        "    \"drop_out_ratio\": 0.4,\n",
        "    \"in_char_size\": len(english_alpha2index),\n",
        "    \"out_char_size\": len(hindi_alpha2index),\n",
        "    \"input_len\": 25,\n",
        "    }\n",
        "\n",
        "net = RNN(**hyperparameters)\n"
      ],
      "execution_count": 84,
      "outputs": []
    },
    {
      "cell_type": "code",
      "metadata": {
        "colab": {
          "base_uri": "https://localhost:8080/"
        },
        "id": "34ERBPOM-Ygu",
        "outputId": "91b42cd5-5f66-4099-a552-ea918b02df20"
      },
      "source": [
        "net.compile()\n",
        "net.fit(integer_encoded_x_train, decoder_input_data,decoder_output_data,epochs = 25)"
      ],
      "execution_count": 85,
      "outputs": [
        {
          "output_type": "stream",
          "text": [
            "Epoch 1/25\n",
            "691/691 [==============================] - 11s 12ms/step - loss: 1.1295 - accuracy: 0.7370 - val_loss: 0.7722 - val_accuracy: 0.7994\n",
            "Epoch 2/25\n",
            "691/691 [==============================] - 7s 11ms/step - loss: 0.7803 - accuracy: 0.7937 - val_loss: 0.6081 - val_accuracy: 0.8323\n",
            "Epoch 3/25\n",
            "691/691 [==============================] - 7s 11ms/step - loss: 0.6390 - accuracy: 0.8254 - val_loss: 0.4880 - val_accuracy: 0.8647\n",
            "Epoch 4/25\n",
            "691/691 [==============================] - 7s 11ms/step - loss: 0.5085 - accuracy: 0.8580 - val_loss: 0.3742 - val_accuracy: 0.8920\n",
            "Epoch 5/25\n",
            "691/691 [==============================] - 7s 11ms/step - loss: 0.4062 - accuracy: 0.8827 - val_loss: 0.3133 - val_accuracy: 0.9123\n",
            "Epoch 6/25\n",
            "691/691 [==============================] - 7s 11ms/step - loss: 0.3325 - accuracy: 0.9019 - val_loss: 0.2567 - val_accuracy: 0.9251\n",
            "Epoch 7/25\n",
            "691/691 [==============================] - 7s 10ms/step - loss: 0.2808 - accuracy: 0.9162 - val_loss: 0.2282 - val_accuracy: 0.9321\n",
            "Epoch 8/25\n",
            "691/691 [==============================] - 7s 10ms/step - loss: 0.2431 - accuracy: 0.9267 - val_loss: 0.2074 - val_accuracy: 0.9384\n",
            "Epoch 9/25\n",
            "691/691 [==============================] - 7s 10ms/step - loss: 0.2168 - accuracy: 0.9343 - val_loss: 0.1948 - val_accuracy: 0.9406\n",
            "Epoch 10/25\n",
            "691/691 [==============================] - 7s 10ms/step - loss: 0.1964 - accuracy: 0.9398 - val_loss: 0.1840 - val_accuracy: 0.9443\n",
            "Epoch 11/25\n",
            "691/691 [==============================] - 7s 10ms/step - loss: 0.1786 - accuracy: 0.9448 - val_loss: 0.1807 - val_accuracy: 0.9453\n",
            "Epoch 12/25\n",
            "691/691 [==============================] - 7s 10ms/step - loss: 0.1661 - accuracy: 0.9487 - val_loss: 0.1723 - val_accuracy: 0.9476\n",
            "Epoch 13/25\n",
            "691/691 [==============================] - 7s 10ms/step - loss: 0.1527 - accuracy: 0.9528 - val_loss: 0.1710 - val_accuracy: 0.9483\n",
            "Epoch 14/25\n",
            "691/691 [==============================] - 7s 10ms/step - loss: 0.1440 - accuracy: 0.9556 - val_loss: 0.1726 - val_accuracy: 0.9488\n",
            "Epoch 15/25\n",
            "691/691 [==============================] - 7s 10ms/step - loss: 0.1382 - accuracy: 0.9581 - val_loss: 0.1723 - val_accuracy: 0.9501\n",
            "Epoch 16/25\n",
            "691/691 [==============================] - 7s 10ms/step - loss: 0.1346 - accuracy: 0.9606 - val_loss: 0.1802 - val_accuracy: 0.9498\n",
            "Epoch 17/25\n",
            "691/691 [==============================] - 7s 10ms/step - loss: 0.1331 - accuracy: 0.9627 - val_loss: 0.1760 - val_accuracy: 0.9506\n",
            "Epoch 18/25\n",
            "691/691 [==============================] - 7s 10ms/step - loss: 0.1304 - accuracy: 0.9643 - val_loss: 0.1844 - val_accuracy: 0.9498\n",
            "Epoch 19/25\n",
            "691/691 [==============================] - 7s 10ms/step - loss: 0.1264 - accuracy: 0.9659 - val_loss: 0.1919 - val_accuracy: 0.9499\n",
            "Epoch 20/25\n",
            "691/691 [==============================] - 7s 10ms/step - loss: 0.1204 - accuracy: 0.9677 - val_loss: 0.1871 - val_accuracy: 0.9503\n",
            "Epoch 21/25\n",
            "691/691 [==============================] - 7s 10ms/step - loss: 0.1159 - accuracy: 0.9690 - val_loss: 0.1871 - val_accuracy: 0.9513\n",
            "Epoch 22/25\n",
            "691/691 [==============================] - 7s 10ms/step - loss: 0.1117 - accuracy: 0.9704 - val_loss: 0.1882 - val_accuracy: 0.9501\n",
            "Epoch 23/25\n",
            "691/691 [==============================] - 7s 10ms/step - loss: 0.1075 - accuracy: 0.9719 - val_loss: 0.1915 - val_accuracy: 0.9503\n",
            "Epoch 24/25\n",
            "691/691 [==============================] - 7s 10ms/step - loss: 0.1034 - accuracy: 0.9729 - val_loss: 0.1946 - val_accuracy: 0.9502\n",
            "Epoch 25/25\n",
            "691/691 [==============================] - 7s 11ms/step - loss: 0.0992 - accuracy: 0.9744 - val_loss: 0.1989 - val_accuracy: 0.9507\n"
          ],
          "name": "stdout"
        }
      ]
    },
    {
      "cell_type": "code",
      "metadata": {
        "id": "vxCoWAj-DMtg"
      },
      "source": [
        "net.build_inference_model()"
      ],
      "execution_count": 86,
      "outputs": []
    },
    {
      "cell_type": "code",
      "metadata": {
        "colab": {
          "base_uri": "https://localhost:8080/"
        },
        "id": "jSKrqPNNDWgP",
        "outputId": "187073cf-caaa-4ee8-c5c5-899d27b89a24"
      },
      "source": [
        "net.evaluate(x_raw_val,y_raw_val)"
      ],
      "execution_count": 92,
      "outputs": [
        {
          "output_type": "stream",
          "text": [
            "patila  पतीला  पतिला\n",
            "nakum  नकुम  नाकुम\n",
            "punaravalokan  पुनरावलोकन  पुनरावलों\n",
            "rajkaran  राजकरण  राजकरण\n",
            "hitake  हाईटेक  हितके\n",
            "shyamdas  श्यामदास  श्यामद्स\n",
            "rasna  रसना  रसन्ना\n",
            "celina  सेलीना  सेलिना\n",
            "cricketeron  क्रिकेटरों  क्रिक्टरों\n",
            "orlando  ओरलैंडो  ऑर्लेंडो\n",
            "gangabai  गंगाबाई  गंगाबाई\n",
            "thanks  थैंक्स  ठंक्स\n",
            "najar  नजर  नज़र\n",
            "duptta  दुपट्टा  दुप्ता\n",
            "darvaajaa  दरवाजा  दरवाजा\n",
            "typhoon  टाइफून  तिप्ण\n",
            "marte  मारते  मारते\n",
            "interpol  इंटरपोल  इंटरपोल\n",
            "chhedte  छेड़ते  छेड़ते\n",
            "sampradayikata  सांप्रदायिकता  संप्रदायिकता\n",
            "hansda  हंसदा  हंसदा\n",
            "kavval  कव्वाल  काववाल\n",
            "mansikta  मानसिकता  मानीसिकता\n",
            "dhanarthi  धनार्थी  धनरती\n",
            "riyon  रियान  रियों\n",
            "kanton  कांटों  कंतों\n",
            "gomatinagar  गोमतीनगर  गोमेटनगर\n",
            "startup  स्टार्टअप  स्टार्टप\n",
            "bali  बली  बली\n",
            "jockey  जॉकी  जॉकी\n",
            "sampradayik  सांप्रदायिक  संप्रदायिक\n",
            "ncg  एससीजी  एनएीजी\n",
            "chitthiyon  चिठ्ठियों  चित्तियों\n",
            "dhoondhte  ढूंढते  ढूंडते\n",
            "profesion  प्रोफेशन  प्रोफ़ीशन\n",
            "vipreet  विपरीत  विप्रेत\n",
            "indy  इंडी  इंडी\n",
            "baikunth  बैकुंठ  बेनुंता\n",
            "deghat  देघाट  देघात\n",
            "judge  जज  जुड़े\n",
            "rehayashi  रिहायशी  रेहाशी\n",
            "aasheervachan  आशीर्वचन  आशिर्षण\n",
            "anadarana  अनादरण  अनाराना\n",
            "aparamprik  अपारंपरिक  अपरंस्विक\n",
            "yakarman  एकरमैन  यकार्मण\n",
            "pavel  पॉवेल  पेवल\n",
            "dilayi  दिलायी  दिलाई\n",
            "pachranga  पचरंगा  पछारंगा\n",
            "vishleshanon  विश्लेषणों  विश्लेषों\n",
            "tapman  तापमान  ताममान\n",
            "agrata  अग्रता  अग्रता\n",
            "chhidi  छिड़ी  छिड़ी\n",
            "dimagi  दिमागी  दीमागी\n",
            "sodon  सौदों  सोदों\n",
            "chaunkti  चौंकती  चौंकती\n",
            "jivantata  जीवंतता  जीवंता\n",
            "motipur  मोतीपुर  मोतिपुर\n",
            "daalti  डालती  दालती\n",
            "saptarshi  सप्तर्षि  सप्तराशी\n",
            "ruturaj  ऋतुराज  रुतुराज\n",
            "raghukul  रघुकुल  रघुकुल\n",
            "sumantra  सुमंत्र  सुमानत्र\n",
            "chhidaa  छिड़ा  छिड़ा\n",
            "pehlavi  पहलवी  पहलवाई\n",
            "janjevan  जनजीवन  जानजेवन\n",
            "pichhad  पिछड़  पिछड़\n",
            "dharma  धर्मा  धर्मा\n",
            "anjam  अंजाम  अंजम\n",
            "praachinatam  प्राचीनतम  प्राचीनता\n",
            "badhaani  बढ़ानी  बढ़ानी\n",
            "bager  बग़ैर  बागेर\n",
            "laybaddh  लयबद्ध  लायबद्ध\n",
            "upadeshakon  उपदेशकों  उपदेशकों\n",
            "mangwana  मंगवाना  मंगवाना\n",
            "majedar  मजेदार  मजेदार\n",
            "sharir  शरीर  शरीर\n",
            "yogaphal  योगफल  योगपाल\n",
            "kalis  कालिस  कालिस\n",
            "andhera  अंधेरा  अंधरा\n",
            "sidan  सीडान  सिदान\n",
            "abhinatri  अभिनत्री  अभिनत्री\n",
            "age  ऐज  आगे\n",
            "pixel  पिक्सेल  पिक्सल\n",
            "voice  वॉयस  वॉइस\n",
            "upmanyu  उपमन्यु  उपमायु\n",
            "chhach  छाछ  छा\n",
            "leader  लीडर  लेडर\n",
            "dhut  धुत  धूत\n",
            "julana  जुलना  जुलना\n",
            "dhakna  ढकना  ढकना\n",
            "sudan  सूडान  सुदन\n",
            "avastweak  अवास्तविक  अवस्तवापी\n",
            "rasanaa  रसना  रसना\n",
            "tapasvini  तपस्विनी  तपस्विनी\n",
            "semi  सेमी  सेमी\n",
            "akaash  अकाश  अकाश\n",
            "niveshit  निवेशित  निवेशित\n",
            "hold  होल्ड  होल्ड\n",
            "phte  फटे  फीटे\n",
            "galatfahmiyon  गलतफहमियों  गलतद्पामियों\n",
            "pratispardhaein  प्रतिस्पर्धाएं  प्रतिस्पार्याओं\n",
            "ozal  ओझल  ओजल\n",
            "manonyan  मनोनयन  मनोनियां\n",
            "labh  लभ  लाभ\n",
            "jajapur  जाजपुर  जजपूर\n",
            "urwarkata  उर्वरकता  उर्करकाता\n",
            "mahaul  माहौल  महौल\n",
            "bataunga  बताऊंगा  बटौंगा\n",
            "jaiswal  जयसवाल  जैससाल\n",
            "bandhu  बंधु  बंधु\n",
            "terence  टेरेंस  टेरेंस\n",
            "chare  चारे  चरे\n",
            "mandarin  मैंडरिन  मांडरिन\n",
            "kamariya  कमरिया  कमारिया\n",
            "attention  अटेंशन  अटेंटन\n",
            "rakhoge  रखोगे  रखोंगे\n",
            "arendi  अरंडी  एरेंडी\n",
            "draupadi  द्रोपदी  द्रौपदी\n",
            "muchlka  मुचलका  मुच्लका\n",
            "nijaampur  निजामपुर  निजामपुर\n",
            "karnafool  कर्णफूल  करणबूल\n",
            "tabssum  तबस्सुम  तैस्सम\n",
            "babe  बेब  बेब\n",
            "parivartanshil  परिवर्तनशील  परिवर्तनशील\n",
            "neelaambar  नीलांबर  नीलांफर\n",
            "koshikiya  कोशिकीय  कोशिकिया\n",
            "avarohi  अवरोही  अवरोही\n",
            "nabaleeg  नाबालिग  नबालिल\n",
            "python  पायथन  पिथों\n",
            "kutunmbakam  कुटुंबकम्  कुटुनंजमन\n",
            "nivarniy  निवारणीय  निवारियो\n",
            "sindhugosh  सिंधुघोष  सिंहोग्श\n",
            "mongolian  मंगोलियन  मोंगोलियन\n",
            "jansngh  जनसंघ  जनसंग\n",
            "jalanjali  जलांजलि  जलंल्याई\n",
            "jaaniye  जानिए  जानिये\n",
            "priest  प्रीस्ट  प्रिस्ट\n",
            "piere  पियरे  पायरे\n",
            "khajana  ख़ज़ाना  खजाना\n",
            "besure  बेसुरे  बेसूर\n",
            "shrarton  शरारतों  शररत्रों\n",
            "saptarishi  सप्तर्षि  सप्तऋषि\n",
            "slaai  सलाई  स्लाई\n",
            "robert  रोबर्ट  रॉबर्ट\n",
            "laatey  लाते  लाटे\n",
            "asthetics  एस्थेटिक्स  अस्टेटिक्स\n",
            "dukanen  दुकानें  दुकानें\n",
            "haashmi  हाश्मी  हाशमी\n",
            "farishtey  फरिश्ते  फरिश्टी\n",
            "alagaavavaada  अलगाववाद  अलागववादा\n",
            "domen  डोमेन  डोमें\n",
            "sanskaarit  संस्कारित  संस्कृत\n",
            "prachintam  प्राचीनतम  प्राचिनतम\n",
            "bradli  ब्रैडली  ब्राली\n",
            "odisa  उड़िसा  ऑडिसा\n",
            "rudhir  रूधिर  रुढ़िर\n",
            "akhbaro  अखबारो  अख़बारों\n",
            "pankchar  पंक्चर  पंखचर\n",
            "evo  एवो  ईवो\n",
            "manjile  मंजिले  मांजीले\n",
            "menu  मैन्यू  मेनू\n",
            "likhane  लिखने  लिखाने\n",
            "malikana  मालिकाना  मालिकाना\n",
            "chahchahahat  चहचहाहट  चहचहचाथ्\n",
            "raakh  राख  राख\n",
            "grain  ग्रैन  ग्रेन\n",
            "hawaas  हवास  हवास\n",
            "dal  दल  डाल\n",
            "gangabaai  गंगाबाई  गंगाबाई\n",
            "hatya  हत्था  हत्या\n",
            "bheetar  भीतर  भीतर\n",
            "dilvaaye  दिलवाए  दिलवाएं\n",
            "rengagti  रेंगती  रेंगटिंगे\n",
            "mahashay  महाशय  महाशाय\n",
            "khabbu  खब्बू  खब्बू\n",
            "paran  परण  परण\n",
            "morkkan  मोरक्कन  मोर्क्णा\n",
            "misalein  मिसालें  मिसाइलें\n",
            "etresiya  एट्रेसिया  एटरीयियाई\n",
            "mahashaye  महाशय  महाशाएं\n",
            "project  प्रोजैक्ट  प्रोजेक्ट\n",
            "viprit  विपरीत  विपरित\n",
            "satnaam  सतनाम  सत्नाम\n",
            "suraji  सुराजी  सुरजी\n",
            "associationon  एसोसिएशनों  एसोसिएशनों\n",
            "dimagon  दिमागों  दीमागों\n",
            "sm  एसएम  एसएम\n",
            "congestion  कंजेशन  कांसेशन\n",
            "bariya  बारिया  बारिया\n",
            "vastvikata  वास्तविकता  वास्तविकता\n",
            "answer  आंसर  अंस्वर\n",
            "rajbagh  राजबाग  राजगढ़\n",
            "guptkal  गुप्तकाल  गुप्तकाल\n",
            "vicharane  विचारने  विचारने\n",
            "parasnath  पारसनाथ  परासनोथ\n",
            "chehra  चहरा  चेहरा\n",
            "chiththa  चित्त  चित्ठा\n",
            "najrie  नजरिए  नजरी\n",
            "mansikata  मानसिकता  मानीककता\n",
            "sankalpana  संकल्पना  संकल्पना\n",
            "balaon  बालाओं  बालाओं\n",
            "shuraat  शुरुवात  शुरात\n",
            "shaskiy  शासकीय  शास्किया\n",
            "alex  एलेक्स  अलेक्स\n",
            "algu  अलगू  अल्गू\n",
            "ambar  अंबर  अम्बर\n",
            "boil  बॉयल  बॉयल\n",
            "mahabharat  महाभारत  महाभार्त\n",
            "pulser  पल्सर  पुलर्स\n",
            "haklate  हकलाते  हज्लते\n",
            "balat  बलात  बालत\n",
            "udairaj  उदयराज  उदयराज\n",
            "maurya  मौर्य  मौर्य\n",
            "pucl  पीयूसीएल  पुस्ल\n",
            "maidrik  मौद्रिक  मैद्रिक\n",
            "dhoondhate  ढूंढते  ढूंठाे\n",
            "jiyanpur  जीयनपुर  जीयापुर\n",
            "switched  स्विच्ड  स्वीटेड\n",
            "taraashne  तराशने  तराशने\n",
            "aramco  अरामको  आरामम\n",
            "archer  आर्चर  आर्कर\n",
            "skoop  स्कूप  स्कूप\n",
            "parvaan  परवान  परवान\n",
            "aadhunikikaran  आधुनिकीकरण  आधुनिकरणार\n",
            "kitni  कितनी  कितनी\n",
            "ugaati  उगती  उगती\n",
            "gunbot  गनबोट  गुंबोट\n",
            "chahega  चाहेगा  चाहेगा\n",
            "gandak  गंडक  गंदक\n",
            "krishnam  कृष्णम  कृष्णम\n",
            "aadambaron  आडंबरों  आदंबारों\n",
            "naxalvaadiyon  नक्सलवादियों  नकलवालियों\n",
            "janmashati  जन्मशती  जन्माष्टी\n",
            "achyutanand  अच्युतानंद  अछूत्मंगन\n",
            "utc  यूटीसी  अट\n",
            "sauharda  सौहार्द  सौहार्दा\n",
            "ropad  रोपड़  रोपाड़\n",
            "viewer  व्यूअर  व्यूवर\n",
            "peeskar  पीसकर  पीसकर\n",
            "tareef  तारीफ़  तारीफ\n",
            "bataayegi  बताएगी  बताएगी\n",
            "itemon  आइटमों  इतेनों\n",
            "bodhgya  बोधगया  बोध्या\n",
            "chhupi  छुपी  छुपी\n",
            "week  वीक  वीक\n",
            "jackie  जैकी  जाकी\n",
            "goroun  गोरों  गोरून\n",
            "sarvashaktimaan  सर्वशक्तिमान  सर्वशक्षिततन\n",
            "mahavidyaon  महाविद्याओं  महाविद्यों\n",
            "jame  जामे  जामे\n",
            "etalvi  इतालवी  एतली\n",
            "daivgya  दैवज्ञ  दैवजीया\n",
            "yadi  यदि  यादी\n",
            "laoge  लाओगे  लागे\n",
            "hawao  हवाओ  हवाओं\n",
            "talpade  तलपडे  तलड़पे\n",
            "makode  मकोड़े  मकोड़े\n",
            "dabok  डबोक  दाबोक\n",
            "shararaton  शरारतों  शरारतों\n",
            "phenkane  फेंकने  फेंकने\n",
            "havan  हैवान  हवन\n",
            "cucunur  कुकुनूर  क्सूनुर\n",
            "akash  अकाश  आकाश\n",
            "shira  शीरा  शिरा\n",
            "tennessee  टेनेसी  टेनेसी\n",
            "neeraj  नीरज  नीरज\n",
            "late  लाते  लेट\n",
            "chumban  चुंबन  चुंबन\n",
            "mhadeshiy  महादेशीय  महादेशीय\n",
            "jhonkne  झोंकने  झोंकने\n",
            "ramdan  रमदान  रामदान\n",
            "manjilon  मंजिलों  मंजीलों\n",
            "daal  दाल  दाल\n",
            "parawarti  परवर्ती  परावर्ती\n",
            "dhilapan  ढीलापन  ढिलापन\n",
            "rin  रिन  रान\n",
            "guess  गेस  ग्यूस\n",
            "parlok  परलोक  पार्लकों\n",
            "mx  एमएक्स  एमएस\n",
            "khushiyon  खुशियों  खुशियों\n",
            "samposhit  संपोषित  संमोषित\n",
            "takarata  टकराता  तकारता\n",
            "sg  एसजी  एसजी\n",
            "jarj  जार्ज  जर्ज\n",
            "trim  ट्रिम  त्रिम\n",
            "jhapkaanaa  झपकाना  झापना\n",
            "laaganey  लागने  लागाने\n",
            "maish  मैश  मैश\n",
            "ruchi  रूची  रुचि\n",
            "ubharon  उभारों  उभरों\n",
            "khatak  खटक  खतक\n",
            "nirupamaa  निरुपमा  निरुपमा\n",
            "linga  लिगा  लिंगा\n",
            "pratikramana  प्रतिक्रमण  प्रतिक्रमण\n",
            "mdma  एमडीएमए  एमडाएमए\n",
            "ubhar  उभार  उभर\n",
            "cruck  क्रुक  क्रूक\n",
            "chhodane  छोड़ने  छोड़ने\n",
            "upakaranon  उपकरणों  उपकरणों\n",
            "vaulter  वॉल्टर  वाल्टर\n",
            "dogune  दोगुने  डोग्ने\n",
            "aalishaan  आलिशान  आलीशान\n",
            "jaagane  जागने  जागने\n",
            "rag  राग  रैग\n",
            "lallu  लल्लू  लॉलू\n",
            "karykarta  कार्यकर्ता  कार्यक्रत\n",
            "mooli  मूली  मूली\n",
            "puraanaa  पूराना  पुराना\n",
            "sakka  हक्का  सक्का\n",
            "nmdc  एनएमडीसी  एनएमडीएम\n",
            "tatya  तात्या  तत्य\n",
            "shariri  शरीरी  शरीरी\n",
            "helloveen  हैलोवीन  हेलोइन\n",
            "bhitari  भीतरी  भीतृी\n",
            "ramsay  रामसे  रामसाय\n",
            "notanki  नौटंकी  नोटक्नी\n",
            "ghumte  घूमते  घूमते\n",
            "redel  रिडेल  रेडेल\n",
            "tare  तारे  टारे\n",
            "dhundhlapan  धुंधलापन  धुंधलगा\n",
            "kushan  कुशन  कुशान\n",
            "jodiyaan  जोड़ियां  जोड़ियां\n",
            "sochti  सोचती  सोच्ची\n",
            "nautanki  नौटंकी  नौटकानी\n",
            "manth  मंथ  मांथ\n",
            "reed  रीड  रीद\n",
            "sukma  सुकमा  सुक्म\n",
            "song  सॉन्ग  सोंग\n",
            "rupaye  रूपए  रुपये\n",
            "ed  एड  ईड\n",
            "feltan  फेल्टन  फेलतान\n",
            "sarvshaktiman  सर्वशक्तिमान  सर्वक्षात्खनि\n",
            "shahrikaran  शहरीकरण  शाहीकरण\n",
            "parwarti  परवर्ती  परवरती\n",
            "saha  साहा  सहा\n",
            "cauntron  काउंटरों  कॉन्टरों\n",
            "nikhar  निखार  निखर\n",
            "ugana  उगाना  उगना\n",
            "bhukhe  भूखे  भूखे\n",
            "prativadiyon  प्रतिवादियों  प्रतिवादियों\n",
            "ajadnagar  आजादनगर  अज़ानगर\n",
            "strotra  स्त्रोत्र  स्ट्रोटा\n",
            "khala  खाला  खाला\n",
            "darjan  दर्जन  दरजान\n",
            "takarane  टकराने  तकराने\n",
            "george  जार्ज  ज्यूज\n",
            "lachila  लचीली  लचिला\n",
            "jatilataon  जटिलताओं  जतिलताओं\n",
            "amber  अंबर  एम्बर\n",
            "kundli  कुंडली  कुंदली\n",
            "nikhaaraa  निखारा  निखरा\n",
            "aadambaro  आडंबरों  आदंबार\n",
            "mukhyamantriyon  मुख्यमंत्रियों  मुख्यम्यांिियों\n",
            "hiteck  हाईटेक  हिटेक\n",
            "ojon  ओजोन  ओजो\n",
            "banvae  बनवाए  बनवाए\n",
            "picka  पिका  पिक्का\n",
            "acf  एसीएफ  एसीफी\n",
            "aagarkar  आगरकर  आगरकार\n",
            "rajdroh  राजद्रोह  राजदृो\n",
            "sankhy  संख्य  संख्या\n",
            "pehnana  पहनाना  पहनना\n",
            "loki  लौकी  लोकी\n",
            "hyuar  ह्यूअर  ह्यूर\n",
            "adabi  अदबी  अदाबाई\n",
            "daudane  दौड़ाने  दौड़ने\n",
            "connect  कनेक्ट  कांकेस्ट\n",
            "swati  स्वाती  स्वती\n",
            "loewe  लोई  लोवे\n",
            "akhbar  अखबार  अख़बार\n",
            "badhaaiyaan  बधाईयां  बढ़ाऐं\n",
            "bahadurpur  बहादुरपुर  बहादूर्र\n",
            "tithi  तिथी  तिथि\n",
            "boden  बोडेन  बोड़न\n",
            "arase  अरसे  आरसे\n",
            "chunnani  चुननी  चुनना\n",
            "besraa  बेसरा  बेसरा\n",
            "visangar  विसनगर  विसंगर\n",
            "deghaat  देघाट  देघात\n",
            "rathava  राठवा  राठवा\n",
            "takraata  टकराता  टकराता\n",
            "vinegar  विनेगर  विनेगर\n",
            "jananeta  जननेता  जननेता\n",
            "bradley  ब्रेडले  ब्रैले\n",
            "darias  डेरियस  दरियास\n",
            "cleg  क्लेग  क्लेज\n",
            "dhith  ढीठ  धीठ\n",
            "wahniy  वहनीय  वहनीय\n",
            "kuta  कूटा  कुटा\n",
            "supernova  सुपरनोवा  सुपरनवाद\n",
            "dhani  धनी  धानी\n",
            "jagkar  जागकर  जागकर\n",
            "tirskrit  तिरस्कृत  तीरस्कृत\n",
            "wrapper  रैपर  वाप्रप\n",
            "bastiya  बस्तियां  बस्तिया\n",
            "jansuchna  जनसूचना  जनसूचना\n",
            "anukul  अनुकूल  अनुकुल\n",
            "asther  एस्थर  अस्थर\n",
            "damyanti  दमयंती  दमम्यतं\n",
            "dimaag  दिमाग  दीमाग\n",
            "chase  चेज  चासे\n",
            "hatyaein  हत्याएं  हत्याएं\n",
            "sadashivrao  सदाशिवराव  सदाशिवरण\n",
            "downloding  डाउनलोडिंग  डोनलिंग्PADPADPADPADPADPAD\n",
            "ulte  उल्टे  उल्टे\n",
            "taiyab  तैयब  तैयाब\n",
            "utaraai  उतराई  उताराई\n",
            "jangan  जनगण  जांगन\n",
            "hawas  हवस  हवास\n",
            "raisi  रईसी  राइसी\n",
            "mithilesh  मिथिलेश  मिथिलेश\n",
            "baniae  बनिए  बानिया\n",
            "sahasansthapak  सहसंस्थापक  सहससनक्षक\n",
            "rukawat  रूकावट  रुकावट\n",
            "dribble  ड्रिबल  ड्रिब्ले\n",
            "antena  एंटेना  अंतेना\n",
            "kapolon  कपोलों  कापोलों\n",
            "warrior  वॉरीअर  वेयरो\n",
            "vaanchoo  वांचू  वांचों\n",
            "sarkar  सरकार  सरकार\n",
            "risala  रिसाला  रिसाला\n",
            "restart  रीस्टार्ट  रेस्टर्ट\n",
            "svabhav  स्वभाव  स्वाभाव\n",
            "rahnumai  रहनुमाई  रानुमाई\n",
            "katyayni  कात्यायनी  काट्यानी\n",
            "nets  नेट्स  नेट्स\n",
            "failaakar  फैलाकर  फैलाकार\n",
            "harsh  हर्ष  हर्श\n",
            "insight  इनसाइट  इनसिंत\n",
            "karim  करीम  करिम\n",
            "hasin  हसीन  हासिन\n",
            "stanley  स्टेनले  स्टेनली\n",
            "chalaki  चलाकी  चालीकी\n",
            "netvest  नेटवेस्ट  नेटवेस\n",
            "magazine  मैगजिन  मैगजीन\n",
            "kaagji  कागज़ी  कागजी\n",
            "suljhayaa  सुलझाया  सुलझाया\n",
            "garjan  गर्जन  गर्जन\n",
            "unrasa  अनरसा  उनरासा\n",
            "indu  इंदू  इंदू\n",
            "paapaa  पापा  पापा\n",
            "devidas  देवीदास  देवीदास\n",
            "maiyya  मैया  मैय्य\n",
            "sooje  सूजे  सूजे\n",
            "moresis  माॅरिशस  मोरेसिस\n",
            "pahunchana  पहुंचना  पहुंचाना\n",
            "prastavit  प्रस्तावित  प्रस्ताति\n",
            "neet  नीत  नीत\n",
            "galatfehmi  गलतफहमी  गलतशीमा\n",
            "janneta  जननेता  जनेनता\n",
            "dafnaayi  दफनाई  दफनाए\n",
            "kukunoor  कुकुनूर  कुकूरू\n",
            "bharataa  भरता  भरता\n",
            "birjiya  बिरजिया  बिरजिया\n",
            "rejing  रेजिंग  रेजिंग\n",
            "commity  कमिटी  कमिटी\n",
            "vrutiyon  वृत्तियों  वृतियों\n",
            "jedda  जेद्दा  जेद्दा\n",
            "fija  फिजा  फीजा\n",
            "tejsvi  तेजस्वी  तेजस्वी\n",
            "chaubepur  चौबेपुर  चौबापुर\n",
            "tukka  तुक्का  टुकाका\n",
            "bachate  बचते  बचाते\n",
            "tune  ट्यून  टूने\n",
            "football  फुटबल  फुटबुल\n",
            "nizampur  निजामपुर  निजामपुर\n",
            "kandmool  कंदमूल  कैंडमूल\n",
            "hyman  हायमन  हिमान\n",
            "flat  फॉल्ट  फ्लैट\n",
            "aadat  आदत  आदत\n",
            "sakling  सकलिंग  साल्लिंग\n",
            "dakt  डक्ट  दक्त\n",
            "bareilly  बरेली  बेरेली\n",
            "dashansh  दशांश  दशांश\n",
            "peene  पीने  पीने\n",
            "sanghathan  संघठन  संघठन\n",
            "vritiyon  वृत्तियों  रृतियों\n",
            "process  प्रॉसेस  प्रोसेस\n",
            "meet  मीट  मीट\n",
            "shinta  क्षीणता  शींता\n",
            "namdan  नामदान  नमदन\n",
            "being  बीइंग  बेंग\n",
            "israr  इसरार  इसरार\n",
            "ghud  घुड़  घुड़\n",
            "ghisen  घिसें  घिसेन\n",
            "asankhy  असंख्य  असंख्य\n",
            "os  ओस  ओएस\n",
            "deo  डीईओ  डियो\n",
            "pahnaanaa  पहनाना  पहनाना\n",
            "stritva  स्त्रीत्व  स्त्रीवा\n",
            "doosri  दूसरी  दूसरी\n",
            "kotali  कोटली  कोतली\n",
            "ramnam  रामनाम  रामनाम\n",
            "arnold  अर्नोल्ड  एरनोल्ड\n",
            "conjesion  कंजेशन  कॉन्सियों\n",
            "nivaaran  निवारण  निवारन\n",
            "avaastvik  अवास्तविक  अवश्वतिक\n",
            "classical  क्लासिकल  क्लासिकल\n",
            "badhin  बाघिन  बढ़ियां\n",
            "bhulaakar  भुलाकर  भुलारक\n"
          ],
          "name": "stdout"
        },
        {
          "output_type": "execute_result",
          "data": {
            "text/plain": [
              "26.8"
            ]
          },
          "metadata": {
            "tags": []
          },
          "execution_count": 92
        }
      ]
    },
    {
      "cell_type": "markdown",
      "metadata": {
        "id": "B2SwFlsTuV5l"
      },
      "source": [
        "#Sweep configuration and Sweep Results"
      ]
    },
    {
      "cell_type": "code",
      "metadata": {
        "id": "KQUut1l_nJ4-"
      },
      "source": [
        "sweep_config = {\n",
        "\n",
        "    'method' : 'bayes',\n",
        "    'metric' : {\n",
        "        'name' : 'word_acc',\n",
        "        'goal' : 'maximize'\n",
        "    },\n",
        "    'parameters': {\n",
        "        'embedding_size': {\n",
        "            'values': [64,128,96]\n",
        "        },\n",
        "        'num_encoder_layers': {\n",
        "            'values': [1,2,3]\n",
        "        },\n",
        "        'num_decoder_layers': {\n",
        "            'values': [1,2,3]\n",
        "        },\n",
        "        'hidden_layer_size': {\n",
        "            'values': [64,128,256]\n",
        "        },\n",
        "        'cell_type' : {\n",
        "            'values': ['LSTM','GRU','SimpleRNN']  \n",
        "        },\n",
        "        \n",
        "        'drop_out_ratio': {\n",
        "            'values': [0,0.2,0.4]\n",
        "        },\n",
        "        'batch_size': {\n",
        "            'values': [64]\n",
        "        },\n",
        "        'epochs': {\n",
        "            'values': [25]\n",
        "        },\n",
        "        'optimizer':{\n",
        "            'values': ['adam','rmsprop']\n",
        "        }\n",
        "        \n",
        "    }\n",
        "}"
      ],
      "execution_count": 117,
      "outputs": []
    },
    {
      "cell_type": "code",
      "metadata": {
        "id": "tmQgkeQcpKk-"
      },
      "source": [
        "def train():\n",
        "\n",
        "    defaults = dict(\n",
        "    embedding_size = 64,\n",
        "    num_encoder_layers = 1,\n",
        "    num_decoder_layers = 1,\n",
        "    hidden_layer_size = 128,\n",
        "    cell_type = \"LSTM\",\n",
        "    drop_out_ratio = 0,\n",
        "    batch_size = 64,\n",
        "    epochs = 10,\n",
        "    optimizer = 'rmsprop',\n",
        "    )\n",
        "\n",
        "    wandb.init(project=\"CS6910-Assignment3\",config = defaults)\n",
        "    config = wandb.config\n",
        "\n",
        "    hyperparameters = {\n",
        "    \"embedding_size\" : config.embedding_size,\n",
        "    \"num_encoder_layers\" : config.num_encoder_layers,\n",
        "    \"num_decoder_layers\" : config.num_decoder_layers,\n",
        "    \"hidden_layer_size\" : config.hidden_layer_size,\n",
        "    \"cell_type\" : config.cell_type,\n",
        "    \"drop_out_ratio\": config.drop_out_ratio,\n",
        "    \"in_char_size\": len(english_alpha2index),\n",
        "    \"out_char_size\": len(hindi_alpha2index),\n",
        "    \"input_len\": 25,\n",
        "    }\n",
        "\n",
        "    net = RNN(**hyperparameters)\n",
        "    net.compile(optimizer = config.optimizer)\n",
        "    net.fit(integer_encoded_x_train, decoder_input_data,decoder_output_data,batch_size = config.batch_size,epochs = config.epochs)\n",
        "\n",
        "\n",
        "    net.build_inference_model()\n",
        "    combined_validation_data = list(zip(x_raw_val,y_raw_val))\n",
        "    np.random.shuffle(combined_validation_data)\n",
        "    (x_val,y_val) = zip(*combined_validation_data)\n",
        "    x_val_100,y_val_100 = np.array(x_val[:100]),np.array(y_val[:100])\n",
        "\n",
        "    word_accuracy = net.evaluate(x_val_100,y_val_100)\n",
        "    wandb.log({\"word_acc\": word_accuracy})\n",
        "\n"
      ],
      "execution_count": 118,
      "outputs": []
    },
    {
      "cell_type": "code",
      "metadata": {
        "colab": {
          "base_uri": "https://localhost:8080/"
        },
        "id": "GCLTVO4Lqf2G",
        "outputId": "aba8b33f-128a-4f55-e2fd-e5afe6752503"
      },
      "source": [
        "sweep_id = wandb.sweep(sweep_config, entity=\"theindianwriter\", project=\"CS6910-Assignment3\")"
      ],
      "execution_count": 119,
      "outputs": [
        {
          "output_type": "stream",
          "text": [
            "Create sweep with ID: nk5cbn8i\n",
            "Sweep URL: https://wandb.ai/theindianwriter/CS6910-Assignment3/sweeps/nk5cbn8i\n"
          ],
          "name": "stdout"
        }
      ]
    },
    {
      "cell_type": "code",
      "metadata": {
        "colab": {
          "base_uri": "https://localhost:8080/",
          "height": 1000,
          "referenced_widgets": [
            "7b97dda955f0454cbe7488e534068793",
            "5dc1d03f6cc64d4cbf944274ebc780a5",
            "86089722f8a544129e4c5a3fc79d5cf8",
            "20f2346c59b346f59dc7bbb7b7e792e3",
            "d5b51282cfdc400eb1f8fae7506d51ba",
            "8288f4f0c8d541a3999b60f5c7244be2",
            "0919e553d5aa425393cf747ba86fc77d",
            "f1428d67c17840cfbaec63761cbb2067",
            "74d0c94940114b72a2647fea97352f9d",
            "e2874a885bd44c3fbbc532afdb2b5add",
            "5b1c4688d79e4cda9527d72580ada8aa",
            "4ecb8be323e5481d90fd3ec72f640825",
            "215ee03d69754db3a2a734999ffbbaa0",
            "9491415bf13e4ddc96a02101f4611640",
            "3cc0461fb83a4caa839bc62af7e82991",
            "ff8f2a92dc6c4b0cad0010148517eb33",
            "c12b7023419140ddb5d3c2e5a036595e",
            "e7121ab267b8447b834eed40ad7d1c53",
            "08cb3c925bdb4374b639cd2bc0ada07a",
            "615ad37b23f14eee8de3d3cec175eb37",
            "8ccbdd271cb7494a82c906d053b2c116",
            "cb9fcedd930046929aeba6ff3e7e1bdb",
            "88b7198d86324b7ba51401fbdb38f2c9",
            "ba5b509013af4258bf862553d0fb6d38",
            "b699557a52764352b73e8166860f86ff",
            "401e63562c2849c6a76c29b8082e945a",
            "e8292c279da6412dbd5e2ee977e32645",
            "94c4b399f16547a580b4ad052b13d419",
            "1d76b924858d4b7cbcca72c80aed3047",
            "77ec6749560142029c8816c3ba94381a",
            "e9040164a1ef47d9a2f1e6f298a54097",
            "b2a82e6c2d454647bae9edc1fc859e37",
            "d4f6997ad2a64f489b5171997bf15dd2",
            "e2592161c4e44b11ba40f16c8d3b9523",
            "8afca507562d4170b56951e15477836c",
            "92e71f0199d34085a203c0a6b42ed6f5",
            "f4e1d79d4e924f52b5a39da1b146b3a1",
            "8053c0c33073477b85d27549143789d4",
            "2e9b4d88e99844db8fe92b153793d635",
            "024d34a2be914ea5a173be91502a36dc",
            "623bf49ad2b44125b190f181683a0621",
            "dd3fa3d39b4f41e5ba7e4c4490f24ef9",
            "1b5041ecd01a4f3896b18f040c19fc68",
            "95cc0a3fdf2a49a7be445b7ceba75a93",
            "088c195591e346bfa0bd447937782eb1",
            "7663bd4b129841a3ac68d6d7f459b5b2",
            "ecef72617d7b4750b88391fedd455850",
            "b4958f45a5ff49629aae818b781b7ffa",
            "63e55232c0124c7a94a251237875dc79",
            "c1f935840a3a4aa8b126771ee6bd5d1f",
            "951d474a8fce425bb8447abcebf36af9",
            "03f19d02abbb4cfab169132b87d576b1",
            "2f1fa41b224f4248ba807396959d569b",
            "a12701f8313c42c6a677adf162c27393",
            "e26cff3411604b5a85e3dc0beedaaebb",
            "8a9bad7b854d4e6db1546e0055a3a770",
            "4a3f5f94bd52423483f0fdb436ea8810",
            "494794ff144d4bca9e1f4c2fc83a06cd",
            "acfc3dfbbe5041fd9a466663290b2d43",
            "5705c6389cd34361a1a051be8640f85f",
            "60dcfe8e54ce405bbb5baed56ce4c2f8",
            "78967e82a0744b06bd2129ec0aa038ff",
            "241f91bd0a6a4c43adc57f4034228014",
            "7e4a4e6f59894614999fb60c93a25189",
            "719c27c18e0642c6a20ea5d993210316",
            "6c9cbd66f310486daed6ef48e214a70f",
            "0a263a0d62f64b3684cd3e857b927a98",
            "567f336a20f944fe91a72cc4f41fc6f0",
            "df7249b68b6c4e5ca45097a3366bfad9",
            "15ce84a44693413a94d87ee6fdf90b23",
            "aed17d068ab8499ea61e691962b8bbf4",
            "fc5c0dd073a24b88ab5f53e908c0b308",
            "aea7c8de5c0d4e19b71dbba065785b44",
            "1e8114dc80f7470f90a770aed79178c8",
            "4d28663b385e4d6eb6b9005873f45461",
            "36cc8674f88a43708b5104b145e6e5ee",
            "fb7990ce25fc43319fd445ad26c4b72d",
            "c1495b09676340928c3303a65db69977",
            "2d15452ec13d47ef877c0a8440677e1f",
            "ef32abf239af4376854e78510aa78487",
            "122c23b9d8ee4715a37c4261f713541d",
            "fa071fe3de624a948f4019e1d83804b3",
            "b8693b12290041e3b448f9036f1f437a",
            "6357fec1b94740c1aa35e3acb251a065",
            "23a0c51d80f543a2b76a093bb4a19755",
            "ec2b5c9c78f44adfb2fe06b359f0504c",
            "9b38d1aaf18f4bf98245173bfcd31345",
            "92ee1cb3da854a9eb8bc13b5ee6270ad",
            "4143c5eccc3d4b8fa33b204a6fdecc71",
            "e3c376b8f25f485db5d069d4d55a8fd7",
            "d1d3742decd6409180dc01d127746850",
            "573bf6e685f14d58af58aabf768594d2",
            "bbdc13ddbb154a829b66a9c3f22dfdfa",
            "30f8adc4315048c391e5e40066b06cd2",
            "be5f09d3514e45d992e393f60fd085b8",
            "089cc469efe9493e8e4bb8d6aecda64e",
            "e94e727b336644b3a493037a2bcdd4d7",
            "36be140b3d244c7e856f5e5908d43855",
            "a81469e51eb94e61ae18586bde18b1f3",
            "e835c839956b4dba8458ff05e9b58bdd",
            "b8151c3cb4f14eb6900658ed030d75fd",
            "53f1921252684d8aa40c01b29152ca52",
            "1129e05c66e242bca619b3aff1d0cb27",
            "ae3fdcedc4f84e029614834e923ce0aa",
            "13004decbbf7438aa0c41a02bcd7ba98",
            "a9556d97090645479fd74c397784357e",
            "64fd58ee358f4447970c57846fc7a6e1",
            "2e826bb1928347f383ab49b473d6b7f1",
            "a395fcc3403d4c0bb18f46fc5ef7b035",
            "5f4e1358192c4ffead3603d4afc96f82",
            "299278e2bc2a447eb2dd87c46ed8f7c6",
            "df75d8b011ea41cab0ffa90e825eb80a",
            "21a803fdb6404410ac2caa53c6eb4356",
            "d501d8b36d264da3ac5669b1480d745e",
            "18b1425c92bb4d10a6480c7d886b2e63",
            "0f47df3300344c3bb6816a85bbe22f5c",
            "d43e4262974c4331bde7b798327bd123",
            "5919930f4fa249999bf45863f306869e",
            "af2b441fdc6b45e584f307f47bbfd721",
            "6270c0abe20a4301b64593ff47d64fcc",
            "5d37638383cd4aa5a8f26fc813aa0404",
            "148cc57d87b24aecb87647656a9fff24",
            "33caa45b44734d6ab5487908d09bcbf6",
            "e707579f0b874d3da64949bbd7c1facb",
            "ac92f57d344f4d5a833cae028d72a5df",
            "b71e77c1b69c419bacd4b7992bc6bf77",
            "d69c548d264c497588dbf848258626a0",
            "dedb7aa6cd3e44f09ff743568437d170",
            "53b156c827a5497785fe7d10987479e7",
            "11b9d889606e47c5ba31aed706f99e48",
            "d2f9d38ee3e74cf5841d62269ba387f4",
            "6f6d5c9cc5574a20a0109a3d2fb97851",
            "6fd0d6951e614bb291e933610b4eee19",
            "eb0006797bb94788b5cfb16b8088448a",
            "d7f7473e6b1b4a389a1962c9367b65f3",
            "2e4ed268fa12459c9d390df0bf8373c4",
            "54be43d92cfb4604a98bc0e9c964243c",
            "ca1c8a83ae52423c8d525692a6abe568",
            "452c33490a70499ca272f0acfa4ed607",
            "dcb3527d15ba435b9972695cb3e78a0a",
            "d8dd5412dc204e498281434e914c39ff",
            "97a5b5a4bc8d48bfa074d60224eef87f",
            "cd038b7a5c4445bc92ac4b45c61d62b2",
            "ff99a72c87e14812aa04d60c4762f53d",
            "1f9f26805ccf4c679f4d97d28a2d9dbe",
            "d0aaf2413c2549a7826c6dd0e9262b31",
            "ce2083a0d5ba4820869d91bfb56e8b2e",
            "9dab69f33d5c4a4b91589a9e3b110e54",
            "7ece92e25efb4b40b51e809bc49d1b01",
            "e54e04aecfd8429b86280fb70933f7dd",
            "496b78d5463c41489259d89d0075828e",
            "fed6074f69674e9e8dd088fcebeab604",
            "27a1c3e17f4040038fb37e1749e3ec8a",
            "8c8e294d7a164c639e5720d6a65884c1",
            "22dcf6b76c2446899d2a5412311e5bb7",
            "7c43a21fd43e42dab4a4c2a68989ebaf",
            "192e72102f164cda88bd0aea7df9c9de",
            "4959d93fcc19418d851f31c246325576",
            "de69dfa993174340bd935b27300b4568",
            "403682d0a40147c6baee0cd6879bea29",
            "ad611f64aa104b08b778b46c26cd21c5",
            "24039779c6954678acc457c0849643d7",
            "7196967ec8514fc6af549f24b16ddfd5",
            "7603066cb0af4ebf803d8fdcd884b096",
            "3ca13aa30b0d4b7c9e5a6814b8878caf",
            "37e722fd62df4f929c1bf15d7ff3b89f",
            "a83fd9e409da4d83b445b8f8b07ae8b1",
            "ac6aef3d5a034c32942c15fa692432a5",
            "9d202e86e1d949fc94a5df02269d70c7",
            "734d8c69067f4469af8e417ff3aca686",
            "8a9faecf184b4e83b8270190a418f319",
            "d2d1311fea5b481fbb0d6f04395118ee",
            "fb7e9bf2f6ea46bb9d67f55a702ed6f3",
            "bc982f80d824427a85ee6b6f6b72cba5",
            "3b93f2094f8e4a9c967a8c93d139b763",
            "9ac2f17f45034ccf874841487177e6d0",
            "7f8a87a51f8e4a6bbbb8cf7a9a2eec77",
            "84f28828cac443f9912176f822171384",
            "7229cfe19bbc4aa5aec4e863c5f975f5",
            "52c52fd033f2412d98ea831008ecb970",
            "06324b74b7b14caf822644366b65d0fe",
            "10dc0d1a9bfd48dc9cab7ef4bc57cf8c",
            "9870c2d1d1ee41ce944dd9adabf9d46e",
            "56eb94bf3f6941728aebc1a60b5af64b",
            "f3a131423db94448aeff1e9b2a4b6e0b",
            "f63aaae4dc214f0b9376e2125529019a",
            "78a76073d63a47a4bd5aaf974c7ac530",
            "064c8e16316148e7b3623c3c1fd03797",
            "7721be1bd8e847be96f4c7a4713636b4",
            "0e81e0a3b0d24653b8ff21ad25fe1e87",
            "e941e2839f474bf8b3c55ce8e71ee692",
            "6e95e539a50c4b04991b1562b9164c8a",
            "cf60321882ce4c9aa54073735baef5b9",
            "00f195099e9f4b129ccf6374abfe34c2",
            "9142e31c6b19412786900151b3a81cb3",
            "7624c53f652e46d183d4c4139c28cfed",
            "d5112777d53a4e5882e93b2c3a5cb6d8",
            "53b54f52bd74442692c58d22b1d9c297",
            "c263a67a57d9411995153fdb0795baea",
            "81eee97c9c7049358a8ff329ae566b22",
            "1e52c2c308a249b58b8c3f19cd37536d",
            "5af4678bbdc64c5bb00c7c3af0127c52",
            "bd4e3b65a3ef47a3a1c3a9074f6ce348",
            "ffd05d3958f14a90a698d3b1d857af0f",
            "e04cceb492224e0dac851729595f0d33",
            "b40cd39504f8458c8a0324ecfdda656d",
            "23366e96e2584ae88eea938f72fc4bf2",
            "5473ce6f72c54f379fd38034288c2528",
            "e13210d20b9b474a95c58f4f7d682b1c",
            "84bbf69f729c46a9885b422bb2fa6287",
            "65b1b254ed9e47b6838175d763d5cb7f",
            "5bc3d0a724c9490eb73dec683a143a8c",
            "480d2125b06a47fb8ed575e3cbf9147a",
            "5cc09622f2fd461cb28f526dea28bdcf",
            "b4f5434a69ee4d82a26027ae1dafb388",
            "c73e62f8508a472787d01008167a2e85",
            "08b4b9a040c641a7b7b5087cda7d60c2",
            "0395eef9f5ea45639ed0e744a983f1ac",
            "2babdfca9608401bbbe716553ecfbda0",
            "8736fe8f0ef145cf9dc0f46cc44cea81",
            "a743de0caa844b5abf3ab44427a88347",
            "34891180b41d42d282f73dff7d413e88",
            "0728edf7d2f349408efa681ce185fe1f",
            "6b9773335ff94d47b0a57c0af899430f",
            "e28003008cb84fcfbefc24ed068771a6",
            "d5960a849a5043ab8fbf9244180e7d8a",
            "3a45018bc46a475f9f2e05b814c1614b",
            "5f6d6a7919ce4efb95f579b101c3ad48",
            "afc5833f3cf84f1b80255d943c24242f",
            "d5c25e9a296a4b75aee93694482fa523",
            "af61ca4113ea44e6a1982eab5a2b99b6",
            "fb0a4cafbccb41b782c908be2051055b",
            "026a4bb03da849deb97bd0d575347e34",
            "55f14606265343db9db7ae716a41278a",
            "595963ffa0924f2ea074603e816d705a",
            "930131fe200d454c8b80c1d7bae8b57a",
            "c104bfc07774442e80849c8f7a06fdb3",
            "f9b0309df45047cfb37956ac4e84bcca",
            "4f98488f44524d8f840dbd9fae2abada",
            "3e067e56f2b143a3959279831bed0f10",
            "49ffad6b92c54217b9211eb71be6be9f",
            "661ce71dc578483cb1559e07e3f23d27",
            "71530a888acb4d6ea48bef34acb8c5f6",
            "442a01d6ea3e44c3b12ae88f233d306b",
            "64809e767ddb4bc79eb90493437fe331",
            "8d5df9f2160240a59838193b2daab1f4",
            "16e2e7baa68942aea8e81573dd251498",
            "146c86bcabf848d3aa1b1c0741f04e1b",
            "04fa70d9042743cea25822b33a66aa85",
            "1f26b37aa1f347b7ae6e20d35ba87013",
            "d9e4d1d36d9a492d85a8d8e7022da7da",
            "ff661e598ea24e4caec37ccad144de50",
            "d7e5e1127e454d6f8c8dd00166f75fa7",
            "1c46bc3e5a99445eb0d9fb263611ef44",
            "9e801a0d043c4fa0bb0a9cd13447d803",
            "5cddb5c0b621414bb2d6dd00befe900b",
            "4d6f2b70e6004411b3b408b4fea0e18b",
            "4bdc1bc391384588ad4a61b574886384",
            "baa5d8bbcd6040cabba08b50f53ba606",
            "ca52a0b0b3394828a87a096290ba47b0",
            "d6849f35cc8a49bba040daf7ccfee6cd",
            "4ae413194a4346cc94a42e05b5ff691d",
            "3934a86cfedc49308c9ca39868dc3298",
            "26b8beddf32e47a383e1a79e329c6349",
            "c6a3479070fd4e678c0612ef58cde193",
            "882beabd62824f1980112b80c6a0522f",
            "f6bbf6347e344eac839fa9433c087d9f",
            "ece03f6d6eaf4c6d960be42323fba47d",
            "b92b11ef422b410c9f72515b6b577b1d",
            "44a0360ab1dd4050841d49d77b329b1e",
            "fbd9568d641945a09dd9d83b30235531",
            "51f2707cca61434585e1364082ddc7f2",
            "cc1f0722101f49fc82a6eadc30fb1245"
          ]
        },
        "id": "9p8WeRgcqkXE",
        "outputId": "177f2177-99ea-4a9b-a5d7-4c7efc8b07bc"
      },
      "source": [
        "wandb.agent(sweep_id, train)"
      ],
      "execution_count": null,
      "outputs": [
        {
          "output_type": "stream",
          "text": [
            "\u001b[34m\u001b[1mwandb\u001b[0m: Agent Starting Run: vrid2ida with config:\n",
            "\u001b[34m\u001b[1mwandb\u001b[0m: \tbatch_size: 64\n",
            "\u001b[34m\u001b[1mwandb\u001b[0m: \tcell_type: GRU\n",
            "\u001b[34m\u001b[1mwandb\u001b[0m: \tdrop_out_ratio: 0.4\n",
            "\u001b[34m\u001b[1mwandb\u001b[0m: \tembedding_size: 96\n",
            "\u001b[34m\u001b[1mwandb\u001b[0m: \tepochs: 25\n",
            "\u001b[34m\u001b[1mwandb\u001b[0m: \thidden_layer_size: 64\n",
            "\u001b[34m\u001b[1mwandb\u001b[0m: \tnum_decoder_layers: 3\n",
            "\u001b[34m\u001b[1mwandb\u001b[0m: \tnum_encoder_layers: 3\n",
            "\u001b[34m\u001b[1mwandb\u001b[0m: \toptimizer: adam\n",
            "\u001b[34m\u001b[1mwandb\u001b[0m: \u001b[33mWARNING\u001b[0m Ignored wandb.init() arg project when running a sweep\n"
          ],
          "name": "stderr"
        },
        {
          "output_type": "display_data",
          "data": {
            "text/html": [
              "\n",
              "                Tracking run with wandb version 0.10.30<br/>\n",
              "                Syncing run <strong style=\"color:#cdcd00\">vibrant-sweep-1</strong> to <a href=\"https://wandb.ai\" target=\"_blank\">Weights & Biases</a> <a href=\"https://docs.wandb.com/integrations/jupyter.html\" target=\"_blank\">(Documentation)</a>.<br/>\n",
              "                Project page: <a href=\"https://wandb.ai/theindianwriter/CS6910-Assignment3\" target=\"_blank\">https://wandb.ai/theindianwriter/CS6910-Assignment3</a><br/>\n",
              "                Sweep page: <a href=\"https://wandb.ai/theindianwriter/CS6910-Assignment3/sweeps/nk5cbn8i\" target=\"_blank\">https://wandb.ai/theindianwriter/CS6910-Assignment3/sweeps/nk5cbn8i</a><br/>\n",
              "Run page: <a href=\"https://wandb.ai/theindianwriter/CS6910-Assignment3/runs/vrid2ida\" target=\"_blank\">https://wandb.ai/theindianwriter/CS6910-Assignment3/runs/vrid2ida</a><br/>\n",
              "                Run data is saved locally in <code>/content/wandb/run-20210522_145918-vrid2ida</code><br/><br/>\n",
              "            "
            ],
            "text/plain": [
              "<IPython.core.display.HTML object>"
            ]
          },
          "metadata": {
            "tags": []
          }
        },
        {
          "output_type": "stream",
          "text": [
            "Epoch 1/25\n",
            "622/622 [==============================] - 22s 22ms/step - loss: 1.5365 - accuracy: 0.7096 - val_loss: 0.9802 - val_accuracy: 0.7591\n",
            "Epoch 2/25\n",
            "622/622 [==============================] - 11s 18ms/step - loss: 0.9263 - accuracy: 0.7654 - val_loss: 0.8881 - val_accuracy: 0.7718\n",
            "Epoch 3/25\n",
            "622/622 [==============================] - 11s 18ms/step - loss: 0.8453 - accuracy: 0.7786 - val_loss: 0.8289 - val_accuracy: 0.7799\n",
            "Epoch 4/25\n",
            "622/622 [==============================] - 11s 18ms/step - loss: 0.7880 - accuracy: 0.7869 - val_loss: 0.7958 - val_accuracy: 0.7860\n",
            "Epoch 5/25\n",
            "622/622 [==============================] - 11s 18ms/step - loss: 0.7374 - accuracy: 0.7964 - val_loss: 0.7471 - val_accuracy: 0.7897\n",
            "Epoch 6/25\n",
            "622/622 [==============================] - 11s 18ms/step - loss: 0.6839 - accuracy: 0.8077 - val_loss: 0.6901 - val_accuracy: 0.8062\n",
            "Epoch 7/25\n",
            "622/622 [==============================] - 11s 18ms/step - loss: 0.6289 - accuracy: 0.8203 - val_loss: 0.6782 - val_accuracy: 0.8169\n",
            "Epoch 8/25\n",
            "622/622 [==============================] - 11s 18ms/step - loss: 0.5972 - accuracy: 0.8304 - val_loss: 0.6402 - val_accuracy: 0.8300\n",
            "Epoch 9/25\n",
            "622/622 [==============================] - 11s 17ms/step - loss: 0.5699 - accuracy: 0.8377 - val_loss: 0.6106 - val_accuracy: 0.8401\n",
            "Epoch 10/25\n",
            "622/622 [==============================] - 11s 17ms/step - loss: 0.5426 - accuracy: 0.8445 - val_loss: 0.5873 - val_accuracy: 0.8493\n",
            "Epoch 11/25\n",
            "622/622 [==============================] - 11s 18ms/step - loss: 0.5071 - accuracy: 0.8517 - val_loss: 0.5445 - val_accuracy: 0.8579\n",
            "Epoch 12/25\n",
            "622/622 [==============================] - 11s 17ms/step - loss: 0.4893 - accuracy: 0.8563 - val_loss: 0.5648 - val_accuracy: 0.8604\n",
            "Epoch 13/25\n",
            "622/622 [==============================] - 11s 17ms/step - loss: 0.4927 - accuracy: 0.8609 - val_loss: 0.5149 - val_accuracy: 0.8645\n",
            "Epoch 14/25\n",
            "622/622 [==============================] - 11s 18ms/step - loss: 0.4524 - accuracy: 0.8652 - val_loss: 0.5208 - val_accuracy: 0.8658\n",
            "Epoch 15/25\n",
            "622/622 [==============================] - 11s 18ms/step - loss: 0.4378 - accuracy: 0.8698 - val_loss: 0.4788 - val_accuracy: 0.8736\n",
            "Epoch 16/25\n",
            "622/622 [==============================] - 11s 17ms/step - loss: 0.4355 - accuracy: 0.8731 - val_loss: 0.4843 - val_accuracy: 0.8721\n",
            "Epoch 17/25\n",
            "622/622 [==============================] - 11s 18ms/step - loss: 0.4114 - accuracy: 0.8757 - val_loss: 0.4809 - val_accuracy: 0.8726\n",
            "Epoch 18/25\n",
            "622/622 [==============================] - 11s 18ms/step - loss: 0.4085 - accuracy: 0.8779 - val_loss: 0.4570 - val_accuracy: 0.8792\n",
            "Epoch 19/25\n",
            "622/622 [==============================] - 11s 18ms/step - loss: 0.3926 - accuracy: 0.8808 - val_loss: 0.4515 - val_accuracy: 0.8814\n",
            "Epoch 20/25\n",
            "622/622 [==============================] - 11s 18ms/step - loss: 0.3828 - accuracy: 0.8833 - val_loss: 0.4653 - val_accuracy: 0.8762\n",
            "Epoch 21/25\n",
            "622/622 [==============================] - 11s 17ms/step - loss: 0.3824 - accuracy: 0.8849 - val_loss: 0.4495 - val_accuracy: 0.8808\n",
            "Epoch 22/25\n",
            "622/622 [==============================] - 11s 17ms/step - loss: 0.3705 - accuracy: 0.8869 - val_loss: 0.4471 - val_accuracy: 0.8803\n",
            "Epoch 23/25\n",
            "622/622 [==============================] - 10s 17ms/step - loss: 0.3686 - accuracy: 0.8882 - val_loss: 0.4605 - val_accuracy: 0.8777\n",
            "Epoch 24/25\n",
            "622/622 [==============================] - 11s 17ms/step - loss: 0.3592 - accuracy: 0.8903 - val_loss: 0.4459 - val_accuracy: 0.8815\n",
            "Epoch 25/25\n",
            "622/622 [==============================] - 11s 17ms/step - loss: 0.3659 - accuracy: 0.8921 - val_loss: 0.4444 - val_accuracy: 0.8797\n"
          ],
          "name": "stdout"
        },
        {
          "output_type": "display_data",
          "data": {
            "text/html": [
              "<br/>Waiting for W&B process to finish, PID 59873<br/>Program ended successfully."
            ],
            "text/plain": [
              "<IPython.core.display.HTML object>"
            ]
          },
          "metadata": {
            "tags": []
          }
        },
        {
          "output_type": "display_data",
          "data": {
            "application/vnd.jupyter.widget-view+json": {
              "model_id": "7b97dda955f0454cbe7488e534068793",
              "version_major": 2,
              "version_minor": 0
            },
            "text/plain": [
              "VBox(children=(Label(value=' 2.16MB of 2.16MB uploaded (0.00MB deduped)\\r'), FloatProgress(value=1.0, max=1.0)…"
            ]
          },
          "metadata": {
            "tags": []
          }
        },
        {
          "output_type": "display_data",
          "data": {
            "text/html": [
              "Find user logs for this run at: <code>/content/wandb/run-20210522_145918-vrid2ida/logs/debug.log</code>"
            ],
            "text/plain": [
              "<IPython.core.display.HTML object>"
            ]
          },
          "metadata": {
            "tags": []
          }
        },
        {
          "output_type": "display_data",
          "data": {
            "text/html": [
              "Find internal logs for this run at: <code>/content/wandb/run-20210522_145918-vrid2ida/logs/debug-internal.log</code>"
            ],
            "text/plain": [
              "<IPython.core.display.HTML object>"
            ]
          },
          "metadata": {
            "tags": []
          }
        },
        {
          "output_type": "display_data",
          "data": {
            "text/html": [
              "<h3>Run summary:</h3><br/><style>\n",
              "    table.wandb td:nth-child(1) { padding: 0 10px; text-align: right }\n",
              "    </style><table class=\"wandb\">\n",
              "<tr><td>epoch</td><td>24</td></tr><tr><td>loss</td><td>0.36254</td></tr><tr><td>accuracy</td><td>0.89167</td></tr><tr><td>val_loss</td><td>0.44445</td></tr><tr><td>val_accuracy</td><td>0.87973</td></tr><tr><td>_runtime</td><td>323</td></tr><tr><td>_timestamp</td><td>1621695881</td></tr><tr><td>_step</td><td>25</td></tr><tr><td>best_val_loss</td><td>0.44445</td></tr><tr><td>best_epoch</td><td>24</td></tr><tr><td>word_acc</td><td>2.0</td></tr></table>"
            ],
            "text/plain": [
              "<IPython.core.display.HTML object>"
            ]
          },
          "metadata": {
            "tags": []
          }
        },
        {
          "output_type": "display_data",
          "data": {
            "text/html": [
              "<h3>Run history:</h3><br/><style>\n",
              "    table.wandb td:nth-child(1) { padding: 0 10px; text-align: right }\n",
              "    </style><table class=\"wandb\">\n",
              "<tr><td>epoch</td><td>▁▁▂▂▂▂▃▃▃▄▄▄▅▅▅▅▆▆▆▇▇▇▇██</td></tr><tr><td>loss</td><td>█▆▅▅▄▄▃▃▃▃▂▂▂▂▂▂▁▁▁▁▁▁▁▁▁</td></tr><tr><td>accuracy</td><td>▁▂▃▃▄▄▅▅▆▆▆▆▇▇▇▇▇▇███████</td></tr><tr><td>val_loss</td><td>█▇▆▆▅▄▄▄▃▃▂▃▂▂▁▂▁▁▁▁▁▁▁▁▁</td></tr><tr><td>val_accuracy</td><td>▁▂▂▃▃▄▄▅▆▆▇▇▇▇█▇▇████████</td></tr><tr><td>_runtime</td><td>▁▁▂▂▂▂▃▃▃▃▄▄▄▄▅▅▅▅▆▆▆▆▇▇▇█</td></tr><tr><td>_timestamp</td><td>▁▁▂▂▂▂▃▃▃▃▄▄▄▄▅▅▅▅▆▆▆▆▇▇▇█</td></tr><tr><td>_step</td><td>▁▁▂▂▂▂▃▃▃▄▄▄▄▅▅▅▅▆▆▆▇▇▇▇██</td></tr><tr><td>word_acc</td><td>▁</td></tr></table><br/>"
            ],
            "text/plain": [
              "<IPython.core.display.HTML object>"
            ]
          },
          "metadata": {
            "tags": []
          }
        },
        {
          "output_type": "display_data",
          "data": {
            "text/html": [
              "Synced 5 W&B file(s), 1 media file(s), 0 artifact file(s) and 1 other file(s)"
            ],
            "text/plain": [
              "<IPython.core.display.HTML object>"
            ]
          },
          "metadata": {
            "tags": []
          }
        },
        {
          "output_type": "display_data",
          "data": {
            "text/html": [
              "\n",
              "                    <br/>Synced <strong style=\"color:#cdcd00\">vibrant-sweep-1</strong>: <a href=\"https://wandb.ai/theindianwriter/CS6910-Assignment3/runs/vrid2ida\" target=\"_blank\">https://wandb.ai/theindianwriter/CS6910-Assignment3/runs/vrid2ida</a><br/>\n",
              "                "
            ],
            "text/plain": [
              "<IPython.core.display.HTML object>"
            ]
          },
          "metadata": {
            "tags": []
          }
        },
        {
          "output_type": "stream",
          "text": [
            "\u001b[34m\u001b[1mwandb\u001b[0m: Agent Starting Run: 3l4zb248 with config:\n",
            "\u001b[34m\u001b[1mwandb\u001b[0m: \tbatch_size: 64\n",
            "\u001b[34m\u001b[1mwandb\u001b[0m: \tcell_type: LSTM\n",
            "\u001b[34m\u001b[1mwandb\u001b[0m: \tdrop_out_ratio: 0.2\n",
            "\u001b[34m\u001b[1mwandb\u001b[0m: \tembedding_size: 64\n",
            "\u001b[34m\u001b[1mwandb\u001b[0m: \tepochs: 25\n",
            "\u001b[34m\u001b[1mwandb\u001b[0m: \thidden_layer_size: 256\n",
            "\u001b[34m\u001b[1mwandb\u001b[0m: \tnum_decoder_layers: 1\n",
            "\u001b[34m\u001b[1mwandb\u001b[0m: \tnum_encoder_layers: 1\n",
            "\u001b[34m\u001b[1mwandb\u001b[0m: \toptimizer: rmsprop\n",
            "\u001b[34m\u001b[1mwandb\u001b[0m: \u001b[33mWARNING\u001b[0m Ignored wandb.init() arg project when running a sweep\n"
          ],
          "name": "stderr"
        },
        {
          "output_type": "display_data",
          "data": {
            "text/html": [
              "\n",
              "                Tracking run with wandb version 0.10.30<br/>\n",
              "                Syncing run <strong style=\"color:#cdcd00\">grateful-sweep-2</strong> to <a href=\"https://wandb.ai\" target=\"_blank\">Weights & Biases</a> <a href=\"https://docs.wandb.com/integrations/jupyter.html\" target=\"_blank\">(Documentation)</a>.<br/>\n",
              "                Project page: <a href=\"https://wandb.ai/theindianwriter/CS6910-Assignment3\" target=\"_blank\">https://wandb.ai/theindianwriter/CS6910-Assignment3</a><br/>\n",
              "                Sweep page: <a href=\"https://wandb.ai/theindianwriter/CS6910-Assignment3/sweeps/nk5cbn8i\" target=\"_blank\">https://wandb.ai/theindianwriter/CS6910-Assignment3/sweeps/nk5cbn8i</a><br/>\n",
              "Run page: <a href=\"https://wandb.ai/theindianwriter/CS6910-Assignment3/runs/3l4zb248\" target=\"_blank\">https://wandb.ai/theindianwriter/CS6910-Assignment3/runs/3l4zb248</a><br/>\n",
              "                Run data is saved locally in <code>/content/wandb/run-20210522_150446-3l4zb248</code><br/><br/>\n",
              "            "
            ],
            "text/plain": [
              "<IPython.core.display.HTML object>"
            ]
          },
          "metadata": {
            "tags": []
          }
        },
        {
          "output_type": "stream",
          "text": [
            "Epoch 1/25\n",
            "622/622 [==============================] - 11s 14ms/step - loss: 1.1552 - accuracy: 0.7353 - val_loss: 0.9120 - val_accuracy: 0.7661\n",
            "Epoch 2/25\n",
            "622/622 [==============================] - 7s 12ms/step - loss: 0.8194 - accuracy: 0.7854 - val_loss: 0.8644 - val_accuracy: 0.7853\n",
            "Epoch 3/25\n",
            "622/622 [==============================] - 7s 12ms/step - loss: 0.7213 - accuracy: 0.8066 - val_loss: 0.8576 - val_accuracy: 0.7910\n",
            "Epoch 4/25\n",
            "622/622 [==============================] - 7s 12ms/step - loss: 0.6565 - accuracy: 0.8210 - val_loss: 0.8172 - val_accuracy: 0.8131\n",
            "Epoch 5/25\n",
            "622/622 [==============================] - 7s 12ms/step - loss: 0.5668 - accuracy: 0.8441 - val_loss: 0.7908 - val_accuracy: 0.8232\n",
            "Epoch 6/25\n",
            "622/622 [==============================] - 7s 12ms/step - loss: 0.4954 - accuracy: 0.8618 - val_loss: 0.7713 - val_accuracy: 0.8342\n",
            "Epoch 7/25\n",
            "622/622 [==============================] - 7s 12ms/step - loss: 0.4266 - accuracy: 0.8787 - val_loss: 0.7133 - val_accuracy: 0.8458\n",
            "Epoch 8/25\n",
            "622/622 [==============================] - 7s 12ms/step - loss: 0.3706 - accuracy: 0.8930 - val_loss: 0.6102 - val_accuracy: 0.8537\n",
            "Epoch 9/25\n",
            "622/622 [==============================] - 7s 12ms/step - loss: 0.3279 - accuracy: 0.9047 - val_loss: 0.5678 - val_accuracy: 0.8624\n",
            "Epoch 10/25\n",
            "622/622 [==============================] - 7s 12ms/step - loss: 0.2901 - accuracy: 0.9146 - val_loss: 0.5413 - val_accuracy: 0.8657\n",
            "Epoch 11/25\n",
            "622/622 [==============================] - 7s 12ms/step - loss: 0.2626 - accuracy: 0.9227 - val_loss: 0.5081 - val_accuracy: 0.8740\n",
            "Epoch 12/25\n",
            "622/622 [==============================] - 7s 12ms/step - loss: 0.2411 - accuracy: 0.9288 - val_loss: 0.5176 - val_accuracy: 0.8802\n",
            "Epoch 13/25\n",
            "622/622 [==============================] - 7s 12ms/step - loss: 0.2240 - accuracy: 0.9342 - val_loss: 0.5592 - val_accuracy: 0.8786\n",
            "Epoch 14/25\n",
            "622/622 [==============================] - 7s 12ms/step - loss: 0.2091 - accuracy: 0.9389 - val_loss: 0.5036 - val_accuracy: 0.8819\n",
            "Epoch 15/25\n",
            "622/622 [==============================] - 7s 12ms/step - loss: 0.1961 - accuracy: 0.9426 - val_loss: 0.5078 - val_accuracy: 0.8865\n",
            "Epoch 16/25\n",
            "622/622 [==============================] - 7s 12ms/step - loss: 0.1842 - accuracy: 0.9457 - val_loss: 0.5271 - val_accuracy: 0.8814\n",
            "Epoch 17/25\n",
            "622/622 [==============================] - 7s 12ms/step - loss: 0.1731 - accuracy: 0.9495 - val_loss: 0.4922 - val_accuracy: 0.8863\n",
            "Epoch 18/25\n",
            "622/622 [==============================] - 7s 12ms/step - loss: 0.1639 - accuracy: 0.9522 - val_loss: 0.5536 - val_accuracy: 0.8842\n",
            "Epoch 19/25\n",
            "622/622 [==============================] - 7s 12ms/step - loss: 0.1570 - accuracy: 0.9544 - val_loss: 0.5629 - val_accuracy: 0.8786\n",
            "Epoch 20/25\n",
            "622/622 [==============================] - 7s 12ms/step - loss: 0.1491 - accuracy: 0.9566 - val_loss: 0.5648 - val_accuracy: 0.8798\n",
            "Epoch 21/25\n",
            "622/622 [==============================] - 7s 12ms/step - loss: 0.1414 - accuracy: 0.9585 - val_loss: 0.5611 - val_accuracy: 0.8827\n",
            "Epoch 22/25\n",
            "622/622 [==============================] - 8s 12ms/step - loss: 0.1353 - accuracy: 0.9606 - val_loss: 0.5041 - val_accuracy: 0.8857\n",
            "Epoch 23/25\n",
            "622/622 [==============================] - 8s 12ms/step - loss: 0.1292 - accuracy: 0.9620 - val_loss: 0.6984 - val_accuracy: 0.8729\n",
            "Epoch 24/25\n",
            "622/622 [==============================] - 8s 12ms/step - loss: 0.1255 - accuracy: 0.9634 - val_loss: 0.5587 - val_accuracy: 0.8832\n",
            "Epoch 25/25\n",
            "622/622 [==============================] - 7s 12ms/step - loss: 0.1194 - accuracy: 0.9652 - val_loss: 0.5838 - val_accuracy: 0.8806\n"
          ],
          "name": "stdout"
        },
        {
          "output_type": "display_data",
          "data": {
            "text/html": [
              "<br/>Waiting for W&B process to finish, PID 62635<br/>Program ended successfully."
            ],
            "text/plain": [
              "<IPython.core.display.HTML object>"
            ]
          },
          "metadata": {
            "tags": []
          }
        },
        {
          "output_type": "display_data",
          "data": {
            "application/vnd.jupyter.widget-view+json": {
              "model_id": "74d0c94940114b72a2647fea97352f9d",
              "version_major": 2,
              "version_minor": 0
            },
            "text/plain": [
              "VBox(children=(Label(value=' 5.85MB of 5.85MB uploaded (0.00MB deduped)\\r'), FloatProgress(value=1.0, max=1.0)…"
            ]
          },
          "metadata": {
            "tags": []
          }
        },
        {
          "output_type": "display_data",
          "data": {
            "text/html": [
              "Find user logs for this run at: <code>/content/wandb/run-20210522_150446-3l4zb248/logs/debug.log</code>"
            ],
            "text/plain": [
              "<IPython.core.display.HTML object>"
            ]
          },
          "metadata": {
            "tags": []
          }
        },
        {
          "output_type": "display_data",
          "data": {
            "text/html": [
              "Find internal logs for this run at: <code>/content/wandb/run-20210522_150446-3l4zb248/logs/debug-internal.log</code>"
            ],
            "text/plain": [
              "<IPython.core.display.HTML object>"
            ]
          },
          "metadata": {
            "tags": []
          }
        },
        {
          "output_type": "display_data",
          "data": {
            "text/html": [
              "<h3>Run summary:</h3><br/><style>\n",
              "    table.wandb td:nth-child(1) { padding: 0 10px; text-align: right }\n",
              "    </style><table class=\"wandb\">\n",
              "<tr><td>epoch</td><td>24</td></tr><tr><td>loss</td><td>0.12135</td></tr><tr><td>accuracy</td><td>0.96436</td></tr><tr><td>val_loss</td><td>0.5838</td></tr><tr><td>val_accuracy</td><td>0.88056</td></tr><tr><td>_runtime</td><td>224</td></tr><tr><td>_timestamp</td><td>1621696110</td></tr><tr><td>_step</td><td>25</td></tr><tr><td>best_val_loss</td><td>0.49221</td></tr><tr><td>best_epoch</td><td>16</td></tr><tr><td>word_acc</td><td>20.0</td></tr></table>"
            ],
            "text/plain": [
              "<IPython.core.display.HTML object>"
            ]
          },
          "metadata": {
            "tags": []
          }
        },
        {
          "output_type": "display_data",
          "data": {
            "text/html": [
              "<h3>Run history:</h3><br/><style>\n",
              "    table.wandb td:nth-child(1) { padding: 0 10px; text-align: right }\n",
              "    </style><table class=\"wandb\">\n",
              "<tr><td>epoch</td><td>▁▁▂▂▂▂▃▃▃▄▄▄▅▅▅▅▆▆▆▇▇▇▇██</td></tr><tr><td>loss</td><td>█▆▆▅▄▄▃▃▃▂▂▂▂▂▂▂▁▁▁▁▁▁▁▁▁</td></tr><tr><td>accuracy</td><td>▁▂▃▃▄▅▅▆▆▆▇▇▇▇▇▇▇████████</td></tr><tr><td>val_loss</td><td>█▇▇▆▆▆▅▃▂▂▁▁▂▁▁▂▁▂▂▂▂▁▄▂▃</td></tr><tr><td>val_accuracy</td><td>▁▂▂▄▄▅▆▆▇▇▇███████████▇██</td></tr><tr><td>_runtime</td><td>▁▁▁▂▂▂▃▃▃▃▃▄▄▄▄▅▅▅▅▆▆▆▆▇▇█</td></tr><tr><td>_timestamp</td><td>▁▁▁▂▂▂▃▃▃▃▃▄▄▄▄▅▅▅▅▆▆▆▆▇▇█</td></tr><tr><td>_step</td><td>▁▁▂▂▂▂▃▃▃▄▄▄▄▅▅▅▅▆▆▆▇▇▇▇██</td></tr><tr><td>word_acc</td><td>▁</td></tr></table><br/>"
            ],
            "text/plain": [
              "<IPython.core.display.HTML object>"
            ]
          },
          "metadata": {
            "tags": []
          }
        },
        {
          "output_type": "display_data",
          "data": {
            "text/html": [
              "Synced 5 W&B file(s), 1 media file(s), 0 artifact file(s) and 1 other file(s)"
            ],
            "text/plain": [
              "<IPython.core.display.HTML object>"
            ]
          },
          "metadata": {
            "tags": []
          }
        },
        {
          "output_type": "display_data",
          "data": {
            "text/html": [
              "\n",
              "                    <br/>Synced <strong style=\"color:#cdcd00\">grateful-sweep-2</strong>: <a href=\"https://wandb.ai/theindianwriter/CS6910-Assignment3/runs/3l4zb248\" target=\"_blank\">https://wandb.ai/theindianwriter/CS6910-Assignment3/runs/3l4zb248</a><br/>\n",
              "                "
            ],
            "text/plain": [
              "<IPython.core.display.HTML object>"
            ]
          },
          "metadata": {
            "tags": []
          }
        },
        {
          "output_type": "stream",
          "text": [
            "\u001b[34m\u001b[1mwandb\u001b[0m: Agent Starting Run: zxg33ii8 with config:\n",
            "\u001b[34m\u001b[1mwandb\u001b[0m: \tbatch_size: 64\n",
            "\u001b[34m\u001b[1mwandb\u001b[0m: \tcell_type: GRU\n",
            "\u001b[34m\u001b[1mwandb\u001b[0m: \tdrop_out_ratio: 0.2\n",
            "\u001b[34m\u001b[1mwandb\u001b[0m: \tembedding_size: 128\n",
            "\u001b[34m\u001b[1mwandb\u001b[0m: \tepochs: 25\n",
            "\u001b[34m\u001b[1mwandb\u001b[0m: \thidden_layer_size: 64\n",
            "\u001b[34m\u001b[1mwandb\u001b[0m: \tnum_decoder_layers: 3\n",
            "\u001b[34m\u001b[1mwandb\u001b[0m: \tnum_encoder_layers: 3\n",
            "\u001b[34m\u001b[1mwandb\u001b[0m: \toptimizer: adam\n",
            "\u001b[34m\u001b[1mwandb\u001b[0m: \u001b[33mWARNING\u001b[0m Ignored wandb.init() arg project when running a sweep\n"
          ],
          "name": "stderr"
        },
        {
          "output_type": "display_data",
          "data": {
            "text/html": [
              "\n",
              "                Tracking run with wandb version 0.10.30<br/>\n",
              "                Syncing run <strong style=\"color:#cdcd00\">charmed-sweep-3</strong> to <a href=\"https://wandb.ai\" target=\"_blank\">Weights & Biases</a> <a href=\"https://docs.wandb.com/integrations/jupyter.html\" target=\"_blank\">(Documentation)</a>.<br/>\n",
              "                Project page: <a href=\"https://wandb.ai/theindianwriter/CS6910-Assignment3\" target=\"_blank\">https://wandb.ai/theindianwriter/CS6910-Assignment3</a><br/>\n",
              "                Sweep page: <a href=\"https://wandb.ai/theindianwriter/CS6910-Assignment3/sweeps/nk5cbn8i\" target=\"_blank\">https://wandb.ai/theindianwriter/CS6910-Assignment3/sweeps/nk5cbn8i</a><br/>\n",
              "Run page: <a href=\"https://wandb.ai/theindianwriter/CS6910-Assignment3/runs/zxg33ii8\" target=\"_blank\">https://wandb.ai/theindianwriter/CS6910-Assignment3/runs/zxg33ii8</a><br/>\n",
              "                Run data is saved locally in <code>/content/wandb/run-20210522_150835-zxg33ii8</code><br/><br/>\n",
              "            "
            ],
            "text/plain": [
              "<IPython.core.display.HTML object>"
            ]
          },
          "metadata": {
            "tags": []
          }
        },
        {
          "output_type": "stream",
          "text": [
            "Epoch 1/25\n",
            "622/622 [==============================] - 22s 22ms/step - loss: 1.4958 - accuracy: 0.7238 - val_loss: 0.9719 - val_accuracy: 0.7597\n",
            "Epoch 2/25\n",
            "622/622 [==============================] - 12s 19ms/step - loss: 0.8950 - accuracy: 0.7740 - val_loss: 0.8561 - val_accuracy: 0.7741\n",
            "Epoch 3/25\n",
            "622/622 [==============================] - 11s 18ms/step - loss: 0.7934 - accuracy: 0.7896 - val_loss: 0.7864 - val_accuracy: 0.7855\n",
            "Epoch 4/25\n",
            "622/622 [==============================] - 12s 19ms/step - loss: 0.7054 - accuracy: 0.8071 - val_loss: 0.7409 - val_accuracy: 0.7946\n",
            "Epoch 5/25\n",
            "622/622 [==============================] - 11s 18ms/step - loss: 0.6392 - accuracy: 0.8197 - val_loss: 0.6953 - val_accuracy: 0.8062\n",
            "Epoch 6/25\n",
            "622/622 [==============================] - 11s 18ms/step - loss: 0.5809 - accuracy: 0.8341 - val_loss: 0.6492 - val_accuracy: 0.8225\n",
            "Epoch 7/25\n",
            "622/622 [==============================] - 12s 19ms/step - loss: 0.5343 - accuracy: 0.8470 - val_loss: 0.6005 - val_accuracy: 0.8357\n",
            "Epoch 8/25\n",
            "622/622 [==============================] - 11s 18ms/step - loss: 0.4826 - accuracy: 0.8589 - val_loss: 0.5732 - val_accuracy: 0.8428\n",
            "Epoch 9/25\n",
            "622/622 [==============================] - 11s 18ms/step - loss: 0.4479 - accuracy: 0.8667 - val_loss: 0.5351 - val_accuracy: 0.8515\n",
            "Epoch 10/25\n",
            "622/622 [==============================] - 11s 18ms/step - loss: 0.4221 - accuracy: 0.8735 - val_loss: 0.5037 - val_accuracy: 0.8604\n",
            "Epoch 11/25\n",
            "622/622 [==============================] - 11s 18ms/step - loss: 0.4056 - accuracy: 0.8796 - val_loss: 0.4980 - val_accuracy: 0.8609\n",
            "Epoch 12/25\n",
            "622/622 [==============================] - 12s 19ms/step - loss: 0.3909 - accuracy: 0.8851 - val_loss: 0.4686 - val_accuracy: 0.8709\n",
            "Epoch 13/25\n",
            "622/622 [==============================] - 12s 19ms/step - loss: 0.3674 - accuracy: 0.8893 - val_loss: 0.4549 - val_accuracy: 0.8743\n",
            "Epoch 14/25\n",
            "622/622 [==============================] - 12s 19ms/step - loss: 0.3615 - accuracy: 0.8939 - val_loss: 0.4693 - val_accuracy: 0.8775\n",
            "Epoch 15/25\n",
            "622/622 [==============================] - 11s 18ms/step - loss: 0.3496 - accuracy: 0.8977 - val_loss: 0.4339 - val_accuracy: 0.8809\n",
            "Epoch 16/25\n",
            "622/622 [==============================] - 12s 19ms/step - loss: 0.3296 - accuracy: 0.9007 - val_loss: 0.4322 - val_accuracy: 0.8808\n",
            "Epoch 17/25\n",
            "622/622 [==============================] - 12s 19ms/step - loss: 0.3261 - accuracy: 0.9028 - val_loss: 0.4717 - val_accuracy: 0.8806\n",
            "Epoch 18/25\n",
            "622/622 [==============================] - 12s 19ms/step - loss: 0.3145 - accuracy: 0.9057 - val_loss: 0.4537 - val_accuracy: 0.8801\n",
            "Epoch 19/25\n",
            "622/622 [==============================] - 12s 19ms/step - loss: 0.3090 - accuracy: 0.9072 - val_loss: 0.4117 - val_accuracy: 0.8869\n",
            "Epoch 20/25\n",
            "622/622 [==============================] - 12s 19ms/step - loss: 0.2888 - accuracy: 0.9102 - val_loss: 0.5623 - val_accuracy: 0.8880\n",
            "Epoch 21/25\n",
            "622/622 [==============================] - 12s 19ms/step - loss: 0.3079 - accuracy: 0.9105 - val_loss: 0.4107 - val_accuracy: 0.8884\n",
            "Epoch 22/25\n",
            "622/622 [==============================] - 12s 19ms/step - loss: 0.2922 - accuracy: 0.9142 - val_loss: 0.3955 - val_accuracy: 0.8930\n",
            "Epoch 23/25\n",
            "622/622 [==============================] - 12s 19ms/step - loss: 0.2763 - accuracy: 0.9148 - val_loss: 0.4410 - val_accuracy: 0.8858\n",
            "Epoch 24/25\n",
            "622/622 [==============================] - 11s 18ms/step - loss: 0.2805 - accuracy: 0.9157 - val_loss: 0.4293 - val_accuracy: 0.8875\n",
            "Epoch 25/25\n",
            "622/622 [==============================] - 11s 18ms/step - loss: 0.2824 - accuracy: 0.9175 - val_loss: 0.4032 - val_accuracy: 0.8934\n"
          ],
          "name": "stdout"
        },
        {
          "output_type": "display_data",
          "data": {
            "text/html": [
              "<br/>Waiting for W&B process to finish, PID 65179<br/>Program ended successfully."
            ],
            "text/plain": [
              "<IPython.core.display.HTML object>"
            ]
          },
          "metadata": {
            "tags": []
          }
        },
        {
          "output_type": "display_data",
          "data": {
            "application/vnd.jupyter.widget-view+json": {
              "model_id": "c12b7023419140ddb5d3c2e5a036595e",
              "version_major": 2,
              "version_minor": 0
            },
            "text/plain": [
              "VBox(children=(Label(value=' 2.24MB of 2.24MB uploaded (0.00MB deduped)\\r'), FloatProgress(value=1.0, max=1.0)…"
            ]
          },
          "metadata": {
            "tags": []
          }
        },
        {
          "output_type": "display_data",
          "data": {
            "text/html": [
              "Find user logs for this run at: <code>/content/wandb/run-20210522_150835-zxg33ii8/logs/debug.log</code>"
            ],
            "text/plain": [
              "<IPython.core.display.HTML object>"
            ]
          },
          "metadata": {
            "tags": []
          }
        },
        {
          "output_type": "display_data",
          "data": {
            "text/html": [
              "Find internal logs for this run at: <code>/content/wandb/run-20210522_150835-zxg33ii8/logs/debug-internal.log</code>"
            ],
            "text/plain": [
              "<IPython.core.display.HTML object>"
            ]
          },
          "metadata": {
            "tags": []
          }
        },
        {
          "output_type": "display_data",
          "data": {
            "text/html": [
              "<h3>Run summary:</h3><br/><style>\n",
              "    table.wandb td:nth-child(1) { padding: 0 10px; text-align: right }\n",
              "    </style><table class=\"wandb\">\n",
              "<tr><td>epoch</td><td>24</td></tr><tr><td>loss</td><td>0.27329</td></tr><tr><td>accuracy</td><td>0.91754</td></tr><tr><td>val_loss</td><td>0.40316</td></tr><tr><td>val_accuracy</td><td>0.89342</td></tr><tr><td>_runtime</td><td>343</td></tr><tr><td>_timestamp</td><td>1621696458</td></tr><tr><td>_step</td><td>25</td></tr><tr><td>best_val_loss</td><td>0.39552</td></tr><tr><td>best_epoch</td><td>21</td></tr><tr><td>word_acc</td><td>0.0</td></tr></table>"
            ],
            "text/plain": [
              "<IPython.core.display.HTML object>"
            ]
          },
          "metadata": {
            "tags": []
          }
        },
        {
          "output_type": "display_data",
          "data": {
            "text/html": [
              "<h3>Run history:</h3><br/><style>\n",
              "    table.wandb td:nth-child(1) { padding: 0 10px; text-align: right }\n",
              "    </style><table class=\"wandb\">\n",
              "<tr><td>epoch</td><td>▁▁▂▂▂▂▃▃▃▄▄▄▅▅▅▅▆▆▆▇▇▇▇██</td></tr><tr><td>loss</td><td>█▆▅▄▄▃▃▃▂▂▂▂▂▂▂▁▁▁▁▁▁▁▁▁▁</td></tr><tr><td>accuracy</td><td>▁▂▃▄▄▅▅▆▆▆▆▇▇▇▇▇▇████████</td></tr><tr><td>val_loss</td><td>█▇▆▅▅▄▃▃▃▂▂▂▂▂▁▁▂▂▁▃▁▁▂▁▁</td></tr><tr><td>val_accuracy</td><td>▁▂▂▃▃▄▅▅▆▆▆▇▇▇▇▇▇▇███████</td></tr><tr><td>_runtime</td><td>▁▁▂▂▂▂▃▃▃▃▄▄▄▄▅▅▅▅▆▆▆▆▇▇▇█</td></tr><tr><td>_timestamp</td><td>▁▁▂▂▂▂▃▃▃▃▄▄▄▄▅▅▅▅▆▆▆▆▇▇▇█</td></tr><tr><td>_step</td><td>▁▁▂▂▂▂▃▃▃▄▄▄▄▅▅▅▅▆▆▆▇▇▇▇██</td></tr><tr><td>word_acc</td><td>▁</td></tr></table><br/>"
            ],
            "text/plain": [
              "<IPython.core.display.HTML object>"
            ]
          },
          "metadata": {
            "tags": []
          }
        },
        {
          "output_type": "display_data",
          "data": {
            "text/html": [
              "Synced 5 W&B file(s), 1 media file(s), 0 artifact file(s) and 1 other file(s)"
            ],
            "text/plain": [
              "<IPython.core.display.HTML object>"
            ]
          },
          "metadata": {
            "tags": []
          }
        },
        {
          "output_type": "display_data",
          "data": {
            "text/html": [
              "\n",
              "                    <br/>Synced <strong style=\"color:#cdcd00\">charmed-sweep-3</strong>: <a href=\"https://wandb.ai/theindianwriter/CS6910-Assignment3/runs/zxg33ii8\" target=\"_blank\">https://wandb.ai/theindianwriter/CS6910-Assignment3/runs/zxg33ii8</a><br/>\n",
              "                "
            ],
            "text/plain": [
              "<IPython.core.display.HTML object>"
            ]
          },
          "metadata": {
            "tags": []
          }
        },
        {
          "output_type": "stream",
          "text": [
            "\u001b[34m\u001b[1mwandb\u001b[0m: Agent Starting Run: 7huus76g with config:\n",
            "\u001b[34m\u001b[1mwandb\u001b[0m: \tbatch_size: 64\n",
            "\u001b[34m\u001b[1mwandb\u001b[0m: \tcell_type: SimpleRNN\n",
            "\u001b[34m\u001b[1mwandb\u001b[0m: \tdrop_out_ratio: 0.2\n",
            "\u001b[34m\u001b[1mwandb\u001b[0m: \tembedding_size: 128\n",
            "\u001b[34m\u001b[1mwandb\u001b[0m: \tepochs: 25\n",
            "\u001b[34m\u001b[1mwandb\u001b[0m: \thidden_layer_size: 256\n",
            "\u001b[34m\u001b[1mwandb\u001b[0m: \tnum_decoder_layers: 1\n",
            "\u001b[34m\u001b[1mwandb\u001b[0m: \tnum_encoder_layers: 1\n",
            "\u001b[34m\u001b[1mwandb\u001b[0m: \toptimizer: rmsprop\n",
            "\u001b[34m\u001b[1mwandb\u001b[0m: \u001b[33mWARNING\u001b[0m Ignored wandb.init() arg project when running a sweep\n"
          ],
          "name": "stderr"
        },
        {
          "output_type": "display_data",
          "data": {
            "text/html": [
              "\n",
              "                Tracking run with wandb version 0.10.30<br/>\n",
              "                Syncing run <strong style=\"color:#cdcd00\">vital-sweep-4</strong> to <a href=\"https://wandb.ai\" target=\"_blank\">Weights & Biases</a> <a href=\"https://docs.wandb.com/integrations/jupyter.html\" target=\"_blank\">(Documentation)</a>.<br/>\n",
              "                Project page: <a href=\"https://wandb.ai/theindianwriter/CS6910-Assignment3\" target=\"_blank\">https://wandb.ai/theindianwriter/CS6910-Assignment3</a><br/>\n",
              "                Sweep page: <a href=\"https://wandb.ai/theindianwriter/CS6910-Assignment3/sweeps/nk5cbn8i\" target=\"_blank\">https://wandb.ai/theindianwriter/CS6910-Assignment3/sweeps/nk5cbn8i</a><br/>\n",
              "Run page: <a href=\"https://wandb.ai/theindianwriter/CS6910-Assignment3/runs/7huus76g\" target=\"_blank\">https://wandb.ai/theindianwriter/CS6910-Assignment3/runs/7huus76g</a><br/>\n",
              "                Run data is saved locally in <code>/content/wandb/run-20210522_151425-7huus76g</code><br/><br/>\n",
              "            "
            ],
            "text/plain": [
              "<IPython.core.display.HTML object>"
            ]
          },
          "metadata": {
            "tags": []
          }
        },
        {
          "output_type": "stream",
          "text": [
            "Epoch 1/25\n",
            "622/622 [==============================] - 33s 50ms/step - loss: 1.2804 - accuracy: 0.7223 - val_loss: 0.9462 - val_accuracy: 0.7660\n",
            "Epoch 2/25\n",
            "622/622 [==============================] - 30s 48ms/step - loss: 0.9123 - accuracy: 0.7745 - val_loss: 0.9199 - val_accuracy: 0.7627\n",
            "Epoch 3/25\n",
            "622/622 [==============================] - 30s 48ms/step - loss: 0.8221 - accuracy: 0.7819 - val_loss: 0.8887 - val_accuracy: 0.7646\n",
            "Epoch 4/25\n",
            "622/622 [==============================] - 30s 48ms/step - loss: 0.7940 - accuracy: 0.7840 - val_loss: 0.8821 - val_accuracy: 0.7649\n",
            "Epoch 5/25\n",
            "622/622 [==============================] - 30s 48ms/step - loss: 0.7765 - accuracy: 0.7810 - val_loss: 0.9777 - val_accuracy: 0.7630\n",
            "Epoch 6/25\n",
            "622/622 [==============================] - 30s 48ms/step - loss: 0.7687 - accuracy: 0.7648 - val_loss: 0.8980 - val_accuracy: 0.7652\n",
            "Epoch 7/25\n",
            "622/622 [==============================] - 29s 47ms/step - loss: 0.7614 - accuracy: 0.7551 - val_loss: 0.9170 - val_accuracy: 0.7684\n",
            "Epoch 8/25\n",
            "622/622 [==============================] - 30s 48ms/step - loss: 0.7554 - accuracy: 0.7603 - val_loss: 0.9035 - val_accuracy: 0.7264\n",
            "Epoch 9/25\n",
            "622/622 [==============================] - 30s 48ms/step - loss: 0.7524 - accuracy: 0.7511 - val_loss: 0.9414 - val_accuracy: 0.7210\n",
            "Epoch 10/25\n",
            "622/622 [==============================] - 30s 48ms/step - loss: 0.7530 - accuracy: 0.7555 - val_loss: 0.9280 - val_accuracy: 0.7262\n",
            "Epoch 11/25\n",
            "622/622 [==============================] - 30s 48ms/step - loss: 0.7501 - accuracy: 0.7550 - val_loss: 0.9296 - val_accuracy: 0.7257\n",
            "Epoch 12/25\n",
            "622/622 [==============================] - 30s 49ms/step - loss: 0.7489 - accuracy: 0.7524 - val_loss: 0.9879 - val_accuracy: 0.7201\n",
            "Epoch 13/25\n",
            "622/622 [==============================] - 30s 48ms/step - loss: 0.7512 - accuracy: 0.7522 - val_loss: 0.9478 - val_accuracy: 0.7294\n",
            "Epoch 14/25\n",
            "622/622 [==============================] - 30s 48ms/step - loss: 0.7479 - accuracy: 0.7525 - val_loss: 0.9662 - val_accuracy: 0.7222\n",
            "Epoch 15/25\n",
            "622/622 [==============================] - 30s 48ms/step - loss: 0.7461 - accuracy: 0.7583 - val_loss: 0.9614 - val_accuracy: 0.7637\n",
            "Epoch 16/25\n",
            "622/622 [==============================] - 30s 48ms/step - loss: 0.7460 - accuracy: 0.7542 - val_loss: 1.0160 - val_accuracy: 0.7194\n",
            "Epoch 17/25\n",
            "622/622 [==============================] - 30s 48ms/step - loss: 0.7498 - accuracy: 0.7516 - val_loss: 0.9802 - val_accuracy: 0.7217\n",
            "Epoch 18/25\n",
            "622/622 [==============================] - 29s 47ms/step - loss: 0.7477 - accuracy: 0.7530 - val_loss: 1.0117 - val_accuracy: 0.7183\n",
            "Epoch 19/25\n",
            "622/622 [==============================] - 30s 49ms/step - loss: 0.7467 - accuracy: 0.7595 - val_loss: 0.9934 - val_accuracy: 0.7272\n",
            "Epoch 20/25\n",
            "622/622 [==============================] - 29s 47ms/step - loss: 0.7481 - accuracy: 0.7535 - val_loss: 0.9972 - val_accuracy: 0.7227\n",
            "Epoch 21/25\n",
            "622/622 [==============================] - 30s 48ms/step - loss: 0.7487 - accuracy: 0.7542 - val_loss: 1.0010 - val_accuracy: 0.7222\n",
            "Epoch 22/25\n",
            "622/622 [==============================] - 29s 47ms/step - loss: 0.7440 - accuracy: 0.7544 - val_loss: 1.0529 - val_accuracy: 0.7230\n",
            "Epoch 23/25\n",
            "622/622 [==============================] - 30s 48ms/step - loss: 0.7480 - accuracy: 0.7537 - val_loss: 1.0268 - val_accuracy: 0.7242\n",
            "Epoch 24/25\n",
            "622/622 [==============================] - 30s 48ms/step - loss: 0.7528 - accuracy: 0.7535 - val_loss: 1.0358 - val_accuracy: 0.7242\n",
            "Epoch 25/25\n",
            "622/622 [==============================] - 31s 50ms/step - loss: 0.7514 - accuracy: 0.7536 - val_loss: 1.0813 - val_accuracy: 0.7215\n"
          ],
          "name": "stdout"
        },
        {
          "output_type": "display_data",
          "data": {
            "text/html": [
              "<br/>Waiting for W&B process to finish, PID 68374<br/>Program ended successfully."
            ],
            "text/plain": [
              "<IPython.core.display.HTML object>"
            ]
          },
          "metadata": {
            "tags": []
          }
        },
        {
          "output_type": "display_data",
          "data": {
            "application/vnd.jupyter.widget-view+json": {
              "model_id": "b699557a52764352b73e8166860f86ff",
              "version_major": 2,
              "version_minor": 0
            },
            "text/plain": [
              "VBox(children=(Label(value=' 1.84MB of 1.84MB uploaded (0.00MB deduped)\\r'), FloatProgress(value=1.0, max=1.0)…"
            ]
          },
          "metadata": {
            "tags": []
          }
        },
        {
          "output_type": "display_data",
          "data": {
            "text/html": [
              "Find user logs for this run at: <code>/content/wandb/run-20210522_151425-7huus76g/logs/debug.log</code>"
            ],
            "text/plain": [
              "<IPython.core.display.HTML object>"
            ]
          },
          "metadata": {
            "tags": []
          }
        },
        {
          "output_type": "display_data",
          "data": {
            "text/html": [
              "Find internal logs for this run at: <code>/content/wandb/run-20210522_151425-7huus76g/logs/debug-internal.log</code>"
            ],
            "text/plain": [
              "<IPython.core.display.HTML object>"
            ]
          },
          "metadata": {
            "tags": []
          }
        },
        {
          "output_type": "display_data",
          "data": {
            "text/html": [
              "<h3>Run summary:</h3><br/><style>\n",
              "    table.wandb td:nth-child(1) { padding: 0 10px; text-align: right }\n",
              "    </style><table class=\"wandb\">\n",
              "<tr><td>epoch</td><td>24</td></tr><tr><td>loss</td><td>0.752</td></tr><tr><td>accuracy</td><td>0.75487</td></tr><tr><td>val_loss</td><td>1.08133</td></tr><tr><td>val_accuracy</td><td>0.72151</td></tr><tr><td>_runtime</td><td>781</td></tr><tr><td>_timestamp</td><td>1621697246</td></tr><tr><td>_step</td><td>25</td></tr><tr><td>best_val_loss</td><td>0.88212</td></tr><tr><td>best_epoch</td><td>3</td></tr><tr><td>word_acc</td><td>0.0</td></tr></table>"
            ],
            "text/plain": [
              "<IPython.core.display.HTML object>"
            ]
          },
          "metadata": {
            "tags": []
          }
        },
        {
          "output_type": "display_data",
          "data": {
            "text/html": [
              "<h3>Run history:</h3><br/><style>\n",
              "    table.wandb td:nth-child(1) { padding: 0 10px; text-align: right }\n",
              "    </style><table class=\"wandb\">\n",
              "<tr><td>epoch</td><td>▁▁▂▂▂▂▃▃▃▄▄▄▅▅▅▅▆▆▆▇▇▇▇██</td></tr><tr><td>loss</td><td>█▃▂▂▂▁▁▁▁▁▁▁▁▁▁▁▁▁▁▁▁▁▁▁▁</td></tr><tr><td>accuracy</td><td>▁▇██▆▄▁▃▂▃▂▂▂▂▃▂▁▂▂▂▂▂▂▂▂</td></tr><tr><td>val_loss</td><td>▃▂▁▁▄▂▂▂▃▃▃▅▃▄▄▆▄▆▅▅▅▇▆▆█</td></tr><tr><td>val_accuracy</td><td>█▇▇█▇██▂▁▂▂▁▃▂▇▁▁▁▂▂▂▂▂▂▁</td></tr><tr><td>_runtime</td><td>▁▁▂▂▂▂▃▃▃▄▄▄▄▅▅▅▅▆▆▆▇▇▇▇██</td></tr><tr><td>_timestamp</td><td>▁▁▂▂▂▂▃▃▃▄▄▄▄▅▅▅▅▆▆▆▇▇▇▇██</td></tr><tr><td>_step</td><td>▁▁▂▂▂▂▃▃▃▄▄▄▄▅▅▅▅▆▆▆▇▇▇▇██</td></tr><tr><td>word_acc</td><td>▁</td></tr></table><br/>"
            ],
            "text/plain": [
              "<IPython.core.display.HTML object>"
            ]
          },
          "metadata": {
            "tags": []
          }
        },
        {
          "output_type": "display_data",
          "data": {
            "text/html": [
              "Synced 5 W&B file(s), 1 media file(s), 0 artifact file(s) and 1 other file(s)"
            ],
            "text/plain": [
              "<IPython.core.display.HTML object>"
            ]
          },
          "metadata": {
            "tags": []
          }
        },
        {
          "output_type": "display_data",
          "data": {
            "text/html": [
              "\n",
              "                    <br/>Synced <strong style=\"color:#cdcd00\">vital-sweep-4</strong>: <a href=\"https://wandb.ai/theindianwriter/CS6910-Assignment3/runs/7huus76g\" target=\"_blank\">https://wandb.ai/theindianwriter/CS6910-Assignment3/runs/7huus76g</a><br/>\n",
              "                "
            ],
            "text/plain": [
              "<IPython.core.display.HTML object>"
            ]
          },
          "metadata": {
            "tags": []
          }
        },
        {
          "output_type": "stream",
          "text": [
            "\u001b[34m\u001b[1mwandb\u001b[0m: Agent Starting Run: z1gbe5sw with config:\n",
            "\u001b[34m\u001b[1mwandb\u001b[0m: \tbatch_size: 64\n",
            "\u001b[34m\u001b[1mwandb\u001b[0m: \tcell_type: LSTM\n",
            "\u001b[34m\u001b[1mwandb\u001b[0m: \tdrop_out_ratio: 0.4\n",
            "\u001b[34m\u001b[1mwandb\u001b[0m: \tembedding_size: 64\n",
            "\u001b[34m\u001b[1mwandb\u001b[0m: \tepochs: 25\n",
            "\u001b[34m\u001b[1mwandb\u001b[0m: \thidden_layer_size: 256\n",
            "\u001b[34m\u001b[1mwandb\u001b[0m: \tnum_decoder_layers: 1\n",
            "\u001b[34m\u001b[1mwandb\u001b[0m: \tnum_encoder_layers: 2\n",
            "\u001b[34m\u001b[1mwandb\u001b[0m: \toptimizer: rmsprop\n",
            "\u001b[34m\u001b[1mwandb\u001b[0m: \u001b[33mWARNING\u001b[0m Ignored wandb.init() arg project when running a sweep\n"
          ],
          "name": "stderr"
        },
        {
          "output_type": "display_data",
          "data": {
            "text/html": [
              "\n",
              "                Tracking run with wandb version 0.10.30<br/>\n",
              "                Syncing run <strong style=\"color:#cdcd00\">worthy-sweep-5</strong> to <a href=\"https://wandb.ai\" target=\"_blank\">Weights & Biases</a> <a href=\"https://docs.wandb.com/integrations/jupyter.html\" target=\"_blank\">(Documentation)</a>.<br/>\n",
              "                Project page: <a href=\"https://wandb.ai/theindianwriter/CS6910-Assignment3\" target=\"_blank\">https://wandb.ai/theindianwriter/CS6910-Assignment3</a><br/>\n",
              "                Sweep page: <a href=\"https://wandb.ai/theindianwriter/CS6910-Assignment3/sweeps/nk5cbn8i\" target=\"_blank\">https://wandb.ai/theindianwriter/CS6910-Assignment3/sweeps/nk5cbn8i</a><br/>\n",
              "Run page: <a href=\"https://wandb.ai/theindianwriter/CS6910-Assignment3/runs/z1gbe5sw\" target=\"_blank\">https://wandb.ai/theindianwriter/CS6910-Assignment3/runs/z1gbe5sw</a><br/>\n",
              "                Run data is saved locally in <code>/content/wandb/run-20210522_152734-z1gbe5sw</code><br/><br/>\n",
              "            "
            ],
            "text/plain": [
              "<IPython.core.display.HTML object>"
            ]
          },
          "metadata": {
            "tags": []
          }
        },
        {
          "output_type": "stream",
          "text": [
            "Epoch 1/25\n",
            "622/622 [==============================] - 17s 19ms/step - loss: 1.1492 - accuracy: 0.7344 - val_loss: 0.8774 - val_accuracy: 0.7722\n",
            "Epoch 2/25\n",
            "622/622 [==============================] - 10s 16ms/step - loss: 0.8275 - accuracy: 0.7816 - val_loss: 0.9010 - val_accuracy: 0.7691\n",
            "Epoch 3/25\n",
            "622/622 [==============================] - 10s 16ms/step - loss: 0.7418 - accuracy: 0.8001 - val_loss: 0.8393 - val_accuracy: 0.7849\n",
            "Epoch 4/25\n",
            "622/622 [==============================] - 10s 16ms/step - loss: 0.6922 - accuracy: 0.8108 - val_loss: 0.8023 - val_accuracy: 0.7992\n",
            "Epoch 5/25\n",
            "622/622 [==============================] - 10s 16ms/step - loss: 0.6442 - accuracy: 0.8220 - val_loss: 0.7211 - val_accuracy: 0.8084\n",
            "Epoch 6/25\n",
            "622/622 [==============================] - 10s 17ms/step - loss: 0.5890 - accuracy: 0.8359 - val_loss: 0.7026 - val_accuracy: 0.8146\n",
            "Epoch 7/25\n",
            "622/622 [==============================] - 10s 16ms/step - loss: 0.5272 - accuracy: 0.8515 - val_loss: 0.6133 - val_accuracy: 0.8328\n",
            "Epoch 8/25\n",
            "622/622 [==============================] - 10s 16ms/step - loss: 0.4632 - accuracy: 0.8671 - val_loss: 0.5832 - val_accuracy: 0.8476\n",
            "Epoch 9/25\n",
            "622/622 [==============================] - 10s 16ms/step - loss: 0.4093 - accuracy: 0.8818 - val_loss: 0.5611 - val_accuracy: 0.8541\n",
            "Epoch 10/25\n",
            "622/622 [==============================] - 10s 16ms/step - loss: 0.3618 - accuracy: 0.8949 - val_loss: 0.5129 - val_accuracy: 0.8704\n",
            "Epoch 11/25\n",
            "622/622 [==============================] - 10s 16ms/step - loss: 0.3207 - accuracy: 0.9069 - val_loss: 0.5381 - val_accuracy: 0.8726\n",
            "Epoch 12/25\n",
            "622/622 [==============================] - 10s 16ms/step - loss: 0.2911 - accuracy: 0.9147 - val_loss: 0.5027 - val_accuracy: 0.8786\n",
            "Epoch 13/25\n",
            "622/622 [==============================] - 10s 15ms/step - loss: 0.2666 - accuracy: 0.9224 - val_loss: 0.5244 - val_accuracy: 0.8847\n",
            "Epoch 14/25\n",
            "622/622 [==============================] - 10s 15ms/step - loss: 0.2447 - accuracy: 0.9287 - val_loss: 0.5179 - val_accuracy: 0.8767\n",
            "Epoch 15/25\n",
            "622/622 [==============================] - 10s 16ms/step - loss: 0.2289 - accuracy: 0.9333 - val_loss: 0.4441 - val_accuracy: 0.8918\n",
            "Epoch 16/25\n",
            "622/622 [==============================] - 10s 16ms/step - loss: 0.2162 - accuracy: 0.9369 - val_loss: 0.5506 - val_accuracy: 0.8813\n",
            "Epoch 17/25\n",
            "622/622 [==============================] - 10s 16ms/step - loss: 0.2016 - accuracy: 0.9414 - val_loss: 0.4864 - val_accuracy: 0.8906\n",
            "Epoch 18/25\n",
            "622/622 [==============================] - 10s 16ms/step - loss: 0.1907 - accuracy: 0.9452 - val_loss: 0.5552 - val_accuracy: 0.8820\n",
            "Epoch 19/25\n",
            "622/622 [==============================] - 10s 16ms/step - loss: 0.1808 - accuracy: 0.9476 - val_loss: 0.5047 - val_accuracy: 0.8870\n",
            "Epoch 20/25\n",
            "622/622 [==============================] - 10s 16ms/step - loss: 0.1725 - accuracy: 0.9501 - val_loss: 0.5816 - val_accuracy: 0.8832\n",
            "Epoch 21/25\n",
            "622/622 [==============================] - 10s 16ms/step - loss: 0.1638 - accuracy: 0.9532 - val_loss: 0.5843 - val_accuracy: 0.8847\n",
            "Epoch 22/25\n",
            "622/622 [==============================] - 10s 16ms/step - loss: 0.1576 - accuracy: 0.9549 - val_loss: 0.5595 - val_accuracy: 0.8855\n",
            "Epoch 23/25\n",
            "622/622 [==============================] - 10s 16ms/step - loss: 0.1505 - accuracy: 0.9574 - val_loss: 0.5687 - val_accuracy: 0.8858\n",
            "Epoch 24/25\n",
            "622/622 [==============================] - 10s 16ms/step - loss: 0.1437 - accuracy: 0.9594 - val_loss: 0.5950 - val_accuracy: 0.8847\n",
            "Epoch 25/25\n",
            "622/622 [==============================] - 10s 16ms/step - loss: 0.1385 - accuracy: 0.9610 - val_loss: 0.6185 - val_accuracy: 0.8863\n"
          ],
          "name": "stdout"
        },
        {
          "output_type": "display_data",
          "data": {
            "text/html": [
              "<br/>Waiting for W&B process to finish, PID 70871<br/>Program ended successfully."
            ],
            "text/plain": [
              "<IPython.core.display.HTML object>"
            ]
          },
          "metadata": {
            "tags": []
          }
        },
        {
          "output_type": "display_data",
          "data": {
            "application/vnd.jupyter.widget-view+json": {
              "model_id": "d4f6997ad2a64f489b5171997bf15dd2",
              "version_major": 2,
              "version_minor": 0
            },
            "text/plain": [
              "VBox(children=(Label(value=' 9.87MB of 9.87MB uploaded (0.00MB deduped)\\r'), FloatProgress(value=1.0, max=1.0)…"
            ]
          },
          "metadata": {
            "tags": []
          }
        },
        {
          "output_type": "display_data",
          "data": {
            "text/html": [
              "Find user logs for this run at: <code>/content/wandb/run-20210522_152734-z1gbe5sw/logs/debug.log</code>"
            ],
            "text/plain": [
              "<IPython.core.display.HTML object>"
            ]
          },
          "metadata": {
            "tags": []
          }
        },
        {
          "output_type": "display_data",
          "data": {
            "text/html": [
              "Find internal logs for this run at: <code>/content/wandb/run-20210522_152734-z1gbe5sw/logs/debug-internal.log</code>"
            ],
            "text/plain": [
              "<IPython.core.display.HTML object>"
            ]
          },
          "metadata": {
            "tags": []
          }
        },
        {
          "output_type": "display_data",
          "data": {
            "text/html": [
              "<h3>Run summary:</h3><br/><style>\n",
              "    table.wandb td:nth-child(1) { padding: 0 10px; text-align: right }\n",
              "    </style><table class=\"wandb\">\n",
              "<tr><td>epoch</td><td>24</td></tr><tr><td>loss</td><td>0.14124</td></tr><tr><td>accuracy</td><td>0.96018</td></tr><tr><td>val_loss</td><td>0.61847</td></tr><tr><td>val_accuracy</td><td>0.88626</td></tr><tr><td>_runtime</td><td>291</td></tr><tr><td>_timestamp</td><td>1621697546</td></tr><tr><td>_step</td><td>25</td></tr><tr><td>best_val_loss</td><td>0.44414</td></tr><tr><td>best_epoch</td><td>14</td></tr><tr><td>word_acc</td><td>25.0</td></tr></table>"
            ],
            "text/plain": [
              "<IPython.core.display.HTML object>"
            ]
          },
          "metadata": {
            "tags": []
          }
        },
        {
          "output_type": "display_data",
          "data": {
            "text/html": [
              "<h3>Run history:</h3><br/><style>\n",
              "    table.wandb td:nth-child(1) { padding: 0 10px; text-align: right }\n",
              "    </style><table class=\"wandb\">\n",
              "<tr><td>epoch</td><td>▁▁▂▂▂▂▃▃▃▄▄▄▅▅▅▅▆▆▆▇▇▇▇██</td></tr><tr><td>loss</td><td>█▆▆▆▅▅▄▄▃▃▂▂▂▂▂▂▂▁▁▁▁▁▁▁▁</td></tr><tr><td>accuracy</td><td>▁▂▃▃▃▄▄▅▅▆▆▆▇▇▇▇▇▇███████</td></tr><tr><td>val_loss</td><td>██▇▆▅▅▄▃▃▂▂▂▂▂▁▃▂▃▂▃▃▃▃▃▄</td></tr><tr><td>val_accuracy</td><td>▁▁▂▃▃▄▅▅▆▇▇▇█▇█▇█▇███████</td></tr><tr><td>_runtime</td><td>▁▁▂▂▂▂▃▃▃▃▄▄▄▄▅▅▅▅▆▆▆▆▇▇▇█</td></tr><tr><td>_timestamp</td><td>▁▁▂▂▂▂▃▃▃▃▄▄▄▄▅▅▅▅▆▆▆▆▇▇▇█</td></tr><tr><td>_step</td><td>▁▁▂▂▂▂▃▃▃▄▄▄▄▅▅▅▅▆▆▆▇▇▇▇██</td></tr><tr><td>word_acc</td><td>▁</td></tr></table><br/>"
            ],
            "text/plain": [
              "<IPython.core.display.HTML object>"
            ]
          },
          "metadata": {
            "tags": []
          }
        },
        {
          "output_type": "display_data",
          "data": {
            "text/html": [
              "Synced 5 W&B file(s), 1 media file(s), 0 artifact file(s) and 1 other file(s)"
            ],
            "text/plain": [
              "<IPython.core.display.HTML object>"
            ]
          },
          "metadata": {
            "tags": []
          }
        },
        {
          "output_type": "display_data",
          "data": {
            "text/html": [
              "\n",
              "                    <br/>Synced <strong style=\"color:#cdcd00\">worthy-sweep-5</strong>: <a href=\"https://wandb.ai/theindianwriter/CS6910-Assignment3/runs/z1gbe5sw\" target=\"_blank\">https://wandb.ai/theindianwriter/CS6910-Assignment3/runs/z1gbe5sw</a><br/>\n",
              "                "
            ],
            "text/plain": [
              "<IPython.core.display.HTML object>"
            ]
          },
          "metadata": {
            "tags": []
          }
        },
        {
          "output_type": "stream",
          "text": [
            "\u001b[34m\u001b[1mwandb\u001b[0m: Agent Starting Run: 5a80exyf with config:\n",
            "\u001b[34m\u001b[1mwandb\u001b[0m: \tbatch_size: 64\n",
            "\u001b[34m\u001b[1mwandb\u001b[0m: \tcell_type: LSTM\n",
            "\u001b[34m\u001b[1mwandb\u001b[0m: \tdrop_out_ratio: 0.4\n",
            "\u001b[34m\u001b[1mwandb\u001b[0m: \tembedding_size: 96\n",
            "\u001b[34m\u001b[1mwandb\u001b[0m: \tepochs: 25\n",
            "\u001b[34m\u001b[1mwandb\u001b[0m: \thidden_layer_size: 256\n",
            "\u001b[34m\u001b[1mwandb\u001b[0m: \tnum_decoder_layers: 2\n",
            "\u001b[34m\u001b[1mwandb\u001b[0m: \tnum_encoder_layers: 2\n",
            "\u001b[34m\u001b[1mwandb\u001b[0m: \toptimizer: rmsprop\n",
            "\u001b[34m\u001b[1mwandb\u001b[0m: \u001b[33mWARNING\u001b[0m Ignored wandb.init() arg project when running a sweep\n"
          ],
          "name": "stderr"
        },
        {
          "output_type": "display_data",
          "data": {
            "text/html": [
              "\n",
              "                Tracking run with wandb version 0.10.30<br/>\n",
              "                Syncing run <strong style=\"color:#cdcd00\">different-sweep-6</strong> to <a href=\"https://wandb.ai\" target=\"_blank\">Weights & Biases</a> <a href=\"https://docs.wandb.com/integrations/jupyter.html\" target=\"_blank\">(Documentation)</a>.<br/>\n",
              "                Project page: <a href=\"https://wandb.ai/theindianwriter/CS6910-Assignment3\" target=\"_blank\">https://wandb.ai/theindianwriter/CS6910-Assignment3</a><br/>\n",
              "                Sweep page: <a href=\"https://wandb.ai/theindianwriter/CS6910-Assignment3/sweeps/nk5cbn8i\" target=\"_blank\">https://wandb.ai/theindianwriter/CS6910-Assignment3/sweeps/nk5cbn8i</a><br/>\n",
              "Run page: <a href=\"https://wandb.ai/theindianwriter/CS6910-Assignment3/runs/5a80exyf\" target=\"_blank\">https://wandb.ai/theindianwriter/CS6910-Assignment3/runs/5a80exyf</a><br/>\n",
              "                Run data is saved locally in <code>/content/wandb/run-20210522_153231-5a80exyf</code><br/><br/>\n",
              "            "
            ],
            "text/plain": [
              "<IPython.core.display.HTML object>"
            ]
          },
          "metadata": {
            "tags": []
          }
        },
        {
          "output_type": "stream",
          "text": [
            "Epoch 1/25\n",
            "622/622 [==============================] - 19s 21ms/step - loss: 1.1652 - accuracy: 0.7311 - val_loss: 0.8961 - val_accuracy: 0.7679\n",
            "Epoch 2/25\n",
            "622/622 [==============================] - 12s 19ms/step - loss: 0.8487 - accuracy: 0.7771 - val_loss: 0.8903 - val_accuracy: 0.7922\n",
            "Epoch 3/25\n",
            "622/622 [==============================] - 12s 19ms/step - loss: 0.7229 - accuracy: 0.8030 - val_loss: 0.8528 - val_accuracy: 0.7888\n",
            "Epoch 4/25\n",
            "622/622 [==============================] - 12s 19ms/step - loss: 0.6449 - accuracy: 0.8220 - val_loss: 0.7814 - val_accuracy: 0.8103\n",
            "Epoch 5/25\n",
            "622/622 [==============================] - 12s 19ms/step - loss: 0.5831 - accuracy: 0.8367 - val_loss: 0.7711 - val_accuracy: 0.8117\n",
            "Epoch 6/25\n",
            "622/622 [==============================] - 12s 19ms/step - loss: 0.5223 - accuracy: 0.8515 - val_loss: 0.6980 - val_accuracy: 0.8314\n",
            "Epoch 7/25\n",
            "622/622 [==============================] - 12s 19ms/step - loss: 0.4552 - accuracy: 0.8680 - val_loss: 0.6518 - val_accuracy: 0.8392\n",
            "Epoch 8/25\n",
            "622/622 [==============================] - 12s 19ms/step - loss: 0.3961 - accuracy: 0.8849 - val_loss: 0.6046 - val_accuracy: 0.8564\n",
            "Epoch 9/25\n",
            "622/622 [==============================] - 12s 20ms/step - loss: 0.3479 - accuracy: 0.8989 - val_loss: 0.6035 - val_accuracy: 0.8638\n",
            "Epoch 10/25\n",
            "622/622 [==============================] - 12s 19ms/step - loss: 0.3064 - accuracy: 0.9103 - val_loss: 0.6037 - val_accuracy: 0.8677\n",
            "Epoch 11/25\n",
            "622/622 [==============================] - 12s 19ms/step - loss: 0.2721 - accuracy: 0.9196 - val_loss: 0.5494 - val_accuracy: 0.8793\n",
            "Epoch 12/25\n",
            "622/622 [==============================] - 12s 20ms/step - loss: 0.2450 - accuracy: 0.9276 - val_loss: 0.5852 - val_accuracy: 0.8740\n",
            "Epoch 13/25\n",
            "622/622 [==============================] - 12s 19ms/step - loss: 0.2264 - accuracy: 0.9329 - val_loss: 0.5584 - val_accuracy: 0.8826\n",
            "Epoch 14/25\n",
            "622/622 [==============================] - 12s 19ms/step - loss: 0.2078 - accuracy: 0.9383 - val_loss: 0.5771 - val_accuracy: 0.8780\n",
            "Epoch 15/25\n",
            "622/622 [==============================] - 12s 19ms/step - loss: 0.1950 - accuracy: 0.9423 - val_loss: 0.5938 - val_accuracy: 0.8839\n",
            "Epoch 16/25\n",
            "622/622 [==============================] - 13s 21ms/step - loss: 0.1817 - accuracy: 0.9466 - val_loss: 0.5819 - val_accuracy: 0.8852\n",
            "Epoch 17/25\n",
            "622/622 [==============================] - 12s 19ms/step - loss: 0.1715 - accuracy: 0.9491 - val_loss: 0.6078 - val_accuracy: 0.8805\n",
            "Epoch 18/25\n",
            "622/622 [==============================] - 12s 19ms/step - loss: 0.1621 - accuracy: 0.9525 - val_loss: 0.5721 - val_accuracy: 0.8867\n",
            "Epoch 19/25\n",
            "622/622 [==============================] - 12s 19ms/step - loss: 0.1543 - accuracy: 0.9550 - val_loss: 0.6341 - val_accuracy: 0.8829\n",
            "Epoch 20/25\n",
            "622/622 [==============================] - 12s 19ms/step - loss: 0.1490 - accuracy: 0.9573 - val_loss: 0.6230 - val_accuracy: 0.8817\n",
            "Epoch 21/25\n",
            "622/622 [==============================] - 12s 19ms/step - loss: 0.1389 - accuracy: 0.9597 - val_loss: 0.6786 - val_accuracy: 0.8780\n",
            "Epoch 22/25\n",
            "622/622 [==============================] - 12s 19ms/step - loss: 0.1363 - accuracy: 0.9607 - val_loss: 0.6757 - val_accuracy: 0.8783\n",
            "Epoch 23/25\n",
            "622/622 [==============================] - 12s 19ms/step - loss: 0.1288 - accuracy: 0.9628 - val_loss: 0.6899 - val_accuracy: 0.8785\n",
            "Epoch 24/25\n",
            "622/622 [==============================] - 12s 19ms/step - loss: 0.1249 - accuracy: 0.9645 - val_loss: 0.6678 - val_accuracy: 0.8814\n",
            "Epoch 25/25\n",
            "622/622 [==============================] - 12s 19ms/step - loss: 0.1228 - accuracy: 0.9651 - val_loss: 0.7184 - val_accuracy: 0.8740\n"
          ],
          "name": "stdout"
        },
        {
          "output_type": "display_data",
          "data": {
            "text/html": [
              "<br/>Waiting for W&B process to finish, PID 73377<br/>Program ended successfully."
            ],
            "text/plain": [
              "<IPython.core.display.HTML object>"
            ]
          },
          "metadata": {
            "tags": []
          }
        },
        {
          "output_type": "display_data",
          "data": {
            "application/vnd.jupyter.widget-view+json": {
              "model_id": "623bf49ad2b44125b190f181683a0621",
              "version_major": 2,
              "version_minor": 0
            },
            "text/plain": [
              "VBox(children=(Label(value=' 14.15MB of 14.15MB uploaded (0.00MB deduped)\\r'), FloatProgress(value=1.0, max=1.…"
            ]
          },
          "metadata": {
            "tags": []
          }
        },
        {
          "output_type": "display_data",
          "data": {
            "text/html": [
              "Find user logs for this run at: <code>/content/wandb/run-20210522_153231-5a80exyf/logs/debug.log</code>"
            ],
            "text/plain": [
              "<IPython.core.display.HTML object>"
            ]
          },
          "metadata": {
            "tags": []
          }
        },
        {
          "output_type": "display_data",
          "data": {
            "text/html": [
              "Find internal logs for this run at: <code>/content/wandb/run-20210522_153231-5a80exyf/logs/debug-internal.log</code>"
            ],
            "text/plain": [
              "<IPython.core.display.HTML object>"
            ]
          },
          "metadata": {
            "tags": []
          }
        },
        {
          "output_type": "display_data",
          "data": {
            "text/html": [
              "<h3>Run summary:</h3><br/><style>\n",
              "    table.wandb td:nth-child(1) { padding: 0 10px; text-align: right }\n",
              "    </style><table class=\"wandb\">\n",
              "<tr><td>epoch</td><td>24</td></tr><tr><td>loss</td><td>0.12513</td></tr><tr><td>accuracy</td><td>0.96445</td></tr><tr><td>val_loss</td><td>0.71844</td></tr><tr><td>val_accuracy</td><td>0.87405</td></tr><tr><td>_runtime</td><td>354</td></tr><tr><td>_timestamp</td><td>1621697905</td></tr><tr><td>_step</td><td>25</td></tr><tr><td>best_val_loss</td><td>0.54937</td></tr><tr><td>best_epoch</td><td>10</td></tr><tr><td>word_acc</td><td>7.0</td></tr></table>"
            ],
            "text/plain": [
              "<IPython.core.display.HTML object>"
            ]
          },
          "metadata": {
            "tags": []
          }
        },
        {
          "output_type": "display_data",
          "data": {
            "text/html": [
              "<h3>Run history:</h3><br/><style>\n",
              "    table.wandb td:nth-child(1) { padding: 0 10px; text-align: right }\n",
              "    </style><table class=\"wandb\">\n",
              "<tr><td>epoch</td><td>▁▁▂▂▂▂▃▃▃▄▄▄▅▅▅▅▆▆▆▇▇▇▇██</td></tr><tr><td>loss</td><td>█▇▆▅▅▄▄▃▃▂▂▂▂▂▂▁▁▁▁▁▁▁▁▁▁</td></tr><tr><td>accuracy</td><td>▁▂▃▃▄▄▅▅▆▆▇▇▇▇▇▇█████████</td></tr><tr><td>val_loss</td><td>██▇▆▅▄▃▂▂▂▁▂▁▂▂▂▂▁▃▂▄▄▄▃▄</td></tr><tr><td>val_accuracy</td><td>▁▂▂▃▄▅▅▆▇▇█▇█▇██████▇███▇</td></tr><tr><td>_runtime</td><td>▁▁▂▂▂▂▃▃▃▃▄▄▄▄▅▅▅▅▆▆▆▆▇▇▇█</td></tr><tr><td>_timestamp</td><td>▁▁▂▂▂▂▃▃▃▃▄▄▄▄▅▅▅▅▆▆▆▆▇▇▇█</td></tr><tr><td>_step</td><td>▁▁▂▂▂▂▃▃▃▄▄▄▄▅▅▅▅▆▆▆▇▇▇▇██</td></tr><tr><td>word_acc</td><td>▁</td></tr></table><br/>"
            ],
            "text/plain": [
              "<IPython.core.display.HTML object>"
            ]
          },
          "metadata": {
            "tags": []
          }
        },
        {
          "output_type": "display_data",
          "data": {
            "text/html": [
              "Synced 5 W&B file(s), 1 media file(s), 0 artifact file(s) and 1 other file(s)"
            ],
            "text/plain": [
              "<IPython.core.display.HTML object>"
            ]
          },
          "metadata": {
            "tags": []
          }
        },
        {
          "output_type": "display_data",
          "data": {
            "text/html": [
              "\n",
              "                    <br/>Synced <strong style=\"color:#cdcd00\">different-sweep-6</strong>: <a href=\"https://wandb.ai/theindianwriter/CS6910-Assignment3/runs/5a80exyf\" target=\"_blank\">https://wandb.ai/theindianwriter/CS6910-Assignment3/runs/5a80exyf</a><br/>\n",
              "                "
            ],
            "text/plain": [
              "<IPython.core.display.HTML object>"
            ]
          },
          "metadata": {
            "tags": []
          }
        },
        {
          "output_type": "stream",
          "text": [
            "\u001b[34m\u001b[1mwandb\u001b[0m: Agent Starting Run: 7g6vmsne with config:\n",
            "\u001b[34m\u001b[1mwandb\u001b[0m: \tbatch_size: 64\n",
            "\u001b[34m\u001b[1mwandb\u001b[0m: \tcell_type: LSTM\n",
            "\u001b[34m\u001b[1mwandb\u001b[0m: \tdrop_out_ratio: 0.4\n",
            "\u001b[34m\u001b[1mwandb\u001b[0m: \tembedding_size: 64\n",
            "\u001b[34m\u001b[1mwandb\u001b[0m: \tepochs: 25\n",
            "\u001b[34m\u001b[1mwandb\u001b[0m: \thidden_layer_size: 256\n",
            "\u001b[34m\u001b[1mwandb\u001b[0m: \tnum_decoder_layers: 1\n",
            "\u001b[34m\u001b[1mwandb\u001b[0m: \tnum_encoder_layers: 2\n",
            "\u001b[34m\u001b[1mwandb\u001b[0m: \toptimizer: rmsprop\n",
            "\u001b[34m\u001b[1mwandb\u001b[0m: \u001b[33mWARNING\u001b[0m Ignored wandb.init() arg project when running a sweep\n"
          ],
          "name": "stderr"
        },
        {
          "output_type": "display_data",
          "data": {
            "text/html": [
              "\n",
              "                Tracking run with wandb version 0.10.30<br/>\n",
              "                Syncing run <strong style=\"color:#cdcd00\">logical-sweep-7</strong> to <a href=\"https://wandb.ai\" target=\"_blank\">Weights & Biases</a> <a href=\"https://docs.wandb.com/integrations/jupyter.html\" target=\"_blank\">(Documentation)</a>.<br/>\n",
              "                Project page: <a href=\"https://wandb.ai/theindianwriter/CS6910-Assignment3\" target=\"_blank\">https://wandb.ai/theindianwriter/CS6910-Assignment3</a><br/>\n",
              "                Sweep page: <a href=\"https://wandb.ai/theindianwriter/CS6910-Assignment3/sweeps/nk5cbn8i\" target=\"_blank\">https://wandb.ai/theindianwriter/CS6910-Assignment3/sweeps/nk5cbn8i</a><br/>\n",
              "Run page: <a href=\"https://wandb.ai/theindianwriter/CS6910-Assignment3/runs/7g6vmsne\" target=\"_blank\">https://wandb.ai/theindianwriter/CS6910-Assignment3/runs/7g6vmsne</a><br/>\n",
              "                Run data is saved locally in <code>/content/wandb/run-20210522_153831-7g6vmsne</code><br/><br/>\n",
              "            "
            ],
            "text/plain": [
              "<IPython.core.display.HTML object>"
            ]
          },
          "metadata": {
            "tags": []
          }
        },
        {
          "output_type": "stream",
          "text": [
            "Epoch 1/25\n",
            "622/622 [==============================] - 15s 17ms/step - loss: 1.1468 - accuracy: 0.7333 - val_loss: 0.9134 - val_accuracy: 0.7655\n",
            "Epoch 2/25\n",
            "622/622 [==============================] - 10s 15ms/step - loss: 0.8478 - accuracy: 0.7781 - val_loss: 0.9147 - val_accuracy: 0.7728\n",
            "Epoch 3/25\n",
            "622/622 [==============================] - 10s 15ms/step - loss: 0.7479 - accuracy: 0.7999 - val_loss: 0.9048 - val_accuracy: 0.7869\n",
            "Epoch 4/25\n",
            "622/622 [==============================] - 10s 16ms/step - loss: 0.6848 - accuracy: 0.8133 - val_loss: 0.8433 - val_accuracy: 0.8023\n",
            "Epoch 5/25\n",
            "622/622 [==============================] - 10s 15ms/step - loss: 0.6235 - accuracy: 0.8279 - val_loss: 0.7809 - val_accuracy: 0.8177\n",
            "Epoch 6/25\n",
            "622/622 [==============================] - 10s 16ms/step - loss: 0.5535 - accuracy: 0.8447 - val_loss: 0.7806 - val_accuracy: 0.8280\n",
            "Epoch 7/25\n",
            "622/622 [==============================] - 10s 15ms/step - loss: 0.4865 - accuracy: 0.8609 - val_loss: 0.7246 - val_accuracy: 0.8427\n",
            "Epoch 8/25\n",
            "622/622 [==============================] - 9s 15ms/step - loss: 0.4291 - accuracy: 0.8759 - val_loss: 0.6541 - val_accuracy: 0.8534\n",
            "Epoch 9/25\n",
            "622/622 [==============================] - 10s 15ms/step - loss: 0.3837 - accuracy: 0.8876 - val_loss: 0.6593 - val_accuracy: 0.8611\n",
            "Epoch 10/25\n",
            "622/622 [==============================] - 9s 15ms/step - loss: 0.3439 - accuracy: 0.8981 - val_loss: 0.6355 - val_accuracy: 0.8693\n",
            "Epoch 11/25\n",
            "622/622 [==============================] - 10s 15ms/step - loss: 0.3107 - accuracy: 0.9076 - val_loss: 0.6157 - val_accuracy: 0.8758\n",
            "Epoch 12/25\n",
            "622/622 [==============================] - 10s 16ms/step - loss: 0.2814 - accuracy: 0.9158 - val_loss: 0.5702 - val_accuracy: 0.8832\n",
            "Epoch 13/25\n",
            "622/622 [==============================] - 10s 16ms/step - loss: 0.2581 - accuracy: 0.9219 - val_loss: 0.5872 - val_accuracy: 0.8841\n",
            "Epoch 14/25\n",
            "622/622 [==============================] - 10s 15ms/step - loss: 0.2381 - accuracy: 0.9279 - val_loss: 0.5506 - val_accuracy: 0.8893\n",
            "Epoch 15/25\n",
            "622/622 [==============================] - 10s 15ms/step - loss: 0.2216 - accuracy: 0.9325 - val_loss: 0.5516 - val_accuracy: 0.8857\n",
            "Epoch 16/25\n",
            "622/622 [==============================] - 10s 16ms/step - loss: 0.2098 - accuracy: 0.9360 - val_loss: 0.5606 - val_accuracy: 0.8904\n",
            "Epoch 17/25\n",
            "622/622 [==============================] - 10s 15ms/step - loss: 0.1956 - accuracy: 0.9400 - val_loss: 0.5774 - val_accuracy: 0.8865\n",
            "Epoch 18/25\n",
            "622/622 [==============================] - 9s 15ms/step - loss: 0.1873 - accuracy: 0.9422 - val_loss: 0.5676 - val_accuracy: 0.8880\n",
            "Epoch 19/25\n",
            "622/622 [==============================] - 10s 16ms/step - loss: 0.1775 - accuracy: 0.9454 - val_loss: 0.5744 - val_accuracy: 0.8912\n",
            "Epoch 20/25\n",
            "622/622 [==============================] - 10s 16ms/step - loss: 0.1769 - accuracy: 0.9479 - val_loss: 0.5940 - val_accuracy: 0.8896\n",
            "Epoch 21/25\n",
            "622/622 [==============================] - 10s 16ms/step - loss: 0.1734 - accuracy: 0.9509 - val_loss: 0.6151 - val_accuracy: 0.8865\n",
            "Epoch 22/25\n",
            "622/622 [==============================] - 10s 16ms/step - loss: 0.1701 - accuracy: 0.9518 - val_loss: 0.6366 - val_accuracy: 0.8842\n",
            "Epoch 23/25\n",
            "622/622 [==============================] - 10s 16ms/step - loss: 0.1610 - accuracy: 0.9548 - val_loss: 0.6117 - val_accuracy: 0.8843\n",
            "Epoch 24/25\n",
            "622/622 [==============================] - 10s 16ms/step - loss: 0.1556 - accuracy: 0.9561 - val_loss: 0.6548 - val_accuracy: 0.8800\n",
            "Epoch 25/25\n",
            "622/622 [==============================] - 10s 16ms/step - loss: 0.1496 - accuracy: 0.9582 - val_loss: 0.6388 - val_accuracy: 0.8834\n"
          ],
          "name": "stdout"
        },
        {
          "output_type": "display_data",
          "data": {
            "text/html": [
              "<br/>Waiting for W&B process to finish, PID 76823<br/>Program ended successfully."
            ],
            "text/plain": [
              "<IPython.core.display.HTML object>"
            ]
          },
          "metadata": {
            "tags": []
          }
        },
        {
          "output_type": "display_data",
          "data": {
            "application/vnd.jupyter.widget-view+json": {
              "model_id": "63e55232c0124c7a94a251237875dc79",
              "version_major": 2,
              "version_minor": 0
            },
            "text/plain": [
              "VBox(children=(Label(value=' 9.87MB of 9.87MB uploaded (0.00MB deduped)\\r'), FloatProgress(value=1.0, max=1.0)…"
            ]
          },
          "metadata": {
            "tags": []
          }
        },
        {
          "output_type": "display_data",
          "data": {
            "text/html": [
              "Find user logs for this run at: <code>/content/wandb/run-20210522_153831-7g6vmsne/logs/debug.log</code>"
            ],
            "text/plain": [
              "<IPython.core.display.HTML object>"
            ]
          },
          "metadata": {
            "tags": []
          }
        },
        {
          "output_type": "display_data",
          "data": {
            "text/html": [
              "Find internal logs for this run at: <code>/content/wandb/run-20210522_153831-7g6vmsne/logs/debug-internal.log</code>"
            ],
            "text/plain": [
              "<IPython.core.display.HTML object>"
            ]
          },
          "metadata": {
            "tags": []
          }
        },
        {
          "output_type": "display_data",
          "data": {
            "text/html": [
              "<h3>Run summary:</h3><br/><style>\n",
              "    table.wandb td:nth-child(1) { padding: 0 10px; text-align: right }\n",
              "    </style><table class=\"wandb\">\n",
              "<tr><td>epoch</td><td>24</td></tr><tr><td>loss</td><td>0.15191</td></tr><tr><td>accuracy</td><td>0.95762</td></tr><tr><td>val_loss</td><td>0.63875</td></tr><tr><td>val_accuracy</td><td>0.8834</td></tr><tr><td>_runtime</td><td>286</td></tr><tr><td>_timestamp</td><td>1621698197</td></tr><tr><td>_step</td><td>25</td></tr><tr><td>best_val_loss</td><td>0.55057</td></tr><tr><td>best_epoch</td><td>13</td></tr><tr><td>word_acc</td><td>32.0</td></tr></table>"
            ],
            "text/plain": [
              "<IPython.core.display.HTML object>"
            ]
          },
          "metadata": {
            "tags": []
          }
        },
        {
          "output_type": "display_data",
          "data": {
            "text/html": [
              "<h3>Run history:</h3><br/><style>\n",
              "    table.wandb td:nth-child(1) { padding: 0 10px; text-align: right }\n",
              "    </style><table class=\"wandb\">\n",
              "<tr><td>epoch</td><td>▁▁▂▂▂▂▃▃▃▄▄▄▅▅▅▅▆▆▆▇▇▇▇██</td></tr><tr><td>loss</td><td>█▇▆▅▅▄▄▃▃▃▂▂▂▂▂▁▁▁▁▁▁▁▁▁▁</td></tr><tr><td>accuracy</td><td>▁▂▃▃▄▄▅▅▆▆▆▇▇▇▇▇▇▇███████</td></tr><tr><td>val_loss</td><td>███▇▅▅▄▃▃▃▂▁▂▁▁▁▂▁▁▂▂▃▂▃▃</td></tr><tr><td>val_accuracy</td><td>▁▁▂▃▄▄▅▆▆▇▇████████████▇█</td></tr><tr><td>_runtime</td><td>▁▁▁▂▂▂▃▃▃▃▄▄▄▄▅▅▅▅▆▆▆▆▇▇▇█</td></tr><tr><td>_timestamp</td><td>▁▁▁▂▂▂▃▃▃▃▄▄▄▄▅▅▅▅▆▆▆▆▇▇▇█</td></tr><tr><td>_step</td><td>▁▁▂▂▂▂▃▃▃▄▄▄▄▅▅▅▅▆▆▆▇▇▇▇██</td></tr><tr><td>word_acc</td><td>▁</td></tr></table><br/>"
            ],
            "text/plain": [
              "<IPython.core.display.HTML object>"
            ]
          },
          "metadata": {
            "tags": []
          }
        },
        {
          "output_type": "display_data",
          "data": {
            "text/html": [
              "Synced 5 W&B file(s), 1 media file(s), 0 artifact file(s) and 1 other file(s)"
            ],
            "text/plain": [
              "<IPython.core.display.HTML object>"
            ]
          },
          "metadata": {
            "tags": []
          }
        },
        {
          "output_type": "display_data",
          "data": {
            "text/html": [
              "\n",
              "                    <br/>Synced <strong style=\"color:#cdcd00\">logical-sweep-7</strong>: <a href=\"https://wandb.ai/theindianwriter/CS6910-Assignment3/runs/7g6vmsne\" target=\"_blank\">https://wandb.ai/theindianwriter/CS6910-Assignment3/runs/7g6vmsne</a><br/>\n",
              "                "
            ],
            "text/plain": [
              "<IPython.core.display.HTML object>"
            ]
          },
          "metadata": {
            "tags": []
          }
        },
        {
          "output_type": "stream",
          "text": [
            "\u001b[34m\u001b[1mwandb\u001b[0m: Agent Starting Run: fwwwx30d with config:\n",
            "\u001b[34m\u001b[1mwandb\u001b[0m: \tbatch_size: 64\n",
            "\u001b[34m\u001b[1mwandb\u001b[0m: \tcell_type: LSTM\n",
            "\u001b[34m\u001b[1mwandb\u001b[0m: \tdrop_out_ratio: 0.4\n",
            "\u001b[34m\u001b[1mwandb\u001b[0m: \tembedding_size: 64\n",
            "\u001b[34m\u001b[1mwandb\u001b[0m: \tepochs: 25\n",
            "\u001b[34m\u001b[1mwandb\u001b[0m: \thidden_layer_size: 256\n",
            "\u001b[34m\u001b[1mwandb\u001b[0m: \tnum_decoder_layers: 1\n",
            "\u001b[34m\u001b[1mwandb\u001b[0m: \tnum_encoder_layers: 2\n",
            "\u001b[34m\u001b[1mwandb\u001b[0m: \toptimizer: rmsprop\n",
            "\u001b[34m\u001b[1mwandb\u001b[0m: \u001b[33mWARNING\u001b[0m Ignored wandb.init() arg project when running a sweep\n"
          ],
          "name": "stderr"
        },
        {
          "output_type": "display_data",
          "data": {
            "text/html": [
              "\n",
              "                Tracking run with wandb version 0.10.30<br/>\n",
              "                Syncing run <strong style=\"color:#cdcd00\">fine-sweep-8</strong> to <a href=\"https://wandb.ai\" target=\"_blank\">Weights & Biases</a> <a href=\"https://docs.wandb.com/integrations/jupyter.html\" target=\"_blank\">(Documentation)</a>.<br/>\n",
              "                Project page: <a href=\"https://wandb.ai/theindianwriter/CS6910-Assignment3\" target=\"_blank\">https://wandb.ai/theindianwriter/CS6910-Assignment3</a><br/>\n",
              "                Sweep page: <a href=\"https://wandb.ai/theindianwriter/CS6910-Assignment3/sweeps/nk5cbn8i\" target=\"_blank\">https://wandb.ai/theindianwriter/CS6910-Assignment3/sweeps/nk5cbn8i</a><br/>\n",
              "Run page: <a href=\"https://wandb.ai/theindianwriter/CS6910-Assignment3/runs/fwwwx30d\" target=\"_blank\">https://wandb.ai/theindianwriter/CS6910-Assignment3/runs/fwwwx30d</a><br/>\n",
              "                Run data is saved locally in <code>/content/wandb/run-20210522_154326-fwwwx30d</code><br/><br/>\n",
              "            "
            ],
            "text/plain": [
              "<IPython.core.display.HTML object>"
            ]
          },
          "metadata": {
            "tags": []
          }
        },
        {
          "output_type": "stream",
          "text": [
            "Epoch 1/25\n",
            "622/622 [==============================] - 15s 17ms/step - loss: 1.1535 - accuracy: 0.7342 - val_loss: 0.8664 - val_accuracy: 0.7803\n",
            "Epoch 2/25\n",
            "622/622 [==============================] - 10s 16ms/step - loss: 0.8091 - accuracy: 0.7867 - val_loss: 0.7824 - val_accuracy: 0.7935\n",
            "Epoch 3/25\n",
            "622/622 [==============================] - 10s 16ms/step - loss: 0.6936 - accuracy: 0.8107 - val_loss: 0.7508 - val_accuracy: 0.8103\n",
            "Epoch 4/25\n",
            "622/622 [==============================] - 10s 15ms/step - loss: 0.5994 - accuracy: 0.8315 - val_loss: 0.6827 - val_accuracy: 0.8313\n",
            "Epoch 5/25\n",
            "622/622 [==============================] - 10s 15ms/step - loss: 0.5111 - accuracy: 0.8523 - val_loss: 0.6202 - val_accuracy: 0.8455\n",
            "Epoch 6/25\n",
            "622/622 [==============================] - 10s 16ms/step - loss: 0.4312 - accuracy: 0.8746 - val_loss: 0.6178 - val_accuracy: 0.8549\n",
            "Epoch 7/25\n",
            "622/622 [==============================] - 10s 15ms/step - loss: 0.3701 - accuracy: 0.8914 - val_loss: 0.5058 - val_accuracy: 0.8739\n",
            "Epoch 8/25\n",
            "622/622 [==============================] - 10s 15ms/step - loss: 0.3212 - accuracy: 0.9056 - val_loss: 0.5188 - val_accuracy: 0.8775\n",
            "Epoch 9/25\n",
            "622/622 [==============================] - 10s 16ms/step - loss: 0.2853 - accuracy: 0.9157 - val_loss: 0.4703 - val_accuracy: 0.8849\n",
            "Epoch 10/25\n",
            "622/622 [==============================] - 10s 15ms/step - loss: 0.2513 - accuracy: 0.9259 - val_loss: 0.4629 - val_accuracy: 0.8827\n",
            "Epoch 11/25\n",
            "622/622 [==============================] - 10s 15ms/step - loss: 0.2302 - accuracy: 0.9322 - val_loss: 0.4498 - val_accuracy: 0.8878\n",
            "Epoch 12/25\n",
            "622/622 [==============================] - 10s 16ms/step - loss: 0.2134 - accuracy: 0.9370 - val_loss: 0.4384 - val_accuracy: 0.8946\n",
            "Epoch 13/25\n",
            "622/622 [==============================] - 10s 16ms/step - loss: 0.1957 - accuracy: 0.9426 - val_loss: 0.4448 - val_accuracy: 0.8956\n",
            "Epoch 14/25\n",
            "622/622 [==============================] - 10s 16ms/step - loss: 0.1828 - accuracy: 0.9465 - val_loss: 0.4570 - val_accuracy: 0.8932\n",
            "Epoch 15/25\n",
            "622/622 [==============================] - 10s 16ms/step - loss: 0.1722 - accuracy: 0.9501 - val_loss: 0.4726 - val_accuracy: 0.8910\n",
            "Epoch 16/25\n",
            "622/622 [==============================] - 10s 16ms/step - loss: 0.1610 - accuracy: 0.9539 - val_loss: 0.4953 - val_accuracy: 0.8953\n",
            "Epoch 17/25\n",
            "622/622 [==============================] - 10s 16ms/step - loss: 0.1527 - accuracy: 0.9561 - val_loss: 0.5483 - val_accuracy: 0.8856\n",
            "Epoch 18/25\n",
            "622/622 [==============================] - 10s 15ms/step - loss: 0.1438 - accuracy: 0.9590 - val_loss: 0.4827 - val_accuracy: 0.8916\n",
            "Epoch 19/25\n",
            "622/622 [==============================] - 9s 15ms/step - loss: 0.1352 - accuracy: 0.9617 - val_loss: 0.5359 - val_accuracy: 0.8898\n",
            "Epoch 20/25\n",
            "622/622 [==============================] - 10s 16ms/step - loss: 0.1307 - accuracy: 0.9632 - val_loss: 0.5308 - val_accuracy: 0.8918\n",
            "Epoch 21/25\n",
            "622/622 [==============================] - 10s 16ms/step - loss: 0.1237 - accuracy: 0.9654 - val_loss: 0.5126 - val_accuracy: 0.8926\n",
            "Epoch 22/25\n",
            "622/622 [==============================] - 10s 16ms/step - loss: 0.1200 - accuracy: 0.9667 - val_loss: 0.5901 - val_accuracy: 0.8859\n",
            "Epoch 23/25\n",
            "622/622 [==============================] - 10s 16ms/step - loss: 0.1153 - accuracy: 0.9681 - val_loss: 0.5919 - val_accuracy: 0.8875\n",
            "Epoch 24/25\n",
            "622/622 [==============================] - 10s 16ms/step - loss: 0.1102 - accuracy: 0.9698 - val_loss: 0.6115 - val_accuracy: 0.8829\n",
            "Epoch 25/25\n",
            "622/622 [==============================] - 10s 16ms/step - loss: 0.1081 - accuracy: 0.9705 - val_loss: 0.6078 - val_accuracy: 0.8853\n"
          ],
          "name": "stdout"
        },
        {
          "output_type": "display_data",
          "data": {
            "text/html": [
              "<br/>Waiting for W&B process to finish, PID 79399<br/>Program ended successfully."
            ],
            "text/plain": [
              "<IPython.core.display.HTML object>"
            ]
          },
          "metadata": {
            "tags": []
          }
        },
        {
          "output_type": "display_data",
          "data": {
            "application/vnd.jupyter.widget-view+json": {
              "model_id": "4a3f5f94bd52423483f0fdb436ea8810",
              "version_minor": 0,
              "version_major": 2
            },
            "text/plain": [
              "VBox(children=(Label(value=' 9.87MB of 9.87MB uploaded (0.00MB deduped)\\r'), FloatProgress(value=1.0, max=1.0)…"
            ]
          },
          "metadata": {
            "tags": []
          }
        },
        {
          "output_type": "display_data",
          "data": {
            "text/html": [
              "Find user logs for this run at: <code>/content/wandb/run-20210522_154326-fwwwx30d/logs/debug.log</code>"
            ],
            "text/plain": [
              "<IPython.core.display.HTML object>"
            ]
          },
          "metadata": {
            "tags": []
          }
        },
        {
          "output_type": "display_data",
          "data": {
            "text/html": [
              "Find internal logs for this run at: <code>/content/wandb/run-20210522_154326-fwwwx30d/logs/debug-internal.log</code>"
            ],
            "text/plain": [
              "<IPython.core.display.HTML object>"
            ]
          },
          "metadata": {
            "tags": []
          }
        },
        {
          "output_type": "display_data",
          "data": {
            "text/html": [
              "<h3>Run summary:</h3><br/><style>\n",
              "    table.wandb td:nth-child(1) { padding: 0 10px; text-align: right }\n",
              "    </style><table class=\"wandb\">\n",
              "<tr><td>epoch</td><td>24</td></tr><tr><td>loss</td><td>0.10957</td></tr><tr><td>accuracy</td><td>0.97004</td></tr><tr><td>val_loss</td><td>0.60785</td></tr><tr><td>val_accuracy</td><td>0.88531</td></tr><tr><td>_runtime</td><td>288</td></tr><tr><td>_timestamp</td><td>1621698494</td></tr><tr><td>_step</td><td>25</td></tr><tr><td>best_val_loss</td><td>0.43844</td></tr><tr><td>best_epoch</td><td>11</td></tr><tr><td>word_acc</td><td>28.0</td></tr></table>"
            ],
            "text/plain": [
              "<IPython.core.display.HTML object>"
            ]
          },
          "metadata": {
            "tags": []
          }
        },
        {
          "output_type": "display_data",
          "data": {
            "text/html": [
              "<h3>Run history:</h3><br/><style>\n",
              "    table.wandb td:nth-child(1) { padding: 0 10px; text-align: right }\n",
              "    </style><table class=\"wandb\">\n",
              "<tr><td>epoch</td><td>▁▁▂▂▂▂▃▃▃▄▄▄▅▅▅▅▆▆▆▇▇▇▇██</td></tr><tr><td>loss</td><td>█▆▅▅▄▃▃▃▂▂▂▂▂▂▂▁▁▁▁▁▁▁▁▁▁</td></tr><tr><td>accuracy</td><td>▁▂▃▄▄▅▆▆▆▇▇▇▇▇▇▇█████████</td></tr><tr><td>val_loss</td><td>█▇▆▅▄▄▂▂▂▁▁▁▁▁▂▂▃▂▃▃▂▃▄▄▄</td></tr><tr><td>val_accuracy</td><td>▁▂▃▄▅▆▇▇▇▇██████▇████▇█▇▇</td></tr><tr><td>_runtime</td><td>▁▁▂▂▂▂▃▃▃▃▄▄▄▄▅▅▅▅▆▆▆▆▇▇▇█</td></tr><tr><td>_timestamp</td><td>▁▁▂▂▂▂▃▃▃▃▄▄▄▄▅▅▅▅▆▆▆▆▇▇▇█</td></tr><tr><td>_step</td><td>▁▁▂▂▂▂▃▃▃▄▄▄▄▅▅▅▅▆▆▆▇▇▇▇██</td></tr><tr><td>word_acc</td><td>▁</td></tr></table><br/>"
            ],
            "text/plain": [
              "<IPython.core.display.HTML object>"
            ]
          },
          "metadata": {
            "tags": []
          }
        },
        {
          "output_type": "display_data",
          "data": {
            "text/html": [
              "Synced 5 W&B file(s), 1 media file(s), 0 artifact file(s) and 1 other file(s)"
            ],
            "text/plain": [
              "<IPython.core.display.HTML object>"
            ]
          },
          "metadata": {
            "tags": []
          }
        },
        {
          "output_type": "display_data",
          "data": {
            "text/html": [
              "\n",
              "                    <br/>Synced <strong style=\"color:#cdcd00\">fine-sweep-8</strong>: <a href=\"https://wandb.ai/theindianwriter/CS6910-Assignment3/runs/fwwwx30d\" target=\"_blank\">https://wandb.ai/theindianwriter/CS6910-Assignment3/runs/fwwwx30d</a><br/>\n",
              "                "
            ],
            "text/plain": [
              "<IPython.core.display.HTML object>"
            ]
          },
          "metadata": {
            "tags": []
          }
        },
        {
          "output_type": "stream",
          "text": [
            "\u001b[34m\u001b[1mwandb\u001b[0m: Agent Starting Run: 7udoj2r9 with config:\n",
            "\u001b[34m\u001b[1mwandb\u001b[0m: \tbatch_size: 64\n",
            "\u001b[34m\u001b[1mwandb\u001b[0m: \tcell_type: LSTM\n",
            "\u001b[34m\u001b[1mwandb\u001b[0m: \tdrop_out_ratio: 0.4\n",
            "\u001b[34m\u001b[1mwandb\u001b[0m: \tembedding_size: 64\n",
            "\u001b[34m\u001b[1mwandb\u001b[0m: \tepochs: 25\n",
            "\u001b[34m\u001b[1mwandb\u001b[0m: \thidden_layer_size: 256\n",
            "\u001b[34m\u001b[1mwandb\u001b[0m: \tnum_decoder_layers: 1\n",
            "\u001b[34m\u001b[1mwandb\u001b[0m: \tnum_encoder_layers: 2\n",
            "\u001b[34m\u001b[1mwandb\u001b[0m: \toptimizer: rmsprop\n",
            "\u001b[34m\u001b[1mwandb\u001b[0m: \u001b[33mWARNING\u001b[0m Ignored wandb.init() arg project when running a sweep\n"
          ],
          "name": "stderr"
        },
        {
          "output_type": "display_data",
          "data": {
            "text/html": [
              "\n",
              "                Tracking run with wandb version 0.10.30<br/>\n",
              "                Syncing run <strong style=\"color:#cdcd00\">crimson-sweep-9</strong> to <a href=\"https://wandb.ai\" target=\"_blank\">Weights & Biases</a> <a href=\"https://docs.wandb.com/integrations/jupyter.html\" target=\"_blank\">(Documentation)</a>.<br/>\n",
              "                Project page: <a href=\"https://wandb.ai/theindianwriter/CS6910-Assignment3\" target=\"_blank\">https://wandb.ai/theindianwriter/CS6910-Assignment3</a><br/>\n",
              "                Sweep page: <a href=\"https://wandb.ai/theindianwriter/CS6910-Assignment3/sweeps/nk5cbn8i\" target=\"_blank\">https://wandb.ai/theindianwriter/CS6910-Assignment3/sweeps/nk5cbn8i</a><br/>\n",
              "Run page: <a href=\"https://wandb.ai/theindianwriter/CS6910-Assignment3/runs/7udoj2r9\" target=\"_blank\">https://wandb.ai/theindianwriter/CS6910-Assignment3/runs/7udoj2r9</a><br/>\n",
              "                Run data is saved locally in <code>/content/wandb/run-20210522_154823-7udoj2r9</code><br/><br/>\n",
              "            "
            ],
            "text/plain": [
              "<IPython.core.display.HTML object>"
            ]
          },
          "metadata": {
            "tags": []
          }
        },
        {
          "output_type": "stream",
          "text": [
            "Epoch 1/25\n",
            "622/622 [==============================] - 16s 18ms/step - loss: 1.1596 - accuracy: 0.7324 - val_loss: 0.8948 - val_accuracy: 0.7723\n",
            "Epoch 2/25\n",
            "622/622 [==============================] - 10s 16ms/step - loss: 0.8502 - accuracy: 0.7767 - val_loss: 0.8626 - val_accuracy: 0.7815\n",
            "Epoch 3/25\n",
            "622/622 [==============================] - 10s 16ms/step - loss: 0.7559 - accuracy: 0.7969 - val_loss: 0.9026 - val_accuracy: 0.7912\n",
            "Epoch 4/25\n",
            "622/622 [==============================] - 10s 16ms/step - loss: 0.6711 - accuracy: 0.8163 - val_loss: 0.7968 - val_accuracy: 0.8055\n",
            "Epoch 5/25\n",
            "622/622 [==============================] - 10s 16ms/step - loss: 0.5903 - accuracy: 0.8368 - val_loss: 0.7678 - val_accuracy: 0.8133\n",
            "Epoch 6/25\n",
            "622/622 [==============================] - 10s 16ms/step - loss: 0.5120 - accuracy: 0.8550 - val_loss: 0.6956 - val_accuracy: 0.8318\n",
            "Epoch 7/25\n",
            "622/622 [==============================] - 10s 16ms/step - loss: 0.4377 - accuracy: 0.8728 - val_loss: 0.6142 - val_accuracy: 0.8501\n",
            "Epoch 8/25\n",
            "622/622 [==============================] - 10s 16ms/step - loss: 0.3857 - accuracy: 0.8861 - val_loss: 0.6079 - val_accuracy: 0.8598\n",
            "Epoch 9/25\n",
            "622/622 [==============================] - 10s 16ms/step - loss: 0.3393 - accuracy: 0.8990 - val_loss: 0.6124 - val_accuracy: 0.8586\n",
            "Epoch 10/25\n",
            "622/622 [==============================] - 10s 15ms/step - loss: 0.3057 - accuracy: 0.9087 - val_loss: 0.5516 - val_accuracy: 0.8719\n",
            "Epoch 11/25\n",
            "622/622 [==============================] - 10s 16ms/step - loss: 0.2725 - accuracy: 0.9181 - val_loss: 0.5447 - val_accuracy: 0.8786\n",
            "Epoch 12/25\n",
            "622/622 [==============================] - 10s 16ms/step - loss: 0.2511 - accuracy: 0.9240 - val_loss: 0.5508 - val_accuracy: 0.8793\n",
            "Epoch 13/25\n",
            "622/622 [==============================] - 10s 16ms/step - loss: 0.2293 - accuracy: 0.9303 - val_loss: 0.5514 - val_accuracy: 0.8861\n",
            "Epoch 14/25\n",
            "622/622 [==============================] - 10s 16ms/step - loss: 0.2154 - accuracy: 0.9347 - val_loss: 0.5666 - val_accuracy: 0.8839\n",
            "Epoch 15/25\n",
            "622/622 [==============================] - 10s 16ms/step - loss: 0.2048 - accuracy: 0.9397 - val_loss: 0.5568 - val_accuracy: 0.8872\n",
            "Epoch 16/25\n",
            "622/622 [==============================] - 10s 15ms/step - loss: 0.2013 - accuracy: 0.9430 - val_loss: 0.5205 - val_accuracy: 0.8913\n",
            "Epoch 17/25\n",
            "622/622 [==============================] - 10s 16ms/step - loss: 0.1885 - accuracy: 0.9466 - val_loss: 0.5387 - val_accuracy: 0.8886\n",
            "Epoch 18/25\n",
            "622/622 [==============================] - 10s 15ms/step - loss: 0.1808 - accuracy: 0.9489 - val_loss: 0.5580 - val_accuracy: 0.8859\n",
            "Epoch 19/25\n",
            "622/622 [==============================] - 10s 16ms/step - loss: 0.1697 - accuracy: 0.9523 - val_loss: 0.5694 - val_accuracy: 0.8882\n",
            "Epoch 20/25\n",
            "622/622 [==============================] - 10s 15ms/step - loss: 0.1623 - accuracy: 0.9541 - val_loss: 0.5733 - val_accuracy: 0.8921\n",
            "Epoch 21/25\n",
            "622/622 [==============================] - 10s 16ms/step - loss: 0.1542 - accuracy: 0.9570 - val_loss: 0.6085 - val_accuracy: 0.8870\n",
            "Epoch 22/25\n",
            "622/622 [==============================] - 10s 16ms/step - loss: 0.1467 - accuracy: 0.9594 - val_loss: 0.5758 - val_accuracy: 0.8878\n",
            "Epoch 23/25\n",
            "622/622 [==============================] - 10s 16ms/step - loss: 0.1430 - accuracy: 0.9604 - val_loss: 0.6080 - val_accuracy: 0.8834\n",
            "Epoch 24/25\n",
            "622/622 [==============================] - 10s 16ms/step - loss: 0.1372 - accuracy: 0.9624 - val_loss: 0.6346 - val_accuracy: 0.8809\n",
            "Epoch 25/25\n",
            "622/622 [==============================] - 10s 16ms/step - loss: 0.1333 - accuracy: 0.9633 - val_loss: 0.6221 - val_accuracy: 0.8830\n"
          ],
          "name": "stdout"
        },
        {
          "output_type": "display_data",
          "data": {
            "text/html": [
              "<br/>Waiting for W&B process to finish, PID 81978<br/>Program ended successfully."
            ],
            "text/plain": [
              "<IPython.core.display.HTML object>"
            ]
          },
          "metadata": {
            "tags": []
          }
        },
        {
          "output_type": "display_data",
          "data": {
            "application/vnd.jupyter.widget-view+json": {
              "model_id": "494794ff144d4bca9e1f4c2fc83a06cd",
              "version_minor": 0,
              "version_major": 2
            },
            "text/plain": [
              "VBox(children=(Label(value=' 9.87MB of 9.87MB uploaded (0.00MB deduped)\\r'), FloatProgress(value=1.0, max=1.0)…"
            ]
          },
          "metadata": {
            "tags": []
          }
        },
        {
          "output_type": "display_data",
          "data": {
            "text/html": [
              "Find user logs for this run at: <code>/content/wandb/run-20210522_154823-7udoj2r9/logs/debug.log</code>"
            ],
            "text/plain": [
              "<IPython.core.display.HTML object>"
            ]
          },
          "metadata": {
            "tags": []
          }
        },
        {
          "output_type": "display_data",
          "data": {
            "text/html": [
              "Find internal logs for this run at: <code>/content/wandb/run-20210522_154823-7udoj2r9/logs/debug-internal.log</code>"
            ],
            "text/plain": [
              "<IPython.core.display.HTML object>"
            ]
          },
          "metadata": {
            "tags": []
          }
        },
        {
          "output_type": "display_data",
          "data": {
            "text/html": [
              "<h3>Run summary:</h3><br/><style>\n",
              "    table.wandb td:nth-child(1) { padding: 0 10px; text-align: right }\n",
              "    </style><table class=\"wandb\">\n",
              "<tr><td>epoch</td><td>24</td></tr><tr><td>loss</td><td>0.13579</td></tr><tr><td>accuracy</td><td>0.96272</td></tr><tr><td>val_loss</td><td>0.62205</td></tr><tr><td>val_accuracy</td><td>0.88304</td></tr><tr><td>_runtime</td><td>287</td></tr><tr><td>_timestamp</td><td>1621698790</td></tr><tr><td>_step</td><td>25</td></tr><tr><td>best_val_loss</td><td>0.52051</td></tr><tr><td>best_epoch</td><td>15</td></tr><tr><td>word_acc</td><td>28.0</td></tr></table>"
            ],
            "text/plain": [
              "<IPython.core.display.HTML object>"
            ]
          },
          "metadata": {
            "tags": []
          }
        },
        {
          "output_type": "display_data",
          "data": {
            "text/html": [
              "<h3>Run history:</h3><br/><style>\n",
              "    table.wandb td:nth-child(1) { padding: 0 10px; text-align: right }\n",
              "    </style><table class=\"wandb\">\n",
              "<tr><td>epoch</td><td>▁▁▂▂▂▂▃▃▃▄▄▄▅▅▅▅▆▆▆▇▇▇▇██</td></tr><tr><td>loss</td><td>█▇▆▅▅▄▃▃▃▂▂▂▂▂▂▂▁▁▁▁▁▁▁▁▁</td></tr><tr><td>accuracy</td><td>▁▂▃▃▄▅▅▆▆▆▇▇▇▇▇▇▇████████</td></tr><tr><td>val_loss</td><td>█▇█▆▆▄▃▃▃▂▁▂▂▂▂▁▁▂▂▂▃▂▃▃▃</td></tr><tr><td>val_accuracy</td><td>▁▂▂▃▃▄▆▆▆▇▇▇██████████▇▇▇</td></tr><tr><td>_runtime</td><td>▁▁▂▂▂▂▃▃▃▃▄▄▄▄▅▅▅▅▆▆▆▆▇▇▇█</td></tr><tr><td>_timestamp</td><td>▁▁▂▂▂▂▃▃▃▃▄▄▄▄▅▅▅▅▆▆▆▆▇▇▇█</td></tr><tr><td>_step</td><td>▁▁▂▂▂▂▃▃▃▄▄▄▄▅▅▅▅▆▆▆▇▇▇▇██</td></tr><tr><td>word_acc</td><td>▁</td></tr></table><br/>"
            ],
            "text/plain": [
              "<IPython.core.display.HTML object>"
            ]
          },
          "metadata": {
            "tags": []
          }
        },
        {
          "output_type": "display_data",
          "data": {
            "text/html": [
              "Synced 5 W&B file(s), 1 media file(s), 0 artifact file(s) and 1 other file(s)"
            ],
            "text/plain": [
              "<IPython.core.display.HTML object>"
            ]
          },
          "metadata": {
            "tags": []
          }
        },
        {
          "output_type": "display_data",
          "data": {
            "text/html": [
              "\n",
              "                    <br/>Synced <strong style=\"color:#cdcd00\">crimson-sweep-9</strong>: <a href=\"https://wandb.ai/theindianwriter/CS6910-Assignment3/runs/7udoj2r9\" target=\"_blank\">https://wandb.ai/theindianwriter/CS6910-Assignment3/runs/7udoj2r9</a><br/>\n",
              "                "
            ],
            "text/plain": [
              "<IPython.core.display.HTML object>"
            ]
          },
          "metadata": {
            "tags": []
          }
        },
        {
          "output_type": "stream",
          "text": [
            "\u001b[34m\u001b[1mwandb\u001b[0m: Agent Starting Run: 7e15n70c with config:\n",
            "\u001b[34m\u001b[1mwandb\u001b[0m: \tbatch_size: 64\n",
            "\u001b[34m\u001b[1mwandb\u001b[0m: \tcell_type: LSTM\n",
            "\u001b[34m\u001b[1mwandb\u001b[0m: \tdrop_out_ratio: 0.4\n",
            "\u001b[34m\u001b[1mwandb\u001b[0m: \tembedding_size: 64\n",
            "\u001b[34m\u001b[1mwandb\u001b[0m: \tepochs: 25\n",
            "\u001b[34m\u001b[1mwandb\u001b[0m: \thidden_layer_size: 128\n",
            "\u001b[34m\u001b[1mwandb\u001b[0m: \tnum_decoder_layers: 1\n",
            "\u001b[34m\u001b[1mwandb\u001b[0m: \tnum_encoder_layers: 2\n",
            "\u001b[34m\u001b[1mwandb\u001b[0m: \toptimizer: adam\n",
            "\u001b[34m\u001b[1mwandb\u001b[0m: \u001b[33mWARNING\u001b[0m Ignored wandb.init() arg project when running a sweep\n"
          ],
          "name": "stderr"
        },
        {
          "output_type": "display_data",
          "data": {
            "text/html": [
              "\n",
              "                Tracking run with wandb version 0.10.30<br/>\n",
              "                Syncing run <strong style=\"color:#cdcd00\">pious-sweep-10</strong> to <a href=\"https://wandb.ai\" target=\"_blank\">Weights & Biases</a> <a href=\"https://docs.wandb.com/integrations/jupyter.html\" target=\"_blank\">(Documentation)</a>.<br/>\n",
              "                Project page: <a href=\"https://wandb.ai/theindianwriter/CS6910-Assignment3\" target=\"_blank\">https://wandb.ai/theindianwriter/CS6910-Assignment3</a><br/>\n",
              "                Sweep page: <a href=\"https://wandb.ai/theindianwriter/CS6910-Assignment3/sweeps/nk5cbn8i\" target=\"_blank\">https://wandb.ai/theindianwriter/CS6910-Assignment3/sweeps/nk5cbn8i</a><br/>\n",
              "Run page: <a href=\"https://wandb.ai/theindianwriter/CS6910-Assignment3/runs/7e15n70c\" target=\"_blank\">https://wandb.ai/theindianwriter/CS6910-Assignment3/runs/7e15n70c</a><br/>\n",
              "                Run data is saved locally in <code>/content/wandb/run-20210522_155322-7e15n70c</code><br/><br/>\n",
              "            "
            ],
            "text/plain": [
              "<IPython.core.display.HTML object>"
            ]
          },
          "metadata": {
            "tags": []
          }
        },
        {
          "output_type": "stream",
          "text": [
            "Epoch 1/25\n",
            "622/622 [==============================] - 14s 17ms/step - loss: 1.4132 - accuracy: 0.7152 - val_loss: 0.9574 - val_accuracy: 0.7591\n",
            "Epoch 2/25\n",
            "622/622 [==============================] - 9s 15ms/step - loss: 0.9109 - accuracy: 0.7629 - val_loss: 0.9430 - val_accuracy: 0.7610\n",
            "Epoch 3/25\n",
            "622/622 [==============================] - 9s 15ms/step - loss: 0.8864 - accuracy: 0.7663 - val_loss: 0.9128 - val_accuracy: 0.7637\n",
            "Epoch 4/25\n",
            "622/622 [==============================] - 9s 15ms/step - loss: 0.8689 - accuracy: 0.7693 - val_loss: 0.9147 - val_accuracy: 0.7635\n",
            "Epoch 5/25\n",
            "622/622 [==============================] - 9s 14ms/step - loss: 0.8458 - accuracy: 0.7735 - val_loss: 0.8787 - val_accuracy: 0.7741\n",
            "Epoch 6/25\n",
            "622/622 [==============================] - 9s 15ms/step - loss: 0.7958 - accuracy: 0.7835 - val_loss: 0.8280 - val_accuracy: 0.7844\n",
            "Epoch 7/25\n",
            "622/622 [==============================] - 9s 15ms/step - loss: 0.7611 - accuracy: 0.7913 - val_loss: 0.8617 - val_accuracy: 0.7845\n",
            "Epoch 8/25\n",
            "622/622 [==============================] - 9s 15ms/step - loss: 0.7044 - accuracy: 0.8054 - val_loss: 0.8117 - val_accuracy: 0.8022\n",
            "Epoch 9/25\n",
            "622/622 [==============================] - 9s 14ms/step - loss: 0.6241 - accuracy: 0.8260 - val_loss: 0.7353 - val_accuracy: 0.8245\n",
            "Epoch 10/25\n",
            "622/622 [==============================] - 9s 14ms/step - loss: 0.5440 - accuracy: 0.8443 - val_loss: 0.6532 - val_accuracy: 0.8429\n",
            "Epoch 11/25\n",
            "622/622 [==============================] - 9s 15ms/step - loss: 0.4868 - accuracy: 0.8582 - val_loss: 0.6081 - val_accuracy: 0.8528\n",
            "Epoch 12/25\n",
            "622/622 [==============================] - 9s 14ms/step - loss: 0.4371 - accuracy: 0.8708 - val_loss: 0.5783 - val_accuracy: 0.8595\n",
            "Epoch 13/25\n",
            "622/622 [==============================] - 10s 15ms/step - loss: 0.3959 - accuracy: 0.8813 - val_loss: 0.5312 - val_accuracy: 0.8671\n",
            "Epoch 14/25\n",
            "622/622 [==============================] - 9s 15ms/step - loss: 0.3642 - accuracy: 0.8900 - val_loss: 0.5218 - val_accuracy: 0.8741\n",
            "Epoch 15/25\n",
            "622/622 [==============================] - 9s 15ms/step - loss: 0.3365 - accuracy: 0.8974 - val_loss: 0.4779 - val_accuracy: 0.8793\n",
            "Epoch 16/25\n",
            "622/622 [==============================] - 9s 15ms/step - loss: 0.3147 - accuracy: 0.9037 - val_loss: 0.5050 - val_accuracy: 0.8837\n",
            "Epoch 17/25\n",
            "622/622 [==============================] - 9s 15ms/step - loss: 0.2966 - accuracy: 0.9094 - val_loss: 0.4602 - val_accuracy: 0.8872\n",
            "Epoch 18/25\n",
            "622/622 [==============================] - 9s 15ms/step - loss: 0.2814 - accuracy: 0.9134 - val_loss: 0.4568 - val_accuracy: 0.8888\n",
            "Epoch 19/25\n",
            "622/622 [==============================] - 9s 15ms/step - loss: 0.2672 - accuracy: 0.9180 - val_loss: 0.4381 - val_accuracy: 0.8952\n",
            "Epoch 20/25\n",
            "622/622 [==============================] - 9s 15ms/step - loss: 0.2559 - accuracy: 0.9206 - val_loss: 0.4370 - val_accuracy: 0.8925\n",
            "Epoch 21/25\n",
            "622/622 [==============================] - 9s 15ms/step - loss: 0.2462 - accuracy: 0.9235 - val_loss: 0.4298 - val_accuracy: 0.8940\n",
            "Epoch 22/25\n",
            "622/622 [==============================] - 9s 15ms/step - loss: 0.2380 - accuracy: 0.9260 - val_loss: 0.4249 - val_accuracy: 0.8954\n",
            "Epoch 23/25\n",
            "622/622 [==============================] - 9s 15ms/step - loss: 0.2307 - accuracy: 0.9283 - val_loss: 0.4273 - val_accuracy: 0.8952\n",
            "Epoch 24/25\n",
            "622/622 [==============================] - 9s 15ms/step - loss: 0.2253 - accuracy: 0.9298 - val_loss: 0.4166 - val_accuracy: 0.8950\n",
            "Epoch 25/25\n",
            "622/622 [==============================] - 9s 15ms/step - loss: 0.2165 - accuracy: 0.9320 - val_loss: 0.4157 - val_accuracy: 0.8986\n"
          ],
          "name": "stdout"
        },
        {
          "output_type": "display_data",
          "data": {
            "text/html": [
              "<br/>Waiting for W&B process to finish, PID 84406<br/>Program ended successfully."
            ],
            "text/plain": [
              "<IPython.core.display.HTML object>"
            ]
          },
          "metadata": {
            "tags": []
          }
        },
        {
          "output_type": "display_data",
          "data": {
            "application/vnd.jupyter.widget-view+json": {
              "model_id": "6c9cbd66f310486daed6ef48e214a70f",
              "version_minor": 0,
              "version_major": 2
            },
            "text/plain": [
              "VBox(children=(Label(value=' 4.43MB of 4.43MB uploaded (0.00MB deduped)\\r'), FloatProgress(value=1.0, max=1.0)…"
            ]
          },
          "metadata": {
            "tags": []
          }
        },
        {
          "output_type": "display_data",
          "data": {
            "text/html": [
              "Find user logs for this run at: <code>/content/wandb/run-20210522_155322-7e15n70c/logs/debug.log</code>"
            ],
            "text/plain": [
              "<IPython.core.display.HTML object>"
            ]
          },
          "metadata": {
            "tags": []
          }
        },
        {
          "output_type": "display_data",
          "data": {
            "text/html": [
              "Find internal logs for this run at: <code>/content/wandb/run-20210522_155322-7e15n70c/logs/debug-internal.log</code>"
            ],
            "text/plain": [
              "<IPython.core.display.HTML object>"
            ]
          },
          "metadata": {
            "tags": []
          }
        },
        {
          "output_type": "display_data",
          "data": {
            "text/html": [
              "<h3>Run summary:</h3><br/><style>\n",
              "    table.wandb td:nth-child(1) { padding: 0 10px; text-align: right }\n",
              "    </style><table class=\"wandb\">\n",
              "<tr><td>epoch</td><td>24</td></tr><tr><td>loss</td><td>0.217</td></tr><tr><td>accuracy</td><td>0.93171</td></tr><tr><td>val_loss</td><td>0.41568</td></tr><tr><td>val_accuracy</td><td>0.89863</td></tr><tr><td>_runtime</td><td>271</td></tr><tr><td>_timestamp</td><td>1621699073</td></tr><tr><td>_step</td><td>25</td></tr><tr><td>best_val_loss</td><td>0.41568</td></tr><tr><td>best_epoch</td><td>24</td></tr><tr><td>word_acc</td><td>29.0</td></tr></table>"
            ],
            "text/plain": [
              "<IPython.core.display.HTML object>"
            ]
          },
          "metadata": {
            "tags": []
          }
        },
        {
          "output_type": "display_data",
          "data": {
            "text/html": [
              "<h3>Run history:</h3><br/><style>\n",
              "    table.wandb td:nth-child(1) { padding: 0 10px; text-align: right }\n",
              "    </style><table class=\"wandb\">\n",
              "<tr><td>epoch</td><td>▁▁▂▂▂▂▃▃▃▄▄▄▅▅▅▅▆▆▆▇▇▇▇██</td></tr><tr><td>loss</td><td>█▇▆▆▆▆▅▅▄▄▃▃▂▂▂▂▂▂▁▁▁▁▁▁▁</td></tr><tr><td>accuracy</td><td>▁▂▂▂▂▃▃▃▄▅▅▆▆▇▇▇▇▇▇██████</td></tr><tr><td>val_loss</td><td>██▇▇▇▆▇▆▅▄▃▃▂▂▂▂▂▂▁▁▁▁▁▁▁</td></tr><tr><td>val_accuracy</td><td>▁▁▁▁▂▂▂▃▄▅▆▆▆▇▇▇▇████████</td></tr><tr><td>_runtime</td><td>▁▁▂▂▂▂▃▃▃▃▄▄▄▄▅▅▅▅▆▆▆▆▇▇▇█</td></tr><tr><td>_timestamp</td><td>▁▁▂▂▂▂▃▃▃▃▄▄▄▄▅▅▅▅▆▆▆▆▇▇▇█</td></tr><tr><td>_step</td><td>▁▁▂▂▂▂▃▃▃▄▄▄▄▅▅▅▅▆▆▆▇▇▇▇██</td></tr><tr><td>word_acc</td><td>▁</td></tr></table><br/>"
            ],
            "text/plain": [
              "<IPython.core.display.HTML object>"
            ]
          },
          "metadata": {
            "tags": []
          }
        },
        {
          "output_type": "display_data",
          "data": {
            "text/html": [
              "Synced 5 W&B file(s), 1 media file(s), 0 artifact file(s) and 1 other file(s)"
            ],
            "text/plain": [
              "<IPython.core.display.HTML object>"
            ]
          },
          "metadata": {
            "tags": []
          }
        },
        {
          "output_type": "display_data",
          "data": {
            "text/html": [
              "\n",
              "                    <br/>Synced <strong style=\"color:#cdcd00\">pious-sweep-10</strong>: <a href=\"https://wandb.ai/theindianwriter/CS6910-Assignment3/runs/7e15n70c\" target=\"_blank\">https://wandb.ai/theindianwriter/CS6910-Assignment3/runs/7e15n70c</a><br/>\n",
              "                "
            ],
            "text/plain": [
              "<IPython.core.display.HTML object>"
            ]
          },
          "metadata": {
            "tags": []
          }
        },
        {
          "output_type": "stream",
          "text": [
            "\u001b[34m\u001b[1mwandb\u001b[0m: Agent Starting Run: dgtyyvp6 with config:\n",
            "\u001b[34m\u001b[1mwandb\u001b[0m: \tbatch_size: 64\n",
            "\u001b[34m\u001b[1mwandb\u001b[0m: \tcell_type: LSTM\n",
            "\u001b[34m\u001b[1mwandb\u001b[0m: \tdrop_out_ratio: 0.4\n",
            "\u001b[34m\u001b[1mwandb\u001b[0m: \tembedding_size: 64\n",
            "\u001b[34m\u001b[1mwandb\u001b[0m: \tepochs: 25\n",
            "\u001b[34m\u001b[1mwandb\u001b[0m: \thidden_layer_size: 256\n",
            "\u001b[34m\u001b[1mwandb\u001b[0m: \tnum_decoder_layers: 1\n",
            "\u001b[34m\u001b[1mwandb\u001b[0m: \tnum_encoder_layers: 2\n",
            "\u001b[34m\u001b[1mwandb\u001b[0m: \toptimizer: adam\n",
            "\u001b[34m\u001b[1mwandb\u001b[0m: \u001b[33mWARNING\u001b[0m Ignored wandb.init() arg project when running a sweep\n"
          ],
          "name": "stderr"
        },
        {
          "output_type": "display_data",
          "data": {
            "text/html": [
              "\n",
              "                Tracking run with wandb version 0.10.30<br/>\n",
              "                Syncing run <strong style=\"color:#cdcd00\">prime-sweep-11</strong> to <a href=\"https://wandb.ai\" target=\"_blank\">Weights & Biases</a> <a href=\"https://docs.wandb.com/integrations/jupyter.html\" target=\"_blank\">(Documentation)</a>.<br/>\n",
              "                Project page: <a href=\"https://wandb.ai/theindianwriter/CS6910-Assignment3\" target=\"_blank\">https://wandb.ai/theindianwriter/CS6910-Assignment3</a><br/>\n",
              "                Sweep page: <a href=\"https://wandb.ai/theindianwriter/CS6910-Assignment3/sweeps/nk5cbn8i\" target=\"_blank\">https://wandb.ai/theindianwriter/CS6910-Assignment3/sweeps/nk5cbn8i</a><br/>\n",
              "Run page: <a href=\"https://wandb.ai/theindianwriter/CS6910-Assignment3/runs/dgtyyvp6\" target=\"_blank\">https://wandb.ai/theindianwriter/CS6910-Assignment3/runs/dgtyyvp6</a><br/>\n",
              "                Run data is saved locally in <code>/content/wandb/run-20210522_155802-dgtyyvp6</code><br/><br/>\n",
              "            "
            ],
            "text/plain": [
              "<IPython.core.display.HTML object>"
            ]
          },
          "metadata": {
            "tags": []
          }
        },
        {
          "output_type": "stream",
          "text": [
            "Epoch 1/25\n",
            "622/622 [==============================] - 15s 17ms/step - loss: 1.2615 - accuracy: 0.7271 - val_loss: 0.9423 - val_accuracy: 0.7625\n",
            "Epoch 2/25\n",
            "622/622 [==============================] - 10s 15ms/step - loss: 0.8934 - accuracy: 0.7657 - val_loss: 0.9157 - val_accuracy: 0.7635\n",
            "Epoch 3/25\n",
            "622/622 [==============================] - 10s 16ms/step - loss: 0.8702 - accuracy: 0.7680 - val_loss: 0.8775 - val_accuracy: 0.7717\n",
            "Epoch 4/25\n",
            "622/622 [==============================] - 10s 16ms/step - loss: 0.8313 - accuracy: 0.7754 - val_loss: 0.9168 - val_accuracy: 0.7735\n",
            "Epoch 5/25\n",
            "622/622 [==============================] - 10s 15ms/step - loss: 0.7716 - accuracy: 0.7889 - val_loss: 0.8359 - val_accuracy: 0.8027\n",
            "Epoch 6/25\n",
            "622/622 [==============================] - 10s 15ms/step - loss: 0.6432 - accuracy: 0.8211 - val_loss: 0.8086 - val_accuracy: 0.8197\n",
            "Epoch 7/25\n",
            "622/622 [==============================] - 10s 15ms/step - loss: 0.5408 - accuracy: 0.8456 - val_loss: 0.7141 - val_accuracy: 0.8341\n",
            "Epoch 8/25\n",
            "622/622 [==============================] - 10s 15ms/step - loss: 0.4555 - accuracy: 0.8674 - val_loss: 0.6050 - val_accuracy: 0.8542\n",
            "Epoch 9/25\n",
            "622/622 [==============================] - 10s 16ms/step - loss: 0.3847 - accuracy: 0.8864 - val_loss: 0.5504 - val_accuracy: 0.8689\n",
            "Epoch 10/25\n",
            "622/622 [==============================] - 10s 15ms/step - loss: 0.3293 - accuracy: 0.9015 - val_loss: 0.5096 - val_accuracy: 0.8788\n",
            "Epoch 11/25\n",
            "622/622 [==============================] - 10s 15ms/step - loss: 0.2891 - accuracy: 0.9126 - val_loss: 0.4800 - val_accuracy: 0.8849\n",
            "Epoch 12/25\n",
            "622/622 [==============================] - 10s 15ms/step - loss: 0.2615 - accuracy: 0.9205 - val_loss: 0.4833 - val_accuracy: 0.8877\n",
            "Epoch 13/25\n",
            "622/622 [==============================] - 10s 15ms/step - loss: 0.2371 - accuracy: 0.9271 - val_loss: 0.4585 - val_accuracy: 0.8921\n",
            "Epoch 14/25\n",
            "622/622 [==============================] - 10s 16ms/step - loss: 0.2220 - accuracy: 0.9318 - val_loss: 0.4972 - val_accuracy: 0.8846\n",
            "Epoch 15/25\n",
            "622/622 [==============================] - 10s 15ms/step - loss: 0.2069 - accuracy: 0.9365 - val_loss: 0.4664 - val_accuracy: 0.8889\n",
            "Epoch 16/25\n",
            "622/622 [==============================] - 10s 15ms/step - loss: 0.1958 - accuracy: 0.9404 - val_loss: 0.5056 - val_accuracy: 0.8849\n",
            "Epoch 17/25\n",
            "622/622 [==============================] - 10s 15ms/step - loss: 0.1841 - accuracy: 0.9446 - val_loss: 0.4995 - val_accuracy: 0.8876\n",
            "Epoch 18/25\n",
            "622/622 [==============================] - 10s 15ms/step - loss: 0.1760 - accuracy: 0.9476 - val_loss: 0.5610 - val_accuracy: 0.8843\n",
            "Epoch 19/25\n",
            "622/622 [==============================] - 10s 16ms/step - loss: 0.1715 - accuracy: 0.9495 - val_loss: 0.4875 - val_accuracy: 0.8922\n",
            "Epoch 20/25\n",
            "622/622 [==============================] - 10s 16ms/step - loss: 0.1639 - accuracy: 0.9526 - val_loss: 0.5297 - val_accuracy: 0.8877\n",
            "Epoch 21/25\n",
            "622/622 [==============================] - 10s 17ms/step - loss: 0.1604 - accuracy: 0.9550 - val_loss: 0.5759 - val_accuracy: 0.8862\n",
            "Epoch 22/25\n",
            "622/622 [==============================] - 10s 16ms/step - loss: 0.1557 - accuracy: 0.9567 - val_loss: 0.5434 - val_accuracy: 0.8895\n",
            "Epoch 23/25\n",
            "622/622 [==============================] - 10s 16ms/step - loss: 0.1490 - accuracy: 0.9591 - val_loss: 0.5259 - val_accuracy: 0.8876\n",
            "Epoch 24/25\n",
            "622/622 [==============================] - 10s 16ms/step - loss: 0.1441 - accuracy: 0.9606 - val_loss: 0.5733 - val_accuracy: 0.8832\n",
            "Epoch 25/25\n",
            "622/622 [==============================] - 10s 16ms/step - loss: 0.1354 - accuracy: 0.9628 - val_loss: 0.6302 - val_accuracy: 0.8771\n"
          ],
          "name": "stdout"
        },
        {
          "output_type": "display_data",
          "data": {
            "text/html": [
              "<br/>Waiting for W&B process to finish, PID 86874<br/>Program ended successfully."
            ],
            "text/plain": [
              "<IPython.core.display.HTML object>"
            ]
          },
          "metadata": {
            "tags": []
          }
        },
        {
          "output_type": "display_data",
          "data": {
            "application/vnd.jupyter.widget-view+json": {
              "model_id": "1e8114dc80f7470f90a770aed79178c8",
              "version_minor": 0,
              "version_major": 2
            },
            "text/plain": [
              "VBox(children=(Label(value=' 14.79MB of 14.79MB uploaded (0.00MB deduped)\\r'), FloatProgress(value=1.0, max=1.…"
            ]
          },
          "metadata": {
            "tags": []
          }
        },
        {
          "output_type": "display_data",
          "data": {
            "text/html": [
              "Find user logs for this run at: <code>/content/wandb/run-20210522_155802-dgtyyvp6/logs/debug.log</code>"
            ],
            "text/plain": [
              "<IPython.core.display.HTML object>"
            ]
          },
          "metadata": {
            "tags": []
          }
        },
        {
          "output_type": "display_data",
          "data": {
            "text/html": [
              "Find internal logs for this run at: <code>/content/wandb/run-20210522_155802-dgtyyvp6/logs/debug-internal.log</code>"
            ],
            "text/plain": [
              "<IPython.core.display.HTML object>"
            ]
          },
          "metadata": {
            "tags": []
          }
        },
        {
          "output_type": "display_data",
          "data": {
            "text/html": [
              "<h3>Run summary:</h3><br/><style>\n",
              "    table.wandb td:nth-child(1) { padding: 0 10px; text-align: right }\n",
              "    </style><table class=\"wandb\">\n",
              "<tr><td>epoch</td><td>24</td></tr><tr><td>loss</td><td>0.13779</td></tr><tr><td>accuracy</td><td>0.96186</td></tr><tr><td>val_loss</td><td>0.63023</td></tr><tr><td>val_accuracy</td><td>0.87711</td></tr><tr><td>_runtime</td><td>284</td></tr><tr><td>_timestamp</td><td>1621699366</td></tr><tr><td>_step</td><td>25</td></tr><tr><td>best_val_loss</td><td>0.4585</td></tr><tr><td>best_epoch</td><td>12</td></tr><tr><td>word_acc</td><td>26.0</td></tr></table>"
            ],
            "text/plain": [
              "<IPython.core.display.HTML object>"
            ]
          },
          "metadata": {
            "tags": []
          }
        },
        {
          "output_type": "display_data",
          "data": {
            "text/html": [
              "<h3>Run history:</h3><br/><style>\n",
              "    table.wandb td:nth-child(1) { padding: 0 10px; text-align: right }\n",
              "    </style><table class=\"wandb\">\n",
              "<tr><td>epoch</td><td>▁▁▂▂▂▂▃▃▃▄▄▄▅▅▅▅▆▆▆▇▇▇▇██</td></tr><tr><td>loss</td><td>█▇▇▆▆▅▄▃▃▂▂▂▂▂▂▁▁▁▁▁▁▁▁▁▁</td></tr><tr><td>accuracy</td><td>▁▂▂▂▃▄▄▅▆▆▆▇▇▇▇▇▇████████</td></tr><tr><td>val_loss</td><td>██▇█▆▆▅▃▂▂▁▁▁▂▁▂▂▂▁▂▃▂▂▃▃</td></tr><tr><td>val_accuracy</td><td>▁▁▁▂▃▄▅▆▇▇██████████████▇</td></tr><tr><td>_runtime</td><td>▁▁▂▂▂▂▃▃▃▃▄▄▄▄▅▅▅▅▆▆▆▆▇▇▇█</td></tr><tr><td>_timestamp</td><td>▁▁▂▂▂▂▃▃▃▃▄▄▄▄▅▅▅▅▆▆▆▆▇▇▇█</td></tr><tr><td>_step</td><td>▁▁▂▂▂▂▃▃▃▄▄▄▄▅▅▅▅▆▆▆▇▇▇▇██</td></tr><tr><td>word_acc</td><td>▁</td></tr></table><br/>"
            ],
            "text/plain": [
              "<IPython.core.display.HTML object>"
            ]
          },
          "metadata": {
            "tags": []
          }
        },
        {
          "output_type": "display_data",
          "data": {
            "text/html": [
              "Synced 5 W&B file(s), 1 media file(s), 0 artifact file(s) and 1 other file(s)"
            ],
            "text/plain": [
              "<IPython.core.display.HTML object>"
            ]
          },
          "metadata": {
            "tags": []
          }
        },
        {
          "output_type": "display_data",
          "data": {
            "text/html": [
              "\n",
              "                    <br/>Synced <strong style=\"color:#cdcd00\">prime-sweep-11</strong>: <a href=\"https://wandb.ai/theindianwriter/CS6910-Assignment3/runs/dgtyyvp6\" target=\"_blank\">https://wandb.ai/theindianwriter/CS6910-Assignment3/runs/dgtyyvp6</a><br/>\n",
              "                "
            ],
            "text/plain": [
              "<IPython.core.display.HTML object>"
            ]
          },
          "metadata": {
            "tags": []
          }
        },
        {
          "output_type": "stream",
          "text": [
            "\u001b[34m\u001b[1mwandb\u001b[0m: Agent Starting Run: lxrw6mt5 with config:\n",
            "\u001b[34m\u001b[1mwandb\u001b[0m: \tbatch_size: 64\n",
            "\u001b[34m\u001b[1mwandb\u001b[0m: \tcell_type: LSTM\n",
            "\u001b[34m\u001b[1mwandb\u001b[0m: \tdrop_out_ratio: 0.4\n",
            "\u001b[34m\u001b[1mwandb\u001b[0m: \tembedding_size: 64\n",
            "\u001b[34m\u001b[1mwandb\u001b[0m: \tepochs: 25\n",
            "\u001b[34m\u001b[1mwandb\u001b[0m: \thidden_layer_size: 256\n",
            "\u001b[34m\u001b[1mwandb\u001b[0m: \tnum_decoder_layers: 2\n",
            "\u001b[34m\u001b[1mwandb\u001b[0m: \tnum_encoder_layers: 3\n",
            "\u001b[34m\u001b[1mwandb\u001b[0m: \toptimizer: rmsprop\n",
            "\u001b[34m\u001b[1mwandb\u001b[0m: \u001b[33mWARNING\u001b[0m Ignored wandb.init() arg project when running a sweep\n"
          ],
          "name": "stderr"
        },
        {
          "output_type": "display_data",
          "data": {
            "text/html": [
              "\n",
              "                Tracking run with wandb version 0.10.30<br/>\n",
              "                Syncing run <strong style=\"color:#cdcd00\">comfy-sweep-12</strong> to <a href=\"https://wandb.ai\" target=\"_blank\">Weights & Biases</a> <a href=\"https://docs.wandb.com/integrations/jupyter.html\" target=\"_blank\">(Documentation)</a>.<br/>\n",
              "                Project page: <a href=\"https://wandb.ai/theindianwriter/CS6910-Assignment3\" target=\"_blank\">https://wandb.ai/theindianwriter/CS6910-Assignment3</a><br/>\n",
              "                Sweep page: <a href=\"https://wandb.ai/theindianwriter/CS6910-Assignment3/sweeps/nk5cbn8i\" target=\"_blank\">https://wandb.ai/theindianwriter/CS6910-Assignment3/sweeps/nk5cbn8i</a><br/>\n",
              "Run page: <a href=\"https://wandb.ai/theindianwriter/CS6910-Assignment3/runs/lxrw6mt5\" target=\"_blank\">https://wandb.ai/theindianwriter/CS6910-Assignment3/runs/lxrw6mt5</a><br/>\n",
              "                Run data is saved locally in <code>/content/wandb/run-20210522_160255-lxrw6mt5</code><br/><br/>\n",
              "            "
            ],
            "text/plain": [
              "<IPython.core.display.HTML object>"
            ]
          },
          "metadata": {
            "tags": []
          }
        },
        {
          "output_type": "stream",
          "text": [
            "Epoch 1/25\n",
            "622/622 [==============================] - 24s 26ms/step - loss: 1.1811 - accuracy: 0.7302 - val_loss: 0.8631 - val_accuracy: 0.7774\n",
            "Epoch 2/25\n",
            "622/622 [==============================] - 15s 24ms/step - loss: 0.7921 - accuracy: 0.7884 - val_loss: 0.8252 - val_accuracy: 0.7942\n",
            "Epoch 3/25\n",
            "622/622 [==============================] - 14s 23ms/step - loss: 0.6823 - accuracy: 0.8104 - val_loss: 0.7321 - val_accuracy: 0.8117\n",
            "Epoch 4/25\n",
            "622/622 [==============================] - 14s 23ms/step - loss: 0.5891 - accuracy: 0.8318 - val_loss: 0.6666 - val_accuracy: 0.8365\n",
            "Epoch 5/25\n",
            "622/622 [==============================] - 14s 23ms/step - loss: 0.5039 - accuracy: 0.8523 - val_loss: 0.6344 - val_accuracy: 0.8503\n",
            "Epoch 6/25\n",
            "622/622 [==============================] - 14s 23ms/step - loss: 0.4327 - accuracy: 0.8716 - val_loss: 0.6416 - val_accuracy: 0.8539\n",
            "Epoch 7/25\n",
            "622/622 [==============================] - 14s 23ms/step - loss: 0.3731 - accuracy: 0.8874 - val_loss: 0.6099 - val_accuracy: 0.8675\n",
            "Epoch 8/25\n",
            "622/622 [==============================] - 14s 23ms/step - loss: 0.3276 - accuracy: 0.9011 - val_loss: 0.5644 - val_accuracy: 0.8753\n",
            "Epoch 9/25\n",
            "622/622 [==============================] - 14s 23ms/step - loss: 0.2895 - accuracy: 0.9120 - val_loss: 0.5540 - val_accuracy: 0.8783\n",
            "Epoch 10/25\n",
            "622/622 [==============================] - 14s 23ms/step - loss: 0.2588 - accuracy: 0.9209 - val_loss: 0.5553 - val_accuracy: 0.8824\n",
            "Epoch 11/25\n",
            "622/622 [==============================] - 14s 23ms/step - loss: 0.2323 - accuracy: 0.9285 - val_loss: 0.5945 - val_accuracy: 0.8810\n",
            "Epoch 12/25\n",
            "622/622 [==============================] - 14s 23ms/step - loss: 0.2105 - accuracy: 0.9353 - val_loss: 0.5584 - val_accuracy: 0.8883\n",
            "Epoch 13/25\n",
            "622/622 [==============================] - 14s 22ms/step - loss: 0.1926 - accuracy: 0.9405 - val_loss: 0.5794 - val_accuracy: 0.8880\n",
            "Epoch 14/25\n",
            "622/622 [==============================] - 14s 23ms/step - loss: 0.1771 - accuracy: 0.9454 - val_loss: 0.5742 - val_accuracy: 0.8862\n",
            "Epoch 15/25\n",
            "622/622 [==============================] - 14s 23ms/step - loss: 0.1619 - accuracy: 0.9493 - val_loss: 0.5785 - val_accuracy: 0.8875\n",
            "Epoch 16/25\n",
            "622/622 [==============================] - 14s 23ms/step - loss: 0.1513 - accuracy: 0.9527 - val_loss: 0.6069 - val_accuracy: 0.8855\n",
            "Epoch 17/25\n",
            "622/622 [==============================] - 14s 22ms/step - loss: 0.1395 - accuracy: 0.9562 - val_loss: 0.6104 - val_accuracy: 0.8900\n",
            "Epoch 18/25\n",
            "622/622 [==============================] - 14s 23ms/step - loss: 0.1298 - accuracy: 0.9591 - val_loss: 0.6367 - val_accuracy: 0.8833\n",
            "Epoch 19/25\n",
            "622/622 [==============================] - 14s 23ms/step - loss: 0.1219 - accuracy: 0.9619 - val_loss: 0.5834 - val_accuracy: 0.8891\n",
            "Epoch 20/25\n",
            "622/622 [==============================] - 14s 23ms/step - loss: 0.1176 - accuracy: 0.9633 - val_loss: 0.5775 - val_accuracy: 0.8903\n",
            "Epoch 21/25\n",
            "622/622 [==============================] - 14s 23ms/step - loss: 0.1085 - accuracy: 0.9654 - val_loss: 0.6858 - val_accuracy: 0.8794\n",
            "Epoch 22/25\n",
            "622/622 [==============================] - 14s 23ms/step - loss: 0.1032 - accuracy: 0.9673 - val_loss: 0.6294 - val_accuracy: 0.8883\n",
            "Epoch 23/25\n",
            "622/622 [==============================] - 14s 23ms/step - loss: 0.0968 - accuracy: 0.9690 - val_loss: 0.6938 - val_accuracy: 0.8837\n",
            "Epoch 24/25\n",
            "622/622 [==============================] - 14s 23ms/step - loss: 0.0912 - accuracy: 0.9706 - val_loss: 0.6871 - val_accuracy: 0.8845\n",
            "Epoch 25/25\n",
            "622/622 [==============================] - 14s 23ms/step - loss: 0.0883 - accuracy: 0.9719 - val_loss: 0.7238 - val_accuracy: 0.8833\n"
          ],
          "name": "stdout"
        },
        {
          "output_type": "display_data",
          "data": {
            "text/html": [
              "<br/>Waiting for W&B process to finish, PID 89309<br/>Program ended successfully."
            ],
            "text/plain": [
              "<IPython.core.display.HTML object>"
            ]
          },
          "metadata": {
            "tags": []
          }
        },
        {
          "output_type": "display_data",
          "data": {
            "application/vnd.jupyter.widget-view+json": {
              "model_id": "fa071fe3de624a948f4019e1d83804b3",
              "version_minor": 0,
              "version_major": 2
            },
            "text/plain": [
              "VBox(children=(Label(value=' 17.91MB of 17.91MB uploaded (0.00MB deduped)\\r'), FloatProgress(value=1.0, max=1.…"
            ]
          },
          "metadata": {
            "tags": []
          }
        },
        {
          "output_type": "display_data",
          "data": {
            "text/html": [
              "Find user logs for this run at: <code>/content/wandb/run-20210522_160255-lxrw6mt5/logs/debug.log</code>"
            ],
            "text/plain": [
              "<IPython.core.display.HTML object>"
            ]
          },
          "metadata": {
            "tags": []
          }
        },
        {
          "output_type": "display_data",
          "data": {
            "text/html": [
              "Find internal logs for this run at: <code>/content/wandb/run-20210522_160255-lxrw6mt5/logs/debug-internal.log</code>"
            ],
            "text/plain": [
              "<IPython.core.display.HTML object>"
            ]
          },
          "metadata": {
            "tags": []
          }
        },
        {
          "output_type": "display_data",
          "data": {
            "text/html": [
              "<h3>Run summary:</h3><br/><style>\n",
              "    table.wandb td:nth-child(1) { padding: 0 10px; text-align: right }\n",
              "    </style><table class=\"wandb\">\n",
              "<tr><td>epoch</td><td>24</td></tr><tr><td>loss</td><td>0.09084</td></tr><tr><td>accuracy</td><td>0.97106</td></tr><tr><td>val_loss</td><td>0.72383</td></tr><tr><td>val_accuracy</td><td>0.88328</td></tr><tr><td>_runtime</td><td>406</td></tr><tr><td>_timestamp</td><td>1621699781</td></tr><tr><td>_step</td><td>25</td></tr><tr><td>best_val_loss</td><td>0.55398</td></tr><tr><td>best_epoch</td><td>8</td></tr><tr><td>word_acc</td><td>4.0</td></tr></table>"
            ],
            "text/plain": [
              "<IPython.core.display.HTML object>"
            ]
          },
          "metadata": {
            "tags": []
          }
        },
        {
          "output_type": "display_data",
          "data": {
            "text/html": [
              "<h3>Run history:</h3><br/><style>\n",
              "    table.wandb td:nth-child(1) { padding: 0 10px; text-align: right }\n",
              "    </style><table class=\"wandb\">\n",
              "<tr><td>epoch</td><td>▁▁▂▂▂▂▃▃▃▄▄▄▅▅▅▅▆▆▆▇▇▇▇██</td></tr><tr><td>loss</td><td>█▆▅▅▄▄▃▃▃▂▂▂▂▂▂▁▁▁▁▁▁▁▁▁▁</td></tr><tr><td>accuracy</td><td>▁▂▃▄▄▅▅▆▆▆▇▇▇▇▇▇▇████████</td></tr><tr><td>val_loss</td><td>█▇▅▄▃▃▂▁▁▁▂▁▂▁▂▂▂▃▂▂▄▃▄▄▅</td></tr><tr><td>val_accuracy</td><td>▁▂▃▅▆▆▇▇▇█▇█████████▇████</td></tr><tr><td>_runtime</td><td>▁▁▂▂▂▂▃▃▃▃▄▄▄▄▅▅▅▅▆▆▆▇▇▇▇█</td></tr><tr><td>_timestamp</td><td>▁▁▂▂▂▂▃▃▃▃▄▄▄▄▅▅▅▅▆▆▆▇▇▇▇█</td></tr><tr><td>_step</td><td>▁▁▂▂▂▂▃▃▃▄▄▄▄▅▅▅▅▆▆▆▇▇▇▇██</td></tr><tr><td>word_acc</td><td>▁</td></tr></table><br/>"
            ],
            "text/plain": [
              "<IPython.core.display.HTML object>"
            ]
          },
          "metadata": {
            "tags": []
          }
        },
        {
          "output_type": "display_data",
          "data": {
            "text/html": [
              "Synced 5 W&B file(s), 1 media file(s), 0 artifact file(s) and 1 other file(s)"
            ],
            "text/plain": [
              "<IPython.core.display.HTML object>"
            ]
          },
          "metadata": {
            "tags": []
          }
        },
        {
          "output_type": "display_data",
          "data": {
            "text/html": [
              "\n",
              "                    <br/>Synced <strong style=\"color:#cdcd00\">comfy-sweep-12</strong>: <a href=\"https://wandb.ai/theindianwriter/CS6910-Assignment3/runs/lxrw6mt5\" target=\"_blank\">https://wandb.ai/theindianwriter/CS6910-Assignment3/runs/lxrw6mt5</a><br/>\n",
              "                "
            ],
            "text/plain": [
              "<IPython.core.display.HTML object>"
            ]
          },
          "metadata": {
            "tags": []
          }
        },
        {
          "output_type": "stream",
          "text": [
            "\u001b[34m\u001b[1mwandb\u001b[0m: Agent Starting Run: q1fwg1ae with config:\n",
            "\u001b[34m\u001b[1mwandb\u001b[0m: \tbatch_size: 64\n",
            "\u001b[34m\u001b[1mwandb\u001b[0m: \tcell_type: LSTM\n",
            "\u001b[34m\u001b[1mwandb\u001b[0m: \tdrop_out_ratio: 0.4\n",
            "\u001b[34m\u001b[1mwandb\u001b[0m: \tembedding_size: 64\n",
            "\u001b[34m\u001b[1mwandb\u001b[0m: \tepochs: 25\n",
            "\u001b[34m\u001b[1mwandb\u001b[0m: \thidden_layer_size: 256\n",
            "\u001b[34m\u001b[1mwandb\u001b[0m: \tnum_decoder_layers: 1\n",
            "\u001b[34m\u001b[1mwandb\u001b[0m: \tnum_encoder_layers: 1\n",
            "\u001b[34m\u001b[1mwandb\u001b[0m: \toptimizer: rmsprop\n",
            "\u001b[34m\u001b[1mwandb\u001b[0m: \u001b[33mWARNING\u001b[0m Ignored wandb.init() arg project when running a sweep\n"
          ],
          "name": "stderr"
        },
        {
          "output_type": "display_data",
          "data": {
            "text/html": [
              "\n",
              "                Tracking run with wandb version 0.10.30<br/>\n",
              "                Syncing run <strong style=\"color:#cdcd00\">cool-sweep-13</strong> to <a href=\"https://wandb.ai\" target=\"_blank\">Weights & Biases</a> <a href=\"https://docs.wandb.com/integrations/jupyter.html\" target=\"_blank\">(Documentation)</a>.<br/>\n",
              "                Project page: <a href=\"https://wandb.ai/theindianwriter/CS6910-Assignment3\" target=\"_blank\">https://wandb.ai/theindianwriter/CS6910-Assignment3</a><br/>\n",
              "                Sweep page: <a href=\"https://wandb.ai/theindianwriter/CS6910-Assignment3/sweeps/nk5cbn8i\" target=\"_blank\">https://wandb.ai/theindianwriter/CS6910-Assignment3/sweeps/nk5cbn8i</a><br/>\n",
              "Run page: <a href=\"https://wandb.ai/theindianwriter/CS6910-Assignment3/runs/q1fwg1ae\" target=\"_blank\">https://wandb.ai/theindianwriter/CS6910-Assignment3/runs/q1fwg1ae</a><br/>\n",
              "                Run data is saved locally in <code>/content/wandb/run-20210522_160950-q1fwg1ae</code><br/><br/>\n",
              "            "
            ],
            "text/plain": [
              "<IPython.core.display.HTML object>"
            ]
          },
          "metadata": {
            "tags": []
          }
        },
        {
          "output_type": "stream",
          "text": [
            "Epoch 1/25\n",
            "622/622 [==============================] - 12s 15ms/step - loss: 1.1716 - accuracy: 0.7324 - val_loss: 0.9249 - val_accuracy: 0.7644\n",
            "Epoch 2/25\n",
            "622/622 [==============================] - 8s 13ms/step - loss: 0.8598 - accuracy: 0.7752 - val_loss: 0.8855 - val_accuracy: 0.7802\n",
            "Epoch 3/25\n",
            "622/622 [==============================] - 8s 13ms/step - loss: 0.7443 - accuracy: 0.7989 - val_loss: 0.8679 - val_accuracy: 0.7876\n",
            "Epoch 4/25\n",
            "622/622 [==============================] - 8s 13ms/step - loss: 0.6442 - accuracy: 0.8227 - val_loss: 0.8269 - val_accuracy: 0.8039\n",
            "Epoch 5/25\n",
            "622/622 [==============================] - 8s 13ms/step - loss: 0.5687 - accuracy: 0.8407 - val_loss: 0.7792 - val_accuracy: 0.8166\n",
            "Epoch 6/25\n",
            "622/622 [==============================] - 8s 13ms/step - loss: 0.5104 - accuracy: 0.8543 - val_loss: 0.7477 - val_accuracy: 0.8248\n",
            "Epoch 7/25\n",
            "622/622 [==============================] - 8s 13ms/step - loss: 0.4622 - accuracy: 0.8663 - val_loss: 0.7247 - val_accuracy: 0.8306\n",
            "Epoch 8/25\n",
            "622/622 [==============================] - 8s 13ms/step - loss: 0.4235 - accuracy: 0.8755 - val_loss: 0.6982 - val_accuracy: 0.8455\n",
            "Epoch 9/25\n",
            "622/622 [==============================] - 8s 12ms/step - loss: 0.3900 - accuracy: 0.8848 - val_loss: 0.6437 - val_accuracy: 0.8481\n",
            "Epoch 10/25\n",
            "622/622 [==============================] - 8s 12ms/step - loss: 0.3628 - accuracy: 0.8918 - val_loss: 0.6732 - val_accuracy: 0.8495\n",
            "Epoch 11/25\n",
            "622/622 [==============================] - 8s 12ms/step - loss: 0.3348 - accuracy: 0.8995 - val_loss: 0.6935 - val_accuracy: 0.8489\n",
            "Epoch 12/25\n",
            "622/622 [==============================] - 8s 12ms/step - loss: 0.3126 - accuracy: 0.9057 - val_loss: 0.6404 - val_accuracy: 0.8592\n",
            "Epoch 13/25\n",
            "622/622 [==============================] - 8s 13ms/step - loss: 0.2942 - accuracy: 0.9109 - val_loss: 0.6219 - val_accuracy: 0.8609\n",
            "Epoch 14/25\n",
            "622/622 [==============================] - 8s 12ms/step - loss: 0.2765 - accuracy: 0.9162 - val_loss: 0.6287 - val_accuracy: 0.8587\n",
            "Epoch 15/25\n",
            "622/622 [==============================] - 8s 13ms/step - loss: 0.2595 - accuracy: 0.9203 - val_loss: 0.6265 - val_accuracy: 0.8609\n",
            "Epoch 16/25\n",
            "622/622 [==============================] - 8s 13ms/step - loss: 0.2480 - accuracy: 0.9243 - val_loss: 0.6525 - val_accuracy: 0.8617\n",
            "Epoch 17/25\n",
            "622/622 [==============================] - 8s 13ms/step - loss: 0.2344 - accuracy: 0.9279 - val_loss: 0.6700 - val_accuracy: 0.8646\n",
            "Epoch 18/25\n",
            "622/622 [==============================] - 8s 13ms/step - loss: 0.2251 - accuracy: 0.9313 - val_loss: 0.6826 - val_accuracy: 0.8630\n",
            "Epoch 19/25\n",
            "622/622 [==============================] - 8s 13ms/step - loss: 0.2205 - accuracy: 0.9338 - val_loss: 0.6104 - val_accuracy: 0.8688\n",
            "Epoch 20/25\n",
            "622/622 [==============================] - 8s 13ms/step - loss: 0.2157 - accuracy: 0.9364 - val_loss: 0.6516 - val_accuracy: 0.8655\n",
            "Epoch 21/25\n",
            "622/622 [==============================] - 8s 13ms/step - loss: 0.2159 - accuracy: 0.9387 - val_loss: 0.7336 - val_accuracy: 0.8587\n",
            "Epoch 22/25\n",
            "622/622 [==============================] - 8s 13ms/step - loss: 0.2103 - accuracy: 0.9401 - val_loss: 0.7071 - val_accuracy: 0.8635\n",
            "Epoch 23/25\n",
            "622/622 [==============================] - 8s 13ms/step - loss: 0.2008 - accuracy: 0.9432 - val_loss: 0.7282 - val_accuracy: 0.8593\n",
            "Epoch 24/25\n",
            "622/622 [==============================] - 8s 12ms/step - loss: 0.1965 - accuracy: 0.9445 - val_loss: 0.7416 - val_accuracy: 0.8594\n",
            "Epoch 25/25\n",
            "622/622 [==============================] - 8s 13ms/step - loss: 0.1891 - accuracy: 0.9467 - val_loss: 0.7194 - val_accuracy: 0.8630\n"
          ],
          "name": "stdout"
        },
        {
          "output_type": "display_data",
          "data": {
            "text/html": [
              "<br/>Waiting for W&B process to finish, PID 92133<br/>Program ended successfully."
            ],
            "text/plain": [
              "<IPython.core.display.HTML object>"
            ]
          },
          "metadata": {
            "tags": []
          }
        },
        {
          "output_type": "display_data",
          "data": {
            "application/vnd.jupyter.widget-view+json": {
              "model_id": "e3c376b8f25f485db5d069d4d55a8fd7",
              "version_minor": 0,
              "version_major": 2
            },
            "text/plain": [
              "VBox(children=(Label(value=' 5.85MB of 5.85MB uploaded (0.00MB deduped)\\r'), FloatProgress(value=1.0, max=1.0)…"
            ]
          },
          "metadata": {
            "tags": []
          }
        },
        {
          "output_type": "display_data",
          "data": {
            "text/html": [
              "Find user logs for this run at: <code>/content/wandb/run-20210522_160950-q1fwg1ae/logs/debug.log</code>"
            ],
            "text/plain": [
              "<IPython.core.display.HTML object>"
            ]
          },
          "metadata": {
            "tags": []
          }
        },
        {
          "output_type": "display_data",
          "data": {
            "text/html": [
              "Find internal logs for this run at: <code>/content/wandb/run-20210522_160950-q1fwg1ae/logs/debug-internal.log</code>"
            ],
            "text/plain": [
              "<IPython.core.display.HTML object>"
            ]
          },
          "metadata": {
            "tags": []
          }
        },
        {
          "output_type": "display_data",
          "data": {
            "text/html": [
              "<h3>Run summary:</h3><br/><style>\n",
              "    table.wandb td:nth-child(1) { padding: 0 10px; text-align: right }\n",
              "    </style><table class=\"wandb\">\n",
              "<tr><td>epoch</td><td>24</td></tr><tr><td>loss</td><td>0.18946</td></tr><tr><td>accuracy</td><td>0.94642</td></tr><tr><td>val_loss</td><td>0.71936</td></tr><tr><td>val_accuracy</td><td>0.86298</td></tr><tr><td>_runtime</td><td>238</td></tr><tr><td>_timestamp</td><td>1621700028</td></tr><tr><td>_step</td><td>25</td></tr><tr><td>best_val_loss</td><td>0.61038</td></tr><tr><td>best_epoch</td><td>18</td></tr><tr><td>word_acc</td><td>26.0</td></tr></table>"
            ],
            "text/plain": [
              "<IPython.core.display.HTML object>"
            ]
          },
          "metadata": {
            "tags": []
          }
        },
        {
          "output_type": "display_data",
          "data": {
            "text/html": [
              "<h3>Run history:</h3><br/><style>\n",
              "    table.wandb td:nth-child(1) { padding: 0 10px; text-align: right }\n",
              "    </style><table class=\"wandb\">\n",
              "<tr><td>epoch</td><td>▁▁▂▂▂▂▃▃▃▄▄▄▅▅▅▅▆▆▆▇▇▇▇██</td></tr><tr><td>loss</td><td>█▆▆▅▄▄▃▃▃▂▂▂▂▂▂▁▁▁▁▁▁▁▁▁▁</td></tr><tr><td>accuracy</td><td>▁▂▃▄▄▅▅▆▆▆▆▇▇▇▇▇▇▇███████</td></tr><tr><td>val_loss</td><td>█▇▇▆▅▄▄▃▂▂▃▂▁▁▁▂▂▃▁▂▄▃▄▄▃</td></tr><tr><td>val_accuracy</td><td>▁▂▃▄▄▅▅▆▇▇▇▇▇▇▇█████▇█▇▇█</td></tr><tr><td>_runtime</td><td>▁▁▂▂▂▂▃▃▃▃▄▄▄▄▄▅▅▅▅▆▆▆▆▇▇█</td></tr><tr><td>_timestamp</td><td>▁▁▂▂▂▂▃▃▃▃▄▄▄▄▄▅▅▅▅▆▆▆▆▇▇█</td></tr><tr><td>_step</td><td>▁▁▂▂▂▂▃▃▃▄▄▄▄▅▅▅▅▆▆▆▇▇▇▇██</td></tr><tr><td>word_acc</td><td>▁</td></tr></table><br/>"
            ],
            "text/plain": [
              "<IPython.core.display.HTML object>"
            ]
          },
          "metadata": {
            "tags": []
          }
        },
        {
          "output_type": "display_data",
          "data": {
            "text/html": [
              "Synced 5 W&B file(s), 1 media file(s), 0 artifact file(s) and 1 other file(s)"
            ],
            "text/plain": [
              "<IPython.core.display.HTML object>"
            ]
          },
          "metadata": {
            "tags": []
          }
        },
        {
          "output_type": "display_data",
          "data": {
            "text/html": [
              "\n",
              "                    <br/>Synced <strong style=\"color:#cdcd00\">cool-sweep-13</strong>: <a href=\"https://wandb.ai/theindianwriter/CS6910-Assignment3/runs/q1fwg1ae\" target=\"_blank\">https://wandb.ai/theindianwriter/CS6910-Assignment3/runs/q1fwg1ae</a><br/>\n",
              "                "
            ],
            "text/plain": [
              "<IPython.core.display.HTML object>"
            ]
          },
          "metadata": {
            "tags": []
          }
        },
        {
          "output_type": "stream",
          "text": [
            "\u001b[34m\u001b[1mwandb\u001b[0m: Agent Starting Run: jyftb5ov with config:\n",
            "\u001b[34m\u001b[1mwandb\u001b[0m: \tbatch_size: 64\n",
            "\u001b[34m\u001b[1mwandb\u001b[0m: \tcell_type: LSTM\n",
            "\u001b[34m\u001b[1mwandb\u001b[0m: \tdrop_out_ratio: 0.4\n",
            "\u001b[34m\u001b[1mwandb\u001b[0m: \tembedding_size: 64\n",
            "\u001b[34m\u001b[1mwandb\u001b[0m: \tepochs: 25\n",
            "\u001b[34m\u001b[1mwandb\u001b[0m: \thidden_layer_size: 256\n",
            "\u001b[34m\u001b[1mwandb\u001b[0m: \tnum_decoder_layers: 1\n",
            "\u001b[34m\u001b[1mwandb\u001b[0m: \tnum_encoder_layers: 2\n",
            "\u001b[34m\u001b[1mwandb\u001b[0m: \toptimizer: rmsprop\n",
            "\u001b[34m\u001b[1mwandb\u001b[0m: \u001b[33mWARNING\u001b[0m Ignored wandb.init() arg project when running a sweep\n"
          ],
          "name": "stderr"
        },
        {
          "output_type": "display_data",
          "data": {
            "text/html": [
              "\n",
              "                Tracking run with wandb version 0.10.30<br/>\n",
              "                Syncing run <strong style=\"color:#cdcd00\">lunar-sweep-14</strong> to <a href=\"https://wandb.ai\" target=\"_blank\">Weights & Biases</a> <a href=\"https://docs.wandb.com/integrations/jupyter.html\" target=\"_blank\">(Documentation)</a>.<br/>\n",
              "                Project page: <a href=\"https://wandb.ai/theindianwriter/CS6910-Assignment3\" target=\"_blank\">https://wandb.ai/theindianwriter/CS6910-Assignment3</a><br/>\n",
              "                Sweep page: <a href=\"https://wandb.ai/theindianwriter/CS6910-Assignment3/sweeps/nk5cbn8i\" target=\"_blank\">https://wandb.ai/theindianwriter/CS6910-Assignment3/sweeps/nk5cbn8i</a><br/>\n",
              "Run page: <a href=\"https://wandb.ai/theindianwriter/CS6910-Assignment3/runs/jyftb5ov\" target=\"_blank\">https://wandb.ai/theindianwriter/CS6910-Assignment3/runs/jyftb5ov</a><br/>\n",
              "                Run data is saved locally in <code>/content/wandb/run-20210522_161356-jyftb5ov</code><br/><br/>\n",
              "            "
            ],
            "text/plain": [
              "<IPython.core.display.HTML object>"
            ]
          },
          "metadata": {
            "tags": []
          }
        },
        {
          "output_type": "stream",
          "text": [
            "Epoch 1/25\n",
            "622/622 [==============================] - 15s 18ms/step - loss: 1.1341 - accuracy: 0.7351 - val_loss: 0.9110 - val_accuracy: 0.7739\n",
            "Epoch 2/25\n",
            "622/622 [==============================] - 10s 16ms/step - loss: 0.8456 - accuracy: 0.7781 - val_loss: 0.8520 - val_accuracy: 0.7775\n",
            "Epoch 3/25\n",
            "622/622 [==============================] - 10s 16ms/step - loss: 0.7497 - accuracy: 0.7981 - val_loss: 0.8689 - val_accuracy: 0.7844\n",
            "Epoch 4/25\n",
            "622/622 [==============================] - 10s 16ms/step - loss: 0.6746 - accuracy: 0.8149 - val_loss: 0.7998 - val_accuracy: 0.8096\n",
            "Epoch 5/25\n",
            "622/622 [==============================] - 10s 16ms/step - loss: 0.5892 - accuracy: 0.8363 - val_loss: 0.7615 - val_accuracy: 0.8254\n",
            "Epoch 6/25\n",
            "622/622 [==============================] - 10s 16ms/step - loss: 0.5011 - accuracy: 0.8586 - val_loss: 0.6877 - val_accuracy: 0.8445\n",
            "Epoch 7/25\n",
            "622/622 [==============================] - 10s 16ms/step - loss: 0.4375 - accuracy: 0.8748 - val_loss: 0.6529 - val_accuracy: 0.8492\n",
            "Epoch 8/25\n",
            "622/622 [==============================] - 10s 16ms/step - loss: 0.3831 - accuracy: 0.8887 - val_loss: 0.6384 - val_accuracy: 0.8620\n",
            "Epoch 9/25\n",
            "622/622 [==============================] - 10s 16ms/step - loss: 0.3379 - accuracy: 0.9005 - val_loss: 0.5791 - val_accuracy: 0.8657\n",
            "Epoch 10/25\n",
            "622/622 [==============================] - 10s 16ms/step - loss: 0.3028 - accuracy: 0.9100 - val_loss: 0.5277 - val_accuracy: 0.8821\n",
            "Epoch 11/25\n",
            "622/622 [==============================] - 10s 16ms/step - loss: 0.2710 - accuracy: 0.9187 - val_loss: 0.5614 - val_accuracy: 0.8779\n",
            "Epoch 12/25\n",
            "622/622 [==============================] - 10s 16ms/step - loss: 0.2485 - accuracy: 0.9250 - val_loss: 0.5264 - val_accuracy: 0.8875\n",
            "Epoch 13/25\n",
            "622/622 [==============================] - 10s 16ms/step - loss: 0.2279 - accuracy: 0.9307 - val_loss: 0.5132 - val_accuracy: 0.8867\n",
            "Epoch 14/25\n",
            "622/622 [==============================] - 10s 16ms/step - loss: 0.2110 - accuracy: 0.9355 - val_loss: 0.4993 - val_accuracy: 0.8920\n",
            "Epoch 15/25\n",
            "622/622 [==============================] - 10s 16ms/step - loss: 0.1972 - accuracy: 0.9391 - val_loss: 0.5136 - val_accuracy: 0.8931\n",
            "Epoch 16/25\n",
            "622/622 [==============================] - 10s 16ms/step - loss: 0.1848 - accuracy: 0.9427 - val_loss: 0.5239 - val_accuracy: 0.8928\n",
            "Epoch 17/25\n",
            "622/622 [==============================] - 10s 16ms/step - loss: 0.1747 - accuracy: 0.9459 - val_loss: 0.5259 - val_accuracy: 0.8888\n",
            "Epoch 18/25\n",
            "622/622 [==============================] - 10s 16ms/step - loss: 0.1669 - accuracy: 0.9489 - val_loss: 0.5611 - val_accuracy: 0.8893\n",
            "Epoch 19/25\n",
            "622/622 [==============================] - 10s 16ms/step - loss: 0.1633 - accuracy: 0.9515 - val_loss: 0.5410 - val_accuracy: 0.8951\n",
            "Epoch 20/25\n",
            "622/622 [==============================] - 10s 16ms/step - loss: 0.1637 - accuracy: 0.9534 - val_loss: 0.5712 - val_accuracy: 0.8883\n",
            "Epoch 21/25\n",
            "622/622 [==============================] - 10s 16ms/step - loss: 0.1568 - accuracy: 0.9556 - val_loss: 0.5289 - val_accuracy: 0.8965\n",
            "Epoch 22/25\n",
            "622/622 [==============================] - 10s 16ms/step - loss: 0.1491 - accuracy: 0.9575 - val_loss: 0.5836 - val_accuracy: 0.8906\n",
            "Epoch 23/25\n",
            "622/622 [==============================] - 10s 16ms/step - loss: 0.1431 - accuracy: 0.9596 - val_loss: 0.5549 - val_accuracy: 0.8949\n",
            "Epoch 24/25\n",
            "622/622 [==============================] - 10s 16ms/step - loss: 0.1388 - accuracy: 0.9609 - val_loss: 0.5860 - val_accuracy: 0.8912\n",
            "Epoch 25/25\n",
            "622/622 [==============================] - 10s 16ms/step - loss: 0.1337 - accuracy: 0.9626 - val_loss: 0.6258 - val_accuracy: 0.8857\n"
          ],
          "name": "stdout"
        },
        {
          "output_type": "display_data",
          "data": {
            "text/html": [
              "<br/>Waiting for W&B process to finish, PID 94721<br/>Program ended successfully."
            ],
            "text/plain": [
              "<IPython.core.display.HTML object>"
            ]
          },
          "metadata": {
            "tags": []
          }
        },
        {
          "output_type": "display_data",
          "data": {
            "application/vnd.jupyter.widget-view+json": {
              "model_id": "36be140b3d244c7e856f5e5908d43855",
              "version_minor": 0,
              "version_major": 2
            },
            "text/plain": [
              "VBox(children=(Label(value=' 9.87MB of 9.87MB uploaded (0.00MB deduped)\\r'), FloatProgress(value=1.0, max=1.0)…"
            ]
          },
          "metadata": {
            "tags": []
          }
        },
        {
          "output_type": "display_data",
          "data": {
            "text/html": [
              "Find user logs for this run at: <code>/content/wandb/run-20210522_161356-jyftb5ov/logs/debug.log</code>"
            ],
            "text/plain": [
              "<IPython.core.display.HTML object>"
            ]
          },
          "metadata": {
            "tags": []
          }
        },
        {
          "output_type": "display_data",
          "data": {
            "text/html": [
              "Find internal logs for this run at: <code>/content/wandb/run-20210522_161356-jyftb5ov/logs/debug-internal.log</code>"
            ],
            "text/plain": [
              "<IPython.core.display.HTML object>"
            ]
          },
          "metadata": {
            "tags": []
          }
        },
        {
          "output_type": "display_data",
          "data": {
            "text/html": [
              "<h3>Run summary:</h3><br/><style>\n",
              "    table.wandb td:nth-child(1) { padding: 0 10px; text-align: right }\n",
              "    </style><table class=\"wandb\">\n",
              "<tr><td>epoch</td><td>24</td></tr><tr><td>loss</td><td>0.13552</td></tr><tr><td>accuracy</td><td>0.96205</td></tr><tr><td>val_loss</td><td>0.62576</td></tr><tr><td>val_accuracy</td><td>0.88566</td></tr><tr><td>_runtime</td><td>292</td></tr><tr><td>_timestamp</td><td>1621700328</td></tr><tr><td>_step</td><td>25</td></tr><tr><td>best_val_loss</td><td>0.49931</td></tr><tr><td>best_epoch</td><td>13</td></tr><tr><td>word_acc</td><td>34.0</td></tr></table>"
            ],
            "text/plain": [
              "<IPython.core.display.HTML object>"
            ]
          },
          "metadata": {
            "tags": []
          }
        },
        {
          "output_type": "display_data",
          "data": {
            "text/html": [
              "<h3>Run history:</h3><br/><style>\n",
              "    table.wandb td:nth-child(1) { padding: 0 10px; text-align: right }\n",
              "    </style><table class=\"wandb\">\n",
              "<tr><td>epoch</td><td>▁▁▂▂▂▂▃▃▃▄▄▄▅▅▅▅▆▆▆▇▇▇▇██</td></tr><tr><td>loss</td><td>█▇▆▅▅▄▃▃▃▂▂▂▂▂▂▁▁▁▁▁▁▁▁▁▁</td></tr><tr><td>accuracy</td><td>▁▂▃▃▄▅▅▆▆▆▇▇▇▇▇▇▇████████</td></tr><tr><td>val_loss</td><td>█▇▇▆▅▄▄▃▂▁▂▁▁▁▁▁▁▂▂▂▂▂▂▂▃</td></tr><tr><td>val_accuracy</td><td>▁▁▂▃▄▅▅▆▆▇▇▇▇███████████▇</td></tr><tr><td>_runtime</td><td>▁▁▂▂▂▂▃▃▃▃▄▄▄▄▅▅▅▅▆▆▆▆▇▇▇█</td></tr><tr><td>_timestamp</td><td>▁▁▂▂▂▂▃▃▃▃▄▄▄▄▅▅▅▅▆▆▆▆▇▇▇█</td></tr><tr><td>_step</td><td>▁▁▂▂▂▂▃▃▃▄▄▄▄▅▅▅▅▆▆▆▇▇▇▇██</td></tr><tr><td>word_acc</td><td>▁</td></tr></table><br/>"
            ],
            "text/plain": [
              "<IPython.core.display.HTML object>"
            ]
          },
          "metadata": {
            "tags": []
          }
        },
        {
          "output_type": "display_data",
          "data": {
            "text/html": [
              "Synced 5 W&B file(s), 1 media file(s), 0 artifact file(s) and 1 other file(s)"
            ],
            "text/plain": [
              "<IPython.core.display.HTML object>"
            ]
          },
          "metadata": {
            "tags": []
          }
        },
        {
          "output_type": "display_data",
          "data": {
            "text/html": [
              "\n",
              "                    <br/>Synced <strong style=\"color:#cdcd00\">lunar-sweep-14</strong>: <a href=\"https://wandb.ai/theindianwriter/CS6910-Assignment3/runs/jyftb5ov\" target=\"_blank\">https://wandb.ai/theindianwriter/CS6910-Assignment3/runs/jyftb5ov</a><br/>\n",
              "                "
            ],
            "text/plain": [
              "<IPython.core.display.HTML object>"
            ]
          },
          "metadata": {
            "tags": []
          }
        },
        {
          "output_type": "stream",
          "text": [
            "\u001b[34m\u001b[1mwandb\u001b[0m: Agent Starting Run: g1hdzkl4 with config:\n",
            "\u001b[34m\u001b[1mwandb\u001b[0m: \tbatch_size: 64\n",
            "\u001b[34m\u001b[1mwandb\u001b[0m: \tcell_type: GRU\n",
            "\u001b[34m\u001b[1mwandb\u001b[0m: \tdrop_out_ratio: 0.4\n",
            "\u001b[34m\u001b[1mwandb\u001b[0m: \tembedding_size: 64\n",
            "\u001b[34m\u001b[1mwandb\u001b[0m: \tepochs: 25\n",
            "\u001b[34m\u001b[1mwandb\u001b[0m: \thidden_layer_size: 128\n",
            "\u001b[34m\u001b[1mwandb\u001b[0m: \tnum_decoder_layers: 1\n",
            "\u001b[34m\u001b[1mwandb\u001b[0m: \tnum_encoder_layers: 2\n",
            "\u001b[34m\u001b[1mwandb\u001b[0m: \toptimizer: rmsprop\n",
            "\u001b[34m\u001b[1mwandb\u001b[0m: \u001b[33mWARNING\u001b[0m Ignored wandb.init() arg project when running a sweep\n"
          ],
          "name": "stderr"
        },
        {
          "output_type": "display_data",
          "data": {
            "text/html": [
              "\n",
              "                Tracking run with wandb version 0.10.30<br/>\n",
              "                Syncing run <strong style=\"color:#cdcd00\">bumbling-sweep-15</strong> to <a href=\"https://wandb.ai\" target=\"_blank\">Weights & Biases</a> <a href=\"https://docs.wandb.com/integrations/jupyter.html\" target=\"_blank\">(Documentation)</a>.<br/>\n",
              "                Project page: <a href=\"https://wandb.ai/theindianwriter/CS6910-Assignment3\" target=\"_blank\">https://wandb.ai/theindianwriter/CS6910-Assignment3</a><br/>\n",
              "                Sweep page: <a href=\"https://wandb.ai/theindianwriter/CS6910-Assignment3/sweeps/nk5cbn8i\" target=\"_blank\">https://wandb.ai/theindianwriter/CS6910-Assignment3/sweeps/nk5cbn8i</a><br/>\n",
              "Run page: <a href=\"https://wandb.ai/theindianwriter/CS6910-Assignment3/runs/g1hdzkl4\" target=\"_blank\">https://wandb.ai/theindianwriter/CS6910-Assignment3/runs/g1hdzkl4</a><br/>\n",
              "                Run data is saved locally in <code>/content/wandb/run-20210522_161856-g1hdzkl4</code><br/><br/>\n",
              "            "
            ],
            "text/plain": [
              "<IPython.core.display.HTML object>"
            ]
          },
          "metadata": {
            "tags": []
          }
        },
        {
          "output_type": "stream",
          "text": [
            "Epoch 1/25\n",
            "622/622 [==============================] - 16s 18ms/step - loss: 1.2296 - accuracy: 0.7338 - val_loss: 0.8964 - val_accuracy: 0.7744\n",
            "Epoch 2/25\n",
            "622/622 [==============================] - 9s 15ms/step - loss: 0.8481 - accuracy: 0.7805 - val_loss: 0.8369 - val_accuracy: 0.7857\n",
            "Epoch 3/25\n",
            "622/622 [==============================] - 9s 15ms/step - loss: 0.7726 - accuracy: 0.7959 - val_loss: 0.7899 - val_accuracy: 0.7946\n",
            "Epoch 4/25\n",
            "622/622 [==============================] - 10s 15ms/step - loss: 0.6848 - accuracy: 0.8158 - val_loss: 0.7356 - val_accuracy: 0.8142\n",
            "Epoch 5/25\n",
            "622/622 [==============================] - 9s 15ms/step - loss: 0.6139 - accuracy: 0.8328 - val_loss: 0.6938 - val_accuracy: 0.8216\n",
            "Epoch 6/25\n",
            "622/622 [==============================] - 10s 15ms/step - loss: 0.5618 - accuracy: 0.8446 - val_loss: 0.6936 - val_accuracy: 0.8255\n",
            "Epoch 7/25\n",
            "622/622 [==============================] - 9s 15ms/step - loss: 0.5153 - accuracy: 0.8562 - val_loss: 0.5766 - val_accuracy: 0.8556\n",
            "Epoch 8/25\n",
            "622/622 [==============================] - 10s 15ms/step - loss: 0.4711 - accuracy: 0.8675 - val_loss: 0.5596 - val_accuracy: 0.8635\n",
            "Epoch 9/25\n",
            "622/622 [==============================] - 10s 15ms/step - loss: 0.4364 - accuracy: 0.8770 - val_loss: 0.5388 - val_accuracy: 0.8592\n",
            "Epoch 10/25\n",
            "622/622 [==============================] - 10s 15ms/step - loss: 0.4055 - accuracy: 0.8843 - val_loss: 0.4743 - val_accuracy: 0.8700\n",
            "Epoch 11/25\n",
            "622/622 [==============================] - 9s 15ms/step - loss: 0.3820 - accuracy: 0.8912 - val_loss: 0.4894 - val_accuracy: 0.8762\n",
            "Epoch 12/25\n",
            "622/622 [==============================] - 10s 15ms/step - loss: 0.3582 - accuracy: 0.8981 - val_loss: 0.4791 - val_accuracy: 0.8838\n",
            "Epoch 13/25\n",
            "622/622 [==============================] - 10s 16ms/step - loss: 0.3420 - accuracy: 0.9024 - val_loss: 0.4250 - val_accuracy: 0.8845\n",
            "Epoch 14/25\n",
            "622/622 [==============================] - 10s 16ms/step - loss: 0.3273 - accuracy: 0.9061 - val_loss: 0.4291 - val_accuracy: 0.8885\n",
            "Epoch 15/25\n",
            "622/622 [==============================] - 9s 15ms/step - loss: 0.3127 - accuracy: 0.9096 - val_loss: 0.4578 - val_accuracy: 0.8894\n",
            "Epoch 16/25\n",
            "622/622 [==============================] - 10s 15ms/step - loss: 0.3042 - accuracy: 0.9124 - val_loss: 0.4549 - val_accuracy: 0.8892\n",
            "Epoch 17/25\n",
            "622/622 [==============================] - 9s 15ms/step - loss: 0.2943 - accuracy: 0.9145 - val_loss: 0.4488 - val_accuracy: 0.8847\n",
            "Epoch 18/25\n",
            "622/622 [==============================] - 10s 16ms/step - loss: 0.2867 - accuracy: 0.9169 - val_loss: 0.4132 - val_accuracy: 0.8953\n",
            "Epoch 19/25\n",
            "622/622 [==============================] - 9s 15ms/step - loss: 0.2784 - accuracy: 0.9193 - val_loss: 0.4365 - val_accuracy: 0.8883\n",
            "Epoch 20/25\n",
            "622/622 [==============================] - 9s 15ms/step - loss: 0.2735 - accuracy: 0.9204 - val_loss: 0.4198 - val_accuracy: 0.8939\n",
            "Epoch 21/25\n",
            "622/622 [==============================] - 10s 15ms/step - loss: 0.2682 - accuracy: 0.9217 - val_loss: 0.4185 - val_accuracy: 0.8951\n",
            "Epoch 22/25\n",
            "622/622 [==============================] - 10s 15ms/step - loss: 0.2650 - accuracy: 0.9227 - val_loss: 0.4471 - val_accuracy: 0.8881\n",
            "Epoch 23/25\n",
            "622/622 [==============================] - 10s 15ms/step - loss: 0.2577 - accuracy: 0.9250 - val_loss: 0.4161 - val_accuracy: 0.8965\n",
            "Epoch 24/25\n",
            "622/622 [==============================] - 9s 15ms/step - loss: 0.2554 - accuracy: 0.9250 - val_loss: 0.4293 - val_accuracy: 0.8914\n",
            "Epoch 25/25\n",
            "622/622 [==============================] - 10s 15ms/step - loss: 0.2510 - accuracy: 0.9260 - val_loss: 0.4278 - val_accuracy: 0.8950\n"
          ],
          "name": "stdout"
        },
        {
          "output_type": "display_data",
          "data": {
            "text/html": [
              "<br/>Waiting for W&B process to finish, PID 97279<br/>Program ended successfully."
            ],
            "text/plain": [
              "<IPython.core.display.HTML object>"
            ]
          },
          "metadata": {
            "tags": []
          }
        },
        {
          "output_type": "display_data",
          "data": {
            "application/vnd.jupyter.widget-view+json": {
              "model_id": "a9556d97090645479fd74c397784357e",
              "version_minor": 0,
              "version_major": 2
            },
            "text/plain": [
              "VBox(children=(Label(value=' 2.29MB of 2.29MB uploaded (0.00MB deduped)\\r'), FloatProgress(value=1.0, max=1.0)…"
            ]
          },
          "metadata": {
            "tags": []
          }
        },
        {
          "output_type": "display_data",
          "data": {
            "text/html": [
              "Find user logs for this run at: <code>/content/wandb/run-20210522_161856-g1hdzkl4/logs/debug.log</code>"
            ],
            "text/plain": [
              "<IPython.core.display.HTML object>"
            ]
          },
          "metadata": {
            "tags": []
          }
        },
        {
          "output_type": "display_data",
          "data": {
            "text/html": [
              "Find internal logs for this run at: <code>/content/wandb/run-20210522_161856-g1hdzkl4/logs/debug-internal.log</code>"
            ],
            "text/plain": [
              "<IPython.core.display.HTML object>"
            ]
          },
          "metadata": {
            "tags": []
          }
        },
        {
          "output_type": "display_data",
          "data": {
            "text/html": [
              "<h3>Run summary:</h3><br/><style>\n",
              "    table.wandb td:nth-child(1) { padding: 0 10px; text-align: right }\n",
              "    </style><table class=\"wandb\">\n",
              "<tr><td>epoch</td><td>24</td></tr><tr><td>loss</td><td>0.25129</td></tr><tr><td>accuracy</td><td>0.92599</td></tr><tr><td>val_loss</td><td>0.42779</td></tr><tr><td>val_accuracy</td><td>0.89498</td></tr><tr><td>_runtime</td><td>280</td></tr><tr><td>_timestamp</td><td>1621700616</td></tr><tr><td>_step</td><td>25</td></tr><tr><td>best_val_loss</td><td>0.41316</td></tr><tr><td>best_epoch</td><td>17</td></tr><tr><td>word_acc</td><td>31.0</td></tr></table>"
            ],
            "text/plain": [
              "<IPython.core.display.HTML object>"
            ]
          },
          "metadata": {
            "tags": []
          }
        },
        {
          "output_type": "display_data",
          "data": {
            "text/html": [
              "<h3>Run history:</h3><br/><style>\n",
              "    table.wandb td:nth-child(1) { padding: 0 10px; text-align: right }\n",
              "    </style><table class=\"wandb\">\n",
              "<tr><td>epoch</td><td>▁▁▂▂▂▂▃▃▃▄▄▄▅▅▅▅▆▆▆▇▇▇▇██</td></tr><tr><td>loss</td><td>█▆▆▅▄▄▃▃▃▂▂▂▂▂▂▁▁▁▁▁▁▁▁▁▁</td></tr><tr><td>accuracy</td><td>▁▂▃▄▄▅▅▆▆▆▇▇▇▇▇▇█████████</td></tr><tr><td>val_loss</td><td>█▇▆▆▅▅▃▃▃▂▂▂▁▁▂▂▂▁▁▁▁▁▁▁▁</td></tr><tr><td>val_accuracy</td><td>▁▂▂▃▄▄▆▆▆▆▇▇▇███▇████████</td></tr><tr><td>_runtime</td><td>▁▁▂▂▂▂▃▃▃▃▄▄▄▄▅▅▅▅▆▆▆▆▇▇▇█</td></tr><tr><td>_timestamp</td><td>▁▁▂▂▂▂▃▃▃▃▄▄▄▄▅▅▅▅▆▆▆▆▇▇▇█</td></tr><tr><td>_step</td><td>▁▁▂▂▂▂▃▃▃▄▄▄▄▅▅▅▅▆▆▆▇▇▇▇██</td></tr><tr><td>word_acc</td><td>▁</td></tr></table><br/>"
            ],
            "text/plain": [
              "<IPython.core.display.HTML object>"
            ]
          },
          "metadata": {
            "tags": []
          }
        },
        {
          "output_type": "display_data",
          "data": {
            "text/html": [
              "Synced 5 W&B file(s), 1 media file(s), 0 artifact file(s) and 1 other file(s)"
            ],
            "text/plain": [
              "<IPython.core.display.HTML object>"
            ]
          },
          "metadata": {
            "tags": []
          }
        },
        {
          "output_type": "display_data",
          "data": {
            "text/html": [
              "\n",
              "                    <br/>Synced <strong style=\"color:#cdcd00\">bumbling-sweep-15</strong>: <a href=\"https://wandb.ai/theindianwriter/CS6910-Assignment3/runs/g1hdzkl4\" target=\"_blank\">https://wandb.ai/theindianwriter/CS6910-Assignment3/runs/g1hdzkl4</a><br/>\n",
              "                "
            ],
            "text/plain": [
              "<IPython.core.display.HTML object>"
            ]
          },
          "metadata": {
            "tags": []
          }
        },
        {
          "output_type": "stream",
          "text": [
            "\u001b[34m\u001b[1mwandb\u001b[0m: Agent Starting Run: t2ap0p9t with config:\n",
            "\u001b[34m\u001b[1mwandb\u001b[0m: \tbatch_size: 64\n",
            "\u001b[34m\u001b[1mwandb\u001b[0m: \tcell_type: GRU\n",
            "\u001b[34m\u001b[1mwandb\u001b[0m: \tdrop_out_ratio: 0.2\n",
            "\u001b[34m\u001b[1mwandb\u001b[0m: \tembedding_size: 64\n",
            "\u001b[34m\u001b[1mwandb\u001b[0m: \tepochs: 25\n",
            "\u001b[34m\u001b[1mwandb\u001b[0m: \thidden_layer_size: 128\n",
            "\u001b[34m\u001b[1mwandb\u001b[0m: \tnum_decoder_layers: 1\n",
            "\u001b[34m\u001b[1mwandb\u001b[0m: \tnum_encoder_layers: 2\n",
            "\u001b[34m\u001b[1mwandb\u001b[0m: \toptimizer: rmsprop\n",
            "\u001b[34m\u001b[1mwandb\u001b[0m: \u001b[33mWARNING\u001b[0m Ignored wandb.init() arg project when running a sweep\n"
          ],
          "name": "stderr"
        },
        {
          "output_type": "display_data",
          "data": {
            "text/html": [
              "\n",
              "                Tracking run with wandb version 0.10.30<br/>\n",
              "                Syncing run <strong style=\"color:#cdcd00\">electric-sweep-16</strong> to <a href=\"https://wandb.ai\" target=\"_blank\">Weights & Biases</a> <a href=\"https://docs.wandb.com/integrations/jupyter.html\" target=\"_blank\">(Documentation)</a>.<br/>\n",
              "                Project page: <a href=\"https://wandb.ai/theindianwriter/CS6910-Assignment3\" target=\"_blank\">https://wandb.ai/theindianwriter/CS6910-Assignment3</a><br/>\n",
              "                Sweep page: <a href=\"https://wandb.ai/theindianwriter/CS6910-Assignment3/sweeps/nk5cbn8i\" target=\"_blank\">https://wandb.ai/theindianwriter/CS6910-Assignment3/sweeps/nk5cbn8i</a><br/>\n",
              "Run page: <a href=\"https://wandb.ai/theindianwriter/CS6910-Assignment3/runs/t2ap0p9t\" target=\"_blank\">https://wandb.ai/theindianwriter/CS6910-Assignment3/runs/t2ap0p9t</a><br/>\n",
              "                Run data is saved locally in <code>/content/wandb/run-20210522_162345-t2ap0p9t</code><br/><br/>\n",
              "            "
            ],
            "text/plain": [
              "<IPython.core.display.HTML object>"
            ]
          },
          "metadata": {
            "tags": []
          }
        },
        {
          "output_type": "stream",
          "text": [
            "Epoch 1/25\n",
            "622/622 [==============================] - 15s 17ms/step - loss: 1.2223 - accuracy: 0.7382 - val_loss: 0.8663 - val_accuracy: 0.7786\n",
            "Epoch 2/25\n",
            "622/622 [==============================] - 10s 16ms/step - loss: 0.8116 - accuracy: 0.7890 - val_loss: 0.8241 - val_accuracy: 0.7848\n",
            "Epoch 3/25\n",
            "622/622 [==============================] - 10s 15ms/step - loss: 0.7425 - accuracy: 0.8027 - val_loss: 0.7801 - val_accuracy: 0.7874\n",
            "Epoch 4/25\n",
            "622/622 [==============================] - 9s 15ms/step - loss: 0.6826 - accuracy: 0.8164 - val_loss: 0.7571 - val_accuracy: 0.7986\n",
            "Epoch 5/25\n",
            "622/622 [==============================] - 10s 16ms/step - loss: 0.6125 - accuracy: 0.8341 - val_loss: 0.6865 - val_accuracy: 0.8148\n",
            "Epoch 6/25\n",
            "622/622 [==============================] - 9s 15ms/step - loss: 0.5539 - accuracy: 0.8463 - val_loss: 0.6355 - val_accuracy: 0.8335\n",
            "Epoch 7/25\n",
            "622/622 [==============================] - 9s 15ms/step - loss: 0.5005 - accuracy: 0.8600 - val_loss: 0.5780 - val_accuracy: 0.8470\n",
            "Epoch 8/25\n",
            "622/622 [==============================] - 9s 15ms/step - loss: 0.4558 - accuracy: 0.8732 - val_loss: 0.5374 - val_accuracy: 0.8576\n",
            "Epoch 9/25\n",
            "622/622 [==============================] - 10s 15ms/step - loss: 0.4177 - accuracy: 0.8836 - val_loss: 0.6601 - val_accuracy: 0.8424\n",
            "Epoch 10/25\n",
            "622/622 [==============================] - 9s 15ms/step - loss: 0.3838 - accuracy: 0.8927 - val_loss: 0.4920 - val_accuracy: 0.8731\n",
            "Epoch 11/25\n",
            "622/622 [==============================] - 9s 15ms/step - loss: 0.3571 - accuracy: 0.9001 - val_loss: 0.4881 - val_accuracy: 0.8785\n",
            "Epoch 12/25\n",
            "622/622 [==============================] - 9s 15ms/step - loss: 0.3358 - accuracy: 0.9060 - val_loss: 0.4951 - val_accuracy: 0.8771\n",
            "Epoch 13/25\n",
            "622/622 [==============================] - 9s 15ms/step - loss: 0.3164 - accuracy: 0.9113 - val_loss: 0.4867 - val_accuracy: 0.8816\n",
            "Epoch 14/25\n",
            "622/622 [==============================] - 9s 15ms/step - loss: 0.3021 - accuracy: 0.9149 - val_loss: 0.4704 - val_accuracy: 0.8870\n",
            "Epoch 15/25\n",
            "622/622 [==============================] - 9s 15ms/step - loss: 0.2872 - accuracy: 0.9187 - val_loss: 0.4642 - val_accuracy: 0.8908\n",
            "Epoch 16/25\n",
            "622/622 [==============================] - 9s 15ms/step - loss: 0.2790 - accuracy: 0.9212 - val_loss: 0.4454 - val_accuracy: 0.8868\n",
            "Epoch 17/25\n",
            "622/622 [==============================] - 9s 15ms/step - loss: 0.2669 - accuracy: 0.9244 - val_loss: 0.4536 - val_accuracy: 0.8914\n",
            "Epoch 18/25\n",
            "622/622 [==============================] - 9s 15ms/step - loss: 0.2595 - accuracy: 0.9263 - val_loss: 0.4307 - val_accuracy: 0.8908\n",
            "Epoch 19/25\n",
            "622/622 [==============================] - 9s 15ms/step - loss: 0.2522 - accuracy: 0.9284 - val_loss: 0.4781 - val_accuracy: 0.8846\n",
            "Epoch 20/25\n",
            "622/622 [==============================] - 9s 15ms/step - loss: 0.2437 - accuracy: 0.9307 - val_loss: 0.4424 - val_accuracy: 0.8894\n",
            "Epoch 21/25\n",
            "622/622 [==============================] - 9s 15ms/step - loss: 0.2359 - accuracy: 0.9325 - val_loss: 0.4457 - val_accuracy: 0.8895\n",
            "Epoch 22/25\n",
            "622/622 [==============================] - 9s 15ms/step - loss: 0.2304 - accuracy: 0.9341 - val_loss: 0.4527 - val_accuracy: 0.8943\n",
            "Epoch 23/25\n",
            "622/622 [==============================] - 9s 15ms/step - loss: 0.2256 - accuracy: 0.9354 - val_loss: 0.4604 - val_accuracy: 0.8895\n",
            "Epoch 24/25\n",
            "622/622 [==============================] - 9s 15ms/step - loss: 0.2213 - accuracy: 0.9369 - val_loss: 0.4502 - val_accuracy: 0.8920\n",
            "Epoch 25/25\n",
            "622/622 [==============================] - 9s 15ms/step - loss: 0.2168 - accuracy: 0.9381 - val_loss: 0.4250 - val_accuracy: 0.8954\n"
          ],
          "name": "stdout"
        },
        {
          "output_type": "display_data",
          "data": {
            "text/html": [
              "<br/>Waiting for W&B process to finish, PID 99808<br/>Program ended successfully."
            ],
            "text/plain": [
              "<IPython.core.display.HTML object>"
            ]
          },
          "metadata": {
            "tags": []
          }
        },
        {
          "output_type": "display_data",
          "data": {
            "application/vnd.jupyter.widget-view+json": {
              "model_id": "d501d8b36d264da3ac5669b1480d745e",
              "version_minor": 0,
              "version_major": 2
            },
            "text/plain": [
              "VBox(children=(Label(value=' 2.29MB of 2.29MB uploaded (0.00MB deduped)\\r'), FloatProgress(value=1.0, max=1.0)…"
            ]
          },
          "metadata": {
            "tags": []
          }
        },
        {
          "output_type": "display_data",
          "data": {
            "text/html": [
              "Find user logs for this run at: <code>/content/wandb/run-20210522_162345-t2ap0p9t/logs/debug.log</code>"
            ],
            "text/plain": [
              "<IPython.core.display.HTML object>"
            ]
          },
          "metadata": {
            "tags": []
          }
        },
        {
          "output_type": "display_data",
          "data": {
            "text/html": [
              "Find internal logs for this run at: <code>/content/wandb/run-20210522_162345-t2ap0p9t/logs/debug-internal.log</code>"
            ],
            "text/plain": [
              "<IPython.core.display.HTML object>"
            ]
          },
          "metadata": {
            "tags": []
          }
        },
        {
          "output_type": "display_data",
          "data": {
            "text/html": [
              "<h3>Run summary:</h3><br/><style>\n",
              "    table.wandb td:nth-child(1) { padding: 0 10px; text-align: right }\n",
              "    </style><table class=\"wandb\">\n",
              "<tr><td>epoch</td><td>24</td></tr><tr><td>loss</td><td>0.21736</td></tr><tr><td>accuracy</td><td>0.93748</td></tr><tr><td>val_loss</td><td>0.42495</td></tr><tr><td>val_accuracy</td><td>0.89535</td></tr><tr><td>_runtime</td><td>273</td></tr><tr><td>_timestamp</td><td>1621700898</td></tr><tr><td>_step</td><td>25</td></tr><tr><td>best_val_loss</td><td>0.42495</td></tr><tr><td>best_epoch</td><td>24</td></tr><tr><td>word_acc</td><td>24.0</td></tr></table>"
            ],
            "text/plain": [
              "<IPython.core.display.HTML object>"
            ]
          },
          "metadata": {
            "tags": []
          }
        },
        {
          "output_type": "display_data",
          "data": {
            "text/html": [
              "<h3>Run history:</h3><br/><style>\n",
              "    table.wandb td:nth-child(1) { padding: 0 10px; text-align: right }\n",
              "    </style><table class=\"wandb\">\n",
              "<tr><td>epoch</td><td>▁▁▂▂▂▂▃▃▃▄▄▄▅▅▅▅▆▆▆▇▇▇▇██</td></tr><tr><td>loss</td><td>█▆▆▅▄▄▄▃▃▂▂▂▂▂▂▂▁▁▁▁▁▁▁▁▁</td></tr><tr><td>accuracy</td><td>▁▂▃▃▄▄▅▆▆▆▇▇▇▇▇▇▇████████</td></tr><tr><td>val_loss</td><td>█▇▇▆▅▄▃▃▅▂▂▂▂▂▂▁▁▁▂▁▁▁▂▁▁</td></tr><tr><td>val_accuracy</td><td>▁▁▂▂▃▄▅▆▅▇▇▇▇██▇██▇██████</td></tr><tr><td>_runtime</td><td>▁▁▂▂▂▂▃▃▃▃▄▄▄▄▅▅▅▅▆▆▆▆▇▇▇█</td></tr><tr><td>_timestamp</td><td>▁▁▂▂▂▂▃▃▃▃▄▄▄▄▅▅▅▅▆▆▆▆▇▇▇█</td></tr><tr><td>_step</td><td>▁▁▂▂▂▂▃▃▃▄▄▄▄▅▅▅▅▆▆▆▇▇▇▇██</td></tr><tr><td>word_acc</td><td>▁</td></tr></table><br/>"
            ],
            "text/plain": [
              "<IPython.core.display.HTML object>"
            ]
          },
          "metadata": {
            "tags": []
          }
        },
        {
          "output_type": "display_data",
          "data": {
            "text/html": [
              "Synced 5 W&B file(s), 1 media file(s), 0 artifact file(s) and 1 other file(s)"
            ],
            "text/plain": [
              "<IPython.core.display.HTML object>"
            ]
          },
          "metadata": {
            "tags": []
          }
        },
        {
          "output_type": "display_data",
          "data": {
            "text/html": [
              "\n",
              "                    <br/>Synced <strong style=\"color:#cdcd00\">electric-sweep-16</strong>: <a href=\"https://wandb.ai/theindianwriter/CS6910-Assignment3/runs/t2ap0p9t\" target=\"_blank\">https://wandb.ai/theindianwriter/CS6910-Assignment3/runs/t2ap0p9t</a><br/>\n",
              "                "
            ],
            "text/plain": [
              "<IPython.core.display.HTML object>"
            ]
          },
          "metadata": {
            "tags": []
          }
        },
        {
          "output_type": "stream",
          "text": [
            "\u001b[34m\u001b[1mwandb\u001b[0m: Agent Starting Run: 8mv4sbtv with config:\n",
            "\u001b[34m\u001b[1mwandb\u001b[0m: \tbatch_size: 64\n",
            "\u001b[34m\u001b[1mwandb\u001b[0m: \tcell_type: LSTM\n",
            "\u001b[34m\u001b[1mwandb\u001b[0m: \tdrop_out_ratio: 0.4\n",
            "\u001b[34m\u001b[1mwandb\u001b[0m: \tembedding_size: 64\n",
            "\u001b[34m\u001b[1mwandb\u001b[0m: \tepochs: 25\n",
            "\u001b[34m\u001b[1mwandb\u001b[0m: \thidden_layer_size: 128\n",
            "\u001b[34m\u001b[1mwandb\u001b[0m: \tnum_decoder_layers: 1\n",
            "\u001b[34m\u001b[1mwandb\u001b[0m: \tnum_encoder_layers: 1\n",
            "\u001b[34m\u001b[1mwandb\u001b[0m: \toptimizer: rmsprop\n",
            "\u001b[34m\u001b[1mwandb\u001b[0m: \u001b[33mWARNING\u001b[0m Ignored wandb.init() arg project when running a sweep\n"
          ],
          "name": "stderr"
        },
        {
          "output_type": "display_data",
          "data": {
            "text/html": [
              "\n",
              "                Tracking run with wandb version 0.10.30<br/>\n",
              "                Syncing run <strong style=\"color:#cdcd00\">morning-sweep-17</strong> to <a href=\"https://wandb.ai\" target=\"_blank\">Weights & Biases</a> <a href=\"https://docs.wandb.com/integrations/jupyter.html\" target=\"_blank\">(Documentation)</a>.<br/>\n",
              "                Project page: <a href=\"https://wandb.ai/theindianwriter/CS6910-Assignment3\" target=\"_blank\">https://wandb.ai/theindianwriter/CS6910-Assignment3</a><br/>\n",
              "                Sweep page: <a href=\"https://wandb.ai/theindianwriter/CS6910-Assignment3/sweeps/nk5cbn8i\" target=\"_blank\">https://wandb.ai/theindianwriter/CS6910-Assignment3/sweeps/nk5cbn8i</a><br/>\n",
              "Run page: <a href=\"https://wandb.ai/theindianwriter/CS6910-Assignment3/runs/8mv4sbtv\" target=\"_blank\">https://wandb.ai/theindianwriter/CS6910-Assignment3/runs/8mv4sbtv</a><br/>\n",
              "                Run data is saved locally in <code>/content/wandb/run-20210522_162826-8mv4sbtv</code><br/><br/>\n",
              "            "
            ],
            "text/plain": [
              "<IPython.core.display.HTML object>"
            ]
          },
          "metadata": {
            "tags": []
          }
        },
        {
          "output_type": "stream",
          "text": [
            "Epoch 1/25\n",
            "622/622 [==============================] - 12s 14ms/step - loss: 1.2169 - accuracy: 0.7290 - val_loss: 0.9264 - val_accuracy: 0.7710\n",
            "Epoch 2/25\n",
            "622/622 [==============================] - 9s 14ms/step - loss: 0.8757 - accuracy: 0.7721 - val_loss: 0.8953 - val_accuracy: 0.7707\n",
            "Epoch 3/25\n",
            "622/622 [==============================] - 8s 14ms/step - loss: 0.8216 - accuracy: 0.7833 - val_loss: 0.8571 - val_accuracy: 0.7794\n",
            "Epoch 4/25\n",
            "622/622 [==============================] - 8s 13ms/step - loss: 0.7592 - accuracy: 0.7972 - val_loss: 0.8173 - val_accuracy: 0.7892\n",
            "Epoch 5/25\n",
            "622/622 [==============================] - 8s 13ms/step - loss: 0.6972 - accuracy: 0.8111 - val_loss: 0.8018 - val_accuracy: 0.8009\n",
            "Epoch 6/25\n",
            "622/622 [==============================] - 8s 13ms/step - loss: 0.6364 - accuracy: 0.8248 - val_loss: 0.7352 - val_accuracy: 0.8169\n",
            "Epoch 7/25\n",
            "622/622 [==============================] - 8s 13ms/step - loss: 0.5880 - accuracy: 0.8373 - val_loss: 0.7293 - val_accuracy: 0.8303\n",
            "Epoch 8/25\n",
            "622/622 [==============================] - 8s 13ms/step - loss: 0.5436 - accuracy: 0.8488 - val_loss: 0.7028 - val_accuracy: 0.8350\n",
            "Epoch 9/25\n",
            "622/622 [==============================] - 8s 13ms/step - loss: 0.5061 - accuracy: 0.8573 - val_loss: 0.6634 - val_accuracy: 0.8429\n",
            "Epoch 10/25\n",
            "622/622 [==============================] - 9s 14ms/step - loss: 0.4714 - accuracy: 0.8662 - val_loss: 0.6315 - val_accuracy: 0.8520\n",
            "Epoch 11/25\n",
            "622/622 [==============================] - 9s 14ms/step - loss: 0.4445 - accuracy: 0.8727 - val_loss: 0.6018 - val_accuracy: 0.8587\n",
            "Epoch 12/25\n",
            "622/622 [==============================] - 8s 14ms/step - loss: 0.4201 - accuracy: 0.8787 - val_loss: 0.6045 - val_accuracy: 0.8636\n",
            "Epoch 13/25\n",
            "622/622 [==============================] - 8s 13ms/step - loss: 0.3990 - accuracy: 0.8846 - val_loss: 0.5686 - val_accuracy: 0.8656\n",
            "Epoch 14/25\n",
            "622/622 [==============================] - 8s 14ms/step - loss: 0.3777 - accuracy: 0.8902 - val_loss: 0.5771 - val_accuracy: 0.8627\n",
            "Epoch 15/25\n",
            "622/622 [==============================] - 8s 13ms/step - loss: 0.3609 - accuracy: 0.8946 - val_loss: 0.5637 - val_accuracy: 0.8709\n",
            "Epoch 16/25\n",
            "622/622 [==============================] - 8s 13ms/step - loss: 0.3477 - accuracy: 0.8987 - val_loss: 0.5621 - val_accuracy: 0.8688\n",
            "Epoch 17/25\n",
            "622/622 [==============================] - 8s 13ms/step - loss: 0.3333 - accuracy: 0.9027 - val_loss: 0.5356 - val_accuracy: 0.8718\n",
            "Epoch 18/25\n",
            "622/622 [==============================] - 8s 13ms/step - loss: 0.3217 - accuracy: 0.9062 - val_loss: 0.5823 - val_accuracy: 0.8736\n",
            "Epoch 19/25\n",
            "622/622 [==============================] - 8s 13ms/step - loss: 0.3124 - accuracy: 0.9089 - val_loss: 0.4793 - val_accuracy: 0.8798\n",
            "Epoch 20/25\n",
            "622/622 [==============================] - 8s 13ms/step - loss: 0.3033 - accuracy: 0.9116 - val_loss: 0.5221 - val_accuracy: 0.8818\n",
            "Epoch 21/25\n",
            "622/622 [==============================] - 8s 13ms/step - loss: 0.2952 - accuracy: 0.9140 - val_loss: 0.5473 - val_accuracy: 0.8793\n",
            "Epoch 22/25\n",
            "622/622 [==============================] - 8s 13ms/step - loss: 0.2887 - accuracy: 0.9158 - val_loss: 0.5101 - val_accuracy: 0.8801\n",
            "Epoch 23/25\n",
            "622/622 [==============================] - 8s 14ms/step - loss: 0.2810 - accuracy: 0.9184 - val_loss: 0.5296 - val_accuracy: 0.8819\n",
            "Epoch 24/25\n",
            "622/622 [==============================] - 8s 13ms/step - loss: 0.2757 - accuracy: 0.9197 - val_loss: 0.5635 - val_accuracy: 0.8799\n",
            "Epoch 25/25\n",
            "622/622 [==============================] - 8s 13ms/step - loss: 0.2702 - accuracy: 0.9216 - val_loss: 0.5078 - val_accuracy: 0.8847\n"
          ],
          "name": "stdout"
        },
        {
          "output_type": "display_data",
          "data": {
            "text/html": [
              "<br/>Waiting for W&B process to finish, PID 102178<br/>Program ended successfully."
            ],
            "text/plain": [
              "<IPython.core.display.HTML object>"
            ]
          },
          "metadata": {
            "tags": []
          }
        },
        {
          "output_type": "display_data",
          "data": {
            "application/vnd.jupyter.widget-view+json": {
              "model_id": "148cc57d87b24aecb87647656a9fff24",
              "version_minor": 0,
              "version_major": 2
            },
            "text/plain": [
              "VBox(children=(Label(value=' 1.96MB of 1.96MB uploaded (0.00MB deduped)\\r'), FloatProgress(value=1.0, max=1.0)…"
            ]
          },
          "metadata": {
            "tags": []
          }
        },
        {
          "output_type": "display_data",
          "data": {
            "text/html": [
              "Find user logs for this run at: <code>/content/wandb/run-20210522_162826-8mv4sbtv/logs/debug.log</code>"
            ],
            "text/plain": [
              "<IPython.core.display.HTML object>"
            ]
          },
          "metadata": {
            "tags": []
          }
        },
        {
          "output_type": "display_data",
          "data": {
            "text/html": [
              "Find internal logs for this run at: <code>/content/wandb/run-20210522_162826-8mv4sbtv/logs/debug-internal.log</code>"
            ],
            "text/plain": [
              "<IPython.core.display.HTML object>"
            ]
          },
          "metadata": {
            "tags": []
          }
        },
        {
          "output_type": "display_data",
          "data": {
            "text/html": [
              "<h3>Run summary:</h3><br/><style>\n",
              "    table.wandb td:nth-child(1) { padding: 0 10px; text-align: right }\n",
              "    </style><table class=\"wandb\">\n",
              "<tr><td>epoch</td><td>24</td></tr><tr><td>loss</td><td>0.26986</td></tr><tr><td>accuracy</td><td>0.92157</td></tr><tr><td>val_loss</td><td>0.50784</td></tr><tr><td>val_accuracy</td><td>0.88468</td></tr><tr><td>_runtime</td><td>251</td></tr><tr><td>_timestamp</td><td>1621701157</td></tr><tr><td>_step</td><td>25</td></tr><tr><td>best_val_loss</td><td>0.4793</td></tr><tr><td>best_epoch</td><td>18</td></tr><tr><td>word_acc</td><td>22.0</td></tr></table>"
            ],
            "text/plain": [
              "<IPython.core.display.HTML object>"
            ]
          },
          "metadata": {
            "tags": []
          }
        },
        {
          "output_type": "display_data",
          "data": {
            "text/html": [
              "<h3>Run history:</h3><br/><style>\n",
              "    table.wandb td:nth-child(1) { padding: 0 10px; text-align: right }\n",
              "    </style><table class=\"wandb\">\n",
              "<tr><td>epoch</td><td>▁▁▂▂▂▂▃▃▃▄▄▄▅▅▅▅▆▆▆▇▇▇▇██</td></tr><tr><td>loss</td><td>█▆▆▅▅▄▄▃▃▃▃▂▂▂▂▂▂▁▁▁▁▁▁▁▁</td></tr><tr><td>accuracy</td><td>▁▂▃▃▄▄▅▅▆▆▆▆▇▇▇▇▇▇▇██████</td></tr><tr><td>val_loss</td><td>██▇▆▆▅▅▄▄▃▃▃▂▃▂▂▂▃▁▂▂▁▂▂▁</td></tr><tr><td>val_accuracy</td><td>▁▁▂▂▃▄▅▅▅▆▆▇▇▇▇▇▇▇███████</td></tr><tr><td>_runtime</td><td>▁▁▂▂▂▂▂▃▃▃▄▄▄▄▅▅▅▅▅▆▆▆▆▇▇█</td></tr><tr><td>_timestamp</td><td>▁▁▂▂▂▂▂▃▃▃▄▄▄▄▅▅▅▅▅▆▆▆▆▇▇█</td></tr><tr><td>_step</td><td>▁▁▂▂▂▂▃▃▃▄▄▄▄▅▅▅▅▆▆▆▇▇▇▇██</td></tr><tr><td>word_acc</td><td>▁</td></tr></table><br/>"
            ],
            "text/plain": [
              "<IPython.core.display.HTML object>"
            ]
          },
          "metadata": {
            "tags": []
          }
        },
        {
          "output_type": "display_data",
          "data": {
            "text/html": [
              "Synced 5 W&B file(s), 1 media file(s), 0 artifact file(s) and 1 other file(s)"
            ],
            "text/plain": [
              "<IPython.core.display.HTML object>"
            ]
          },
          "metadata": {
            "tags": []
          }
        },
        {
          "output_type": "display_data",
          "data": {
            "text/html": [
              "\n",
              "                    <br/>Synced <strong style=\"color:#cdcd00\">morning-sweep-17</strong>: <a href=\"https://wandb.ai/theindianwriter/CS6910-Assignment3/runs/8mv4sbtv\" target=\"_blank\">https://wandb.ai/theindianwriter/CS6910-Assignment3/runs/8mv4sbtv</a><br/>\n",
              "                "
            ],
            "text/plain": [
              "<IPython.core.display.HTML object>"
            ]
          },
          "metadata": {
            "tags": []
          }
        },
        {
          "output_type": "stream",
          "text": [
            "\u001b[34m\u001b[1mwandb\u001b[0m: Agent Starting Run: g0xqbmcy with config:\n",
            "\u001b[34m\u001b[1mwandb\u001b[0m: \tbatch_size: 64\n",
            "\u001b[34m\u001b[1mwandb\u001b[0m: \tcell_type: GRU\n",
            "\u001b[34m\u001b[1mwandb\u001b[0m: \tdrop_out_ratio: 0.4\n",
            "\u001b[34m\u001b[1mwandb\u001b[0m: \tembedding_size: 64\n",
            "\u001b[34m\u001b[1mwandb\u001b[0m: \tepochs: 25\n",
            "\u001b[34m\u001b[1mwandb\u001b[0m: \thidden_layer_size: 128\n",
            "\u001b[34m\u001b[1mwandb\u001b[0m: \tnum_decoder_layers: 1\n",
            "\u001b[34m\u001b[1mwandb\u001b[0m: \tnum_encoder_layers: 3\n",
            "\u001b[34m\u001b[1mwandb\u001b[0m: \toptimizer: rmsprop\n",
            "\u001b[34m\u001b[1mwandb\u001b[0m: \u001b[33mWARNING\u001b[0m Ignored wandb.init() arg project when running a sweep\n"
          ],
          "name": "stderr"
        },
        {
          "output_type": "display_data",
          "data": {
            "text/html": [
              "\n",
              "                Tracking run with wandb version 0.10.30<br/>\n",
              "                Syncing run <strong style=\"color:#cdcd00\">stoic-sweep-18</strong> to <a href=\"https://wandb.ai\" target=\"_blank\">Weights & Biases</a> <a href=\"https://docs.wandb.com/integrations/jupyter.html\" target=\"_blank\">(Documentation)</a>.<br/>\n",
              "                Project page: <a href=\"https://wandb.ai/theindianwriter/CS6910-Assignment3\" target=\"_blank\">https://wandb.ai/theindianwriter/CS6910-Assignment3</a><br/>\n",
              "                Sweep page: <a href=\"https://wandb.ai/theindianwriter/CS6910-Assignment3/sweeps/nk5cbn8i\" target=\"_blank\">https://wandb.ai/theindianwriter/CS6910-Assignment3/sweeps/nk5cbn8i</a><br/>\n",
              "Run page: <a href=\"https://wandb.ai/theindianwriter/CS6910-Assignment3/runs/g0xqbmcy\" target=\"_blank\">https://wandb.ai/theindianwriter/CS6910-Assignment3/runs/g0xqbmcy</a><br/>\n",
              "                Run data is saved locally in <code>/content/wandb/run-20210522_163245-g0xqbmcy</code><br/><br/>\n",
              "            "
            ],
            "text/plain": [
              "<IPython.core.display.HTML object>"
            ]
          },
          "metadata": {
            "tags": []
          }
        },
        {
          "output_type": "stream",
          "text": [
            "Epoch 1/25\n",
            "622/622 [==============================] - 18s 20ms/step - loss: 1.2274 - accuracy: 0.7329 - val_loss: 0.8879 - val_accuracy: 0.7782\n",
            "Epoch 2/25\n",
            "622/622 [==============================] - 11s 18ms/step - loss: 0.8455 - accuracy: 0.7812 - val_loss: 0.8900 - val_accuracy: 0.7802\n",
            "Epoch 3/25\n",
            "622/622 [==============================] - 11s 18ms/step - loss: 0.7657 - accuracy: 0.7986 - val_loss: 0.8107 - val_accuracy: 0.7869\n",
            "Epoch 4/25\n",
            "622/622 [==============================] - 11s 18ms/step - loss: 0.7051 - accuracy: 0.8111 - val_loss: 0.7608 - val_accuracy: 0.8135\n",
            "Epoch 5/25\n",
            "622/622 [==============================] - 12s 19ms/step - loss: 0.6496 - accuracy: 0.8237 - val_loss: 0.7069 - val_accuracy: 0.8255\n",
            "Epoch 6/25\n",
            "622/622 [==============================] - 11s 18ms/step - loss: 0.6047 - accuracy: 0.8334 - val_loss: 0.6604 - val_accuracy: 0.8366\n",
            "Epoch 7/25\n",
            "622/622 [==============================] - 11s 18ms/step - loss: 0.5642 - accuracy: 0.8425 - val_loss: 0.6557 - val_accuracy: 0.8445\n",
            "Epoch 8/25\n",
            "622/622 [==============================] - 11s 18ms/step - loss: 0.5293 - accuracy: 0.8508 - val_loss: 0.6462 - val_accuracy: 0.8395\n",
            "Epoch 9/25\n",
            "622/622 [==============================] - 11s 18ms/step - loss: 0.4988 - accuracy: 0.8582 - val_loss: 0.6337 - val_accuracy: 0.8512\n",
            "Epoch 10/25\n",
            "622/622 [==============================] - 12s 19ms/step - loss: 0.4736 - accuracy: 0.8652 - val_loss: 0.5861 - val_accuracy: 0.8601\n",
            "Epoch 11/25\n",
            "622/622 [==============================] - 12s 19ms/step - loss: 0.4500 - accuracy: 0.8708 - val_loss: 0.5520 - val_accuracy: 0.8652\n",
            "Epoch 12/25\n",
            "622/622 [==============================] - 11s 18ms/step - loss: 0.4276 - accuracy: 0.8771 - val_loss: 0.5529 - val_accuracy: 0.8605\n",
            "Epoch 13/25\n",
            "622/622 [==============================] - 11s 18ms/step - loss: 0.4090 - accuracy: 0.8824 - val_loss: 0.5401 - val_accuracy: 0.8729\n",
            "Epoch 14/25\n",
            "622/622 [==============================] - 11s 18ms/step - loss: 0.3897 - accuracy: 0.8884 - val_loss: 0.5333 - val_accuracy: 0.8746\n",
            "Epoch 15/25\n",
            "622/622 [==============================] - 11s 18ms/step - loss: 0.3742 - accuracy: 0.8921 - val_loss: 0.5345 - val_accuracy: 0.8728\n",
            "Epoch 16/25\n",
            "622/622 [==============================] - 11s 18ms/step - loss: 0.3598 - accuracy: 0.8965 - val_loss: 0.5444 - val_accuracy: 0.8689\n",
            "Epoch 17/25\n",
            "622/622 [==============================] - 11s 18ms/step - loss: 0.3487 - accuracy: 0.8990 - val_loss: 0.5311 - val_accuracy: 0.8721\n",
            "Epoch 18/25\n",
            "622/622 [==============================] - 11s 18ms/step - loss: 0.3406 - accuracy: 0.9011 - val_loss: 0.4809 - val_accuracy: 0.8866\n",
            "Epoch 19/25\n",
            "622/622 [==============================] - 12s 19ms/step - loss: 0.3321 - accuracy: 0.9038 - val_loss: 0.4697 - val_accuracy: 0.8871\n",
            "Epoch 20/25\n",
            "622/622 [==============================] - 11s 18ms/step - loss: 0.3210 - accuracy: 0.9071 - val_loss: 0.4738 - val_accuracy: 0.8865\n",
            "Epoch 21/25\n",
            "622/622 [==============================] - 11s 18ms/step - loss: 0.3177 - accuracy: 0.9078 - val_loss: 0.4702 - val_accuracy: 0.8908\n",
            "Epoch 22/25\n",
            "622/622 [==============================] - 11s 18ms/step - loss: 0.3086 - accuracy: 0.9102 - val_loss: 0.4596 - val_accuracy: 0.8911\n",
            "Epoch 23/25\n",
            "622/622 [==============================] - 11s 18ms/step - loss: 0.3025 - accuracy: 0.9116 - val_loss: 0.5206 - val_accuracy: 0.8836\n",
            "Epoch 24/25\n",
            "622/622 [==============================] - 11s 18ms/step - loss: 0.2977 - accuracy: 0.9139 - val_loss: 0.4566 - val_accuracy: 0.8926\n",
            "Epoch 25/25\n",
            "622/622 [==============================] - 12s 19ms/step - loss: 0.2918 - accuracy: 0.9148 - val_loss: 0.4886 - val_accuracy: 0.8840\n"
          ],
          "name": "stdout"
        },
        {
          "output_type": "display_data",
          "data": {
            "text/html": [
              "<br/>Waiting for W&B process to finish, PID 104774<br/>Program ended successfully."
            ],
            "text/plain": [
              "<IPython.core.display.HTML object>"
            ]
          },
          "metadata": {
            "tags": []
          }
        },
        {
          "output_type": "display_data",
          "data": {
            "application/vnd.jupyter.widget-view+json": {
              "model_id": "11b9d889606e47c5ba31aed706f99e48",
              "version_minor": 0,
              "version_major": 2
            },
            "text/plain": [
              "VBox(children=(Label(value=' 3.05MB of 3.05MB uploaded (0.00MB deduped)\\r'), FloatProgress(value=1.0, max=1.0)…"
            ]
          },
          "metadata": {
            "tags": []
          }
        },
        {
          "output_type": "display_data",
          "data": {
            "text/html": [
              "Find user logs for this run at: <code>/content/wandb/run-20210522_163245-g0xqbmcy/logs/debug.log</code>"
            ],
            "text/plain": [
              "<IPython.core.display.HTML object>"
            ]
          },
          "metadata": {
            "tags": []
          }
        },
        {
          "output_type": "display_data",
          "data": {
            "text/html": [
              "Find internal logs for this run at: <code>/content/wandb/run-20210522_163245-g0xqbmcy/logs/debug-internal.log</code>"
            ],
            "text/plain": [
              "<IPython.core.display.HTML object>"
            ]
          },
          "metadata": {
            "tags": []
          }
        },
        {
          "output_type": "display_data",
          "data": {
            "text/html": [
              "<h3>Run summary:</h3><br/><style>\n",
              "    table.wandb td:nth-child(1) { padding: 0 10px; text-align: right }\n",
              "    </style><table class=\"wandb\">\n",
              "<tr><td>epoch</td><td>24</td></tr><tr><td>loss</td><td>0.29078</td></tr><tr><td>accuracy</td><td>0.9153</td></tr><tr><td>val_loss</td><td>0.48865</td></tr><tr><td>val_accuracy</td><td>0.88399</td></tr><tr><td>_runtime</td><td>324</td></tr><tr><td>_timestamp</td><td>1621701489</td></tr><tr><td>_step</td><td>25</td></tr><tr><td>best_val_loss</td><td>0.45659</td></tr><tr><td>best_epoch</td><td>23</td></tr><tr><td>word_acc</td><td>16.0</td></tr></table>"
            ],
            "text/plain": [
              "<IPython.core.display.HTML object>"
            ]
          },
          "metadata": {
            "tags": []
          }
        },
        {
          "output_type": "display_data",
          "data": {
            "text/html": [
              "<h3>Run history:</h3><br/><style>\n",
              "    table.wandb td:nth-child(1) { padding: 0 10px; text-align: right }\n",
              "    </style><table class=\"wandb\">\n",
              "<tr><td>epoch</td><td>▁▁▂▂▂▂▃▃▃▄▄▄▅▅▅▅▆▆▆▇▇▇▇██</td></tr><tr><td>loss</td><td>█▆▆▅▄▄▄▃▃▃▃▂▂▂▂▂▂▁▁▁▁▁▁▁▁</td></tr><tr><td>accuracy</td><td>▁▂▃▄▄▄▅▅▆▆▆▆▇▇▇▇▇▇███████</td></tr><tr><td>val_loss</td><td>██▇▆▅▄▄▄▄▃▃▃▂▂▂▂▂▁▁▁▁▁▂▁▂</td></tr><tr><td>val_accuracy</td><td>▁▁▂▃▄▅▅▅▅▆▆▆▇▇▇▇▇█████▇█▇</td></tr><tr><td>_runtime</td><td>▁▁▂▂▂▂▃▃▃▃▄▄▄▄▅▅▅▅▆▆▆▇▇▇▇█</td></tr><tr><td>_timestamp</td><td>▁▁▂▂▂▂▃▃▃▃▄▄▄▄▅▅▅▅▆▆▆▇▇▇▇█</td></tr><tr><td>_step</td><td>▁▁▂▂▂▂▃▃▃▄▄▄▄▅▅▅▅▆▆▆▇▇▇▇██</td></tr><tr><td>word_acc</td><td>▁</td></tr></table><br/>"
            ],
            "text/plain": [
              "<IPython.core.display.HTML object>"
            ]
          },
          "metadata": {
            "tags": []
          }
        },
        {
          "output_type": "display_data",
          "data": {
            "text/html": [
              "Synced 5 W&B file(s), 1 media file(s), 0 artifact file(s) and 1 other file(s)"
            ],
            "text/plain": [
              "<IPython.core.display.HTML object>"
            ]
          },
          "metadata": {
            "tags": []
          }
        },
        {
          "output_type": "display_data",
          "data": {
            "text/html": [
              "\n",
              "                    <br/>Synced <strong style=\"color:#cdcd00\">stoic-sweep-18</strong>: <a href=\"https://wandb.ai/theindianwriter/CS6910-Assignment3/runs/g0xqbmcy\" target=\"_blank\">https://wandb.ai/theindianwriter/CS6910-Assignment3/runs/g0xqbmcy</a><br/>\n",
              "                "
            ],
            "text/plain": [
              "<IPython.core.display.HTML object>"
            ]
          },
          "metadata": {
            "tags": []
          }
        },
        {
          "output_type": "stream",
          "text": [
            "\u001b[34m\u001b[1mwandb\u001b[0m: Agent Starting Run: lsjfbpkk with config:\n",
            "\u001b[34m\u001b[1mwandb\u001b[0m: \tbatch_size: 64\n",
            "\u001b[34m\u001b[1mwandb\u001b[0m: \tcell_type: GRU\n",
            "\u001b[34m\u001b[1mwandb\u001b[0m: \tdrop_out_ratio: 0.4\n",
            "\u001b[34m\u001b[1mwandb\u001b[0m: \tembedding_size: 64\n",
            "\u001b[34m\u001b[1mwandb\u001b[0m: \tepochs: 25\n",
            "\u001b[34m\u001b[1mwandb\u001b[0m: \thidden_layer_size: 128\n",
            "\u001b[34m\u001b[1mwandb\u001b[0m: \tnum_decoder_layers: 1\n",
            "\u001b[34m\u001b[1mwandb\u001b[0m: \tnum_encoder_layers: 3\n",
            "\u001b[34m\u001b[1mwandb\u001b[0m: \toptimizer: rmsprop\n",
            "\u001b[34m\u001b[1mwandb\u001b[0m: \u001b[33mWARNING\u001b[0m Ignored wandb.init() arg project when running a sweep\n"
          ],
          "name": "stderr"
        },
        {
          "output_type": "display_data",
          "data": {
            "text/html": [
              "\n",
              "                Tracking run with wandb version 0.10.30<br/>\n",
              "                Syncing run <strong style=\"color:#cdcd00\">scarlet-sweep-19</strong> to <a href=\"https://wandb.ai\" target=\"_blank\">Weights & Biases</a> <a href=\"https://docs.wandb.com/integrations/jupyter.html\" target=\"_blank\">(Documentation)</a>.<br/>\n",
              "                Project page: <a href=\"https://wandb.ai/theindianwriter/CS6910-Assignment3\" target=\"_blank\">https://wandb.ai/theindianwriter/CS6910-Assignment3</a><br/>\n",
              "                Sweep page: <a href=\"https://wandb.ai/theindianwriter/CS6910-Assignment3/sweeps/nk5cbn8i\" target=\"_blank\">https://wandb.ai/theindianwriter/CS6910-Assignment3/sweeps/nk5cbn8i</a><br/>\n",
              "Run page: <a href=\"https://wandb.ai/theindianwriter/CS6910-Assignment3/runs/lsjfbpkk\" target=\"_blank\">https://wandb.ai/theindianwriter/CS6910-Assignment3/runs/lsjfbpkk</a><br/>\n",
              "                Run data is saved locally in <code>/content/wandb/run-20210522_163818-lsjfbpkk</code><br/><br/>\n",
              "            "
            ],
            "text/plain": [
              "<IPython.core.display.HTML object>"
            ]
          },
          "metadata": {
            "tags": []
          }
        },
        {
          "output_type": "stream",
          "text": [
            "Epoch 1/25\n",
            "622/622 [==============================] - 19s 20ms/step - loss: 1.2252 - accuracy: 0.7359 - val_loss: 0.8794 - val_accuracy: 0.7758\n",
            "Epoch 2/25\n",
            "622/622 [==============================] - 11s 18ms/step - loss: 0.8401 - accuracy: 0.7816 - val_loss: 0.8067 - val_accuracy: 0.7866\n",
            "Epoch 3/25\n",
            "622/622 [==============================] - 11s 18ms/step - loss: 0.7603 - accuracy: 0.7985 - val_loss: 0.8133 - val_accuracy: 0.7905\n",
            "Epoch 4/25\n",
            "622/622 [==============================] - 11s 18ms/step - loss: 0.6823 - accuracy: 0.8164 - val_loss: 0.7098 - val_accuracy: 0.8056\n",
            "Epoch 5/25\n",
            "622/622 [==============================] - 11s 18ms/step - loss: 0.6274 - accuracy: 0.8287 - val_loss: 0.6791 - val_accuracy: 0.8173\n",
            "Epoch 6/25\n",
            "622/622 [==============================] - 11s 18ms/step - loss: 0.5750 - accuracy: 0.8404 - val_loss: 0.7052 - val_accuracy: 0.8290\n",
            "Epoch 7/25\n",
            "622/622 [==============================] - 12s 19ms/step - loss: 0.5333 - accuracy: 0.8504 - val_loss: 0.6037 - val_accuracy: 0.8341\n",
            "Epoch 8/25\n",
            "622/622 [==============================] - 11s 18ms/step - loss: 0.4911 - accuracy: 0.8606 - val_loss: 0.5775 - val_accuracy: 0.8528\n",
            "Epoch 9/25\n",
            "622/622 [==============================] - 11s 18ms/step - loss: 0.4556 - accuracy: 0.8703 - val_loss: 0.5557 - val_accuracy: 0.8620\n",
            "Epoch 10/25\n",
            "622/622 [==============================] - 11s 18ms/step - loss: 0.4269 - accuracy: 0.8775 - val_loss: 0.5399 - val_accuracy: 0.8653\n",
            "Epoch 11/25\n",
            "622/622 [==============================] - 11s 18ms/step - loss: 0.4044 - accuracy: 0.8837 - val_loss: 0.5134 - val_accuracy: 0.8580\n",
            "Epoch 12/25\n",
            "622/622 [==============================] - 11s 18ms/step - loss: 0.3830 - accuracy: 0.8898 - val_loss: 0.4909 - val_accuracy: 0.8761\n",
            "Epoch 13/25\n",
            "622/622 [==============================] - 12s 19ms/step - loss: 0.3636 - accuracy: 0.8947 - val_loss: 0.4556 - val_accuracy: 0.8788\n",
            "Epoch 14/25\n",
            "622/622 [==============================] - 12s 19ms/step - loss: 0.3492 - accuracy: 0.8990 - val_loss: 0.4650 - val_accuracy: 0.8758\n",
            "Epoch 15/25\n",
            "622/622 [==============================] - 11s 18ms/step - loss: 0.3374 - accuracy: 0.9023 - val_loss: 0.4394 - val_accuracy: 0.8851\n",
            "Epoch 16/25\n",
            "622/622 [==============================] - 11s 18ms/step - loss: 0.3236 - accuracy: 0.9063 - val_loss: 0.4746 - val_accuracy: 0.8835\n",
            "Epoch 17/25\n",
            "622/622 [==============================] - 11s 18ms/step - loss: 0.3127 - accuracy: 0.9095 - val_loss: 0.4697 - val_accuracy: 0.8876\n",
            "Epoch 18/25\n",
            "622/622 [==============================] - 11s 18ms/step - loss: 0.3051 - accuracy: 0.9115 - val_loss: 0.4366 - val_accuracy: 0.8855\n",
            "Epoch 19/25\n",
            "622/622 [==============================] - 11s 18ms/step - loss: 0.2954 - accuracy: 0.9140 - val_loss: 0.4295 - val_accuracy: 0.8918\n",
            "Epoch 20/25\n",
            "622/622 [==============================] - 11s 18ms/step - loss: 0.2920 - accuracy: 0.9146 - val_loss: 0.4498 - val_accuracy: 0.8901\n",
            "Epoch 21/25\n",
            "622/622 [==============================] - 11s 18ms/step - loss: 0.2857 - accuracy: 0.9167 - val_loss: 0.4662 - val_accuracy: 0.8825\n",
            "Epoch 22/25\n",
            "622/622 [==============================] - 12s 19ms/step - loss: 0.2770 - accuracy: 0.9193 - val_loss: 0.4025 - val_accuracy: 0.8927\n",
            "Epoch 23/25\n",
            "622/622 [==============================] - 12s 19ms/step - loss: 0.2732 - accuracy: 0.9199 - val_loss: 0.5025 - val_accuracy: 0.8879\n",
            "Epoch 24/25\n",
            "622/622 [==============================] - 11s 18ms/step - loss: 0.2703 - accuracy: 0.9212 - val_loss: 0.4396 - val_accuracy: 0.8907\n",
            "Epoch 25/25\n",
            "622/622 [==============================] - 11s 18ms/step - loss: 0.2652 - accuracy: 0.9230 - val_loss: 0.4523 - val_accuracy: 0.8869\n"
          ],
          "name": "stdout"
        },
        {
          "output_type": "display_data",
          "data": {
            "text/html": [
              "<br/>Waiting for W&B process to finish, PID 107112<br/>Program ended successfully."
            ],
            "text/plain": [
              "<IPython.core.display.HTML object>"
            ]
          },
          "metadata": {
            "tags": []
          }
        },
        {
          "output_type": "display_data",
          "data": {
            "application/vnd.jupyter.widget-view+json": {
              "model_id": "ca1c8a83ae52423c8d525692a6abe568",
              "version_minor": 0,
              "version_major": 2
            },
            "text/plain": [
              "VBox(children=(Label(value=' 3.05MB of 3.05MB uploaded (0.00MB deduped)\\r'), FloatProgress(value=1.0, max=1.0)…"
            ]
          },
          "metadata": {
            "tags": []
          }
        },
        {
          "output_type": "display_data",
          "data": {
            "text/html": [
              "Find user logs for this run at: <code>/content/wandb/run-20210522_163818-lsjfbpkk/logs/debug.log</code>"
            ],
            "text/plain": [
              "<IPython.core.display.HTML object>"
            ]
          },
          "metadata": {
            "tags": []
          }
        },
        {
          "output_type": "display_data",
          "data": {
            "text/html": [
              "Find internal logs for this run at: <code>/content/wandb/run-20210522_163818-lsjfbpkk/logs/debug-internal.log</code>"
            ],
            "text/plain": [
              "<IPython.core.display.HTML object>"
            ]
          },
          "metadata": {
            "tags": []
          }
        },
        {
          "output_type": "display_data",
          "data": {
            "text/html": [
              "<h3>Run summary:</h3><br/><style>\n",
              "    table.wandb td:nth-child(1) { padding: 0 10px; text-align: right }\n",
              "    </style><table class=\"wandb\">\n",
              "<tr><td>epoch</td><td>24</td></tr><tr><td>loss</td><td>0.26591</td></tr><tr><td>accuracy</td><td>0.92249</td></tr><tr><td>val_loss</td><td>0.45225</td></tr><tr><td>val_accuracy</td><td>0.88691</td></tr><tr><td>_runtime</td><td>324</td></tr><tr><td>_timestamp</td><td>1621701822</td></tr><tr><td>_step</td><td>25</td></tr><tr><td>best_val_loss</td><td>0.40246</td></tr><tr><td>best_epoch</td><td>21</td></tr><tr><td>word_acc</td><td>22.0</td></tr></table>"
            ],
            "text/plain": [
              "<IPython.core.display.HTML object>"
            ]
          },
          "metadata": {
            "tags": []
          }
        },
        {
          "output_type": "display_data",
          "data": {
            "text/html": [
              "<h3>Run history:</h3><br/><style>\n",
              "    table.wandb td:nth-child(1) { padding: 0 10px; text-align: right }\n",
              "    </style><table class=\"wandb\">\n",
              "<tr><td>epoch</td><td>▁▁▂▂▂▂▃▃▃▄▄▄▅▅▅▅▆▆▆▇▇▇▇██</td></tr><tr><td>loss</td><td>█▆▆▅▄▄▃▃▃▂▂▂▂▂▂▂▁▁▁▁▁▁▁▁▁</td></tr><tr><td>accuracy</td><td>▁▂▃▄▄▅▅▅▆▆▆▇▇▇▇▇▇████████</td></tr><tr><td>val_loss</td><td>█▇▇▆▅▅▄▄▃▃▃▂▂▂▂▂▂▂▁▂▂▁▂▂▂</td></tr><tr><td>val_accuracy</td><td>▁▂▂▃▃▄▄▆▆▆▆▇▇▇█▇████▇████</td></tr><tr><td>_runtime</td><td>▁▁▂▂▂▂▃▃▃▃▄▄▄▄▅▅▅▅▆▆▆▆▇▇▇█</td></tr><tr><td>_timestamp</td><td>▁▁▂▂▂▂▃▃▃▃▄▄▄▄▅▅▅▅▆▆▆▆▇▇▇█</td></tr><tr><td>_step</td><td>▁▁▂▂▂▂▃▃▃▄▄▄▄▅▅▅▅▆▆▆▇▇▇▇██</td></tr><tr><td>word_acc</td><td>▁</td></tr></table><br/>"
            ],
            "text/plain": [
              "<IPython.core.display.HTML object>"
            ]
          },
          "metadata": {
            "tags": []
          }
        },
        {
          "output_type": "display_data",
          "data": {
            "text/html": [
              "Synced 5 W&B file(s), 1 media file(s), 0 artifact file(s) and 1 other file(s)"
            ],
            "text/plain": [
              "<IPython.core.display.HTML object>"
            ]
          },
          "metadata": {
            "tags": []
          }
        },
        {
          "output_type": "display_data",
          "data": {
            "text/html": [
              "\n",
              "                    <br/>Synced <strong style=\"color:#cdcd00\">scarlet-sweep-19</strong>: <a href=\"https://wandb.ai/theindianwriter/CS6910-Assignment3/runs/lsjfbpkk\" target=\"_blank\">https://wandb.ai/theindianwriter/CS6910-Assignment3/runs/lsjfbpkk</a><br/>\n",
              "                "
            ],
            "text/plain": [
              "<IPython.core.display.HTML object>"
            ]
          },
          "metadata": {
            "tags": []
          }
        },
        {
          "output_type": "stream",
          "text": [
            "\u001b[34m\u001b[1mwandb\u001b[0m: Agent Starting Run: 03zctqzz with config:\n",
            "\u001b[34m\u001b[1mwandb\u001b[0m: \tbatch_size: 64\n",
            "\u001b[34m\u001b[1mwandb\u001b[0m: \tcell_type: LSTM\n",
            "\u001b[34m\u001b[1mwandb\u001b[0m: \tdrop_out_ratio: 0.4\n",
            "\u001b[34m\u001b[1mwandb\u001b[0m: \tembedding_size: 64\n",
            "\u001b[34m\u001b[1mwandb\u001b[0m: \tepochs: 25\n",
            "\u001b[34m\u001b[1mwandb\u001b[0m: \thidden_layer_size: 256\n",
            "\u001b[34m\u001b[1mwandb\u001b[0m: \tnum_decoder_layers: 1\n",
            "\u001b[34m\u001b[1mwandb\u001b[0m: \tnum_encoder_layers: 3\n",
            "\u001b[34m\u001b[1mwandb\u001b[0m: \toptimizer: rmsprop\n",
            "\u001b[34m\u001b[1mwandb\u001b[0m: \u001b[33mWARNING\u001b[0m Ignored wandb.init() arg project when running a sweep\n"
          ],
          "name": "stderr"
        },
        {
          "output_type": "display_data",
          "data": {
            "text/html": [
              "\n",
              "                Tracking run with wandb version 0.10.30<br/>\n",
              "                Syncing run <strong style=\"color:#cdcd00\">resilient-sweep-20</strong> to <a href=\"https://wandb.ai\" target=\"_blank\">Weights & Biases</a> <a href=\"https://docs.wandb.com/integrations/jupyter.html\" target=\"_blank\">(Documentation)</a>.<br/>\n",
              "                Project page: <a href=\"https://wandb.ai/theindianwriter/CS6910-Assignment3\" target=\"_blank\">https://wandb.ai/theindianwriter/CS6910-Assignment3</a><br/>\n",
              "                Sweep page: <a href=\"https://wandb.ai/theindianwriter/CS6910-Assignment3/sweeps/nk5cbn8i\" target=\"_blank\">https://wandb.ai/theindianwriter/CS6910-Assignment3/sweeps/nk5cbn8i</a><br/>\n",
              "Run page: <a href=\"https://wandb.ai/theindianwriter/CS6910-Assignment3/runs/03zctqzz\" target=\"_blank\">https://wandb.ai/theindianwriter/CS6910-Assignment3/runs/03zctqzz</a><br/>\n",
              "                Run data is saved locally in <code>/content/wandb/run-20210522_164350-03zctqzz</code><br/><br/>\n",
              "            "
            ],
            "text/plain": [
              "<IPython.core.display.HTML object>"
            ]
          },
          "metadata": {
            "tags": []
          }
        },
        {
          "output_type": "stream",
          "text": [
            "Epoch 1/25\n",
            "622/622 [==============================] - 20s 24ms/step - loss: 1.1520 - accuracy: 0.7323 - val_loss: 0.9603 - val_accuracy: 0.7622\n",
            "Epoch 2/25\n",
            "622/622 [==============================] - 12s 20ms/step - loss: 0.8757 - accuracy: 0.7712 - val_loss: 0.8315 - val_accuracy: 0.7804\n",
            "Epoch 3/25\n",
            "622/622 [==============================] - 13s 20ms/step - loss: 0.7690 - accuracy: 0.7939 - val_loss: 0.8181 - val_accuracy: 0.7889\n",
            "Epoch 4/25\n",
            "622/622 [==============================] - 12s 20ms/step - loss: 0.6923 - accuracy: 0.8120 - val_loss: 0.8465 - val_accuracy: 0.7951\n",
            "Epoch 5/25\n",
            "622/622 [==============================] - 13s 20ms/step - loss: 0.6266 - accuracy: 0.8291 - val_loss: 0.7897 - val_accuracy: 0.8170\n",
            "Epoch 6/25\n",
            "622/622 [==============================] - 12s 20ms/step - loss: 0.5668 - accuracy: 0.8433 - val_loss: 0.7256 - val_accuracy: 0.8194\n",
            "Epoch 7/25\n",
            "622/622 [==============================] - 13s 20ms/step - loss: 0.5128 - accuracy: 0.8561 - val_loss: 0.7151 - val_accuracy: 0.8281\n",
            "Epoch 8/25\n",
            "622/622 [==============================] - 13s 20ms/step - loss: 0.4622 - accuracy: 0.8680 - val_loss: 0.6510 - val_accuracy: 0.8439\n",
            "Epoch 9/25\n",
            "622/622 [==============================] - 12s 20ms/step - loss: 0.4168 - accuracy: 0.8799 - val_loss: 0.6246 - val_accuracy: 0.8552\n",
            "Epoch 10/25\n",
            "622/622 [==============================] - 13s 20ms/step - loss: 0.3765 - accuracy: 0.8905 - val_loss: 0.5915 - val_accuracy: 0.8623\n",
            "Epoch 11/25\n",
            "622/622 [==============================] - 12s 19ms/step - loss: 0.3448 - accuracy: 0.9005 - val_loss: 0.5937 - val_accuracy: 0.8714\n",
            "Epoch 12/25\n",
            "622/622 [==============================] - 13s 20ms/step - loss: 0.3161 - accuracy: 0.9089 - val_loss: 0.6070 - val_accuracy: 0.8687\n",
            "Epoch 13/25\n",
            "622/622 [==============================] - 13s 21ms/step - loss: 0.2894 - accuracy: 0.9164 - val_loss: 0.6002 - val_accuracy: 0.8695\n",
            "Epoch 14/25\n",
            "622/622 [==============================] - 12s 20ms/step - loss: 0.2675 - accuracy: 0.9219 - val_loss: 0.5708 - val_accuracy: 0.8766\n",
            "Epoch 15/25\n",
            "622/622 [==============================] - 12s 20ms/step - loss: 0.2492 - accuracy: 0.9276 - val_loss: 0.5781 - val_accuracy: 0.8791\n",
            "Epoch 16/25\n",
            "622/622 [==============================] - 12s 20ms/step - loss: 0.2322 - accuracy: 0.9329 - val_loss: 0.5842 - val_accuracy: 0.8786\n",
            "Epoch 17/25\n",
            "622/622 [==============================] - 12s 20ms/step - loss: 0.2184 - accuracy: 0.9370 - val_loss: 0.6141 - val_accuracy: 0.8769\n",
            "Epoch 18/25\n",
            "622/622 [==============================] - 12s 20ms/step - loss: 0.2093 - accuracy: 0.9396 - val_loss: 0.6112 - val_accuracy: 0.8763\n",
            "Epoch 19/25\n",
            "622/622 [==============================] - 13s 21ms/step - loss: 0.1964 - accuracy: 0.9434 - val_loss: 0.5868 - val_accuracy: 0.8842\n",
            "Epoch 20/25\n",
            "622/622 [==============================] - 12s 20ms/step - loss: 0.1891 - accuracy: 0.9460 - val_loss: 0.5984 - val_accuracy: 0.8825\n",
            "Epoch 21/25\n",
            "622/622 [==============================] - 12s 20ms/step - loss: 0.1784 - accuracy: 0.9491 - val_loss: 0.6163 - val_accuracy: 0.8793\n",
            "Epoch 22/25\n",
            "622/622 [==============================] - 13s 21ms/step - loss: 0.1699 - accuracy: 0.9515 - val_loss: 0.6228 - val_accuracy: 0.8817\n",
            "Epoch 23/25\n",
            "622/622 [==============================] - 13s 20ms/step - loss: 0.1637 - accuracy: 0.9539 - val_loss: 0.6446 - val_accuracy: 0.8775\n",
            "Epoch 24/25\n",
            "622/622 [==============================] - 13s 20ms/step - loss: 0.1573 - accuracy: 0.9554 - val_loss: 0.6767 - val_accuracy: 0.8755\n",
            "Epoch 25/25\n",
            "622/622 [==============================] - 12s 20ms/step - loss: 0.1512 - accuracy: 0.9575 - val_loss: 0.6665 - val_accuracy: 0.8779\n"
          ],
          "name": "stdout"
        },
        {
          "output_type": "display_data",
          "data": {
            "text/html": [
              "<br/>Waiting for W&B process to finish, PID 109554<br/>Program ended successfully."
            ],
            "text/plain": [
              "<IPython.core.display.HTML object>"
            ]
          },
          "metadata": {
            "tags": []
          }
        },
        {
          "output_type": "display_data",
          "data": {
            "application/vnd.jupyter.widget-view+json": {
              "model_id": "d0aaf2413c2549a7826c6dd0e9262b31",
              "version_minor": 0,
              "version_major": 2
            },
            "text/plain": [
              "VBox(children=(Label(value=' 13.89MB of 13.89MB uploaded (0.00MB deduped)\\r'), FloatProgress(value=1.0, max=1.…"
            ]
          },
          "metadata": {
            "tags": []
          }
        },
        {
          "output_type": "display_data",
          "data": {
            "text/html": [
              "Find user logs for this run at: <code>/content/wandb/run-20210522_164350-03zctqzz/logs/debug.log</code>"
            ],
            "text/plain": [
              "<IPython.core.display.HTML object>"
            ]
          },
          "metadata": {
            "tags": []
          }
        },
        {
          "output_type": "display_data",
          "data": {
            "text/html": [
              "Find internal logs for this run at: <code>/content/wandb/run-20210522_164350-03zctqzz/logs/debug-internal.log</code>"
            ],
            "text/plain": [
              "<IPython.core.display.HTML object>"
            ]
          },
          "metadata": {
            "tags": []
          }
        },
        {
          "output_type": "display_data",
          "data": {
            "text/html": [
              "<h3>Run summary:</h3><br/><style>\n",
              "    table.wandb td:nth-child(1) { padding: 0 10px; text-align: right }\n",
              "    </style><table class=\"wandb\">\n",
              "<tr><td>epoch</td><td>24</td></tr><tr><td>loss</td><td>0.15356</td></tr><tr><td>accuracy</td><td>0.95681</td></tr><tr><td>val_loss</td><td>0.66651</td></tr><tr><td>val_accuracy</td><td>0.87794</td></tr><tr><td>_runtime</td><td>359</td></tr><tr><td>_timestamp</td><td>1621702189</td></tr><tr><td>_step</td><td>25</td></tr><tr><td>best_val_loss</td><td>0.57078</td></tr><tr><td>best_epoch</td><td>13</td></tr><tr><td>word_acc</td><td>24.0</td></tr></table>"
            ],
            "text/plain": [
              "<IPython.core.display.HTML object>"
            ]
          },
          "metadata": {
            "tags": []
          }
        },
        {
          "output_type": "display_data",
          "data": {
            "text/html": [
              "<h3>Run history:</h3><br/><style>\n",
              "    table.wandb td:nth-child(1) { padding: 0 10px; text-align: right }\n",
              "    </style><table class=\"wandb\">\n",
              "<tr><td>epoch</td><td>▁▁▂▂▂▂▃▃▃▄▄▄▅▅▅▅▆▆▆▇▇▇▇██</td></tr><tr><td>loss</td><td>█▇▆▅▅▄▄▃▃▃▃▂▂▂▂▂▂▁▁▁▁▁▁▁▁</td></tr><tr><td>accuracy</td><td>▁▂▃▃▄▄▅▅▅▆▆▆▇▇▇▇▇▇███████</td></tr><tr><td>val_loss</td><td>█▆▅▆▅▄▄▂▂▁▁▂▂▁▁▁▂▂▁▁▂▂▂▃▃</td></tr><tr><td>val_accuracy</td><td>▁▂▃▃▄▄▅▆▆▇▇▇▇████████████</td></tr><tr><td>_runtime</td><td>▁▁▂▂▂▂▃▃▃▃▄▄▄▄▅▅▅▅▆▆▆▆▇▇▇█</td></tr><tr><td>_timestamp</td><td>▁▁▂▂▂▂▃▃▃▃▄▄▄▄▅▅▅▅▆▆▆▆▇▇▇█</td></tr><tr><td>_step</td><td>▁▁▂▂▂▂▃▃▃▄▄▄▄▅▅▅▅▆▆▆▇▇▇▇██</td></tr><tr><td>word_acc</td><td>▁</td></tr></table><br/>"
            ],
            "text/plain": [
              "<IPython.core.display.HTML object>"
            ]
          },
          "metadata": {
            "tags": []
          }
        },
        {
          "output_type": "display_data",
          "data": {
            "text/html": [
              "Synced 5 W&B file(s), 1 media file(s), 0 artifact file(s) and 1 other file(s)"
            ],
            "text/plain": [
              "<IPython.core.display.HTML object>"
            ]
          },
          "metadata": {
            "tags": []
          }
        },
        {
          "output_type": "display_data",
          "data": {
            "text/html": [
              "\n",
              "                    <br/>Synced <strong style=\"color:#cdcd00\">resilient-sweep-20</strong>: <a href=\"https://wandb.ai/theindianwriter/CS6910-Assignment3/runs/03zctqzz\" target=\"_blank\">https://wandb.ai/theindianwriter/CS6910-Assignment3/runs/03zctqzz</a><br/>\n",
              "                "
            ],
            "text/plain": [
              "<IPython.core.display.HTML object>"
            ]
          },
          "metadata": {
            "tags": []
          }
        },
        {
          "output_type": "stream",
          "text": [
            "\u001b[34m\u001b[1mwandb\u001b[0m: Agent Starting Run: hgalp6n5 with config:\n",
            "\u001b[34m\u001b[1mwandb\u001b[0m: \tbatch_size: 64\n",
            "\u001b[34m\u001b[1mwandb\u001b[0m: \tcell_type: GRU\n",
            "\u001b[34m\u001b[1mwandb\u001b[0m: \tdrop_out_ratio: 0.4\n",
            "\u001b[34m\u001b[1mwandb\u001b[0m: \tembedding_size: 64\n",
            "\u001b[34m\u001b[1mwandb\u001b[0m: \tepochs: 25\n",
            "\u001b[34m\u001b[1mwandb\u001b[0m: \thidden_layer_size: 256\n",
            "\u001b[34m\u001b[1mwandb\u001b[0m: \tnum_decoder_layers: 1\n",
            "\u001b[34m\u001b[1mwandb\u001b[0m: \tnum_encoder_layers: 3\n",
            "\u001b[34m\u001b[1mwandb\u001b[0m: \toptimizer: rmsprop\n",
            "\u001b[34m\u001b[1mwandb\u001b[0m: \u001b[33mWARNING\u001b[0m Ignored wandb.init() arg project when running a sweep\n"
          ],
          "name": "stderr"
        },
        {
          "output_type": "display_data",
          "data": {
            "text/html": [
              "\n",
              "                Tracking run with wandb version 0.10.30<br/>\n",
              "                Syncing run <strong style=\"color:#cdcd00\">lunar-sweep-21</strong> to <a href=\"https://wandb.ai\" target=\"_blank\">Weights & Biases</a> <a href=\"https://docs.wandb.com/integrations/jupyter.html\" target=\"_blank\">(Documentation)</a>.<br/>\n",
              "                Project page: <a href=\"https://wandb.ai/theindianwriter/CS6910-Assignment3\" target=\"_blank\">https://wandb.ai/theindianwriter/CS6910-Assignment3</a><br/>\n",
              "                Sweep page: <a href=\"https://wandb.ai/theindianwriter/CS6910-Assignment3/sweeps/nk5cbn8i\" target=\"_blank\">https://wandb.ai/theindianwriter/CS6910-Assignment3/sweeps/nk5cbn8i</a><br/>\n",
              "Run page: <a href=\"https://wandb.ai/theindianwriter/CS6910-Assignment3/runs/hgalp6n5\" target=\"_blank\">https://wandb.ai/theindianwriter/CS6910-Assignment3/runs/hgalp6n5</a><br/>\n",
              "                Run data is saved locally in <code>/content/wandb/run-20210522_164957-hgalp6n5</code><br/><br/>\n",
              "            "
            ],
            "text/plain": [
              "<IPython.core.display.HTML object>"
            ]
          },
          "metadata": {
            "tags": []
          }
        },
        {
          "output_type": "stream",
          "text": [
            "Epoch 1/25\n",
            "622/622 [==============================] - 18s 21ms/step - loss: 1.1503 - accuracy: 0.7417 - val_loss: 0.8154 - val_accuracy: 0.7860\n",
            "Epoch 2/25\n",
            "622/622 [==============================] - 12s 19ms/step - loss: 0.6983 - accuracy: 0.8147 - val_loss: 0.6750 - val_accuracy: 0.8298\n",
            "Epoch 3/25\n",
            "622/622 [==============================] - 12s 19ms/step - loss: 0.5436 - accuracy: 0.8490 - val_loss: 0.5574 - val_accuracy: 0.8555\n",
            "Epoch 4/25\n",
            "622/622 [==============================] - 12s 19ms/step - loss: 0.4440 - accuracy: 0.8744 - val_loss: 0.5155 - val_accuracy: 0.8721\n",
            "Epoch 5/25\n",
            "622/622 [==============================] - 12s 19ms/step - loss: 0.3737 - accuracy: 0.8930 - val_loss: 0.4720 - val_accuracy: 0.8800\n",
            "Epoch 6/25\n",
            "622/622 [==============================] - 11s 18ms/step - loss: 0.3342 - accuracy: 0.9042 - val_loss: 0.4700 - val_accuracy: 0.8788\n",
            "Epoch 7/25\n",
            "622/622 [==============================] - 11s 18ms/step - loss: 0.3063 - accuracy: 0.9115 - val_loss: 0.4302 - val_accuracy: 0.8886\n",
            "Epoch 8/25\n",
            "622/622 [==============================] - 12s 19ms/step - loss: 0.2824 - accuracy: 0.9185 - val_loss: 0.4765 - val_accuracy: 0.8811\n",
            "Epoch 9/25\n",
            "622/622 [==============================] - 12s 19ms/step - loss: 0.2630 - accuracy: 0.9241 - val_loss: 0.4591 - val_accuracy: 0.8889\n",
            "Epoch 10/25\n",
            "622/622 [==============================] - 12s 19ms/step - loss: 0.2483 - accuracy: 0.9281 - val_loss: 0.4749 - val_accuracy: 0.8827\n",
            "Epoch 11/25\n",
            "622/622 [==============================] - 12s 19ms/step - loss: 0.2342 - accuracy: 0.9320 - val_loss: 0.4805 - val_accuracy: 0.8853\n",
            "Epoch 12/25\n",
            "622/622 [==============================] - 12s 19ms/step - loss: 0.2268 - accuracy: 0.9341 - val_loss: 0.4976 - val_accuracy: 0.8869\n",
            "Epoch 13/25\n",
            "622/622 [==============================] - 11s 18ms/step - loss: 0.2162 - accuracy: 0.9369 - val_loss: 0.5004 - val_accuracy: 0.8813\n",
            "Epoch 14/25\n",
            "622/622 [==============================] - 11s 18ms/step - loss: 0.2112 - accuracy: 0.9385 - val_loss: 0.4959 - val_accuracy: 0.8847\n",
            "Epoch 15/25\n",
            "622/622 [==============================] - 12s 19ms/step - loss: 0.2032 - accuracy: 0.9403 - val_loss: 0.4552 - val_accuracy: 0.8920\n",
            "Epoch 16/25\n",
            "622/622 [==============================] - 12s 19ms/step - loss: 0.1939 - accuracy: 0.9431 - val_loss: 0.5582 - val_accuracy: 0.8831\n",
            "Epoch 17/25\n",
            "622/622 [==============================] - 12s 19ms/step - loss: 0.1917 - accuracy: 0.9437 - val_loss: 0.5404 - val_accuracy: 0.8774\n",
            "Epoch 18/25\n",
            "622/622 [==============================] - 12s 19ms/step - loss: 0.1862 - accuracy: 0.9447 - val_loss: 0.5632 - val_accuracy: 0.8775\n",
            "Epoch 19/25\n",
            "622/622 [==============================] - 12s 20ms/step - loss: 0.1830 - accuracy: 0.9457 - val_loss: 0.5002 - val_accuracy: 0.8879\n",
            "Epoch 20/25\n",
            "622/622 [==============================] - 12s 19ms/step - loss: 0.1776 - accuracy: 0.9467 - val_loss: 0.5140 - val_accuracy: 0.8850\n",
            "Epoch 21/25\n",
            "622/622 [==============================] - 12s 19ms/step - loss: 0.1734 - accuracy: 0.9476 - val_loss: 0.5774 - val_accuracy: 0.8765\n",
            "Epoch 22/25\n",
            "622/622 [==============================] - 12s 19ms/step - loss: 0.1691 - accuracy: 0.9489 - val_loss: 0.5499 - val_accuracy: 0.8862\n",
            "Epoch 23/25\n",
            "622/622 [==============================] - 11s 18ms/step - loss: 0.1660 - accuracy: 0.9506 - val_loss: 0.5281 - val_accuracy: 0.8881\n",
            "Epoch 24/25\n",
            "622/622 [==============================] - 11s 18ms/step - loss: 0.1630 - accuracy: 0.9509 - val_loss: 0.5454 - val_accuracy: 0.8826\n",
            "Epoch 25/25\n",
            "622/622 [==============================] - 11s 18ms/step - loss: 0.1615 - accuracy: 0.9514 - val_loss: 0.5941 - val_accuracy: 0.8763\n"
          ],
          "name": "stdout"
        },
        {
          "output_type": "display_data",
          "data": {
            "text/html": [
              "<br/>Waiting for W&B process to finish, PID 112103<br/>Program ended successfully."
            ],
            "text/plain": [
              "<IPython.core.display.HTML object>"
            ]
          },
          "metadata": {
            "tags": []
          }
        },
        {
          "output_type": "display_data",
          "data": {
            "application/vnd.jupyter.widget-view+json": {
              "model_id": "8c8e294d7a164c639e5720d6a65884c1",
              "version_minor": 0,
              "version_major": 2
            },
            "text/plain": [
              "VBox(children=(Label(value=' 10.53MB of 10.53MB uploaded (0.00MB deduped)\\r'), FloatProgress(value=1.0, max=1.…"
            ]
          },
          "metadata": {
            "tags": []
          }
        },
        {
          "output_type": "display_data",
          "data": {
            "text/html": [
              "Find user logs for this run at: <code>/content/wandb/run-20210522_164957-hgalp6n5/logs/debug.log</code>"
            ],
            "text/plain": [
              "<IPython.core.display.HTML object>"
            ]
          },
          "metadata": {
            "tags": []
          }
        },
        {
          "output_type": "display_data",
          "data": {
            "text/html": [
              "Find internal logs for this run at: <code>/content/wandb/run-20210522_164957-hgalp6n5/logs/debug-internal.log</code>"
            ],
            "text/plain": [
              "<IPython.core.display.HTML object>"
            ]
          },
          "metadata": {
            "tags": []
          }
        },
        {
          "output_type": "display_data",
          "data": {
            "text/html": [
              "<h3>Run summary:</h3><br/><style>\n",
              "    table.wandb td:nth-child(1) { padding: 0 10px; text-align: right }\n",
              "    </style><table class=\"wandb\">\n",
              "<tr><td>epoch</td><td>24</td></tr><tr><td>loss</td><td>0.163</td></tr><tr><td>accuracy</td><td>0.95087</td></tr><tr><td>val_loss</td><td>0.59411</td></tr><tr><td>val_accuracy</td><td>0.87634</td></tr><tr><td>_runtime</td><td>332</td></tr><tr><td>_timestamp</td><td>1621702529</td></tr><tr><td>_step</td><td>25</td></tr><tr><td>best_val_loss</td><td>0.43018</td></tr><tr><td>best_epoch</td><td>6</td></tr><tr><td>word_acc</td><td>28.0</td></tr></table>"
            ],
            "text/plain": [
              "<IPython.core.display.HTML object>"
            ]
          },
          "metadata": {
            "tags": []
          }
        },
        {
          "output_type": "display_data",
          "data": {
            "text/html": [
              "<h3>Run history:</h3><br/><style>\n",
              "    table.wandb td:nth-child(1) { padding: 0 10px; text-align: right }\n",
              "    </style><table class=\"wandb\">\n",
              "<tr><td>epoch</td><td>▁▁▂▂▂▂▃▃▃▄▄▄▅▅▅▅▆▆▆▇▇▇▇██</td></tr><tr><td>loss</td><td>█▅▄▃▃▃▂▂▂▂▂▂▁▁▁▁▁▁▁▁▁▁▁▁▁</td></tr><tr><td>accuracy</td><td>▁▃▄▅▆▆▇▇▇▇▇▇▇████████████</td></tr><tr><td>val_loss</td><td>█▅▃▃▂▂▁▂▂▂▂▂▂▂▁▃▃▃▂▃▄▃▃▃▄</td></tr><tr><td>val_accuracy</td><td>▁▄▆▇▇▇█▇█▇██▇██▇▇▇██▇██▇▇</td></tr><tr><td>_runtime</td><td>▁▁▂▂▂▂▃▃▃▃▄▄▄▄▅▅▅▅▆▆▆▇▇▇▇█</td></tr><tr><td>_timestamp</td><td>▁▁▂▂▂▂▃▃▃▃▄▄▄▄▅▅▅▅▆▆▆▇▇▇▇█</td></tr><tr><td>_step</td><td>▁▁▂▂▂▂▃▃▃▄▄▄▄▅▅▅▅▆▆▆▇▇▇▇██</td></tr><tr><td>word_acc</td><td>▁</td></tr></table><br/>"
            ],
            "text/plain": [
              "<IPython.core.display.HTML object>"
            ]
          },
          "metadata": {
            "tags": []
          }
        },
        {
          "output_type": "display_data",
          "data": {
            "text/html": [
              "Synced 5 W&B file(s), 1 media file(s), 0 artifact file(s) and 1 other file(s)"
            ],
            "text/plain": [
              "<IPython.core.display.HTML object>"
            ]
          },
          "metadata": {
            "tags": []
          }
        },
        {
          "output_type": "display_data",
          "data": {
            "text/html": [
              "\n",
              "                    <br/>Synced <strong style=\"color:#cdcd00\">lunar-sweep-21</strong>: <a href=\"https://wandb.ai/theindianwriter/CS6910-Assignment3/runs/hgalp6n5\" target=\"_blank\">https://wandb.ai/theindianwriter/CS6910-Assignment3/runs/hgalp6n5</a><br/>\n",
              "                "
            ],
            "text/plain": [
              "<IPython.core.display.HTML object>"
            ]
          },
          "metadata": {
            "tags": []
          }
        },
        {
          "output_type": "stream",
          "text": [
            "\u001b[34m\u001b[1mwandb\u001b[0m: Agent Starting Run: 3bo9du6b with config:\n",
            "\u001b[34m\u001b[1mwandb\u001b[0m: \tbatch_size: 64\n",
            "\u001b[34m\u001b[1mwandb\u001b[0m: \tcell_type: GRU\n",
            "\u001b[34m\u001b[1mwandb\u001b[0m: \tdrop_out_ratio: 0.4\n",
            "\u001b[34m\u001b[1mwandb\u001b[0m: \tembedding_size: 64\n",
            "\u001b[34m\u001b[1mwandb\u001b[0m: \tepochs: 25\n",
            "\u001b[34m\u001b[1mwandb\u001b[0m: \thidden_layer_size: 256\n",
            "\u001b[34m\u001b[1mwandb\u001b[0m: \tnum_decoder_layers: 1\n",
            "\u001b[34m\u001b[1mwandb\u001b[0m: \tnum_encoder_layers: 2\n",
            "\u001b[34m\u001b[1mwandb\u001b[0m: \toptimizer: rmsprop\n",
            "\u001b[34m\u001b[1mwandb\u001b[0m: \u001b[33mWARNING\u001b[0m Ignored wandb.init() arg project when running a sweep\n"
          ],
          "name": "stderr"
        },
        {
          "output_type": "display_data",
          "data": {
            "text/html": [
              "\n",
              "                Tracking run with wandb version 0.10.30<br/>\n",
              "                Syncing run <strong style=\"color:#cdcd00\">unique-sweep-22</strong> to <a href=\"https://wandb.ai\" target=\"_blank\">Weights & Biases</a> <a href=\"https://docs.wandb.com/integrations/jupyter.html\" target=\"_blank\">(Documentation)</a>.<br/>\n",
              "                Project page: <a href=\"https://wandb.ai/theindianwriter/CS6910-Assignment3\" target=\"_blank\">https://wandb.ai/theindianwriter/CS6910-Assignment3</a><br/>\n",
              "                Sweep page: <a href=\"https://wandb.ai/theindianwriter/CS6910-Assignment3/sweeps/nk5cbn8i\" target=\"_blank\">https://wandb.ai/theindianwriter/CS6910-Assignment3/sweeps/nk5cbn8i</a><br/>\n",
              "Run page: <a href=\"https://wandb.ai/theindianwriter/CS6910-Assignment3/runs/3bo9du6b\" target=\"_blank\">https://wandb.ai/theindianwriter/CS6910-Assignment3/runs/3bo9du6b</a><br/>\n",
              "                Run data is saved locally in <code>/content/wandb/run-20210522_165538-3bo9du6b</code><br/><br/>\n",
              "            "
            ],
            "text/plain": [
              "<IPython.core.display.HTML object>"
            ]
          },
          "metadata": {
            "tags": []
          }
        },
        {
          "output_type": "stream",
          "text": [
            "Epoch 1/25\n",
            "622/622 [==============================] - 15s 17ms/step - loss: 1.1711 - accuracy: 0.7399 - val_loss: 0.8624 - val_accuracy: 0.7817\n",
            "Epoch 2/25\n",
            "622/622 [==============================] - 10s 15ms/step - loss: 0.7612 - accuracy: 0.7996 - val_loss: 0.7051 - val_accuracy: 0.8210\n",
            "Epoch 3/25\n",
            "622/622 [==============================] - 9s 15ms/step - loss: 0.5843 - accuracy: 0.8394 - val_loss: 0.7018 - val_accuracy: 0.8413\n",
            "Epoch 4/25\n",
            "622/622 [==============================] - 10s 16ms/step - loss: 0.4740 - accuracy: 0.8672 - val_loss: 0.5592 - val_accuracy: 0.8620\n",
            "Epoch 5/25\n",
            "622/622 [==============================] - 10s 16ms/step - loss: 0.3990 - accuracy: 0.8874 - val_loss: 0.5372 - val_accuracy: 0.8602\n",
            "Epoch 6/25\n",
            "622/622 [==============================] - 10s 16ms/step - loss: 0.3503 - accuracy: 0.9005 - val_loss: 0.4733 - val_accuracy: 0.8782\n",
            "Epoch 7/25\n",
            "622/622 [==============================] - 9s 15ms/step - loss: 0.3151 - accuracy: 0.9097 - val_loss: 0.4590 - val_accuracy: 0.8799\n",
            "Epoch 8/25\n",
            "622/622 [==============================] - 10s 16ms/step - loss: 0.2914 - accuracy: 0.9159 - val_loss: 0.4417 - val_accuracy: 0.8855\n",
            "Epoch 9/25\n",
            "622/622 [==============================] - 9s 15ms/step - loss: 0.2677 - accuracy: 0.9226 - val_loss: 0.4779 - val_accuracy: 0.8782\n",
            "Epoch 10/25\n",
            "622/622 [==============================] - 10s 15ms/step - loss: 0.2539 - accuracy: 0.9265 - val_loss: 0.4552 - val_accuracy: 0.8893\n",
            "Epoch 11/25\n",
            "622/622 [==============================] - 9s 15ms/step - loss: 0.2397 - accuracy: 0.9301 - val_loss: 0.4921 - val_accuracy: 0.8838\n",
            "Epoch 12/25\n",
            "622/622 [==============================] - 10s 15ms/step - loss: 0.2296 - accuracy: 0.9334 - val_loss: 0.4896 - val_accuracy: 0.8830\n",
            "Epoch 13/25\n",
            "622/622 [==============================] - 10s 15ms/step - loss: 0.2219 - accuracy: 0.9353 - val_loss: 0.4939 - val_accuracy: 0.8809\n",
            "Epoch 14/25\n",
            "622/622 [==============================] - 9s 15ms/step - loss: 0.2146 - accuracy: 0.9371 - val_loss: 0.5210 - val_accuracy: 0.8803\n",
            "Epoch 15/25\n",
            "622/622 [==============================] - 10s 15ms/step - loss: 0.2074 - accuracy: 0.9395 - val_loss: 0.4956 - val_accuracy: 0.8910\n",
            "Epoch 16/25\n",
            "622/622 [==============================] - 10s 16ms/step - loss: 0.2030 - accuracy: 0.9408 - val_loss: 0.4764 - val_accuracy: 0.8889\n",
            "Epoch 17/25\n",
            "622/622 [==============================] - 10s 16ms/step - loss: 0.1968 - accuracy: 0.9423 - val_loss: 0.5363 - val_accuracy: 0.8859\n",
            "Epoch 18/25\n",
            "622/622 [==============================] - 10s 16ms/step - loss: 0.1929 - accuracy: 0.9433 - val_loss: 0.5655 - val_accuracy: 0.8840\n",
            "Epoch 19/25\n",
            "622/622 [==============================] - 10s 16ms/step - loss: 0.1872 - accuracy: 0.9448 - val_loss: 0.5148 - val_accuracy: 0.8893\n",
            "Epoch 20/25\n",
            "622/622 [==============================] - 10s 16ms/step - loss: 0.1820 - accuracy: 0.9458 - val_loss: 0.5599 - val_accuracy: 0.8828\n",
            "Epoch 21/25\n",
            "622/622 [==============================] - 10s 16ms/step - loss: 0.1785 - accuracy: 0.9463 - val_loss: 0.5542 - val_accuracy: 0.8813\n",
            "Epoch 22/25\n",
            "622/622 [==============================] - 10s 16ms/step - loss: 0.1724 - accuracy: 0.9480 - val_loss: 0.5238 - val_accuracy: 0.8879\n",
            "Epoch 23/25\n",
            "622/622 [==============================] - 10s 15ms/step - loss: 0.1686 - accuracy: 0.9484 - val_loss: 0.5354 - val_accuracy: 0.8887\n",
            "Epoch 24/25\n",
            "622/622 [==============================] - 10s 16ms/step - loss: 0.1641 - accuracy: 0.9503 - val_loss: 0.5426 - val_accuracy: 0.8845\n",
            "Epoch 25/25\n",
            "622/622 [==============================] - 10s 16ms/step - loss: 0.1616 - accuracy: 0.9507 - val_loss: 0.5593 - val_accuracy: 0.8830\n"
          ],
          "name": "stdout"
        },
        {
          "output_type": "display_data",
          "data": {
            "text/html": [
              "<br/>Waiting for W&B process to finish, PID 114485<br/>Program ended successfully."
            ],
            "text/plain": [
              "<IPython.core.display.HTML object>"
            ]
          },
          "metadata": {
            "tags": []
          }
        },
        {
          "output_type": "display_data",
          "data": {
            "application/vnd.jupyter.widget-view+json": {
              "model_id": "24039779c6954678acc457c0849643d7",
              "version_minor": 0,
              "version_major": 2
            },
            "text/plain": [
              "VBox(children=(Label(value=' 7.51MB of 7.51MB uploaded (0.00MB deduped)\\r'), FloatProgress(value=1.0, max=1.0)…"
            ]
          },
          "metadata": {
            "tags": []
          }
        },
        {
          "output_type": "display_data",
          "data": {
            "text/html": [
              "Find user logs for this run at: <code>/content/wandb/run-20210522_165538-3bo9du6b/logs/debug.log</code>"
            ],
            "text/plain": [
              "<IPython.core.display.HTML object>"
            ]
          },
          "metadata": {
            "tags": []
          }
        },
        {
          "output_type": "display_data",
          "data": {
            "text/html": [
              "Find internal logs for this run at: <code>/content/wandb/run-20210522_165538-3bo9du6b/logs/debug-internal.log</code>"
            ],
            "text/plain": [
              "<IPython.core.display.HTML object>"
            ]
          },
          "metadata": {
            "tags": []
          }
        },
        {
          "output_type": "display_data",
          "data": {
            "text/html": [
              "<h3>Run summary:</h3><br/><style>\n",
              "    table.wandb td:nth-child(1) { padding: 0 10px; text-align: right }\n",
              "    </style><table class=\"wandb\">\n",
              "<tr><td>epoch</td><td>24</td></tr><tr><td>loss</td><td>0.1618</td></tr><tr><td>accuracy</td><td>0.95075</td></tr><tr><td>val_loss</td><td>0.55926</td></tr><tr><td>val_accuracy</td><td>0.88299</td></tr><tr><td>_runtime</td><td>285</td></tr><tr><td>_timestamp</td><td>1621702823</td></tr><tr><td>_step</td><td>25</td></tr><tr><td>best_val_loss</td><td>0.44167</td></tr><tr><td>best_epoch</td><td>7</td></tr><tr><td>word_acc</td><td>24.0</td></tr></table>"
            ],
            "text/plain": [
              "<IPython.core.display.HTML object>"
            ]
          },
          "metadata": {
            "tags": []
          }
        },
        {
          "output_type": "display_data",
          "data": {
            "text/html": [
              "<h3>Run history:</h3><br/><style>\n",
              "    table.wandb td:nth-child(1) { padding: 0 10px; text-align: right }\n",
              "    </style><table class=\"wandb\">\n",
              "<tr><td>epoch</td><td>▁▁▂▂▂▂▃▃▃▄▄▄▅▅▅▅▆▆▆▇▇▇▇██</td></tr><tr><td>loss</td><td>█▆▄▄▃▃▂▂▂▂▂▂▂▁▁▁▁▁▁▁▁▁▁▁▁</td></tr><tr><td>accuracy</td><td>▁▃▄▅▆▆▇▇▇▇▇▇▇▇███████████</td></tr><tr><td>val_loss</td><td>█▅▅▃▃▂▁▁▂▁▂▂▂▂▂▂▃▃▂▃▃▂▃▃▃</td></tr><tr><td>val_accuracy</td><td>▁▄▅▆▆▇▇█▇██▇▇▇█████▇▇███▇</td></tr><tr><td>_runtime</td><td>▁▁▁▂▂▂▃▃▃▃▄▄▄▄▅▅▅▅▆▆▆▆▇▇▇█</td></tr><tr><td>_timestamp</td><td>▁▁▁▂▂▂▃▃▃▃▄▄▄▄▅▅▅▅▆▆▆▆▇▇▇█</td></tr><tr><td>_step</td><td>▁▁▂▂▂▂▃▃▃▄▄▄▄▅▅▅▅▆▆▆▇▇▇▇██</td></tr><tr><td>word_acc</td><td>▁</td></tr></table><br/>"
            ],
            "text/plain": [
              "<IPython.core.display.HTML object>"
            ]
          },
          "metadata": {
            "tags": []
          }
        },
        {
          "output_type": "display_data",
          "data": {
            "text/html": [
              "Synced 5 W&B file(s), 1 media file(s), 0 artifact file(s) and 1 other file(s)"
            ],
            "text/plain": [
              "<IPython.core.display.HTML object>"
            ]
          },
          "metadata": {
            "tags": []
          }
        },
        {
          "output_type": "display_data",
          "data": {
            "text/html": [
              "\n",
              "                    <br/>Synced <strong style=\"color:#cdcd00\">unique-sweep-22</strong>: <a href=\"https://wandb.ai/theindianwriter/CS6910-Assignment3/runs/3bo9du6b\" target=\"_blank\">https://wandb.ai/theindianwriter/CS6910-Assignment3/runs/3bo9du6b</a><br/>\n",
              "                "
            ],
            "text/plain": [
              "<IPython.core.display.HTML object>"
            ]
          },
          "metadata": {
            "tags": []
          }
        },
        {
          "output_type": "stream",
          "text": [
            "\u001b[34m\u001b[1mwandb\u001b[0m: Agent Starting Run: yi0c05bt with config:\n",
            "\u001b[34m\u001b[1mwandb\u001b[0m: \tbatch_size: 64\n",
            "\u001b[34m\u001b[1mwandb\u001b[0m: \tcell_type: GRU\n",
            "\u001b[34m\u001b[1mwandb\u001b[0m: \tdrop_out_ratio: 0.2\n",
            "\u001b[34m\u001b[1mwandb\u001b[0m: \tembedding_size: 64\n",
            "\u001b[34m\u001b[1mwandb\u001b[0m: \tepochs: 25\n",
            "\u001b[34m\u001b[1mwandb\u001b[0m: \thidden_layer_size: 128\n",
            "\u001b[34m\u001b[1mwandb\u001b[0m: \tnum_decoder_layers: 1\n",
            "\u001b[34m\u001b[1mwandb\u001b[0m: \tnum_encoder_layers: 3\n",
            "\u001b[34m\u001b[1mwandb\u001b[0m: \toptimizer: adam\n",
            "\u001b[34m\u001b[1mwandb\u001b[0m: \u001b[33mWARNING\u001b[0m Ignored wandb.init() arg project when running a sweep\n"
          ],
          "name": "stderr"
        },
        {
          "output_type": "display_data",
          "data": {
            "text/html": [
              "\n",
              "                Tracking run with wandb version 0.10.30<br/>\n",
              "                Syncing run <strong style=\"color:#cdcd00\">rich-sweep-23</strong> to <a href=\"https://wandb.ai\" target=\"_blank\">Weights & Biases</a> <a href=\"https://docs.wandb.com/integrations/jupyter.html\" target=\"_blank\">(Documentation)</a>.<br/>\n",
              "                Project page: <a href=\"https://wandb.ai/theindianwriter/CS6910-Assignment3\" target=\"_blank\">https://wandb.ai/theindianwriter/CS6910-Assignment3</a><br/>\n",
              "                Sweep page: <a href=\"https://wandb.ai/theindianwriter/CS6910-Assignment3/sweeps/nk5cbn8i\" target=\"_blank\">https://wandb.ai/theindianwriter/CS6910-Assignment3/sweeps/nk5cbn8i</a><br/>\n",
              "Run page: <a href=\"https://wandb.ai/theindianwriter/CS6910-Assignment3/runs/yi0c05bt\" target=\"_blank\">https://wandb.ai/theindianwriter/CS6910-Assignment3/runs/yi0c05bt</a><br/>\n",
              "                Run data is saved locally in <code>/content/wandb/run-20210522_170031-yi0c05bt</code><br/><br/>\n",
              "            "
            ],
            "text/plain": [
              "<IPython.core.display.HTML object>"
            ]
          },
          "metadata": {
            "tags": []
          }
        },
        {
          "output_type": "stream",
          "text": [
            "Epoch 1/25\n",
            "622/622 [==============================] - 18s 21ms/step - loss: 1.4709 - accuracy: 0.7235 - val_loss: 0.8406 - val_accuracy: 0.7748\n",
            "Epoch 2/25\n",
            "622/622 [==============================] - 12s 19ms/step - loss: 0.7613 - accuracy: 0.7971 - val_loss: 0.7739 - val_accuracy: 0.7864\n",
            "Epoch 3/25\n",
            "622/622 [==============================] - 12s 19ms/step - loss: 0.6729 - accuracy: 0.8166 - val_loss: 0.7298 - val_accuracy: 0.8034\n",
            "Epoch 4/25\n",
            "622/622 [==============================] - 12s 19ms/step - loss: 0.5872 - accuracy: 0.8355 - val_loss: 0.6706 - val_accuracy: 0.8257\n",
            "Epoch 5/25\n",
            "622/622 [==============================] - 12s 19ms/step - loss: 0.5155 - accuracy: 0.8556 - val_loss: 0.6162 - val_accuracy: 0.8430\n",
            "Epoch 6/25\n",
            "622/622 [==============================] - 12s 19ms/step - loss: 0.4421 - accuracy: 0.8731 - val_loss: 0.5569 - val_accuracy: 0.8557\n",
            "Epoch 7/25\n",
            "622/622 [==============================] - 12s 19ms/step - loss: 0.3941 - accuracy: 0.8853 - val_loss: 0.5579 - val_accuracy: 0.8598\n",
            "Epoch 8/25\n",
            "622/622 [==============================] - 12s 19ms/step - loss: 0.3595 - accuracy: 0.8968 - val_loss: 0.5344 - val_accuracy: 0.8649\n",
            "Epoch 9/25\n",
            "622/622 [==============================] - 12s 19ms/step - loss: 0.3183 - accuracy: 0.9044 - val_loss: 0.4919 - val_accuracy: 0.8734\n",
            "Epoch 10/25\n",
            "622/622 [==============================] - 12s 19ms/step - loss: 0.3086 - accuracy: 0.9107 - val_loss: 0.4813 - val_accuracy: 0.8808\n",
            "Epoch 11/25\n",
            "622/622 [==============================] - 12s 19ms/step - loss: 0.2804 - accuracy: 0.9160 - val_loss: 0.5072 - val_accuracy: 0.8761\n",
            "Epoch 12/25\n",
            "622/622 [==============================] - 12s 20ms/step - loss: 0.2664 - accuracy: 0.9208 - val_loss: 0.4932 - val_accuracy: 0.8806\n",
            "Epoch 13/25\n",
            "622/622 [==============================] - 12s 19ms/step - loss: 0.2703 - accuracy: 0.9232 - val_loss: 0.4753 - val_accuracy: 0.8799\n",
            "Epoch 14/25\n",
            "622/622 [==============================] - 12s 20ms/step - loss: 0.2498 - accuracy: 0.9267 - val_loss: 0.4699 - val_accuracy: 0.8838\n",
            "Epoch 15/25\n",
            "622/622 [==============================] - 12s 19ms/step - loss: 0.2353 - accuracy: 0.9297 - val_loss: 0.4709 - val_accuracy: 0.8882\n",
            "Epoch 16/25\n",
            "622/622 [==============================] - 12s 19ms/step - loss: 0.2385 - accuracy: 0.9319 - val_loss: 0.4406 - val_accuracy: 0.8907\n",
            "Epoch 17/25\n",
            "622/622 [==============================] - 12s 19ms/step - loss: 0.2121 - accuracy: 0.9342 - val_loss: 0.4846 - val_accuracy: 0.8889\n",
            "Epoch 18/25\n",
            "622/622 [==============================] - 12s 20ms/step - loss: 0.2216 - accuracy: 0.9358 - val_loss: 0.4591 - val_accuracy: 0.8863\n",
            "Epoch 19/25\n",
            "622/622 [==============================] - 12s 20ms/step - loss: 0.2012 - accuracy: 0.9380 - val_loss: 0.4771 - val_accuracy: 0.8871\n",
            "Epoch 20/25\n",
            "622/622 [==============================] - 12s 20ms/step - loss: 0.2071 - accuracy: 0.9396 - val_loss: 0.4481 - val_accuracy: 0.8907\n",
            "Epoch 21/25\n",
            "622/622 [==============================] - 12s 20ms/step - loss: 0.2022 - accuracy: 0.9404 - val_loss: 0.4515 - val_accuracy: 0.8876\n",
            "Epoch 22/25\n",
            "622/622 [==============================] - 12s 20ms/step - loss: 0.1876 - accuracy: 0.9422 - val_loss: 0.4863 - val_accuracy: 0.8867\n",
            "Epoch 23/25\n",
            "622/622 [==============================] - 12s 20ms/step - loss: 0.1874 - accuracy: 0.9437 - val_loss: 0.4761 - val_accuracy: 0.8910\n",
            "Epoch 24/25\n",
            "622/622 [==============================] - 12s 19ms/step - loss: 0.1857 - accuracy: 0.9440 - val_loss: 0.4846 - val_accuracy: 0.8869\n",
            "Epoch 25/25\n",
            "622/622 [==============================] - 12s 20ms/step - loss: 0.1797 - accuracy: 0.9455 - val_loss: 0.4529 - val_accuracy: 0.8884\n"
          ],
          "name": "stdout"
        },
        {
          "output_type": "display_data",
          "data": {
            "text/html": [
              "<br/>Waiting for W&B process to finish, PID 116957<br/>Program ended successfully."
            ],
            "text/plain": [
              "<IPython.core.display.HTML object>"
            ]
          },
          "metadata": {
            "tags": []
          }
        },
        {
          "output_type": "display_data",
          "data": {
            "application/vnd.jupyter.widget-view+json": {
              "model_id": "734d8c69067f4469af8e417ff3aca686",
              "version_minor": 0,
              "version_major": 2
            },
            "text/plain": [
              "VBox(children=(Label(value=' 4.55MB of 4.55MB uploaded (0.00MB deduped)\\r'), FloatProgress(value=1.0, max=1.0)…"
            ]
          },
          "metadata": {
            "tags": []
          }
        },
        {
          "output_type": "display_data",
          "data": {
            "text/html": [
              "Find user logs for this run at: <code>/content/wandb/run-20210522_170031-yi0c05bt/logs/debug.log</code>"
            ],
            "text/plain": [
              "<IPython.core.display.HTML object>"
            ]
          },
          "metadata": {
            "tags": []
          }
        },
        {
          "output_type": "display_data",
          "data": {
            "text/html": [
              "Find internal logs for this run at: <code>/content/wandb/run-20210522_170031-yi0c05bt/logs/debug-internal.log</code>"
            ],
            "text/plain": [
              "<IPython.core.display.HTML object>"
            ]
          },
          "metadata": {
            "tags": []
          }
        },
        {
          "output_type": "display_data",
          "data": {
            "text/html": [
              "<h3>Run summary:</h3><br/><style>\n",
              "    table.wandb td:nth-child(1) { padding: 0 10px; text-align: right }\n",
              "    </style><table class=\"wandb\">\n",
              "<tr><td>epoch</td><td>24</td></tr><tr><td>loss</td><td>0.17898</td></tr><tr><td>accuracy</td><td>0.945</td></tr><tr><td>val_loss</td><td>0.45293</td></tr><tr><td>val_accuracy</td><td>0.88835</td></tr><tr><td>_runtime</td><td>345</td></tr><tr><td>_timestamp</td><td>1621703176</td></tr><tr><td>_step</td><td>25</td></tr><tr><td>best_val_loss</td><td>0.44062</td></tr><tr><td>best_epoch</td><td>15</td></tr><tr><td>word_acc</td><td>31.0</td></tr></table>"
            ],
            "text/plain": [
              "<IPython.core.display.HTML object>"
            ]
          },
          "metadata": {
            "tags": []
          }
        },
        {
          "output_type": "display_data",
          "data": {
            "text/html": [
              "<h3>Run history:</h3><br/><style>\n",
              "    table.wandb td:nth-child(1) { padding: 0 10px; text-align: right }\n",
              "    </style><table class=\"wandb\">\n",
              "<tr><td>epoch</td><td>▁▁▂▂▂▂▃▃▃▄▄▄▅▅▅▅▆▆▆▇▇▇▇██</td></tr><tr><td>loss</td><td>█▅▅▄▄▃▃▂▂▂▂▂▂▂▂▁▁▁▁▁▁▁▁▁▁</td></tr><tr><td>accuracy</td><td>▁▃▃▄▅▅▆▆▇▇▇▇▇▇▇██████████</td></tr><tr><td>val_loss</td><td>█▇▆▅▄▃▃▃▂▂▂▂▂▂▂▁▂▁▂▁▁▂▂▂▁</td></tr><tr><td>val_accuracy</td><td>▁▂▃▄▅▆▆▆▇▇▇▇▇████████████</td></tr><tr><td>_runtime</td><td>▁▁▁▂▂▂▃▃▃▃▄▄▄▄▅▅▅▅▆▆▆▆▇▇▇█</td></tr><tr><td>_timestamp</td><td>▁▁▁▂▂▂▃▃▃▃▄▄▄▄▅▅▅▅▆▆▆▆▇▇▇█</td></tr><tr><td>_step</td><td>▁▁▂▂▂▂▃▃▃▄▄▄▄▅▅▅▅▆▆▆▇▇▇▇██</td></tr><tr><td>word_acc</td><td>▁</td></tr></table><br/>"
            ],
            "text/plain": [
              "<IPython.core.display.HTML object>"
            ]
          },
          "metadata": {
            "tags": []
          }
        },
        {
          "output_type": "display_data",
          "data": {
            "text/html": [
              "Synced 5 W&B file(s), 1 media file(s), 0 artifact file(s) and 1 other file(s)"
            ],
            "text/plain": [
              "<IPython.core.display.HTML object>"
            ]
          },
          "metadata": {
            "tags": []
          }
        },
        {
          "output_type": "display_data",
          "data": {
            "text/html": [
              "\n",
              "                    <br/>Synced <strong style=\"color:#cdcd00\">rich-sweep-23</strong>: <a href=\"https://wandb.ai/theindianwriter/CS6910-Assignment3/runs/yi0c05bt\" target=\"_blank\">https://wandb.ai/theindianwriter/CS6910-Assignment3/runs/yi0c05bt</a><br/>\n",
              "                "
            ],
            "text/plain": [
              "<IPython.core.display.HTML object>"
            ]
          },
          "metadata": {
            "tags": []
          }
        },
        {
          "output_type": "stream",
          "text": [
            "\u001b[34m\u001b[1mwandb\u001b[0m: Agent Starting Run: 7wr1l4zx with config:\n",
            "\u001b[34m\u001b[1mwandb\u001b[0m: \tbatch_size: 64\n",
            "\u001b[34m\u001b[1mwandb\u001b[0m: \tcell_type: GRU\n",
            "\u001b[34m\u001b[1mwandb\u001b[0m: \tdrop_out_ratio: 0.2\n",
            "\u001b[34m\u001b[1mwandb\u001b[0m: \tembedding_size: 64\n",
            "\u001b[34m\u001b[1mwandb\u001b[0m: \tepochs: 25\n",
            "\u001b[34m\u001b[1mwandb\u001b[0m: \thidden_layer_size: 256\n",
            "\u001b[34m\u001b[1mwandb\u001b[0m: \tnum_decoder_layers: 1\n",
            "\u001b[34m\u001b[1mwandb\u001b[0m: \tnum_encoder_layers: 3\n",
            "\u001b[34m\u001b[1mwandb\u001b[0m: \toptimizer: rmsprop\n",
            "\u001b[34m\u001b[1mwandb\u001b[0m: \u001b[33mWARNING\u001b[0m Ignored wandb.init() arg project when running a sweep\n"
          ],
          "name": "stderr"
        },
        {
          "output_type": "display_data",
          "data": {
            "text/html": [
              "\n",
              "                Tracking run with wandb version 0.10.30<br/>\n",
              "                Syncing run <strong style=\"color:#cdcd00\">cool-sweep-24</strong> to <a href=\"https://wandb.ai\" target=\"_blank\">Weights & Biases</a> <a href=\"https://docs.wandb.com/integrations/jupyter.html\" target=\"_blank\">(Documentation)</a>.<br/>\n",
              "                Project page: <a href=\"https://wandb.ai/theindianwriter/CS6910-Assignment3\" target=\"_blank\">https://wandb.ai/theindianwriter/CS6910-Assignment3</a><br/>\n",
              "                Sweep page: <a href=\"https://wandb.ai/theindianwriter/CS6910-Assignment3/sweeps/nk5cbn8i\" target=\"_blank\">https://wandb.ai/theindianwriter/CS6910-Assignment3/sweeps/nk5cbn8i</a><br/>\n",
              "Run page: <a href=\"https://wandb.ai/theindianwriter/CS6910-Assignment3/runs/7wr1l4zx\" target=\"_blank\">https://wandb.ai/theindianwriter/CS6910-Assignment3/runs/7wr1l4zx</a><br/>\n",
              "                Run data is saved locally in <code>/content/wandb/run-20210522_170624-7wr1l4zx</code><br/><br/>\n",
              "            "
            ],
            "text/plain": [
              "<IPython.core.display.HTML object>"
            ]
          },
          "metadata": {
            "tags": []
          }
        },
        {
          "output_type": "stream",
          "text": [
            "Epoch 1/25\n",
            "622/622 [==============================] - 21s 23ms/step - loss: 1.1446 - accuracy: 0.7433 - val_loss: 0.8381 - val_accuracy: 0.7713\n",
            "Epoch 2/25\n",
            "622/622 [==============================] - 13s 21ms/step - loss: 0.7027 - accuracy: 0.8147 - val_loss: 0.6825 - val_accuracy: 0.8244\n",
            "Epoch 3/25\n",
            "622/622 [==============================] - 13s 20ms/step - loss: 0.5509 - accuracy: 0.8480 - val_loss: 0.6607 - val_accuracy: 0.8315\n",
            "Epoch 4/25\n",
            "622/622 [==============================] - 13s 20ms/step - loss: 0.4459 - accuracy: 0.8750 - val_loss: 0.5574 - val_accuracy: 0.8650\n",
            "Epoch 5/25\n",
            "622/622 [==============================] - 13s 20ms/step - loss: 0.3689 - accuracy: 0.8956 - val_loss: 0.5161 - val_accuracy: 0.8691\n",
            "Epoch 6/25\n",
            "622/622 [==============================] - 13s 21ms/step - loss: 0.3141 - accuracy: 0.9105 - val_loss: 0.4818 - val_accuracy: 0.8774\n",
            "Epoch 7/25\n",
            "622/622 [==============================] - 13s 21ms/step - loss: 0.2766 - accuracy: 0.9208 - val_loss: 0.4728 - val_accuracy: 0.8838\n",
            "Epoch 8/25\n",
            "622/622 [==============================] - 13s 20ms/step - loss: 0.2491 - accuracy: 0.9284 - val_loss: 0.4798 - val_accuracy: 0.8814\n",
            "Epoch 9/25\n",
            "622/622 [==============================] - 13s 20ms/step - loss: 0.2326 - accuracy: 0.9334 - val_loss: 0.4591 - val_accuracy: 0.8873\n",
            "Epoch 10/25\n",
            "622/622 [==============================] - 13s 21ms/step - loss: 0.2171 - accuracy: 0.9381 - val_loss: 0.4575 - val_accuracy: 0.8869\n",
            "Epoch 11/25\n",
            "622/622 [==============================] - 13s 21ms/step - loss: 0.2041 - accuracy: 0.9408 - val_loss: 0.4779 - val_accuracy: 0.8890\n",
            "Epoch 12/25\n",
            "622/622 [==============================] - 13s 20ms/step - loss: 0.1953 - accuracy: 0.9440 - val_loss: 0.4646 - val_accuracy: 0.8906\n",
            "Epoch 13/25\n",
            "622/622 [==============================] - 13s 20ms/step - loss: 0.1884 - accuracy: 0.9455 - val_loss: 0.5511 - val_accuracy: 0.8824\n",
            "Epoch 14/25\n",
            "622/622 [==============================] - 13s 21ms/step - loss: 0.1802 - accuracy: 0.9481 - val_loss: 0.4876 - val_accuracy: 0.8925\n",
            "Epoch 15/25\n",
            "622/622 [==============================] - 13s 21ms/step - loss: 0.1723 - accuracy: 0.9503 - val_loss: 0.4600 - val_accuracy: 0.8945\n",
            "Epoch 16/25\n",
            "622/622 [==============================] - 13s 21ms/step - loss: 0.1643 - accuracy: 0.9519 - val_loss: 0.5027 - val_accuracy: 0.8872\n",
            "Epoch 17/25\n",
            "622/622 [==============================] - 13s 21ms/step - loss: 0.1587 - accuracy: 0.9536 - val_loss: 0.5107 - val_accuracy: 0.8921\n",
            "Epoch 18/25\n",
            "622/622 [==============================] - 13s 21ms/step - loss: 0.1529 - accuracy: 0.9545 - val_loss: 0.5576 - val_accuracy: 0.8885\n",
            "Epoch 19/25\n",
            "622/622 [==============================] - 13s 21ms/step - loss: 0.1465 - accuracy: 0.9569 - val_loss: 0.5152 - val_accuracy: 0.8916\n",
            "Epoch 20/25\n",
            "622/622 [==============================] - 13s 21ms/step - loss: 0.1412 - accuracy: 0.9574 - val_loss: 0.5274 - val_accuracy: 0.8903\n",
            "Epoch 21/25\n",
            "622/622 [==============================] - 13s 21ms/step - loss: 0.1395 - accuracy: 0.9581 - val_loss: 0.5348 - val_accuracy: 0.8853\n",
            "Epoch 22/25\n",
            "622/622 [==============================] - 13s 21ms/step - loss: 0.1327 - accuracy: 0.9598 - val_loss: 0.5224 - val_accuracy: 0.8884\n",
            "Epoch 23/25\n",
            "622/622 [==============================] - 13s 21ms/step - loss: 0.1280 - accuracy: 0.9612 - val_loss: 0.5356 - val_accuracy: 0.8884\n",
            "Epoch 24/25\n",
            "622/622 [==============================] - 13s 21ms/step - loss: 0.1239 - accuracy: 0.9620 - val_loss: 0.5772 - val_accuracy: 0.8839\n",
            "Epoch 25/25\n",
            "622/622 [==============================] - 13s 21ms/step - loss: 0.1203 - accuracy: 0.9633 - val_loss: 0.5997 - val_accuracy: 0.8837\n"
          ],
          "name": "stdout"
        },
        {
          "output_type": "display_data",
          "data": {
            "text/html": [
              "<br/>Waiting for W&B process to finish, PID 119440<br/>Program ended successfully."
            ],
            "text/plain": [
              "<IPython.core.display.HTML object>"
            ]
          },
          "metadata": {
            "tags": []
          }
        },
        {
          "output_type": "display_data",
          "data": {
            "application/vnd.jupyter.widget-view+json": {
              "model_id": "84f28828cac443f9912176f822171384",
              "version_minor": 0,
              "version_major": 2
            },
            "text/plain": [
              "VBox(children=(Label(value=' 10.53MB of 10.53MB uploaded (0.00MB deduped)\\r'), FloatProgress(value=1.0, max=1.…"
            ]
          },
          "metadata": {
            "tags": []
          }
        },
        {
          "output_type": "display_data",
          "data": {
            "text/html": [
              "Find user logs for this run at: <code>/content/wandb/run-20210522_170624-7wr1l4zx/logs/debug.log</code>"
            ],
            "text/plain": [
              "<IPython.core.display.HTML object>"
            ]
          },
          "metadata": {
            "tags": []
          }
        },
        {
          "output_type": "display_data",
          "data": {
            "text/html": [
              "Find internal logs for this run at: <code>/content/wandb/run-20210522_170624-7wr1l4zx/logs/debug-internal.log</code>"
            ],
            "text/plain": [
              "<IPython.core.display.HTML object>"
            ]
          },
          "metadata": {
            "tags": []
          }
        },
        {
          "output_type": "display_data",
          "data": {
            "text/html": [
              "<h3>Run summary:</h3><br/><style>\n",
              "    table.wandb td:nth-child(1) { padding: 0 10px; text-align: right }\n",
              "    </style><table class=\"wandb\">\n",
              "<tr><td>epoch</td><td>24</td></tr><tr><td>loss</td><td>0.12347</td></tr><tr><td>accuracy</td><td>0.96217</td></tr><tr><td>val_loss</td><td>0.59969</td></tr><tr><td>val_accuracy</td><td>0.88367</td></tr><tr><td>_runtime</td><td>364</td></tr><tr><td>_timestamp</td><td>1621703548</td></tr><tr><td>_step</td><td>25</td></tr><tr><td>best_val_loss</td><td>0.45745</td></tr><tr><td>best_epoch</td><td>9</td></tr><tr><td>word_acc</td><td>38.0</td></tr></table>"
            ],
            "text/plain": [
              "<IPython.core.display.HTML object>"
            ]
          },
          "metadata": {
            "tags": []
          }
        },
        {
          "output_type": "display_data",
          "data": {
            "text/html": [
              "<h3>Run history:</h3><br/><style>\n",
              "    table.wandb td:nth-child(1) { padding: 0 10px; text-align: right }\n",
              "    </style><table class=\"wandb\">\n",
              "<tr><td>epoch</td><td>▁▁▂▂▂▂▃▃▃▄▄▄▅▅▅▅▆▆▆▇▇▇▇██</td></tr><tr><td>loss</td><td>█▆▅▄▃▃▂▂▂▂▂▂▂▂▁▁▁▁▁▁▁▁▁▁▁</td></tr><tr><td>accuracy</td><td>▁▃▄▅▆▆▇▇▇▇▇▇▇▇███████████</td></tr><tr><td>val_loss</td><td>█▅▅▃▂▁▁▁▁▁▁▁▃▂▁▂▂▃▂▂▂▂▂▃▄</td></tr><tr><td>val_accuracy</td><td>▁▄▄▆▇▇▇▇████▇███████▇██▇▇</td></tr><tr><td>_runtime</td><td>▁▁▂▂▂▂▃▃▃▃▄▄▄▄▅▅▅▅▆▆▆▇▇▇▇█</td></tr><tr><td>_timestamp</td><td>▁▁▂▂▂▂▃▃▃▃▄▄▄▄▅▅▅▅▆▆▆▇▇▇▇█</td></tr><tr><td>_step</td><td>▁▁▂▂▂▂▃▃▃▄▄▄▄▅▅▅▅▆▆▆▇▇▇▇██</td></tr><tr><td>word_acc</td><td>▁</td></tr></table><br/>"
            ],
            "text/plain": [
              "<IPython.core.display.HTML object>"
            ]
          },
          "metadata": {
            "tags": []
          }
        },
        {
          "output_type": "display_data",
          "data": {
            "text/html": [
              "Synced 5 W&B file(s), 1 media file(s), 0 artifact file(s) and 1 other file(s)"
            ],
            "text/plain": [
              "<IPython.core.display.HTML object>"
            ]
          },
          "metadata": {
            "tags": []
          }
        },
        {
          "output_type": "display_data",
          "data": {
            "text/html": [
              "\n",
              "                    <br/>Synced <strong style=\"color:#cdcd00\">cool-sweep-24</strong>: <a href=\"https://wandb.ai/theindianwriter/CS6910-Assignment3/runs/7wr1l4zx\" target=\"_blank\">https://wandb.ai/theindianwriter/CS6910-Assignment3/runs/7wr1l4zx</a><br/>\n",
              "                "
            ],
            "text/plain": [
              "<IPython.core.display.HTML object>"
            ]
          },
          "metadata": {
            "tags": []
          }
        },
        {
          "output_type": "stream",
          "text": [
            "\u001b[34m\u001b[1mwandb\u001b[0m: Agent Starting Run: 7x1o1jo4 with config:\n",
            "\u001b[34m\u001b[1mwandb\u001b[0m: \tbatch_size: 64\n",
            "\u001b[34m\u001b[1mwandb\u001b[0m: \tcell_type: GRU\n",
            "\u001b[34m\u001b[1mwandb\u001b[0m: \tdrop_out_ratio: 0.2\n",
            "\u001b[34m\u001b[1mwandb\u001b[0m: \tembedding_size: 64\n",
            "\u001b[34m\u001b[1mwandb\u001b[0m: \tepochs: 25\n",
            "\u001b[34m\u001b[1mwandb\u001b[0m: \thidden_layer_size: 256\n",
            "\u001b[34m\u001b[1mwandb\u001b[0m: \tnum_decoder_layers: 1\n",
            "\u001b[34m\u001b[1mwandb\u001b[0m: \tnum_encoder_layers: 3\n",
            "\u001b[34m\u001b[1mwandb\u001b[0m: \toptimizer: adam\n",
            "\u001b[34m\u001b[1mwandb\u001b[0m: \u001b[33mWARNING\u001b[0m Ignored wandb.init() arg project when running a sweep\n"
          ],
          "name": "stderr"
        },
        {
          "output_type": "display_data",
          "data": {
            "text/html": [
              "\n",
              "                Tracking run with wandb version 0.10.30<br/>\n",
              "                Syncing run <strong style=\"color:#cdcd00\">confused-sweep-25</strong> to <a href=\"https://wandb.ai\" target=\"_blank\">Weights & Biases</a> <a href=\"https://docs.wandb.com/integrations/jupyter.html\" target=\"_blank\">(Documentation)</a>.<br/>\n",
              "                Project page: <a href=\"https://wandb.ai/theindianwriter/CS6910-Assignment3\" target=\"_blank\">https://wandb.ai/theindianwriter/CS6910-Assignment3</a><br/>\n",
              "                Sweep page: <a href=\"https://wandb.ai/theindianwriter/CS6910-Assignment3/sweeps/nk5cbn8i\" target=\"_blank\">https://wandb.ai/theindianwriter/CS6910-Assignment3/sweeps/nk5cbn8i</a><br/>\n",
              "Run page: <a href=\"https://wandb.ai/theindianwriter/CS6910-Assignment3/runs/7x1o1jo4\" target=\"_blank\">https://wandb.ai/theindianwriter/CS6910-Assignment3/runs/7x1o1jo4</a><br/>\n",
              "                Run data is saved locally in <code>/content/wandb/run-20210522_171236-7x1o1jo4</code><br/><br/>\n",
              "            "
            ],
            "text/plain": [
              "<IPython.core.display.HTML object>"
            ]
          },
          "metadata": {
            "tags": []
          }
        },
        {
          "output_type": "stream",
          "text": [
            "Epoch 1/25\n",
            "622/622 [==============================] - 18s 21ms/step - loss: 1.3063 - accuracy: 0.7363 - val_loss: 0.8683 - val_accuracy: 0.7710\n",
            "Epoch 2/25\n",
            "622/622 [==============================] - 12s 19ms/step - loss: 0.7382 - accuracy: 0.8028 - val_loss: 0.8415 - val_accuracy: 0.8050\n",
            "Epoch 3/25\n",
            "622/622 [==============================] - 11s 18ms/step - loss: 0.6405 - accuracy: 0.8267 - val_loss: 0.7125 - val_accuracy: 0.8129\n",
            "Epoch 4/25\n",
            "622/622 [==============================] - 12s 19ms/step - loss: 0.5208 - accuracy: 0.8561 - val_loss: 0.6039 - val_accuracy: 0.8465\n",
            "Epoch 5/25\n",
            "622/622 [==============================] - 12s 19ms/step - loss: 0.4067 - accuracy: 0.8841 - val_loss: 0.5100 - val_accuracy: 0.8668\n",
            "Epoch 6/25\n",
            "622/622 [==============================] - 11s 18ms/step - loss: 0.3326 - accuracy: 0.9040 - val_loss: 0.5266 - val_accuracy: 0.8711\n",
            "Epoch 7/25\n",
            "622/622 [==============================] - 11s 18ms/step - loss: 0.2793 - accuracy: 0.9190 - val_loss: 0.4484 - val_accuracy: 0.8900\n",
            "Epoch 8/25\n",
            "622/622 [==============================] - 12s 19ms/step - loss: 0.2475 - accuracy: 0.9270 - val_loss: 0.4648 - val_accuracy: 0.8906\n",
            "Epoch 9/25\n",
            "622/622 [==============================] - 11s 18ms/step - loss: 0.2340 - accuracy: 0.9333 - val_loss: 0.4579 - val_accuracy: 0.8909\n",
            "Epoch 10/25\n",
            "622/622 [==============================] - 11s 18ms/step - loss: 0.2274 - accuracy: 0.9361 - val_loss: 0.4677 - val_accuracy: 0.8896\n",
            "Epoch 11/25\n",
            "622/622 [==============================] - 11s 18ms/step - loss: 0.1948 - accuracy: 0.9418 - val_loss: 0.4475 - val_accuracy: 0.8939\n",
            "Epoch 12/25\n",
            "622/622 [==============================] - 12s 19ms/step - loss: 0.1905 - accuracy: 0.9445 - val_loss: 0.4574 - val_accuracy: 0.8993\n",
            "Epoch 13/25\n",
            "622/622 [==============================] - 11s 18ms/step - loss: 0.1859 - accuracy: 0.9472 - val_loss: 0.4454 - val_accuracy: 0.8966\n",
            "Epoch 14/25\n",
            "622/622 [==============================] - 12s 19ms/step - loss: 0.1700 - accuracy: 0.9505 - val_loss: 0.4933 - val_accuracy: 0.8939\n",
            "Epoch 15/25\n",
            "622/622 [==============================] - 12s 19ms/step - loss: 0.1672 - accuracy: 0.9504 - val_loss: 0.4694 - val_accuracy: 0.8935\n",
            "Epoch 16/25\n",
            "622/622 [==============================] - 11s 18ms/step - loss: 0.1666 - accuracy: 0.9524 - val_loss: 0.5133 - val_accuracy: 0.8890\n",
            "Epoch 17/25\n",
            "622/622 [==============================] - 11s 18ms/step - loss: 0.1715 - accuracy: 0.9526 - val_loss: 0.4933 - val_accuracy: 0.8969\n",
            "Epoch 18/25\n",
            "622/622 [==============================] - 12s 19ms/step - loss: 0.1686 - accuracy: 0.9531 - val_loss: 0.5040 - val_accuracy: 0.8902\n",
            "Epoch 19/25\n",
            "622/622 [==============================] - 11s 18ms/step - loss: 0.1554 - accuracy: 0.9562 - val_loss: 0.5214 - val_accuracy: 0.8936\n",
            "Epoch 20/25\n",
            "622/622 [==============================] - 11s 18ms/step - loss: 0.1596 - accuracy: 0.9555 - val_loss: 0.5158 - val_accuracy: 0.8907\n",
            "Epoch 21/25\n",
            "622/622 [==============================] - 12s 19ms/step - loss: 0.1525 - accuracy: 0.9566 - val_loss: 0.5098 - val_accuracy: 0.8918\n",
            "Epoch 22/25\n",
            "622/622 [==============================] - 11s 18ms/step - loss: 0.1389 - accuracy: 0.9589 - val_loss: 0.5235 - val_accuracy: 0.8965\n",
            "Epoch 23/25\n",
            "622/622 [==============================] - 11s 18ms/step - loss: 0.1432 - accuracy: 0.9605 - val_loss: 0.5416 - val_accuracy: 0.8913\n",
            "Epoch 24/25\n",
            "622/622 [==============================] - 11s 18ms/step - loss: 0.1451 - accuracy: 0.9609 - val_loss: 0.5550 - val_accuracy: 0.8875\n",
            "Epoch 25/25\n",
            "622/622 [==============================] - 11s 18ms/step - loss: 0.1409 - accuracy: 0.9585 - val_loss: 0.5637 - val_accuracy: 0.8915\n"
          ],
          "name": "stdout"
        },
        {
          "output_type": "display_data",
          "data": {
            "text/html": [
              "<br/>Waiting for W&B process to finish, PID 121917<br/>Program ended successfully."
            ],
            "text/plain": [
              "<IPython.core.display.HTML object>"
            ]
          },
          "metadata": {
            "tags": []
          }
        },
        {
          "output_type": "display_data",
          "data": {
            "application/vnd.jupyter.widget-view+json": {
              "model_id": "f63aaae4dc214f0b9376e2125529019a",
              "version_minor": 0,
              "version_major": 2
            },
            "text/plain": [
              "VBox(children=(Label(value=' 15.76MB of 15.76MB uploaded (0.00MB deduped)\\r'), FloatProgress(value=1.0, max=1.…"
            ]
          },
          "metadata": {
            "tags": []
          }
        },
        {
          "output_type": "display_data",
          "data": {
            "text/html": [
              "Find user logs for this run at: <code>/content/wandb/run-20210522_171236-7x1o1jo4/logs/debug.log</code>"
            ],
            "text/plain": [
              "<IPython.core.display.HTML object>"
            ]
          },
          "metadata": {
            "tags": []
          }
        },
        {
          "output_type": "display_data",
          "data": {
            "text/html": [
              "Find internal logs for this run at: <code>/content/wandb/run-20210522_171236-7x1o1jo4/logs/debug-internal.log</code>"
            ],
            "text/plain": [
              "<IPython.core.display.HTML object>"
            ]
          },
          "metadata": {
            "tags": []
          }
        },
        {
          "output_type": "display_data",
          "data": {
            "text/html": [
              "<h3>Run summary:</h3><br/><style>\n",
              "    table.wandb td:nth-child(1) { padding: 0 10px; text-align: right }\n",
              "    </style><table class=\"wandb\">\n",
              "<tr><td>epoch</td><td>24</td></tr><tr><td>loss</td><td>0.13139</td></tr><tr><td>accuracy</td><td>0.96063</td></tr><tr><td>val_loss</td><td>0.56375</td></tr><tr><td>val_accuracy</td><td>0.89148</td></tr><tr><td>_runtime</td><td>329</td></tr><tr><td>_timestamp</td><td>1621703885</td></tr><tr><td>_step</td><td>25</td></tr><tr><td>best_val_loss</td><td>0.44545</td></tr><tr><td>best_epoch</td><td>12</td></tr><tr><td>word_acc</td><td>35.0</td></tr></table>"
            ],
            "text/plain": [
              "<IPython.core.display.HTML object>"
            ]
          },
          "metadata": {
            "tags": []
          }
        },
        {
          "output_type": "display_data",
          "data": {
            "text/html": [
              "<h3>Run history:</h3><br/><style>\n",
              "    table.wandb td:nth-child(1) { padding: 0 10px; text-align: right }\n",
              "    </style><table class=\"wandb\">\n",
              "<tr><td>epoch</td><td>▁▁▂▂▂▂▃▃▃▄▄▄▅▅▅▅▆▆▆▇▇▇▇██</td></tr><tr><td>loss</td><td>█▆▅▄▃▃▂▂▂▂▁▂▁▁▁▁▁▁▁▁▁▁▁▁▁</td></tr><tr><td>accuracy</td><td>▁▃▄▅▅▆▇▇▇▇▇▇█████████████</td></tr><tr><td>val_loss</td><td>██▅▄▂▂▁▁▁▁▁▁▁▂▁▂▂▂▂▂▂▂▃▃▃</td></tr><tr><td>val_accuracy</td><td>▁▃▃▅▆▆▇██▇█████▇█▇█████▇█</td></tr><tr><td>_runtime</td><td>▁▁▂▂▂▂▃▃▃▃▄▄▄▄▅▅▅▅▆▆▆▇▇▇▇█</td></tr><tr><td>_timestamp</td><td>▁▁▂▂▂▂▃▃▃▃▄▄▄▄▅▅▅▅▆▆▆▇▇▇▇█</td></tr><tr><td>_step</td><td>▁▁▂▂▂▂▃▃▃▄▄▄▄▅▅▅▅▆▆▆▇▇▇▇██</td></tr><tr><td>word_acc</td><td>▁</td></tr></table><br/>"
            ],
            "text/plain": [
              "<IPython.core.display.HTML object>"
            ]
          },
          "metadata": {
            "tags": []
          }
        },
        {
          "output_type": "display_data",
          "data": {
            "text/html": [
              "Synced 5 W&B file(s), 1 media file(s), 0 artifact file(s) and 1 other file(s)"
            ],
            "text/plain": [
              "<IPython.core.display.HTML object>"
            ]
          },
          "metadata": {
            "tags": []
          }
        },
        {
          "output_type": "display_data",
          "data": {
            "text/html": [
              "\n",
              "                    <br/>Synced <strong style=\"color:#cdcd00\">confused-sweep-25</strong>: <a href=\"https://wandb.ai/theindianwriter/CS6910-Assignment3/runs/7x1o1jo4\" target=\"_blank\">https://wandb.ai/theindianwriter/CS6910-Assignment3/runs/7x1o1jo4</a><br/>\n",
              "                "
            ],
            "text/plain": [
              "<IPython.core.display.HTML object>"
            ]
          },
          "metadata": {
            "tags": []
          }
        },
        {
          "output_type": "stream",
          "text": [
            "\u001b[34m\u001b[1mwandb\u001b[0m: Agent Starting Run: i1kmn8wj with config:\n",
            "\u001b[34m\u001b[1mwandb\u001b[0m: \tbatch_size: 64\n",
            "\u001b[34m\u001b[1mwandb\u001b[0m: \tcell_type: GRU\n",
            "\u001b[34m\u001b[1mwandb\u001b[0m: \tdrop_out_ratio: 0.4\n",
            "\u001b[34m\u001b[1mwandb\u001b[0m: \tembedding_size: 64\n",
            "\u001b[34m\u001b[1mwandb\u001b[0m: \tepochs: 25\n",
            "\u001b[34m\u001b[1mwandb\u001b[0m: \thidden_layer_size: 256\n",
            "\u001b[34m\u001b[1mwandb\u001b[0m: \tnum_decoder_layers: 1\n",
            "\u001b[34m\u001b[1mwandb\u001b[0m: \tnum_encoder_layers: 3\n",
            "\u001b[34m\u001b[1mwandb\u001b[0m: \toptimizer: adam\n",
            "\u001b[34m\u001b[1mwandb\u001b[0m: \u001b[33mWARNING\u001b[0m Ignored wandb.init() arg project when running a sweep\n"
          ],
          "name": "stderr"
        },
        {
          "output_type": "display_data",
          "data": {
            "text/html": [
              "\n",
              "                Tracking run with wandb version 0.10.30<br/>\n",
              "                Syncing run <strong style=\"color:#cdcd00\">splendid-sweep-26</strong> to <a href=\"https://wandb.ai\" target=\"_blank\">Weights & Biases</a> <a href=\"https://docs.wandb.com/integrations/jupyter.html\" target=\"_blank\">(Documentation)</a>.<br/>\n",
              "                Project page: <a href=\"https://wandb.ai/theindianwriter/CS6910-Assignment3\" target=\"_blank\">https://wandb.ai/theindianwriter/CS6910-Assignment3</a><br/>\n",
              "                Sweep page: <a href=\"https://wandb.ai/theindianwriter/CS6910-Assignment3/sweeps/nk5cbn8i\" target=\"_blank\">https://wandb.ai/theindianwriter/CS6910-Assignment3/sweeps/nk5cbn8i</a><br/>\n",
              "Run page: <a href=\"https://wandb.ai/theindianwriter/CS6910-Assignment3/runs/i1kmn8wj\" target=\"_blank\">https://wandb.ai/theindianwriter/CS6910-Assignment3/runs/i1kmn8wj</a><br/>\n",
              "                Run data is saved locally in <code>/content/wandb/run-20210522_171814-i1kmn8wj</code><br/><br/>\n",
              "            "
            ],
            "text/plain": [
              "<IPython.core.display.HTML object>"
            ]
          },
          "metadata": {
            "tags": []
          }
        },
        {
          "output_type": "stream",
          "text": [
            "Epoch 1/25\n",
            "622/622 [==============================] - 19s 21ms/step - loss: 1.3218 - accuracy: 0.7281 - val_loss: 0.8897 - val_accuracy: 0.7685\n",
            "Epoch 2/25\n",
            "622/622 [==============================] - 12s 19ms/step - loss: 0.8305 - accuracy: 0.7828 - val_loss: 0.8158 - val_accuracy: 0.7886\n",
            "Epoch 3/25\n",
            "622/622 [==============================] - 12s 19ms/step - loss: 0.7003 - accuracy: 0.8096 - val_loss: 0.7729 - val_accuracy: 0.8039\n",
            "Epoch 4/25\n",
            "622/622 [==============================] - 12s 19ms/step - loss: 0.6272 - accuracy: 0.8280 - val_loss: 0.6279 - val_accuracy: 0.8333\n",
            "Epoch 5/25\n",
            "622/622 [==============================] - 12s 19ms/step - loss: 0.5159 - accuracy: 0.8524 - val_loss: 0.5559 - val_accuracy: 0.8461\n",
            "Epoch 6/25\n",
            "622/622 [==============================] - 11s 18ms/step - loss: 0.4397 - accuracy: 0.8712 - val_loss: 0.5194 - val_accuracy: 0.8573\n",
            "Epoch 7/25\n",
            "622/622 [==============================] - 11s 18ms/step - loss: 0.3989 - accuracy: 0.8852 - val_loss: 0.5122 - val_accuracy: 0.8643\n",
            "Epoch 8/25\n",
            "622/622 [==============================] - 11s 18ms/step - loss: 0.3597 - accuracy: 0.8962 - val_loss: 0.5015 - val_accuracy: 0.8661\n",
            "Epoch 9/25\n",
            "622/622 [==============================] - 11s 18ms/step - loss: 0.3223 - accuracy: 0.9052 - val_loss: 0.4417 - val_accuracy: 0.8773\n",
            "Epoch 10/25\n",
            "622/622 [==============================] - 12s 19ms/step - loss: 0.2908 - accuracy: 0.9121 - val_loss: 0.4732 - val_accuracy: 0.8727\n",
            "Epoch 11/25\n",
            "622/622 [==============================] - 12s 19ms/step - loss: 0.2845 - accuracy: 0.9170 - val_loss: 0.4598 - val_accuracy: 0.8762\n",
            "Epoch 12/25\n",
            "622/622 [==============================] - 12s 19ms/step - loss: 0.2704 - accuracy: 0.9210 - val_loss: 0.4370 - val_accuracy: 0.8805\n",
            "Epoch 13/25\n",
            "622/622 [==============================] - 12s 19ms/step - loss: 0.2574 - accuracy: 0.9251 - val_loss: 0.4486 - val_accuracy: 0.8805\n",
            "Epoch 14/25\n",
            "622/622 [==============================] - 11s 18ms/step - loss: 0.2327 - accuracy: 0.9283 - val_loss: 0.4552 - val_accuracy: 0.8831\n",
            "Epoch 15/25\n",
            "622/622 [==============================] - 11s 18ms/step - loss: 0.2319 - accuracy: 0.9311 - val_loss: 0.4613 - val_accuracy: 0.8780\n",
            "Epoch 16/25\n",
            "622/622 [==============================] - 11s 18ms/step - loss: 0.2172 - accuracy: 0.9337 - val_loss: 0.4783 - val_accuracy: 0.8791\n",
            "Epoch 17/25\n",
            "622/622 [==============================] - 12s 18ms/step - loss: 0.2239 - accuracy: 0.9343 - val_loss: 0.4599 - val_accuracy: 0.8818\n",
            "Epoch 18/25\n",
            "622/622 [==============================] - 12s 19ms/step - loss: 0.2098 - accuracy: 0.9369 - val_loss: 0.4780 - val_accuracy: 0.8844\n",
            "Epoch 19/25\n",
            "622/622 [==============================] - 12s 19ms/step - loss: 0.2014 - accuracy: 0.9391 - val_loss: 0.5073 - val_accuracy: 0.8817\n",
            "Epoch 20/25\n",
            "622/622 [==============================] - 11s 18ms/step - loss: 0.2272 - accuracy: 0.9361 - val_loss: 0.4882 - val_accuracy: 0.8811\n",
            "Epoch 21/25\n",
            "622/622 [==============================] - 12s 19ms/step - loss: 0.1922 - accuracy: 0.9413 - val_loss: 0.4837 - val_accuracy: 0.8783\n",
            "Epoch 22/25\n",
            "622/622 [==============================] - 11s 18ms/step - loss: 0.1991 - accuracy: 0.9418 - val_loss: 0.4969 - val_accuracy: 0.8814\n",
            "Epoch 23/25\n",
            "622/622 [==============================] - 11s 18ms/step - loss: 0.2132 - accuracy: 0.9396 - val_loss: 0.5169 - val_accuracy: 0.8744\n",
            "Epoch 24/25\n",
            "622/622 [==============================] - 12s 19ms/step - loss: 0.2331 - accuracy: 0.9336 - val_loss: 0.5232 - val_accuracy: 0.8796\n",
            "Epoch 25/25\n",
            "622/622 [==============================] - 11s 18ms/step - loss: 0.2098 - accuracy: 0.9414 - val_loss: 0.5255 - val_accuracy: 0.8774\n"
          ],
          "name": "stdout"
        },
        {
          "output_type": "display_data",
          "data": {
            "text/html": [
              "<br/>Waiting for W&B process to finish, PID 124350<br/>Program ended successfully."
            ],
            "text/plain": [
              "<IPython.core.display.HTML object>"
            ]
          },
          "metadata": {
            "tags": []
          }
        },
        {
          "output_type": "display_data",
          "data": {
            "application/vnd.jupyter.widget-view+json": {
              "model_id": "00f195099e9f4b129ccf6374abfe34c2",
              "version_minor": 0,
              "version_major": 2
            },
            "text/plain": [
              "VBox(children=(Label(value=' 15.76MB of 15.76MB uploaded (0.00MB deduped)\\r'), FloatProgress(value=1.0, max=1.…"
            ]
          },
          "metadata": {
            "tags": []
          }
        },
        {
          "output_type": "display_data",
          "data": {
            "text/html": [
              "Find user logs for this run at: <code>/content/wandb/run-20210522_171814-i1kmn8wj/logs/debug.log</code>"
            ],
            "text/plain": [
              "<IPython.core.display.HTML object>"
            ]
          },
          "metadata": {
            "tags": []
          }
        },
        {
          "output_type": "display_data",
          "data": {
            "text/html": [
              "Find internal logs for this run at: <code>/content/wandb/run-20210522_171814-i1kmn8wj/logs/debug-internal.log</code>"
            ],
            "text/plain": [
              "<IPython.core.display.HTML object>"
            ]
          },
          "metadata": {
            "tags": []
          }
        },
        {
          "output_type": "display_data",
          "data": {
            "text/html": [
              "<h3>Run summary:</h3><br/><style>\n",
              "    table.wandb td:nth-child(1) { padding: 0 10px; text-align: right }\n",
              "    </style><table class=\"wandb\">\n",
              "<tr><td>epoch</td><td>24</td></tr><tr><td>loss</td><td>0.21481</td></tr><tr><td>accuracy</td><td>0.93938</td></tr><tr><td>val_loss</td><td>0.52554</td></tr><tr><td>val_accuracy</td><td>0.87745</td></tr><tr><td>_runtime</td><td>331</td></tr><tr><td>_timestamp</td><td>1621704225</td></tr><tr><td>_step</td><td>25</td></tr><tr><td>best_val_loss</td><td>0.43697</td></tr><tr><td>best_epoch</td><td>11</td></tr><tr><td>word_acc</td><td>26.0</td></tr></table>"
            ],
            "text/plain": [
              "<IPython.core.display.HTML object>"
            ]
          },
          "metadata": {
            "tags": []
          }
        },
        {
          "output_type": "display_data",
          "data": {
            "text/html": [
              "<h3>Run history:</h3><br/><style>\n",
              "    table.wandb td:nth-child(1) { padding: 0 10px; text-align: right }\n",
              "    </style><table class=\"wandb\">\n",
              "<tr><td>epoch</td><td>▁▁▂▂▂▂▃▃▃▄▄▄▅▅▅▅▆▆▆▇▇▇▇██</td></tr><tr><td>loss</td><td>█▆▅▄▄▃▃▂▂▂▂▂▁▁▁▁▁▁▁▁▁▁▁▁▁</td></tr><tr><td>accuracy</td><td>▁▂▃▄▅▆▆▆▇▇▇▇▇████████████</td></tr><tr><td>val_loss</td><td>█▇▆▄▃▂▂▂▁▂▁▁▁▁▁▂▁▂▂▂▂▂▂▂▂</td></tr><tr><td>val_accuracy</td><td>▁▂▃▅▆▆▇▇█▇████████████▇██</td></tr><tr><td>_runtime</td><td>▁▁▂▂▂▂▃▃▃▃▄▄▄▄▅▅▅▅▆▆▆▇▇▇▇█</td></tr><tr><td>_timestamp</td><td>▁▁▂▂▂▂▃▃▃▃▄▄▄▄▅▅▅▅▆▆▆▇▇▇▇█</td></tr><tr><td>_step</td><td>▁▁▂▂▂▂▃▃▃▄▄▄▄▅▅▅▅▆▆▆▇▇▇▇██</td></tr><tr><td>word_acc</td><td>▁</td></tr></table><br/>"
            ],
            "text/plain": [
              "<IPython.core.display.HTML object>"
            ]
          },
          "metadata": {
            "tags": []
          }
        },
        {
          "output_type": "display_data",
          "data": {
            "text/html": [
              "Synced 5 W&B file(s), 1 media file(s), 0 artifact file(s) and 1 other file(s)"
            ],
            "text/plain": [
              "<IPython.core.display.HTML object>"
            ]
          },
          "metadata": {
            "tags": []
          }
        },
        {
          "output_type": "display_data",
          "data": {
            "text/html": [
              "\n",
              "                    <br/>Synced <strong style=\"color:#cdcd00\">splendid-sweep-26</strong>: <a href=\"https://wandb.ai/theindianwriter/CS6910-Assignment3/runs/i1kmn8wj\" target=\"_blank\">https://wandb.ai/theindianwriter/CS6910-Assignment3/runs/i1kmn8wj</a><br/>\n",
              "                "
            ],
            "text/plain": [
              "<IPython.core.display.HTML object>"
            ]
          },
          "metadata": {
            "tags": []
          }
        },
        {
          "output_type": "stream",
          "text": [
            "\u001b[34m\u001b[1mwandb\u001b[0m: Agent Starting Run: b70sd786 with config:\n",
            "\u001b[34m\u001b[1mwandb\u001b[0m: \tbatch_size: 64\n",
            "\u001b[34m\u001b[1mwandb\u001b[0m: \tcell_type: GRU\n",
            "\u001b[34m\u001b[1mwandb\u001b[0m: \tdrop_out_ratio: 0.2\n",
            "\u001b[34m\u001b[1mwandb\u001b[0m: \tembedding_size: 64\n",
            "\u001b[34m\u001b[1mwandb\u001b[0m: \tepochs: 25\n",
            "\u001b[34m\u001b[1mwandb\u001b[0m: \thidden_layer_size: 128\n",
            "\u001b[34m\u001b[1mwandb\u001b[0m: \tnum_decoder_layers: 1\n",
            "\u001b[34m\u001b[1mwandb\u001b[0m: \tnum_encoder_layers: 3\n",
            "\u001b[34m\u001b[1mwandb\u001b[0m: \toptimizer: rmsprop\n",
            "\u001b[34m\u001b[1mwandb\u001b[0m: \u001b[33mWARNING\u001b[0m Ignored wandb.init() arg project when running a sweep\n"
          ],
          "name": "stderr"
        },
        {
          "output_type": "display_data",
          "data": {
            "text/html": [
              "\n",
              "                Tracking run with wandb version 0.10.30<br/>\n",
              "                Syncing run <strong style=\"color:#cdcd00\">chocolate-sweep-27</strong> to <a href=\"https://wandb.ai\" target=\"_blank\">Weights & Biases</a> <a href=\"https://docs.wandb.com/integrations/jupyter.html\" target=\"_blank\">(Documentation)</a>.<br/>\n",
              "                Project page: <a href=\"https://wandb.ai/theindianwriter/CS6910-Assignment3\" target=\"_blank\">https://wandb.ai/theindianwriter/CS6910-Assignment3</a><br/>\n",
              "                Sweep page: <a href=\"https://wandb.ai/theindianwriter/CS6910-Assignment3/sweeps/nk5cbn8i\" target=\"_blank\">https://wandb.ai/theindianwriter/CS6910-Assignment3/sweeps/nk5cbn8i</a><br/>\n",
              "Run page: <a href=\"https://wandb.ai/theindianwriter/CS6910-Assignment3/runs/b70sd786\" target=\"_blank\">https://wandb.ai/theindianwriter/CS6910-Assignment3/runs/b70sd786</a><br/>\n",
              "                Run data is saved locally in <code>/content/wandb/run-20210522_172353-b70sd786</code><br/><br/>\n",
              "            "
            ],
            "text/plain": [
              "<IPython.core.display.HTML object>"
            ]
          },
          "metadata": {
            "tags": []
          }
        },
        {
          "output_type": "stream",
          "text": [
            "Epoch 1/25\n",
            "622/622 [==============================] - 19s 21ms/step - loss: 1.2162 - accuracy: 0.7372 - val_loss: 0.8928 - val_accuracy: 0.7732\n",
            "Epoch 2/25\n",
            "622/622 [==============================] - 12s 19ms/step - loss: 0.8031 - accuracy: 0.7913 - val_loss: 0.8350 - val_accuracy: 0.7774\n",
            "Epoch 3/25\n",
            "622/622 [==============================] - 12s 19ms/step - loss: 0.7218 - accuracy: 0.8083 - val_loss: 0.7536 - val_accuracy: 0.8034\n",
            "Epoch 4/25\n",
            "622/622 [==============================] - 12s 19ms/step - loss: 0.6424 - accuracy: 0.8273 - val_loss: 0.6912 - val_accuracy: 0.8208\n",
            "Epoch 5/25\n",
            "622/622 [==============================] - 12s 19ms/step - loss: 0.5771 - accuracy: 0.8413 - val_loss: 0.6364 - val_accuracy: 0.8333\n",
            "Epoch 6/25\n",
            "622/622 [==============================] - 12s 19ms/step - loss: 0.5277 - accuracy: 0.8540 - val_loss: 0.6521 - val_accuracy: 0.8354\n",
            "Epoch 7/25\n",
            "622/622 [==============================] - 12s 19ms/step - loss: 0.4844 - accuracy: 0.8642 - val_loss: 0.5762 - val_accuracy: 0.8537\n",
            "Epoch 8/25\n",
            "622/622 [==============================] - 12s 19ms/step - loss: 0.4457 - accuracy: 0.8737 - val_loss: 0.5812 - val_accuracy: 0.8553\n",
            "Epoch 9/25\n",
            "622/622 [==============================] - 12s 19ms/step - loss: 0.4110 - accuracy: 0.8838 - val_loss: 0.5400 - val_accuracy: 0.8698\n",
            "Epoch 10/25\n",
            "622/622 [==============================] - 12s 19ms/step - loss: 0.3800 - accuracy: 0.8923 - val_loss: 0.4982 - val_accuracy: 0.8713\n",
            "Epoch 11/25\n",
            "622/622 [==============================] - 11s 18ms/step - loss: 0.3531 - accuracy: 0.8998 - val_loss: 0.5181 - val_accuracy: 0.8731\n",
            "Epoch 12/25\n",
            "622/622 [==============================] - 12s 19ms/step - loss: 0.3330 - accuracy: 0.9051 - val_loss: 0.4815 - val_accuracy: 0.8814\n",
            "Epoch 13/25\n",
            "622/622 [==============================] - 12s 19ms/step - loss: 0.3158 - accuracy: 0.9104 - val_loss: 0.4832 - val_accuracy: 0.8812\n",
            "Epoch 14/25\n",
            "622/622 [==============================] - 12s 19ms/step - loss: 0.2981 - accuracy: 0.9150 - val_loss: 0.4771 - val_accuracy: 0.8830\n",
            "Epoch 15/25\n",
            "622/622 [==============================] - 12s 19ms/step - loss: 0.2862 - accuracy: 0.9186 - val_loss: 0.4482 - val_accuracy: 0.8879\n",
            "Epoch 16/25\n",
            "622/622 [==============================] - 12s 19ms/step - loss: 0.2744 - accuracy: 0.9214 - val_loss: 0.4545 - val_accuracy: 0.8894\n",
            "Epoch 17/25\n",
            "622/622 [==============================] - 12s 19ms/step - loss: 0.2663 - accuracy: 0.9242 - val_loss: 0.5020 - val_accuracy: 0.8804\n",
            "Epoch 18/25\n",
            "622/622 [==============================] - 12s 19ms/step - loss: 0.2558 - accuracy: 0.9268 - val_loss: 0.4463 - val_accuracy: 0.8935\n",
            "Epoch 19/25\n",
            "622/622 [==============================] - 12s 19ms/step - loss: 0.2483 - accuracy: 0.9288 - val_loss: 0.4296 - val_accuracy: 0.8886\n",
            "Epoch 20/25\n",
            "622/622 [==============================] - 12s 19ms/step - loss: 0.2429 - accuracy: 0.9304 - val_loss: 0.4846 - val_accuracy: 0.8796\n",
            "Epoch 21/25\n",
            "622/622 [==============================] - 11s 18ms/step - loss: 0.2338 - accuracy: 0.9328 - val_loss: 0.4467 - val_accuracy: 0.8897\n",
            "Epoch 22/25\n",
            "622/622 [==============================] - 12s 19ms/step - loss: 0.2319 - accuracy: 0.9337 - val_loss: 0.4382 - val_accuracy: 0.8889\n",
            "Epoch 23/25\n",
            "622/622 [==============================] - 12s 19ms/step - loss: 0.2230 - accuracy: 0.9357 - val_loss: 0.4251 - val_accuracy: 0.8936\n",
            "Epoch 24/25\n",
            "622/622 [==============================] - 12s 19ms/step - loss: 0.2188 - accuracy: 0.9371 - val_loss: 0.4802 - val_accuracy: 0.8921\n",
            "Epoch 25/25\n",
            "622/622 [==============================] - 12s 19ms/step - loss: 0.2162 - accuracy: 0.9380 - val_loss: 0.4416 - val_accuracy: 0.8922\n"
          ],
          "name": "stdout"
        },
        {
          "output_type": "display_data",
          "data": {
            "text/html": [
              "<br/>Waiting for W&B process to finish, PID 126900<br/>Program ended successfully."
            ],
            "text/plain": [
              "<IPython.core.display.HTML object>"
            ]
          },
          "metadata": {
            "tags": []
          }
        },
        {
          "output_type": "display_data",
          "data": {
            "application/vnd.jupyter.widget-view+json": {
              "model_id": "5af4678bbdc64c5bb00c7c3af0127c52",
              "version_minor": 0,
              "version_major": 2
            },
            "text/plain": [
              "VBox(children=(Label(value=' 3.05MB of 3.05MB uploaded (0.00MB deduped)\\r'), FloatProgress(value=1.0, max=1.0)…"
            ]
          },
          "metadata": {
            "tags": []
          }
        },
        {
          "output_type": "display_data",
          "data": {
            "text/html": [
              "Find user logs for this run at: <code>/content/wandb/run-20210522_172353-b70sd786/logs/debug.log</code>"
            ],
            "text/plain": [
              "<IPython.core.display.HTML object>"
            ]
          },
          "metadata": {
            "tags": []
          }
        },
        {
          "output_type": "display_data",
          "data": {
            "text/html": [
              "Find internal logs for this run at: <code>/content/wandb/run-20210522_172353-b70sd786/logs/debug-internal.log</code>"
            ],
            "text/plain": [
              "<IPython.core.display.HTML object>"
            ]
          },
          "metadata": {
            "tags": []
          }
        },
        {
          "output_type": "display_data",
          "data": {
            "text/html": [
              "<h3>Run summary:</h3><br/><style>\n",
              "    table.wandb td:nth-child(1) { padding: 0 10px; text-align: right }\n",
              "    </style><table class=\"wandb\">\n",
              "<tr><td>epoch</td><td>24</td></tr><tr><td>loss</td><td>0.21624</td></tr><tr><td>accuracy</td><td>0.93797</td></tr><tr><td>val_loss</td><td>0.44163</td></tr><tr><td>val_accuracy</td><td>0.89221</td></tr><tr><td>_runtime</td><td>335</td></tr><tr><td>_timestamp</td><td>1621704568</td></tr><tr><td>_step</td><td>25</td></tr><tr><td>best_val_loss</td><td>0.4251</td></tr><tr><td>best_epoch</td><td>22</td></tr><tr><td>word_acc</td><td>16.0</td></tr></table>"
            ],
            "text/plain": [
              "<IPython.core.display.HTML object>"
            ]
          },
          "metadata": {
            "tags": []
          }
        },
        {
          "output_type": "display_data",
          "data": {
            "text/html": [
              "<h3>Run history:</h3><br/><style>\n",
              "    table.wandb td:nth-child(1) { padding: 0 10px; text-align: right }\n",
              "    </style><table class=\"wandb\">\n",
              "<tr><td>epoch</td><td>▁▁▂▂▂▂▃▃▃▄▄▄▅▅▅▅▆▆▆▇▇▇▇██</td></tr><tr><td>loss</td><td>█▆▅▅▄▄▃▃▃▂▂▂▂▂▂▂▁▁▁▁▁▁▁▁▁</td></tr><tr><td>accuracy</td><td>▁▂▃▄▄▅▅▆▆▆▇▇▇▇▇▇▇████████</td></tr><tr><td>val_loss</td><td>█▇▆▅▄▄▃▃▃▂▂▂▂▂▁▁▂▁▁▂▁▁▁▂▁</td></tr><tr><td>val_accuracy</td><td>▁▁▃▄▄▅▆▆▇▇▇▇▇▇██▇██▇█████</td></tr><tr><td>_runtime</td><td>▁▁▂▂▂▂▃▃▃▃▄▄▄▄▅▅▅▅▆▆▆▆▇▇▇█</td></tr><tr><td>_timestamp</td><td>▁▁▂▂▂▂▃▃▃▃▄▄▄▄▅▅▅▅▆▆▆▆▇▇▇█</td></tr><tr><td>_step</td><td>▁▁▂▂▂▂▃▃▃▄▄▄▄▅▅▅▅▆▆▆▇▇▇▇██</td></tr><tr><td>word_acc</td><td>▁</td></tr></table><br/>"
            ],
            "text/plain": [
              "<IPython.core.display.HTML object>"
            ]
          },
          "metadata": {
            "tags": []
          }
        },
        {
          "output_type": "display_data",
          "data": {
            "text/html": [
              "Synced 5 W&B file(s), 1 media file(s), 0 artifact file(s) and 1 other file(s)"
            ],
            "text/plain": [
              "<IPython.core.display.HTML object>"
            ]
          },
          "metadata": {
            "tags": []
          }
        },
        {
          "output_type": "display_data",
          "data": {
            "text/html": [
              "\n",
              "                    <br/>Synced <strong style=\"color:#cdcd00\">chocolate-sweep-27</strong>: <a href=\"https://wandb.ai/theindianwriter/CS6910-Assignment3/runs/b70sd786\" target=\"_blank\">https://wandb.ai/theindianwriter/CS6910-Assignment3/runs/b70sd786</a><br/>\n",
              "                "
            ],
            "text/plain": [
              "<IPython.core.display.HTML object>"
            ]
          },
          "metadata": {
            "tags": []
          }
        },
        {
          "output_type": "stream",
          "text": [
            "\u001b[34m\u001b[1mwandb\u001b[0m: Agent Starting Run: ienpnw2s with config:\n",
            "\u001b[34m\u001b[1mwandb\u001b[0m: \tbatch_size: 64\n",
            "\u001b[34m\u001b[1mwandb\u001b[0m: \tcell_type: SimpleRNN\n",
            "\u001b[34m\u001b[1mwandb\u001b[0m: \tdrop_out_ratio: 0.2\n",
            "\u001b[34m\u001b[1mwandb\u001b[0m: \tembedding_size: 64\n",
            "\u001b[34m\u001b[1mwandb\u001b[0m: \tepochs: 25\n",
            "\u001b[34m\u001b[1mwandb\u001b[0m: \thidden_layer_size: 256\n",
            "\u001b[34m\u001b[1mwandb\u001b[0m: \tnum_decoder_layers: 1\n",
            "\u001b[34m\u001b[1mwandb\u001b[0m: \tnum_encoder_layers: 3\n",
            "\u001b[34m\u001b[1mwandb\u001b[0m: \toptimizer: adam\n",
            "\u001b[34m\u001b[1mwandb\u001b[0m: \u001b[33mWARNING\u001b[0m Ignored wandb.init() arg project when running a sweep\n"
          ],
          "name": "stderr"
        },
        {
          "output_type": "display_data",
          "data": {
            "text/html": [
              "\n",
              "                Tracking run with wandb version 0.10.30<br/>\n",
              "                Syncing run <strong style=\"color:#cdcd00\">young-sweep-28</strong> to <a href=\"https://wandb.ai\" target=\"_blank\">Weights & Biases</a> <a href=\"https://docs.wandb.com/integrations/jupyter.html\" target=\"_blank\">(Documentation)</a>.<br/>\n",
              "                Project page: <a href=\"https://wandb.ai/theindianwriter/CS6910-Assignment3\" target=\"_blank\">https://wandb.ai/theindianwriter/CS6910-Assignment3</a><br/>\n",
              "                Sweep page: <a href=\"https://wandb.ai/theindianwriter/CS6910-Assignment3/sweeps/nk5cbn8i\" target=\"_blank\">https://wandb.ai/theindianwriter/CS6910-Assignment3/sweeps/nk5cbn8i</a><br/>\n",
              "Run page: <a href=\"https://wandb.ai/theindianwriter/CS6910-Assignment3/runs/ienpnw2s\" target=\"_blank\">https://wandb.ai/theindianwriter/CS6910-Assignment3/runs/ienpnw2s</a><br/>\n",
              "                Run data is saved locally in <code>/content/wandb/run-20210522_172936-ienpnw2s</code><br/><br/>\n",
              "            "
            ],
            "text/plain": [
              "<IPython.core.display.HTML object>"
            ]
          },
          "metadata": {
            "tags": []
          }
        },
        {
          "output_type": "stream",
          "text": [
            "Epoch 1/25\n",
            "622/622 [==============================] - 71s 110ms/step - loss: 1.1715 - accuracy: 0.7321 - val_loss: 0.9393 - val_accuracy: 0.7649\n",
            "Epoch 2/25\n",
            "622/622 [==============================] - 69s 110ms/step - loss: 0.9203 - accuracy: 0.7679 - val_loss: 0.9520 - val_accuracy: 0.7680\n",
            "Epoch 3/25\n",
            "622/622 [==============================] - 68s 110ms/step - loss: 0.8762 - accuracy: 0.7744 - val_loss: 1.0440 - val_accuracy: 0.7487\n",
            "Epoch 4/25\n",
            "622/622 [==============================] - 68s 110ms/step - loss: 0.8635 - accuracy: 0.7758 - val_loss: 0.9758 - val_accuracy: 0.7624\n",
            "Epoch 5/25\n",
            "622/622 [==============================] - 70s 113ms/step - loss: 0.8551 - accuracy: 0.7765 - val_loss: 0.9688 - val_accuracy: 0.7637\n",
            "Epoch 6/25\n",
            "622/622 [==============================] - 70s 112ms/step - loss: 0.8476 - accuracy: 0.7777 - val_loss: 0.9716 - val_accuracy: 0.7636\n",
            "Epoch 7/25\n",
            "622/622 [==============================] - 69s 112ms/step - loss: 0.8383 - accuracy: 0.7785 - val_loss: 0.9648 - val_accuracy: 0.7662\n",
            "Epoch 8/25\n",
            "622/622 [==============================] - 70s 113ms/step - loss: 0.8496 - accuracy: 0.7748 - val_loss: 1.0143 - val_accuracy: 0.7587\n",
            "Epoch 9/25\n",
            "622/622 [==============================] - 69s 112ms/step - loss: 0.8775 - accuracy: 0.7741 - val_loss: 1.0222 - val_accuracy: 0.7615\n",
            "Epoch 10/25\n",
            "622/622 [==============================] - 70s 113ms/step - loss: 0.8826 - accuracy: 0.7725 - val_loss: 1.0207 - val_accuracy: 0.7620\n",
            "Epoch 11/25\n",
            "622/622 [==============================] - 70s 113ms/step - loss: 0.8606 - accuracy: 0.7757 - val_loss: 1.0405 - val_accuracy: 0.7635\n",
            "Epoch 12/25\n",
            "622/622 [==============================] - 71s 114ms/step - loss: 0.8505 - accuracy: 0.7776 - val_loss: 1.0216 - val_accuracy: 0.7634\n",
            "Epoch 13/25\n",
            "622/622 [==============================] - 70s 113ms/step - loss: 0.8516 - accuracy: 0.7771 - val_loss: 1.0184 - val_accuracy: 0.7637\n",
            "Epoch 14/25\n",
            "622/622 [==============================] - 71s 114ms/step - loss: 0.8414 - accuracy: 0.7775 - val_loss: 1.0250 - val_accuracy: 0.7649\n",
            "Epoch 15/25\n",
            "622/622 [==============================] - 70s 113ms/step - loss: 0.8297 - accuracy: 0.7792 - val_loss: 1.0488 - val_accuracy: 0.7651\n",
            "Epoch 16/25\n",
            "622/622 [==============================] - 70s 112ms/step - loss: 0.8513 - accuracy: 0.7773 - val_loss: 1.0699 - val_accuracy: 0.7635\n",
            "Epoch 17/25\n",
            "622/622 [==============================] - 69s 111ms/step - loss: 0.9190 - accuracy: 0.7672 - val_loss: 1.1076 - val_accuracy: 0.7565\n",
            "Epoch 18/25\n",
            "622/622 [==============================] - 69s 112ms/step - loss: 0.8800 - accuracy: 0.7721 - val_loss: 1.1218 - val_accuracy: 0.7592\n",
            "Epoch 19/25\n",
            "622/622 [==============================] - 68s 110ms/step - loss: 0.8666 - accuracy: 0.7755 - val_loss: 1.1022 - val_accuracy: 0.7617\n",
            "Epoch 20/25\n",
            "622/622 [==============================] - 70s 113ms/step - loss: 0.8596 - accuracy: 0.7768 - val_loss: 1.1092 - val_accuracy: 0.7609\n",
            "Epoch 21/25\n",
            "622/622 [==============================] - 70s 112ms/step - loss: 0.8552 - accuracy: 0.7772 - val_loss: 1.1094 - val_accuracy: 0.7618\n",
            "Epoch 22/25\n",
            "622/622 [==============================] - 70s 112ms/step - loss: 0.8524 - accuracy: 0.7775 - val_loss: 1.1265 - val_accuracy: 0.7633\n",
            "Epoch 23/25\n",
            "622/622 [==============================] - 70s 112ms/step - loss: 0.8526 - accuracy: 0.7780 - val_loss: 1.1322 - val_accuracy: 0.7615\n",
            "Epoch 24/25\n",
            "622/622 [==============================] - 70s 112ms/step - loss: 0.8475 - accuracy: 0.7792 - val_loss: 1.1160 - val_accuracy: 0.7649\n",
            "Epoch 25/25\n",
            "622/622 [==============================] - 69s 111ms/step - loss: 0.8478 - accuracy: 0.7788 - val_loss: 1.1297 - val_accuracy: 0.7610\n"
          ],
          "name": "stdout"
        },
        {
          "output_type": "display_data",
          "data": {
            "text/html": [
              "<br/>Waiting for W&B process to finish, PID 129414<br/>Program ended successfully."
            ],
            "text/plain": [
              "<IPython.core.display.HTML object>"
            ]
          },
          "metadata": {
            "tags": []
          }
        },
        {
          "output_type": "display_data",
          "data": {
            "application/vnd.jupyter.widget-view+json": {
              "model_id": "84bbf69f729c46a9885b422bb2fa6287",
              "version_minor": 0,
              "version_major": 2
            },
            "text/plain": [
              "VBox(children=(Label(value=' 5.56MB of 5.56MB uploaded (0.00MB deduped)\\r'), FloatProgress(value=1.0, max=1.0)…"
            ]
          },
          "metadata": {
            "tags": []
          }
        },
        {
          "output_type": "display_data",
          "data": {
            "text/html": [
              "Find user logs for this run at: <code>/content/wandb/run-20210522_172936-ienpnw2s/logs/debug.log</code>"
            ],
            "text/plain": [
              "<IPython.core.display.HTML object>"
            ]
          },
          "metadata": {
            "tags": []
          }
        },
        {
          "output_type": "display_data",
          "data": {
            "text/html": [
              "Find internal logs for this run at: <code>/content/wandb/run-20210522_172936-ienpnw2s/logs/debug-internal.log</code>"
            ],
            "text/plain": [
              "<IPython.core.display.HTML object>"
            ]
          },
          "metadata": {
            "tags": []
          }
        },
        {
          "output_type": "display_data",
          "data": {
            "text/html": [
              "<h3>Run summary:</h3><br/><style>\n",
              "    table.wandb td:nth-child(1) { padding: 0 10px; text-align: right }\n",
              "    </style><table class=\"wandb\">\n",
              "<tr><td>epoch</td><td>24</td></tr><tr><td>loss</td><td>0.84847</td></tr><tr><td>accuracy</td><td>0.77889</td></tr><tr><td>val_loss</td><td>1.12968</td></tr><tr><td>val_accuracy</td><td>0.76105</td></tr><tr><td>_runtime</td><td>1774</td></tr><tr><td>_timestamp</td><td>1621706350</td></tr><tr><td>_step</td><td>25</td></tr><tr><td>best_val_loss</td><td>0.93929</td></tr><tr><td>best_epoch</td><td>0</td></tr><tr><td>word_acc</td><td>0.0</td></tr></table>"
            ],
            "text/plain": [
              "<IPython.core.display.HTML object>"
            ]
          },
          "metadata": {
            "tags": []
          }
        },
        {
          "output_type": "display_data",
          "data": {
            "text/html": [
              "<h3>Run history:</h3><br/><style>\n",
              "    table.wandb td:nth-child(1) { padding: 0 10px; text-align: right }\n",
              "    </style><table class=\"wandb\">\n",
              "<tr><td>epoch</td><td>▁▁▂▂▂▂▃▃▃▄▄▄▅▅▅▅▆▆▆▇▇▇▇██</td></tr><tr><td>loss</td><td>█▆▃▂▂▂▁▄▃▃▂▂▂▁▂▂▅▃▃▂▂▂▂▂▂</td></tr><tr><td>accuracy</td><td>▁▃▇▇▇▇█▅▆▆▇▇▇█▇█▃▆▇▇█████</td></tr><tr><td>val_loss</td><td>▁▁▅▂▂▂▂▄▄▄▅▄▄▄▅▆▇█▇▇▇██▇█</td></tr><tr><td>val_accuracy</td><td>▇█▁▆▆▆▇▅▆▆▆▆▆▇▇▆▄▅▆▅▆▆▆▇▅</td></tr><tr><td>_runtime</td><td>▁▁▂▂▂▂▃▃▃▄▄▄▄▅▅▅▆▆▆▆▇▇▇███</td></tr><tr><td>_timestamp</td><td>▁▁▂▂▂▂▃▃▃▄▄▄▄▅▅▅▆▆▆▆▇▇▇███</td></tr><tr><td>_step</td><td>▁▁▂▂▂▂▃▃▃▄▄▄▄▅▅▅▅▆▆▆▇▇▇▇██</td></tr><tr><td>word_acc</td><td>▁</td></tr></table><br/>"
            ],
            "text/plain": [
              "<IPython.core.display.HTML object>"
            ]
          },
          "metadata": {
            "tags": []
          }
        },
        {
          "output_type": "display_data",
          "data": {
            "text/html": [
              "Synced 5 W&B file(s), 1 media file(s), 0 artifact file(s) and 1 other file(s)"
            ],
            "text/plain": [
              "<IPython.core.display.HTML object>"
            ]
          },
          "metadata": {
            "tags": []
          }
        },
        {
          "output_type": "display_data",
          "data": {
            "text/html": [
              "\n",
              "                    <br/>Synced <strong style=\"color:#cdcd00\">young-sweep-28</strong>: <a href=\"https://wandb.ai/theindianwriter/CS6910-Assignment3/runs/ienpnw2s\" target=\"_blank\">https://wandb.ai/theindianwriter/CS6910-Assignment3/runs/ienpnw2s</a><br/>\n",
              "                "
            ],
            "text/plain": [
              "<IPython.core.display.HTML object>"
            ]
          },
          "metadata": {
            "tags": []
          }
        },
        {
          "output_type": "stream",
          "text": [
            "\u001b[34m\u001b[1mwandb\u001b[0m: Agent Starting Run: ty1ezcc8 with config:\n",
            "\u001b[34m\u001b[1mwandb\u001b[0m: \tbatch_size: 64\n",
            "\u001b[34m\u001b[1mwandb\u001b[0m: \tcell_type: GRU\n",
            "\u001b[34m\u001b[1mwandb\u001b[0m: \tdrop_out_ratio: 0.4\n",
            "\u001b[34m\u001b[1mwandb\u001b[0m: \tembedding_size: 64\n",
            "\u001b[34m\u001b[1mwandb\u001b[0m: \tepochs: 25\n",
            "\u001b[34m\u001b[1mwandb\u001b[0m: \thidden_layer_size: 128\n",
            "\u001b[34m\u001b[1mwandb\u001b[0m: \tnum_decoder_layers: 1\n",
            "\u001b[34m\u001b[1mwandb\u001b[0m: \tnum_encoder_layers: 2\n",
            "\u001b[34m\u001b[1mwandb\u001b[0m: \toptimizer: rmsprop\n",
            "\u001b[34m\u001b[1mwandb\u001b[0m: \u001b[33mWARNING\u001b[0m Ignored wandb.init() arg project when running a sweep\n"
          ],
          "name": "stderr"
        },
        {
          "output_type": "display_data",
          "data": {
            "text/html": [
              "\n",
              "                Tracking run with wandb version 0.10.30<br/>\n",
              "                Syncing run <strong style=\"color:#cdcd00\">distinctive-sweep-29</strong> to <a href=\"https://wandb.ai\" target=\"_blank\">Weights & Biases</a> <a href=\"https://docs.wandb.com/integrations/jupyter.html\" target=\"_blank\">(Documentation)</a>.<br/>\n",
              "                Project page: <a href=\"https://wandb.ai/theindianwriter/CS6910-Assignment3\" target=\"_blank\">https://wandb.ai/theindianwriter/CS6910-Assignment3</a><br/>\n",
              "                Sweep page: <a href=\"https://wandb.ai/theindianwriter/CS6910-Assignment3/sweeps/nk5cbn8i\" target=\"_blank\">https://wandb.ai/theindianwriter/CS6910-Assignment3/sweeps/nk5cbn8i</a><br/>\n",
              "Run page: <a href=\"https://wandb.ai/theindianwriter/CS6910-Assignment3/runs/ty1ezcc8\" target=\"_blank\">https://wandb.ai/theindianwriter/CS6910-Assignment3/runs/ty1ezcc8</a><br/>\n",
              "                Run data is saved locally in <code>/content/wandb/run-20210522_175918-ty1ezcc8</code><br/><br/>\n",
              "            "
            ],
            "text/plain": [
              "<IPython.core.display.HTML object>"
            ]
          },
          "metadata": {
            "tags": []
          }
        },
        {
          "output_type": "stream",
          "text": [
            "Epoch 1/25\n",
            "622/622 [==============================] - 15s 18ms/step - loss: 1.2529 - accuracy: 0.7295 - val_loss: 0.8871 - val_accuracy: 0.7752\n",
            "Epoch 2/25\n",
            "622/622 [==============================] - 10s 16ms/step - loss: 0.8604 - accuracy: 0.7770 - val_loss: 0.8388 - val_accuracy: 0.7796\n",
            "Epoch 3/25\n",
            "622/622 [==============================] - 10s 16ms/step - loss: 0.8040 - accuracy: 0.7884 - val_loss: 0.8916 - val_accuracy: 0.7773\n",
            "Epoch 4/25\n",
            "622/622 [==============================] - 10s 16ms/step - loss: 0.7491 - accuracy: 0.8007 - val_loss: 0.8057 - val_accuracy: 0.7936\n",
            "Epoch 5/25\n",
            "622/622 [==============================] - 10s 16ms/step - loss: 0.6929 - accuracy: 0.8126 - val_loss: 0.7466 - val_accuracy: 0.8123\n",
            "Epoch 6/25\n",
            "622/622 [==============================] - 10s 16ms/step - loss: 0.6373 - accuracy: 0.8256 - val_loss: 0.6715 - val_accuracy: 0.8216\n",
            "Epoch 7/25\n",
            "622/622 [==============================] - 10s 16ms/step - loss: 0.5950 - accuracy: 0.8351 - val_loss: 0.6160 - val_accuracy: 0.8342\n",
            "Epoch 8/25\n",
            "622/622 [==============================] - 10s 16ms/step - loss: 0.5537 - accuracy: 0.8451 - val_loss: 0.6003 - val_accuracy: 0.8351\n",
            "Epoch 9/25\n",
            "622/622 [==============================] - 10s 16ms/step - loss: 0.5165 - accuracy: 0.8541 - val_loss: 0.5808 - val_accuracy: 0.8455\n",
            "Epoch 10/25\n",
            "622/622 [==============================] - 10s 16ms/step - loss: 0.4837 - accuracy: 0.8630 - val_loss: 0.5555 - val_accuracy: 0.8464\n",
            "Epoch 11/25\n",
            "622/622 [==============================] - 10s 16ms/step - loss: 0.4537 - accuracy: 0.8704 - val_loss: 0.5440 - val_accuracy: 0.8572\n",
            "Epoch 12/25\n",
            "622/622 [==============================] - 10s 16ms/step - loss: 0.4243 - accuracy: 0.8779 - val_loss: 0.4996 - val_accuracy: 0.8624\n",
            "Epoch 13/25\n",
            "622/622 [==============================] - 10s 16ms/step - loss: 0.4053 - accuracy: 0.8831 - val_loss: 0.4941 - val_accuracy: 0.8698\n",
            "Epoch 14/25\n",
            "622/622 [==============================] - 10s 16ms/step - loss: 0.3814 - accuracy: 0.8899 - val_loss: 0.4732 - val_accuracy: 0.8754\n",
            "Epoch 15/25\n",
            "622/622 [==============================] - 10s 16ms/step - loss: 0.3653 - accuracy: 0.8940 - val_loss: 0.4655 - val_accuracy: 0.8684\n",
            "Epoch 16/25\n",
            "622/622 [==============================] - 10s 16ms/step - loss: 0.3494 - accuracy: 0.8987 - val_loss: 0.4366 - val_accuracy: 0.8775\n",
            "Epoch 17/25\n",
            "622/622 [==============================] - 10s 16ms/step - loss: 0.3389 - accuracy: 0.9010 - val_loss: 0.4576 - val_accuracy: 0.8791\n",
            "Epoch 18/25\n",
            "622/622 [==============================] - 10s 16ms/step - loss: 0.3283 - accuracy: 0.9042 - val_loss: 0.4326 - val_accuracy: 0.8808\n",
            "Epoch 19/25\n",
            "622/622 [==============================] - 10s 16ms/step - loss: 0.3195 - accuracy: 0.9069 - val_loss: 0.4830 - val_accuracy: 0.8654\n",
            "Epoch 20/25\n",
            "622/622 [==============================] - 10s 16ms/step - loss: 0.3135 - accuracy: 0.9089 - val_loss: 0.4149 - val_accuracy: 0.8842\n",
            "Epoch 21/25\n",
            "622/622 [==============================] - 10s 16ms/step - loss: 0.3056 - accuracy: 0.9107 - val_loss: 0.4416 - val_accuracy: 0.8812\n",
            "Epoch 22/25\n",
            "622/622 [==============================] - 10s 16ms/step - loss: 0.2978 - accuracy: 0.9126 - val_loss: 0.4631 - val_accuracy: 0.8772\n",
            "Epoch 23/25\n",
            "622/622 [==============================] - 10s 16ms/step - loss: 0.2920 - accuracy: 0.9140 - val_loss: 0.3921 - val_accuracy: 0.8877\n",
            "Epoch 24/25\n",
            "622/622 [==============================] - 10s 16ms/step - loss: 0.2877 - accuracy: 0.9158 - val_loss: 0.4065 - val_accuracy: 0.8842\n",
            "Epoch 25/25\n",
            "622/622 [==============================] - 10s 16ms/step - loss: 0.2820 - accuracy: 0.9164 - val_loss: 0.3945 - val_accuracy: 0.8899\n"
          ],
          "name": "stdout"
        },
        {
          "output_type": "display_data",
          "data": {
            "text/html": [
              "<br/>Waiting for W&B process to finish, PID 131636<br/>Program ended successfully."
            ],
            "text/plain": [
              "<IPython.core.display.HTML object>"
            ]
          },
          "metadata": {
            "tags": []
          }
        },
        {
          "output_type": "display_data",
          "data": {
            "application/vnd.jupyter.widget-view+json": {
              "model_id": "0395eef9f5ea45639ed0e744a983f1ac",
              "version_minor": 0,
              "version_major": 2
            },
            "text/plain": [
              "VBox(children=(Label(value=' 2.29MB of 2.29MB uploaded (0.00MB deduped)\\r'), FloatProgress(value=1.0, max=1.0)…"
            ]
          },
          "metadata": {
            "tags": []
          }
        },
        {
          "output_type": "display_data",
          "data": {
            "text/html": [
              "Find user logs for this run at: <code>/content/wandb/run-20210522_175918-ty1ezcc8/logs/debug.log</code>"
            ],
            "text/plain": [
              "<IPython.core.display.HTML object>"
            ]
          },
          "metadata": {
            "tags": []
          }
        },
        {
          "output_type": "display_data",
          "data": {
            "text/html": [
              "Find internal logs for this run at: <code>/content/wandb/run-20210522_175918-ty1ezcc8/logs/debug-internal.log</code>"
            ],
            "text/plain": [
              "<IPython.core.display.HTML object>"
            ]
          },
          "metadata": {
            "tags": []
          }
        },
        {
          "output_type": "display_data",
          "data": {
            "text/html": [
              "<h3>Run summary:</h3><br/><style>\n",
              "    table.wandb td:nth-child(1) { padding: 0 10px; text-align: right }\n",
              "    </style><table class=\"wandb\">\n",
              "<tr><td>epoch</td><td>24</td></tr><tr><td>loss</td><td>0.28324</td></tr><tr><td>accuracy</td><td>0.91655</td></tr><tr><td>val_loss</td><td>0.39453</td></tr><tr><td>val_accuracy</td><td>0.88992</td></tr><tr><td>_runtime</td><td>293</td></tr><tr><td>_timestamp</td><td>1621706651</td></tr><tr><td>_step</td><td>25</td></tr><tr><td>best_val_loss</td><td>0.39206</td></tr><tr><td>best_epoch</td><td>22</td></tr><tr><td>word_acc</td><td>21.0</td></tr></table>"
            ],
            "text/plain": [
              "<IPython.core.display.HTML object>"
            ]
          },
          "metadata": {
            "tags": []
          }
        },
        {
          "output_type": "display_data",
          "data": {
            "text/html": [
              "<h3>Run history:</h3><br/><style>\n",
              "    table.wandb td:nth-child(1) { padding: 0 10px; text-align: right }\n",
              "    </style><table class=\"wandb\">\n",
              "<tr><td>epoch</td><td>▁▁▂▂▂▂▃▃▃▄▄▄▅▅▅▅▆▆▆▇▇▇▇██</td></tr><tr><td>loss</td><td>█▆▆▅▅▄▄▄▃▃▃▂▂▂▂▂▂▁▁▁▁▁▁▁▁</td></tr><tr><td>accuracy</td><td>▁▂▃▃▄▄▅▅▅▆▆▆▇▇▇▇▇▇███████</td></tr><tr><td>val_loss</td><td>█▇█▇▆▅▄▄▄▃▃▃▂▂▂▂▂▂▂▁▂▂▁▁▁</td></tr><tr><td>val_accuracy</td><td>▁▁▁▂▃▄▅▅▅▅▆▆▇▇▇▇▇▇▇█▇▇███</td></tr><tr><td>_runtime</td><td>▁▁▂▂▂▂▃▃▃▃▄▄▄▄▅▅▅▅▆▆▆▆▇▇▇█</td></tr><tr><td>_timestamp</td><td>▁▁▂▂▂▂▃▃▃▃▄▄▄▄▅▅▅▅▆▆▆▆▇▇▇█</td></tr><tr><td>_step</td><td>▁▁▂▂▂▂▃▃▃▄▄▄▄▅▅▅▅▆▆▆▇▇▇▇██</td></tr><tr><td>word_acc</td><td>▁</td></tr></table><br/>"
            ],
            "text/plain": [
              "<IPython.core.display.HTML object>"
            ]
          },
          "metadata": {
            "tags": []
          }
        },
        {
          "output_type": "display_data",
          "data": {
            "text/html": [
              "Synced 5 W&B file(s), 1 media file(s), 0 artifact file(s) and 1 other file(s)"
            ],
            "text/plain": [
              "<IPython.core.display.HTML object>"
            ]
          },
          "metadata": {
            "tags": []
          }
        },
        {
          "output_type": "display_data",
          "data": {
            "text/html": [
              "\n",
              "                    <br/>Synced <strong style=\"color:#cdcd00\">distinctive-sweep-29</strong>: <a href=\"https://wandb.ai/theindianwriter/CS6910-Assignment3/runs/ty1ezcc8\" target=\"_blank\">https://wandb.ai/theindianwriter/CS6910-Assignment3/runs/ty1ezcc8</a><br/>\n",
              "                "
            ],
            "text/plain": [
              "<IPython.core.display.HTML object>"
            ]
          },
          "metadata": {
            "tags": []
          }
        },
        {
          "output_type": "stream",
          "text": [
            "\u001b[34m\u001b[1mwandb\u001b[0m: Agent Starting Run: gcg4v1hg with config:\n",
            "\u001b[34m\u001b[1mwandb\u001b[0m: \tbatch_size: 64\n",
            "\u001b[34m\u001b[1mwandb\u001b[0m: \tcell_type: LSTM\n",
            "\u001b[34m\u001b[1mwandb\u001b[0m: \tdrop_out_ratio: 0.4\n",
            "\u001b[34m\u001b[1mwandb\u001b[0m: \tembedding_size: 64\n",
            "\u001b[34m\u001b[1mwandb\u001b[0m: \tepochs: 25\n",
            "\u001b[34m\u001b[1mwandb\u001b[0m: \thidden_layer_size: 256\n",
            "\u001b[34m\u001b[1mwandb\u001b[0m: \tnum_decoder_layers: 2\n",
            "\u001b[34m\u001b[1mwandb\u001b[0m: \tnum_encoder_layers: 3\n",
            "\u001b[34m\u001b[1mwandb\u001b[0m: \toptimizer: adam\n",
            "\u001b[34m\u001b[1mwandb\u001b[0m: \u001b[33mWARNING\u001b[0m Ignored wandb.init() arg project when running a sweep\n"
          ],
          "name": "stderr"
        },
        {
          "output_type": "display_data",
          "data": {
            "text/html": [
              "\n",
              "                Tracking run with wandb version 0.10.30<br/>\n",
              "                Syncing run <strong style=\"color:#cdcd00\">helpful-sweep-30</strong> to <a href=\"https://wandb.ai\" target=\"_blank\">Weights & Biases</a> <a href=\"https://docs.wandb.com/integrations/jupyter.html\" target=\"_blank\">(Documentation)</a>.<br/>\n",
              "                Project page: <a href=\"https://wandb.ai/theindianwriter/CS6910-Assignment3\" target=\"_blank\">https://wandb.ai/theindianwriter/CS6910-Assignment3</a><br/>\n",
              "                Sweep page: <a href=\"https://wandb.ai/theindianwriter/CS6910-Assignment3/sweeps/nk5cbn8i\" target=\"_blank\">https://wandb.ai/theindianwriter/CS6910-Assignment3/sweeps/nk5cbn8i</a><br/>\n",
              "Run page: <a href=\"https://wandb.ai/theindianwriter/CS6910-Assignment3/runs/gcg4v1hg\" target=\"_blank\">https://wandb.ai/theindianwriter/CS6910-Assignment3/runs/gcg4v1hg</a><br/>\n",
              "                Run data is saved locally in <code>/content/wandb/run-20210522_180418-gcg4v1hg</code><br/><br/>\n",
              "            "
            ],
            "text/plain": [
              "<IPython.core.display.HTML object>"
            ]
          },
          "metadata": {
            "tags": []
          }
        },
        {
          "output_type": "stream",
          "text": [
            "Epoch 1/25\n",
            "622/622 [==============================] - 24s 27ms/step - loss: 1.2265 - accuracy: 0.7272 - val_loss: 0.9368 - val_accuracy: 0.7581\n",
            "Epoch 2/25\n",
            "622/622 [==============================] - 15s 24ms/step - loss: 0.9038 - accuracy: 0.7610 - val_loss: 1.2149 - val_accuracy: 0.7636\n",
            "Epoch 3/25\n",
            "622/622 [==============================] - 15s 24ms/step - loss: 0.9006 - accuracy: 0.7643 - val_loss: 0.9031 - val_accuracy: 0.7681\n",
            "Epoch 4/25\n",
            "622/622 [==============================] - 15s 24ms/step - loss: 0.8725 - accuracy: 0.7668 - val_loss: 0.9251 - val_accuracy: 0.7655\n",
            "Epoch 5/25\n",
            "622/622 [==============================] - 15s 24ms/step - loss: 0.8663 - accuracy: 0.7685 - val_loss: 0.9367 - val_accuracy: 0.7671\n",
            "Epoch 6/25\n",
            "622/622 [==============================] - 15s 24ms/step - loss: 0.8470 - accuracy: 0.7713 - val_loss: 0.8787 - val_accuracy: 0.7822\n",
            "Epoch 7/25\n",
            "622/622 [==============================] - 15s 24ms/step - loss: 0.7723 - accuracy: 0.7916 - val_loss: 0.8684 - val_accuracy: 0.7920\n",
            "Epoch 8/25\n",
            "622/622 [==============================] - 15s 24ms/step - loss: 0.6982 - accuracy: 0.8113 - val_loss: 0.8161 - val_accuracy: 0.8067\n",
            "Epoch 9/25\n",
            "622/622 [==============================] - 15s 24ms/step - loss: 0.6070 - accuracy: 0.8317 - val_loss: 0.8388 - val_accuracy: 0.8168\n",
            "Epoch 10/25\n",
            "622/622 [==============================] - 15s 24ms/step - loss: 0.5488 - accuracy: 0.8463 - val_loss: 0.7965 - val_accuracy: 0.8277\n",
            "Epoch 11/25\n",
            "622/622 [==============================] - 15s 24ms/step - loss: 0.4862 - accuracy: 0.8610 - val_loss: 0.7421 - val_accuracy: 0.8383\n",
            "Epoch 12/25\n",
            "622/622 [==============================] - 15s 24ms/step - loss: 0.4216 - accuracy: 0.8769 - val_loss: 0.6941 - val_accuracy: 0.8550\n",
            "Epoch 13/25\n",
            "622/622 [==============================] - 15s 24ms/step - loss: 0.3724 - accuracy: 0.8896 - val_loss: 0.6477 - val_accuracy: 0.8625\n",
            "Epoch 14/25\n",
            "622/622 [==============================] - 15s 24ms/step - loss: 0.3284 - accuracy: 0.9019 - val_loss: 0.6389 - val_accuracy: 0.8707\n",
            "Epoch 15/25\n",
            "622/622 [==============================] - 15s 24ms/step - loss: 0.2929 - accuracy: 0.9114 - val_loss: 0.6284 - val_accuracy: 0.8762\n",
            "Epoch 16/25\n",
            "622/622 [==============================] - 15s 24ms/step - loss: 0.2671 - accuracy: 0.9188 - val_loss: 0.6132 - val_accuracy: 0.8812\n",
            "Epoch 17/25\n",
            "622/622 [==============================] - 15s 24ms/step - loss: 0.2411 - accuracy: 0.9254 - val_loss: 0.6055 - val_accuracy: 0.8831\n",
            "Epoch 18/25\n",
            "622/622 [==============================] - 15s 24ms/step - loss: 0.2254 - accuracy: 0.9307 - val_loss: 0.6104 - val_accuracy: 0.8827\n",
            "Epoch 19/25\n",
            "622/622 [==============================] - 15s 24ms/step - loss: 0.2076 - accuracy: 0.9354 - val_loss: 0.6077 - val_accuracy: 0.8842\n",
            "Epoch 20/25\n",
            "622/622 [==============================] - 15s 24ms/step - loss: 0.1955 - accuracy: 0.9389 - val_loss: 0.6172 - val_accuracy: 0.8842\n",
            "Epoch 21/25\n",
            "622/622 [==============================] - 15s 24ms/step - loss: 0.1818 - accuracy: 0.9427 - val_loss: 0.6071 - val_accuracy: 0.8882\n",
            "Epoch 22/25\n",
            "622/622 [==============================] - 15s 24ms/step - loss: 0.1707 - accuracy: 0.9460 - val_loss: 0.6195 - val_accuracy: 0.8851\n",
            "Epoch 23/25\n",
            "622/622 [==============================] - 15s 24ms/step - loss: 0.1629 - accuracy: 0.9485 - val_loss: 0.6381 - val_accuracy: 0.8855\n",
            "Epoch 24/25\n",
            "622/622 [==============================] - 15s 24ms/step - loss: 0.1537 - accuracy: 0.9514 - val_loss: 0.6551 - val_accuracy: 0.8822\n",
            "Epoch 25/25\n",
            "622/622 [==============================] - 15s 24ms/step - loss: 0.1458 - accuracy: 0.9533 - val_loss: 0.6254 - val_accuracy: 0.8872\n"
          ],
          "name": "stdout"
        },
        {
          "output_type": "display_data",
          "data": {
            "text/html": [
              "<br/>Waiting for W&B process to finish, PID 134150<br/>Program ended successfully."
            ],
            "text/plain": [
              "<IPython.core.display.HTML object>"
            ]
          },
          "metadata": {
            "tags": []
          }
        },
        {
          "output_type": "display_data",
          "data": {
            "application/vnd.jupyter.widget-view+json": {
              "model_id": "d5960a849a5043ab8fbf9244180e7d8a",
              "version_minor": 0,
              "version_major": 2
            },
            "text/plain": [
              "VBox(children=(Label(value=' 26.83MB of 26.83MB uploaded (0.00MB deduped)\\r'), FloatProgress(value=1.0, max=1.…"
            ]
          },
          "metadata": {
            "tags": []
          }
        },
        {
          "output_type": "display_data",
          "data": {
            "text/html": [
              "Find user logs for this run at: <code>/content/wandb/run-20210522_180418-gcg4v1hg/logs/debug.log</code>"
            ],
            "text/plain": [
              "<IPython.core.display.HTML object>"
            ]
          },
          "metadata": {
            "tags": []
          }
        },
        {
          "output_type": "display_data",
          "data": {
            "text/html": [
              "Find internal logs for this run at: <code>/content/wandb/run-20210522_180418-gcg4v1hg/logs/debug-internal.log</code>"
            ],
            "text/plain": [
              "<IPython.core.display.HTML object>"
            ]
          },
          "metadata": {
            "tags": []
          }
        },
        {
          "output_type": "display_data",
          "data": {
            "text/html": [
              "<h3>Run summary:</h3><br/><style>\n",
              "    table.wandb td:nth-child(1) { padding: 0 10px; text-align: right }\n",
              "    </style><table class=\"wandb\">\n",
              "<tr><td>epoch</td><td>24</td></tr><tr><td>loss</td><td>0.14796</td></tr><tr><td>accuracy</td><td>0.95302</td></tr><tr><td>val_loss</td><td>0.6254</td></tr><tr><td>val_accuracy</td><td>0.88716</td></tr><tr><td>_runtime</td><td>425</td></tr><tr><td>_timestamp</td><td>1621707083</td></tr><tr><td>_step</td><td>25</td></tr><tr><td>best_val_loss</td><td>0.60547</td></tr><tr><td>best_epoch</td><td>16</td></tr><tr><td>word_acc</td><td>11.0</td></tr></table>"
            ],
            "text/plain": [
              "<IPython.core.display.HTML object>"
            ]
          },
          "metadata": {
            "tags": []
          }
        },
        {
          "output_type": "display_data",
          "data": {
            "text/html": [
              "<h3>Run history:</h3><br/><style>\n",
              "    table.wandb td:nth-child(1) { padding: 0 10px; text-align: right }\n",
              "    </style><table class=\"wandb\">\n",
              "<tr><td>epoch</td><td>▁▁▂▂▂▂▃▃▃▄▄▄▅▅▅▅▆▆▆▇▇▇▇██</td></tr><tr><td>loss</td><td>█▇▇▇▇▆▆▅▅▄▄▃▃▂▂▂▂▂▁▁▁▁▁▁▁</td></tr><tr><td>accuracy</td><td>▁▂▂▂▂▂▃▃▄▅▅▆▆▆▇▇▇▇▇██████</td></tr><tr><td>val_loss</td><td>▅█▄▅▅▄▄▃▄▃▃▂▁▁▁▁▁▁▁▁▁▁▁▂▁</td></tr><tr><td>val_accuracy</td><td>▁▁▂▁▁▂▃▄▄▅▅▆▇▇▇██████████</td></tr><tr><td>_runtime</td><td>▁▁▂▂▂▂▃▃▃▃▄▄▄▄▅▅▅▆▆▆▆▇▇▇▇█</td></tr><tr><td>_timestamp</td><td>▁▁▂▂▂▂▃▃▃▃▄▄▄▄▅▅▅▆▆▆▆▇▇▇▇█</td></tr><tr><td>_step</td><td>▁▁▂▂▂▂▃▃▃▄▄▄▄▅▅▅▅▆▆▆▇▇▇▇██</td></tr><tr><td>word_acc</td><td>▁</td></tr></table><br/>"
            ],
            "text/plain": [
              "<IPython.core.display.HTML object>"
            ]
          },
          "metadata": {
            "tags": []
          }
        },
        {
          "output_type": "display_data",
          "data": {
            "text/html": [
              "Synced 5 W&B file(s), 1 media file(s), 0 artifact file(s) and 1 other file(s)"
            ],
            "text/plain": [
              "<IPython.core.display.HTML object>"
            ]
          },
          "metadata": {
            "tags": []
          }
        },
        {
          "output_type": "display_data",
          "data": {
            "text/html": [
              "\n",
              "                    <br/>Synced <strong style=\"color:#cdcd00\">helpful-sweep-30</strong>: <a href=\"https://wandb.ai/theindianwriter/CS6910-Assignment3/runs/gcg4v1hg\" target=\"_blank\">https://wandb.ai/theindianwriter/CS6910-Assignment3/runs/gcg4v1hg</a><br/>\n",
              "                "
            ],
            "text/plain": [
              "<IPython.core.display.HTML object>"
            ]
          },
          "metadata": {
            "tags": []
          }
        },
        {
          "output_type": "stream",
          "text": [
            "\u001b[34m\u001b[1mwandb\u001b[0m: Agent Starting Run: u7xzlyq8 with config:\n",
            "\u001b[34m\u001b[1mwandb\u001b[0m: \tbatch_size: 64\n",
            "\u001b[34m\u001b[1mwandb\u001b[0m: \tcell_type: GRU\n",
            "\u001b[34m\u001b[1mwandb\u001b[0m: \tdrop_out_ratio: 0.2\n",
            "\u001b[34m\u001b[1mwandb\u001b[0m: \tembedding_size: 128\n",
            "\u001b[34m\u001b[1mwandb\u001b[0m: \tepochs: 25\n",
            "\u001b[34m\u001b[1mwandb\u001b[0m: \thidden_layer_size: 256\n",
            "\u001b[34m\u001b[1mwandb\u001b[0m: \tnum_decoder_layers: 1\n",
            "\u001b[34m\u001b[1mwandb\u001b[0m: \tnum_encoder_layers: 3\n",
            "\u001b[34m\u001b[1mwandb\u001b[0m: \toptimizer: rmsprop\n",
            "\u001b[34m\u001b[1mwandb\u001b[0m: \u001b[33mWARNING\u001b[0m Ignored wandb.init() arg project when running a sweep\n"
          ],
          "name": "stderr"
        },
        {
          "output_type": "display_data",
          "data": {
            "text/html": [
              "\n",
              "                Tracking run with wandb version 0.10.30<br/>\n",
              "                Syncing run <strong style=\"color:#cdcd00\">warm-sweep-31</strong> to <a href=\"https://wandb.ai\" target=\"_blank\">Weights & Biases</a> <a href=\"https://docs.wandb.com/integrations/jupyter.html\" target=\"_blank\">(Documentation)</a>.<br/>\n",
              "                Project page: <a href=\"https://wandb.ai/theindianwriter/CS6910-Assignment3\" target=\"_blank\">https://wandb.ai/theindianwriter/CS6910-Assignment3</a><br/>\n",
              "                Sweep page: <a href=\"https://wandb.ai/theindianwriter/CS6910-Assignment3/sweeps/nk5cbn8i\" target=\"_blank\">https://wandb.ai/theindianwriter/CS6910-Assignment3/sweeps/nk5cbn8i</a><br/>\n",
              "Run page: <a href=\"https://wandb.ai/theindianwriter/CS6910-Assignment3/runs/u7xzlyq8\" target=\"_blank\">https://wandb.ai/theindianwriter/CS6910-Assignment3/runs/u7xzlyq8</a><br/>\n",
              "                Run data is saved locally in <code>/content/wandb/run-20210522_181132-u7xzlyq8</code><br/><br/>\n",
              "            "
            ],
            "text/plain": [
              "<IPython.core.display.HTML object>"
            ]
          },
          "metadata": {
            "tags": []
          }
        },
        {
          "output_type": "stream",
          "text": [
            "Epoch 1/25\n",
            "622/622 [==============================] - 19s 22ms/step - loss: 1.1293 - accuracy: 0.7479 - val_loss: 0.8317 - val_accuracy: 0.7907\n",
            "Epoch 2/25\n",
            "622/622 [==============================] - 12s 20ms/step - loss: 0.6247 - accuracy: 0.8330 - val_loss: 0.6256 - val_accuracy: 0.8379\n",
            "Epoch 3/25\n",
            "622/622 [==============================] - 12s 20ms/step - loss: 0.4620 - accuracy: 0.8711 - val_loss: 0.5366 - val_accuracy: 0.8610\n",
            "Epoch 4/25\n",
            "622/622 [==============================] - 12s 20ms/step - loss: 0.3584 - accuracy: 0.8995 - val_loss: 0.4939 - val_accuracy: 0.8688\n",
            "Epoch 5/25\n",
            "622/622 [==============================] - 12s 19ms/step - loss: 0.2999 - accuracy: 0.9156 - val_loss: 0.4596 - val_accuracy: 0.8764\n",
            "Epoch 6/25\n",
            "622/622 [==============================] - 12s 19ms/step - loss: 0.2563 - accuracy: 0.9278 - val_loss: 0.4444 - val_accuracy: 0.8850\n",
            "Epoch 7/25\n",
            "622/622 [==============================] - 12s 19ms/step - loss: 0.2284 - accuracy: 0.9358 - val_loss: 0.4296 - val_accuracy: 0.8838\n",
            "Epoch 8/25\n",
            "622/622 [==============================] - 12s 19ms/step - loss: 0.2065 - accuracy: 0.9419 - val_loss: 0.4053 - val_accuracy: 0.8905\n",
            "Epoch 9/25\n",
            "622/622 [==============================] - 12s 20ms/step - loss: 0.1889 - accuracy: 0.9466 - val_loss: 0.4720 - val_accuracy: 0.8774\n",
            "Epoch 10/25\n",
            "622/622 [==============================] - 12s 19ms/step - loss: 0.1790 - accuracy: 0.9492 - val_loss: 0.3869 - val_accuracy: 0.8931\n",
            "Epoch 11/25\n",
            "622/622 [==============================] - 12s 19ms/step - loss: 0.1698 - accuracy: 0.9524 - val_loss: 0.4463 - val_accuracy: 0.8869\n",
            "Epoch 12/25\n",
            "622/622 [==============================] - 12s 19ms/step - loss: 0.1600 - accuracy: 0.9553 - val_loss: 0.5133 - val_accuracy: 0.8766\n",
            "Epoch 13/25\n",
            "622/622 [==============================] - 12s 19ms/step - loss: 0.1538 - accuracy: 0.9570 - val_loss: 0.4475 - val_accuracy: 0.8901\n",
            "Epoch 14/25\n",
            "622/622 [==============================] - 12s 19ms/step - loss: 0.1495 - accuracy: 0.9586 - val_loss: 0.4986 - val_accuracy: 0.8846\n",
            "Epoch 15/25\n",
            "622/622 [==============================] - 12s 20ms/step - loss: 0.1442 - accuracy: 0.9599 - val_loss: 0.4411 - val_accuracy: 0.8897\n",
            "Epoch 16/25\n",
            "622/622 [==============================] - 12s 19ms/step - loss: 0.1392 - accuracy: 0.9611 - val_loss: 0.4662 - val_accuracy: 0.8911\n",
            "Epoch 17/25\n",
            "622/622 [==============================] - 12s 19ms/step - loss: 0.1350 - accuracy: 0.9618 - val_loss: 0.4621 - val_accuracy: 0.8885\n",
            "Epoch 18/25\n",
            "622/622 [==============================] - 12s 19ms/step - loss: 0.1299 - accuracy: 0.9629 - val_loss: 0.5189 - val_accuracy: 0.8886\n",
            "Epoch 19/25\n",
            "622/622 [==============================] - 12s 19ms/step - loss: 0.1270 - accuracy: 0.9638 - val_loss: 0.4681 - val_accuracy: 0.8881\n",
            "Epoch 20/25\n",
            "622/622 [==============================] - 12s 20ms/step - loss: 0.1244 - accuracy: 0.9643 - val_loss: 0.4802 - val_accuracy: 0.8915\n",
            "Epoch 21/25\n",
            "622/622 [==============================] - 12s 20ms/step - loss: 0.1194 - accuracy: 0.9654 - val_loss: 0.5159 - val_accuracy: 0.8831\n",
            "Epoch 22/25\n",
            "622/622 [==============================] - 12s 19ms/step - loss: 0.1207 - accuracy: 0.9658 - val_loss: 0.5033 - val_accuracy: 0.8855\n",
            "Epoch 23/25\n",
            "622/622 [==============================] - 12s 20ms/step - loss: 0.1155 - accuracy: 0.9668 - val_loss: 0.5051 - val_accuracy: 0.8868\n",
            "Epoch 24/25\n",
            "622/622 [==============================] - 12s 19ms/step - loss: 0.1134 - accuracy: 0.9678 - val_loss: 0.5401 - val_accuracy: 0.8861\n",
            "Epoch 25/25\n",
            "622/622 [==============================] - 12s 19ms/step - loss: 0.1101 - accuracy: 0.9678 - val_loss: 0.5204 - val_accuracy: 0.8886\n"
          ],
          "name": "stdout"
        },
        {
          "output_type": "display_data",
          "data": {
            "text/html": [
              "<br/>Waiting for W&B process to finish, PID 136797<br/>Program ended successfully."
            ],
            "text/plain": [
              "<IPython.core.display.HTML object>"
            ]
          },
          "metadata": {
            "tags": []
          }
        },
        {
          "output_type": "display_data",
          "data": {
            "application/vnd.jupyter.widget-view+json": {
              "model_id": "55f14606265343db9db7ae716a41278a",
              "version_minor": 0,
              "version_major": 2
            },
            "text/plain": [
              "VBox(children=(Label(value=' 10.92MB of 10.92MB uploaded (0.00MB deduped)\\r'), FloatProgress(value=1.0, max=1.…"
            ]
          },
          "metadata": {
            "tags": []
          }
        },
        {
          "output_type": "display_data",
          "data": {
            "text/html": [
              "Find user logs for this run at: <code>/content/wandb/run-20210522_181132-u7xzlyq8/logs/debug.log</code>"
            ],
            "text/plain": [
              "<IPython.core.display.HTML object>"
            ]
          },
          "metadata": {
            "tags": []
          }
        },
        {
          "output_type": "display_data",
          "data": {
            "text/html": [
              "Find internal logs for this run at: <code>/content/wandb/run-20210522_181132-u7xzlyq8/logs/debug-internal.log</code>"
            ],
            "text/plain": [
              "<IPython.core.display.HTML object>"
            ]
          },
          "metadata": {
            "tags": []
          }
        },
        {
          "output_type": "display_data",
          "data": {
            "text/html": [
              "<h3>Run summary:</h3><br/><style>\n",
              "    table.wandb td:nth-child(1) { padding: 0 10px; text-align: right }\n",
              "    </style><table class=\"wandb\">\n",
              "<tr><td>epoch</td><td>24</td></tr><tr><td>loss</td><td>0.11246</td></tr><tr><td>accuracy</td><td>0.96721</td></tr><tr><td>val_loss</td><td>0.52036</td></tr><tr><td>val_accuracy</td><td>0.88859</td></tr><tr><td>_runtime</td><td>345</td></tr><tr><td>_timestamp</td><td>1621707437</td></tr><tr><td>_step</td><td>25</td></tr><tr><td>best_val_loss</td><td>0.38693</td></tr><tr><td>best_epoch</td><td>9</td></tr><tr><td>word_acc</td><td>29.0</td></tr></table>"
            ],
            "text/plain": [
              "<IPython.core.display.HTML object>"
            ]
          },
          "metadata": {
            "tags": []
          }
        },
        {
          "output_type": "display_data",
          "data": {
            "text/html": [
              "<h3>Run history:</h3><br/><style>\n",
              "    table.wandb td:nth-child(1) { padding: 0 10px; text-align: right }\n",
              "    </style><table class=\"wandb\">\n",
              "<tr><td>epoch</td><td>▁▁▂▂▂▂▃▃▃▄▄▄▅▅▅▅▆▆▆▇▇▇▇██</td></tr><tr><td>loss</td><td>█▅▄▃▃▂▂▂▂▂▂▁▁▁▁▁▁▁▁▁▁▁▁▁▁</td></tr><tr><td>accuracy</td><td>▁▃▅▆▆▇▇▇▇▇▇██████████████</td></tr><tr><td>val_loss</td><td>█▅▃▃▂▂▂▁▂▁▂▃▂▃▂▂▂▃▂▂▃▃▃▃▃</td></tr><tr><td>val_accuracy</td><td>▁▄▆▆▇▇▇█▇██▇█▇██████▇▇███</td></tr><tr><td>_runtime</td><td>▁▁▂▂▂▂▃▃▃▃▄▄▄▄▅▅▅▅▆▆▆▇▇▇▇█</td></tr><tr><td>_timestamp</td><td>▁▁▂▂▂▂▃▃▃▃▄▄▄▄▅▅▅▅▆▆▆▇▇▇▇█</td></tr><tr><td>_step</td><td>▁▁▂▂▂▂▃▃▃▄▄▄▄▅▅▅▅▆▆▆▇▇▇▇██</td></tr><tr><td>word_acc</td><td>▁</td></tr></table><br/>"
            ],
            "text/plain": [
              "<IPython.core.display.HTML object>"
            ]
          },
          "metadata": {
            "tags": []
          }
        },
        {
          "output_type": "display_data",
          "data": {
            "text/html": [
              "Synced 5 W&B file(s), 1 media file(s), 0 artifact file(s) and 1 other file(s)"
            ],
            "text/plain": [
              "<IPython.core.display.HTML object>"
            ]
          },
          "metadata": {
            "tags": []
          }
        },
        {
          "output_type": "display_data",
          "data": {
            "text/html": [
              "\n",
              "                    <br/>Synced <strong style=\"color:#cdcd00\">warm-sweep-31</strong>: <a href=\"https://wandb.ai/theindianwriter/CS6910-Assignment3/runs/u7xzlyq8\" target=\"_blank\">https://wandb.ai/theindianwriter/CS6910-Assignment3/runs/u7xzlyq8</a><br/>\n",
              "                "
            ],
            "text/plain": [
              "<IPython.core.display.HTML object>"
            ]
          },
          "metadata": {
            "tags": []
          }
        },
        {
          "output_type": "stream",
          "text": [
            "\u001b[34m\u001b[1mwandb\u001b[0m: Agent Starting Run: am5jlutl with config:\n",
            "\u001b[34m\u001b[1mwandb\u001b[0m: \tbatch_size: 64\n",
            "\u001b[34m\u001b[1mwandb\u001b[0m: \tcell_type: GRU\n",
            "\u001b[34m\u001b[1mwandb\u001b[0m: \tdrop_out_ratio: 0.4\n",
            "\u001b[34m\u001b[1mwandb\u001b[0m: \tembedding_size: 128\n",
            "\u001b[34m\u001b[1mwandb\u001b[0m: \tepochs: 25\n",
            "\u001b[34m\u001b[1mwandb\u001b[0m: \thidden_layer_size: 128\n",
            "\u001b[34m\u001b[1mwandb\u001b[0m: \tnum_decoder_layers: 1\n",
            "\u001b[34m\u001b[1mwandb\u001b[0m: \tnum_encoder_layers: 3\n",
            "\u001b[34m\u001b[1mwandb\u001b[0m: \toptimizer: rmsprop\n",
            "\u001b[34m\u001b[1mwandb\u001b[0m: \u001b[33mWARNING\u001b[0m Ignored wandb.init() arg project when running a sweep\n"
          ],
          "name": "stderr"
        },
        {
          "output_type": "display_data",
          "data": {
            "text/html": [
              "\n",
              "                Tracking run with wandb version 0.10.30<br/>\n",
              "                Syncing run <strong style=\"color:#cdcd00\">easy-sweep-32</strong> to <a href=\"https://wandb.ai\" target=\"_blank\">Weights & Biases</a> <a href=\"https://docs.wandb.com/integrations/jupyter.html\" target=\"_blank\">(Documentation)</a>.<br/>\n",
              "                Project page: <a href=\"https://wandb.ai/theindianwriter/CS6910-Assignment3\" target=\"_blank\">https://wandb.ai/theindianwriter/CS6910-Assignment3</a><br/>\n",
              "                Sweep page: <a href=\"https://wandb.ai/theindianwriter/CS6910-Assignment3/sweeps/nk5cbn8i\" target=\"_blank\">https://wandb.ai/theindianwriter/CS6910-Assignment3/sweeps/nk5cbn8i</a><br/>\n",
              "Run page: <a href=\"https://wandb.ai/theindianwriter/CS6910-Assignment3/runs/am5jlutl\" target=\"_blank\">https://wandb.ai/theindianwriter/CS6910-Assignment3/runs/am5jlutl</a><br/>\n",
              "                Run data is saved locally in <code>/content/wandb/run-20210522_181725-am5jlutl</code><br/><br/>\n",
              "            "
            ],
            "text/plain": [
              "<IPython.core.display.HTML object>"
            ]
          },
          "metadata": {
            "tags": []
          }
        },
        {
          "output_type": "stream",
          "text": [
            "Epoch 1/25\n",
            "622/622 [==============================] - 19s 21ms/step - loss: 1.2278 - accuracy: 0.7340 - val_loss: 0.8817 - val_accuracy: 0.7727\n",
            "Epoch 2/25\n",
            "622/622 [==============================] - 12s 19ms/step - loss: 0.8448 - accuracy: 0.7815 - val_loss: 0.8333 - val_accuracy: 0.7873\n",
            "Epoch 3/25\n",
            "622/622 [==============================] - 12s 19ms/step - loss: 0.7562 - accuracy: 0.7991 - val_loss: 0.8079 - val_accuracy: 0.7981\n",
            "Epoch 4/25\n",
            "622/622 [==============================] - 12s 19ms/step - loss: 0.6813 - accuracy: 0.8166 - val_loss: 0.7276 - val_accuracy: 0.8178\n",
            "Epoch 5/25\n",
            "622/622 [==============================] - 12s 19ms/step - loss: 0.6111 - accuracy: 0.8332 - val_loss: 0.6802 - val_accuracy: 0.8291\n",
            "Epoch 6/25\n",
            "622/622 [==============================] - 12s 19ms/step - loss: 0.5538 - accuracy: 0.8456 - val_loss: 0.6391 - val_accuracy: 0.8396\n",
            "Epoch 7/25\n",
            "622/622 [==============================] - 12s 19ms/step - loss: 0.5014 - accuracy: 0.8578 - val_loss: 0.6673 - val_accuracy: 0.8422\n",
            "Epoch 8/25\n",
            "622/622 [==============================] - 12s 19ms/step - loss: 0.4602 - accuracy: 0.8689 - val_loss: 0.6213 - val_accuracy: 0.8527\n",
            "Epoch 9/25\n",
            "622/622 [==============================] - 12s 19ms/step - loss: 0.4258 - accuracy: 0.8779 - val_loss: 0.5493 - val_accuracy: 0.8575\n",
            "Epoch 10/25\n",
            "622/622 [==============================] - 12s 19ms/step - loss: 0.4029 - accuracy: 0.8839 - val_loss: 0.5487 - val_accuracy: 0.8613\n",
            "Epoch 11/25\n",
            "622/622 [==============================] - 12s 19ms/step - loss: 0.3789 - accuracy: 0.8903 - val_loss: 0.5242 - val_accuracy: 0.8659\n",
            "Epoch 12/25\n",
            "622/622 [==============================] - 12s 19ms/step - loss: 0.3617 - accuracy: 0.8948 - val_loss: 0.5129 - val_accuracy: 0.8722\n",
            "Epoch 13/25\n",
            "622/622 [==============================] - 12s 19ms/step - loss: 0.3457 - accuracy: 0.8995 - val_loss: 0.5467 - val_accuracy: 0.8703\n",
            "Epoch 14/25\n",
            "622/622 [==============================] - 12s 19ms/step - loss: 0.3334 - accuracy: 0.9026 - val_loss: 0.5289 - val_accuracy: 0.8646\n",
            "Epoch 15/25\n",
            "622/622 [==============================] - 12s 19ms/step - loss: 0.3209 - accuracy: 0.9061 - val_loss: 0.4876 - val_accuracy: 0.8776\n",
            "Epoch 16/25\n",
            "622/622 [==============================] - 12s 19ms/step - loss: 0.3129 - accuracy: 0.9086 - val_loss: 0.5069 - val_accuracy: 0.8776\n",
            "Epoch 17/25\n",
            "622/622 [==============================] - 12s 20ms/step - loss: 0.3028 - accuracy: 0.9117 - val_loss: 0.5104 - val_accuracy: 0.8754\n",
            "Epoch 18/25\n",
            "622/622 [==============================] - 12s 19ms/step - loss: 0.2952 - accuracy: 0.9136 - val_loss: 0.4918 - val_accuracy: 0.8857\n",
            "Epoch 19/25\n",
            "622/622 [==============================] - 12s 19ms/step - loss: 0.2908 - accuracy: 0.9146 - val_loss: 0.4676 - val_accuracy: 0.8824\n",
            "Epoch 20/25\n",
            "622/622 [==============================] - 12s 19ms/step - loss: 0.2829 - accuracy: 0.9166 - val_loss: 0.5087 - val_accuracy: 0.8841\n",
            "Epoch 21/25\n",
            "622/622 [==============================] - 12s 19ms/step - loss: 0.2779 - accuracy: 0.9183 - val_loss: 0.4844 - val_accuracy: 0.8843\n",
            "Epoch 22/25\n",
            "622/622 [==============================] - 12s 20ms/step - loss: 0.2703 - accuracy: 0.9201 - val_loss: 0.4996 - val_accuracy: 0.8848\n",
            "Epoch 23/25\n",
            "622/622 [==============================] - 12s 19ms/step - loss: 0.2678 - accuracy: 0.9215 - val_loss: 0.4644 - val_accuracy: 0.8836\n",
            "Epoch 24/25\n",
            "622/622 [==============================] - 12s 19ms/step - loss: 0.2641 - accuracy: 0.9226 - val_loss: 0.4989 - val_accuracy: 0.8867\n",
            "Epoch 25/25\n",
            "622/622 [==============================] - 12s 19ms/step - loss: 0.2602 - accuracy: 0.9234 - val_loss: 0.4484 - val_accuracy: 0.8907\n"
          ],
          "name": "stdout"
        },
        {
          "output_type": "display_data",
          "data": {
            "text/html": [
              "<br/>Waiting for W&B process to finish, PID 139314<br/>Program ended successfully."
            ],
            "text/plain": [
              "<IPython.core.display.HTML object>"
            ]
          },
          "metadata": {
            "tags": []
          }
        },
        {
          "output_type": "display_data",
          "data": {
            "application/vnd.jupyter.widget-view+json": {
              "model_id": "661ce71dc578483cb1559e07e3f23d27",
              "version_minor": 0,
              "version_major": 2
            },
            "text/plain": [
              "VBox(children=(Label(value=' 3.26MB of 3.26MB uploaded (0.00MB deduped)\\r'), FloatProgress(value=1.0, max=1.0)…"
            ]
          },
          "metadata": {
            "tags": []
          }
        },
        {
          "output_type": "display_data",
          "data": {
            "text/html": [
              "Find user logs for this run at: <code>/content/wandb/run-20210522_181725-am5jlutl/logs/debug.log</code>"
            ],
            "text/plain": [
              "<IPython.core.display.HTML object>"
            ]
          },
          "metadata": {
            "tags": []
          }
        },
        {
          "output_type": "display_data",
          "data": {
            "text/html": [
              "Find internal logs for this run at: <code>/content/wandb/run-20210522_181725-am5jlutl/logs/debug-internal.log</code>"
            ],
            "text/plain": [
              "<IPython.core.display.HTML object>"
            ]
          },
          "metadata": {
            "tags": []
          }
        },
        {
          "output_type": "display_data",
          "data": {
            "text/html": [
              "<h3>Run summary:</h3><br/><style>\n",
              "    table.wandb td:nth-child(1) { padding: 0 10px; text-align: right }\n",
              "    </style><table class=\"wandb\">\n",
              "<tr><td>epoch</td><td>24</td></tr><tr><td>loss</td><td>0.26026</td></tr><tr><td>accuracy</td><td>0.92329</td></tr><tr><td>val_loss</td><td>0.44843</td></tr><tr><td>val_accuracy</td><td>0.89066</td></tr><tr><td>_runtime</td><td>342</td></tr><tr><td>_timestamp</td><td>1621707787</td></tr><tr><td>_step</td><td>25</td></tr><tr><td>best_val_loss</td><td>0.44843</td></tr><tr><td>best_epoch</td><td>24</td></tr><tr><td>word_acc</td><td>23.0</td></tr></table>"
            ],
            "text/plain": [
              "<IPython.core.display.HTML object>"
            ]
          },
          "metadata": {
            "tags": []
          }
        },
        {
          "output_type": "display_data",
          "data": {
            "text/html": [
              "<h3>Run history:</h3><br/><style>\n",
              "    table.wandb td:nth-child(1) { padding: 0 10px; text-align: right }\n",
              "    </style><table class=\"wandb\">\n",
              "<tr><td>epoch</td><td>▁▁▂▂▂▂▃▃▃▄▄▄▅▅▅▅▆▆▆▇▇▇▇██</td></tr><tr><td>loss</td><td>█▆▆▅▄▄▃▃▃▂▂▂▂▂▂▁▁▁▁▁▁▁▁▁▁</td></tr><tr><td>accuracy</td><td>▁▂▃▄▄▅▅▆▆▆▇▇▇▇▇▇█████████</td></tr><tr><td>val_loss</td><td>█▇▇▆▅▄▅▄▃▃▂▂▃▂▂▂▂▂▁▂▂▂▁▂▁</td></tr><tr><td>val_accuracy</td><td>▁▂▃▄▄▅▅▆▆▆▇▇▇▆▇▇▇████████</td></tr><tr><td>_runtime</td><td>▁▁▂▂▂▂▃▃▃▃▄▄▄▄▅▅▅▅▆▆▆▇▇▇▇█</td></tr><tr><td>_timestamp</td><td>▁▁▂▂▂▂▃▃▃▃▄▄▄▄▅▅▅▅▆▆▆▇▇▇▇█</td></tr><tr><td>_step</td><td>▁▁▂▂▂▂▃▃▃▄▄▄▄▅▅▅▅▆▆▆▇▇▇▇██</td></tr><tr><td>word_acc</td><td>▁</td></tr></table><br/>"
            ],
            "text/plain": [
              "<IPython.core.display.HTML object>"
            ]
          },
          "metadata": {
            "tags": []
          }
        },
        {
          "output_type": "display_data",
          "data": {
            "text/html": [
              "Synced 5 W&B file(s), 1 media file(s), 0 artifact file(s) and 1 other file(s)"
            ],
            "text/plain": [
              "<IPython.core.display.HTML object>"
            ]
          },
          "metadata": {
            "tags": []
          }
        },
        {
          "output_type": "display_data",
          "data": {
            "text/html": [
              "\n",
              "                    <br/>Synced <strong style=\"color:#cdcd00\">easy-sweep-32</strong>: <a href=\"https://wandb.ai/theindianwriter/CS6910-Assignment3/runs/am5jlutl\" target=\"_blank\">https://wandb.ai/theindianwriter/CS6910-Assignment3/runs/am5jlutl</a><br/>\n",
              "                "
            ],
            "text/plain": [
              "<IPython.core.display.HTML object>"
            ]
          },
          "metadata": {
            "tags": []
          }
        },
        {
          "output_type": "stream",
          "text": [
            "\u001b[34m\u001b[1mwandb\u001b[0m: Agent Starting Run: qyjcjuy3 with config:\n",
            "\u001b[34m\u001b[1mwandb\u001b[0m: \tbatch_size: 64\n",
            "\u001b[34m\u001b[1mwandb\u001b[0m: \tcell_type: GRU\n",
            "\u001b[34m\u001b[1mwandb\u001b[0m: \tdrop_out_ratio: 0.2\n",
            "\u001b[34m\u001b[1mwandb\u001b[0m: \tembedding_size: 128\n",
            "\u001b[34m\u001b[1mwandb\u001b[0m: \tepochs: 25\n",
            "\u001b[34m\u001b[1mwandb\u001b[0m: \thidden_layer_size: 256\n",
            "\u001b[34m\u001b[1mwandb\u001b[0m: \tnum_decoder_layers: 2\n",
            "\u001b[34m\u001b[1mwandb\u001b[0m: \tnum_encoder_layers: 3\n",
            "\u001b[34m\u001b[1mwandb\u001b[0m: \toptimizer: adam\n",
            "\u001b[34m\u001b[1mwandb\u001b[0m: \u001b[33mWARNING\u001b[0m Ignored wandb.init() arg project when running a sweep\n"
          ],
          "name": "stderr"
        },
        {
          "output_type": "display_data",
          "data": {
            "text/html": [
              "\n",
              "                Tracking run with wandb version 0.10.30<br/>\n",
              "                Syncing run <strong style=\"color:#cdcd00\">fallen-sweep-33</strong> to <a href=\"https://wandb.ai\" target=\"_blank\">Weights & Biases</a> <a href=\"https://docs.wandb.com/integrations/jupyter.html\" target=\"_blank\">(Documentation)</a>.<br/>\n",
              "                Project page: <a href=\"https://wandb.ai/theindianwriter/CS6910-Assignment3\" target=\"_blank\">https://wandb.ai/theindianwriter/CS6910-Assignment3</a><br/>\n",
              "                Sweep page: <a href=\"https://wandb.ai/theindianwriter/CS6910-Assignment3/sweeps/nk5cbn8i\" target=\"_blank\">https://wandb.ai/theindianwriter/CS6910-Assignment3/sweeps/nk5cbn8i</a><br/>\n",
              "Run page: <a href=\"https://wandb.ai/theindianwriter/CS6910-Assignment3/runs/qyjcjuy3\" target=\"_blank\">https://wandb.ai/theindianwriter/CS6910-Assignment3/runs/qyjcjuy3</a><br/>\n",
              "                Run data is saved locally in <code>/content/wandb/run-20210522_182315-qyjcjuy3</code><br/><br/>\n",
              "            "
            ],
            "text/plain": [
              "<IPython.core.display.HTML object>"
            ]
          },
          "metadata": {
            "tags": []
          }
        },
        {
          "output_type": "stream",
          "text": [
            "Epoch 1/25\n",
            "622/622 [==============================] - 22s 24ms/step - loss: 1.2036 - accuracy: 0.7400 - val_loss: 0.8488 - val_accuracy: 0.7835\n",
            "Epoch 2/25\n",
            "622/622 [==============================] - 14s 22ms/step - loss: 0.7660 - accuracy: 0.7956 - val_loss: 0.8268 - val_accuracy: 0.7944\n",
            "Epoch 3/25\n",
            "622/622 [==============================] - 14s 22ms/step - loss: 0.6239 - accuracy: 0.8290 - val_loss: 0.6161 - val_accuracy: 0.8417\n",
            "Epoch 4/25\n",
            "622/622 [==============================] - 14s 22ms/step - loss: 0.4364 - accuracy: 0.8757 - val_loss: 0.4941 - val_accuracy: 0.8784\n",
            "Epoch 5/25\n",
            "622/622 [==============================] - 14s 22ms/step - loss: 0.3297 - accuracy: 0.9062 - val_loss: 0.4120 - val_accuracy: 0.8944\n",
            "Epoch 6/25\n",
            "622/622 [==============================] - 14s 22ms/step - loss: 0.2446 - accuracy: 0.9248 - val_loss: 0.4012 - val_accuracy: 0.8974\n",
            "Epoch 7/25\n",
            "622/622 [==============================] - 14s 22ms/step - loss: 0.2237 - accuracy: 0.9356 - val_loss: 0.3816 - val_accuracy: 0.9045\n",
            "Epoch 8/25\n",
            "622/622 [==============================] - 14s 22ms/step - loss: 0.1864 - accuracy: 0.9427 - val_loss: 0.3961 - val_accuracy: 0.9019\n",
            "Epoch 9/25\n",
            "622/622 [==============================] - 14s 22ms/step - loss: 0.1714 - accuracy: 0.9478 - val_loss: 0.3965 - val_accuracy: 0.9068\n",
            "Epoch 10/25\n",
            "622/622 [==============================] - 14s 22ms/step - loss: 0.1858 - accuracy: 0.9483 - val_loss: 0.4034 - val_accuracy: 0.9058\n",
            "Epoch 11/25\n",
            "622/622 [==============================] - 15s 24ms/step - loss: 0.1784 - accuracy: 0.9501 - val_loss: 0.3867 - val_accuracy: 0.9084\n",
            "Epoch 12/25\n",
            "622/622 [==============================] - 15s 25ms/step - loss: 0.1517 - accuracy: 0.9557 - val_loss: 0.4345 - val_accuracy: 0.8999\n",
            "Epoch 13/25\n",
            "622/622 [==============================] - 15s 24ms/step - loss: 0.1635 - accuracy: 0.9539 - val_loss: 0.4344 - val_accuracy: 0.8981\n",
            "Epoch 14/25\n",
            "622/622 [==============================] - 14s 22ms/step - loss: 0.1675 - accuracy: 0.9538 - val_loss: 0.4575 - val_accuracy: 0.8988\n",
            "Epoch 15/25\n",
            "622/622 [==============================] - 14s 23ms/step - loss: 0.1473 - accuracy: 0.9593 - val_loss: 0.4427 - val_accuracy: 0.9038\n",
            "Epoch 16/25\n",
            "622/622 [==============================] - 14s 23ms/step - loss: 0.1496 - accuracy: 0.9581 - val_loss: 0.4685 - val_accuracy: 0.9037\n",
            "Epoch 17/25\n",
            "622/622 [==============================] - 14s 23ms/step - loss: 0.1623 - accuracy: 0.9552 - val_loss: 0.4545 - val_accuracy: 0.8994\n",
            "Epoch 18/25\n",
            "622/622 [==============================] - 14s 22ms/step - loss: 0.1444 - accuracy: 0.9606 - val_loss: 0.4519 - val_accuracy: 0.9058\n",
            "Epoch 19/25\n",
            "622/622 [==============================] - 14s 23ms/step - loss: 0.1405 - accuracy: 0.9603 - val_loss: 0.4633 - val_accuracy: 0.9002\n",
            "Epoch 20/25\n",
            "622/622 [==============================] - 14s 22ms/step - loss: 0.1331 - accuracy: 0.9612 - val_loss: 0.5145 - val_accuracy: 0.8960\n",
            "Epoch 21/25\n",
            "622/622 [==============================] - 14s 22ms/step - loss: 0.1282 - accuracy: 0.9614 - val_loss: 0.4828 - val_accuracy: 0.9005\n",
            "Epoch 22/25\n",
            "622/622 [==============================] - 14s 23ms/step - loss: 0.1539 - accuracy: 0.9568 - val_loss: 0.4957 - val_accuracy: 0.8996\n",
            "Epoch 23/25\n",
            "622/622 [==============================] - 14s 23ms/step - loss: 0.1350 - accuracy: 0.9627 - val_loss: 0.5090 - val_accuracy: 0.9019\n",
            "Epoch 24/25\n",
            "622/622 [==============================] - 14s 22ms/step - loss: 0.1321 - accuracy: 0.9631 - val_loss: 0.4913 - val_accuracy: 0.9035\n",
            "Epoch 25/25\n",
            "622/622 [==============================] - 14s 22ms/step - loss: 0.1335 - accuracy: 0.9640 - val_loss: 0.5527 - val_accuracy: 0.8992\n"
          ],
          "name": "stdout"
        },
        {
          "output_type": "display_data",
          "data": {
            "text/html": [
              "<br/>Waiting for W&B process to finish, PID 141848<br/>Program ended successfully."
            ],
            "text/plain": [
              "<IPython.core.display.HTML object>"
            ]
          },
          "metadata": {
            "tags": []
          }
        },
        {
          "output_type": "display_data",
          "data": {
            "application/vnd.jupyter.widget-view+json": {
              "model_id": "1f26b37aa1f347b7ae6e20d35ba87013",
              "version_minor": 0,
              "version_major": 2
            },
            "text/plain": [
              "VBox(children=(Label(value=' 20.87MB of 20.87MB uploaded (0.00MB deduped)\\r'), FloatProgress(value=1.0, max=1.…"
            ]
          },
          "metadata": {
            "tags": []
          }
        },
        {
          "output_type": "display_data",
          "data": {
            "text/html": [
              "Find user logs for this run at: <code>/content/wandb/run-20210522_182315-qyjcjuy3/logs/debug.log</code>"
            ],
            "text/plain": [
              "<IPython.core.display.HTML object>"
            ]
          },
          "metadata": {
            "tags": []
          }
        },
        {
          "output_type": "display_data",
          "data": {
            "text/html": [
              "Find internal logs for this run at: <code>/content/wandb/run-20210522_182315-qyjcjuy3/logs/debug-internal.log</code>"
            ],
            "text/plain": [
              "<IPython.core.display.HTML object>"
            ]
          },
          "metadata": {
            "tags": []
          }
        },
        {
          "output_type": "display_data",
          "data": {
            "text/html": [
              "<h3>Run summary:</h3><br/><style>\n",
              "    table.wandb td:nth-child(1) { padding: 0 10px; text-align: right }\n",
              "    </style><table class=\"wandb\">\n",
              "<tr><td>epoch</td><td>24</td></tr><tr><td>loss</td><td>0.13681</td></tr><tr><td>accuracy</td><td>0.96354</td></tr><tr><td>val_loss</td><td>0.55274</td></tr><tr><td>val_accuracy</td><td>0.89916</td></tr><tr><td>_runtime</td><td>406</td></tr><tr><td>_timestamp</td><td>1621708201</td></tr><tr><td>_step</td><td>25</td></tr><tr><td>best_val_loss</td><td>0.38164</td></tr><tr><td>best_epoch</td><td>6</td></tr><tr><td>word_acc</td><td>4.0</td></tr></table>"
            ],
            "text/plain": [
              "<IPython.core.display.HTML object>"
            ]
          },
          "metadata": {
            "tags": []
          }
        },
        {
          "output_type": "display_data",
          "data": {
            "text/html": [
              "<h3>Run history:</h3><br/><style>\n",
              "    table.wandb td:nth-child(1) { padding: 0 10px; text-align: right }\n",
              "    </style><table class=\"wandb\">\n",
              "<tr><td>epoch</td><td>▁▁▂▂▂▂▃▃▃▄▄▄▅▅▅▅▆▆▆▇▇▇▇██</td></tr><tr><td>loss</td><td>█▆▅▃▂▂▂▁▁▁▁▁▁▁▁▁▁▁▁▁▁▁▁▁▁</td></tr><tr><td>accuracy</td><td>▁▂▄▅▆▇▇▇▇▇███████████████</td></tr><tr><td>val_loss</td><td>██▅▃▁▁▁▁▁▁▁▂▂▂▂▂▂▂▂▃▃▃▃▃▄</td></tr><tr><td>val_accuracy</td><td>▁▂▄▆▇▇██████▇▇██▇██▇████▇</td></tr><tr><td>_runtime</td><td>▁▁▂▂▂▂▃▃▃▃▄▄▄▄▅▅▅▅▆▆▆▆▇▇▇█</td></tr><tr><td>_timestamp</td><td>▁▁▂▂▂▂▃▃▃▃▄▄▄▄▅▅▅▅▆▆▆▆▇▇▇█</td></tr><tr><td>_step</td><td>▁▁▂▂▂▂▃▃▃▄▄▄▄▅▅▅▅▆▆▆▇▇▇▇██</td></tr><tr><td>word_acc</td><td>▁</td></tr></table><br/>"
            ],
            "text/plain": [
              "<IPython.core.display.HTML object>"
            ]
          },
          "metadata": {
            "tags": []
          }
        },
        {
          "output_type": "display_data",
          "data": {
            "text/html": [
              "Synced 5 W&B file(s), 1 media file(s), 0 artifact file(s) and 1 other file(s)"
            ],
            "text/plain": [
              "<IPython.core.display.HTML object>"
            ]
          },
          "metadata": {
            "tags": []
          }
        },
        {
          "output_type": "display_data",
          "data": {
            "text/html": [
              "\n",
              "                    <br/>Synced <strong style=\"color:#cdcd00\">fallen-sweep-33</strong>: <a href=\"https://wandb.ai/theindianwriter/CS6910-Assignment3/runs/qyjcjuy3\" target=\"_blank\">https://wandb.ai/theindianwriter/CS6910-Assignment3/runs/qyjcjuy3</a><br/>\n",
              "                "
            ],
            "text/plain": [
              "<IPython.core.display.HTML object>"
            ]
          },
          "metadata": {
            "tags": []
          }
        },
        {
          "output_type": "stream",
          "text": [
            "\u001b[34m\u001b[1mwandb\u001b[0m: Agent Starting Run: tpkzdtps with config:\n",
            "\u001b[34m\u001b[1mwandb\u001b[0m: \tbatch_size: 64\n",
            "\u001b[34m\u001b[1mwandb\u001b[0m: \tcell_type: GRU\n",
            "\u001b[34m\u001b[1mwandb\u001b[0m: \tdrop_out_ratio: 0.4\n",
            "\u001b[34m\u001b[1mwandb\u001b[0m: \tembedding_size: 128\n",
            "\u001b[34m\u001b[1mwandb\u001b[0m: \tepochs: 25\n",
            "\u001b[34m\u001b[1mwandb\u001b[0m: \thidden_layer_size: 256\n",
            "\u001b[34m\u001b[1mwandb\u001b[0m: \tnum_decoder_layers: 1\n",
            "\u001b[34m\u001b[1mwandb\u001b[0m: \tnum_encoder_layers: 3\n",
            "\u001b[34m\u001b[1mwandb\u001b[0m: \toptimizer: adam\n",
            "\u001b[34m\u001b[1mwandb\u001b[0m: \u001b[33mWARNING\u001b[0m Ignored wandb.init() arg project when running a sweep\n"
          ],
          "name": "stderr"
        },
        {
          "output_type": "display_data",
          "data": {
            "text/html": [
              "\n",
              "                Tracking run with wandb version 0.10.30<br/>\n",
              "                Syncing run <strong style=\"color:#cdcd00\">azure-sweep-34</strong> to <a href=\"https://wandb.ai\" target=\"_blank\">Weights & Biases</a> <a href=\"https://docs.wandb.com/integrations/jupyter.html\" target=\"_blank\">(Documentation)</a>.<br/>\n",
              "                Project page: <a href=\"https://wandb.ai/theindianwriter/CS6910-Assignment3\" target=\"_blank\">https://wandb.ai/theindianwriter/CS6910-Assignment3</a><br/>\n",
              "                Sweep page: <a href=\"https://wandb.ai/theindianwriter/CS6910-Assignment3/sweeps/nk5cbn8i\" target=\"_blank\">https://wandb.ai/theindianwriter/CS6910-Assignment3/sweeps/nk5cbn8i</a><br/>\n",
              "Run page: <a href=\"https://wandb.ai/theindianwriter/CS6910-Assignment3/runs/tpkzdtps\" target=\"_blank\">https://wandb.ai/theindianwriter/CS6910-Assignment3/runs/tpkzdtps</a><br/>\n",
              "                Run data is saved locally in <code>/content/wandb/run-20210522_183009-tpkzdtps</code><br/><br/>\n",
              "            "
            ],
            "text/plain": [
              "<IPython.core.display.HTML object>"
            ]
          },
          "metadata": {
            "tags": []
          }
        },
        {
          "output_type": "stream",
          "text": [
            "Epoch 1/25\n",
            "622/622 [==============================] - 19s 22ms/step - loss: 1.3028 - accuracy: 0.7327 - val_loss: 0.8218 - val_accuracy: 0.7951\n",
            "Epoch 2/25\n",
            "622/622 [==============================] - 13s 20ms/step - loss: 0.6911 - accuracy: 0.8145 - val_loss: 0.6090 - val_accuracy: 0.8417\n",
            "Epoch 3/25\n",
            "622/622 [==============================] - 13s 20ms/step - loss: 0.4993 - accuracy: 0.8564 - val_loss: 0.4976 - val_accuracy: 0.8693\n",
            "Epoch 4/25\n",
            "622/622 [==============================] - 13s 20ms/step - loss: 0.3906 - accuracy: 0.8850 - val_loss: 0.4755 - val_accuracy: 0.8818\n",
            "Epoch 5/25\n",
            "622/622 [==============================] - 13s 20ms/step - loss: 0.3296 - accuracy: 0.9006 - val_loss: 0.4259 - val_accuracy: 0.8906\n",
            "Epoch 6/25\n",
            "622/622 [==============================] - 12s 20ms/step - loss: 0.2852 - accuracy: 0.9116 - val_loss: 0.4495 - val_accuracy: 0.8916\n",
            "Epoch 7/25\n",
            "622/622 [==============================] - 12s 20ms/step - loss: 0.2817 - accuracy: 0.9187 - val_loss: 0.4268 - val_accuracy: 0.8938\n",
            "Epoch 8/25\n",
            "622/622 [==============================] - 13s 20ms/step - loss: 0.2549 - accuracy: 0.9237 - val_loss: 0.4602 - val_accuracy: 0.8931\n",
            "Epoch 9/25\n",
            "622/622 [==============================] - 12s 20ms/step - loss: 0.2379 - accuracy: 0.9286 - val_loss: 0.4311 - val_accuracy: 0.8974\n",
            "Epoch 10/25\n",
            "622/622 [==============================] - 12s 20ms/step - loss: 0.2180 - accuracy: 0.9329 - val_loss: 0.4438 - val_accuracy: 0.8952\n",
            "Epoch 11/25\n",
            "622/622 [==============================] - 12s 20ms/step - loss: 0.2141 - accuracy: 0.9349 - val_loss: 0.5339 - val_accuracy: 0.8914\n",
            "Epoch 12/25\n",
            "622/622 [==============================] - 12s 20ms/step - loss: 0.2071 - accuracy: 0.9371 - val_loss: 0.4545 - val_accuracy: 0.8933\n",
            "Epoch 13/25\n",
            "622/622 [==============================] - 13s 20ms/step - loss: 0.1946 - accuracy: 0.9399 - val_loss: 0.4675 - val_accuracy: 0.8957\n",
            "Epoch 14/25\n",
            "622/622 [==============================] - 12s 20ms/step - loss: 0.1944 - accuracy: 0.9408 - val_loss: 0.5011 - val_accuracy: 0.8907\n",
            "Epoch 15/25\n",
            "622/622 [==============================] - 12s 20ms/step - loss: 0.1983 - accuracy: 0.9418 - val_loss: 0.4878 - val_accuracy: 0.8895\n",
            "Epoch 16/25\n",
            "622/622 [==============================] - 12s 20ms/step - loss: 0.1972 - accuracy: 0.9419 - val_loss: 0.5006 - val_accuracy: 0.8910\n",
            "Epoch 17/25\n",
            "622/622 [==============================] - 12s 20ms/step - loss: 0.1750 - accuracy: 0.9455 - val_loss: 0.5128 - val_accuracy: 0.8929\n",
            "Epoch 18/25\n",
            "622/622 [==============================] - 12s 20ms/step - loss: 0.1956 - accuracy: 0.9430 - val_loss: 0.5255 - val_accuracy: 0.8896\n",
            "Epoch 19/25\n",
            "622/622 [==============================] - 12s 20ms/step - loss: 0.1725 - accuracy: 0.9476 - val_loss: 0.5273 - val_accuracy: 0.8876\n",
            "Epoch 20/25\n",
            "622/622 [==============================] - 12s 20ms/step - loss: 0.1851 - accuracy: 0.9465 - val_loss: 0.5503 - val_accuracy: 0.8840\n",
            "Epoch 21/25\n",
            "622/622 [==============================] - 12s 20ms/step - loss: 0.1853 - accuracy: 0.9461 - val_loss: 0.5529 - val_accuracy: 0.8831\n",
            "Epoch 22/25\n",
            "622/622 [==============================] - 12s 20ms/step - loss: 0.1823 - accuracy: 0.9486 - val_loss: 0.5289 - val_accuracy: 0.8891\n",
            "Epoch 23/25\n",
            "622/622 [==============================] - 12s 20ms/step - loss: 0.1709 - accuracy: 0.9494 - val_loss: 0.5458 - val_accuracy: 0.8870\n",
            "Epoch 24/25\n",
            "622/622 [==============================] - 12s 20ms/step - loss: 0.1889 - accuracy: 0.9467 - val_loss: 0.5729 - val_accuracy: 0.8848\n",
            "Epoch 25/25\n",
            "622/622 [==============================] - 12s 20ms/step - loss: 0.1745 - accuracy: 0.9491 - val_loss: 0.5735 - val_accuracy: 0.8828\n"
          ],
          "name": "stdout"
        },
        {
          "output_type": "display_data",
          "data": {
            "text/html": [
              "<br/>Waiting for W&B process to finish, PID 144926<br/>Program ended successfully."
            ],
            "text/plain": [
              "<IPython.core.display.HTML object>"
            ]
          },
          "metadata": {
            "tags": []
          }
        },
        {
          "output_type": "display_data",
          "data": {
            "application/vnd.jupyter.widget-view+json": {
              "model_id": "4bdc1bc391384588ad4a61b574886384",
              "version_minor": 0,
              "version_major": 2
            },
            "text/plain": [
              "VBox(children=(Label(value=' 16.34MB of 16.34MB uploaded (0.00MB deduped)\\r'), FloatProgress(value=1.0, max=1.…"
            ]
          },
          "metadata": {
            "tags": []
          }
        },
        {
          "output_type": "display_data",
          "data": {
            "text/html": [
              "Find user logs for this run at: <code>/content/wandb/run-20210522_183009-tpkzdtps/logs/debug.log</code>"
            ],
            "text/plain": [
              "<IPython.core.display.HTML object>"
            ]
          },
          "metadata": {
            "tags": []
          }
        },
        {
          "output_type": "display_data",
          "data": {
            "text/html": [
              "Find internal logs for this run at: <code>/content/wandb/run-20210522_183009-tpkzdtps/logs/debug-internal.log</code>"
            ],
            "text/plain": [
              "<IPython.core.display.HTML object>"
            ]
          },
          "metadata": {
            "tags": []
          }
        },
        {
          "output_type": "display_data",
          "data": {
            "text/html": [
              "<h3>Run summary:</h3><br/><style>\n",
              "    table.wandb td:nth-child(1) { padding: 0 10px; text-align: right }\n",
              "    </style><table class=\"wandb\">\n",
              "<tr><td>epoch</td><td>24</td></tr><tr><td>loss</td><td>0.16762</td></tr><tr><td>accuracy</td><td>0.95032</td></tr><tr><td>val_loss</td><td>0.57353</td></tr><tr><td>val_accuracy</td><td>0.88276</td></tr><tr><td>_runtime</td><td>352</td></tr><tr><td>_timestamp</td><td>1621708561</td></tr><tr><td>_step</td><td>25</td></tr><tr><td>best_val_loss</td><td>0.42595</td></tr><tr><td>best_epoch</td><td>4</td></tr><tr><td>word_acc</td><td>25.0</td></tr></table>"
            ],
            "text/plain": [
              "<IPython.core.display.HTML object>"
            ]
          },
          "metadata": {
            "tags": []
          }
        },
        {
          "output_type": "display_data",
          "data": {
            "text/html": [
              "<h3>Run history:</h3><br/><style>\n",
              "    table.wandb td:nth-child(1) { padding: 0 10px; text-align: right }\n",
              "    </style><table class=\"wandb\">\n",
              "<tr><td>epoch</td><td>▁▁▂▂▂▂▃▃▃▄▄▄▅▅▅▅▆▆▆▇▇▇▇██</td></tr><tr><td>loss</td><td>█▅▄▃▂▂▂▂▂▁▁▁▁▁▁▁▁▁▁▁▁▁▁▁▁</td></tr><tr><td>accuracy</td><td>▁▃▅▆▆▇▇▇▇▇▇██████████████</td></tr><tr><td>val_loss</td><td>█▄▂▂▁▁▁▂▁▁▃▂▂▂▂▂▃▃▃▃▃▃▃▄▄</td></tr><tr><td>val_accuracy</td><td>▁▄▆▇██████████▇██▇▇▇▇▇▇▇▇</td></tr><tr><td>_runtime</td><td>▁▁▂▂▂▂▃▃▃▃▄▄▄▄▅▅▅▅▆▆▆▇▇▇▇█</td></tr><tr><td>_timestamp</td><td>▁▁▂▂▂▂▃▃▃▃▄▄▄▄▅▅▅▅▆▆▆▇▇▇▇█</td></tr><tr><td>_step</td><td>▁▁▂▂▂▂▃▃▃▄▄▄▄▅▅▅▅▆▆▆▇▇▇▇██</td></tr><tr><td>word_acc</td><td>▁</td></tr></table><br/>"
            ],
            "text/plain": [
              "<IPython.core.display.HTML object>"
            ]
          },
          "metadata": {
            "tags": []
          }
        },
        {
          "output_type": "display_data",
          "data": {
            "text/html": [
              "Synced 5 W&B file(s), 1 media file(s), 0 artifact file(s) and 1 other file(s)"
            ],
            "text/plain": [
              "<IPython.core.display.HTML object>"
            ]
          },
          "metadata": {
            "tags": []
          }
        },
        {
          "output_type": "display_data",
          "data": {
            "text/html": [
              "\n",
              "                    <br/>Synced <strong style=\"color:#cdcd00\">azure-sweep-34</strong>: <a href=\"https://wandb.ai/theindianwriter/CS6910-Assignment3/runs/tpkzdtps\" target=\"_blank\">https://wandb.ai/theindianwriter/CS6910-Assignment3/runs/tpkzdtps</a><br/>\n",
              "                "
            ],
            "text/plain": [
              "<IPython.core.display.HTML object>"
            ]
          },
          "metadata": {
            "tags": []
          }
        },
        {
          "output_type": "stream",
          "text": [
            "\u001b[34m\u001b[1mwandb\u001b[0m: Agent Starting Run: mximllxt with config:\n",
            "\u001b[34m\u001b[1mwandb\u001b[0m: \tbatch_size: 64\n",
            "\u001b[34m\u001b[1mwandb\u001b[0m: \tcell_type: GRU\n",
            "\u001b[34m\u001b[1mwandb\u001b[0m: \tdrop_out_ratio: 0.4\n",
            "\u001b[34m\u001b[1mwandb\u001b[0m: \tembedding_size: 64\n",
            "\u001b[34m\u001b[1mwandb\u001b[0m: \tepochs: 25\n",
            "\u001b[34m\u001b[1mwandb\u001b[0m: \thidden_layer_size: 256\n",
            "\u001b[34m\u001b[1mwandb\u001b[0m: \tnum_decoder_layers: 1\n",
            "\u001b[34m\u001b[1mwandb\u001b[0m: \tnum_encoder_layers: 3\n",
            "\u001b[34m\u001b[1mwandb\u001b[0m: \toptimizer: rmsprop\n",
            "\u001b[34m\u001b[1mwandb\u001b[0m: \u001b[33mWARNING\u001b[0m Ignored wandb.init() arg project when running a sweep\n"
          ],
          "name": "stderr"
        },
        {
          "output_type": "display_data",
          "data": {
            "text/html": [
              "\n",
              "                Tracking run with wandb version 0.10.30<br/>\n",
              "                Syncing run <strong style=\"color:#cdcd00\">legendary-sweep-35</strong> to <a href=\"https://wandb.ai\" target=\"_blank\">Weights & Biases</a> <a href=\"https://docs.wandb.com/integrations/jupyter.html\" target=\"_blank\">(Documentation)</a>.<br/>\n",
              "                Project page: <a href=\"https://wandb.ai/theindianwriter/CS6910-Assignment3\" target=\"_blank\">https://wandb.ai/theindianwriter/CS6910-Assignment3</a><br/>\n",
              "                Sweep page: <a href=\"https://wandb.ai/theindianwriter/CS6910-Assignment3/sweeps/nk5cbn8i\" target=\"_blank\">https://wandb.ai/theindianwriter/CS6910-Assignment3/sweeps/nk5cbn8i</a><br/>\n",
              "Run page: <a href=\"https://wandb.ai/theindianwriter/CS6910-Assignment3/runs/mximllxt\" target=\"_blank\">https://wandb.ai/theindianwriter/CS6910-Assignment3/runs/mximllxt</a><br/>\n",
              "                Run data is saved locally in <code>/content/wandb/run-20210522_183610-mximllxt</code><br/><br/>\n",
              "            "
            ],
            "text/plain": [
              "<IPython.core.display.HTML object>"
            ]
          },
          "metadata": {
            "tags": []
          }
        },
        {
          "output_type": "stream",
          "text": [
            "Epoch 1/25\n",
            "622/622 [==============================] - 21s 24ms/step - loss: 1.1399 - accuracy: 0.7413 - val_loss: 0.8064 - val_accuracy: 0.7862\n",
            "Epoch 2/25\n",
            "622/622 [==============================] - 13s 20ms/step - loss: 0.6928 - accuracy: 0.8171 - val_loss: 0.7007 - val_accuracy: 0.8280\n",
            "Epoch 3/25\n",
            "622/622 [==============================] - 13s 21ms/step - loss: 0.5243 - accuracy: 0.8534 - val_loss: 0.5656 - val_accuracy: 0.8475\n",
            "Epoch 4/25\n",
            "622/622 [==============================] - 14s 23ms/step - loss: 0.4209 - accuracy: 0.8806 - val_loss: 0.5161 - val_accuracy: 0.8689\n",
            "Epoch 5/25\n",
            "622/622 [==============================] - 14s 23ms/step - loss: 0.3547 - accuracy: 0.8980 - val_loss: 0.4716 - val_accuracy: 0.8778\n",
            "Epoch 6/25\n",
            "622/622 [==============================] - 13s 22ms/step - loss: 0.3142 - accuracy: 0.9093 - val_loss: 0.4505 - val_accuracy: 0.8832\n",
            "Epoch 7/25\n",
            "622/622 [==============================] - 13s 21ms/step - loss: 0.2889 - accuracy: 0.9167 - val_loss: 0.4193 - val_accuracy: 0.8883\n",
            "Epoch 8/25\n",
            "622/622 [==============================] - 13s 21ms/step - loss: 0.2677 - accuracy: 0.9220 - val_loss: 0.4662 - val_accuracy: 0.8769\n",
            "Epoch 9/25\n",
            "622/622 [==============================] - 13s 21ms/step - loss: 0.2508 - accuracy: 0.9268 - val_loss: 0.4249 - val_accuracy: 0.8921\n",
            "Epoch 10/25\n",
            "622/622 [==============================] - 13s 21ms/step - loss: 0.2361 - accuracy: 0.9312 - val_loss: 0.4485 - val_accuracy: 0.8909\n",
            "Epoch 11/25\n",
            "622/622 [==============================] - 13s 21ms/step - loss: 0.2277 - accuracy: 0.9334 - val_loss: 0.4531 - val_accuracy: 0.8869\n",
            "Epoch 12/25\n",
            "622/622 [==============================] - 13s 21ms/step - loss: 0.2205 - accuracy: 0.9361 - val_loss: 0.4498 - val_accuracy: 0.8853\n",
            "Epoch 13/25\n",
            "622/622 [==============================] - 13s 21ms/step - loss: 0.2131 - accuracy: 0.9381 - val_loss: 0.5020 - val_accuracy: 0.8861\n",
            "Epoch 14/25\n",
            "622/622 [==============================] - 13s 21ms/step - loss: 0.2059 - accuracy: 0.9399 - val_loss: 0.4606 - val_accuracy: 0.8866\n",
            "Epoch 15/25\n",
            "622/622 [==============================] - 13s 21ms/step - loss: 0.2018 - accuracy: 0.9409 - val_loss: 0.4555 - val_accuracy: 0.8883\n",
            "Epoch 16/25\n",
            "622/622 [==============================] - 13s 21ms/step - loss: 0.1947 - accuracy: 0.9423 - val_loss: 0.4878 - val_accuracy: 0.8851\n",
            "Epoch 17/25\n",
            "622/622 [==============================] - 13s 21ms/step - loss: 0.1899 - accuracy: 0.9444 - val_loss: 0.4419 - val_accuracy: 0.8941\n",
            "Epoch 18/25\n",
            "622/622 [==============================] - 13s 21ms/step - loss: 0.1875 - accuracy: 0.9451 - val_loss: 0.4493 - val_accuracy: 0.8929\n",
            "Epoch 19/25\n",
            "622/622 [==============================] - 13s 21ms/step - loss: 0.1829 - accuracy: 0.9460 - val_loss: 0.5003 - val_accuracy: 0.8810\n",
            "Epoch 20/25\n",
            "622/622 [==============================] - 13s 21ms/step - loss: 0.1803 - accuracy: 0.9467 - val_loss: 0.4884 - val_accuracy: 0.8862\n",
            "Epoch 21/25\n",
            "622/622 [==============================] - 13s 21ms/step - loss: 0.1724 - accuracy: 0.9486 - val_loss: 0.4702 - val_accuracy: 0.8899\n",
            "Epoch 22/25\n",
            "622/622 [==============================] - 13s 21ms/step - loss: 0.1713 - accuracy: 0.9488 - val_loss: 0.4710 - val_accuracy: 0.8899\n",
            "Epoch 23/25\n",
            "622/622 [==============================] - 13s 21ms/step - loss: 0.1716 - accuracy: 0.9494 - val_loss: 0.4822 - val_accuracy: 0.8899\n",
            "Epoch 24/25\n",
            "622/622 [==============================] - 13s 21ms/step - loss: 0.1650 - accuracy: 0.9500 - val_loss: 0.4933 - val_accuracy: 0.8896\n",
            "Epoch 25/25\n",
            "622/622 [==============================] - 13s 21ms/step - loss: 0.1627 - accuracy: 0.9509 - val_loss: 0.5139 - val_accuracy: 0.8851\n"
          ],
          "name": "stdout"
        },
        {
          "output_type": "display_data",
          "data": {
            "text/html": [
              "<br/>Waiting for W&B process to finish, PID 147387<br/>Program ended successfully."
            ],
            "text/plain": [
              "<IPython.core.display.HTML object>"
            ]
          },
          "metadata": {
            "tags": []
          }
        },
        {
          "output_type": "display_data",
          "data": {
            "application/vnd.jupyter.widget-view+json": {
              "model_id": "882beabd62824f1980112b80c6a0522f",
              "version_minor": 0,
              "version_major": 2
            },
            "text/plain": [
              "VBox(children=(Label(value=' 10.53MB of 10.53MB uploaded (0.00MB deduped)\\r'), FloatProgress(value=1.0, max=1.…"
            ]
          },
          "metadata": {
            "tags": []
          }
        },
        {
          "output_type": "display_data",
          "data": {
            "text/html": [
              "Find user logs for this run at: <code>/content/wandb/run-20210522_183610-mximllxt/logs/debug.log</code>"
            ],
            "text/plain": [
              "<IPython.core.display.HTML object>"
            ]
          },
          "metadata": {
            "tags": []
          }
        },
        {
          "output_type": "display_data",
          "data": {
            "text/html": [
              "Find internal logs for this run at: <code>/content/wandb/run-20210522_183610-mximllxt/logs/debug-internal.log</code>"
            ],
            "text/plain": [
              "<IPython.core.display.HTML object>"
            ]
          },
          "metadata": {
            "tags": []
          }
        },
        {
          "output_type": "display_data",
          "data": {
            "text/html": [
              "<h3>Run summary:</h3><br/><style>\n",
              "    table.wandb td:nth-child(1) { padding: 0 10px; text-align: right }\n",
              "    </style><table class=\"wandb\">\n",
              "<tr><td>epoch</td><td>24</td></tr><tr><td>loss</td><td>0.16464</td></tr><tr><td>accuracy</td><td>0.95033</td></tr><tr><td>val_loss</td><td>0.51392</td></tr><tr><td>val_accuracy</td><td>0.88512</td></tr><tr><td>_runtime</td><td>372</td></tr><tr><td>_timestamp</td><td>1621708942</td></tr><tr><td>_step</td><td>25</td></tr><tr><td>best_val_loss</td><td>0.41933</td></tr><tr><td>best_epoch</td><td>6</td></tr><tr><td>word_acc</td><td>28.0</td></tr></table>"
            ],
            "text/plain": [
              "<IPython.core.display.HTML object>"
            ]
          },
          "metadata": {
            "tags": []
          }
        },
        {
          "output_type": "display_data",
          "data": {
            "text/html": [
              "<h3>Run history:</h3><br/><style>\n",
              "    table.wandb td:nth-child(1) { padding: 0 10px; text-align: right }\n",
              "    </style><table class=\"wandb\">\n",
              "<tr><td>epoch</td><td>▁▁▂▂▂▂▃▃▃▄▄▄▅▅▅▅▆▆▆▇▇▇▇██</td></tr><tr><td>loss</td><td>█▅▄▃▃▂▂▂▂▂▂▂▁▁▁▁▁▁▁▁▁▁▁▁▁</td></tr><tr><td>accuracy</td><td>▁▃▄▅▆▆▇▇▇▇▇▇█████████████</td></tr><tr><td>val_loss</td><td>█▆▄▃▂▂▁▂▁▂▂▂▂▂▂▂▁▂▂▂▂▂▂▂▃</td></tr><tr><td>val_accuracy</td><td>▁▄▅▆▇▇█▇███▇▇██▇██▇▇████▇</td></tr><tr><td>_runtime</td><td>▁▁▂▂▂▂▃▃▃▃▄▄▄▄▅▅▅▆▆▆▆▇▇▇▇█</td></tr><tr><td>_timestamp</td><td>▁▁▂▂▂▂▃▃▃▃▄▄▄▄▅▅▅▆▆▆▆▇▇▇▇█</td></tr><tr><td>_step</td><td>▁▁▂▂▂▂▃▃▃▄▄▄▄▅▅▅▅▆▆▆▇▇▇▇██</td></tr><tr><td>word_acc</td><td>▁</td></tr></table><br/>"
            ],
            "text/plain": [
              "<IPython.core.display.HTML object>"
            ]
          },
          "metadata": {
            "tags": []
          }
        },
        {
          "output_type": "display_data",
          "data": {
            "text/html": [
              "Synced 5 W&B file(s), 1 media file(s), 0 artifact file(s) and 1 other file(s)"
            ],
            "text/plain": [
              "<IPython.core.display.HTML object>"
            ]
          },
          "metadata": {
            "tags": []
          }
        },
        {
          "output_type": "display_data",
          "data": {
            "text/html": [
              "\n",
              "                    <br/>Synced <strong style=\"color:#cdcd00\">legendary-sweep-35</strong>: <a href=\"https://wandb.ai/theindianwriter/CS6910-Assignment3/runs/mximllxt\" target=\"_blank\">https://wandb.ai/theindianwriter/CS6910-Assignment3/runs/mximllxt</a><br/>\n",
              "                "
            ],
            "text/plain": [
              "<IPython.core.display.HTML object>"
            ]
          },
          "metadata": {
            "tags": []
          }
        },
        {
          "output_type": "stream",
          "text": [
            "\u001b[34m\u001b[1mwandb\u001b[0m: Agent Starting Run: 7kkzdsbp with config:\n",
            "\u001b[34m\u001b[1mwandb\u001b[0m: \tbatch_size: 64\n",
            "\u001b[34m\u001b[1mwandb\u001b[0m: \tcell_type: GRU\n",
            "\u001b[34m\u001b[1mwandb\u001b[0m: \tdrop_out_ratio: 0.4\n",
            "\u001b[34m\u001b[1mwandb\u001b[0m: \tembedding_size: 64\n",
            "\u001b[34m\u001b[1mwandb\u001b[0m: \tepochs: 25\n",
            "\u001b[34m\u001b[1mwandb\u001b[0m: \thidden_layer_size: 256\n",
            "\u001b[34m\u001b[1mwandb\u001b[0m: \tnum_decoder_layers: 1\n",
            "\u001b[34m\u001b[1mwandb\u001b[0m: \tnum_encoder_layers: 3\n",
            "\u001b[34m\u001b[1mwandb\u001b[0m: \toptimizer: rmsprop\n",
            "\u001b[34m\u001b[1mwandb\u001b[0m: \u001b[33mWARNING\u001b[0m Ignored wandb.init() arg project when running a sweep\n"
          ],
          "name": "stderr"
        },
        {
          "output_type": "display_data",
          "data": {
            "text/html": [
              "\n",
              "                Tracking run with wandb version 0.10.30<br/>\n",
              "                Syncing run <strong style=\"color:#cdcd00\">helpful-sweep-36</strong> to <a href=\"https://wandb.ai\" target=\"_blank\">Weights & Biases</a> <a href=\"https://docs.wandb.com/integrations/jupyter.html\" target=\"_blank\">(Documentation)</a>.<br/>\n",
              "                Project page: <a href=\"https://wandb.ai/theindianwriter/CS6910-Assignment3\" target=\"_blank\">https://wandb.ai/theindianwriter/CS6910-Assignment3</a><br/>\n",
              "                Sweep page: <a href=\"https://wandb.ai/theindianwriter/CS6910-Assignment3/sweeps/nk5cbn8i\" target=\"_blank\">https://wandb.ai/theindianwriter/CS6910-Assignment3/sweeps/nk5cbn8i</a><br/>\n",
              "Run page: <a href=\"https://wandb.ai/theindianwriter/CS6910-Assignment3/runs/7kkzdsbp\" target=\"_blank\">https://wandb.ai/theindianwriter/CS6910-Assignment3/runs/7kkzdsbp</a><br/>\n",
              "                Run data is saved locally in <code>/content/wandb/run-20210522_184230-7kkzdsbp</code><br/><br/>\n",
              "            "
            ],
            "text/plain": [
              "<IPython.core.display.HTML object>"
            ]
          },
          "metadata": {
            "tags": []
          }
        },
        {
          "output_type": "stream",
          "text": [
            "Epoch 1/25\n",
            "622/622 [==============================] - 20s 23ms/step - loss: 1.1243 - accuracy: 0.7434 - val_loss: 0.8146 - val_accuracy: 0.7751\n",
            "Epoch 2/25\n",
            "622/622 [==============================] - 13s 21ms/step - loss: 0.7307 - accuracy: 0.8062 - val_loss: 0.7713 - val_accuracy: 0.8017\n",
            "Epoch 3/25\n",
            "622/622 [==============================] - 13s 21ms/step - loss: 0.6033 - accuracy: 0.8356 - val_loss: 0.6320 - val_accuracy: 0.8325\n",
            "Epoch 4/25\n",
            "622/622 [==============================] - 13s 21ms/step - loss: 0.4973 - accuracy: 0.8604 - val_loss: 0.5426 - val_accuracy: 0.8584\n",
            "Epoch 5/25\n",
            "622/622 [==============================] - 13s 21ms/step - loss: 0.4208 - accuracy: 0.8808 - val_loss: 0.4919 - val_accuracy: 0.8746\n",
            "Epoch 6/25\n",
            "622/622 [==============================] - 13s 21ms/step - loss: 0.3680 - accuracy: 0.8939 - val_loss: 0.4823 - val_accuracy: 0.8727\n",
            "Epoch 7/25\n",
            "622/622 [==============================] - 13s 21ms/step - loss: 0.3262 - accuracy: 0.9050 - val_loss: 0.4832 - val_accuracy: 0.8786\n",
            "Epoch 8/25\n",
            "622/622 [==============================] - 13s 21ms/step - loss: 0.3002 - accuracy: 0.9123 - val_loss: 0.4628 - val_accuracy: 0.8817\n",
            "Epoch 9/25\n",
            "622/622 [==============================] - 13s 21ms/step - loss: 0.2791 - accuracy: 0.9188 - val_loss: 0.4243 - val_accuracy: 0.8895\n",
            "Epoch 10/25\n",
            "622/622 [==============================] - 13s 21ms/step - loss: 0.2605 - accuracy: 0.9238 - val_loss: 0.4735 - val_accuracy: 0.8778\n",
            "Epoch 11/25\n",
            "622/622 [==============================] - 13s 21ms/step - loss: 0.2498 - accuracy: 0.9274 - val_loss: 0.4365 - val_accuracy: 0.8859\n",
            "Epoch 12/25\n",
            "622/622 [==============================] - 13s 21ms/step - loss: 0.2405 - accuracy: 0.9302 - val_loss: 0.4505 - val_accuracy: 0.8836\n",
            "Epoch 13/25\n",
            "622/622 [==============================] - 13s 21ms/step - loss: 0.2294 - accuracy: 0.9338 - val_loss: 0.4421 - val_accuracy: 0.8869\n",
            "Epoch 14/25\n",
            "622/622 [==============================] - 13s 21ms/step - loss: 0.2210 - accuracy: 0.9355 - val_loss: 0.4455 - val_accuracy: 0.8853\n",
            "Epoch 15/25\n",
            "622/622 [==============================] - 13s 21ms/step - loss: 0.2144 - accuracy: 0.9371 - val_loss: 0.4694 - val_accuracy: 0.8863\n",
            "Epoch 16/25\n",
            "622/622 [==============================] - 13s 21ms/step - loss: 0.2100 - accuracy: 0.9389 - val_loss: 0.5041 - val_accuracy: 0.8776\n",
            "Epoch 17/25\n",
            "622/622 [==============================] - 13s 21ms/step - loss: 0.2016 - accuracy: 0.9403 - val_loss: 0.5147 - val_accuracy: 0.8755\n",
            "Epoch 18/25\n",
            "622/622 [==============================] - 13s 21ms/step - loss: 0.1956 - accuracy: 0.9426 - val_loss: 0.5223 - val_accuracy: 0.8771\n",
            "Epoch 19/25\n",
            "622/622 [==============================] - 13s 21ms/step - loss: 0.1894 - accuracy: 0.9437 - val_loss: 0.4827 - val_accuracy: 0.8840\n",
            "Epoch 20/25\n",
            "622/622 [==============================] - 13s 21ms/step - loss: 0.1888 - accuracy: 0.9443 - val_loss: 0.4998 - val_accuracy: 0.8806\n",
            "Epoch 21/25\n",
            "622/622 [==============================] - 13s 21ms/step - loss: 0.1812 - accuracy: 0.9460 - val_loss: 0.5100 - val_accuracy: 0.8786\n",
            "Epoch 22/25\n",
            "622/622 [==============================] - 13s 21ms/step - loss: 0.1770 - accuracy: 0.9471 - val_loss: 0.4773 - val_accuracy: 0.8834\n",
            "Epoch 23/25\n",
            "622/622 [==============================] - 13s 21ms/step - loss: 0.1746 - accuracy: 0.9484 - val_loss: 0.5405 - val_accuracy: 0.8804\n",
            "Epoch 24/25\n",
            "622/622 [==============================] - 13s 21ms/step - loss: 0.1699 - accuracy: 0.9492 - val_loss: 0.4982 - val_accuracy: 0.8820\n",
            "Epoch 25/25\n",
            "622/622 [==============================] - 13s 21ms/step - loss: 0.1664 - accuracy: 0.9497 - val_loss: 0.5276 - val_accuracy: 0.8816\n"
          ],
          "name": "stdout"
        }
      ]
    },
    {
      "cell_type": "markdown",
      "metadata": {
        "id": "y78nDt2uk8r0"
      },
      "source": [
        "#The Best Model and Testing on Test Data"
      ]
    },
    {
      "cell_type": "code",
      "metadata": {
        "id": "CNVUnSf1Wqgv"
      },
      "source": [
        "hyperparameters = {\n",
        "    \"embedding_size\" : 64,\n",
        "    \"num_encoder_layers\" : 3,\n",
        "    \"num_decoder_layers\" : 1,\n",
        "    \"hidden_layer_size\" : 256,\n",
        "    \"cell_type\" : \"LSTM\",\n",
        "    \"drop_out_ratio\": 0.2,\n",
        "    \"in_char_size\": len(english_alpha2index),\n",
        "    \"out_char_size\": len(hindi_alpha2index),\n",
        "    \"input_len\": 25,\n",
        "    }\n",
        "\n",
        "best_net = RNN(**hyperparameters)"
      ],
      "execution_count": 17,
      "outputs": []
    },
    {
      "cell_type": "code",
      "metadata": {
        "id": "tFmDyD0DfuY3"
      },
      "source": [
        "best_net.compile()\n",
        "best_net.fit(integer_encoded_x_train, decoder_input_data,decoder_output_data,epochs = 25)"
      ],
      "execution_count": null,
      "outputs": []
    },
    {
      "cell_type": "code",
      "metadata": {
        "id": "PolUnhNGXEUf"
      },
      "source": [
        "best_net.build_inference_model()\n",
        "best_model = best_net.model\n",
        "best_encoder_model = best_net.encoder_model\n",
        "best_decoder_model = best_net.decoder_model"
      ],
      "execution_count": null,
      "outputs": []
    },
    {
      "cell_type": "code",
      "metadata": {
        "id": "LgAHydRaXZMW"
      },
      "source": [
        "best_model.summary()\n",
        "plot_model(best_model, show_shapes=True)"
      ],
      "execution_count": null,
      "outputs": []
    },
    {
      "cell_type": "code",
      "metadata": {
        "id": "bexAbRZrXupY"
      },
      "source": [
        "best_encoder_model.summary()\n",
        "plot_model(best_encoder_model, show_shapes=True)"
      ],
      "execution_count": null,
      "outputs": []
    },
    {
      "cell_type": "code",
      "metadata": {
        "id": "ciEAisKCYK8F"
      },
      "source": [
        "best_decoder_model.summary()\n",
        "plot_model(best_decoder_model, show_shapes=True)"
      ],
      "execution_count": null,
      "outputs": []
    },
    {
      "cell_type": "code",
      "metadata": {
        "id": "A9v6GOrNYqkn"
      },
      "source": [
        "def test(X_test,Y_test,encoder_model,decoder_model):\n",
        "    X_test_integer_encoded = encode_docs(X_test,english_alpha2index)\n",
        "    predicted_words = []\n",
        "\n",
        "    for input_seq in X_test_integer_encoded:\n",
        "    \n",
        "        input_seq = input_seq.reshape(1,25)\n",
        "    \n",
        "        states_value = encoder_model.predict(input_seq)\n",
        "\n",
        "        target_seq = np.zeros((1,1, len(hindi_alpha2index)))\n",
        "        target_seq[0,0, hindi_alpha2index[\"\\t\"]] = 1.0\n",
        "\n",
        "        decoded_word = \"\"\n",
        "        while True:\n",
        "            output_tokens, *states = decoder_model.predict([target_seq] + [states_value])\n",
        "\n",
        "            sampled_token_index = np.argmax(output_tokens[0, -1, :])\n",
        "\n",
        "            sampled_char = hindi_index2alpha[sampled_token_index]\n",
        "        \n",
        "            if sampled_char == \"\\n\" or len(decoded_word) > 25:\n",
        "                break\n",
        "\n",
        "            decoded_word += sampled_char\n",
        "\n",
        "            target_seq = np.zeros((1, 1,len(hindi_alpha2index)))\n",
        "            target_seq[0, 0, sampled_token_index] = 1.0\n",
        "\n",
        "            states_value = [states[i] for i in range(len(states))]\n",
        "\n",
        "        predicted_words.append(decoded_word)\n",
        "\n",
        "    correct = 0\n",
        "\n",
        "    for y,y_predicted in zip(Y_test,predicted_words):\n",
        "        if y == y_predicted\n",
        "            correct += 1\n",
        "    \n",
        "    accuracy = (correct/len(y_predicted))*100\n",
        "\n",
        "    (pd.DataFrame({'English Word': X_test, 'True Transliteration': Y_test, 'Predicted Transliteration': predicted_words})\n",
        "   .to_csv('results.csv', index=False))\n",
        "\n",
        "    "
      ],
      "execution_count": null,
      "outputs": []
    }
  ]
}