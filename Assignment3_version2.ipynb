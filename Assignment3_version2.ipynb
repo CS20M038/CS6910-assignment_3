{
  "nbformat": 4,
  "nbformat_minor": 0,
  "metadata": {
    "colab": {
      "name": "Assignment3_version2.ipynb",
      "provenance": [],
      "authorship_tag": "ABX9TyP6iJy49gd5IGS/g5Kh4J6e",
      "include_colab_link": true
    },
    "kernelspec": {
      "name": "python3",
      "display_name": "Python 3"
    },
    "language_info": {
      "name": "python"
    },
    "accelerator": "GPU"
  },
  "cells": [
    {
      "cell_type": "markdown",
      "metadata": {
        "id": "view-in-github",
        "colab_type": "text"
      },
      "source": [
        "<a href=\"https://colab.research.google.com/github/CS20M038/CS6910-assignment_3/blob/main/Assignment3_version2.ipynb\" target=\"_parent\"><img src=\"https://colab.research.google.com/assets/colab-badge.svg\" alt=\"Open In Colab\"/></a>"
      ]
    },
    {
      "cell_type": "code",
      "metadata": {
        "id": "r9FRhJZG4Tlj"
      },
      "source": [
        "#@title Import Libraries\n",
        "from random import randint\n",
        "from numpy import array\n",
        "from numpy import argmax\n",
        "import keras.backend as K\n",
        "from tensorflow.keras import models\n",
        "from numpy import array_equal\n",
        "import numpy as np\n",
        "from tensorflow.keras.models import Sequential, Model\n",
        "from tensorflow.keras.layers import LSTM, Bidirectional\n",
        "from tensorflow.keras.layers import Dense, Flatten\n",
        "from tensorflow.keras import Input\n",
        "from tensorflow.keras.layers import TimeDistributed\n",
        "from tensorflow.keras.layers import RepeatVector\n",
        "from tensorflow.keras.callbacks import EarlyStopping\n",
        "from tensorflow.keras.utils import plot_model\n",
        "from tensorflow.keras.models import load_model\n",
        "import matplotlib.pyplot as plt\n",
        "\n",
        "from tensorflow.keras.layers import Lambda\n",
        "from tensorflow.keras import backend as K\n",
        "\n",
        "from scipy.ndimage.interpolation import shift\n",
        "import csv\n",
        "import random"
      ],
      "execution_count": 1,
      "outputs": []
    },
    {
      "cell_type": "code",
      "metadata": {
        "colab": {
          "base_uri": "https://localhost:8080/"
        },
        "id": "EIaBBs1MQ3t_",
        "outputId": "7f75fcfd-aeaf-4ceb-a6b1-2e19ea43f389"
      },
      "source": [
        "#@title Check GPU\n",
        "%tensorflow_version 2.x\n",
        "import tensorflow as tf\n",
        "device_name = tf.test.gpu_device_name()\n",
        "if device_name != '/device:GPU:0':\n",
        "  print('GPU device not found')\n",
        "else:\n",
        "  print('Found GPU at: {}'.format(device_name))"
      ],
      "execution_count": 2,
      "outputs": [
        {
          "output_type": "stream",
          "text": [
            "Found GPU at: /device:GPU:0\n"
          ],
          "name": "stdout"
        }
      ]
    },
    {
      "cell_type": "code",
      "metadata": {
        "id": "mVCJoGo1x1kQ"
      },
      "source": [
        "input_characters =[' ']\n",
        "target_characters = [' ']"
      ],
      "execution_count": 3,
      "outputs": []
    },
    {
      "cell_type": "code",
      "metadata": {
        "colab": {
          "base_uri": "https://localhost:8080/"
        },
        "id": "Gy16qpTY4Wgr",
        "outputId": "24af26c8-f126-4b24-a15f-2aff27c9b775"
      },
      "source": [
        "input_dict=['-PAD-']\n",
        "target_dict=['-PAD-']\n",
        "eng_alphabets = 'abcdefghijklmnopqrstuvwxyz'\n",
        "pad_char = '-PAD-'\n",
        "\n",
        "eng_alpha2index = {pad_char: 0}\n",
        "for index, alpha in enumerate(eng_alphabets):\n",
        "    eng_alpha2index[alpha] = index+1\n",
        "    input_dict.append(alpha)\n",
        "\n",
        "print(eng_alpha2index)\n",
        "print(input_dict)\n",
        "# Hindi Unicode Hex Range is 2304:2432. Source: https://en.wikipedia.org/wiki/Devanagari_(Unicode_block)\n",
        "\n",
        "hindi_alphabets = [chr(alpha) for alpha in range(2304, 2432)]\n",
        "hindi_alphabet_size = len(hindi_alphabets)\n",
        "\n",
        "hindi_alpha2index = {pad_char: 0}\n",
        "for index, alpha in enumerate(hindi_alphabets):\n",
        "    hindi_alpha2index[alpha] = index+1\n",
        "    target_dict.append(alpha)\n",
        "    #print(alpha)\n",
        "\n",
        "print(hindi_alpha2index)\n",
        "print(target_dict)\n",
        "\n",
        "\n",
        "# Hindi Unicode Hex Range is 2304:2432. Source: https://en.wikipedia.org/wiki/Devanagari_(Unicode_block)\n",
        "\n",
        "hindi_alphabets = [chr(alpha) for alpha in range(2304, 2432)]\n",
        "hindi_alphabet_size = len(hindi_alphabets)\n",
        "\n",
        "hindi_index2alpha = {0: pad_char}\n",
        "for index, alpha in enumerate(hindi_alphabets):\n",
        "    hindi_index2alpha[index+1] = alpha\n",
        "   # target_dict.append(alpha)\n",
        "    #print(alpha)\n",
        "\n",
        "print(hindi_index2alpha)\n",
        "\n",
        "eng_alphabets = 'abcdefghijklmnopqrstuvwxyz'\n",
        "eng_index2alpha = {0: pad_char}\n",
        "for index, alpha in enumerate(eng_alphabets):\n",
        "    eng_index2alpha[index+1] = alpha\n",
        "   # target_dict.append(alpha)\n",
        "    #print(alpha)\n",
        "\n",
        "print(eng_index2alpha)"
      ],
      "execution_count": 4,
      "outputs": [
        {
          "output_type": "stream",
          "text": [
            "{'-PAD-': 0, 'a': 1, 'b': 2, 'c': 3, 'd': 4, 'e': 5, 'f': 6, 'g': 7, 'h': 8, 'i': 9, 'j': 10, 'k': 11, 'l': 12, 'm': 13, 'n': 14, 'o': 15, 'p': 16, 'q': 17, 'r': 18, 's': 19, 't': 20, 'u': 21, 'v': 22, 'w': 23, 'x': 24, 'y': 25, 'z': 26}\n",
            "['-PAD-', 'a', 'b', 'c', 'd', 'e', 'f', 'g', 'h', 'i', 'j', 'k', 'l', 'm', 'n', 'o', 'p', 'q', 'r', 's', 't', 'u', 'v', 'w', 'x', 'y', 'z']\n",
            "{'-PAD-': 0, 'ऀ': 1, 'ँ': 2, 'ं': 3, 'ः': 4, 'ऄ': 5, 'अ': 6, 'आ': 7, 'इ': 8, 'ई': 9, 'उ': 10, 'ऊ': 11, 'ऋ': 12, 'ऌ': 13, 'ऍ': 14, 'ऎ': 15, 'ए': 16, 'ऐ': 17, 'ऑ': 18, 'ऒ': 19, 'ओ': 20, 'औ': 21, 'क': 22, 'ख': 23, 'ग': 24, 'घ': 25, 'ङ': 26, 'च': 27, 'छ': 28, 'ज': 29, 'झ': 30, 'ञ': 31, 'ट': 32, 'ठ': 33, 'ड': 34, 'ढ': 35, 'ण': 36, 'त': 37, 'थ': 38, 'द': 39, 'ध': 40, 'न': 41, 'ऩ': 42, 'प': 43, 'फ': 44, 'ब': 45, 'भ': 46, 'म': 47, 'य': 48, 'र': 49, 'ऱ': 50, 'ल': 51, 'ळ': 52, 'ऴ': 53, 'व': 54, 'श': 55, 'ष': 56, 'स': 57, 'ह': 58, 'ऺ': 59, 'ऻ': 60, '़': 61, 'ऽ': 62, 'ा': 63, 'ि': 64, 'ी': 65, 'ु': 66, 'ू': 67, 'ृ': 68, 'ॄ': 69, 'ॅ': 70, 'ॆ': 71, 'े': 72, 'ै': 73, 'ॉ': 74, 'ॊ': 75, 'ो': 76, 'ौ': 77, '्': 78, 'ॎ': 79, 'ॏ': 80, 'ॐ': 81, '॑': 82, '॒': 83, '॓': 84, '॔': 85, 'ॕ': 86, 'ॖ': 87, 'ॗ': 88, 'क़': 89, 'ख़': 90, 'ग़': 91, 'ज़': 92, 'ड़': 93, 'ढ़': 94, 'फ़': 95, 'य़': 96, 'ॠ': 97, 'ॡ': 98, 'ॢ': 99, 'ॣ': 100, '।': 101, '॥': 102, '०': 103, '१': 104, '२': 105, '३': 106, '४': 107, '५': 108, '६': 109, '७': 110, '८': 111, '९': 112, '॰': 113, 'ॱ': 114, 'ॲ': 115, 'ॳ': 116, 'ॴ': 117, 'ॵ': 118, 'ॶ': 119, 'ॷ': 120, 'ॸ': 121, 'ॹ': 122, 'ॺ': 123, 'ॻ': 124, 'ॼ': 125, 'ॽ': 126, 'ॾ': 127, 'ॿ': 128}\n",
            "['-PAD-', 'ऀ', 'ँ', 'ं', 'ः', 'ऄ', 'अ', 'आ', 'इ', 'ई', 'उ', 'ऊ', 'ऋ', 'ऌ', 'ऍ', 'ऎ', 'ए', 'ऐ', 'ऑ', 'ऒ', 'ओ', 'औ', 'क', 'ख', 'ग', 'घ', 'ङ', 'च', 'छ', 'ज', 'झ', 'ञ', 'ट', 'ठ', 'ड', 'ढ', 'ण', 'त', 'थ', 'द', 'ध', 'न', 'ऩ', 'प', 'फ', 'ब', 'भ', 'म', 'य', 'र', 'ऱ', 'ल', 'ळ', 'ऴ', 'व', 'श', 'ष', 'स', 'ह', 'ऺ', 'ऻ', '़', 'ऽ', 'ा', 'ि', 'ी', 'ु', 'ू', 'ृ', 'ॄ', 'ॅ', 'ॆ', 'े', 'ै', 'ॉ', 'ॊ', 'ो', 'ौ', '्', 'ॎ', 'ॏ', 'ॐ', '॑', '॒', '॓', '॔', 'ॕ', 'ॖ', 'ॗ', 'क़', 'ख़', 'ग़', 'ज़', 'ड़', 'ढ़', 'फ़', 'य़', 'ॠ', 'ॡ', 'ॢ', 'ॣ', '।', '॥', '०', '१', '२', '३', '४', '५', '६', '७', '८', '९', '॰', 'ॱ', 'ॲ', 'ॳ', 'ॴ', 'ॵ', 'ॶ', 'ॷ', 'ॸ', 'ॹ', 'ॺ', 'ॻ', 'ॼ', 'ॽ', 'ॾ', 'ॿ']\n",
            "{0: '-PAD-', 1: 'ऀ', 2: 'ँ', 3: 'ं', 4: 'ः', 5: 'ऄ', 6: 'अ', 7: 'आ', 8: 'इ', 9: 'ई', 10: 'उ', 11: 'ऊ', 12: 'ऋ', 13: 'ऌ', 14: 'ऍ', 15: 'ऎ', 16: 'ए', 17: 'ऐ', 18: 'ऑ', 19: 'ऒ', 20: 'ओ', 21: 'औ', 22: 'क', 23: 'ख', 24: 'ग', 25: 'घ', 26: 'ङ', 27: 'च', 28: 'छ', 29: 'ज', 30: 'झ', 31: 'ञ', 32: 'ट', 33: 'ठ', 34: 'ड', 35: 'ढ', 36: 'ण', 37: 'त', 38: 'थ', 39: 'द', 40: 'ध', 41: 'न', 42: 'ऩ', 43: 'प', 44: 'फ', 45: 'ब', 46: 'भ', 47: 'म', 48: 'य', 49: 'र', 50: 'ऱ', 51: 'ल', 52: 'ळ', 53: 'ऴ', 54: 'व', 55: 'श', 56: 'ष', 57: 'स', 58: 'ह', 59: 'ऺ', 60: 'ऻ', 61: '़', 62: 'ऽ', 63: 'ा', 64: 'ि', 65: 'ी', 66: 'ु', 67: 'ू', 68: 'ृ', 69: 'ॄ', 70: 'ॅ', 71: 'ॆ', 72: 'े', 73: 'ै', 74: 'ॉ', 75: 'ॊ', 76: 'ो', 77: 'ौ', 78: '्', 79: 'ॎ', 80: 'ॏ', 81: 'ॐ', 82: '॑', 83: '॒', 84: '॓', 85: '॔', 86: 'ॕ', 87: 'ॖ', 88: 'ॗ', 89: 'क़', 90: 'ख़', 91: 'ग़', 92: 'ज़', 93: 'ड़', 94: 'ढ़', 95: 'फ़', 96: 'य़', 97: 'ॠ', 98: 'ॡ', 99: 'ॢ', 100: 'ॣ', 101: '।', 102: '॥', 103: '०', 104: '१', 105: '२', 106: '३', 107: '४', 108: '५', 109: '६', 110: '७', 111: '८', 112: '९', 113: '॰', 114: 'ॱ', 115: 'ॲ', 116: 'ॳ', 117: 'ॴ', 118: 'ॵ', 119: 'ॶ', 120: 'ॷ', 121: 'ॸ', 122: 'ॹ', 123: 'ॺ', 124: 'ॻ', 125: 'ॼ', 126: 'ॽ', 127: 'ॾ', 128: 'ॿ'}\n",
            "{0: '-PAD-', 1: 'a', 2: 'b', 3: 'c', 4: 'd', 5: 'e', 6: 'f', 7: 'g', 8: 'h', 9: 'i', 10: 'j', 11: 'k', 12: 'l', 13: 'm', 14: 'n', 15: 'o', 16: 'p', 17: 'q', 18: 'r', 19: 's', 20: 't', 21: 'u', 22: 'v', 23: 'w', 24: 'x', 25: 'y', 26: 'z'}\n"
          ],
          "name": "stdout"
        }
      ]
    },
    {
      "cell_type": "code",
      "metadata": {
        "id": "QQ0aXzuU5ifS"
      },
      "source": [
        "def readXmlDataset(filename):\n",
        "        tsv_file = open(filename)\n",
        "        read_tsv = csv.reader(tsv_file, delimiter=\"\\t\")\n",
        "        lang1_words = []\n",
        "        lang2_words = []\n",
        "\n",
        "        for row in read_tsv:\n",
        "            lang2_words.append(row[0])\n",
        "            lang1_words.append(row[1])\n",
        "            #print(row[0])\n",
        "\n",
        "        return lang1_words, lang2_words\n",
        "train_input_texts, train_target_texts = readXmlDataset('hi.translit.sampled.train.tsv')\n",
        "test_input_texts, test_target_texts = readXmlDataset('hi.translit.sampled.test.tsv')"
      ],
      "execution_count": 5,
      "outputs": []
    },
    {
      "cell_type": "code",
      "metadata": {
        "id": "HYtIFIHz634J"
      },
      "source": [
        "def word_rep(word, letter2index, device = 'cpu'):\n",
        "    rep = np.zeros((len(word)+1,  129))\n",
        "    for letter_index, letter in enumerate(word):\n",
        "        pos = letter2index[letter]\n",
        "        rep[letter_index][pos] = 1\n",
        "    pad_pos = letter2index[pad_char]\n",
        "    rep[letter_index+1][pad_pos] = 1\n",
        "    return rep\n",
        "\n",
        "def gt_rep(word, letter2index, device = 'cpu'):\n",
        "    gt_rep = np.zeros([len(word)+1, 1], dtype=np.long)\n",
        "    for letter_index, letter in enumerate(word):\n",
        "        pos = letter2index[letter]\n",
        "        gt_rep[letter_index][0] = pos\n",
        "    gt_rep[letter_index+1][0] = letter2index[pad_char]\n",
        "    return gt_rep\n",
        "    word_rep('abc',eng_alpha2index).shape\n",
        "    x=gt_rep('abc',eng_alpha2index)"
      ],
      "execution_count": 6,
      "outputs": []
    },
    {
      "cell_type": "code",
      "metadata": {
        "id": "BpXZ36j_5K3Y"
      },
      "source": [
        "def createDataset(dataset,letter2index):\n",
        "    X_train=[]\n",
        "    for i,data in enumerate(dataset):\n",
        "        #print(data)\n",
        "        X_train.append(word_rep(data,letter2index))\n",
        "    X_train = np.array(X_train)\n",
        "    return X_train"
      ],
      "execution_count": 7,
      "outputs": []
    },
    {
      "cell_type": "code",
      "metadata": {
        "colab": {
          "base_uri": "https://localhost:8080/"
        },
        "id": "HvYUB4gv6BTu",
        "outputId": "f485a7c4-5b65-4569-d076-8f33637809b8"
      },
      "source": [
        "X_train = createDataset(train_input_texts,eng_alpha2index)\n",
        "y_train = createDataset(train_target_texts,hindi_alpha2index)\n",
        "X_test = createDataset(test_input_texts,eng_alpha2index)\n",
        "y_test = createDataset(test_target_texts,hindi_alpha2index)"
      ],
      "execution_count": 8,
      "outputs": [
        {
          "output_type": "stream",
          "text": [
            "/usr/local/lib/python3.7/dist-packages/ipykernel_launcher.py:6: VisibleDeprecationWarning: Creating an ndarray from ragged nested sequences (which is a list-or-tuple of lists-or-tuples-or ndarrays with different lengths or shapes) is deprecated. If you meant to do this, you must specify 'dtype=object' when creating the ndarray\n",
            "  \n"
          ],
          "name": "stderr"
        }
      ]
    },
    {
      "cell_type": "code",
      "metadata": {
        "colab": {
          "base_uri": "https://localhost:8080/"
        },
        "id": "vW1ewK688Cfg",
        "outputId": "76d65820-ab77-4752-c2cb-9144d41251fa"
      },
      "source": [
        "print(len(eng_alpha2index))\n",
        "#a=[0]*(len(eng_alpha2index)-1)\n",
        "a=[0]*128\n",
        "eng_pad=[1]\n",
        "eng_pad=eng_pad+a\n",
        "print(eng_pad)\n",
        "print(len(hindi_alpha2index))\n",
        "a=[0]*128\n",
        "hindi_pad=[1]\n",
        "hindi_pad=hindi_pad+a\n",
        "print(hindi_pad)"
      ],
      "execution_count": 9,
      "outputs": [
        {
          "output_type": "stream",
          "text": [
            "27\n",
            "[1, 0, 0, 0, 0, 0, 0, 0, 0, 0, 0, 0, 0, 0, 0, 0, 0, 0, 0, 0, 0, 0, 0, 0, 0, 0, 0, 0, 0, 0, 0, 0, 0, 0, 0, 0, 0, 0, 0, 0, 0, 0, 0, 0, 0, 0, 0, 0, 0, 0, 0, 0, 0, 0, 0, 0, 0, 0, 0, 0, 0, 0, 0, 0, 0, 0, 0, 0, 0, 0, 0, 0, 0, 0, 0, 0, 0, 0, 0, 0, 0, 0, 0, 0, 0, 0, 0, 0, 0, 0, 0, 0, 0, 0, 0, 0, 0, 0, 0, 0, 0, 0, 0, 0, 0, 0, 0, 0, 0, 0, 0, 0, 0, 0, 0, 0, 0, 0, 0, 0, 0, 0, 0, 0, 0, 0, 0, 0, 0]\n",
            "129\n",
            "[1, 0, 0, 0, 0, 0, 0, 0, 0, 0, 0, 0, 0, 0, 0, 0, 0, 0, 0, 0, 0, 0, 0, 0, 0, 0, 0, 0, 0, 0, 0, 0, 0, 0, 0, 0, 0, 0, 0, 0, 0, 0, 0, 0, 0, 0, 0, 0, 0, 0, 0, 0, 0, 0, 0, 0, 0, 0, 0, 0, 0, 0, 0, 0, 0, 0, 0, 0, 0, 0, 0, 0, 0, 0, 0, 0, 0, 0, 0, 0, 0, 0, 0, 0, 0, 0, 0, 0, 0, 0, 0, 0, 0, 0, 0, 0, 0, 0, 0, 0, 0, 0, 0, 0, 0, 0, 0, 0, 0, 0, 0, 0, 0, 0, 0, 0, 0, 0, 0, 0, 0, 0, 0, 0, 0, 0, 0, 0, 0]\n"
          ],
          "name": "stdout"
        }
      ]
    },
    {
      "cell_type": "code",
      "metadata": {
        "id": "nczkBT69KdWd"
      },
      "source": [
        "def one_hot_encode(sequence, n_unique):\n",
        "\tencoding = list()\n",
        "\tfor value in sequence:\n",
        "\t\tvector = [0 for _ in range(n_unique)]\n",
        "\t\tvector[value] = 1\n",
        "\t\tencoding.append(vector)\n",
        "\treturn array(encoding)"
      ],
      "execution_count": 10,
      "outputs": []
    },
    {
      "cell_type": "code",
      "metadata": {
        "colab": {
          "base_uri": "https://localhost:8080/"
        },
        "id": "PH7o-dfEKxHf",
        "outputId": "7322c873-cd10-4722-c0ec-765208b1bd35"
      },
      "source": [
        "one_hot_encode([1,2,3],10)"
      ],
      "execution_count": 11,
      "outputs": [
        {
          "output_type": "execute_result",
          "data": {
            "text/plain": [
              "array([[0, 1, 0, 0, 0, 0, 0, 0, 0, 0],\n",
              "       [0, 0, 1, 0, 0, 0, 0, 0, 0, 0],\n",
              "       [0, 0, 0, 1, 0, 0, 0, 0, 0, 0]])"
            ]
          },
          "metadata": {
            "tags": []
          },
          "execution_count": 11
        }
      ]
    },
    {
      "cell_type": "code",
      "metadata": {
        "colab": {
          "base_uri": "https://localhost:8080/",
          "height": 52
        },
        "id": "ABSEIPIcGLnX",
        "outputId": "332822ed-5a3d-4e14-d529-ea39de58ffae"
      },
      "source": [
        "def one_hot_decode(encoded_seq):\n",
        "\treturn [argmax(vector) for vector in encoded_seq]\n",
        "'''d=one_hot_decode(y_train_padded[5])\n",
        "c=hindi_index2alpha[6]+hindi_index2alpha[3]+hindi_index2alpha[22]+hindi_index2alpha[66]+hindi_index2alpha[49]+hindi_index2alpha[64]+hindi_index2alpha[37]+hindi_index2alpha[0]\n",
        "c'''"
      ],
      "execution_count": 12,
      "outputs": [
        {
          "output_type": "execute_result",
          "data": {
            "application/vnd.google.colaboratory.intrinsic+json": {
              "type": "string"
            },
            "text/plain": [
              "'d=one_hot_decode(y_train_padded[5])\\nc=hindi_index2alpha[6]+hindi_index2alpha[3]+hindi_index2alpha[22]+hindi_index2alpha[66]+hindi_index2alpha[49]+hindi_index2alpha[64]+hindi_index2alpha[37]+hindi_index2alpha[0]\\nc'"
            ]
          },
          "metadata": {
            "tags": []
          },
          "execution_count": 12
        }
      ]
    },
    {
      "cell_type": "code",
      "metadata": {
        "colab": {
          "base_uri": "https://localhost:8080/"
        },
        "id": "mSce-sL4HWTr",
        "outputId": "3f79f86d-f8d7-4405-b3b1-f5688b4f90d9"
      },
      "source": [
        "max_input_sequence= max(len(seq) for seq in X_train)\n",
        "max_output_sequence= max(len(seq) for seq in y_train)\n",
        "\n",
        "print('max_input_sequence: ', max_input_sequence)\n",
        "print('max_output_sequence: ', max_output_sequence)"
      ],
      "execution_count": 13,
      "outputs": [
        {
          "output_type": "stream",
          "text": [
            "max_input_sequence:  21\n",
            "max_output_sequence:  20\n"
          ],
          "name": "stdout"
        }
      ]
    },
    {
      "cell_type": "code",
      "metadata": {
        "colab": {
          "base_uri": "https://localhost:8080/"
        },
        "id": "2abm43MfHWWG",
        "outputId": "6a930ee7-ae46-445e-e9f6-eed42e8e57b8"
      },
      "source": [
        "from keras.preprocessing.sequence import pad_sequences\n",
        "X_train_padded = pad_sequences(X_train, maxlen= max_input_sequence, padding='post', value=eng_pad)\n",
        "print(\"X_train shape: \",X_train.shape)\n",
        "print(\"X_train_padded shape: \",X_train_padded.shape)\n",
        "\n",
        "y_train_padded = pad_sequences(y_train, maxlen= max_output_sequence, padding='post', value=hindi_pad)\n",
        "print(\"y_train shape: \",y_train.shape)\n",
        "print(\"y_train_padded shape: \",y_train_padded.shape)"
      ],
      "execution_count": 14,
      "outputs": [
        {
          "output_type": "stream",
          "text": [
            "X_train shape:  (44204,)\n",
            "X_train_padded shape:  (44204, 21, 129)\n",
            "y_train shape:  (44204,)\n",
            "y_train_padded shape:  (44204, 20, 129)\n"
          ],
          "name": "stdout"
        }
      ]
    },
    {
      "cell_type": "code",
      "metadata": {
        "colab": {
          "base_uri": "https://localhost:8080/"
        },
        "id": "Wvw10trdHWY8",
        "outputId": "2cb21d95-b1a3-4ab3-e325-4638ab0a92ac"
      },
      "source": [
        "i=0\n",
        "print(\"____Sample Input (Raw Format)____\")\n",
        "print(\"Original:\\n\", one_hot_decode(X_train[i]))\n",
        "print(\"Padded:\\n\",one_hot_decode(X_train_padded[i]))\n",
        "print(\"____Corresponding Output (Raw Format)____\")\n",
        "print(\"Original:\\n\", one_hot_decode(y_train[i]))\n",
        "print(\"Padded:\\n\",one_hot_decode(y_train_padded[i]))"
      ],
      "execution_count": 15,
      "outputs": [
        {
          "output_type": "stream",
          "text": [
            "____Sample Input (Raw Format)____\n",
            "Original:\n",
            " [1, 14, 0]\n",
            "Padded:\n",
            " [1, 14, 0, 0, 0, 0, 0, 0, 0, 0, 0, 0, 0, 0, 0, 0, 0, 0, 0, 0, 0]\n",
            "____Corresponding Output (Raw Format)____\n",
            "Original:\n",
            " [6, 3, 0]\n",
            "Padded:\n",
            " [6, 3, 0, 0, 0, 0, 0, 0, 0, 0, 0, 0, 0, 0, 0, 0, 0, 0, 0, 0]\n"
          ],
          "name": "stdout"
        }
      ]
    },
    {
      "cell_type": "code",
      "metadata": {
        "colab": {
          "base_uri": "https://localhost:8080/"
        },
        "id": "BN97C-THHWbb",
        "outputId": "b0404724-f5c3-4782-8b92-84675913e1ea"
      },
      "source": [
        "X_test_padded = pad_sequences(X_test, maxlen= max_input_sequence, padding='post', \n",
        "                              value=eng_pad)\n",
        "print(\"X_test shape: \",X_test.shape)\n",
        "print(\"X_test_padded shape: \",X_test_padded.shape)\n",
        "\n",
        "y_test_padded = pad_sequences(y_test, maxlen= max_output_sequence, padding='post', \n",
        "                              value=hindi_pad)\n",
        "print(\"y_test shape: \",y_test.shape)\n",
        "print(\"y_test_padded shape: \",y_test_padded.shape)"
      ],
      "execution_count": 16,
      "outputs": [
        {
          "output_type": "stream",
          "text": [
            "X_test shape:  (4502,)\n",
            "X_test_padded shape:  (4502, 21, 129)\n",
            "y_test shape:  (4502,)\n",
            "y_test_padded shape:  (4502, 20, 129)\n"
          ],
          "name": "stdout"
        }
      ]
    },
    {
      "cell_type": "code",
      "metadata": {
        "colab": {
          "base_uri": "https://localhost:8080/"
        },
        "id": "dWoyVxRZHWeH",
        "outputId": "92470380-e071-4b3b-d5c4-4aa3307feb22"
      },
      "source": [
        "#Prepare TRAIN data set\n",
        "input_dimension = len(hindi_alpha2index)   #@param {type:\"integer\"}\n",
        "encoder_input_data = X_train_padded.copy()\n",
        "decoder_target_data = y_train_padded.copy()\n",
        "decoder_input_data = decoder_target_data.copy()\n",
        "for i, samples in enumerate(decoder_target_data):\n",
        "  seq = one_hot_decode(samples)\n",
        "  shifted= shift(seq, 1, cval=0)\n",
        "  decoder_input_data[i]=one_hot_encode(shifted,input_dimension)\n",
        "print(\"Data for Train\")\n",
        "print('encoder_input_data (X): ', one_hot_decode(encoder_input_data[1]))\n",
        "print('decoder_input_data (teacher forcing): ',one_hot_decode(decoder_input_data[1]))\n",
        "print('decoder_target_data (y):',one_hot_decode(decoder_target_data[1]))\n",
        "print(encoder_input_data.shape)\n",
        "\n",
        "#Prepare TEST data set\n",
        "encoder_input_test = X_test_padded.copy()\n",
        "decoder_target_test = y_test_padded.copy()\n",
        "decoder_input_test= decoder_target_test.copy()\n",
        "for i, samples in enumerate(decoder_target_test):\n",
        "  seq = one_hot_decode(samples)\n",
        "  shifted= shift(seq, 1, cval=0)\n",
        "  decoder_input_test[i]=one_hot_encode(shifted,input_dimension)"
      ],
      "execution_count": 17,
      "outputs": [
        {
          "output_type": "stream",
          "text": [
            "Data for Train\n",
            "encoder_input_data (X):  [1, 14, 11, 7, 1, 14, 9, 20, 0, 0, 0, 0, 0, 0, 0, 0, 0, 0, 0, 0, 0]\n",
            "decoder_input_data (teacher forcing):  [0, 6, 3, 22, 24, 36, 64, 37, 0, 0, 0, 0, 0, 0, 0, 0, 0, 0, 0, 0]\n",
            "decoder_target_data (y): [6, 3, 22, 24, 36, 64, 37, 0, 0, 0, 0, 0, 0, 0, 0, 0, 0, 0, 0, 0]\n",
            "(44204, 21, 129)\n"
          ],
          "name": "stdout"
        }
      ]
    },
    {
      "cell_type": "code",
      "metadata": {
        "id": "hqowG_YaRNUX"
      },
      "source": [
        "#@title LSTMoutputDimension\n",
        "LSTMoutputDimension = 256 #@param {type:\"integer\"}"
      ],
      "execution_count": 18,
      "outputs": []
    },
    {
      "cell_type": "code",
      "metadata": {
        "id": "BtlvelkFHWgz"
      },
      "source": [
        "# Define an input sequence and process it.\n",
        "encoder_inputs= Input(shape=(max_input_sequence, input_dimension), name='encoder_inputs')\n",
        "\n",
        "masking = tf.keras.layers.Masking(mask_value= hindi_pad)\n",
        "encoder_inputs_masked = masking(encoder_inputs)\n",
        "\n",
        "\n",
        "encoder_lstm=LSTM(LSTMoutputDimension, return_state=True, name='encoder_lstm')\n",
        "LSTM_outputs, state_h, state_c = encoder_lstm(encoder_inputs_masked)\n",
        "\n",
        "\n",
        "# We discard `LSTM_outputs` and only keep the other states.\n",
        "encoder_states = [state_h, state_c]\n",
        "\n",
        "\n",
        "\n",
        "decoder_inputs = Input(shape=(None, input_dimension), name='decoder_inputs')\n",
        "decoder_lstm = LSTM(LSTMoutputDimension, return_sequences=True, return_state=True, name='decoder_lstm')\n",
        "\n",
        "# Set up the decoder, using `context vector` as initial state.\n",
        "decoder_outputs, _, _ = decoder_lstm(decoder_inputs,\n",
        "                                     initial_state=encoder_states)\n",
        "\n",
        "#complete the decoder model by adding a Dense layer with Softmax activation function \n",
        "#for prediction of the next output\n",
        "#Dense layer will output one-hot encoded representation as we did for input\n",
        "#Therefore, we will use input_dimension number of neurons\n",
        "decoder_dense = Dense(input_dimension, activation='softmax', name='decoder_dense')\n",
        "decoder_outputs = decoder_dense(decoder_outputs)\n",
        "\n",
        "# put together\n",
        "model_encoder_training = Model([encoder_inputs, decoder_inputs], decoder_outputs, name='model_encoder_training')"
      ],
      "execution_count": 19,
      "outputs": []
    },
    {
      "cell_type": "code",
      "metadata": {
        "colab": {
          "base_uri": "https://localhost:8080/",
          "height": 902
        },
        "id": "j0eCYltpHWkW",
        "outputId": "2da54974-e96c-419d-a2a4-8535594d1a1b"
      },
      "source": [
        "model_encoder_training.compile(optimizer='adam', loss='categorical_crossentropy', metrics=['accuracy'])\n",
        "model_encoder_training.summary()\n",
        "plot_model(model_encoder_training, show_shapes=True)"
      ],
      "execution_count": 78,
      "outputs": [
        {
          "output_type": "stream",
          "text": [
            "Model: \"model_encoder_training\"\n",
            "__________________________________________________________________________________________________\n",
            "Layer (type)                    Output Shape         Param #     Connected to                     \n",
            "==================================================================================================\n",
            "encoder_inputs (InputLayer)     [(None, 21, 129)]    0                                            \n",
            "__________________________________________________________________________________________________\n",
            "masking (Masking)               (None, 21, 129)      0           encoder_inputs[0][0]             \n",
            "__________________________________________________________________________________________________\n",
            "decoder_inputs (InputLayer)     [(None, None, 129)]  0                                            \n",
            "__________________________________________________________________________________________________\n",
            "encoder_lstm (LSTM)             [(None, 256), (None, 395264      masking[0][0]                    \n",
            "__________________________________________________________________________________________________\n",
            "decoder_lstm (LSTM)             [(None, None, 256),  395264      decoder_inputs[0][0]             \n",
            "                                                                 encoder_lstm[0][1]               \n",
            "                                                                 encoder_lstm[0][2]               \n",
            "__________________________________________________________________________________________________\n",
            "decoder_dense (Dense)           (None, None, 129)    33153       decoder_lstm[0][0]               \n",
            "==================================================================================================\n",
            "Total params: 823,681\n",
            "Trainable params: 823,681\n",
            "Non-trainable params: 0\n",
            "__________________________________________________________________________________________________\n"
          ],
          "name": "stdout"
        },
        {
          "output_type": "execute_result",
          "data": {
            "image/png": "[encoded data removed]",
            "text/plain": [
              "<IPython.core.display.Image object>"
            ]
          },
          "metadata": {
            "tags": []
          },
          "execution_count": 78
        }
      ]
    },
    {
      "cell_type": "code",
      "metadata": {
        "colab": {
          "base_uri": "https://localhost:8080/"
        },
        "id": "PnYEE-WfRdzg",
        "outputId": "71230e68-f815-48c8-beb4-4bc20ad70796"
      },
      "source": [
        "model_encoder_training.fit([encoder_input_data, decoder_input_data], decoder_target_data,\n",
        "          batch_size=64,\n",
        "          epochs=100,\n",
        "          validation_split=0.2)"
      ],
      "execution_count": 79,
      "outputs": [
        {
          "output_type": "stream",
          "text": [
            "Epoch 1/100\n",
            "553/553 [==============================] - 26s 37ms/step - loss: 0.0110 - accuracy: 0.9956 - val_loss: 0.3877 - val_accuracy: 0.9349\n",
            "Epoch 2/100\n",
            "553/553 [==============================] - 19s 33ms/step - loss: 0.0119 - accuracy: 0.9951 - val_loss: 0.3873 - val_accuracy: 0.9348\n",
            "Epoch 3/100\n",
            "553/553 [==============================] - 18s 33ms/step - loss: 0.0109 - accuracy: 0.9954 - val_loss: 0.3931 - val_accuracy: 0.9334\n",
            "Epoch 4/100\n",
            "553/553 [==============================] - 19s 34ms/step - loss: 0.0102 - accuracy: 0.9955 - val_loss: 0.3708 - val_accuracy: 0.9358\n",
            "Epoch 5/100\n",
            "553/553 [==============================] - 19s 33ms/step - loss: 0.0096 - accuracy: 0.9958 - val_loss: 0.3822 - val_accuracy: 0.9341\n",
            "Epoch 6/100\n",
            "553/553 [==============================] - 18s 33ms/step - loss: 0.0101 - accuracy: 0.9957 - val_loss: 0.3783 - val_accuracy: 0.9341\n",
            "Epoch 7/100\n",
            "553/553 [==============================] - 19s 33ms/step - loss: 0.0105 - accuracy: 0.9957 - val_loss: 0.3844 - val_accuracy: 0.9327\n",
            "Epoch 8/100\n",
            "553/553 [==============================] - 19s 34ms/step - loss: 0.0103 - accuracy: 0.9957 - val_loss: 0.3894 - val_accuracy: 0.9322\n",
            "Epoch 9/100\n",
            "553/553 [==============================] - 19s 34ms/step - loss: 0.0112 - accuracy: 0.9954 - val_loss: 0.3937 - val_accuracy: 0.9304\n",
            "Epoch 10/100\n",
            "553/553 [==============================] - 19s 34ms/step - loss: 0.0103 - accuracy: 0.9957 - val_loss: 0.3904 - val_accuracy: 0.9324\n",
            "Epoch 11/100\n",
            "553/553 [==============================] - 19s 34ms/step - loss: 0.0099 - accuracy: 0.9957 - val_loss: 0.3867 - val_accuracy: 0.9320\n",
            "Epoch 12/100\n",
            "553/553 [==============================] - 19s 34ms/step - loss: 0.0103 - accuracy: 0.9957 - val_loss: 0.3974 - val_accuracy: 0.9307\n",
            "Epoch 13/100\n",
            "553/553 [==============================] - 19s 34ms/step - loss: 0.0109 - accuracy: 0.9955 - val_loss: 0.4043 - val_accuracy: 0.9288\n",
            "Epoch 14/100\n",
            "553/553 [==============================] - 19s 34ms/step - loss: 0.0106 - accuracy: 0.9956 - val_loss: 0.3983 - val_accuracy: 0.9288\n",
            "Epoch 15/100\n",
            "553/553 [==============================] - 19s 34ms/step - loss: 0.0105 - accuracy: 0.9957 - val_loss: 0.3925 - val_accuracy: 0.9296\n",
            "Epoch 16/100\n",
            "553/553 [==============================] - 19s 34ms/step - loss: 0.0097 - accuracy: 0.9959 - val_loss: 0.3950 - val_accuracy: 0.9275\n",
            "Epoch 17/100\n",
            "553/553 [==============================] - 19s 34ms/step - loss: 0.0103 - accuracy: 0.9957 - val_loss: 0.3949 - val_accuracy: 0.9269\n",
            "Epoch 18/100\n",
            "553/553 [==============================] - 19s 34ms/step - loss: 0.0102 - accuracy: 0.9957 - val_loss: 0.4112 - val_accuracy: 0.9261\n",
            "Epoch 19/100\n",
            "553/553 [==============================] - 19s 34ms/step - loss: 0.0106 - accuracy: 0.9956 - val_loss: 0.4032 - val_accuracy: 0.9255\n",
            "Epoch 20/100\n",
            "553/553 [==============================] - 19s 34ms/step - loss: 0.0101 - accuracy: 0.9958 - val_loss: 0.4068 - val_accuracy: 0.9248\n",
            "Epoch 21/100\n",
            "553/553 [==============================] - 19s 34ms/step - loss: 0.0103 - accuracy: 0.9957 - val_loss: 0.4147 - val_accuracy: 0.9250\n",
            "Epoch 22/100\n",
            "553/553 [==============================] - 19s 34ms/step - loss: 0.0108 - accuracy: 0.9956 - val_loss: 0.4128 - val_accuracy: 0.9253\n",
            "Epoch 23/100\n",
            "553/553 [==============================] - 19s 34ms/step - loss: 0.0101 - accuracy: 0.9956 - val_loss: 0.4167 - val_accuracy: 0.9239\n",
            "Epoch 24/100\n",
            "553/553 [==============================] - 19s 34ms/step - loss: 0.0099 - accuracy: 0.9958 - val_loss: 0.4167 - val_accuracy: 0.9233\n",
            "Epoch 25/100\n",
            "553/553 [==============================] - 19s 34ms/step - loss: 0.0098 - accuracy: 0.9958 - val_loss: 0.4285 - val_accuracy: 0.9224\n",
            "Epoch 26/100\n",
            "553/553 [==============================] - 19s 34ms/step - loss: 0.0103 - accuracy: 0.9956 - val_loss: 0.4081 - val_accuracy: 0.9237\n",
            "Epoch 27/100\n",
            "553/553 [==============================] - 19s 34ms/step - loss: 0.0107 - accuracy: 0.9955 - val_loss: 0.4205 - val_accuracy: 0.9208\n",
            "Epoch 28/100\n",
            "553/553 [==============================] - 19s 34ms/step - loss: 0.0099 - accuracy: 0.9958 - val_loss: 0.4195 - val_accuracy: 0.9209\n",
            "Epoch 29/100\n",
            "553/553 [==============================] - 19s 34ms/step - loss: 0.0095 - accuracy: 0.9958 - val_loss: 0.4288 - val_accuracy: 0.9203\n",
            "Epoch 30/100\n",
            "553/553 [==============================] - 19s 34ms/step - loss: 0.0095 - accuracy: 0.9959 - val_loss: 0.4194 - val_accuracy: 0.9214\n",
            "Epoch 31/100\n",
            "553/553 [==============================] - 19s 34ms/step - loss: 0.0099 - accuracy: 0.9958 - val_loss: 0.4227 - val_accuracy: 0.9202\n",
            "Epoch 32/100\n",
            "553/553 [==============================] - 19s 34ms/step - loss: 0.0098 - accuracy: 0.9958 - val_loss: 0.4236 - val_accuracy: 0.9191\n",
            "Epoch 33/100\n",
            "553/553 [==============================] - 19s 34ms/step - loss: 0.0097 - accuracy: 0.9958 - val_loss: 0.4295 - val_accuracy: 0.9187\n",
            "Epoch 34/100\n",
            "553/553 [==============================] - 19s 34ms/step - loss: 0.0099 - accuracy: 0.9958 - val_loss: 0.4443 - val_accuracy: 0.9155\n",
            "Epoch 35/100\n",
            "553/553 [==============================] - 19s 34ms/step - loss: 0.0112 - accuracy: 0.9954 - val_loss: 0.4242 - val_accuracy: 0.9199\n",
            "Epoch 36/100\n",
            "553/553 [==============================] - 19s 34ms/step - loss: 0.0098 - accuracy: 0.9957 - val_loss: 0.4414 - val_accuracy: 0.9153\n",
            "Epoch 37/100\n",
            "553/553 [==============================] - 19s 34ms/step - loss: 0.0095 - accuracy: 0.9957 - val_loss: 0.4350 - val_accuracy: 0.9179\n",
            "Epoch 38/100\n",
            "553/553 [==============================] - 19s 34ms/step - loss: 0.0090 - accuracy: 0.9960 - val_loss: 0.4323 - val_accuracy: 0.9183\n",
            "Epoch 39/100\n",
            "553/553 [==============================] - 19s 34ms/step - loss: 0.0094 - accuracy: 0.9959 - val_loss: 0.4305 - val_accuracy: 0.9187\n",
            "Epoch 40/100\n",
            "553/553 [==============================] - 19s 34ms/step - loss: 0.0091 - accuracy: 0.9960 - val_loss: 0.4367 - val_accuracy: 0.9172\n",
            "Epoch 41/100\n",
            "553/553 [==============================] - 19s 34ms/step - loss: 0.0095 - accuracy: 0.9960 - val_loss: 0.4381 - val_accuracy: 0.9171\n",
            "Epoch 42/100\n",
            "553/553 [==============================] - 19s 34ms/step - loss: 0.0110 - accuracy: 0.9956 - val_loss: 0.4693 - val_accuracy: 0.9068\n",
            "Epoch 43/100\n",
            "553/553 [==============================] - 19s 34ms/step - loss: 0.0129 - accuracy: 0.9948 - val_loss: 0.4562 - val_accuracy: 0.9114\n",
            "Epoch 44/100\n",
            "553/553 [==============================] - 19s 34ms/step - loss: 0.0092 - accuracy: 0.9956 - val_loss: 0.4466 - val_accuracy: 0.9128\n",
            "Epoch 45/100\n",
            "553/553 [==============================] - 19s 34ms/step - loss: 0.0085 - accuracy: 0.9958 - val_loss: 0.4480 - val_accuracy: 0.9131\n",
            "Epoch 46/100\n",
            "553/553 [==============================] - 19s 34ms/step - loss: 0.0084 - accuracy: 0.9960 - val_loss: 0.4518 - val_accuracy: 0.9126\n",
            "Epoch 47/100\n",
            "553/553 [==============================] - 19s 34ms/step - loss: 0.0088 - accuracy: 0.9959 - val_loss: 0.4485 - val_accuracy: 0.9129\n",
            "Epoch 48/100\n",
            "553/553 [==============================] - 19s 34ms/step - loss: 0.0088 - accuracy: 0.9960 - val_loss: 0.4488 - val_accuracy: 0.9132\n",
            "Epoch 49/100\n",
            "553/553 [==============================] - 19s 34ms/step - loss: 0.0096 - accuracy: 0.9957 - val_loss: 0.4463 - val_accuracy: 0.9128\n",
            "Epoch 50/100\n",
            "553/553 [==============================] - 19s 34ms/step - loss: 0.0092 - accuracy: 0.9960 - val_loss: 0.4607 - val_accuracy: 0.9117\n",
            "Epoch 51/100\n",
            "553/553 [==============================] - 19s 34ms/step - loss: 0.0100 - accuracy: 0.9957 - val_loss: 0.4884 - val_accuracy: 0.9063\n",
            "Epoch 52/100\n",
            "553/553 [==============================] - 19s 34ms/step - loss: 0.0140 - accuracy: 0.9944 - val_loss: 0.4645 - val_accuracy: 0.9091\n",
            "Epoch 53/100\n",
            "553/553 [==============================] - 19s 34ms/step - loss: 0.0095 - accuracy: 0.9954 - val_loss: 0.4586 - val_accuracy: 0.9108\n",
            "Epoch 54/100\n",
            "553/553 [==============================] - 19s 34ms/step - loss: 0.0088 - accuracy: 0.9958 - val_loss: 0.4745 - val_accuracy: 0.9091\n",
            "Epoch 55/100\n",
            "553/553 [==============================] - 19s 34ms/step - loss: 0.0087 - accuracy: 0.9958 - val_loss: 0.4666 - val_accuracy: 0.9097\n",
            "Epoch 56/100\n",
            "553/553 [==============================] - 19s 34ms/step - loss: 0.0083 - accuracy: 0.9959 - val_loss: 0.4732 - val_accuracy: 0.9083\n",
            "Epoch 57/100\n",
            "553/553 [==============================] - 19s 34ms/step - loss: 0.0084 - accuracy: 0.9961 - val_loss: 0.4665 - val_accuracy: 0.9103\n",
            "Epoch 58/100\n",
            "553/553 [==============================] - 19s 34ms/step - loss: 0.0091 - accuracy: 0.9960 - val_loss: 0.4716 - val_accuracy: 0.9080\n",
            "Epoch 59/100\n",
            "553/553 [==============================] - 19s 34ms/step - loss: 0.0095 - accuracy: 0.9958 - val_loss: 0.4842 - val_accuracy: 0.9066\n",
            "Epoch 60/100\n",
            "553/553 [==============================] - 19s 34ms/step - loss: 0.0102 - accuracy: 0.9956 - val_loss: 0.5013 - val_accuracy: 0.9037\n",
            "Epoch 61/100\n",
            "553/553 [==============================] - 19s 34ms/step - loss: 0.0102 - accuracy: 0.9955 - val_loss: 0.4895 - val_accuracy: 0.9058\n",
            "Epoch 62/100\n",
            "553/553 [==============================] - 19s 34ms/step - loss: 0.0095 - accuracy: 0.9956 - val_loss: 0.4847 - val_accuracy: 0.9081\n",
            "Epoch 63/100\n",
            "553/553 [==============================] - 19s 34ms/step - loss: 0.0084 - accuracy: 0.9959 - val_loss: 0.4795 - val_accuracy: 0.9075\n",
            "Epoch 64/100\n",
            "553/553 [==============================] - 19s 34ms/step - loss: 0.0087 - accuracy: 0.9959 - val_loss: 0.4849 - val_accuracy: 0.9066\n",
            "Epoch 65/100\n",
            "553/553 [==============================] - 19s 34ms/step - loss: 0.0089 - accuracy: 0.9959 - val_loss: 0.4824 - val_accuracy: 0.9062\n",
            "Epoch 66/100\n",
            "553/553 [==============================] - 19s 34ms/step - loss: 0.0094 - accuracy: 0.9957 - val_loss: 0.4947 - val_accuracy: 0.9043\n",
            "Epoch 67/100\n",
            "553/553 [==============================] - 19s 34ms/step - loss: 0.0089 - accuracy: 0.9959 - val_loss: 0.4933 - val_accuracy: 0.9044\n",
            "Epoch 68/100\n",
            "553/553 [==============================] - 19s 34ms/step - loss: 0.0096 - accuracy: 0.9956 - val_loss: 0.4924 - val_accuracy: 0.9046\n",
            "Epoch 69/100\n",
            "553/553 [==============================] - 19s 34ms/step - loss: 0.0090 - accuracy: 0.9958 - val_loss: 0.4931 - val_accuracy: 0.9045\n",
            "Epoch 70/100\n",
            "553/553 [==============================] - 19s 34ms/step - loss: 0.0093 - accuracy: 0.9957 - val_loss: 0.4928 - val_accuracy: 0.9037\n",
            "Epoch 71/100\n",
            "553/553 [==============================] - 19s 34ms/step - loss: 0.0091 - accuracy: 0.9958 - val_loss: 0.5059 - val_accuracy: 0.9036\n",
            "Epoch 72/100\n",
            "553/553 [==============================] - 19s 34ms/step - loss: 0.0089 - accuracy: 0.9959 - val_loss: 0.5039 - val_accuracy: 0.9026\n",
            "Epoch 73/100\n",
            "553/553 [==============================] - 19s 34ms/step - loss: 0.0089 - accuracy: 0.9959 - val_loss: 0.5044 - val_accuracy: 0.9029\n",
            "Epoch 74/100\n",
            "553/553 [==============================] - 19s 34ms/step - loss: 0.0093 - accuracy: 0.9957 - val_loss: 0.5153 - val_accuracy: 0.9005\n",
            "Epoch 75/100\n",
            "553/553 [==============================] - 19s 34ms/step - loss: 0.0101 - accuracy: 0.9955 - val_loss: 0.5081 - val_accuracy: 0.9020\n",
            "Epoch 76/100\n",
            "553/553 [==============================] - 19s 35ms/step - loss: 0.0092 - accuracy: 0.9957 - val_loss: 0.5019 - val_accuracy: 0.9038\n",
            "Epoch 77/100\n",
            "553/553 [==============================] - 19s 34ms/step - loss: 0.0085 - accuracy: 0.9959 - val_loss: 0.5053 - val_accuracy: 0.9026\n",
            "Epoch 78/100\n",
            "553/553 [==============================] - 19s 34ms/step - loss: 0.0085 - accuracy: 0.9959 - val_loss: 0.5049 - val_accuracy: 0.9040\n",
            "Epoch 79/100\n",
            "553/553 [==============================] - 19s 35ms/step - loss: 0.0085 - accuracy: 0.9960 - val_loss: 0.5045 - val_accuracy: 0.9032\n",
            "Epoch 80/100\n",
            "553/553 [==============================] - 19s 34ms/step - loss: 0.0084 - accuracy: 0.9959 - val_loss: 0.5122 - val_accuracy: 0.9005\n",
            "Epoch 81/100\n",
            "553/553 [==============================] - 19s 34ms/step - loss: 0.0091 - accuracy: 0.9959 - val_loss: 0.5219 - val_accuracy: 0.9000\n",
            "Epoch 82/100\n",
            "553/553 [==============================] - 19s 34ms/step - loss: 0.0096 - accuracy: 0.9956 - val_loss: 0.5166 - val_accuracy: 0.9009\n",
            "Epoch 83/100\n",
            "553/553 [==============================] - 19s 34ms/step - loss: 0.0089 - accuracy: 0.9958 - val_loss: 0.5254 - val_accuracy: 0.8995\n",
            "Epoch 84/100\n",
            "553/553 [==============================] - 19s 34ms/step - loss: 0.0085 - accuracy: 0.9958 - val_loss: 0.5284 - val_accuracy: 0.8995\n",
            "Epoch 85/100\n",
            "553/553 [==============================] - 19s 34ms/step - loss: 0.0086 - accuracy: 0.9957 - val_loss: 0.5176 - val_accuracy: 0.8997\n",
            "Epoch 86/100\n",
            "553/553 [==============================] - 19s 34ms/step - loss: 0.0085 - accuracy: 0.9960 - val_loss: 0.5252 - val_accuracy: 0.8992\n",
            "Epoch 87/100\n",
            "553/553 [==============================] - 19s 34ms/step - loss: 0.0088 - accuracy: 0.9959 - val_loss: 0.5204 - val_accuracy: 0.8992\n",
            "Epoch 88/100\n",
            "553/553 [==============================] - 19s 34ms/step - loss: 0.0090 - accuracy: 0.9959 - val_loss: 0.5237 - val_accuracy: 0.8995\n",
            "Epoch 89/100\n",
            "553/553 [==============================] - 19s 34ms/step - loss: 0.0092 - accuracy: 0.9958 - val_loss: 0.5218 - val_accuracy: 0.8999\n",
            "Epoch 90/100\n",
            "553/553 [==============================] - 19s 34ms/step - loss: 0.0089 - accuracy: 0.9958 - val_loss: 0.5174 - val_accuracy: 0.9000\n",
            "Epoch 91/100\n",
            "553/553 [==============================] - 19s 34ms/step - loss: 0.0099 - accuracy: 0.9956 - val_loss: 0.5298 - val_accuracy: 0.8981\n",
            "Epoch 92/100\n",
            "553/553 [==============================] - 19s 34ms/step - loss: 0.0088 - accuracy: 0.9958 - val_loss: 0.5353 - val_accuracy: 0.8983\n",
            "Epoch 93/100\n",
            "553/553 [==============================] - 19s 34ms/step - loss: 0.0099 - accuracy: 0.9954 - val_loss: 0.5411 - val_accuracy: 0.8972\n",
            "Epoch 94/100\n",
            "553/553 [==============================] - 19s 34ms/step - loss: 0.0085 - accuracy: 0.9958 - val_loss: 0.5352 - val_accuracy: 0.8985\n",
            "Epoch 95/100\n",
            "553/553 [==============================] - 19s 34ms/step - loss: 0.0084 - accuracy: 0.9960 - val_loss: 0.5283 - val_accuracy: 0.8990\n",
            "Epoch 96/100\n",
            "553/553 [==============================] - 19s 34ms/step - loss: 0.0082 - accuracy: 0.9959 - val_loss: 0.5271 - val_accuracy: 0.8997\n",
            "Epoch 97/100\n",
            "553/553 [==============================] - 19s 34ms/step - loss: 0.0081 - accuracy: 0.9959 - val_loss: 0.5265 - val_accuracy: 0.8989\n",
            "Epoch 98/100\n",
            "553/553 [==============================] - 19s 34ms/step - loss: 0.0086 - accuracy: 0.9958 - val_loss: 0.5310 - val_accuracy: 0.8973\n",
            "Epoch 99/100\n",
            "553/553 [==============================] - 19s 34ms/step - loss: 0.0088 - accuracy: 0.9958 - val_loss: 0.5385 - val_accuracy: 0.8968\n",
            "Epoch 100/100\n",
            "553/553 [==============================] - 19s 35ms/step - loss: 0.0092 - accuracy: 0.9957 - val_loss: 0.5549 - val_accuracy: 0.8948\n"
          ],
          "name": "stdout"
        },
        {
          "output_type": "execute_result",
          "data": {
            "text/plain": [
              "<tensorflow.python.keras.callbacks.History at 0x7fc50d24f590>"
            ]
          },
          "metadata": {
            "tags": []
          },
          "execution_count": 79
        }
      ]
    },
    {
      "cell_type": "code",
      "metadata": {
        "id": "i9NIsLE6j_3h"
      },
      "source": [
        "def printTargetWord(seq):\n",
        "    word = \"\"\n",
        "    for chr in seq:\n",
        "        #print(chr)\n",
        "        if chr == 0:\n",
        "            break\n",
        "        word=word+hindi_index2alpha[int(chr)]\n",
        "    return word\n",
        "def printInputWord(seq):\n",
        "    word = \"\"\n",
        "    for chr in seq:\n",
        "        if chr==0:\n",
        "            break\n",
        "        word=word+eng_index2alpha[int(chr)]\n",
        "    return word"
      ],
      "execution_count": 71,
      "outputs": []
    },
    {
      "cell_type": "code",
      "metadata": {
        "colab": {
          "base_uri": "https://localhost:8080/",
          "height": 35
        },
        "id": "9XSP4jmWiWij",
        "outputId": "4cf0dafa-89e6-469f-f80c-feccb93659d7"
      },
      "source": [
        "printInputWord([1, 14, 11, 0, 0, 0, 0, 0, 0, 0, 0, 0, 0, 0, 0, 0, 0, 0, 0, 0, 0])"
      ],
      "execution_count": 69,
      "outputs": [
        {
          "output_type": "execute_result",
          "data": {
            "application/vnd.google.colaboratory.intrinsic+json": {
              "type": "string"
            },
            "text/plain": [
              "'ank'"
            ]
          },
          "metadata": {
            "tags": []
          },
          "execution_count": 69
        }
      ]
    },
    {
      "cell_type": "code",
      "metadata": {
        "id": "m2Uhhi5OV5zK"
      },
      "source": [
        "#@title Function to Train & Test  given model (Early Stopping monitor 'val_loss')\n",
        "def train_test(model, X_train, y_train , X_test, \ty_test, epochs=500, batch_size=32, patience=5,verbose=0):\n",
        "\t# patient early stopping\n",
        "\t#es = EarlyStopping(monitor='val_accuracy', mode='max', min_delta=1, patience=20)\n",
        "\tes = EarlyStopping(monitor='val_loss', mode='min', verbose=1, patience=patience)\n",
        "\t# train model\n",
        "\tprint('training for ',epochs,' epochs begins with EarlyStopping(monitor= val_loss, patience=',patience,')....')\n",
        "\thistory=model.fit(X_train, y_train, validation_split= 0.1, epochs=epochs,batch_size=batch_size, verbose=verbose, callbacks=[es])\n",
        "\tprint(epochs,' epoch training finished...')\n",
        "\n",
        "\t# report training\n",
        "\t# list all data in history\n",
        "\t#print(history.history.keys())\n",
        "\t# evaluate the model\n",
        "\t_, train_acc = model.evaluate(X_train, y_train, batch_size=batch_size, verbose=0)\n",
        "\t_, test_acc = model.evaluate(X_test, \ty_test, batch_size=batch_size, verbose=0)\n",
        "\tprint('\\nPREDICTION ACCURACY (%):')\n",
        "\tprint('Train: %.3f, Test: %.3f' % (train_acc*100, test_acc*100))\n",
        "\t# summarize history for accuracy\n",
        "\tplt.plot(history.history['accuracy'])\n",
        "\tplt.plot(history.history['val_accuracy'])\n",
        "\tplt.title(model.name+' accuracy')\n",
        "\tplt.ylabel('accuracy')\n",
        "\tplt.xlabel('epoch')\n",
        "\tplt.legend(['train', 'val'], loc='upper left')\n",
        "\tplt.show()\n",
        "\t# summarize history for loss\n",
        "\tplt.plot(history.history['loss'])\n",
        "\tplt.plot(history.history['val_loss'])\n",
        "\tplt.title(model.name+' loss')\n",
        "\tplt.ylabel('loss')\n",
        "\tplt.xlabel('epoch')\n",
        "\tplt.legend(['train', 'val'], loc='upper left')\n",
        "\tplt.show()\n",
        "\n",
        "\n",
        "\n",
        "\n",
        "  \n",
        "\t# spot check some examples\n",
        "\tspace = 3*len(one_hot_decode(y_test[0]))\n",
        "\tprint('10 examples from test data...')\n",
        "\tprint('Input',' '*(space-4) ,'Expected',' '*(space-7) ,\n",
        "\t      'Predicted',' '*(space-5) ,'T/F')\n",
        "\tcorrect =0 \n",
        "\tsampleNo =  100\n",
        "\n",
        "\tpredicted= model.predict(X_test[:sampleNo], batch_size=batch_size)\n",
        "\tfor sample in range(0,sampleNo):\n",
        "\t\tif (one_hot_decode(y_test[sample])== one_hot_decode(predicted[sample])):\n",
        "\t\t\tcorrect+=1\n",
        "\t\tprint( printInputWord(one_hot_decode(X_test[0][sample])), ' ', \n",
        "\t\t\t\t\tprintTargetWord(one_hot_decode(y_test[sample])),' ', printTargetWord(one_hot_decode(predicted[sample])),\n",
        "\t\t\t\t\t' ',one_hot_decode(y_test[sample])== one_hot_decode(predicted[sample]))\n",
        "\tprint('Accuracy: ', correct/sampleNo)"
      ],
      "execution_count": 76,
      "outputs": []
    },
    {
      "cell_type": "code",
      "metadata": {
        "colab": {
          "base_uri": "https://localhost:8080/",
          "height": 1000
        },
        "id": "I46w57yWTHJw",
        "outputId": "63074359-7237-49a7-ddde-f3092b1a9ab3"
      },
      "source": [
        "train_test(model_encoder_training, [encoder_input_data, decoder_input_data], decoder_target_data ,\n",
        "           [encoder_input_test, decoder_input_test], \n",
        "           decoder_target_test, epochs=55, batch_size=64, patience=3,verbose=2)"
      ],
      "execution_count": 77,
      "outputs": [
        {
          "output_type": "stream",
          "text": [
            "training for  55  epochs begins with EarlyStopping(monitor= val_loss, patience= 3 )....\n",
            "Epoch 1/55\n",
            "622/622 - 13s - loss: 0.0118 - accuracy: 0.9953 - val_loss: 0.7372 - val_accuracy: 0.8773\n",
            "Epoch 2/55\n",
            "622/622 - 13s - loss: 0.0118 - accuracy: 0.9953 - val_loss: 0.7484 - val_accuracy: 0.8757\n",
            "Epoch 3/55\n",
            "622/622 - 13s - loss: 0.0118 - accuracy: 0.9953 - val_loss: 0.7687 - val_accuracy: 0.8725\n",
            "Epoch 4/55\n",
            "622/622 - 13s - loss: 0.0117 - accuracy: 0.9952 - val_loss: 0.7657 - val_accuracy: 0.8752\n",
            "Epoch 00004: early stopping\n",
            "55  epoch training finished...\n",
            "\n",
            "PREDICTION ACCURACY (%):\n",
            "Train: 98.444, Test: 93.498\n"
          ],
          "name": "stdout"
        },
        {
          "output_type": "display_data",
          "data": {
            "image/png": "[encoded data removed]",
            "text/plain": [
              "<Figure size 432x288 with 1 Axes>"
            ]
          },
          "metadata": {
            "tags": [],
            "needs_background": "light"
          }
        },
        {
          "output_type": "display_data",
          "data": {
            "image/png": "[encoded data removed]",
            "text/plain": [
              "<Figure size 432x288 with 1 Axes>"
            ]
          },
          "metadata": {
            "tags": [],
            "needs_background": "light"
          }
        },
        {
          "output_type": "stream",
          "text": [
            "10 examples from test data...\n",
            "Input                                                          Expected                                                       Predicted                                                         T/F\n",
            "ank   अंक   अंक   True\n",
            "anka   अंक   अनका   False\n",
            "ankit   अंकित   अंकित   True\n",
            "anakon   अंकों   अनकों   False\n",
            "ankhon   अंकों   अँखखह   False\n",
            "ankon   अंकों   आनकों   False\n",
            "angkor   अंकोर   अंगगरो   False\n",
            "ankor   अंकोर   अंकोर   True\n",
            "angaarak   अंगारक   अंगारक   True\n",
            "angarak   अंगारक   अंगररक   False\n",
            "angraji   अंग्रज़ी   अंग्रजीी   False\n",
            "angreji   अंग्रज़ी   अंग्रेीी   False\n",
            "angrzi   अंग्रज़ी   आंग्रजीी   False\n",
            "antah   अंतः   अंतह   False\n",
            "antaha   अंतः   अंतहा   False\n",
            "antarmukh   अंतर्मुख   अंतरुमुख   False\n",
            "antmurkh   अंतर्मुख   अंतरुमु   False\n",
            "antrmukh   अंतर्मुख   अंतरुमुख   False\n",
            "andrabee   अंद्राबी   अंदरराईी   False\n",
            "andrabi   अंद्राबी   अंदरराणी   False\n",
            "andha   अंधा   अंधा   True\n",
            "andhapan   अंधापन   अंधापन   True\n",
            "andheri   अंधेरी   एंधेरी   False\n",
            "ambaani   अंबानी   अंबानी   True\n",
            "ambani   अंबानी   अंबानी   True\n",
            "akram   अकरम   अक््   False\n",
            "acapulco   अकापुल्को   अक्लुल्सो   False\n",
            "akapulko   अकापुल्को   अपालुलोको   False\n",
            "akhand   अखंड   अखंड   True\n",
            "akhil   अखिल   अखिल   True\n",
            "agavai   अगवाई   अगवाई   True\n",
            "agvaai   अगवाई   अगवाई   True\n",
            "augustine   अगस्टाइन   अगस्ट्इन   False\n",
            "augustustine   अगस्टाइन   अगु्ट्ससस   False\n",
            "agsta   अगस्ता   अगसतता   False\n",
            "agusta   अगस्ता   अगुुता   False\n",
            "augusta   अगस्ता   अगु्टा   False\n",
            "agr   अग्र   आग्र   False\n",
            "agra   अग्र   आग्रा   False\n",
            "achambha   अचंभा   अचंभा   True\n",
            "achanbha   अचंभा   अचंभा   True\n",
            "achievement   अचीवमेंट   आशिमेेंत   False\n",
            "achivement   अचीवमेंट   अशिवेेंट   False\n",
            "acchi   अच्छी   अच्छी   True\n",
            "achchi   अच्छी   अच्छी   True\n",
            "achhi   अच्छी   अछीछी   False\n",
            "achyut   अच्युत   अछ्युत   False\n",
            "achhanera   अछनेरा   आचाेंार   False\n",
            "achnera   अछनेरा   अचाेरा   False\n",
            "ajmeedh   अजमीढ़   अजमीद़   False\n",
            "ajhar   अजहर   अजार   False\n",
            "azhar   अजहर   अज़र   False\n",
            "ajit   अजित   अजीत   False\n",
            "agnat   अज्ञात   अज्ञात   True\n",
            "agyaat   अज्ञात   अज्ञात   True\n",
            "agyat   अज्ञात   अज्ञतत   False\n",
            "atakta   अटकता   अटाता   False\n",
            "atkata   अटकता   अटकता   True\n",
            "atake   अटके   अटके   True\n",
            "atke   अटके   टटके   False\n",
            "atwaal   अटवाल   अटवाल   True\n",
            "atwal   अटवाल   अटवाल   True\n",
            "attahasa   अट्टहास   आटाहासस   False\n",
            "atthaas   अट्टहास   थथ्हासस   False\n",
            "atthas   अट्टहास   अथ्हासस   False\n",
            "addon   अड्डों   एड्डों   False\n",
            "athak   अथक   अथक   True\n",
            "atharv   अथर्व   अथा्व   False\n",
            "atharva   अथर्व   अथर्व   True\n",
            "adad   अदद   अदा   False\n",
            "adaani   अदाणी   अदानी   False\n",
            "adani   अदाणी   अदानी   False\n",
            "advait   अद्वैत   आडववित   False\n",
            "adwait   अद्वैत   अडववित   False\n",
            "advaitvaad   अद्वैतवाद   अड्वित्ाद   False\n",
            "advaitwad   अद्वैतवाद   अडववित्ाद   False\n",
            "adhivas   अधिवास   अधिवास   True\n",
            "adhiwas   अधिवास   अधिवास   True\n",
            "advivas   अधिवास   अदवविव   False\n",
            "adhiik   अधीक   अधिक   False\n",
            "adhik   अधीक   अधिक   False\n",
            "adhyayanarat   अध्ययनरत   अध्ययना्   False\n",
            "adhyayanrat   अध्ययनरत   अध्ययना््   False\n",
            "adhyaynrat   अध्ययनरत   अध्ययना््   False\n",
            "anant   अनंत   अनात   False\n",
            "ananti   अनंती   अनंती   True\n",
            "angadh   अनगढ़   अंगद़   False\n",
            "angarh   अनगढ़   अंगा़   False\n",
            "anchahe   अनचाहे   अनचेछे   False\n",
            "anthak   अनथक   अंंक   False\n",
            "unthak   अनथक   अं्त   False\n",
            "anhoni   अनहोनी   अनोोंी   False\n",
            "anaavashyak   अनावश्यक   अनावा्कक   False\n",
            "anavashyak   अनावश्यक   अनावा्यक   False\n",
            "anavshyak   अनावश्यक   अनायश्यक   False\n",
            "anawashyak   अनावश्यक   अनावा्यक   False\n",
            "anik   अनिक   अनिक   True\n",
            "anishwarvadi   अनीश्वरवादी   अनिश्वरवददी   False\n",
            "anishwarwadi   अनीश्वरवादी   अनिश्वरवददी   False\n",
            "anukoltha   अनुकूलता   अनुकूमता   False\n",
            "Accuracy:  0.28\n"
          ],
          "name": "stdout"
        }
      ]
    },
    {
      "cell_type": "code",
      "metadata": {
        "id": "E2sAjDTSTT2F"
      },
      "source": [
        "encoder_model = Model(encoder_inputs, encoder_states)"
      ],
      "execution_count": 27,
      "outputs": []
    },
    {
      "cell_type": "code",
      "metadata": {
        "id": "J_C54WtATeQ9"
      },
      "source": [
        "decoder_state_input_h = Input(shape=(LSTMoutputDimension,))\n",
        "decoder_state_input_c = Input(shape=(LSTMoutputDimension,))\n",
        "decoder_states_inputs = [decoder_state_input_h, decoder_state_input_c]\n",
        "\n",
        "decoder_outputs, state_h, state_c = decoder_lstm(\n",
        "    decoder_inputs, initial_state=decoder_states_inputs)\n",
        "decoder_states = [state_h, state_c]\n",
        "decoder_outputs = decoder_dense(decoder_outputs)\n",
        "decoder_model = Model(\n",
        "    [decoder_inputs] + decoder_states_inputs,\n",
        "    [decoder_outputs] + decoder_states)"
      ],
      "execution_count": 28,
      "outputs": []
    },
    {
      "cell_type": "code",
      "metadata": {
        "id": "h1eEuWStTfx0"
      },
      "source": [
        "def decode_sequence(input_seq):\n",
        "    # Encode the input as state vectors.\n",
        "    states_value = encoder_model.predict(input_seq)\n",
        "\n",
        "    # Generate empty target sequence of length 1.\n",
        "    target_seq = np.zeros((1, 1, input_dimension))\n",
        "    # Populate the first character of target sequence with the start character.\n",
        "    target_seq[0, 0, 0] = 1 \n",
        "    # START (0 zero) in one-hot-encoding --> [1, 0, 0, 0, 0, 0, 0, 0, 0, 0]\n",
        "\n",
        "    # Sampling loop for a batch of sequences\n",
        "    # (to simplify, here we assume a batch of size 1).\n",
        "    stop_condition = False\n",
        "    decoded_seq = list()\n",
        "    while not stop_condition:\n",
        "\n",
        "        # in a loop\n",
        "        # decode the input to a token/output prediction + required states for context vector\n",
        "        output_tokens, h, c = decoder_model.predict(\n",
        "            [target_seq] + states_value)\n",
        "\n",
        "        # convert the token/output prediction to a token/output\n",
        "        sampled_token_index = np.argmax(output_tokens[0, -1, :])\n",
        "        sampled_char = sampled_token_index\n",
        "        # add the predicted token/output to output sequence\n",
        "        decoded_seq.append(sampled_char)\n",
        "        \n",
        "\n",
        "        # Exit condition: either hit max length\n",
        "        # or find stop character.\n",
        "        if (sampled_char == 0 or\n",
        "           len(decoded_seq) == max_output_sequence):\n",
        "            stop_condition = True\n",
        "\n",
        "        # Update the input target sequence (of length 1) \n",
        "        # with the predicted token/output \n",
        "        target_seq = np.zeros((1, 1, input_dimension))\n",
        "        target_seq[0, 0, sampled_token_index] = 1.\n",
        "\n",
        "        # Update input states (context vector) \n",
        "        # with the ouputed states\n",
        "        states_value = [h, c]\n",
        "\n",
        "        # loop back.....\n",
        "        \n",
        "    # when loop exists return the output sequence\n",
        "    return decoded_seq"
      ],
      "execution_count": 29,
      "outputs": []
    },
    {
      "cell_type": "code",
      "metadata": {
        "id": "n7m2a-EOTlNa"
      },
      "source": [
        "print('Input \\t\\t\\t\\t\\t  Expected  \\t\\t\\t   Predicted \\t\\t\\t\\t\\t\\t\\t T/F')\n",
        "correct =0 \n",
        "sampleNo =  1000\n",
        "for sample in range(0,sampleNo):\n",
        "  predicted= decode_sequence(encoder_input_data[sample].reshape(1,max_input_sequence,input_dimension))\n",
        "  if (one_hot_decode(decoder_target_data[sample])== predicted+ [0] * (max_output_sequence- len(predicted))):\n",
        "    correct+=1\n",
        "  print( one_hot_decode(encoder_input_data[sample]), '\\t\\t', \n",
        "        one_hot_decode(decoder_target_data[sample]),'\\t', predicted,\n",
        "        '\\t\\t',one_hot_decode(decoder_target_data[sample])== predicted+ [0] * (max_output_sequence- len(predicted)))\n",
        "print('Accuracy: ', correct/sampleNo)"
      ],
      "execution_count": null,
      "outputs": []
    },
    {
      "cell_type": "code",
      "metadata": {
        "colab": {
          "base_uri": "https://localhost:8080/"
        },
        "id": "xcjRdtBrxnz-",
        "outputId": "cc9a474c-015a-4505-880b-bf0bc9f19871"
      },
      "source": [
        "print(encoder_input_data[2].shape)\n",
        "encoder_test_word_input_data[2].shape"
      ],
      "execution_count": 69,
      "outputs": [
        {
          "output_type": "stream",
          "text": [
            "(21, 129)\n"
          ],
          "name": "stdout"
        },
        {
          "output_type": "execute_result",
          "data": {
            "text/plain": [
              "(21, 129)"
            ]
          },
          "metadata": {
            "tags": []
          },
          "execution_count": 69
        }
      ]
    },
    {
      "cell_type": "code",
      "metadata": {
        "colab": {
          "base_uri": "https://localhost:8080/"
        },
        "id": "dtT6A67f3ybJ",
        "outputId": "ff93f847-33cd-4434-b62f-4376fc99b2c1"
      },
      "source": [
        "w=\"abc\"\n",
        "w=w.rstrip(w[-1])\n",
        "print(w)"
      ],
      "execution_count": 91,
      "outputs": [
        {
          "output_type": "stream",
          "text": [
            "ab\n"
          ],
          "name": "stdout"
        }
      ]
    },
    {
      "cell_type": "code",
      "metadata": {
        "colab": {
          "base_uri": "https://localhost:8080/",
          "height": 86
        },
        "id": "OKfGqsyhpTKI",
        "outputId": "e74fa346-7250-4e09-a6cb-96b1bcc283e5"
      },
      "source": [
        "test_word_set = ['kamal']\n",
        "X_test_word=createDataset(test_word_set,eng_alpha2index)\n",
        "X_test_word_padded=pad_sequences(X_test_word, maxlen= max_input_sequence, padding='post', value=eng_pad)\n",
        "print(\"X_test_word shape: \",X_test_word.shape)\n",
        "print(\"X_test_word_padded shape: \",X_test_word_padded.shape)\n",
        "encoder_test_word_input_data = X_test_word_padded.copy()\n",
        "decode_seq= decode_sequence(encoder_test_word_input_data[0].reshape(1,max_input_sequence,input_dimension))\n",
        "print(decode_seq)\n",
        "printTargetWord(decode_seq[:-1])\n"
      ],
      "execution_count": 100,
      "outputs": [
        {
          "output_type": "stream",
          "text": [
            "X_test_word shape:  (1, 6, 129)\n",
            "X_test_word_padded shape:  (1, 21, 129)\n",
            "[22, 47, 51, 0]\n"
          ],
          "name": "stdout"
        },
        {
          "output_type": "execute_result",
          "data": {
            "application/vnd.google.colaboratory.intrinsic+json": {
              "type": "string"
            },
            "text/plain": [
              "'कमल'"
            ]
          },
          "metadata": {
            "tags": []
          },
          "execution_count": 100
        }
      ]
    },
    {
      "cell_type": "code",
      "metadata": {
        "colab": {
          "base_uri": "https://localhost:8080/"
        },
        "id": "A1docxhAi3Ld",
        "outputId": "78355d36-346c-4e10-c968-aa2df971e125"
      },
      "source": [
        "randomlist = []\n",
        "for i in range(0,10):\n",
        "    n = random.randint(100,1000)\n",
        "    randomlist.append(n)\n",
        "print(randomlist)\n",
        "for seq_index in randomlist:\n",
        "    # Take one sequence (part of the training set)\n",
        "    # for trying out decoding.\n",
        "    input_seq = encoder_input_test[seq_index : seq_index + 1]\n",
        "    decoded_sentence = decode_sequence(input_seq)\n",
        "    print(\"-\")\n",
        "    #print(\"Input sentence:\", input_texts[seq_index])\n",
        "    print(\"Input sentence:\", train_input_texts[seq_index])\n",
        "    print(\"Decoded sentence:\", printTargetWord(decoded_sentence))"
      ],
      "execution_count": 41,
      "outputs": [
        {
          "output_type": "stream",
          "text": [
            "[658, 109, 711, 655, 266, 429, 938, 229, 115, 644]\n",
            "-\n",
            "Input sentence: adhikarhin\n",
            "Decoded sentence: कंपोसर-PAD-\n",
            "-\n",
            "Input sentence: antrikshyatri\n",
            "Decoded sentence: अनुदित-PAD-\n",
            "-\n",
            "Input sentence: adhishthan\n",
            "Decoded sentence: कामतार-PAD-\n",
            "-\n",
            "Input sentence: adhikarsheter\n",
            "Decoded sentence: कंटेपमरे-PAD-\n",
            "-\n",
            "Input sentence: akeli\n",
            "Decoded sentence: आगमान-PAD-\n",
            "-\n",
            "Input sentence: ajanta\n",
            "Decoded sentence: वेइनिंग-PAD-\n",
            "-\n",
            "Input sentence: anupalabdh\n",
            "Decoded sentence: खींचाकर-PAD-\n",
            "-\n",
            "Input sentence: karmnyata\n",
            "Decoded sentence: अष्टकता-PAD-\n",
            "-\n",
            "Input sentence: antaron\n",
            "Decoded sentence: अपरिवर्तनशील-PAD-\n",
            "-\n",
            "Input sentence: adhikaansh\n",
            "Decoded sentence: औद्योगिकारान-PAD-\n"
          ],
          "name": "stdout"
        }
      ]
    },
    {
      "cell_type": "code",
      "metadata": {
        "colab": {
          "base_uri": "https://localhost:8080/",
          "height": 35
        },
        "id": "DVN7veAtkctK",
        "outputId": "92303c84-57e7-4e2f-89a6-d31920d069a2"
      },
      "source": [
        "seq=[2,4,5]\n",
        "printTargetWord(seq)"
      ],
      "execution_count": 37,
      "outputs": [
        {
          "output_type": "execute_result",
          "data": {
            "application/vnd.google.colaboratory.intrinsic+json": {
              "type": "string"
            },
            "text/plain": [
              "'ँःऄ'"
            ]
          },
          "metadata": {
            "tags": []
          },
          "execution_count": 37
        }
      ]
    },
    {
      "cell_type": "code",
      "metadata": {
        "id": "enlZhatp50kS"
      },
      "source": [
        ""
      ],
      "execution_count": null,
      "outputs": []
    },
    {
      "cell_type": "code",
      "metadata": {
        "id": "AO4L3iaa50nE"
      },
      "source": [
        ""
      ],
      "execution_count": null,
      "outputs": []
    },
    {
      "cell_type": "code",
      "metadata": {
        "id": "6pt9g7oz50pm"
      },
      "source": [
        ""
      ],
      "execution_count": null,
      "outputs": []
    },
    {
      "cell_type": "code",
      "metadata": {
        "id": "8CujdETz50sh"
      },
      "source": [
        ""
      ],
      "execution_count": null,
      "outputs": []
    },
    {
      "cell_type": "code",
      "metadata": {
        "id": "BxDQ6u6h50vL"
      },
      "source": [
        ""
      ],
      "execution_count": null,
      "outputs": []
    },
    {
      "cell_type": "code",
      "metadata": {
        "id": "238yqh9850xx"
      },
      "source": [
        ""
      ],
      "execution_count": null,
      "outputs": []
    },
    {
      "cell_type": "code",
      "metadata": {
        "id": "K_8tONOe501V"
      },
      "source": [
        "\n",
        "# load doc into memory\n",
        "def load_doc(filename):\n",
        "\t# open the file as read only\n",
        "\tfile = open(filename, 'r')\n",
        "\t# read all text\n",
        "\ttext = file.read()\n",
        "\t# close the file\n",
        "\tfile.close()\n",
        "\treturn text\n"
      ],
      "execution_count": 81,
      "outputs": []
    },
    {
      "cell_type": "code",
      "metadata": {
        "colab": {
          "base_uri": "https://localhost:8080/"
        },
        "id": "gENm_UQAJyP2",
        "outputId": "5d162ff9-7081-46e3-e66c-ed8567f12a13"
      },
      "source": [
        "\n",
        "# load text\n",
        "raw_text = load_doc('rhyme.txt')\n",
        "print(raw_text)\n"
      ],
      "execution_count": 82,
      "outputs": [
        {
          "output_type": "stream",
          "text": [
            "\n",
            "Sing a song of sixpence,\n",
            "A pocket full of rye.\n",
            "Four and twenty blackbirds,\n",
            "Baked in a pie.\n",
            " \n",
            "When the pie was opened\n",
            "The birds began to sing;\n",
            "Wasn't that a dainty dish,\n",
            "To set before the king.\n",
            " \n",
            "The king was in his counting house,\n",
            "Counting out his money;\n",
            "The queen was in the parlour,\n",
            "Eating bread and honey.\n",
            " \n",
            "The maid was in the garden,\n",
            "Hanging out the clothes,\n",
            "When down came a blackbird\n",
            "And pecked off her nose.\n"
          ],
          "name": "stdout"
        }
      ]
    },
    {
      "cell_type": "code",
      "metadata": {
        "id": "KqYxgU4cJ5Ef"
      },
      "source": [
        "# clean\n",
        "tokens = raw_text.split()\n",
        "raw_text = ' '.join(tokens)"
      ],
      "execution_count": 83,
      "outputs": []
    },
    {
      "cell_type": "code",
      "metadata": {
        "colab": {
          "base_uri": "https://localhost:8080/",
          "height": 69
        },
        "id": "CjOT1s3wKFgA",
        "outputId": "fae2968c-422d-43d9-f8ae-45f2aa0508d1"
      },
      "source": [
        "raw_text"
      ],
      "execution_count": 85,
      "outputs": [
        {
          "output_type": "execute_result",
          "data": {
            "application/vnd.google.colaboratory.intrinsic+json": {
              "type": "string"
            },
            "text/plain": [
              "\"Sing a song of sixpence, A pocket full of rye. Four and twenty blackbirds, Baked in a pie. When the pie was opened The birds began to sing; Wasn't that a dainty dish, To set before the king. The king was in his counting house, Counting out his money; The queen was in the parlour, Eating bread and honey. The maid was in the garden, Hanging out the clothes, When down came a blackbird And pecked off her nose.\""
            ]
          },
          "metadata": {
            "tags": []
          },
          "execution_count": 85
        }
      ]
    },
    {
      "cell_type": "code",
      "metadata": {
        "colab": {
          "base_uri": "https://localhost:8080/",
          "height": 128
        },
        "id": "68cPRUXEKDIv",
        "outputId": "e4195540-1dba-48ab-e657-cd27d0eb7b01"
      },
      "source": [
        "length = 10\n",
        "sequences = list()\n",
        "for i in range(length, len(raw_text)):\n",
        "    # select sequence of tokens\n",
        "\tseq = raw_text[i-length:i+1]\n",
        "    print(seq)\n",
        "\tsequences.append(seq)\n",
        "print('Total Sequences: %d' % len(sequences))"
      ],
      "execution_count": 89,
      "outputs": [
        {
          "output_type": "error",
          "ename": "IndentationError",
          "evalue": "ignored",
          "traceback": [
            "\u001b[0;36m  File \u001b[0;32m\"<ipython-input-89-492e60baeb8a>\"\u001b[0;36m, line \u001b[0;32m6\u001b[0m\n\u001b[0;31m    print(seq)\u001b[0m\n\u001b[0m              ^\u001b[0m\n\u001b[0;31mIndentationError\u001b[0m\u001b[0;31m:\u001b[0m unindent does not match any outer indentation level\n"
          ]
        }
      ]
    },
    {
      "cell_type": "code",
      "metadata": {
        "colab": {
          "base_uri": "https://localhost:8080/"
        },
        "id": "nREB54saKhu-",
        "outputId": "d55041b0-ff40-4621-f470-a3ccee963d7c"
      },
      "source": [
        "length = 10\n",
        "sequences = list()\n",
        "for i in range(length, len(raw_text)):\n",
        "    seq = raw_text[i-length:i+1]\n",
        "    print(seq)\n",
        "    sequences.append(seq)\n",
        "print('Total Sequences: %d' % len(sequences))\n",
        "\n"
      ],
      "execution_count": 91,
      "outputs": [
        {
          "output_type": "stream",
          "text": [
            "Sing a song\n",
            "ing a song \n",
            "ng a song o\n",
            "g a song of\n",
            " a song of \n",
            "a song of s\n",
            " song of si\n",
            "song of six\n",
            "ong of sixp\n",
            "ng of sixpe\n",
            "g of sixpen\n",
            " of sixpenc\n",
            "of sixpence\n",
            "f sixpence,\n",
            " sixpence, \n",
            "sixpence, A\n",
            "ixpence, A \n",
            "xpence, A p\n",
            "pence, A po\n",
            "ence, A poc\n",
            "nce, A pock\n",
            "ce, A pocke\n",
            "e, A pocket\n",
            ", A pocket \n",
            " A pocket f\n",
            "A pocket fu\n",
            " pocket ful\n",
            "pocket full\n",
            "ocket full \n",
            "cket full o\n",
            "ket full of\n",
            "et full of \n",
            "t full of r\n",
            " full of ry\n",
            "full of rye\n",
            "ull of rye.\n",
            "ll of rye. \n",
            "l of rye. F\n",
            " of rye. Fo\n",
            "of rye. Fou\n",
            "f rye. Four\n",
            " rye. Four \n",
            "rye. Four a\n",
            "ye. Four an\n",
            "e. Four and\n",
            ". Four and \n",
            " Four and t\n",
            "Four and tw\n",
            "our and twe\n",
            "ur and twen\n",
            "r and twent\n",
            " and twenty\n",
            "and twenty \n",
            "nd twenty b\n",
            "d twenty bl\n",
            " twenty bla\n",
            "twenty blac\n",
            "wenty black\n",
            "enty blackb\n",
            "nty blackbi\n",
            "ty blackbir\n",
            "y blackbird\n",
            " blackbirds\n",
            "blackbirds,\n",
            "lackbirds, \n",
            "ackbirds, B\n",
            "ckbirds, Ba\n",
            "kbirds, Bak\n",
            "birds, Bake\n",
            "irds, Baked\n",
            "rds, Baked \n",
            "ds, Baked i\n",
            "s, Baked in\n",
            ", Baked in \n",
            " Baked in a\n",
            "Baked in a \n",
            "aked in a p\n",
            "ked in a pi\n",
            "ed in a pie\n",
            "d in a pie.\n",
            " in a pie. \n",
            "in a pie. W\n",
            "n a pie. Wh\n",
            " a pie. Whe\n",
            "a pie. When\n",
            " pie. When \n",
            "pie. When t\n",
            "ie. When th\n",
            "e. When the\n",
            ". When the \n",
            " When the p\n",
            "When the pi\n",
            "hen the pie\n",
            "en the pie \n",
            "n the pie w\n",
            " the pie wa\n",
            "the pie was\n",
            "he pie was \n",
            "e pie was o\n",
            " pie was op\n",
            "pie was ope\n",
            "ie was open\n",
            "e was opene\n",
            " was opened\n",
            "was opened \n",
            "as opened T\n",
            "s opened Th\n",
            " opened The\n",
            "opened The \n",
            "pened The b\n",
            "ened The bi\n",
            "ned The bir\n",
            "ed The bird\n",
            "d The birds\n",
            " The birds \n",
            "The birds b\n",
            "he birds be\n",
            "e birds beg\n",
            " birds bega\n",
            "birds began\n",
            "irds began \n",
            "rds began t\n",
            "ds began to\n",
            "s began to \n",
            " began to s\n",
            "began to si\n",
            "egan to sin\n",
            "gan to sing\n",
            "an to sing;\n",
            "n to sing; \n",
            " to sing; W\n",
            "to sing; Wa\n",
            "o sing; Was\n",
            " sing; Wasn\n",
            "sing; Wasn'\n",
            "ing; Wasn't\n",
            "ng; Wasn't \n",
            "g; Wasn't t\n",
            "; Wasn't th\n",
            " Wasn't tha\n",
            "Wasn't that\n",
            "asn't that \n",
            "sn't that a\n",
            "n't that a \n",
            "'t that a d\n",
            "t that a da\n",
            " that a dai\n",
            "that a dain\n",
            "hat a daint\n",
            "at a dainty\n",
            "t a dainty \n",
            " a dainty d\n",
            "a dainty di\n",
            " dainty dis\n",
            "dainty dish\n",
            "ainty dish,\n",
            "inty dish, \n",
            "nty dish, T\n",
            "ty dish, To\n",
            "y dish, To \n",
            " dish, To s\n",
            "dish, To se\n",
            "ish, To set\n",
            "sh, To set \n",
            "h, To set b\n",
            ", To set be\n",
            " To set bef\n",
            "To set befo\n",
            "o set befor\n",
            " set before\n",
            "set before \n",
            "et before t\n",
            "t before th\n",
            " before the\n",
            "before the \n",
            "efore the k\n",
            "fore the ki\n",
            "ore the kin\n",
            "re the king\n",
            "e the king.\n",
            " the king. \n",
            "the king. T\n",
            "he king. Th\n",
            "e king. The\n",
            " king. The \n",
            "king. The k\n",
            "ing. The ki\n",
            "ng. The kin\n",
            "g. The king\n",
            ". The king \n",
            " The king w\n",
            "The king wa\n",
            "he king was\n",
            "e king was \n",
            " king was i\n",
            "king was in\n",
            "ing was in \n",
            "ng was in h\n",
            "g was in hi\n",
            " was in his\n",
            "was in his \n",
            "as in his c\n",
            "s in his co\n",
            " in his cou\n",
            "in his coun\n",
            "n his count\n",
            " his counti\n",
            "his countin\n",
            "is counting\n",
            "s counting \n",
            " counting h\n",
            "counting ho\n",
            "ounting hou\n",
            "unting hous\n",
            "nting house\n",
            "ting house,\n",
            "ing house, \n",
            "ng house, C\n",
            "g house, Co\n",
            " house, Cou\n",
            "house, Coun\n",
            "ouse, Count\n",
            "use, Counti\n",
            "se, Countin\n",
            "e, Counting\n",
            ", Counting \n",
            " Counting o\n",
            "Counting ou\n",
            "ounting out\n",
            "unting out \n",
            "nting out h\n",
            "ting out hi\n",
            "ing out his\n",
            "ng out his \n",
            "g out his m\n",
            " out his mo\n",
            "out his mon\n",
            "ut his mone\n",
            "t his money\n",
            " his money;\n",
            "his money; \n",
            "is money; T\n",
            "s money; Th\n",
            " money; The\n",
            "money; The \n",
            "oney; The q\n",
            "ney; The qu\n",
            "ey; The que\n",
            "y; The quee\n",
            "; The queen\n",
            " The queen \n",
            "The queen w\n",
            "he queen wa\n",
            "e queen was\n",
            " queen was \n",
            "queen was i\n",
            "ueen was in\n",
            "een was in \n",
            "en was in t\n",
            "n was in th\n",
            " was in the\n",
            "was in the \n",
            "as in the p\n",
            "s in the pa\n",
            " in the par\n",
            "in the parl\n",
            "n the parlo\n",
            " the parlou\n",
            "the parlour\n",
            "he parlour,\n",
            "e parlour, \n",
            " parlour, E\n",
            "parlour, Ea\n",
            "arlour, Eat\n",
            "rlour, Eati\n",
            "lour, Eatin\n",
            "our, Eating\n",
            "ur, Eating \n",
            "r, Eating b\n",
            ", Eating br\n",
            " Eating bre\n",
            "Eating brea\n",
            "ating bread\n",
            "ting bread \n",
            "ing bread a\n",
            "ng bread an\n",
            "g bread and\n",
            " bread and \n",
            "bread and h\n",
            "read and ho\n",
            "ead and hon\n",
            "ad and hone\n",
            "d and honey\n",
            " and honey.\n",
            "and honey. \n",
            "nd honey. T\n",
            "d honey. Th\n",
            " honey. The\n",
            "honey. The \n",
            "oney. The m\n",
            "ney. The ma\n",
            "ey. The mai\n",
            "y. The maid\n",
            ". The maid \n",
            " The maid w\n",
            "The maid wa\n",
            "he maid was\n",
            "e maid was \n",
            " maid was i\n",
            "maid was in\n",
            "aid was in \n",
            "id was in t\n",
            "d was in th\n",
            " was in the\n",
            "was in the \n",
            "as in the g\n",
            "s in the ga\n",
            " in the gar\n",
            "in the gard\n",
            "n the garde\n",
            " the garden\n",
            "the garden,\n",
            "he garden, \n",
            "e garden, H\n",
            " garden, Ha\n",
            "garden, Han\n",
            "arden, Hang\n",
            "rden, Hangi\n",
            "den, Hangin\n",
            "en, Hanging\n",
            "n, Hanging \n",
            ", Hanging o\n",
            " Hanging ou\n",
            "Hanging out\n",
            "anging out \n",
            "nging out t\n",
            "ging out th\n",
            "ing out the\n",
            "ng out the \n",
            "g out the c\n",
            " out the cl\n",
            "out the clo\n",
            "ut the clot\n",
            "t the cloth\n",
            " the clothe\n",
            "the clothes\n",
            "he clothes,\n",
            "e clothes, \n",
            " clothes, W\n",
            "clothes, Wh\n",
            "lothes, Whe\n",
            "othes, When\n",
            "thes, When \n",
            "hes, When d\n",
            "es, When do\n",
            "s, When dow\n",
            ", When down\n",
            " When down \n",
            "When down c\n",
            "hen down ca\n",
            "en down cam\n",
            "n down came\n",
            " down came \n",
            "down came a\n",
            "own came a \n",
            "wn came a b\n",
            "n came a bl\n",
            " came a bla\n",
            "came a blac\n",
            "ame a black\n",
            "me a blackb\n",
            "e a blackbi\n",
            " a blackbir\n",
            "a blackbird\n",
            " blackbird \n",
            "blackbird A\n",
            "lackbird An\n",
            "ackbird And\n",
            "ckbird And \n",
            "kbird And p\n",
            "bird And pe\n",
            "ird And pec\n",
            "rd And peck\n",
            "d And pecke\n",
            " And pecked\n",
            "And pecked \n",
            "nd pecked o\n",
            "d pecked of\n",
            " pecked off\n",
            "pecked off \n",
            "ecked off h\n",
            "cked off he\n",
            "ked off her\n",
            "ed off her \n",
            "d off her n\n",
            " off her no\n",
            "off her nos\n",
            "ff her nose\n",
            "f her nose.\n",
            "Total Sequences: 399\n"
          ],
          "name": "stdout"
        }
      ]
    },
    {
      "cell_type": "code",
      "metadata": {
        "id": "sAXNA_a9KVO7"
      },
      "source": [
        "def save_doc(lines, filename):\n",
        "\tdata = '\\n'.join(lines)\n",
        "\tfile = open(filename, 'w')\n",
        "\tfile.write(data)\n",
        "\tfile.close()"
      ],
      "execution_count": 92,
      "outputs": []
    }
  ]
}